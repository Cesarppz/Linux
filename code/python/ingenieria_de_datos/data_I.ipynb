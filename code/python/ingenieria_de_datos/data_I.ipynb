{
 "cells": [
  {
   "cell_type": "code",
   "execution_count": 1,
   "metadata": {},
   "outputs": [],
   "source": [
    "import numpy as np\n",
    "import pandas as pd\n",
    "import matplotlib.pyplot as plt\n",
    "import requests\n",
    "from bs4 import BeautifulSoup"
   ]
  },
  {
   "cell_type": "code",
   "execution_count": 114,
   "metadata": {},
   "outputs": [
    {
     "name": "stdout",
     "output_type": "stream",
     "text": [
      "data_I.ipynb         eluniversal_21_02_17.csv  \u001b[0m\u001b[01;34mscraper\u001b[0m/\r\n",
      "elpais_21_02_17.csv  newspaper_receipe.py\r\n"
     ]
    }
   ],
   "source": [
    "%ls"
   ]
  },
  {
   "cell_type": "code",
   "execution_count": 3,
   "metadata": {},
   "outputs": [],
   "source": [
    "pd.options.display.max_rows = 10"
   ]
  },
  {
   "cell_type": "code",
   "execution_count": 68,
   "metadata": {},
   "outputs": [
    {
     "data": {
      "text/html": [
       "<div>\n",
       "<style scoped>\n",
       "    .dataframe tbody tr th:only-of-type {\n",
       "        vertical-align: middle;\n",
       "    }\n",
       "\n",
       "    .dataframe tbody tr th {\n",
       "        vertical-align: top;\n",
       "    }\n",
       "\n",
       "    .dataframe thead th {\n",
       "        text-align: right;\n",
       "    }\n",
       "</style>\n",
       "<table border=\"1\" class=\"dataframe\">\n",
       "  <thead>\n",
       "    <tr style=\"text-align: right;\">\n",
       "      <th></th>\n",
       "      <th>body</th>\n",
       "      <th>title</th>\n",
       "      <th>url</th>\n",
       "    </tr>\n",
       "  </thead>\n",
       "  <tbody>\n",
       "    <tr>\n",
       "      <th>0</th>\n",
       "      <td>{'Detrás de cada una de las contribuciones, ha...</td>\n",
       "      <td>¿Quién es Alem2112?</td>\n",
       "      <td>https://www.pagina12.com.ar/324327-quien-es-al...</td>\n",
       "    </tr>\n",
       "    <tr>\n",
       "      <th>1</th>\n",
       "      <td>{'El gobierno autónomo palestino envió este mi...</td>\n",
       "      <td>Israel permitió finalmente el ingreso a Gaza d...</td>\n",
       "      <td>https://www.pagina12.com.ar/324312-israel-perm...</td>\n",
       "    </tr>\n",
       "  </tbody>\n",
       "</table>\n",
       "</div>"
      ],
      "text/plain": [
       "                                                body  \\\n",
       "0  {'Detrás de cada una de las contribuciones, ha...   \n",
       "1  {'El gobierno autónomo palestino envió este mi...   \n",
       "\n",
       "                                               title  \\\n",
       "0                                ¿Quién es Alem2112?   \n",
       "1  Israel permitió finalmente el ingreso a Gaza d...   \n",
       "\n",
       "                                                 url  \n",
       "0  https://www.pagina12.com.ar/324327-quien-es-al...  \n",
       "1  https://www.pagina12.com.ar/324312-israel-perm...  "
      ]
     },
     "execution_count": 68,
     "metadata": {},
     "output_type": "execute_result"
    }
   ],
   "source": [
    "df_elpais = pd.read_csv('scraper/elpais_21_02_17_articles.csv',encoding='utf-8')\n",
    "df_elpais.head(2)"
   ]
  },
  {
   "cell_type": "code",
   "execution_count": 65,
   "metadata": {},
   "outputs": [
    {
     "data": {
      "text/html": [
       "<div>\n",
       "<style scoped>\n",
       "    .dataframe tbody tr th:only-of-type {\n",
       "        vertical-align: middle;\n",
       "    }\n",
       "\n",
       "    .dataframe tbody tr th {\n",
       "        vertical-align: top;\n",
       "    }\n",
       "\n",
       "    .dataframe thead th {\n",
       "        text-align: right;\n",
       "    }\n",
       "</style>\n",
       "<table border=\"1\" class=\"dataframe\">\n",
       "  <thead>\n",
       "    <tr style=\"text-align: right;\">\n",
       "      <th></th>\n",
       "      <th>body</th>\n",
       "      <th>title</th>\n",
       "      <th>url</th>\n",
       "    </tr>\n",
       "  </thead>\n",
       "  <tbody>\n",
       "    <tr>\n",
       "      <th>19</th>\n",
       "      <td>Bogotá.- Con el cierre de cafés y oficinas en ...</td>\n",
       "      <td>El café, un sobreviviente de la pandemia</td>\n",
       "      <td>http://www.eluniversal.com/economia/90566/el-c...</td>\n",
       "    </tr>\n",
       "    <tr>\n",
       "      <th>27</th>\n",
       "      <td>Prensa Polisotillo.- Este miércoles tres miemb...</td>\n",
       "      <td>Polisotillo capturó a miembros de grupo delict...</td>\n",
       "      <td>http://www.eluniversal.com/sucesos/90337/polis...</td>\n",
       "    </tr>\n",
       "  </tbody>\n",
       "</table>\n",
       "</div>"
      ],
      "text/plain": [
       "                                                 body  \\\n",
       "19  Bogotá.- Con el cierre de cafés y oficinas en ...   \n",
       "27  Prensa Polisotillo.- Este miércoles tres miemb...   \n",
       "\n",
       "                                                title  \\\n",
       "19           El café, un sobreviviente de la pandemia   \n",
       "27  Polisotillo capturó a miembros de grupo delict...   \n",
       "\n",
       "                                                  url  \n",
       "19  http://www.eluniversal.com/economia/90566/el-c...  \n",
       "27  http://www.eluniversal.com/sucesos/90337/polis...  "
      ]
     },
     "execution_count": 65,
     "metadata": {},
     "output_type": "execute_result"
    }
   ],
   "source": [
    "df_eluniversal = pd.read_csv('scraper/eluniversal_21_02_15_articles.csv',encoding='utf-8')\n",
    "df_eluniversal.sample(2)"
   ]
  },
  {
   "cell_type": "code",
   "execution_count": 13,
   "metadata": {},
   "outputs": [
    {
     "data": {
      "text/plain": [
       "0     False\n",
       "1     False\n",
       "2     False\n",
       "3     False\n",
       "4     False\n",
       "      ...  \n",
       "31    False\n",
       "32    False\n",
       "33    False\n",
       "34    False\n",
       "35    False\n",
       "Name: title, Length: 36, dtype: bool"
      ]
     },
     "execution_count": 13,
     "metadata": {},
     "output_type": "execute_result"
    }
   ],
   "source": [
    "mask = df_eluniversal['title'].isna()\n",
    "mask"
   ]
  },
  {
   "cell_type": "code",
   "execution_count": 6,
   "metadata": {},
   "outputs": [
    {
     "data": {
      "text/plain": [
       "0     Una joven de EEUU se peina con pegamento y lue...\n",
       "1     Falleció Leopoldo Luque, figura de Argentina e...\n",
       "2     Realizaron Gran toma Cultural y Deportiva en e...\n",
       "3                  Yolanda Moreno, pasión por Venezuela\n",
       "4                    Venezuela es territorio retornable\n",
       "                            ...                        \n",
       "31         Los duques de Sussex esperan su segundo hijo\n",
       "32    El Partido Republicano entra en combustión con...\n",
       "33    El Athletic de Bilbao se instala en la zona tr...\n",
       "34                      Lara recibirá vacunas Sputnik V\n",
       "35    Asesinan a funcionario de la Dgcim en el estad...\n",
       "Name: title, Length: 36, dtype: object"
      ]
     },
     "execution_count": 6,
     "metadata": {},
     "output_type": "execute_result"
    }
   ],
   "source": [
    "df_eluniversal.loc[:,'title']"
   ]
  },
  {
   "cell_type": "code",
   "execution_count": 7,
   "metadata": {},
   "outputs": [
    {
     "name": "stdout",
     "output_type": "stream",
     "text": [
      "                                                  url\n",
      "27  http://www.eluniversal.com/sucesos/90337/polis...\n",
      "28  http://www.eluniversal.com/el-universal/90385/...\n",
      "13  http://www.eluniversal.com/entretenimiento/905...\n",
      "12  http://www.eluniversal.com/economia/90569/rest...\n",
      "30  http://www.eluniversal.com/sociales/90463/en-b...\n"
     ]
    }
   ],
   "source": [
    "print(df_eluniversal[['url']].sample(5))"
   ]
  },
  {
   "cell_type": "code",
   "execution_count": 8,
   "metadata": {},
   "outputs": [
    {
     "data": {
      "text/html": [
       "<div>\n",
       "<style scoped>\n",
       "    .dataframe tbody tr th:only-of-type {\n",
       "        vertical-align: middle;\n",
       "    }\n",
       "\n",
       "    .dataframe tbody tr th {\n",
       "        vertical-align: top;\n",
       "    }\n",
       "\n",
       "    .dataframe thead th {\n",
       "        text-align: right;\n",
       "    }\n",
       "</style>\n",
       "<table border=\"1\" class=\"dataframe\">\n",
       "  <thead>\n",
       "    <tr style=\"text-align: right;\">\n",
       "      <th></th>\n",
       "      <th>url_title</th>\n",
       "    </tr>\n",
       "  </thead>\n",
       "  <tbody>\n",
       "    <tr>\n",
       "      <th>0</th>\n",
       "      <td>una joven de eeuu se peina con pegamento y lue...</td>\n",
       "    </tr>\n",
       "    <tr>\n",
       "      <th>1</th>\n",
       "      <td>fallecio leopoldo luque figura de argentina en...</td>\n",
       "    </tr>\n",
       "    <tr>\n",
       "      <th>2</th>\n",
       "      <td>realizaron gran toma cultural y deportiva en e...</td>\n",
       "    </tr>\n",
       "    <tr>\n",
       "      <th>3</th>\n",
       "      <td>yolanda moreno pasion por venezuela</td>\n",
       "    </tr>\n",
       "    <tr>\n",
       "      <th>4</th>\n",
       "      <td>venezuela es territorio retornable</td>\n",
       "    </tr>\n",
       "    <tr>\n",
       "      <th>...</th>\n",
       "      <td>...</td>\n",
       "    </tr>\n",
       "    <tr>\n",
       "      <th>31</th>\n",
       "      <td>los duques de sussex esperan su segundo hijo</td>\n",
       "    </tr>\n",
       "    <tr>\n",
       "      <th>32</th>\n",
       "      <td>el partido republicano entra en combustion con...</td>\n",
       "    </tr>\n",
       "    <tr>\n",
       "      <th>33</th>\n",
       "      <td>el athletic de bilbao se instala en la zona tr...</td>\n",
       "    </tr>\n",
       "    <tr>\n",
       "      <th>34</th>\n",
       "      <td>lara recibira vacunas sputnik v</td>\n",
       "    </tr>\n",
       "    <tr>\n",
       "      <th>35</th>\n",
       "      <td>asesinan a funcionario de la dgcim en el estad...</td>\n",
       "    </tr>\n",
       "  </tbody>\n",
       "</table>\n",
       "<p>36 rows × 1 columns</p>\n",
       "</div>"
      ],
      "text/plain": [
       "                                            url_title\n",
       "0   una joven de eeuu se peina con pegamento y lue...\n",
       "1   fallecio leopoldo luque figura de argentina en...\n",
       "2   realizaron gran toma cultural y deportiva en e...\n",
       "3                 yolanda moreno pasion por venezuela\n",
       "4                  venezuela es territorio retornable\n",
       "..                                                ...\n",
       "31       los duques de sussex esperan su segundo hijo\n",
       "32  el partido republicano entra en combustion con...\n",
       "33  el athletic de bilbao se instala en la zona tr...\n",
       "34                    lara recibira vacunas sputnik v\n",
       "35  asesinan a funcionario de la dgcim en el estad...\n",
       "\n",
       "[36 rows x 1 columns]"
      ]
     },
     "execution_count": 8,
     "metadata": {},
     "output_type": "execute_result"
    }
   ],
   "source": [
    "(df_eluniversal['url'].str\n",
    "                      .extract(r'(?P<url_title>[^/]+)$') #EXtraigo el titulo de la url\n",
    "                      .applymap(lambda x : x.split('-')) #Divido por los - que los separa\n",
    "                      .applymap(lambda x : ' '.join(x))) #Uno con espacios "
   ]
  },
  {
   "cell_type": "code",
   "execution_count": 16,
   "metadata": {},
   "outputs": [
    {
     "data": {
      "text/plain": [
       "Series([], Name: title, dtype: object)"
      ]
     },
     "execution_count": 16,
     "metadata": {},
     "output_type": "execute_result"
    }
   ],
   "source": [
    "df_eluniversal.loc[mask,'title']"
   ]
  },
  {
   "cell_type": "markdown",
   "metadata": {},
   "source": [
    "# Wrangling"
   ]
  },
  {
   "cell_type": "markdown",
   "metadata": {},
   "source": [
    "### Creo un hash para el índice "
   ]
  },
  {
   "cell_type": "code",
   "execution_count": 29,
   "metadata": {},
   "outputs": [],
   "source": [
    "import hashlib\n",
    "uid = (df_eluniversal['url'].apply(lambda row : hashlib.md5(bytes(row.encode())))\n",
    "                      .apply(lambda hash_object: hash_object.hexdigest() ) #Cambio el objeto hash a hexadecimal \n",
    ")\n",
    "df_eluniversal['uid'] = uid\n",
    "df_eluniversal.set_index('uid',inplace=True)"
   ]
  },
  {
   "cell_type": "code",
   "execution_count": 31,
   "metadata": {},
   "outputs": [
    {
     "data": {
      "text/html": [
       "<div>\n",
       "<style scoped>\n",
       "    .dataframe tbody tr th:only-of-type {\n",
       "        vertical-align: middle;\n",
       "    }\n",
       "\n",
       "    .dataframe tbody tr th {\n",
       "        vertical-align: top;\n",
       "    }\n",
       "\n",
       "    .dataframe thead th {\n",
       "        text-align: right;\n",
       "    }\n",
       "</style>\n",
       "<table border=\"1\" class=\"dataframe\">\n",
       "  <thead>\n",
       "    <tr style=\"text-align: right;\">\n",
       "      <th></th>\n",
       "      <th>body</th>\n",
       "      <th>title</th>\n",
       "      <th>url</th>\n",
       "    </tr>\n",
       "    <tr>\n",
       "      <th>uid</th>\n",
       "      <th></th>\n",
       "      <th></th>\n",
       "      <th></th>\n",
       "    </tr>\n",
       "  </thead>\n",
       "  <tbody>\n",
       "    <tr>\n",
       "      <th>2464e5b9ed947dcb85736e5d759cc143</th>\n",
       "      <td>Lara.- A Lara ya llegaron las cavas que almace...</td>\n",
       "      <td>Lara recibirá vacunas Sputnik V</td>\n",
       "      <td>http://www.eluniversal.com/venezuela/90589/lar...</td>\n",
       "    </tr>\n",
       "    <tr>\n",
       "      <th>2c47ddcadfedd2d5d4c0fe15e05111cf</th>\n",
       "      <td>Coca-Cola 1,25 litros, que se ofrece en botell...</td>\n",
       "      <td>Venezuela es territorio retornable</td>\n",
       "      <td>http://www.eluniversal.com/economia/90229/vene...</td>\n",
       "    </tr>\n",
       "  </tbody>\n",
       "</table>\n",
       "</div>"
      ],
      "text/plain": [
       "                                                                               body  \\\n",
       "uid                                                                                   \n",
       "2464e5b9ed947dcb85736e5d759cc143  Lara.- A Lara ya llegaron las cavas que almace...   \n",
       "2c47ddcadfedd2d5d4c0fe15e05111cf  Coca-Cola 1,25 litros, que se ofrece en botell...   \n",
       "\n",
       "                                                               title  \\\n",
       "uid                                                                    \n",
       "2464e5b9ed947dcb85736e5d759cc143     Lara recibirá vacunas Sputnik V   \n",
       "2c47ddcadfedd2d5d4c0fe15e05111cf  Venezuela es territorio retornable   \n",
       "\n",
       "                                                                                url  \n",
       "uid                                                                                  \n",
       "2464e5b9ed947dcb85736e5d759cc143  http://www.eluniversal.com/venezuela/90589/lar...  \n",
       "2c47ddcadfedd2d5d4c0fe15e05111cf  http://www.eluniversal.com/economia/90229/vene...  "
      ]
     },
     "execution_count": 31,
     "metadata": {},
     "output_type": "execute_result"
    }
   ],
   "source": [
    "df_eluniversal.sample(2)"
   ]
  },
  {
   "cell_type": "markdown",
   "metadata": {},
   "source": [
    "### Remplazar carácteres indeciados del body"
   ]
  },
  {
   "cell_type": "code",
   "execution_count": 40,
   "metadata": {},
   "outputs": [],
   "source": [
    "import re\n",
    "stripped_body = df_eluniversal['body'].apply(lambda row : re.sub(r'[{|}|\\n]+','',row))"
   ]
  },
  {
   "cell_type": "code",
   "execution_count": 58,
   "metadata": {},
   "outputs": [
    {
     "data": {
      "text/plain": [
       "uid\n",
       "c7fdc36343e74ea37cb2e9de631ea661    Una joven estadounidense que se peinó con pega...\n",
       "8ca7525c582d7b2cf339cee04dd6ad93    Buenos Aires.- Leopoldo Jacinto Luque, autor d...\n",
       "c89d2c43a9d3c2f53cd0fd3ffd9f0c05    A propósito de los Carnavales Caracas Caribe 2...\n",
       "4ae1b2a86d4cb32eaf3b74236abc33cb    Yolanda Moreno es la nueva embajadora #MarcaVe...\n",
       "2c47ddcadfedd2d5d4c0fe15e05111cf    Coca-Cola 1,25 litros, que se ofrece en botell...\n",
       "                                                          ...                        \n",
       "d8f4ef4ab60e9d17b4a775bea793524d    Los Sussex confirmaron que esperan su segundo ...\n",
       "8a99f53536e6f815c39023f3254bf510    El segundo juicio por impeachment a Donald Tru...\n",
       "f9ce1f89f61346fd9b589d37c37aa39c    Madrid.- El Athletic de Bilbao arrasó en su vi...\n",
       "2464e5b9ed947dcb85736e5d759cc143    Lara.- A Lara ya llegaron las cavas que almace...\n",
       "ef82fafe03773a0d713855f8aeddfc32    Un hombre identificado como Freddy Richardy En...\n",
       "Name: body, Length: 36, dtype: object"
      ]
     },
     "execution_count": 58,
     "metadata": {},
     "output_type": "execute_result"
    }
   ],
   "source": [
    "stripped_body2 = (df_eluniversal['body']\n",
    "    .apply(lambda row : list(row))\n",
    "    .apply(lambda letter : list(map(lambda letter: letter.replace('\\n','').replace('{','').replace('}','') , letter)))\n",
    "    .apply(lambda letter : ''.join(letter))\n",
    " \n",
    ")\n",
    "stripped_body2"
   ]
  },
  {
   "cell_type": "markdown",
   "metadata": {},
   "source": [
    "### Tokenizar las palabras\n",
    "Para saber cuantas palabras significantes hay "
   ]
  },
  {
   "cell_type": "code",
   "execution_count": 71,
   "metadata": {},
   "outputs": [],
   "source": [
    "import nltk\n",
    "from nltk.corpus import stopwords"
   ]
  },
  {
   "cell_type": "code",
   "execution_count": 72,
   "metadata": {},
   "outputs": [
    {
     "name": "stderr",
     "output_type": "stream",
     "text": [
      "[nltk_data] Downloading package punkt to /home/cesar/nltk_data...\n",
      "[nltk_data]   Unzipping tokenizers/punkt.zip.\n",
      "[nltk_data] Downloading package stopwords to /home/cesar/nltk_data...\n",
      "[nltk_data]   Unzipping corpora/stopwords.zip.\n"
     ]
    },
    {
     "data": {
      "text/plain": [
       "True"
      ]
     },
     "execution_count": 72,
     "metadata": {},
     "output_type": "execute_result"
    }
   ],
   "source": [
    "#nltk.download('punkt')     #Solo se tiene que hacer una vez \n",
    "#nltk.download('stopwords')"
   ]
  },
  {
   "cell_type": "code",
   "execution_count": 105,
   "metadata": {},
   "outputs": [],
   "source": [
    "stop_words = set(stopwords.words('spanish'))  #Creo un set con las stop words que son paralbras como la, el. Que no suman valor \n",
    "\n",
    "def token_column(df,name_column):\n",
    "    return (df\n",
    "            .dropna()\n",
    "            .apply(lambda row : nltk.word_tokenize(row[name_column]),axis = 1) #Creo los token, que son las palabras\n",
    "            .apply(lambda tokens : list(filter(lambda word: word.isalpha(),tokens)))# Filtro todas las a\n",
    "            .apply(lambda tokens : list(map(lambda word:word.lower(), tokens))) #Coloco todas en minúscula para que se puedan comparar con la lista de stops words \n",
    "            .apply(lambda tokens : list(filter(lambda word: word not in stop_words , tokens)))#Filtro palabras quenno esten en las stop words\n",
    "            .apply(lambda tokens : len(tokens))\n",
    "           )\n"
   ]
  },
  {
   "cell_type": "code",
   "execution_count": 185,
   "metadata": {},
   "outputs": [
    {
     "data": {
      "text/html": [
       "<div>\n",
       "<style scoped>\n",
       "    .dataframe tbody tr th:only-of-type {\n",
       "        vertical-align: middle;\n",
       "    }\n",
       "\n",
       "    .dataframe tbody tr th {\n",
       "        vertical-align: top;\n",
       "    }\n",
       "\n",
       "    .dataframe thead th {\n",
       "        text-align: right;\n",
       "    }\n",
       "</style>\n",
       "<table border=\"1\" class=\"dataframe\">\n",
       "  <thead>\n",
       "    <tr style=\"text-align: right;\">\n",
       "      <th></th>\n",
       "      <th>title</th>\n",
       "      <th>num_of_tokens</th>\n",
       "    </tr>\n",
       "  </thead>\n",
       "  <tbody>\n",
       "    <tr>\n",
       "      <th>0</th>\n",
       "      <td>Una joven de EEUU se peina con pegamento y lue...</td>\n",
       "      <td>8</td>\n",
       "    </tr>\n",
       "    <tr>\n",
       "      <th>1</th>\n",
       "      <td>Falleció Leopoldo Luque, figura de Argentina e...</td>\n",
       "      <td>7</td>\n",
       "    </tr>\n",
       "    <tr>\n",
       "      <th>2</th>\n",
       "      <td>Realizaron Gran toma Cultural y Deportiva en e...</td>\n",
       "      <td>8</td>\n",
       "    </tr>\n",
       "    <tr>\n",
       "      <th>3</th>\n",
       "      <td>Yolanda Moreno, pasión por Venezuela</td>\n",
       "      <td>4</td>\n",
       "    </tr>\n",
       "    <tr>\n",
       "      <th>4</th>\n",
       "      <td>Venezuela es territorio retornable</td>\n",
       "      <td>3</td>\n",
       "    </tr>\n",
       "  </tbody>\n",
       "</table>\n",
       "</div>"
      ],
      "text/plain": [
       "                                               title  num_of_tokens\n",
       "0  Una joven de EEUU se peina con pegamento y lue...              8\n",
       "1  Falleció Leopoldo Luque, figura de Argentina e...              7\n",
       "2  Realizaron Gran toma Cultural y Deportiva en e...              8\n",
       "3               Yolanda Moreno, pasión por Venezuela              4\n",
       "4                 Venezuela es territorio retornable              3"
      ]
     },
     "execution_count": 185,
     "metadata": {},
     "output_type": "execute_result"
    }
   ],
   "source": [
    "df_eluniversal[['title','num_of_tokens']].head()"
   ]
  },
  {
   "cell_type": "markdown",
   "metadata": {},
   "source": [
    "# Valores repetidos\n",
    "Eliminar los valores repetidos"
   ]
  },
  {
   "cell_type": "code",
   "execution_count": 207,
   "metadata": {},
   "outputs": [
    {
     "data": {
      "text/plain": [
       "Venezuela es territorio retornable                                                                                 1\n",
       "Pueblo protagonista                                                                                                1\n",
       "Un concurso para celebrar el mes más romántico del año                                                             1\n",
       "El Partido Republicano entra en combustión con el voto del ‘impeachment’ a Trump                                   1\n",
       "Gladys Chacón: \"Infraestructura educativa en Venezuela no está en condiciones para retomar clases presenciales\"    1\n",
       "                                                                                                                  ..\n",
       "Los duques de Sussex esperan su segundo hijo                                                                       1\n",
       "Una joven de EEUU se peina con pegamento y luego pide ayuda en internet                                            1\n",
       "Yolanda Moreno, pasión por Venezuela                                                                               1\n",
       "Bodega Navarro Correas nuevamente en Venezuela                                                                     1\n",
       "Ex esposa de Gilberto Correa: \"Jamás hubo agresión ni física ni verbal\"                                            1\n",
       "Name: title, Length: 36, dtype: int64"
      ]
     },
     "execution_count": 207,
     "metadata": {},
     "output_type": "execute_result"
    }
   ],
   "source": [
    "df_eluniversal['title'].value_counts()"
   ]
  },
  {
   "cell_type": "code",
   "execution_count": 205,
   "metadata": {},
   "outputs": [
    {
     "data": {
      "text/plain": [
       "82"
      ]
     },
     "execution_count": 205,
     "metadata": {},
     "output_type": "execute_result"
    }
   ],
   "source": [
    "len(df_eluniversal)"
   ]
  },
  {
   "cell_type": "code",
   "execution_count": 201,
   "metadata": {},
   "outputs": [],
   "source": [
    "df_eluniversal.drop_duplicates(subset=['title'],keep='first',inplace=True) #Elimno los posible titulos duplicados"
   ]
  },
  {
   "cell_type": "markdown",
   "metadata": {},
   "source": [
    "# Cargo el scrip con todo los procedimientos incluidos"
   ]
  },
  {
   "cell_type": "code",
   "execution_count": 223,
   "metadata": {},
   "outputs": [
    {
     "name": "stdout",
     "output_type": "stream",
     "text": [
      "data_I.ipynb         eluniversal_21_02_17.csv  \u001b[0m\u001b[01;34mscraper\u001b[0m/\r\n",
      "elpais_21_02_17.csv  newspaper_receipe.py\r\n"
     ]
    }
   ],
   "source": [
    "%ls"
   ]
  },
  {
   "cell_type": "code",
   "execution_count": 222,
   "metadata": {},
   "outputs": [
    {
     "name": "stderr",
     "output_type": "stream",
     "text": [
      "INFO:news paper wraggling__main__:Starting to cleaning the data\n",
      "INFO:news paper wraggling__main__:Start reading the data base\n",
      "INFO:news paper wraggling__main__:name detected, starting to extract the data\n",
      "INFO:news paper wraggling__main__:the site id is elpais\n",
      "INFO:news paper wraggling__main__:Starting to crate the site id (elpais) column\n",
      "INFO:news paper wraggling__main__:Starting to create the url parse column\n",
      "INFO:news paper wraggling__main__:Filling missing titles\n",
      "INFO:news paper wraggling__main__:Creating index hash\n",
      "INFO:news paper wraggling__main__:Replacing of countless characters\n",
      "INFO:news paper wraggling__main__:Saving the new file\n",
      "INFO:news paper wraggling__main__:Starting to cleaning the data\n",
      "INFO:news paper wraggling__main__:Start reading the data base\n",
      "INFO:news paper wraggling__main__:name detected, starting to extract the data\n",
      "INFO:news paper wraggling__main__:the site id is elpais\n",
      "INFO:news paper wraggling__main__:Starting to crate the site id (elpais) column\n",
      "INFO:news paper wraggling__main__:Starting to create the url parse column\n",
      "INFO:news paper wraggling__main__:Filling missing titles\n",
      "INFO:news paper wraggling__main__:Creating index hash\n",
      "INFO:news paper wraggling__main__:Replacing of countless characters\n",
      "INFO:news paper wraggling__main__:Saving the new file\n",
      "INFO:news paper wraggling__main__:Start to craeting the tokens\n",
      "INFO:news paper wraggling__main__:name detected, starting to extract the data\n",
      "INFO:news paper wraggling__main__:the site id is elpais\n",
      "INFO:news paper wraggling__main__:Saving the new file\n"
     ]
    }
   ],
   "source": [
    "%run newspaper_receipe.py scraper/elpais_21_02_17_articles.csv title"
   ]
  },
  {
   "cell_type": "code",
   "execution_count": 256,
   "metadata": {},
   "outputs": [
    {
     "name": "stderr",
     "output_type": "stream",
     "text": [
      "INFO:news paper wraggling__main__:Starting to cleaning the data\n",
      "INFO:news paper wraggling__main__:Start reading the data base\n",
      "INFO:news paper wraggling__main__:name detected, starting to extract the data\n",
      "INFO:news paper wraggling__main__:the site id is eluniversal\n",
      "INFO:news paper wraggling__main__:Starting to crate the site id (eluniversal) column\n",
      "INFO:news paper wraggling__main__:Starting to create the url parse column\n",
      "INFO:news paper wraggling__main__:Filling missing titles\n",
      "INFO:news paper wraggling__main__:Creating index hash\n",
      "INFO:news paper wraggling__main__:Replacing of countless characters\n",
      "INFO:news paper wraggling__main__:Saving the new file\n"
     ]
    }
   ],
   "source": [
    "%run newspaper_receipe.py eluniversal_21_02_17.csv "
   ]
  },
  {
   "cell_type": "code",
   "execution_count": 257,
   "metadata": {},
   "outputs": [],
   "source": [
    "clean_eluniversal = pd.read_csv('eluniversal_21_02_17.csv')"
   ]
  },
  {
   "cell_type": "code",
   "execution_count": 258,
   "metadata": {},
   "outputs": [],
   "source": [
    "clean_elpais = pd.read_csv('elpais_21_02_17.csv')"
   ]
  },
  {
   "cell_type": "markdown",
   "metadata": {},
   "source": [
    "# Visualization"
   ]
  },
  {
   "cell_type": "code",
   "execution_count": 260,
   "metadata": {},
   "outputs": [
    {
     "data": {
      "text/html": [
       "<div>\n",
       "<style scoped>\n",
       "    .dataframe tbody tr th:only-of-type {\n",
       "        vertical-align: middle;\n",
       "    }\n",
       "\n",
       "    .dataframe tbody tr th {\n",
       "        vertical-align: top;\n",
       "    }\n",
       "\n",
       "    .dataframe thead th {\n",
       "        text-align: right;\n",
       "    }\n",
       "</style>\n",
       "<table border=\"1\" class=\"dataframe\">\n",
       "  <thead>\n",
       "    <tr style=\"text-align: right;\">\n",
       "      <th></th>\n",
       "      <th>uid</th>\n",
       "      <th>body</th>\n",
       "      <th>title</th>\n",
       "      <th>url</th>\n",
       "      <th>elpais</th>\n",
       "      <th>host</th>\n",
       "      <th>num_title</th>\n",
       "      <th>num_body</th>\n",
       "      <th>uid_site</th>\n",
       "    </tr>\n",
       "  </thead>\n",
       "  <tbody>\n",
       "    <tr>\n",
       "      <th>68</th>\n",
       "      <td>6465fbb6efd55c7ad76178e59fd85f14</td>\n",
       "      <td>'La monogamia, la pareja cerrada, la figura de...</td>\n",
       "      <td>Se edita en Argentina el libro de Brigitte Vas...</td>\n",
       "      <td>https://www.pagina12.com.ar/322713-se-edita-en...</td>\n",
       "      <td>elpais</td>\n",
       "      <td>www.pagina12.com.ar</td>\n",
       "      <td>6</td>\n",
       "      <td>1488</td>\n",
       "      <td>elpais</td>\n",
       "    </tr>\n",
       "    <tr>\n",
       "      <th>46</th>\n",
       "      <td>d30eaca49079c9e204edf401fc7551b3</td>\n",
       "      <td>'El presidente Alberto Fernández recibirá este...</td>\n",
       "      <td>Alberto Fernández recibe a la madre de la jove...</td>\n",
       "      <td>https://www.pagina12.com.ar/324279-alberto-fer...</td>\n",
       "      <td>elpais</td>\n",
       "      <td>www.pagina12.com.ar</td>\n",
       "      <td>8</td>\n",
       "      <td>78</td>\n",
       "      <td>elpais</td>\n",
       "    </tr>\n",
       "  </tbody>\n",
       "</table>\n",
       "</div>"
      ],
      "text/plain": [
       "                                 uid  \\\n",
       "68  6465fbb6efd55c7ad76178e59fd85f14   \n",
       "46  d30eaca49079c9e204edf401fc7551b3   \n",
       "\n",
       "                                                 body  \\\n",
       "68  'La monogamia, la pareja cerrada, la figura de...   \n",
       "46  'El presidente Alberto Fernández recibirá este...   \n",
       "\n",
       "                                                title  \\\n",
       "68  Se edita en Argentina el libro de Brigitte Vas...   \n",
       "46  Alberto Fernández recibe a la madre de la jove...   \n",
       "\n",
       "                                                  url  elpais  \\\n",
       "68  https://www.pagina12.com.ar/322713-se-edita-en...  elpais   \n",
       "46  https://www.pagina12.com.ar/324279-alberto-fer...  elpais   \n",
       "\n",
       "                   host  num_title  num_body uid_site  \n",
       "68  www.pagina12.com.ar          6      1488   elpais  \n",
       "46  www.pagina12.com.ar          8        78   elpais  "
      ]
     },
     "execution_count": 260,
     "metadata": {},
     "output_type": "execute_result"
    }
   ],
   "source": [
    "clean_elpais.sample(2)"
   ]
  },
  {
   "cell_type": "code",
   "execution_count": 229,
   "metadata": {},
   "outputs": [
    {
     "data": {
      "text/html": [
       "<div>\n",
       "<style scoped>\n",
       "    .dataframe tbody tr th:only-of-type {\n",
       "        vertical-align: middle;\n",
       "    }\n",
       "\n",
       "    .dataframe tbody tr th {\n",
       "        vertical-align: top;\n",
       "    }\n",
       "\n",
       "    .dataframe thead th {\n",
       "        text-align: right;\n",
       "    }\n",
       "</style>\n",
       "<table border=\"1\" class=\"dataframe\">\n",
       "  <thead>\n",
       "    <tr style=\"text-align: right;\">\n",
       "      <th></th>\n",
       "      <th>num_title</th>\n",
       "      <th>num_body</th>\n",
       "    </tr>\n",
       "  </thead>\n",
       "  <tbody>\n",
       "    <tr>\n",
       "      <th>count</th>\n",
       "      <td>36.000000</td>\n",
       "      <td>36.000000</td>\n",
       "    </tr>\n",
       "    <tr>\n",
       "      <th>mean</th>\n",
       "      <td>5.583333</td>\n",
       "      <td>189.944444</td>\n",
       "    </tr>\n",
       "    <tr>\n",
       "      <th>std</th>\n",
       "      <td>2.322253</td>\n",
       "      <td>146.181286</td>\n",
       "    </tr>\n",
       "    <tr>\n",
       "      <th>min</th>\n",
       "      <td>2.000000</td>\n",
       "      <td>49.000000</td>\n",
       "    </tr>\n",
       "    <tr>\n",
       "      <th>25%</th>\n",
       "      <td>4.000000</td>\n",
       "      <td>87.500000</td>\n",
       "    </tr>\n",
       "    <tr>\n",
       "      <th>50%</th>\n",
       "      <td>5.000000</td>\n",
       "      <td>147.500000</td>\n",
       "    </tr>\n",
       "    <tr>\n",
       "      <th>75%</th>\n",
       "      <td>8.000000</td>\n",
       "      <td>220.750000</td>\n",
       "    </tr>\n",
       "    <tr>\n",
       "      <th>max</th>\n",
       "      <td>10.000000</td>\n",
       "      <td>682.000000</td>\n",
       "    </tr>\n",
       "  </tbody>\n",
       "</table>\n",
       "</div>"
      ],
      "text/plain": [
       "       num_title    num_body\n",
       "count  36.000000   36.000000\n",
       "mean    5.583333  189.944444\n",
       "std     2.322253  146.181286\n",
       "min     2.000000   49.000000\n",
       "25%     4.000000   87.500000\n",
       "50%     5.000000  147.500000\n",
       "75%     8.000000  220.750000\n",
       "max    10.000000  682.000000"
      ]
     },
     "execution_count": 229,
     "metadata": {},
     "output_type": "execute_result"
    }
   ],
   "source": [
    "clean_eluniversal.describe()"
   ]
  },
  {
   "cell_type": "code",
   "execution_count": 243,
   "metadata": {},
   "outputs": [
    {
     "data": {
      "text/plain": [
       "<AxesSubplot:>"
      ]
     },
     "execution_count": 243,
     "metadata": {},
     "output_type": "execute_result"
    },
    {
     "data": {
      "image/png": "[encoded data removed]",
      "text/plain": [
       "<Figure size 432x288 with 1 Axes>"
      ]
     },
     "metadata": {
      "needs_background": "light"
     },
     "output_type": "display_data"
    }
   ],
   "source": [
    "clean_elpais.loc[:,'num_title'].plot(style='k.')\n",
    "clean_eluniversal.loc[:,'num_title'].plot(style='r.')"
   ]
  },
  {
   "cell_type": "code",
   "execution_count": 248,
   "metadata": {},
   "outputs": [
    {
     "data": {
      "text/html": [
       "<div>\n",
       "<style scoped>\n",
       "    .dataframe tbody tr th:only-of-type {\n",
       "        vertical-align: middle;\n",
       "    }\n",
       "\n",
       "    .dataframe tbody tr th {\n",
       "        vertical-align: top;\n",
       "    }\n",
       "\n",
       "    .dataframe thead th {\n",
       "        text-align: right;\n",
       "    }\n",
       "</style>\n",
       "<table border=\"1\" class=\"dataframe\">\n",
       "  <thead>\n",
       "    <tr style=\"text-align: right;\">\n",
       "      <th></th>\n",
       "      <th>uid</th>\n",
       "      <th>body</th>\n",
       "      <th>title</th>\n",
       "      <th>url</th>\n",
       "      <th>elpais</th>\n",
       "      <th>host</th>\n",
       "      <th>num_title</th>\n",
       "      <th>num_body</th>\n",
       "    </tr>\n",
       "  </thead>\n",
       "  <tbody>\n",
       "    <tr>\n",
       "      <th>30</th>\n",
       "      <td>d8bf25bea86ee2bc46d84efb42614f84</td>\n",
       "      <td>'El futuro llegó hace rato pero a veces no es ...</td>\n",
       "      <td>César Hazaki: \"La tecnofilia empieza a mostrar...</td>\n",
       "      <td>https://www.pagina12.com.ar/324137-cesar-hazak...</td>\n",
       "      <td>elpais</td>\n",
       "      <td>www.pagina12.com.ar</td>\n",
       "      <td>6</td>\n",
       "      <td>997</td>\n",
       "    </tr>\n",
       "    <tr>\n",
       "      <th>31</th>\n",
       "      <td>4043ef76bffe64b348b7a14a16fc2e3f</td>\n",
       "      <td>\"Johnny Pacheco, una de las figuras fundamenta...</td>\n",
       "      <td>Johnny Pacheco, figura de la salsa, murió a lo...</td>\n",
       "      <td>https://www.pagina12.com.ar/324139-johnny-pach...</td>\n",
       "      <td>elpais</td>\n",
       "      <td>www.pagina12.com.ar</td>\n",
       "      <td>6</td>\n",
       "      <td>562</td>\n",
       "    </tr>\n",
       "    <tr>\n",
       "      <th>32</th>\n",
       "      <td>61cd123ad425884f58bdaf0587d7f572</td>\n",
       "      <td>'La fiscal general de Nueva York, Letitia Jame...</td>\n",
       "      <td>Demandan a Amazon por no proteger a sus emplea...</td>\n",
       "      <td>https://www.pagina12.com.ar/324331-demandan-a-...</td>\n",
       "      <td>elpais</td>\n",
       "      <td>www.pagina12.com.ar</td>\n",
       "      <td>5</td>\n",
       "      <td>289</td>\n",
       "    </tr>\n",
       "    <tr>\n",
       "      <th>33</th>\n",
       "      <td>841a5d109302f2844a3f27cfb67e0070</td>\n",
       "      <td>\"Joan Margarit, premio Cervantes en 2019, muri...</td>\n",
       "      <td>El poeta catalán Joan Margarit murió a los 82 ...</td>\n",
       "      <td>https://www.pagina12.com.ar/324182-el-poeta-ca...</td>\n",
       "      <td>elpais</td>\n",
       "      <td>www.pagina12.com.ar</td>\n",
       "      <td>6</td>\n",
       "      <td>668</td>\n",
       "    </tr>\n",
       "    <tr>\n",
       "      <th>34</th>\n",
       "      <td>378249631fa72d88d0b0aa51d25d3035</td>\n",
       "      <td>'EL CUENTO POR SU AUTORCorrían los primeros añ...</td>\n",
       "      <td>El gigante</td>\n",
       "      <td>https://www.pagina12.com.ar/323511-el-gigante</td>\n",
       "      <td>elpais</td>\n",
       "      <td>www.pagina12.com.ar</td>\n",
       "      <td>1</td>\n",
       "      <td>1037</td>\n",
       "    </tr>\n",
       "    <tr>\n",
       "      <th>...</th>\n",
       "      <td>...</td>\n",
       "      <td>...</td>\n",
       "      <td>...</td>\n",
       "      <td>...</td>\n",
       "      <td>...</td>\n",
       "      <td>...</td>\n",
       "      <td>...</td>\n",
       "      <td>...</td>\n",
       "    </tr>\n",
       "    <tr>\n",
       "      <th>77</th>\n",
       "      <td>d101e39c3ea6f9aeb2e2e6bcb0759118</td>\n",
       "      <td>'Dana Hernández, la dirigenta más joven en la ...</td>\n",
       "      <td>\"Los clubes son el último bastión que tiene el...</td>\n",
       "      <td>https://www.pagina12.com.ar/324121-los-clubes-...</td>\n",
       "      <td>elpais</td>\n",
       "      <td>www.pagina12.com.ar</td>\n",
       "      <td>5</td>\n",
       "      <td>439</td>\n",
       "    </tr>\n",
       "    <tr>\n",
       "      <th>78</th>\n",
       "      <td>571b6346e4236e8dd43995e9d543297f</td>\n",
       "      <td>'Cualquiera que, llevado por la nostalgia de t...</td>\n",
       "      <td>DisneyPlus: Yendo de la selva al clóset</td>\n",
       "      <td>https://www.pagina12.com.ar/322732-disney-plus...</td>\n",
       "      <td>elpais</td>\n",
       "      <td>www.pagina12.com.ar</td>\n",
       "      <td>4</td>\n",
       "      <td>477</td>\n",
       "    </tr>\n",
       "    <tr>\n",
       "      <th>79</th>\n",
       "      <td>20f82b64033100d995bbda2bf29664e2</td>\n",
       "      <td>'Con la nueva modalidad de viajes, que atrajo ...</td>\n",
       "      <td>Gran movimiento turístico en Salta para Carnaval</td>\n",
       "      <td>https://www.pagina12.com.ar/324272-gran-movimi...</td>\n",
       "      <td>elpais</td>\n",
       "      <td>www.pagina12.com.ar</td>\n",
       "      <td>5</td>\n",
       "      <td>386</td>\n",
       "    </tr>\n",
       "    <tr>\n",
       "      <th>80</th>\n",
       "      <td>0f1cb4e9816742b817bd449f11992e02</td>\n",
       "      <td>''</td>\n",
       "      <td>Nico Ketama</td>\n",
       "      <td>https://www.pagina12.com.ar/324092-nico-ketama</td>\n",
       "      <td>elpais</td>\n",
       "      <td>www.pagina12.com.ar</td>\n",
       "      <td>2</td>\n",
       "      <td>0</td>\n",
       "    </tr>\n",
       "    <tr>\n",
       "      <th>81</th>\n",
       "      <td>940aa220cfdd5d69a578bd14457876b7</td>\n",
       "      <td>'La Casación frenó el traslado de la megainves...</td>\n",
       "      <td>Espionaje ilegal macrista: Casación frenó el t...</td>\n",
       "      <td>https://www.pagina12.com.ar/324342-espionaje-i...</td>\n",
       "      <td>elpais</td>\n",
       "      <td>www.pagina12.com.ar</td>\n",
       "      <td>9</td>\n",
       "      <td>309</td>\n",
       "    </tr>\n",
       "  </tbody>\n",
       "</table>\n",
       "<p>52 rows × 8 columns</p>\n",
       "</div>"
      ],
      "text/plain": [
       "                                 uid  \\\n",
       "30  d8bf25bea86ee2bc46d84efb42614f84   \n",
       "31  4043ef76bffe64b348b7a14a16fc2e3f   \n",
       "32  61cd123ad425884f58bdaf0587d7f572   \n",
       "33  841a5d109302f2844a3f27cfb67e0070   \n",
       "34  378249631fa72d88d0b0aa51d25d3035   \n",
       "..                               ...   \n",
       "77  d101e39c3ea6f9aeb2e2e6bcb0759118   \n",
       "78  571b6346e4236e8dd43995e9d543297f   \n",
       "79  20f82b64033100d995bbda2bf29664e2   \n",
       "80  0f1cb4e9816742b817bd449f11992e02   \n",
       "81  940aa220cfdd5d69a578bd14457876b7   \n",
       "\n",
       "                                                 body  \\\n",
       "30  'El futuro llegó hace rato pero a veces no es ...   \n",
       "31  \"Johnny Pacheco, una de las figuras fundamenta...   \n",
       "32  'La fiscal general de Nueva York, Letitia Jame...   \n",
       "33  \"Joan Margarit, premio Cervantes en 2019, muri...   \n",
       "34  'EL CUENTO POR SU AUTORCorrían los primeros añ...   \n",
       "..                                                ...   \n",
       "77  'Dana Hernández, la dirigenta más joven en la ...   \n",
       "78  'Cualquiera que, llevado por la nostalgia de t...   \n",
       "79  'Con la nueva modalidad de viajes, que atrajo ...   \n",
       "80                                                 ''   \n",
       "81  'La Casación frenó el traslado de la megainves...   \n",
       "\n",
       "                                                title  \\\n",
       "30  César Hazaki: \"La tecnofilia empieza a mostrar...   \n",
       "31  Johnny Pacheco, figura de la salsa, murió a lo...   \n",
       "32  Demandan a Amazon por no proteger a sus emplea...   \n",
       "33  El poeta catalán Joan Margarit murió a los 82 ...   \n",
       "34                                         El gigante   \n",
       "..                                                ...   \n",
       "77  \"Los clubes son el último bastión que tiene el...   \n",
       "78            DisneyPlus: Yendo de la selva al clóset   \n",
       "79   Gran movimiento turístico en Salta para Carnaval   \n",
       "80                                        Nico Ketama   \n",
       "81  Espionaje ilegal macrista: Casación frenó el t...   \n",
       "\n",
       "                                                  url  elpais  \\\n",
       "30  https://www.pagina12.com.ar/324137-cesar-hazak...  elpais   \n",
       "31  https://www.pagina12.com.ar/324139-johnny-pach...  elpais   \n",
       "32  https://www.pagina12.com.ar/324331-demandan-a-...  elpais   \n",
       "33  https://www.pagina12.com.ar/324182-el-poeta-ca...  elpais   \n",
       "34      https://www.pagina12.com.ar/323511-el-gigante  elpais   \n",
       "..                                                ...     ...   \n",
       "77  https://www.pagina12.com.ar/324121-los-clubes-...  elpais   \n",
       "78  https://www.pagina12.com.ar/322732-disney-plus...  elpais   \n",
       "79  https://www.pagina12.com.ar/324272-gran-movimi...  elpais   \n",
       "80     https://www.pagina12.com.ar/324092-nico-ketama  elpais   \n",
       "81  https://www.pagina12.com.ar/324342-espionaje-i...  elpais   \n",
       "\n",
       "                   host  num_title  num_body  \n",
       "30  www.pagina12.com.ar          6       997  \n",
       "31  www.pagina12.com.ar          6       562  \n",
       "32  www.pagina12.com.ar          5       289  \n",
       "33  www.pagina12.com.ar          6       668  \n",
       "34  www.pagina12.com.ar          1      1037  \n",
       "..                  ...        ...       ...  \n",
       "77  www.pagina12.com.ar          5       439  \n",
       "78  www.pagina12.com.ar          4       477  \n",
       "79  www.pagina12.com.ar          5       386  \n",
       "80  www.pagina12.com.ar          2         0  \n",
       "81  www.pagina12.com.ar          9       309  \n",
       "\n",
       "[52 rows x 8 columns]"
      ]
     },
     "execution_count": 248,
     "metadata": {},
     "output_type": "execute_result"
    }
   ],
   "source": [
    "clean_elpais.loc[30:,:]"
   ]
  },
  {
   "cell_type": "code",
   "execution_count": 262,
   "metadata": {},
   "outputs": [],
   "source": [
    "concat_df = pd.concat([clean_elpais,clean_eluniversal],join='outer')"
   ]
  },
  {
   "cell_type": "code",
   "execution_count": 264,
   "metadata": {},
   "outputs": [
    {
     "data": {
      "text/plain": [
       "uid_site\n",
       "elpais         AxesSubplot(0.125,0.125;0.775x0.755)\n",
       "eluniversal    AxesSubplot(0.125,0.125;0.775x0.755)\n",
       "dtype: object"
      ]
     },
     "execution_count": 264,
     "metadata": {},
     "output_type": "execute_result"
    },
    {
     "data": {
      "image/png": "[encoded data removed]",
      "text/plain": [
       "<Figure size 432x288 with 1 Axes>"
      ]
     },
     "metadata": {
      "needs_background": "light"
     },
     "output_type": "display_data"
    },
    {
     "data": {
      "image/png": "[encoded data removed]",
      "text/plain": [
       "<Figure size 432x288 with 1 Axes>"
      ]
     },
     "metadata": {
      "needs_background": "light"
     },
     "output_type": "display_data"
    }
   ],
   "source": [
    "concat_df.groupby('uid_site').plot()"
   ]
  },
  {
   "cell_type": "code",
   "execution_count": 268,
   "metadata": {},
   "outputs": [
    {
     "data": {
      "text/plain": [
       "uid_site\n",
       "elpais         [[AxesSubplot(0.125,0.125;0.336957x0.755), Axe...\n",
       "eluniversal    [[AxesSubplot(0.125,0.125;0.336957x0.755), Axe...\n",
       "dtype: object"
      ]
     },
     "execution_count": 268,
     "metadata": {},
     "output_type": "execute_result"
    },
    {
     "data": {
      "image/png": "[encoded data removed]",
      "text/plain": [
       "<Figure size 432x288 with 2 Axes>"
      ]
     },
     "metadata": {
      "needs_background": "light"
     },
     "output_type": "display_data"
    },
    {
     "data": {
      "image/png": "[encoded data removed]",
      "text/plain": [
       "<Figure size 432x288 with 2 Axes>"
      ]
     },
     "metadata": {
      "needs_background": "light"
     },
     "output_type": "display_data"
    }
   ],
   "source": [
    "concat_df.groupby('uid_site').hist()"
   ]
  },
  {
   "cell_type": "code",
   "execution_count": 272,
   "metadata": {},
   "outputs": [
    {
     "data": {
      "text/html": [
       "<div>\n",
       "<style scoped>\n",
       "    .dataframe tbody tr th:only-of-type {\n",
       "        vertical-align: middle;\n",
       "    }\n",
       "\n",
       "    .dataframe tbody tr th {\n",
       "        vertical-align: top;\n",
       "    }\n",
       "\n",
       "    .dataframe thead tr th {\n",
       "        text-align: left;\n",
       "    }\n",
       "\n",
       "    .dataframe thead tr:last-of-type th {\n",
       "        text-align: right;\n",
       "    }\n",
       "</style>\n",
       "<table border=\"1\" class=\"dataframe\">\n",
       "  <thead>\n",
       "    <tr>\n",
       "      <th></th>\n",
       "      <th colspan=\"4\" halign=\"left\">num_title</th>\n",
       "      <th colspan=\"4\" halign=\"left\">num_body</th>\n",
       "    </tr>\n",
       "    <tr>\n",
       "      <th></th>\n",
       "      <th>max</th>\n",
       "      <th>min</th>\n",
       "      <th>median</th>\n",
       "      <th>mean</th>\n",
       "      <th>max</th>\n",
       "      <th>min</th>\n",
       "      <th>median</th>\n",
       "      <th>mean</th>\n",
       "    </tr>\n",
       "    <tr>\n",
       "      <th>uid_site</th>\n",
       "      <th></th>\n",
       "      <th></th>\n",
       "      <th></th>\n",
       "      <th></th>\n",
       "      <th></th>\n",
       "      <th></th>\n",
       "      <th></th>\n",
       "      <th></th>\n",
       "    </tr>\n",
       "  </thead>\n",
       "  <tbody>\n",
       "    <tr>\n",
       "      <th>elpais</th>\n",
       "      <td>12</td>\n",
       "      <td>0</td>\n",
       "      <td>6</td>\n",
       "      <td>5.414634</td>\n",
       "      <td>1778</td>\n",
       "      <td>0</td>\n",
       "      <td>380.5</td>\n",
       "      <td>450.780488</td>\n",
       "    </tr>\n",
       "    <tr>\n",
       "      <th>eluniversal</th>\n",
       "      <td>10</td>\n",
       "      <td>2</td>\n",
       "      <td>5</td>\n",
       "      <td>5.583333</td>\n",
       "      <td>682</td>\n",
       "      <td>49</td>\n",
       "      <td>147.5</td>\n",
       "      <td>189.944444</td>\n",
       "    </tr>\n",
       "  </tbody>\n",
       "</table>\n",
       "</div>"
      ],
      "text/plain": [
       "            num_title                      num_body                       \n",
       "                  max min median      mean      max min median        mean\n",
       "uid_site                                                                  \n",
       "elpais             12   0      6  5.414634     1778   0  380.5  450.780488\n",
       "eluniversal        10   2      5  5.583333      682  49  147.5  189.944444"
      ]
     },
     "execution_count": 272,
     "metadata": {},
     "output_type": "execute_result"
    }
   ],
   "source": [
    "concat_df.groupby('uid_site')[['num_title','num_body']].agg([max,min,np.median,np.mean])"
   ]
  },
  {
   "cell_type": "markdown",
   "metadata": {},
   "source": [
    "## test"
   ]
  },
  {
   "cell_type": "code",
   "execution_count": 287,
   "metadata": {},
   "outputs": [],
   "source": [
    "df_t1 = pd.read_csv('elpais_21_02_18.csv')"
   ]
  },
  {
   "cell_type": "code",
   "execution_count": 288,
   "metadata": {},
   "outputs": [
    {
     "data": {
      "text/plain": [
       "['uid', 'body', 'title', 'url', 'uid_site', 'host', 'num_title', 'num_body']"
      ]
     },
     "execution_count": 288,
     "metadata": {},
     "output_type": "execute_result"
    }
   ],
   "source": [
    "list(df_t1)"
   ]
  },
  {
   "cell_type": "code",
   "execution_count": 1,
   "metadata": {},
   "outputs": [
    {
     "name": "stdout",
     "output_type": "stream",
     "text": [
      "/home/cesar/Documents/practica_cursos/code/python/ingenieria_de_datos/transform\n"
     ]
    }
   ],
   "source": [
    "%cd transform/"
   ]
  },
  {
   "cell_type": "code",
   "execution_count": 5,
   "metadata": {},
   "outputs": [],
   "source": [
    "import pandas as pd"
   ]
  },
  {
   "cell_type": "code",
   "execution_count": 7,
   "metadata": {},
   "outputs": [
    {
     "data": {
      "text/html": [
       "<div>\n",
       "<style scoped>\n",
       "    .dataframe tbody tr th:only-of-type {\n",
       "        vertical-align: middle;\n",
       "    }\n",
       "\n",
       "    .dataframe tbody tr th {\n",
       "        vertical-align: top;\n",
       "    }\n",
       "\n",
       "    .dataframe thead th {\n",
       "        text-align: right;\n",
       "    }\n",
       "</style>\n",
       "<table border=\"1\" class=\"dataframe\">\n",
       "  <thead>\n",
       "    <tr style=\"text-align: right;\">\n",
       "      <th></th>\n",
       "      <th>body</th>\n",
       "      <th>title</th>\n",
       "      <th>url</th>\n",
       "    </tr>\n",
       "  </thead>\n",
       "  <tbody>\n",
       "    <tr>\n",
       "      <th>0</th>\n",
       "      <td>{'El pequeño detective\\xa0 \\xa0 \\xa0 \\xa0 \\xa0...</td>\n",
       "      <td>\"El pequeño detective\": en busca del paraíso p...</td>\n",
       "      <td>https://www.pagina12.com.ar/324372-el-pequeno-...</td>\n",
       "    </tr>\n",
       "    <tr>\n",
       "      <th>1</th>\n",
       "      <td>{'\\n \\n\\n\\n\\nLos recordatorios se reciben en\\x...</td>\n",
       "      <td>Carlos Horacio Benigno Vivas</td>\n",
       "      <td>https://www.pagina12.com.ar/324354-carlos-hora...</td>\n",
       "    </tr>\n",
       "    <tr>\n",
       "      <th>2</th>\n",
       "      <td>{'Los organismos de derechos humanos resolvier...</td>\n",
       "      <td>Los Organismos de Derechos Humanos no marchará...</td>\n",
       "      <td>https://www.pagina12.com.ar/324546-los-organis...</td>\n",
       "    </tr>\n",
       "    <tr>\n",
       "      <th>3</th>\n",
       "      <td>{'Primero. Que no hay nada de cierto en lo que...</td>\n",
       "      <td>¿Qué expone el lawfare?</td>\n",
       "      <td>https://www.pagina12.com.ar/324436-que-expone-...</td>\n",
       "    </tr>\n",
       "    <tr>\n",
       "      <th>4</th>\n",
       "      <td>{'El lugar es Botoșani, en Rumania. El año: 19...</td>\n",
       "      <td>Radu Jude: \"No me interesa hacer películas que...</td>\n",
       "      <td>https://www.pagina12.com.ar/324381-radu-jude-n...</td>\n",
       "    </tr>\n",
       "    <tr>\n",
       "      <th>...</th>\n",
       "      <td>...</td>\n",
       "      <td>...</td>\n",
       "      <td>...</td>\n",
       "    </tr>\n",
       "    <tr>\n",
       "      <th>80</th>\n",
       "      <td>{'“Nos vamos a cargar el fútbol”, lamentaba en...</td>\n",
       "      <td>Explotados y ninguneadas</td>\n",
       "      <td>https://www.pagina12.com.ar/324582-explotados-...</td>\n",
       "    </tr>\n",
       "    <tr>\n",
       "      <th>81</th>\n",
       "      <td>{'El indio guerrero Amoim Aruká, último hombre...</td>\n",
       "      <td>Murió por coronavirus Amoim Aruká, el último s...</td>\n",
       "      <td>https://www.pagina12.com.ar/324565-murio-por-c...</td>\n",
       "    </tr>\n",
       "    <tr>\n",
       "      <th>82</th>\n",
       "      <td>{'La última estafa que circula a través de Wha...</td>\n",
       "      <td>La nueva estafa para robar cuentas de WhatsApp</td>\n",
       "      <td>https://www.pagina12.com.ar/324392-la-nueva-es...</td>\n",
       "    </tr>\n",
       "    <tr>\n",
       "      <th>83</th>\n",
       "      <td>{'La ministra de las Mujeres, Políticas de Gén...</td>\n",
       "      <td>Estela Díaz reclamó a la Justicia una \"interve...</td>\n",
       "      <td>https://www.pagina12.com.ar/324555-estela-diaz...</td>\n",
       "    </tr>\n",
       "    <tr>\n",
       "      <th>84</th>\n",
       "      <td>{'“Quería brindar información sobre lo que pas...</td>\n",
       "      <td>El suicidio de un hombre trans causa conmoción...</td>\n",
       "      <td>https://www.pagina12.com.ar/322729-el-suicidio...</td>\n",
       "    </tr>\n",
       "  </tbody>\n",
       "</table>\n",
       "<p>85 rows × 3 columns</p>\n",
       "</div>"
      ],
      "text/plain": [
       "                                                 body  \\\n",
       "0   {'El pequeño detective\\xa0 \\xa0 \\xa0 \\xa0 \\xa0...   \n",
       "1   {'\\n \\n\\n\\n\\nLos recordatorios se reciben en\\x...   \n",
       "2   {'Los organismos de derechos humanos resolvier...   \n",
       "3   {'Primero. Que no hay nada de cierto en lo que...   \n",
       "4   {'El lugar es Botoșani, en Rumania. El año: 19...   \n",
       "..                                                ...   \n",
       "80  {'“Nos vamos a cargar el fútbol”, lamentaba en...   \n",
       "81  {'El indio guerrero Amoim Aruká, último hombre...   \n",
       "82  {'La última estafa que circula a través de Wha...   \n",
       "83  {'La ministra de las Mujeres, Políticas de Gén...   \n",
       "84  {'“Quería brindar información sobre lo que pas...   \n",
       "\n",
       "                                                title  \\\n",
       "0   \"El pequeño detective\": en busca del paraíso p...   \n",
       "1                        Carlos Horacio Benigno Vivas   \n",
       "2   Los Organismos de Derechos Humanos no marchará...   \n",
       "3                             ¿Qué expone el lawfare?   \n",
       "4   Radu Jude: \"No me interesa hacer películas que...   \n",
       "..                                                ...   \n",
       "80                           Explotados y ninguneadas   \n",
       "81  Murió por coronavirus Amoim Aruká, el último s...   \n",
       "82     La nueva estafa para robar cuentas de WhatsApp   \n",
       "83  Estela Díaz reclamó a la Justicia una \"interve...   \n",
       "84  El suicidio de un hombre trans causa conmoción...   \n",
       "\n",
       "                                                  url  \n",
       "0   https://www.pagina12.com.ar/324372-el-pequeno-...  \n",
       "1   https://www.pagina12.com.ar/324354-carlos-hora...  \n",
       "2   https://www.pagina12.com.ar/324546-los-organis...  \n",
       "3   https://www.pagina12.com.ar/324436-que-expone-...  \n",
       "4   https://www.pagina12.com.ar/324381-radu-jude-n...  \n",
       "..                                                ...  \n",
       "80  https://www.pagina12.com.ar/324582-explotados-...  \n",
       "81  https://www.pagina12.com.ar/324565-murio-por-c...  \n",
       "82  https://www.pagina12.com.ar/324392-la-nueva-es...  \n",
       "83  https://www.pagina12.com.ar/324555-estela-diaz...  \n",
       "84  https://www.pagina12.com.ar/322729-el-suicidio...  \n",
       "\n",
       "[85 rows x 3 columns]"
      ]
     },
     "execution_count": 7,
     "metadata": {},
     "output_type": "execute_result"
    }
   ],
   "source": [
    "pd.read_csv('elpais_.csv')"
   ]
  },
  {
   "cell_type": "code",
   "execution_count": 14,
   "metadata": {},
   "outputs": [
    {
     "name": "stderr",
     "output_type": "stream",
     "text": [
      "INFO:news paper wraggling__main__:Starting to cleaning the data\n",
      "INFO:news paper wraggling__main__:Start reading the data base\n",
      "INFO:news paper wraggling__main__:name detected, starting to extract the data\n",
      "INFO:news paper wraggling__main__:the site id is elpais\n",
      "INFO:news paper wraggling__main__:Starting to crate the site id (elpais) column\n",
      "INFO:news paper wraggling__main__:Starting to create the url parse column\n",
      "INFO:news paper wraggling__main__:Filling missing titles\n",
      "INFO:news paper wraggling__main__:Creating index hash\n",
      "INFO:news paper wraggling__main__:Replacing of countless characters\n",
      "INFO:news paper wraggling__main__:Start to craeting the tokens\n",
      "INFO:news paper wraggling__main__:Start to craeting the tokens\n",
      "INFO:news paper wraggling__main__:Saving the new file\n"
     ]
    }
   ],
   "source": [
    "%run newspaper_receipe.py elpais_.csv"
   ]
  },
  {
   "cell_type": "code",
   "execution_count": 10,
   "metadata": {},
   "outputs": [
    {
     "name": "stdout",
     "output_type": "stream",
     "text": [
      "elpais_21_02_18.csv  elpais_.csv  eluniversal_.csv  newspaper_receipe.py\r\n"
     ]
    }
   ],
   "source": [
    "%ls"
   ]
  },
  {
   "cell_type": "code",
   "execution_count": 15,
   "metadata": {},
   "outputs": [
    {
     "data": {
      "text/html": [
       "<div>\n",
       "<style scoped>\n",
       "    .dataframe tbody tr th:only-of-type {\n",
       "        vertical-align: middle;\n",
       "    }\n",
       "\n",
       "    .dataframe tbody tr th {\n",
       "        vertical-align: top;\n",
       "    }\n",
       "\n",
       "    .dataframe thead th {\n",
       "        text-align: right;\n",
       "    }\n",
       "</style>\n",
       "<table border=\"1\" class=\"dataframe\">\n",
       "  <thead>\n",
       "    <tr style=\"text-align: right;\">\n",
       "      <th></th>\n",
       "      <th>uid</th>\n",
       "      <th>body</th>\n",
       "      <th>title</th>\n",
       "      <th>url</th>\n",
       "      <th>uid_site</th>\n",
       "      <th>host</th>\n",
       "      <th>num_title</th>\n",
       "      <th>num_body</th>\n",
       "    </tr>\n",
       "  </thead>\n",
       "  <tbody>\n",
       "    <tr>\n",
       "      <th>0</th>\n",
       "      <td>a3f0f73918715d931068fac47edaa4f5</td>\n",
       "      <td>'El pequeño detective      8 putosThe Kid Dete...</td>\n",
       "      <td>\"El pequeño detective\": en busca del paraíso p...</td>\n",
       "      <td>https://www.pagina12.com.ar/324372-el-pequeno-...</td>\n",
       "      <td>elpais</td>\n",
       "      <td>www.pagina12.com.ar</td>\n",
       "      <td>5</td>\n",
       "      <td>457</td>\n",
       "    </tr>\n",
       "    <tr>\n",
       "      <th>1</th>\n",
       "      <td>3dfb653292131360fcbb363ee1f0c5c0</td>\n",
       "      <td>' Los recordtorios se recibe e[emilprotected]'</td>\n",
       "      <td>Carlos Horacio Benigno Vivas</td>\n",
       "      <td>https://www.pagina12.com.ar/324354-carlos-hora...</td>\n",
       "      <td>elpais</td>\n",
       "      <td>www.pagina12.com.ar</td>\n",
       "      <td>4</td>\n",
       "      <td>3</td>\n",
       "    </tr>\n",
       "    <tr>\n",
       "      <th>2</th>\n",
       "      <td>08831d4eada0c4f5402b8b4ed25c7be8</td>\n",
       "      <td>'Los orgismos de derechos humos resolviero que...</td>\n",
       "      <td>Los Organismos de Derechos Humanos no marchará...</td>\n",
       "      <td>https://www.pagina12.com.ar/324546-los-organis...</td>\n",
       "      <td>elpais</td>\n",
       "      <td>www.pagina12.com.ar</td>\n",
       "      <td>6</td>\n",
       "      <td>304</td>\n",
       "    </tr>\n",
       "    <tr>\n",
       "      <th>3</th>\n",
       "      <td>f9e89f854d9b9dab8d7ab6955ae1aad7</td>\n",
       "      <td>'Primero. Que o hy d de cierto e lo que os ese...</td>\n",
       "      <td>¿Qué expone el lawfare?</td>\n",
       "      <td>https://www.pagina12.com.ar/324436-que-expone-...</td>\n",
       "      <td>elpais</td>\n",
       "      <td>www.pagina12.com.ar</td>\n",
       "      <td>2</td>\n",
       "      <td>335</td>\n",
       "    </tr>\n",
       "    <tr>\n",
       "      <th>4</th>\n",
       "      <td>defe4b5ddd911016223512afbde7e65e</td>\n",
       "      <td>'El lugr es Botoși, e Rumi. El ño: 1981. L fig...</td>\n",
       "      <td>Radu Jude: \"No me interesa hacer películas que...</td>\n",
       "      <td>https://www.pagina12.com.ar/324381-radu-jude-n...</td>\n",
       "      <td>elpais</td>\n",
       "      <td>www.pagina12.com.ar</td>\n",
       "      <td>10</td>\n",
       "      <td>1150</td>\n",
       "    </tr>\n",
       "    <tr>\n",
       "      <th>...</th>\n",
       "      <td>...</td>\n",
       "      <td>...</td>\n",
       "      <td>...</td>\n",
       "      <td>...</td>\n",
       "      <td>...</td>\n",
       "      <td>...</td>\n",
       "      <td>...</td>\n",
       "      <td>...</td>\n",
       "    </tr>\n",
       "    <tr>\n",
       "      <th>80</th>\n",
       "      <td>0ed66dac609a3c1a4904aad2a164e493</td>\n",
       "      <td>'“Nos vmos  crgr el fútbol”, lmetb e oviembre ...</td>\n",
       "      <td>Explotados y ninguneadas</td>\n",
       "      <td>https://www.pagina12.com.ar/324582-explotados-...</td>\n",
       "      <td>elpais</td>\n",
       "      <td>www.pagina12.com.ar</td>\n",
       "      <td>2</td>\n",
       "      <td>1110</td>\n",
       "    </tr>\n",
       "    <tr>\n",
       "      <th>81</th>\n",
       "      <td>921fb82b26f2a92936e1f39914e1295a</td>\n",
       "      <td>'El idio guerrero Amoim Aruká, último hombre s...</td>\n",
       "      <td>Murió por coronavirus Amoim Aruká, el último s...</td>\n",
       "      <td>https://www.pagina12.com.ar/324565-murio-por-c...</td>\n",
       "      <td>elpais</td>\n",
       "      <td>www.pagina12.com.ar</td>\n",
       "      <td>10</td>\n",
       "      <td>178</td>\n",
       "    </tr>\n",
       "    <tr>\n",
       "      <th>82</th>\n",
       "      <td>800a60303284078743b30eb15d60268b</td>\n",
       "      <td>'L últim estf que circul  trvés de WhtsApp es ...</td>\n",
       "      <td>La nueva estafa para robar cuentas de WhatsApp</td>\n",
       "      <td>https://www.pagina12.com.ar/324392-la-nueva-es...</td>\n",
       "      <td>elpais</td>\n",
       "      <td>www.pagina12.com.ar</td>\n",
       "      <td>5</td>\n",
       "      <td>227</td>\n",
       "    </tr>\n",
       "    <tr>\n",
       "      <th>83</th>\n",
       "      <td>37ed4ce67b4b3d39abee141279e6c1ae</td>\n",
       "      <td>'L miistr de ls Mujeres, Polítics de Géero y D...</td>\n",
       "      <td>Estela Díaz reclamó a la Justicia una \"interve...</td>\n",
       "      <td>https://www.pagina12.com.ar/324555-estela-diaz...</td>\n",
       "      <td>elpais</td>\n",
       "      <td>www.pagina12.com.ar</td>\n",
       "      <td>9</td>\n",
       "      <td>139</td>\n",
       "    </tr>\n",
       "    <tr>\n",
       "      <th>84</th>\n",
       "      <td>e9f75b2c92c1df496daa8616bb3dc12e</td>\n",
       "      <td>'“Querí bridr iformció sobre lo que ps e el pe...</td>\n",
       "      <td>El suicidio de un hombre trans causa conmoción...</td>\n",
       "      <td>https://www.pagina12.com.ar/322729-el-suicidio...</td>\n",
       "      <td>elpais</td>\n",
       "      <td>www.pagina12.com.ar</td>\n",
       "      <td>6</td>\n",
       "      <td>950</td>\n",
       "    </tr>\n",
       "  </tbody>\n",
       "</table>\n",
       "<p>85 rows × 8 columns</p>\n",
       "</div>"
      ],
      "text/plain": [
       "                                 uid  \\\n",
       "0   a3f0f73918715d931068fac47edaa4f5   \n",
       "1   3dfb653292131360fcbb363ee1f0c5c0   \n",
       "2   08831d4eada0c4f5402b8b4ed25c7be8   \n",
       "3   f9e89f854d9b9dab8d7ab6955ae1aad7   \n",
       "4   defe4b5ddd911016223512afbde7e65e   \n",
       "..                               ...   \n",
       "80  0ed66dac609a3c1a4904aad2a164e493   \n",
       "81  921fb82b26f2a92936e1f39914e1295a   \n",
       "82  800a60303284078743b30eb15d60268b   \n",
       "83  37ed4ce67b4b3d39abee141279e6c1ae   \n",
       "84  e9f75b2c92c1df496daa8616bb3dc12e   \n",
       "\n",
       "                                                 body  \\\n",
       "0   'El pequeño detective      8 putosThe Kid Dete...   \n",
       "1      ' Los recordtorios se recibe e[emilprotected]'   \n",
       "2   'Los orgismos de derechos humos resolviero que...   \n",
       "3   'Primero. Que o hy d de cierto e lo que os ese...   \n",
       "4   'El lugr es Botoși, e Rumi. El ño: 1981. L fig...   \n",
       "..                                                ...   \n",
       "80  '“Nos vmos  crgr el fútbol”, lmetb e oviembre ...   \n",
       "81  'El idio guerrero Amoim Aruká, último hombre s...   \n",
       "82  'L últim estf que circul  trvés de WhtsApp es ...   \n",
       "83  'L miistr de ls Mujeres, Polítics de Géero y D...   \n",
       "84  '“Querí bridr iformció sobre lo que ps e el pe...   \n",
       "\n",
       "                                                title  \\\n",
       "0   \"El pequeño detective\": en busca del paraíso p...   \n",
       "1                        Carlos Horacio Benigno Vivas   \n",
       "2   Los Organismos de Derechos Humanos no marchará...   \n",
       "3                             ¿Qué expone el lawfare?   \n",
       "4   Radu Jude: \"No me interesa hacer películas que...   \n",
       "..                                                ...   \n",
       "80                           Explotados y ninguneadas   \n",
       "81  Murió por coronavirus Amoim Aruká, el último s...   \n",
       "82     La nueva estafa para robar cuentas de WhatsApp   \n",
       "83  Estela Díaz reclamó a la Justicia una \"interve...   \n",
       "84  El suicidio de un hombre trans causa conmoción...   \n",
       "\n",
       "                                                  url uid_site  \\\n",
       "0   https://www.pagina12.com.ar/324372-el-pequeno-...   elpais   \n",
       "1   https://www.pagina12.com.ar/324354-carlos-hora...   elpais   \n",
       "2   https://www.pagina12.com.ar/324546-los-organis...   elpais   \n",
       "3   https://www.pagina12.com.ar/324436-que-expone-...   elpais   \n",
       "4   https://www.pagina12.com.ar/324381-radu-jude-n...   elpais   \n",
       "..                                                ...      ...   \n",
       "80  https://www.pagina12.com.ar/324582-explotados-...   elpais   \n",
       "81  https://www.pagina12.com.ar/324565-murio-por-c...   elpais   \n",
       "82  https://www.pagina12.com.ar/324392-la-nueva-es...   elpais   \n",
       "83  https://www.pagina12.com.ar/324555-estela-diaz...   elpais   \n",
       "84  https://www.pagina12.com.ar/322729-el-suicidio...   elpais   \n",
       "\n",
       "                   host  num_title  num_body  \n",
       "0   www.pagina12.com.ar          5       457  \n",
       "1   www.pagina12.com.ar          4         3  \n",
       "2   www.pagina12.com.ar          6       304  \n",
       "3   www.pagina12.com.ar          2       335  \n",
       "4   www.pagina12.com.ar         10      1150  \n",
       "..                  ...        ...       ...  \n",
       "80  www.pagina12.com.ar          2      1110  \n",
       "81  www.pagina12.com.ar         10       178  \n",
       "82  www.pagina12.com.ar          5       227  \n",
       "83  www.pagina12.com.ar          9       139  \n",
       "84  www.pagina12.com.ar          6       950  \n",
       "\n",
       "[85 rows x 8 columns]"
      ]
     },
     "execution_count": 15,
     "metadata": {},
     "output_type": "execute_result"
    }
   ],
   "source": [
    "pd.read_csv('elpais_21_02_18.csv')"
   ]
  }
 ],
 "metadata": {
  "kernelspec": {
   "display_name": "Python 3",
   "language": "python",
   "name": "python3"
  },
  "language_info": {
   "codemirror_mode": {
    "name": "ipython",
    "version": 3
   },
   "file_extension": ".py",
   "mimetype": "text/x-python",
   "name": "python",
   "nbconvert_exporter": "python",
   "pygments_lexer": "ipython3",
   "version": "3.8.5"
  }
 },
 "nbformat": 4,
 "nbformat_minor": 4
}
