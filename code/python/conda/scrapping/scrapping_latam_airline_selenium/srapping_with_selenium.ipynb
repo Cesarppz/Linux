{
 "cells": [
  {
   "cell_type": "code",
   "execution_count": 1,
   "metadata": {},
   "outputs": [],
   "source": [
    "from selenium import webdriver"
   ]
  },
  {
   "cell_type": "markdown",
   "metadata": {},
   "source": [
    "# paso 1: Instanciar el web driver"
   ]
  },
  {
   "cell_type": "code",
   "execution_count": 2,
   "metadata": {},
   "outputs": [],
   "source": [
    "options = webdriver.FirefoxOptions()\n",
    "options.add_argument('-private')\n",
    "\n",
    "\n",
    "driver = webdriver.Firefox(executable_path='../drivers/geckodriver',options=options)"
   ]
  },
  {
   "cell_type": "markdown",
   "metadata": {},
   "source": [
    "# paso 2: Pasarle la url al web driver"
   ]
  },
  {
   "cell_type": "code",
   "execution_count": 6,
   "metadata": {},
   "outputs": [],
   "source": [
    "url = 'https://www.latam.com/es_un/apps/personas/booking?fecha1_dia=25&fecha1_anomes=2021-01&fecha2_dia=11&fecha2_anomes=2021-10&from_city2=MAD&to_city2=BUE&auAvailability=1&ida_vuelta=ida_vuelta&vuelos_origen=Buenos%20Aires&from_city1=BUE&vuelos_destino=Madrid&to_city1=MAD&flex=1&vuelos_fecha_salida_ddmmaaaa=24/01/2021&vuelos_fecha_regreso_ddmmaaaa=11/10/2021&cabina=Y&nadults=1&nchildren=0&ninfants=0&cod_promo=&stopover_outbound_days=0&stopover_inbound_days=0&application=#/'\n",
    "driver.get(url)"
   ]
  },
  {
   "cell_type": "markdown",
   "metadata": {},
   "source": [
    "# Paso3 : Extracción de datos"
   ]
  },
  {
   "cell_type": "code",
   "execution_count": 7,
   "metadata": {},
   "outputs": [
    {
     "data": {
      "text/plain": [
       "[<selenium.webdriver.firefox.webelement.FirefoxWebElement (session=\"3af75e50-1573-43fd-96ae-e3a430484681\", element=\"1bdfae25-a2e1-4514-937c-e439a16ebb7c\")>,\n",
       " <selenium.webdriver.firefox.webelement.FirefoxWebElement (session=\"3af75e50-1573-43fd-96ae-e3a430484681\", element=\"d007e38c-ec03-47c1-aa9c-6f6898b0c45b\")>,\n",
       " <selenium.webdriver.firefox.webelement.FirefoxWebElement (session=\"3af75e50-1573-43fd-96ae-e3a430484681\", element=\"ab4449d5-5de4-4ec4-871a-0e789b68b348\")>,\n",
       " <selenium.webdriver.firefox.webelement.FirefoxWebElement (session=\"3af75e50-1573-43fd-96ae-e3a430484681\", element=\"95ccc396-5889-47b2-8da7-7b4b92702ec2\")>]"
      ]
     },
     "execution_count": 7,
     "metadata": {},
     "output_type": "execute_result"
    }
   ],
   "source": [
    "vuelos = driver.find_elements_by_xpath('//li[@class=\"flight\"]')\n",
    "vuelos"
   ]
  },
  {
   "cell_type": "code",
   "execution_count": 8,
   "metadata": {},
   "outputs": [],
   "source": [
    "vuelo = vuelos[0]"
   ]
  },
  {
   "cell_type": "code",
   "execution_count": 18,
   "metadata": {},
   "outputs": [
    {
     "data": {
      "text/plain": [
       "'38h20m'"
      ]
     },
     "execution_count": 18,
     "metadata": {},
     "output_type": "execute_result"
    }
   ],
   "source": [
    "# Duración\n",
    "vuelo.find_element_by_xpath('.//span[@class=\"duration\"]/time').get_attribute('datetime').replace('PT','').lower()"
   ]
  },
  {
   "cell_type": "code",
   "execution_count": 17,
   "metadata": {},
   "outputs": [
    {
     "data": {
      "text/plain": [
       "'862'"
      ]
     },
     "execution_count": 17,
     "metadata": {},
     "output_type": "execute_result"
    }
   ],
   "source": [
    "# Precio\n",
    "vuelo.find_element_by_xpath('.//span[@class=\"price\"]/span[@class=\"value\"]/span').text"
   ]
  },
  {
   "cell_type": "markdown",
   "metadata": {},
   "source": [
    "Escalas (Boton):"
   ]
  },
  {
   "cell_type": "code",
   "execution_count": 216,
   "metadata": {},
   "outputs": [
    {
     "data": {
      "text/plain": [
       "<selenium.webdriver.firefox.webelement.FirefoxWebElement (session=\"3af75e50-1573-43fd-96ae-e3a430484681\", element=\"1ed07991-23d5-48e3-ae07-9891780269fa\")>"
      ]
     },
     "execution_count": 216,
     "metadata": {},
     "output_type": "execute_result"
    }
   ],
   "source": [
    "# Buscar el botton\n",
    "botton_escalas = vuelo.find_element_by_xpath('.//div[@class=\"flight-summary-stops-description\"]/button')\n",
    "botton_escalas"
   ]
  },
  {
   "cell_type": "code",
   "execution_count": 278,
   "metadata": {},
   "outputs": [],
   "source": [
    "# Hago click en el botton\n",
    "botton_escalas.click()"
   ]
  },
  {
   "cell_type": "code",
   "execution_count": 146,
   "metadata": {},
   "outputs": [
    {
     "data": {
      "text/plain": [
       "[<selenium.webdriver.firefox.webelement.FirefoxWebElement (session=\"3af75e50-1573-43fd-96ae-e3a430484681\", element=\"b4c606aa-8ddb-4aac-9993-150d8d9b8522\")>,\n",
       " <selenium.webdriver.firefox.webelement.FirefoxWebElement (session=\"3af75e50-1573-43fd-96ae-e3a430484681\", element=\"0475576d-743d-4d8c-a23f-b9e451734d67\")>,\n",
       " <selenium.webdriver.firefox.webelement.FirefoxWebElement (session=\"3af75e50-1573-43fd-96ae-e3a430484681\", element=\"474107c9-f035-4407-804b-26a85e07353e\")>]"
      ]
     },
     "execution_count": 146,
     "metadata": {},
     "output_type": "execute_result"
    }
   ],
   "source": [
    "#secciones\n",
    "secciones_escalas = vuelo.find_elements_by_xpath('//div[@class=\"sc-cLQEGU hyoued\"]')\n",
    "secciones_escalas"
   ]
  },
  {
   "cell_type": "code",
   "execution_count": 10,
   "metadata": {},
   "outputs": [
    {
     "ename": "NameError",
     "evalue": "name 'vuelo' is not defined",
     "output_type": "error",
     "traceback": [
      "\u001b[0;31m---------------------------------------------------------------------------\u001b[0m",
      "\u001b[0;31mNameError\u001b[0m                                 Traceback (most recent call last)",
      "\u001b[0;32m<ipython-input-10-2e4748ea1e96>\u001b[0m in \u001b[0;36m<module>\u001b[0;34m\u001b[0m\n\u001b[1;32m      1\u001b[0m \u001b[0;31m#Conexiones\u001b[0m\u001b[0;34m\u001b[0m\u001b[0;34m\u001b[0m\u001b[0;34m\u001b[0m\u001b[0m\n\u001b[0;32m----> 2\u001b[0;31m \u001b[0mconexiones_del_vuelo\u001b[0m \u001b[0;34m=\u001b[0m \u001b[0mvuelo\u001b[0m\u001b[0;34m.\u001b[0m\u001b[0mfind_elements_by_xpath\u001b[0m\u001b[0;34m(\u001b[0m\u001b[0;34m'//div[@class=\"sc-hZSUBg gfeULV\"]/div[@class=\"sc-cLQEGU dnKRNG\"]'\u001b[0m\u001b[0;34m)\u001b[0m\u001b[0;34m\u001b[0m\u001b[0;34m\u001b[0m\u001b[0m\n\u001b[0m\u001b[1;32m      3\u001b[0m \u001b[0mconexiones_del_vuelo\u001b[0m\u001b[0;34m\u001b[0m\u001b[0;34m\u001b[0m\u001b[0m\n",
      "\u001b[0;31mNameError\u001b[0m: name 'vuelo' is not defined"
     ]
    }
   ],
   "source": [
    "#Conexiones\n",
    "conexiones_del_vuelo = vuelo.find_elements_by_xpath('//div[@class=\"sc-hZSUBg gfeULV\"]/div[@class=\"sc-cLQEGU dnKRNG\"]')\n",
    "conexiones_del_vuelo"
   ]
  },
  {
   "cell_type": "code",
   "execution_count": 139,
   "metadata": {},
   "outputs": [
    {
     "data": {
      "text/plain": [
       "2"
      ]
     },
     "execution_count": 139,
     "metadata": {},
     "output_type": "execute_result"
    }
   ],
   "source": [
    "#Número de conexiones\n",
    "conexiones = len(conexiones_del_vuelo)\n",
    "conexiones"
   ]
  },
  {
   "cell_type": "code",
   "execution_count": 136,
   "metadata": {},
   "outputs": [
    {
     "data": {
      "text/plain": [
       "['Airbus 320-200', 'Boeing 787-800', 'Boeing 777-300']"
      ]
     },
     "execution_count": 136,
     "metadata": {},
     "output_type": "execute_result"
    }
   ],
   "source": [
    "#Modelo de avion\n",
    "modelo_avion = vuelo.find_elements_by_xpath('//div[@class=\"airline-flight-details\"]/span[@class=\"sc-gzOgki uTyOl\"]')\n",
    "modelo_avion_vuelos = [i.text for i in modelo_avion]\n",
    "modelo_avion_vuelos"
   ]
  },
  {
   "cell_type": "code",
   "execution_count": 32,
   "metadata": {},
   "outputs": [
    {
     "data": {
      "text/plain": [
       "'Salida a las 19 Horas 05 Minutos, de Ezeiza Intl.'"
      ]
     },
     "execution_count": 32,
     "metadata": {},
     "output_type": "execute_result"
    }
   ],
   "source": [
    "#Origen \n",
    "vuelo.find_element_by_xpath('//div[@class=\"sc-cLQEGU hyoued\"]/div[@class=\"sc-esOvli iQSbOQ\"]/span[@class=\"sc-bsbRJL bMMExG\"]//span[@class=\"sr-only\"]').text"
   ]
  },
  {
   "cell_type": "code",
   "execution_count": 44,
   "metadata": {},
   "outputs": [
    {
     "data": {
      "text/plain": [
       "['Salida a las 19 Horas 05 Minutos, de Ezeiza Intl.',\n",
       " 'Llegada a las 21 Horas 24 Minutos, a A. Merino Benítez Intl.',\n",
       " 'Salida a las 08 Horas 55 Minutos, de A. Merino Benítez Intl.',\n",
       " 'Llegada a las 12 Horas 40 Minutos, a Guarulhos Intl.',\n",
       " 'Salida a las 23 Horas 30 Minutos, de Guarulhos Intl.',\n",
       " 'Llegada a las 13 Horas 25 Minutos, a Barajas Intl.']"
      ]
     },
     "execution_count": 44,
     "metadata": {},
     "output_type": "execute_result"
    }
   ],
   "source": [
    "box_origen = vuelo.find_elements_by_xpath('//span[@class=\"sc-bsbRJL bMMExG\"]//span[@class=\"sr-only\"]')\n",
    "origenes = [i.text for i in box_origen ]\n",
    "origenes"
   ]
  },
  {
   "cell_type": "code",
   "execution_count": 97,
   "metadata": {},
   "outputs": [],
   "source": [
    "#espera entre conexiones\n",
    "boxs_espera = vuelo.find_elements_by_xpath('//div[@class=\"sc-hMFtBS cfwWiO\"]/div[@class=\"sc-bAeIUo iAButJ\"]//time')\n",
    "box_espera = [i.text.replace('\\n',' ').replace('h','',1).replace('min','',1) for i in boxs_espera ]"
   ]
  },
  {
   "cell_type": "code",
   "execution_count": 98,
   "metadata": {},
   "outputs": [
    {
     "data": {
      "text/plain": [
       "['11 h 31 min', '10 h 50 min']"
      ]
     },
     "execution_count": 98,
     "metadata": {},
     "output_type": "execute_result"
    }
   ],
   "source": [
    "box_espera"
   ]
  },
  {
   "cell_type": "markdown",
   "metadata": {},
   "source": [
    "Cerrar la ventana emerjente "
   ]
  },
  {
   "cell_type": "code",
   "execution_count": 285,
   "metadata": {},
   "outputs": [],
   "source": [
    "driver.find_element_by_xpath('//div[@class=\"modal-component\"]//div[@class=\"modal-content sc-iwsKbI eHVGAN\"]//button[@class=\"close\"]').click()"
   ]
  },
  {
   "cell_type": "markdown",
   "metadata": {},
   "source": [
    "Hacer click sobre la sección de vuelo, para ver la tarifa "
   ]
  },
  {
   "cell_type": "code",
   "execution_count": 334,
   "metadata": {},
   "outputs": [],
   "source": [
    "vuelo.click()"
   ]
  },
  {
   "cell_type": "markdown",
   "metadata": {},
   "source": [
    "Sacar los tipos de boletos "
   ]
  },
  {
   "cell_type": "code",
   "execution_count": 128,
   "metadata": {},
   "outputs": [],
   "source": [
    "precios_tarifa = vuelo.find_elements_by_xpath('.//table[@class=\"fare-options-table\"]//tfoot//td[contains(@class,\"fare-\")]//span[@class=\"value\"]')\n",
    "precio_tarifa = [i.text for i in precios_tarifa]     "
   ]
  },
  {
   "cell_type": "code",
   "execution_count": 126,
   "metadata": {},
   "outputs": [],
   "source": [
    "nombres_tarifas = vuelo.find_elements_by_xpath('.//label')\n",
    "nombre_tarifas = [i.get_attribute('for') for i in nombres_tarifas]"
   ]
  },
  {
   "cell_type": "code",
   "execution_count": 131,
   "metadata": {},
   "outputs": [
    {
     "name": "stdout",
     "output_type": "stream",
     "text": [
      "LIGHT : US$862\n",
      "PLUS : US$958\n",
      "TOP : US$1065\n"
     ]
    }
   ],
   "source": [
    "nombre_precio_tarifas = zip(nombre_tarifas,precio_tarifa)\n",
    "for i in nombre_precio_tarifas:\n",
    "    print(f'{i[0]} : US${i[1]}')"
   ]
  },
  {
   "cell_type": "code",
   "execution_count": 127,
   "metadata": {},
   "outputs": [
    {
     "data": {
      "text/plain": [
       "['LIGHT', 'PLUS', 'TOP']"
      ]
     },
     "execution_count": 127,
     "metadata": {},
     "output_type": "execute_result"
    }
   ],
   "source": [
    "nombre_tarifas"
   ]
  },
  {
   "cell_type": "markdown",
   "metadata": {},
   "source": [
    "# Paso 4: Cerrrar el navegador"
   ]
  },
  {
   "cell_type": "code",
   "execution_count": 35,
   "metadata": {},
   "outputs": [],
   "source": [
    "driver.close()"
   ]
  },
  {
   "cell_type": "markdown",
   "metadata": {},
   "source": [
    "# Funciones"
   ]
  },
  {
   "cell_type": "code",
   "execution_count": 8,
   "metadata": {},
   "outputs": [],
   "source": [
    "def info_escalas(vuelo):\n",
    "    #secciones\n",
    "    secciones_escalas = vuelo.find_elements_by_xpath('//div[@class=\"sc-cLQEGU hyoued\"]')\n",
    "    \n",
    "    datos_escalas = []\n",
    "    \n",
    "    \n",
    "    #Conexiones\n",
    "    num_conexiones =  vuelo.find_elements_by_xpath('//div[@class=\"sc-hZSUBg gfeULV\"]/div[@class=\"sc-cLQEGU dnKRNG\"]')\n",
    "    num_conexiones =  len(num_conexiones)\n",
    "    #dic_escalas['Num_conexiones']=num_conexiones\n",
    "    #espera entre conexiones\n",
    "    boxs_espera = vuelo.find_elements_by_xpath('//div[@class=\"sc-hMFtBS cfwWiO\"]/div[@class=\"sc-bAeIUo iAButJ\"]//time')\n",
    "    box_espera = [i.text.replace('\\n',' ').replace('h','',1).replace('min','',1) for i in boxs_espera ]\n",
    "    #dic_escalas['ESpera_entre_conexiones']=box_espera\n",
    "            \n",
    "    \n",
    "    for idx,i in enumerate(secciones_escalas):  \n",
    "        dic_escalas={}\n",
    "        #Modelo de avion\n",
    "        modelo_avion = i.find_element_by_xpath('.//div[@class=\"airline-flight-details\"]/span[@class=\"sc-gzOgki uTyOl\"]').text\n",
    "        dic_escalas[f'Modelo_avion']=modelo_avion\n",
    "        #Origen \n",
    "        origen_vuelo = i.find_element_by_xpath('.//div[@class=\"sc-bwCtUz iybVbT\"]/abbr').get_attribute('title')\n",
    "        dic_escalas[f'Partida']=origen_vuelo\n",
    "    \n",
    "        datos_escalas.append(dic_escalas)\n",
    "    return datos_escalas\n",
    "    "
   ]
  },
  {
   "cell_type": "code",
   "execution_count": 284,
   "metadata": {},
   "outputs": [
    {
     "data": {
      "text/plain": [
       "[{'Modelo_avion': 'Airbus 320-200', 'Partida': 'EZE'},\n",
       " {'Modelo_avion': 'Boeing 787-800', 'Partida': 'SCL'},\n",
       " {'Modelo_avion': 'Boeing 777-300', 'Partida': 'GRU'}]"
      ]
     },
     "execution_count": 284,
     "metadata": {},
     "output_type": "execute_result"
    }
   ],
   "source": [
    "info_escalas(vuelo)"
   ]
  },
  {
   "cell_type": "code",
   "execution_count": 5,
   "metadata": {},
   "outputs": [],
   "source": [
    "def info_precios(vuelo):\n",
    "    data_precios = []\n",
    "    \n",
    "    #precios tarifa\n",
    "    precios_tarifa = vuelo.find_elements_by_xpath('.//table[@class=\"fare-options-table\"]//tfoot//td[contains(@class,\"fare-\")]//span[@class=\"value\"]')\n",
    "    precio_tarifa = [i.text for i in precios_tarifa]\n",
    "    \n",
    "    #Nombre de las tarifas\n",
    "    nombres_tarifas = vuelo.find_elements_by_xpath('.//label')\n",
    "    nombre_tarifas = [i.get_attribute('for') for i in nombres_tarifas]\n",
    "    \n",
    "    #zip\n",
    "    nombre_precio_tarifas = zip(nombre_tarifas,precio_tarifa)\n",
    "    \n",
    "    for idx , i in enumerate(nombre_precio_tarifas):\n",
    "        dic_tarifas_n = {}\n",
    "        \n",
    "        dic_tarifas_n[f'Nombre tarifa'] = i[0]\n",
    "        dic_tarifas_n[f'Precio'] = i[1]\n",
    "        \n",
    "        \n",
    "        #dic_tarifas_n[f'{i[0]} : US${i[1]}'] = i\n",
    "    \n",
    "    \n",
    "        data_precios.append(dic_tarifas_n)\n",
    "    return data_precios"
   ]
  },
  {
   "cell_type": "code",
   "execution_count": 315,
   "metadata": {},
   "outputs": [
    {
     "data": {
      "text/plain": [
       "[{'Nombre tarifa': 'LIGHT', 'Precio': '862'},\n",
       " {'Nombre tarifa': 'PLUS', 'Precio': '958'},\n",
       " {'Nombre tarifa': 'TOP', 'Precio': '1065'}]"
      ]
     },
     "execution_count": 315,
     "metadata": {},
     "output_type": "execute_result"
    }
   ],
   "source": [
    "info_precios(vuelo)"
   ]
  },
  {
   "cell_type": "code",
   "execution_count": 6,
   "metadata": {},
   "outputs": [],
   "source": [
    "class Buton:\n",
    "    def __init__(self,vuelo):\n",
    "        self.vuelo = vuelo\n",
    "    \n",
    "    def open(self):\n",
    "        self.vuelo.find_element_by_xpath('.//div[@class=\"flight-summary-stops-description\"]/button').click()\n",
    "        \n",
    "    def close(self):\n",
    "        driver.find_element_by_xpath('//div[@class=\"modal-component\"]//div[@class=\"modal-content sc-iwsKbI eHVGAN\"]//button[@class=\"close\"]').click()"
   ]
  },
  {
   "cell_type": "code",
   "execution_count": 7,
   "metadata": {},
   "outputs": [],
   "source": [
    "def scrapping(driver):\n",
    "    try:\n",
    "        \n",
    "    \n",
    "        vuelos = driver.find_elements_by_xpath('//li[@class=\"flight\"]')\n",
    "        data = []\n",
    "        \n",
    "        for idx,vuelo in enumerate(vuelos):\n",
    "            dic_vuelos = {}\n",
    "            print(f'scrapeando {idx + 1} de {len(vuelos)}')\n",
    "            buton = Buton(vuelo) \n",
    "            buton.open()\n",
    "            escalas = info_escalas(vuelo)\n",
    "            dic_vuelos['escalas']=escalas\n",
    "            buton.close()\n",
    "            vuelo.click()\n",
    "            precios = info_precios(vuelo)\n",
    "            dic_vuelos['precios']=precios\n",
    "            vuelo.click()\n",
    "            \n",
    "            data.append(dic_vuelos)\n",
    "            \n",
    "        return data \n",
    "    \n",
    "    except Exception as e:\n",
    "        print(f'Error')\n",
    "        print(e)"
   ]
  },
  {
   "cell_type": "code",
   "execution_count": 336,
   "metadata": {},
   "outputs": [
    {
     "name": "stdout",
     "output_type": "stream",
     "text": [
      "scrapeando 1 de 4\n",
      "scrapeando 2 de 4\n",
      "scrapeando 3 de 4\n",
      "scrapeando 4 de 4\n"
     ]
    }
   ],
   "source": [
    "data= scrapping(vuelos)"
   ]
  },
  {
   "cell_type": "code",
   "execution_count": 3,
   "metadata": {},
   "outputs": [],
   "source": [
    "from selenium.webdriver.support.ui import WebDriverWait\n",
    "from selenium.webdriver.support import expected_conditions as EC\n",
    "from selenium.webdriver.common.by import By\n",
    "from selenium.common.exceptions import TimeoutException"
   ]
  },
  {
   "cell_type": "code",
   "execution_count": 9,
   "metadata": {},
   "outputs": [
    {
     "name": "stdout",
     "output_type": "stream",
     "text": [
      "La página terminó de cargar\n",
      "scrapeando 1 de 3\n",
      "scrapeando 2 de 3\n",
      "scrapeando 3 de 3\n"
     ]
    }
   ],
   "source": [
    "options = webdriver.FirefoxOptions()\n",
    "options.add_argument('-private')\n",
    "driver = webdriver.Firefox(executable_path='../drivers/geckodriver',options=options)\n",
    "url = 'https://www.latam.com/es_un/apps/personas/booking?fecha1_dia=25&fecha1_anomes=2021-01&fecha2_dia=11&fecha2_anomes=2021-10&from_city2=MAD&to_city2=BUE&auAvailability=1&ida_vuelta=ida_vuelta&vuelos_origen=Buenos%20Aires&from_city1=BUE&vuelos_destino=Madrid&to_city1=MAD&flex=1&vuelos_fecha_salida_ddmmaaaa=24/01/2021&vuelos_fecha_regreso_ddmmaaaa=11/10/2021&cabina=Y&nadults=1&nchildren=0&ninfants=0&cod_promo=&stopover_outbound_days=0&stopover_inbound_days=0&application=#/'\n",
    "driver.get(url)\n",
    "#Introducir demora \n",
    "delay = 10\n",
    "try:\n",
    "    vuelo = WebDriverWait(driver,delay).until(EC.presence_of_element_located((By.XPATH,'//li[@class=\"flight\"]')))\n",
    "    print('La página terminó de cargar')\n",
    "    data = scrapping(driver)\n",
    "except TimeoutException:\n",
    "    print('Paso el tiempo máximo de espera')\n",
    "    print(data=[]) \n",
    "driver.close()"
   ]
  },
  {
   "cell_type": "code",
   "execution_count": 12,
   "metadata": {},
   "outputs": [
    {
     "name": "stdout",
     "output_type": "stream",
     "text": [
      "scrapeando 1 de 4\n",
      "scrapeando 2 de 4\n",
      "scrapeando 3 de 4\n",
      "scrapeando 4 de 4\n"
     ]
    }
   ],
   "source": [
    "data = scrapping(driver)"
   ]
  },
  {
   "cell_type": "code",
   "execution_count": 17,
   "metadata": {},
   "outputs": [
    {
     "data": {
      "text/plain": [
       "[{'escalas': [{'Modelo_avion': 'Airbus 320-200', 'Partida': 'EZE'},\n",
       "   {'Modelo_avion': 'Boeing 787-800', 'Partida': 'SCL'},\n",
       "   {'Modelo_avion': 'Boeing 777-300', 'Partida': 'GRU'}],\n",
       "  'precios': [{'Nombre tarifa': 'LIGHT', 'Precio': '862'},\n",
       "   {'Nombre tarifa': 'PLUS', 'Precio': '958'},\n",
       "   {'Nombre tarifa': 'TOP', 'Precio': '1065'}]},\n",
       " {'escalas': [{'Modelo_avion': 'Airbus 320-200', 'Partida': 'EZE'},\n",
       "   {'Modelo_avion': 'Airbus 320-200', 'Partida': 'LIM'},\n",
       "   {'Modelo_avion': 'Airbus 350-900', 'Partida': 'BOG'}],\n",
       "  'precios': [{'Nombre tarifa': 'PLUS', 'Precio': '756'},\n",
       "   {'Nombre tarifa': 'TOP', 'Precio': '845'}]},\n",
       " {'escalas': [{'Modelo_avion': 'Airbus 320-200', 'Partida': 'EZE'},\n",
       "   {'Modelo_avion': 'Boeing 787-800', 'Partida': 'SCL'},\n",
       "   {'Modelo_avion': '330', 'Partida': 'GRU'}],\n",
       "  'precios': [{'Nombre tarifa': 'PLUS', 'Precio': '958'},\n",
       "   {'Nombre tarifa': 'TOP', 'Precio': '1065'}]},\n",
       " {'escalas': [{'Modelo_avion': 'Airbus 320-200', 'Partida': 'EZE'},\n",
       "   {'Modelo_avion': 'Airbus 320-200', 'Partida': 'LIM'},\n",
       "   {'Modelo_avion': '330', 'Partida': 'GRU'}],\n",
       "  'precios': [{'Nombre tarifa': 'PLUS', 'Precio': '735'},\n",
       "   {'Nombre tarifa': 'TOP', 'Precio': '822'}]}]"
      ]
     },
     "execution_count": 17,
     "metadata": {},
     "output_type": "execute_result"
    }
   ],
   "source": [
    "data"
   ]
  },
  {
   "cell_type": "code",
   "execution_count": 2,
   "metadata": {},
   "outputs": [],
   "source": [
    "import pandas as pd"
   ]
  },
  {
   "cell_type": "code",
   "execution_count": 370,
   "metadata": {},
   "outputs": [
    {
     "data": {
      "text/plain": [
       "dict_items([('escalas', [{'Modelo_avion': 'Airbus 320-200', 'Partida': 'EZE'}, {'Modelo_avion': 'Boeing 787-800', 'Partida': 'SCL'}, {'Modelo_avion': 'Boeing 777-300', 'Partida': 'GRU'}]), ('precios', [{'Nombre tarifa': 'LIGHT', 'Precio': '862'}, {'Nombre tarifa': 'PLUS', 'Precio': '958'}, {'Nombre tarifa': 'TOP', 'Precio': '1065'}])])"
      ]
     },
     "execution_count": 370,
     "metadata": {},
     "output_type": "execute_result"
    }
   ],
   "source": [
    "data[0].items()"
   ]
  },
  {
   "cell_type": "code",
   "execution_count": 20,
   "metadata": {},
   "outputs": [],
   "source": [
    "data_f = pd.DataFrame(data)"
   ]
  },
  {
   "cell_type": "code",
   "execution_count": 21,
   "metadata": {},
   "outputs": [
    {
     "data": {
      "text/html": [
       "<div>\n",
       "<style scoped>\n",
       "    .dataframe tbody tr th:only-of-type {\n",
       "        vertical-align: middle;\n",
       "    }\n",
       "\n",
       "    .dataframe tbody tr th {\n",
       "        vertical-align: top;\n",
       "    }\n",
       "\n",
       "    .dataframe thead th {\n",
       "        text-align: right;\n",
       "    }\n",
       "</style>\n",
       "<table border=\"1\" class=\"dataframe\">\n",
       "  <thead>\n",
       "    <tr style=\"text-align: right;\">\n",
       "      <th></th>\n",
       "      <th>escalas</th>\n",
       "      <th>precios</th>\n",
       "    </tr>\n",
       "  </thead>\n",
       "  <tbody>\n",
       "    <tr>\n",
       "      <th>0</th>\n",
       "      <td>[{'Modelo_avion': 'Airbus 320-200', 'Partida':...</td>\n",
       "      <td>[{'Nombre tarifa': 'LIGHT', 'Precio': '862'}, ...</td>\n",
       "    </tr>\n",
       "    <tr>\n",
       "      <th>1</th>\n",
       "      <td>[{'Modelo_avion': 'Airbus 320-200', 'Partida':...</td>\n",
       "      <td>[{'Nombre tarifa': 'PLUS', 'Precio': '756'}, {...</td>\n",
       "    </tr>\n",
       "    <tr>\n",
       "      <th>2</th>\n",
       "      <td>[{'Modelo_avion': 'Airbus 320-200', 'Partida':...</td>\n",
       "      <td>[{'Nombre tarifa': 'PLUS', 'Precio': '958'}, {...</td>\n",
       "    </tr>\n",
       "    <tr>\n",
       "      <th>3</th>\n",
       "      <td>[{'Modelo_avion': 'Airbus 320-200', 'Partida':...</td>\n",
       "      <td>[{'Nombre tarifa': 'PLUS', 'Precio': '735'}, {...</td>\n",
       "    </tr>\n",
       "  </tbody>\n",
       "</table>\n",
       "</div>"
      ],
      "text/plain": [
       "                                             escalas  \\\n",
       "0  [{'Modelo_avion': 'Airbus 320-200', 'Partida':...   \n",
       "1  [{'Modelo_avion': 'Airbus 320-200', 'Partida':...   \n",
       "2  [{'Modelo_avion': 'Airbus 320-200', 'Partida':...   \n",
       "3  [{'Modelo_avion': 'Airbus 320-200', 'Partida':...   \n",
       "\n",
       "                                             precios  \n",
       "0  [{'Nombre tarifa': 'LIGHT', 'Precio': '862'}, ...  \n",
       "1  [{'Nombre tarifa': 'PLUS', 'Precio': '756'}, {...  \n",
       "2  [{'Nombre tarifa': 'PLUS', 'Precio': '958'}, {...  \n",
       "3  [{'Nombre tarifa': 'PLUS', 'Precio': '735'}, {...  "
      ]
     },
     "execution_count": 21,
     "metadata": {},
     "output_type": "execute_result"
    }
   ],
   "source": [
    "data_f.head()"
   ]
  },
  {
   "cell_type": "code",
   "execution_count": 1,
   "metadata": {},
   "outputs": [
    {
     "ename": "NameError",
     "evalue": "name 'data_f' is not defined",
     "output_type": "error",
     "traceback": [
      "\u001b[0;31m---------------------------------------------------------------------------\u001b[0m",
      "\u001b[0;31mNameError\u001b[0m                                 Traceback (most recent call last)",
      "\u001b[0;32m<ipython-input-1-ba976f070c86>\u001b[0m in \u001b[0;36m<module>\u001b[0;34m\u001b[0m\n\u001b[0;32m----> 1\u001b[0;31m \u001b[0mdata_f\u001b[0m\u001b[0;34m.\u001b[0m\u001b[0mto_csv\u001b[0m\u001b[0;34m(\u001b[0m\u001b[0;34m'datos_latam_airline.csv'\u001b[0m\u001b[0;34m)\u001b[0m\u001b[0;34m\u001b[0m\u001b[0;34m\u001b[0m\u001b[0m\n\u001b[0m",
      "\u001b[0;31mNameError\u001b[0m: name 'data_f' is not defined"
     ]
    }
   ],
   "source": [
    "data_f.to_csv('datos_latam_airline.csv')"
   ]
  }
 ],
 "metadata": {
  "kernelspec": {
   "display_name": "Python 3",
   "language": "python",
   "name": "python3"
  },
  "language_info": {
   "codemirror_mode": {
    "name": "ipython",
    "version": 3
   },
   "file_extension": ".py",
   "mimetype": "text/x-python",
   "name": "python",
   "nbconvert_exporter": "python",
   "pygments_lexer": "ipython3",
   "version": "3.8.5"
  }
 },
 "nbformat": 4,
 "nbformat_minor": 4
}
