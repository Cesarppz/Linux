{
 "cells": [
  {
   "cell_type": "code",
   "execution_count": 119,
   "metadata": {},
   "outputs": [],
   "source": [
    "import requests\n",
    "from bs4 import BeautifulSoup\n",
    "import pandas as pd"
   ]
  },
  {
   "cell_type": "code",
   "execution_count": 2,
   "metadata": {},
   "outputs": [],
   "source": [
    "url = 'https://www.pagina12.com.ar/'\n",
    "p12 = requests.get(url)\n",
    "s = BeautifulSoup(p12.text,'lxml')"
   ]
  },
  {
   "cell_type": "code",
   "execution_count": 14,
   "metadata": {},
   "outputs": [],
   "source": [
    "secciones = s.find('ul',attrs={'class':'horizontal-list main-sections hide-on-dropdown'}).find_all('li')\n",
    "link_secciones = [secion.a.get('href') for secion in secciones]"
   ]
  },
  {
   "cell_type": "code",
   "execution_count": 64,
   "metadata": {},
   "outputs": [
    {
     "data": {
      "text/plain": [
       "['https://www.pagina12.com.ar/secciones/el-pais',\n",
       " 'https://www.pagina12.com.ar/secciones/economia',\n",
       " 'https://www.pagina12.com.ar/secciones/sociedad',\n",
       " 'https://www.pagina12.com.ar/suplementos/cultura-y-espectaculos',\n",
       " 'https://www.pagina12.com.ar/secciones/deportes',\n",
       " 'https://www.pagina12.com.ar/secciones/el-mundo',\n",
       " 'https://www.pagina12.com.ar/secciones/cultura']"
      ]
     },
     "execution_count": 64,
     "metadata": {},
     "output_type": "execute_result"
    }
   ],
   "source": [
    "link_secciones"
   ]
  },
  {
   "cell_type": "code",
   "execution_count": null,
   "metadata": {},
   "outputs": [],
   "source": [
    "\n",
    "\n",
    "    "
   ]
  },
  {
   "cell_type": "code",
   "execution_count": 98,
   "metadata": {},
   "outputs": [],
   "source": [
    "box_secciones = [requests.get(seccion) for seccion in link_secciones]\n",
    "box_links =[BeautifulSoup(i.text,'lxml') for i in box_secciones]\n",
    "box_link =[i.find_all('h4',attrs={'class':'is-display-inline title-list'}) for i in box_links]"
   ]
  },
  {
   "cell_type": "code",
   "execution_count": 114,
   "metadata": {},
   "outputs": [],
   "source": [
    "all_links = []\n",
    "for i in box_link:\n",
    "    if i is not None:\n",
    "        for j in i:\n",
    "            all_links.append(j.a.get('href'))"
   ]
  },
  {
   "cell_type": "code",
   "execution_count": 115,
   "metadata": {},
   "outputs": [
    {
     "data": {
      "text/plain": [
       "['https://www.pagina12.com.ar/319202-el-gobierno-habilito-al-congreso-a-tratar-el-proyecto-para-s',\n",
       " 'https://www.pagina12.com.ar/319140-vuelta-a-clases-en-caba-los-docentes-advierten-que-haran-un-',\n",
       " 'https://www.pagina12.com.ar/319141-una-ayuda-para-las-obras-sociales',\n",
       " 'https://www.pagina12.com.ar/319143-coronavirus-axel-kicillof-anuncio-que-la-semana-proxima-comi',\n",
       " 'https://www.pagina12.com.ar/319151-los-movimientos-sociales-le-ponen-el-hombro-a-la-campana-de-',\n",
       " 'https://www.pagina12.com.ar/319156-la-venia-envenenada-y-el-silencio-lelo',\n",
       " 'https://www.pagina12.com.ar/319157-la-interna-de-juntos-por-el-cambio-dardos-de-miguel-pichetto',\n",
       " 'https://www.pagina12.com.ar/319159-las-dietas-de-los-legisladores-seguiran-congeladas-seis-mese',\n",
       " 'https://www.pagina12.com.ar/319210-ahora-es-el-turno-del-fmi',\n",
       " 'https://www.pagina12.com.ar/319199-es-oficial-la-prorroga-de-la-prohibicion-de-despidos-por-90-',\n",
       " 'https://www.pagina12.com.ar/319049-subiran-el-monto-de-la-tarjeta-alimentar',\n",
       " 'https://www.pagina12.com.ar/319051-ceos-vs-gremios-por-la-doble-indemnizacion',\n",
       " 'https://www.pagina12.com.ar/319063-el-desempleo-crecio-fuerte-en-la-ciudad',\n",
       " 'https://www.pagina12.com.ar/319073-reabrira-la-planta-de-adidas-en-chivilcoy',\n",
       " 'https://www.pagina12.com.ar/319078-transportaron-mas-carga',\n",
       " 'https://www.pagina12.com.ar/319104-medidas-para-fortalecer-la-inversion-en-salud',\n",
       " 'https://www.pagina12.com.ar/319249-mar-del-plata-investigan-a-un-rugbier-de-primera-division-po',\n",
       " 'https://www.pagina12.com.ar/319238-la-ministra-de-salud-de-sri-lanka-defendio-una-pocion-magica',\n",
       " 'https://www.pagina12.com.ar/319233-violencia-obstetrica-en-tucuman-una-joven-perdio-a-su-bebe-d',\n",
       " 'https://www.pagina12.com.ar/319230-la-onu-advirtio-que-en-2050-las-represas-seran-un-grave-prob',\n",
       " 'https://www.pagina12.com.ar/319221-la-juventud-de-la-matanza-colabora-para-la-inscripcion-en-bu',\n",
       " 'https://www.pagina12.com.ar/319216-clima-en-buenos-aires-el-pronostico-del-tiempo-para-este-sab',\n",
       " 'https://www.pagina12.com.ar/319235-efemerides-de-hoy-que-paso-un-23-de-enero',\n",
       " 'https://www.pagina12.com.ar/319106-coronavirus-en-argentina-se-registraron-otras-220-muertes',\n",
       " 'https://www.pagina12.com.ar/319244-liga-italiana-milan-le-dejo-la-punta-servida-al-inter-que-no',\n",
       " 'https://www.pagina12.com.ar/319237-defensa-y-justicia-es-el-nuevo-campeon-de-la-copa-sudamerica',\n",
       " 'https://www.pagina12.com.ar/319228-laprovittola-se-contagio-de-coronavirus',\n",
       " 'https://www.pagina12.com.ar/319227-mundial-de-handball-argentina-vencio-a-croacia-y-acaricia-lo',\n",
       " 'https://www.pagina12.com.ar/319097-el-reducido-de-la-primera-nacional-se-juega-este-domingo',\n",
       " 'https://www.pagina12.com.ar/319114-el-milan-de-ibrahimovic-no-quiere-ceder-terreno',\n",
       " 'https://www.pagina12.com.ar/319119-armani-y-borre-estan-muy-comodos-en-river',\n",
       " 'https://www.pagina12.com.ar/319121-lanus-defensa-y-justicia-una-final-unica-en-su-especie',\n",
       " 'https://www.pagina12.com.ar/319044-joseph-biden-ante-la-decadencia-de-estados-unidos',\n",
       " 'https://www.pagina12.com.ar/319079-arranca-el-foro-social-mundial',\n",
       " 'https://www.pagina12.com.ar/319096-la-historia-del-foro-social-mundial',\n",
       " 'https://www.pagina12.com.ar/319117-nuevo-record-en-mexico-de-contagios-y-muertes-por-coronaviru',\n",
       " 'https://www.pagina12.com.ar/319125-el-senado-de-ee-uu-confirmo-al-afroamericano-austin-como-sec',\n",
       " 'https://www.pagina12.com.ar/319137-los-democratas-apuran-el-juicio-a-donald-trump',\n",
       " 'https://www.pagina12.com.ar/319147-rusia-saluda-la-decision-de-estados-unidos-de-prolongar-el-t',\n",
       " 'https://www.pagina12.com.ar/319067-boris-johnson-advirtio-que-la-variante-britanica-del-virus-p',\n",
       " 'https://www.pagina12.com.ar/317616-magnus-carlsen-un-comentarista-de-lujo-para-gambito-de-dama',\n",
       " 'https://www.pagina12.com.ar/317154-francia-se-vuelve-a-fanatizar-con-arsene-lupin',\n",
       " 'https://www.pagina12.com.ar/317112-shakira-vendio-los-derechos-de-un-centenar-de-canciones-a-un',\n",
       " 'https://www.pagina12.com.ar/316288-el-instituto-de-carreras-alternativas-de-leo-masliah',\n",
       " 'https://www.pagina12.com.ar/316130-murio-la-sargento-hooks-de-locademia-de-policia',\n",
       " 'https://www.pagina12.com.ar/314783-por-primera-vez-el-concierto-de-ano-nuevo-en-viena-se-realiz',\n",
       " 'https://www.pagina12.com.ar/314619-murio-dawn-wells-protagonista-de-la-serie-la-isla-de-gilliga',\n",
       " 'https://www.pagina12.com.ar/313732-murio-el-cantante-de-salsa-tito-rojas']"
      ]
     },
     "execution_count": 115,
     "metadata": {},
     "output_type": "execute_result"
    }
   ],
   "source": [
    "all_links"
   ]
  },
  {
   "cell_type": "code",
   "execution_count": 88,
   "metadata": {},
   "outputs": [
    {
     "data": {
      "text/plain": [
       "[<h4 class=\"is-display-inline title-list\"><a class=\"\" href=\"https://www.pagina12.com.ar/317616-magnus-carlsen-un-comentarista-de-lujo-para-gambito-de-dama\">Magnus Carlsen, un comentarista de lujo para \"Gambito de dama\"</a></h4>,\n",
       " <h4 class=\"is-display-inline title-list\"><a class=\"\" href=\"https://www.pagina12.com.ar/317154-francia-se-vuelve-a-fanatizar-con-arsene-lupin\">Francia se vuelve a fanatizar con Arséne Lupin </a></h4>,\n",
       " <h4 class=\"is-display-inline title-list\"><a class=\"\" href=\"https://www.pagina12.com.ar/317112-shakira-vendio-los-derechos-de-un-centenar-de-canciones-a-un\">Shakira vendió los derechos de un centenar de canciones a un fondo de inversión </a></h4>,\n",
       " <h4 class=\"is-display-inline title-list\"><a class=\"\" href=\"https://www.pagina12.com.ar/316288-el-instituto-de-carreras-alternativas-de-leo-masliah\">El instituto de carreras alternativas de Leo Maslíah</a></h4>,\n",
       " <h4 class=\"is-display-inline title-list\"><a class=\"\" href=\"https://www.pagina12.com.ar/316130-murio-la-sargento-hooks-de-locademia-de-policia\">Murió la sargento Hooks de \"Locademia de policía\"</a></h4>,\n",
       " <h4 class=\"is-display-inline title-list\"><a class=\"\" href=\"https://www.pagina12.com.ar/314783-por-primera-vez-el-concierto-de-ano-nuevo-en-viena-se-realiz\">Por primera vez, el concierto de Año Nuevo en Viena se realizó sin público</a></h4>,\n",
       " <h4 class=\"is-display-inline title-list\"><a class=\"\" href=\"https://www.pagina12.com.ar/314619-murio-dawn-wells-protagonista-de-la-serie-la-isla-de-gilliga\">Murió Dawn Wells, protagonista de la serie \"La Isla de Gilligan\" </a></h4>,\n",
       " <h4 class=\"is-display-inline title-list\"><a class=\"\" href=\"https://www.pagina12.com.ar/313732-murio-el-cantante-de-salsa-tito-rojas\">Murió el cantante de salsa Tito Rojas</a></h4>]"
      ]
     },
     "execution_count": 88,
     "metadata": {},
     "output_type": "execute_result"
    }
   ],
   "source": [
    "link"
   ]
  },
  {
   "cell_type": "code",
   "execution_count": 58,
   "metadata": {},
   "outputs": [],
   "source": [
    "def obtener_info(soup):\n",
    "    dic_nota = {}\n",
    "    \n",
    "\n",
    "    #fecha\n",
    "        \n",
    "    fecha_article = soup.find('span',attrs={'pubdate':'pubdate'})\n",
    "    if fecha_article:\n",
    "        dic_nota['fecha'] = fecha_article.get('datetime')\n",
    "        \n",
    "        #Volanta \n",
    "        \n",
    "    volanta_article = soup.find('h2',attrs={'class':'article-prefix'})\n",
    "    if volanta_article:\n",
    "        dic_nota['volanta'] = volanta_article.text\n",
    "    else:\n",
    "        dic_nota['volanta'] = None\n",
    "        \n",
    "        #Copete\n",
    "        \n",
    "    copete_article = soup.find('div',attrs={'class':'article-summary'})\n",
    "    if copete_article:\n",
    "        dic_nota['copete'] = copete_article.text\n",
    "    else:\n",
    "        dic_nota['copete'] = None\n",
    "            \n",
    "        #Imagen\n",
    "        \n",
    "    imagen_article = soup.find('div',attrs={'class':'article-main-media-image'})\n",
    "    if imagen_article:\n",
    "        imagenes = imagen_article.find_all('img')\n",
    "            \n",
    "        if len(imagenes) != 0:\n",
    "            imagen_src = imagenes[-1].get('data-src')  \n",
    "                \n",
    "            try:\n",
    "                imagen_req = requests.get(imagen_src)\n",
    "                    \n",
    "                if imagen_req.status_code == 200:\n",
    "                    dic_nota['imagen'] = imagen_req.content\n",
    "                else:\n",
    "                    print('La imagen no esta disponible')\n",
    "                \n",
    "            except Exception as e:\n",
    "                    print('Error al hacer el request {e}')         \n",
    "        else:\n",
    "            print('Error no hay imagenes')\n",
    "        #contenido\n",
    "        \n",
    "    article_text = soup.find('div',attrs={'class':\"article-text\"})\n",
    "    if article_text:\n",
    "            dic_nota['contenido'] = article_text.get_text()\n",
    "        \n",
    "    else:\n",
    "        dic_nota['contenido'] = None\n",
    "        \n",
    "    return dic_nota\n",
    "\n",
    "\n",
    "\n",
    "\n",
    "\n",
    "\n",
    "\n",
    "\n",
    "\n",
    "\n",
    "\n",
    "\n",
    "\n",
    "\n",
    "    #try:\n",
    "        \n",
    "        \n",
    "    \n",
    "    #except Exception as e:\n",
    "        #print(f' -*-  Error  -*-\\n {e}\\n')\n",
    "        \n",
    "        "
   ]
  },
  {
   "cell_type": "code",
   "execution_count": 59,
   "metadata": {},
   "outputs": [],
   "source": [
    "def scrape_nota(url):\n",
    "    try:\n",
    "        nota = requests.get(url)\n",
    "    except Exception as e :\n",
    "        print('\\nError')\n",
    "        print(e)\n",
    "        return None\n",
    "    \n",
    "    if nota.status_code == 200:\n",
    "        nota_s = BeautifulSoup(nota.text,'lxml')\n",
    "        dic_nota = obtener_info(nota_s)\n",
    "        dic_nota['url'] = url\n",
    "        \n",
    "        \n",
    "    else:\n",
    "        print(f'Error en la {url}')\n",
    "        print('El status_code no es 200')\n",
    "        return None\n",
    "        \n",
    "\n",
    "    \n",
    "    return dic_nota\n",
    "    "
   ]
  },
  {
   "cell_type": "code",
   "execution_count": 117,
   "metadata": {},
   "outputs": [
    {
     "name": "stdout",
     "output_type": "stream",
     "text": [
      "Escrapenado link 0/47\n",
      "Escrapenado link 1/47\n",
      "Escrapenado link 2/47\n",
      "Escrapenado link 3/47\n",
      "Escrapenado link 4/47\n",
      "Escrapenado link 5/47\n",
      "Escrapenado link 6/47\n",
      "Escrapenado link 7/47\n",
      "Escrapenado link 8/47\n",
      "Escrapenado link 9/47\n",
      "Escrapenado link 10/47\n",
      "Escrapenado link 11/47\n",
      "Escrapenado link 12/47\n",
      "Escrapenado link 13/47\n",
      "Escrapenado link 14/47\n",
      "Escrapenado link 15/47\n",
      "Escrapenado link 16/47\n",
      "Escrapenado link 17/47\n",
      "Escrapenado link 18/47\n",
      "Escrapenado link 19/47\n",
      "Escrapenado link 20/47\n",
      "Escrapenado link 21/47\n",
      "Escrapenado link 22/47\n",
      "Escrapenado link 23/47\n",
      "Escrapenado link 24/47\n",
      "Escrapenado link 25/47\n",
      "Escrapenado link 26/47\n",
      "Escrapenado link 27/47\n",
      "Escrapenado link 28/47\n",
      "Escrapenado link 29/47\n",
      "Escrapenado link 30/47\n",
      "Escrapenado link 31/47\n",
      "Escrapenado link 32/47\n",
      "Escrapenado link 33/47\n",
      "Escrapenado link 34/47\n",
      "Escrapenado link 35/47\n",
      "Escrapenado link 36/47\n",
      "Escrapenado link 37/47\n",
      "Escrapenado link 38/47\n",
      "Escrapenado link 39/47\n",
      "Escrapenado link 40/47\n",
      "Escrapenado link 41/47\n",
      "Escrapenado link 42/47\n",
      "Escrapenado link 43/47\n",
      "Escrapenado link 44/47\n",
      "Escrapenado link 45/47\n",
      "Escrapenado link 46/47\n",
      "Escrapenado link 47/47\n"
     ]
    }
   ],
   "source": [
    "data = []\n",
    "\n",
    "for idx , nota in enumerate(all_links):\n",
    "    print(f'Escrapenado link {idx}/{len(all_links)-1}')\n",
    "    data.append(scrape_nota(nota))\n",
    "    \n",
    "    "
   ]
  },
  {
   "cell_type": "code",
   "execution_count": 120,
   "metadata": {},
   "outputs": [],
   "source": [
    "data_frama = pd.DataFrame(data)"
   ]
  },
  {
   "cell_type": "code",
   "execution_count": 122,
   "metadata": {},
   "outputs": [
    {
     "data": {
      "text/html": [
       "<div>\n",
       "<style scoped>\n",
       "    .dataframe tbody tr th:only-of-type {\n",
       "        vertical-align: middle;\n",
       "    }\n",
       "\n",
       "    .dataframe tbody tr th {\n",
       "        vertical-align: top;\n",
       "    }\n",
       "\n",
       "    .dataframe thead th {\n",
       "        text-align: right;\n",
       "    }\n",
       "</style>\n",
       "<table border=\"1\" class=\"dataframe\">\n",
       "  <thead>\n",
       "    <tr style=\"text-align: right;\">\n",
       "      <th></th>\n",
       "      <th>fecha</th>\n",
       "      <th>volanta</th>\n",
       "      <th>copete</th>\n",
       "      <th>imagen</th>\n",
       "      <th>contenido</th>\n",
       "      <th>url</th>\n",
       "    </tr>\n",
       "  </thead>\n",
       "  <tbody>\n",
       "    <tr>\n",
       "      <th>0</th>\n",
       "      <td>2021-01-23</td>\n",
       "      <td>Con un decreto firmado este viernes</td>\n",
       "      <td>La iniciativa es impulsada por algunos goberna...</td>\n",
       "      <td>b'\\xff\\xd8\\xff\\xe0\\x00\\x10JFIF\\x00\\x01\\x01\\x01...</td>\n",
       "      <td>El Gobierno amplió con un decreto firmado este...</td>\n",
       "      <td>https://www.pagina12.com.ar/319202-el-gobierno...</td>\n",
       "    </tr>\n",
       "    <tr>\n",
       "      <th>1</th>\n",
       "      <td>2021-01-23</td>\n",
       "      <td>El gobierno porteño amenaza con descontarles l...</td>\n",
       "      <td>Los maestros plantearon que no hay condiciones...</td>\n",
       "      <td>b'\\xff\\xd8\\xff\\xe0\\x00\\x10JFIF\\x00\\x01\\x01\\x00...</td>\n",
       "      <td>Después del anuncio por parte del jefe del gob...</td>\n",
       "      <td>https://www.pagina12.com.ar/319140-vuelta-a-cl...</td>\n",
       "    </tr>\n",
       "    <tr>\n",
       "      <th>2</th>\n",
       "      <td>2021-01-23</td>\n",
       "      <td>El Gobierno dará un auxilio en el marco de la ...</td>\n",
       "      <td>La medida alcanzará a 46 sindicatos y se repar...</td>\n",
       "      <td>b'\\xff\\xd8\\xff\\xe0\\x00\\x10JFIF\\x00\\x01\\x01\\x00...</td>\n",
       "      <td>El Gobierno otorgó 227,7 millones de pesos a...</td>\n",
       "      <td>https://www.pagina12.com.ar/319141-una-ayuda-p...</td>\n",
       "    </tr>\n",
       "    <tr>\n",
       "      <th>3</th>\n",
       "      <td>2021-01-23</td>\n",
       "      <td>Los preparativos para la vuelta a clases en la...</td>\n",
       "      <td>None</td>\n",
       "      <td>b'\\xff\\xd8\\xff\\xe0\\x00\\x10JFIF\\x00\\x01\\x01\\x00...</td>\n",
       "      <td>El gobernador de la provincia de Buenos Aires,...</td>\n",
       "      <td>https://www.pagina12.com.ar/319143-coronavirus...</td>\n",
       "    </tr>\n",
       "    <tr>\n",
       "      <th>4</th>\n",
       "      <td>2021-01-23</td>\n",
       "      <td>Promueven la aplicación de la vacuna en los ba...</td>\n",
       "      <td>None</td>\n",
       "      <td>b'\\xff\\xd8\\xff\\xe0\\x00\\x10JFIF\\x00\\x01\\x01\\x00...</td>\n",
       "      <td>Los movimientos sociales comenzaron a trabajar...</td>\n",
       "      <td>https://www.pagina12.com.ar/319151-los-movimie...</td>\n",
       "    </tr>\n",
       "  </tbody>\n",
       "</table>\n",
       "</div>"
      ],
      "text/plain": [
       "        fecha                                            volanta  \\\n",
       "0  2021-01-23                Con un decreto firmado este viernes   \n",
       "1  2021-01-23  El gobierno porteño amenaza con descontarles l...   \n",
       "2  2021-01-23  El Gobierno dará un auxilio en el marco de la ...   \n",
       "3  2021-01-23  Los preparativos para la vuelta a clases en la...   \n",
       "4  2021-01-23  Promueven la aplicación de la vacuna en los ba...   \n",
       "\n",
       "                                              copete  \\\n",
       "0  La iniciativa es impulsada por algunos goberna...   \n",
       "1  Los maestros plantearon que no hay condiciones...   \n",
       "2  La medida alcanzará a 46 sindicatos y se repar...   \n",
       "3                                               None   \n",
       "4                                               None   \n",
       "\n",
       "                                              imagen  \\\n",
       "0  b'\\xff\\xd8\\xff\\xe0\\x00\\x10JFIF\\x00\\x01\\x01\\x01...   \n",
       "1  b'\\xff\\xd8\\xff\\xe0\\x00\\x10JFIF\\x00\\x01\\x01\\x00...   \n",
       "2  b'\\xff\\xd8\\xff\\xe0\\x00\\x10JFIF\\x00\\x01\\x01\\x00...   \n",
       "3  b'\\xff\\xd8\\xff\\xe0\\x00\\x10JFIF\\x00\\x01\\x01\\x00...   \n",
       "4  b'\\xff\\xd8\\xff\\xe0\\x00\\x10JFIF\\x00\\x01\\x01\\x00...   \n",
       "\n",
       "                                           contenido  \\\n",
       "0  El Gobierno amplió con un decreto firmado este...   \n",
       "1  Después del anuncio por parte del jefe del gob...   \n",
       "2    El Gobierno otorgó 227,7 millones de pesos a...   \n",
       "3  El gobernador de la provincia de Buenos Aires,...   \n",
       "4  Los movimientos sociales comenzaron a trabajar...   \n",
       "\n",
       "                                                 url  \n",
       "0  https://www.pagina12.com.ar/319202-el-gobierno...  \n",
       "1  https://www.pagina12.com.ar/319140-vuelta-a-cl...  \n",
       "2  https://www.pagina12.com.ar/319141-una-ayuda-p...  \n",
       "3  https://www.pagina12.com.ar/319143-coronavirus...  \n",
       "4  https://www.pagina12.com.ar/319151-los-movimie...  "
      ]
     },
     "execution_count": 122,
     "metadata": {},
     "output_type": "execute_result"
    }
   ],
   "source": [
    "data_frama.head()"
   ]
  },
  {
   "cell_type": "code",
   "execution_count": 123,
   "metadata": {},
   "outputs": [],
   "source": [
    "data_frama.to_csv('notas_p12.csv')"
   ]
  }
 ],
 "metadata": {
  "kernelspec": {
   "display_name": "Python 3",
   "language": "python",
   "name": "python3"
  },
  "language_info": {
   "codemirror_mode": {
    "name": "ipython",
    "version": 3
   },
   "file_extension": ".py",
   "mimetype": "text/x-python",
   "name": "python",
   "nbconvert_exporter": "python",
   "pygments_lexer": "ipython3",
   "version": "3.8.5"
  }
 },
 "nbformat": 4,
 "nbformat_minor": 4
}
