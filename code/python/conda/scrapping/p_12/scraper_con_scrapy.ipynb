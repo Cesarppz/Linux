{
 "cells": [
  {
   "cell_type": "code",
   "execution_count": 4,
   "metadata": {},
   "outputs": [],
   "source": [
    "import scrapy"
   ]
  },
  {
   "cell_type": "code",
   "execution_count": 8,
   "metadata": {},
   "outputs": [
    {
     "ename": "NameError",
     "evalue": "name 'Spider' is not defined",
     "output_type": "error",
     "traceback": [
      "\u001b[0;31m---------------------------------------------------------------------------\u001b[0m",
      "\u001b[0;31mNameError\u001b[0m                                 Traceback (most recent call last)",
      "\u001b[0;32m<ipython-input-8-b8adb807d64d>\u001b[0m in \u001b[0;36m<module>\u001b[0;34m\u001b[0m\n\u001b[0;32m----> 1\u001b[0;31m \u001b[0;32mclass\u001b[0m \u001b[0mspider12\u001b[0m\u001b[0;34m(\u001b[0m\u001b[0mscrapy\u001b[0m\u001b[0;34m,\u001b[0m\u001b[0mSpider\u001b[0m\u001b[0;34m)\u001b[0m\u001b[0;34m:\u001b[0m\u001b[0;34m\u001b[0m\u001b[0;34m\u001b[0m\u001b[0m\n\u001b[0m\u001b[1;32m      2\u001b[0m     \u001b[0mname\u001b[0m \u001b[0;34m=\u001b[0m \u001b[0;34m'spider12'\u001b[0m\u001b[0;34m\u001b[0m\u001b[0;34m\u001b[0m\u001b[0m\n\u001b[1;32m      3\u001b[0m     \u001b[0;31m# EStablesco los dominio donde quiero scarpear\u001b[0m\u001b[0;34m\u001b[0m\u001b[0;34m\u001b[0m\u001b[0;34m\u001b[0m\u001b[0m\n\u001b[1;32m      4\u001b[0m     \u001b[0mallwed_domains\u001b[0m \u001b[0;34m=\u001b[0m \u001b[0;34m[\u001b[0m\u001b[0;34m'pagina12.com.ar'\u001b[0m\u001b[0;34m]\u001b[0m\u001b[0;34m\u001b[0m\u001b[0;34m\u001b[0m\u001b[0m\n\u001b[1;32m      5\u001b[0m \u001b[0;34m\u001b[0m\u001b[0m\n",
      "\u001b[0;31mNameError\u001b[0m: name 'Spider' is not defined"
     ]
    }
   ],
   "source": [
    "class spider12(scrapy.Spider):\n",
    "    name = 'spider12'\n",
    "    # EStablesco los dominio donde quiero scarpear\n",
    "    allowed_domains = ['pagina12.com.ar']\n",
    "    \n",
    "    custom_settings = {'FEED_FORMAT':'json',\n",
    "                       'FEED_URI':'resultados.json',\n",
    "                       'DEPTH_LIMIT':2}\n",
    "    \n",
    "    # Las url de los articulos que quiero scraper , que los saco del anterior scraper con bs4\n",
    "    \n",
    "    start_urls = [\n",
    "        'https://www.pagina12.com.ar/secciones/el-pais',\n",
    "     'https://www.pagina12.com.ar/secciones/economia',\n",
    "     'https://www.pagina12.com.ar/secciones/sociedad',\n",
    "     'https://www.pagina12.com.ar/suplementos/cultura-y-espectaculos',\n",
    "     'https://www.pagina12.com.ar/secciones/deportes',\n",
    "     'https://www.pagina12.com.ar/secciones/el-mundo',\n",
    "     'https://www.pagina12.com.ar/secciones/cultura']\n",
    "    \n",
    "    def parse(self,response):\n",
    "        #Articulo \n",
    "        nota_promocionada = response.xpath('//div[@class=\"article-item__content\"]/h4/a/@href').getall()\n",
    "        if nota_promocionada is not None:\n",
    "            #pasar la respuesta a parse_nota\n",
    "            yield response.follow(nota_promocionada,callback=self.parse_nota)\n",
    "            \n",
    "        next_page = response.xpath('//div[@class=\"articles-list-pager\"]/nav[@aria-label=\"Articles list pagination\"]/a/@href')\n",
    "        if next_page is not None:\n",
    "            next_page.follow(next_page,callback=self.parse)\n",
    "        \n",
    "    def parse_nota(self,response):\n",
    "        #fecha\n",
    "        fecha_article = response.xpath('//span[@pubdate=\"pubdate\"]/@datatime').get()\n",
    "        #contenido\n",
    "        article_text = ''.join(response.xpath('//div[@class=\"article-text\"]/text()').getall())\n",
    "        #copete\n",
    "        copete_article = response.xpath('//div[@class=\"article-summary\"]/text()').get()\n",
    "        \n",
    "        \n",
    "        \n",
    "        "
   ]
  },
  {
   "cell_type": "code",
   "execution_count": 7,
   "metadata": {},
   "outputs": [],
   "source": [
    "from scrapy.crawler import CrawlerProcess"
   ]
  },
  {
   "cell_type": "code",
   "execution_count": null,
   "metadata": {},
   "outputs": [],
   "source": [
    "process = CrawlerProcess()\n",
    "process.crawl(Spider12)\n",
    "process.start()"
   ]
  },
  {
   "cell_type": "code",
   "execution_count": null,
   "metadata": {},
   "outputs": [],
   "source": []
  }
 ],
 "metadata": {
  "kernelspec": {
   "display_name": "Python 3",
   "language": "python",
   "name": "python3"
  },
  "language_info": {
   "codemirror_mode": {
    "name": "ipython",
    "version": 3
   },
   "file_extension": ".py",
   "mimetype": "text/x-python",
   "name": "python",
   "nbconvert_exporter": "python",
   "pygments_lexer": "ipython3",
   "version": "3.8.8"
  }
 },
 "nbformat": 4,
 "nbformat_minor": 4
}
