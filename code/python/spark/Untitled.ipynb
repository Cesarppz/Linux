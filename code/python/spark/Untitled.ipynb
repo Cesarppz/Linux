{
 "cells": [
  {
   "cell_type": "code",
   "execution_count": 1,
   "id": "936f1a3f-01fd-46d8-81bb-e9e7b5a02a90",
   "metadata": {},
   "outputs": [],
   "source": [
    "from pyspark import SparkContext\n",
    "from pyspark.sql import SparkSession"
   ]
  },
  {
   "cell_type": "code",
   "execution_count": 2,
   "id": "68855493-8951-4bfc-8a49-5d3ee3294ae1",
   "metadata": {},
   "outputs": [],
   "source": [
    "sc = SparkContext(master='local', appName='TransformacionesyAcciones')"
   ]
  },
  {
   "cell_type": "code",
   "execution_count": 3,
   "id": "667aea1e-9cde-4013-bc79-0c2a0943cf3e",
   "metadata": {},
   "outputs": [
    {
     "data": {
      "text/plain": [
       "pyspark.rdd.RDD"
      ]
     },
     "execution_count": 3,
     "metadata": {},
     "output_type": "execute_result"
    }
   ],
   "source": [
    "rdd1 = sc.parallelize([1,2,3])\n",
    "type(rdd1)"
   ]
  },
  {
   "cell_type": "code",
   "execution_count": 5,
   "id": "c05a7910-e26c-4194-8db6-3da97317f613",
   "metadata": {},
   "outputs": [
    {
     "data": {
      "text/plain": [
       "[1, 2, 3]"
      ]
     },
     "execution_count": 5,
     "metadata": {},
     "output_type": "execute_result"
    }
   ],
   "source": [
    "rdd1.collect()"
   ]
  },
  {
   "cell_type": "code",
   "execution_count": 6,
   "id": "296ced14-2974-44f1-bc57-8821c96e0376",
   "metadata": {},
   "outputs": [
    {
     "data": {
      "text/html": [
       "\n",
       "        <div>\n",
       "            <p><b>SparkContext</b></p>\n",
       "\n",
       "            <p><a href=\"http://192.168.250.147:4040\">Spark UI</a></p>\n",
       "\n",
       "            <dl>\n",
       "              <dt>Version</dt>\n",
       "                <dd><code>v3.3.1</code></dd>\n",
       "              <dt>Master</dt>\n",
       "                <dd><code>local</code></dd>\n",
       "              <dt>AppName</dt>\n",
       "                <dd><code>TransformacionesyAcciones</code></dd>\n",
       "            </dl>\n",
       "        </div>\n",
       "        "
      ],
      "text/plain": [
       "<SparkContext master=local appName=TransformacionesyAcciones>"
      ]
     },
     "execution_count": 6,
     "metadata": {},
     "output_type": "execute_result"
    }
   ],
   "source": [
    "sc"
   ]
  },
  {
   "cell_type": "markdown",
   "id": "538aa6ba-f14a-473b-a24f-9f72029ec8b0",
   "metadata": {},
   "source": [
    "# Carga de paises"
   ]
  },
  {
   "cell_type": "code",
   "execution_count": 7,
   "id": "133e0874-ddba-4eb6-b95a-9a629601d539",
   "metadata": {},
   "outputs": [],
   "source": [
    "path = '/home/cesarppz/Documents/master/code/python/spark/recursos_curso/curso-apache-spark-platzi/files/'"
   ]
  },
  {
   "cell_type": "code",
   "execution_count": 25,
   "id": "76cf5dd0-3023-4657-bb82-8c7329c89206",
   "metadata": {},
   "outputs": [],
   "source": [
    "equiposOlimpicosRDD = sc.textFile(path+'paises.csv').map(lambda x : x.split(','))"
   ]
  },
  {
   "cell_type": "code",
   "execution_count": 26,
   "id": "e57d68e3-bea5-4619-aa80-fd08823f9320",
   "metadata": {},
   "outputs": [
    {
     "data": {
      "text/plain": [
       "[['id', 'equipo', 'sigla'],\n",
       " ['1', '30. Februar', 'AUT'],\n",
       " ['2', 'A North American Team', 'MEX'],\n",
       " ['3', 'Acipactli', 'MEX'],\n",
       " ['4', 'Acturus', 'ARG']]"
      ]
     },
     "execution_count": 26,
     "metadata": {},
     "output_type": "execute_result"
    }
   ],
   "source": [
    "equiposOlimpicosRDD.take(5)"
   ]
  },
  {
   "cell_type": "markdown",
   "id": "98fc9727-cd6d-43f0-9256-a9ecb5d922c8",
   "metadata": {},
   "source": [
    "## Contar cuantos paises hay"
   ]
  },
  {
   "cell_type": "code",
   "execution_count": 29,
   "id": "6433ddbe-96c7-47ac-bcc9-38414da0cbc1",
   "metadata": {},
   "outputs": [
    {
     "data": {
      "text/plain": [
       "231"
      ]
     },
     "execution_count": 29,
     "metadata": {},
     "output_type": "execute_result"
    }
   ],
   "source": [
    "equiposOlimpicosRDD.map(lambda x : x[2]).distinct().count()"
   ]
  },
  {
   "cell_type": "code",
   "execution_count": 43,
   "id": "2bab1ed1-b35b-4883-8b92-d2e8b3f9e9c0",
   "metadata": {},
   "outputs": [
    {
     "data": {
      "text/plain": [
       "[['1', '30. Februar', 'AUT'],\n",
       " ['71', 'Austria', 'AUT'],\n",
       " ['72', 'Austria-1', 'AUT'],\n",
       " ['73', 'Austria-2', 'AUT'],\n",
       " ['143', 'Breslau', 'AUT'],\n",
       " ['145', 'Brigantia', 'AUT'],\n",
       " ['293', 'Donar III', 'AUT'],\n",
       " ['334', 'Evita VI', 'AUT'],\n",
       " ['651', 'May-Be 1960', 'AUT'],\n",
       " ['837', '\"R.-V. Germania; Leitmeritz\"', 'AUT'],\n",
       " ['1007', 'Surprise', 'AUT']]"
      ]
     },
     "execution_count": 43,
     "metadata": {},
     "output_type": "execute_result"
    }
   ],
   "source": [
    "equiposOlimpicosRDD.filter(lambda x : 'AUT' in x).collect()"
   ]
  },
  {
   "cell_type": "code",
   "execution_count": 55,
   "id": "4f0737f0-5251-498f-ac28-5e049c15d7c0",
   "metadata": {},
   "outputs": [
    {
     "data": {
      "text/plain": [
       "[('sigla', 1), ('AUT', 11), ('MEX', 9), ('ARG', 18), ('AFG', 1)]"
      ]
     },
     "execution_count": 55,
     "metadata": {},
     "output_type": "execute_result"
    }
   ],
   "source": [
    "equiposOlimpicosRDD.map(lambda x : (x[2],x[:2])).groupByKey().mapValues(len).take(5)"
   ]
  },
  {
   "cell_type": "code",
   "execution_count": 38,
   "id": "8e4f010b-85cd-4737-b85d-3f641fadb198",
   "metadata": {},
   "outputs": [
    {
     "data": {
      "text/plain": [
       "1185"
      ]
     },
     "execution_count": 38,
     "metadata": {},
     "output_type": "execute_result"
    }
   ],
   "source": [
    "equiposOlimpicosRDD.countApprox(20)"
   ]
  },
  {
   "cell_type": "markdown",
   "id": "5bc23401-3c65-4fda-a7e4-cd4e50231e0e",
   "metadata": {},
   "source": [
    "# TRabajar con dos RDD"
   ]
  },
  {
   "cell_type": "code",
   "execution_count": 48,
   "id": "1a7aac78-9e7b-4c97-b2a2-646acf2b649a",
   "metadata": {},
   "outputs": [],
   "source": [
    "deportistaOlimpicoRDD = sc.textFile(path+'deportista.csv').map(lambda l: l.split(','))\n",
    "deportistaOlimpicoRDD2 = sc.textFile(path+'deportista2.csv').map(lambda l: l.split(','))\n",
    "\n",
    "deportistaOlimpicoRDD = deportistaOlimpicoRDD.union(deportistaOlimpicoRDD2)"
   ]
  },
  {
   "cell_type": "code",
   "execution_count": 49,
   "id": "11ab8344-ff6a-458c-8377-7a66c8fcdfe1",
   "metadata": {},
   "outputs": [
    {
     "data": {
      "text/plain": [
       "135572"
      ]
     },
     "execution_count": 49,
     "metadata": {},
     "output_type": "execute_result"
    }
   ],
   "source": [
    "deportistaOlimpicoRDD.count()"
   ]
  },
  {
   "cell_type": "code",
   "execution_count": 56,
   "id": "6a673740-cf72-4c5b-9b9a-51b5da51184a",
   "metadata": {},
   "outputs": [
    {
     "data": {
      "text/plain": [
       "[['deportista_id', 'nombre', 'genero', 'edad', 'altura', 'peso', 'equipo_id'],\n",
       " ['99999', 'Alexander Grant Alick Rennie', '1', '32', '182', '71', '967'],\n",
       " ['99998', 'Robert John Bob Renney', '1', '21', '178', '90', '66']]"
      ]
     },
     "execution_count": 56,
     "metadata": {},
     "output_type": "execute_result"
    }
   ],
   "source": [
    "deportistaOlimpicoRDD.top(3)"
   ]
  },
  {
   "cell_type": "code",
   "execution_count": 68,
   "id": "bab47c31-519e-4bf8-8b7a-039365dbc30c",
   "metadata": {},
   "outputs": [
    {
     "data": {
      "text/plain": [
       "[('970', (['68062', 'Lee MinHui', '2', '28', '174', '65'], 'KOR')),\n",
       " ('154', (['39161', 'Angel Merdzhanov Gavrilov', '1', '24', '0', '0'], 'BUL')),\n",
       " ('1084',\n",
       "  (['62843', 'Olha Vasylivna Korobka', '2', '18', '181', '167'], 'UKR')),\n",
       " ('678', (['97550', 'Puntsagiin Skhbat', '1', '24', '174', '82'], 'MGL')),\n",
       " ('1096', (['106789', 'Hugo Scherzer', '1', '43', '0', '0'], 'USA'))]"
      ]
     },
     "execution_count": 68,
     "metadata": {},
     "output_type": "execute_result"
    }
   ],
   "source": [
    " deportistaOlimpicoRDD.map(lambda x : [x[-1], x[:-1]]) \\\n",
    "    .join(equiposOlimpicosRDD.map(lambda x : [x[0], x[2]])) \\\n",
    "    .takeSample(False, 5, 25)"
   ]
  },
  {
   "cell_type": "code",
   "execution_count": 73,
   "id": "dda644ed-9adf-444b-823a-069c51d2ba5b",
   "metadata": {},
   "outputs": [
    {
     "data": {
      "text/plain": [
       "[['resultado_id', 'medalla', 'deportista_id', 'juego_id', 'evento_id'],\n",
       " ['99999', 'NA', '50604', '51', '568'],\n",
       " ['99998', 'NA', '50603', '47', '36']]"
      ]
     },
     "execution_count": 73,
     "metadata": {},
     "output_type": "execute_result"
    }
   ],
   "source": [
    "resultado = sc.textFile(path+'resultados.csv').map(lambda x : x.split(','))\n",
    "resultado.top(3)"
   ]
  },
  {
   "cell_type": "code",
   "execution_count": null,
   "id": "8a61b29e-f428-4ce9-afe8-7068882f4196",
   "metadata": {},
   "outputs": [],
   "source": []
  }
 ],
 "metadata": {
  "kernelspec": {
   "display_name": "Python [conda env:ia]",
   "language": "python",
   "name": "conda-env-ia-py"
  },
  "language_info": {
   "codemirror_mode": {
    "name": "ipython",
    "version": 3
   },
   "file_extension": ".py",
   "mimetype": "text/x-python",
   "name": "python",
   "nbconvert_exporter": "python",
   "pygments_lexer": "ipython3",
   "version": "3.8.8"
  }
 },
 "nbformat": 4,
 "nbformat_minor": 5
}
