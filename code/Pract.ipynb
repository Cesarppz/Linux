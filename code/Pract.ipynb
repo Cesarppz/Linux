{
 "cells": [
  {
   "cell_type": "code",
   "execution_count": null,
   "metadata": {},
   "outputs": [],
   "source": [
    "from scipy.stats import binom \n",
    "from scipy.stats import norm\n",
    "from scipy.stats import geom\n",
    "\n",
    "dist = binom(25,0.0666666)\n",
    "\n",
    "x = np.arange(0,26)\n",
    "y = [dist.pmf(i) for i in x]\n",
    "plt.bar(x,y)\n",
    "plt.show()\n",
    "\n",
    "#dist3 = geom(3,0.7)\n",
    "x = np.arange(0,4)\n",
    "y = [geom.pmf(i,0.7) for i in x]\n",
    "plt.bar(x,y)\n",
    "plt.show()\n",
    "\n",
    "import math\n",
    "\n",
    "def poasson(l,x):\n",
    "    return (math.exp(-1)*(l**x)) / math.factorial(x)\n",
    "\n",
    "def suma(prob,n):\n",
    "    if n < 0:\n",
    "        return 0\n",
    "    return prob[n]+suma(prob,n-1)\n",
    "\n",
    "x= np.arange(0,3)\n",
    "prob = [poasson(1,i) for i in range(0,2)]\n",
    "1-suma(prob,len(prob)-1)\n",
    "\n",
    "from scipy.stats import poisson\n",
    "\n",
    "x = [i for i in range(0,11)]\n",
    "y = [poisson.pmf(i,mu=0.4) for i in range(0,11)]\n",
    "plt.bar(x,y)\n",
    "plt.show()\n",
    "\n",
    "1-(y[0]+y[1]+y[2])"
   ]
  }
 ],
 "metadata": {
  "kernelspec": {
   "display_name": "Python 3",
   "language": "python",
   "name": "python3"
  },
  "language_info": {
   "codemirror_mode": {
    "name": "ipython",
    "version": 3
   },
   "file_extension": ".py",
   "mimetype": "text/x-python",
   "name": "python",
   "nbconvert_exporter": "python",
   "pygments_lexer": "ipython3",
   "version": "3.8.5"
  }
 },
 "nbformat": 4,
 "nbformat_minor": 4
}
