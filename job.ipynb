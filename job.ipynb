{
 "cells": [
  {
   "cell_type": "code",
   "execution_count": 139,
   "metadata": {},
   "outputs": [],
   "source": [
    "from selenium import webdriver\n",
    "import requests \n",
    "import re\n",
    "import pandas as pd\n",
    "import time "
   ]
  },
  {
   "cell_type": "code",
   "execution_count": 2,
   "metadata": {},
   "outputs": [],
   "source": [
    "url = 'https://www.martindale.com/search/attorneys/?term=business%20law&params=eyJ0eXBlIjoicGVvcGxlIiwidGVybSI6ImJ1c2luZXNzIGxhdyIsInBhZ2VUaXRsZSI6ImE6QnVzaW5lc3MgTGF3IiwiaW5pdGlhbFVybCI6eyJwcmFjdGljZUFyZWFzIjpbIkJ1c2luZXNzIExhdyJdLCJtYWluT2ZmaWNlRmxhZyI6IlkiLCJrZXl3b3JkIjoiIiwicGFnZVRpdGxlIjoiYTpCdXNpbmVzcyBMYXcifSwicHJhY3RpY2VBcmVhcyI6WyJCdXNpbmVzcyBMYXciXSwicHJhY3RpY2VBcmVhc1JlY2VudHMiOlsiQnVzaW5lc3MgTGF3Il0sImdlb0xvY2F0aW9uRmFjZXQiOlsiQ2FsaWZvcm5pYSwgVS5TLkEuIl0sImdlb0xvY2F0aW9uRmFjZXRSZWNlbnRzIjpbIkNhbGlmb3JuaWEsIFUuUy5BLiJdLCJwYWdlIjoxLCJsaW1pdCI6MjUsIm9mZnNldCI6MCwic29ydCI6IiIsInNvcnRUeXBlIjoiIiwiY2xlYXJQYXJhbXMiOmZhbHNlLCJrZXl3b3JkIjoiIn0='\n",
    "job = requests.get(url)"
   ]
  },
  {
   "cell_type": "code",
   "execution_count": 3,
   "metadata": {},
   "outputs": [
    {
     "data": {
      "text/plain": [
       "403"
      ]
     },
     "execution_count": 3,
     "metadata": {},
     "output_type": "execute_result"
    }
   ],
   "source": [
    "job.status_code"
   ]
  },
  {
   "cell_type": "markdown",
   "metadata": {},
   "source": [
    "# Paso 1"
   ]
  },
  {
   "cell_type": "code",
   "execution_count": 135,
   "metadata": {},
   "outputs": [],
   "source": [
    "options = webdriver.FirefoxOptions()\n",
    "options.add_argument('-private')\n",
    "\n",
    "\n",
    "driver = webdriver.Firefox(executable_path='code/python/conda/scrapping/drivers/geckodriver',options=options)"
   ]
  },
  {
   "cell_type": "markdown",
   "metadata": {},
   "source": [
    "# Paso 2"
   ]
  },
  {
   "cell_type": "code",
   "execution_count": 125,
   "metadata": {},
   "outputs": [],
   "source": [
    "driver.get(url)"
   ]
  },
  {
   "cell_type": "markdown",
   "metadata": {},
   "source": [
    "# Paso 3"
   ]
  },
  {
   "cell_type": "code",
   "execution_count": 126,
   "metadata": {},
   "outputs": [],
   "source": [
    "button = driver.find_elements_by_xpath('//li[@class = \"detail_title\"]/a')"
   ]
  },
  {
   "cell_type": "code",
   "execution_count": 129,
   "metadata": {},
   "outputs": [],
   "source": [
    "link_p = [i.get_attribute('href') for i in button]"
   ]
  },
  {
   "cell_type": "code",
   "execution_count": 132,
   "metadata": {},
   "outputs": [
    {
     "data": {
      "text/plain": [
       "['https://www.martindale.com/organization/prenovost-normandin-bergh-dawe-219632/santa-ana-california-259098-f/',\n",
       " 'https://www.martindale.com/organization/ericksen-arbuthnot-84831/walnut-creek-california-282219-f/',\n",
       " 'https://www.martindale.com/attorney/mary-felicia-apanius-2003337/',\n",
       " 'https://www.martindale.com/attorney/william-j-arnone-jr-267988/',\n",
       " 'https://www.martindale.com/attorney/ms-jolynn-m-pollard-scharrer-169074456/',\n",
       " 'https://www.martindale.com/attorney/walter-f-spath-iii-232987/',\n",
       " 'https://www.martindale.com/attorney/d-michael-trainotti-116498/',\n",
       " 'https://www.martindale.com/attorney/stephanie-kathleen-delaney-300359522/',\n",
       " 'https://www.martindale.com/attorney/charles-b-christensen-211532/',\n",
       " 'https://www.martindale.com/attorney/barry-g-edwards-120585/',\n",
       " 'https://www.martindale.com/attorney/jeffery-w-johnson-148889/',\n",
       " 'https://www.martindale.com/attorney/mr-richard-scott-van-dyke-esq-33884835/',\n",
       " 'https://www.martindale.com/attorney/gary-j-spradling-217402/',\n",
       " 'https://www.martindale.com/attorney/stacie-l-power-46295667/',\n",
       " 'https://www.martindale.com/attorney/ms-maria-christine-roberts-168240022/',\n",
       " 'https://www.martindale.com/attorney/michael-p-merrill-267987/',\n",
       " 'https://www.martindale.com/attorney/joshua-m-rosenberg-168498020/',\n",
       " 'https://www.martindale.com/attorney/mr-anthony-smernes-jr-92859/',\n",
       " 'https://www.martindale.com/attorney/timothy-joseph-kooy-300001820/',\n",
       " 'https://www.martindale.com/attorney/casey-l-morris-4285010/',\n",
       " 'https://www.martindale.com/attorney/marina-n-vitek-274240/',\n",
       " 'https://www.martindale.com/attorney/rossi-a-russell-119081/',\n",
       " 'https://www.martindale.com/attorney/glenn-a-stanton-280804/',\n",
       " 'https://www.martindale.com/attorney/deborah-k-boyett-2342552/',\n",
       " 'https://www.martindale.com/attorney/scott-j-sheldon-esq-mba-160260621/']"
      ]
     },
     "execution_count": 132,
     "metadata": {},
     "output_type": "execute_result"
    }
   ],
   "source": [
    "link_p"
   ]
  },
  {
   "cell_type": "markdown",
   "metadata": {},
   "source": [
    "# Paso 4"
   ]
  },
  {
   "cell_type": "code",
   "execution_count": 84,
   "metadata": {},
   "outputs": [],
   "source": [
    "driver.close()"
   ]
  },
  {
   "cell_type": "markdown",
   "metadata": {},
   "source": [
    "# Pruebas"
   ]
  },
  {
   "cell_type": "code",
   "execution_count": 19,
   "metadata": {},
   "outputs": [],
   "source": [
    "button[0].click()"
   ]
  },
  {
   "cell_type": "code",
   "execution_count": 16,
   "metadata": {},
   "outputs": [
    {
     "data": {
      "text/plain": [
       "'Craig W. Armstrong'"
      ]
     },
     "execution_count": 16,
     "metadata": {},
     "output_type": "execute_result"
    }
   ],
   "source": [
    "# Nombre\n",
    "name = driver.find_element_by_xpath('//h1[@class = \"profile-title--bold\"]').text\n",
    "name"
   ]
  },
  {
   "cell_type": "code",
   "execution_count": 28,
   "metadata": {},
   "outputs": [
    {
     "data": {
      "text/plain": [
       "'Banking, Bankruptcy, Commercial Litigation'"
      ]
     },
     "execution_count": 28,
     "metadata": {},
     "output_type": "execute_result"
    }
   ],
   "source": [
    "#Titulo\n",
    "title = driver.find_elements_by_xpath('//li[@class = \"masthead-list__item\"]')\n",
    "title = [i.text for i in title ][1]\n",
    "title"
   ]
  },
  {
   "cell_type": "code",
   "execution_count": 31,
   "metadata": {},
   "outputs": [
    {
     "data": {
      "text/plain": [
       "'Santa Ana, CA'"
      ]
     },
     "execution_count": 31,
     "metadata": {},
     "output_type": "execute_result"
    }
   ],
   "source": [
    "# Firm Name: \n",
    "firm_name = driver.find_element_by_xpath('//li[@class = \"masthead-list__item masthead-list__item--bold\"]').text\n",
    "firm_name"
   ]
  },
  {
   "cell_type": "code",
   "execution_count": 38,
   "metadata": {},
   "outputs": [
    {
     "data": {
      "text/plain": [
       "'http://www.pnbd.com/'"
      ]
     },
     "execution_count": 38,
     "metadata": {},
     "output_type": "execute_result"
    }
   ],
   "source": [
    "# Website\n",
    "website = driver.find_element_by_xpath('//div[@class=\"small-12 medium-9 columns experience-value \"]/a').get_attribute('href')\n",
    "website"
   ]
  },
  {
   "cell_type": "code",
   "execution_count": 73,
   "metadata": {},
   "outputs": [
    {
     "data": {
      "text/plain": [
       "'714-547-2444|714-602-3843|(714) 835-2889'"
      ]
     },
     "execution_count": 73,
     "metadata": {},
     "output_type": "execute_result"
    }
   ],
   "source": [
    "# Phone\n",
    "phone = driver.find_elements_by_xpath('//div[@class=\"small-12 medium-9 columns experience-value \"]/span')\n",
    "phone = [i.text for i in phone if re.match(r'((\\(?\\d\\)?){3,4}\\s?-?){3}',i.text)]\n",
    "phone = '|'.join(phone)\n",
    "phone"
   ]
  },
  {
   "cell_type": "code",
   "execution_count": 62,
   "metadata": {},
   "outputs": [
    {
     "data": {
      "text/plain": [
       "'2122 North Broadway, Suite 200, Santa Ana, CA 92706-2614'"
      ]
     },
     "execution_count": 62,
     "metadata": {},
     "output_type": "execute_result"
    }
   ],
   "source": [
    "# Mailing Address\n",
    "mailing = driver.find_elements_by_xpath('//div[@class=\"small-12 medium-9 columns experience-value \"]')\n",
    "mailing[1].text"
   ]
  },
  {
   "cell_type": "code",
   "execution_count": 72,
   "metadata": {},
   "outputs": [
    {
     "data": {
      "text/plain": [
       "'Appellate Practice|Automobile Law|Banks And Banking|Banking Law|Banking Litigation|Commercial Litigation|Bankruptcy|Business Law|Business Litigation|Complex Litigation|Civil Litigation|Collections|Construction Litigation|Corporate Law|Corporate Litigation|Creditors Rights|Creditor Bankruptcy|Dealership Law|Employment Litigation|Estate Planning|Probate|Federal Civil Practice|Financial Institutions Law|Insurance Coverage|Insurance Litigation|Lenders Rights|Loan Workouts|Mortgage Banking Law|Real Estate|Real Estate Litigation|Nationwide Bankruptcy|Loan Sub-Servicing'"
      ]
     },
     "execution_count": 72,
     "metadata": {},
     "output_type": "execute_result"
    }
   ],
   "source": [
    "# Area \n",
    "area = driver.find_elements_by_xpath('//ul[@id=\"aopList\"]/li')\n",
    "area = [i.text for i in area]\n",
    "area = '|'.join(area)\n",
    "area"
   ]
  },
  {
   "cell_type": "code",
   "execution_count": 77,
   "metadata": {},
   "outputs": [],
   "source": [
    "driver.back()"
   ]
  },
  {
   "cell_type": "markdown",
   "metadata": {},
   "source": [
    "# Function"
   ]
  },
  {
   "cell_type": "code",
   "execution_count": 145,
   "metadata": {},
   "outputs": [],
   "source": [
    "def scrap(links):\n",
    "    list_l = []\n",
    "    for idx,i in enumerate(links):\n",
    "        dic_l = {}\n",
    "        print(f'Scraping profile {idx} of {len(links)-1}')\n",
    "        \n",
    "        try:\n",
    "            driver.get(i)\n",
    "            time.sleep(2)\n",
    "                \n",
    "        except Exception as e:\n",
    "            print(e,'en el comienzo')\n",
    "        \n",
    "        #Name\n",
    "        try:\n",
    "            name = driver.find_element_by_xpath('//h1[@class = \"profile-title--bold\"]').text\n",
    "            dic_l['name'] = name\n",
    "        except Exception as e:\n",
    "            print(e,'in name')\n",
    "        \n",
    "        #Titulo\n",
    "        try:\n",
    "            title = driver.find_elements_by_xpath('//li[@class = \"masthead-list__item\"]')\n",
    "            title = [i.text for i in title ][1]\n",
    "            dic_l['title'] = title\n",
    "        except Exception as e:\n",
    "            print(e,'in title')\n",
    "        \n",
    "        #Firm name\n",
    "        try:\n",
    "            firm_name = driver.find_element_by_xpath('//li[@class = \"masthead-list__item masthead-list__item--bold\"]').text\n",
    "            dic_l['firm_name'] = firm_name\n",
    "        except Exception as e:\n",
    "            print(e,'in firm')\n",
    "        \n",
    "        #Phone\n",
    "        try:\n",
    "            phone = driver.find_elements_by_xpath('//div[@class=\"small-12 medium-9 columns experience-value \"]/span')\n",
    "            phone = [i.text for i in phone if re.match(r'((\\(?\\d\\)?){3,4}\\s?-?){3}',i.text)]\n",
    "            phone = '|'.join(phone)\n",
    "            dic_l['phone'] = phone\n",
    "        except Exception as e:\n",
    "            print(e,'in phone')\n",
    "        \n",
    "        #Mailing Address\n",
    "        try:\n",
    "            mailing = driver.find_elements_by_xpath('//div[@class=\"small-12 medium-9 columns experience-value \"]')\n",
    "            mailing = mailing[1].text\n",
    "            dic_l['mailing'] = mailing\n",
    "        except Exception as e:\n",
    "            print(e,'in mailing')\n",
    "        \n",
    "        #Area\n",
    "        try:\n",
    "            area = driver.find_elements_by_xpath('//ul[@id=\"aopList\"]/li')\n",
    "            area = [i.text for i in area]\n",
    "            area = '|'.join(area)\n",
    "            dic_l['area'] = area\n",
    "        except Exception as e:\n",
    "            print(e,'in area')\n",
    "        \n",
    "        list_l.append(dic_l)\n",
    "\n",
    "    return pd.DataFrame(list_l)"
   ]
  },
  {
   "cell_type": "code",
   "execution_count": 146,
   "metadata": {},
   "outputs": [
    {
     "name": "stdout",
     "output_type": "stream",
     "text": [
      "Scraping profile 0 of 24\n",
      "Scraping profile 1 of 24\n",
      "Scraping profile 2 of 24\n",
      "Scraping profile 3 of 24\n",
      "Scraping profile 4 of 24\n",
      "Scraping profile 5 of 24\n",
      "Scraping profile 6 of 24\n",
      "Scraping profile 7 of 24\n",
      "Scraping profile 8 of 24\n",
      "Scraping profile 9 of 24\n",
      "Scraping profile 10 of 24\n",
      "Scraping profile 11 of 24\n",
      "Scraping profile 12 of 24\n",
      "Scraping profile 13 of 24\n",
      "Scraping profile 14 of 24\n",
      "Scraping profile 15 of 24\n",
      "Scraping profile 16 of 24\n",
      "Scraping profile 17 of 24\n",
      "Scraping profile 18 of 24\n",
      "Scraping profile 19 of 24\n",
      "Scraping profile 20 of 24\n",
      "Scraping profile 21 of 24\n",
      "Scraping profile 22 of 24\n",
      "Scraping profile 23 of 24\n",
      "Scraping profile 24 of 24\n"
     ]
    },
    {
     "data": {
      "text/html": [
       "<div>\n",
       "<style scoped>\n",
       "    .dataframe tbody tr th:only-of-type {\n",
       "        vertical-align: middle;\n",
       "    }\n",
       "\n",
       "    .dataframe tbody tr th {\n",
       "        vertical-align: top;\n",
       "    }\n",
       "\n",
       "    .dataframe thead th {\n",
       "        text-align: right;\n",
       "    }\n",
       "</style>\n",
       "<table border=\"1\" class=\"dataframe\">\n",
       "  <thead>\n",
       "    <tr style=\"text-align: right;\">\n",
       "      <th></th>\n",
       "      <th>name</th>\n",
       "      <th>title</th>\n",
       "      <th>firm_name</th>\n",
       "      <th>phone</th>\n",
       "      <th>mailing</th>\n",
       "      <th>area</th>\n",
       "    </tr>\n",
       "  </thead>\n",
       "  <tbody>\n",
       "    <tr>\n",
       "      <th>0</th>\n",
       "      <td>Prenovost, Normandin, Bergh &amp; Dawe A Professio...</td>\n",
       "      <td>Banking, Bankruptcy, Commercial Litigation</td>\n",
       "      <td>Santa Ana, CA</td>\n",
       "      <td>714-547-2444|714-602-3843|(714) 835-2889</td>\n",
       "      <td>2122 North Broadway, Suite 200, Santa Ana, CA ...</td>\n",
       "      <td>Appellate Practice|Automobile Law|Banks And Ba...</td>\n",
       "    </tr>\n",
       "    <tr>\n",
       "      <th>1</th>\n",
       "      <td>Ericksen Arbuthnot</td>\n",
       "      <td>We are proud of our enduring commitment to pro...</td>\n",
       "      <td>Walnut Creek, CA</td>\n",
       "      <td>510-832-7770|925-395-4947|925-947-4921</td>\n",
       "      <td>570 Lennon Lane, Walnut Creek, CA 94598-2415</td>\n",
       "      <td>Business Litigation|Construction Law|Employmen...</td>\n",
       "    </tr>\n",
       "    <tr>\n",
       "      <th>2</th>\n",
       "      <td>Mary-Felicia Apanius</td>\n",
       "      <td>Peer Reviews\\nNo Reviews\\nClient Reviews\\n No ...</td>\n",
       "      <td>Partner at Oldman, Cooley, Sallus, Birnberg, C...</td>\n",
       "      <td>818-986-8080</td>\n",
       "      <td>University of California, Los Angeles, B.A., 1979</td>\n",
       "      <td>Trust Litigation|Conservatorship|Estate Planni...</td>\n",
       "    </tr>\n",
       "    <tr>\n",
       "      <th>3</th>\n",
       "      <td>William J. Arnone, Jr.</td>\n",
       "      <td>Peer Reviews\\n4.9/5.0 (2)\\nClient Reviews\\n No...</td>\n",
       "      <td>Managing Partner at Merrill, Arnone &amp; Jones, LLP</td>\n",
       "      <td>707-304-5172|707-528-2882|707-528-6015</td>\n",
       "      <td>University of California at Davis, B.A., with ...</td>\n",
       "      <td>Business Litigation|Business Transactions|Inte...</td>\n",
       "    </tr>\n",
       "    <tr>\n",
       "      <th>4</th>\n",
       "      <td>Ms. JoLynn M. Pollard Scharrer</td>\n",
       "      <td>Peer Reviews\\nNo Reviews\\nClient Reviews\\n No ...</td>\n",
       "      <td>Shareholder at Hunt Ortmann Palffy Nieves Darl...</td>\n",
       "      <td>877-916-7075|(626) 440-5200|(626) 796-0107</td>\n",
       "      <td>California State University Northridge, B.A., ...</td>\n",
       "      <td>Business Litigation|Insurance|Toxic Tort/Envir...</td>\n",
       "    </tr>\n",
       "    <tr>\n",
       "      <th>5</th>\n",
       "      <td>Walter F. Spath, III</td>\n",
       "      <td>Peer Reviews\\n4.7/5.0 (2)\\nClient Reviews\\n No...</td>\n",
       "      <td>Member at Christensen &amp; Spath LLP</td>\n",
       "      <td>619-236-9343</td>\n",
       "      <td>University of California at Los Angeles, B.A.,...</td>\n",
       "      <td>Business Law|Civil Litigation|Corporate Law|La...</td>\n",
       "    </tr>\n",
       "    <tr>\n",
       "      <th>6</th>\n",
       "      <td>D. Michael Trainotti</td>\n",
       "      <td>Peer Reviews\\n5.0/5.0\\nClient Reviews\\n No Rev...</td>\n",
       "      <td>Member at D. Michael Trainotti, Inc.</td>\n",
       "      <td>562-741-5096|562-590-8621|562-590-8181</td>\n",
       "      <td>California State University at Long Beach, B.A...</td>\n",
       "      <td>Real Estate|Estate Planning|Taxation|Trusts an...</td>\n",
       "    </tr>\n",
       "    <tr>\n",
       "      <th>7</th>\n",
       "      <td>Stephanie Kathleen Delaney</td>\n",
       "      <td>Peer Reviews\\nNo Reviews\\nClient Reviews\\n No ...</td>\n",
       "      <td>Attorney at RMO LLP</td>\n",
       "      <td>619-450-2424|(619) 323-3203</td>\n",
       "      <td>University of Texas at Austin, B.A.</td>\n",
       "      <td>Trusts and Estates|Guardianship and Conservato...</td>\n",
       "    </tr>\n",
       "    <tr>\n",
       "      <th>8</th>\n",
       "      <td>Charles B. Christensen</td>\n",
       "      <td>Peer Reviews\\n5.0/5.0\\nClient Reviews\\n No Rev...</td>\n",
       "      <td>Member at Christensen &amp; Spath LLP</td>\n",
       "      <td>619-236-9343|619-236-8307</td>\n",
       "      <td>Claremont McKenna College, B.A., 1970</td>\n",
       "      <td>Construction Defect Law|Land Use|Civil Litigat...</td>\n",
       "    </tr>\n",
       "    <tr>\n",
       "      <th>9</th>\n",
       "      <td>Barry G. Edwards</td>\n",
       "      <td>Peer Reviews\\nNo Reviews\\nClient Reviews\\n No ...</td>\n",
       "      <td>Member at Hamburg, Karic, Edwards &amp; Martin LLP</td>\n",
       "      <td>310-362-4692|310-552-9291</td>\n",
       "      <td>Indiana University, B.S., 1983</td>\n",
       "      <td>Taxation Law|Real Estate Law|General Business ...</td>\n",
       "    </tr>\n",
       "    <tr>\n",
       "      <th>10</th>\n",
       "      <td>Jeffery W. Johnson</td>\n",
       "      <td>Peer Reviews\\n5.0/5.0\\nClient Reviews\\n No Rev...</td>\n",
       "      <td>Member at J. Johnson &amp; Associates, Inc.</td>\n",
       "      <td>626-421-7304|(626) 585-5663|(626) 239-3630</td>\n",
       "      <td>Butler University, B.A., cum laude with high h...</td>\n",
       "      <td>Health Care Law|Regulatory and Administrative ...</td>\n",
       "    </tr>\n",
       "    <tr>\n",
       "      <th>11</th>\n",
       "      <td>Mr. Richard Scott Van Dyke, Esq.</td>\n",
       "      <td>Peer Reviews\\n4.7/5.0 (21)\\nClient Reviews\\n N...</td>\n",
       "      <td>President at Van Dyke &amp; Associates, APLC</td>\n",
       "      <td>619-374-0095|619-344-0977|619-599-0716</td>\n",
       "      <td>Embry-Riddle Aeronautical University, B.S., Pr...</td>\n",
       "      <td>Business Litigation|Probate Litigation|Trust L...</td>\n",
       "    </tr>\n",
       "    <tr>\n",
       "      <th>12</th>\n",
       "      <td>Gary J. Spradling</td>\n",
       "      <td>Peer Reviews\\n5.0/5.0\\nClient Reviews\\n No Rev...</td>\n",
       "      <td>Shareholder at Duckor Spradling Metzger &amp; Wynn...</td>\n",
       "      <td>619-727-6146|(619) 209-3030</td>\n",
       "      <td>Southeast Missouri State University, B.S., Bus...</td>\n",
       "      <td>Business and Corporate Transactions|Health Care</td>\n",
       "    </tr>\n",
       "    <tr>\n",
       "      <th>13</th>\n",
       "      <td>Stacie L. Power</td>\n",
       "      <td>Peer Reviews\\nNo Reviews\\nClient Reviews\\n 100...</td>\n",
       "      <td>Attorney at Power Law, P.C.</td>\n",
       "      <td>800-544-1761|530-576-5740|916-436-5475|(888) 7...</td>\n",
       "      <td>California State University - Chico; McGeorge ...</td>\n",
       "      <td>Real Estate|Residential Real Estate|Commercial...</td>\n",
       "    </tr>\n",
       "    <tr>\n",
       "      <th>14</th>\n",
       "      <td>Ms. Maria Christine Roberts</td>\n",
       "      <td>Peer Reviews\\n5.0/5.0\\nClient Reviews\\n No Rev...</td>\n",
       "      <td>Partner at Greene &amp; Roberts LLP</td>\n",
       "      <td>619-393-4810|(619) 398-3400|(619) 330-4907</td>\n",
       "      <td>University of San Diego, B.A., 1985; Oxford Un...</td>\n",
       "      <td>Labor and Employment|General Business Litigati...</td>\n",
       "    </tr>\n",
       "    <tr>\n",
       "      <th>15</th>\n",
       "      <td>Michael P. Merrill</td>\n",
       "      <td>Peer Reviews\\n5.0/5.0\\nClient Reviews\\n No Rev...</td>\n",
       "      <td>Retired Partner at Merrill, Arnone &amp; Jones, LLP</td>\n",
       "      <td>707-304-5172|707-528-2882|707-528-6015</td>\n",
       "      <td>University of San Francisco, B.S., 1964</td>\n",
       "      <td>Labor Law|Employment Law|Real Estate Litigatio...</td>\n",
       "    </tr>\n",
       "    <tr>\n",
       "      <th>16</th>\n",
       "      <td>Joshua M. Rosenberg</td>\n",
       "      <td>Peer Reviews\\nNo Reviews\\nClient Reviews\\n No ...</td>\n",
       "      <td>Associate at Kinsella Weitzman Iser Kump LLP</td>\n",
       "      <td>(310) 566-9800</td>\n",
       "      <td>University of Pennsylvania, B.A., 2001; Univer...</td>\n",
       "      <td>Entertainment Litigation|Intellectual Property...</td>\n",
       "    </tr>\n",
       "    <tr>\n",
       "      <th>17</th>\n",
       "      <td>Mr. Anthony Smernes, Jr.</td>\n",
       "      <td>Peer Reviews\\n5.0/5.0\\nClient Reviews\\n No Rev...</td>\n",
       "      <td>Member at Anthony Smernes</td>\n",
       "      <td>(916) 367-0630|(916) 928-3050</td>\n",
       "      <td>University of California, Berkeley, B.S., 1961</td>\n",
       "      <td>General Practice|Real Estate|Probate|Estate Pl...</td>\n",
       "    </tr>\n",
       "    <tr>\n",
       "      <th>18</th>\n",
       "      <td>Timothy Joseph Kooy</td>\n",
       "      <td>Peer Reviews\\n4.4/5.0\\nClient Reviews\\n No Rev...</td>\n",
       "      <td>Managing Partner at The Sterling Law Group, A ...</td>\n",
       "      <td>866-221-7590|916-790-0852</td>\n",
       "      <td>University of California at Berkeley, B.A., Po...</td>\n",
       "      <td>Personal Injury|Consumer Law|Contracts|Busines...</td>\n",
       "    </tr>\n",
       "    <tr>\n",
       "      <th>19</th>\n",
       "      <td>Casey L. Morris</td>\n",
       "      <td>Peer Reviews\\nNo Reviews\\nClient Reviews\\n No ...</td>\n",
       "      <td>Partner at Hill, Farrer &amp; Burrill LLP</td>\n",
       "      <td>(213) 620-0460|(213) 624-4840</td>\n",
       "      <td>Tulane University, B.S., 1997; University of C...</td>\n",
       "      <td>Litigation|Unfair Competition and Trade Secret...</td>\n",
       "    </tr>\n",
       "    <tr>\n",
       "      <th>20</th>\n",
       "      <td>Marina N. Vitek</td>\n",
       "      <td>Peer Reviews\\nNo Reviews\\nClient Reviews\\n No ...</td>\n",
       "      <td>Senior Attorney at Roxborough, Pomerance, Nye ...</td>\n",
       "      <td>818-835-4121</td>\n",
       "      <td>Occidental College, B.A., Biology, 1981</td>\n",
       "      <td>Complex Business Litigation|Labor and Employme...</td>\n",
       "    </tr>\n",
       "    <tr>\n",
       "      <th>21</th>\n",
       "      <td>Rossi A. Russell</td>\n",
       "      <td>Peer Reviews\\nNo Reviews\\nClient Reviews\\n No ...</td>\n",
       "      <td>Member at Law Offices of Rossi A. Russell</td>\n",
       "      <td>310-584-7686|(310) 470-3968</td>\n",
       "      <td>Claremont McKenna College, B.A., cum laude, Hi...</td>\n",
       "      <td>Business Law|Corporate Law|Real Estate|Securities</td>\n",
       "    </tr>\n",
       "    <tr>\n",
       "      <th>22</th>\n",
       "      <td>Glenn A. Stanton</td>\n",
       "      <td>Glenn A. Stanton is a partner with Ruddell, Co...</td>\n",
       "      <td>Partner at Ruddell, Stanton, Bixler, Mauritson...</td>\n",
       "      <td>559-302-9742|559-733-5770</td>\n",
       "      <td>University of California at Santa Barbara, B.A...</td>\n",
       "      <td>Real Estate|Landlord and Tenant Law|Constructi...</td>\n",
       "    </tr>\n",
       "    <tr>\n",
       "      <th>23</th>\n",
       "      <td>Deborah K. Boyett</td>\n",
       "      <td>Peer Reviews\\n4.6/5.0 (8)\\nClient Reviews\\n No...</td>\n",
       "      <td>Associate at Wanger Jones Helsley PC</td>\n",
       "      <td>559-233-4800|559-435-9868</td>\n",
       "      <td>P.O. Box 28340, Fresno, CA 93720-1553</td>\n",
       "      <td>Trusts and Estates|Wills|Probate|Conservatorsh...</td>\n",
       "    </tr>\n",
       "    <tr>\n",
       "      <th>24</th>\n",
       "      <td>Scott J. Sheldon, Esq., MBA</td>\n",
       "      <td>Peer Reviews\\nNo Reviews\\nClient Reviews\\n No ...</td>\n",
       "      <td>Member at Law Office of Scott J. Sheldon</td>\n",
       "      <td>909-581-4103</td>\n",
       "      <td>California State University - Northridge, M.B....</td>\n",
       "      <td>Business Disputes|Business Litigation|External...</td>\n",
       "    </tr>\n",
       "  </tbody>\n",
       "</table>\n",
       "</div>"
      ],
      "text/plain": [
       "                                                 name  \\\n",
       "0   Prenovost, Normandin, Bergh & Dawe A Professio...   \n",
       "1                                  Ericksen Arbuthnot   \n",
       "2                                Mary-Felicia Apanius   \n",
       "3                              William J. Arnone, Jr.   \n",
       "4                      Ms. JoLynn M. Pollard Scharrer   \n",
       "5                                Walter F. Spath, III   \n",
       "6                                D. Michael Trainotti   \n",
       "7                          Stephanie Kathleen Delaney   \n",
       "8                              Charles B. Christensen   \n",
       "9                                    Barry G. Edwards   \n",
       "10                                 Jeffery W. Johnson   \n",
       "11                   Mr. Richard Scott Van Dyke, Esq.   \n",
       "12                                  Gary J. Spradling   \n",
       "13                                    Stacie L. Power   \n",
       "14                        Ms. Maria Christine Roberts   \n",
       "15                                 Michael P. Merrill   \n",
       "16                                Joshua M. Rosenberg   \n",
       "17                           Mr. Anthony Smernes, Jr.   \n",
       "18                                Timothy Joseph Kooy   \n",
       "19                                    Casey L. Morris   \n",
       "20                                    Marina N. Vitek   \n",
       "21                                   Rossi A. Russell   \n",
       "22                                   Glenn A. Stanton   \n",
       "23                                  Deborah K. Boyett   \n",
       "24                        Scott J. Sheldon, Esq., MBA   \n",
       "\n",
       "                                                title  \\\n",
       "0          Banking, Bankruptcy, Commercial Litigation   \n",
       "1   We are proud of our enduring commitment to pro...   \n",
       "2   Peer Reviews\\nNo Reviews\\nClient Reviews\\n No ...   \n",
       "3   Peer Reviews\\n4.9/5.0 (2)\\nClient Reviews\\n No...   \n",
       "4   Peer Reviews\\nNo Reviews\\nClient Reviews\\n No ...   \n",
       "5   Peer Reviews\\n4.7/5.0 (2)\\nClient Reviews\\n No...   \n",
       "6   Peer Reviews\\n5.0/5.0\\nClient Reviews\\n No Rev...   \n",
       "7   Peer Reviews\\nNo Reviews\\nClient Reviews\\n No ...   \n",
       "8   Peer Reviews\\n5.0/5.0\\nClient Reviews\\n No Rev...   \n",
       "9   Peer Reviews\\nNo Reviews\\nClient Reviews\\n No ...   \n",
       "10  Peer Reviews\\n5.0/5.0\\nClient Reviews\\n No Rev...   \n",
       "11  Peer Reviews\\n4.7/5.0 (21)\\nClient Reviews\\n N...   \n",
       "12  Peer Reviews\\n5.0/5.0\\nClient Reviews\\n No Rev...   \n",
       "13  Peer Reviews\\nNo Reviews\\nClient Reviews\\n 100...   \n",
       "14  Peer Reviews\\n5.0/5.0\\nClient Reviews\\n No Rev...   \n",
       "15  Peer Reviews\\n5.0/5.0\\nClient Reviews\\n No Rev...   \n",
       "16  Peer Reviews\\nNo Reviews\\nClient Reviews\\n No ...   \n",
       "17  Peer Reviews\\n5.0/5.0\\nClient Reviews\\n No Rev...   \n",
       "18  Peer Reviews\\n4.4/5.0\\nClient Reviews\\n No Rev...   \n",
       "19  Peer Reviews\\nNo Reviews\\nClient Reviews\\n No ...   \n",
       "20  Peer Reviews\\nNo Reviews\\nClient Reviews\\n No ...   \n",
       "21  Peer Reviews\\nNo Reviews\\nClient Reviews\\n No ...   \n",
       "22  Glenn A. Stanton is a partner with Ruddell, Co...   \n",
       "23  Peer Reviews\\n4.6/5.0 (8)\\nClient Reviews\\n No...   \n",
       "24  Peer Reviews\\nNo Reviews\\nClient Reviews\\n No ...   \n",
       "\n",
       "                                            firm_name  \\\n",
       "0                                       Santa Ana, CA   \n",
       "1                                    Walnut Creek, CA   \n",
       "2   Partner at Oldman, Cooley, Sallus, Birnberg, C...   \n",
       "3    Managing Partner at Merrill, Arnone & Jones, LLP   \n",
       "4   Shareholder at Hunt Ortmann Palffy Nieves Darl...   \n",
       "5                   Member at Christensen & Spath LLP   \n",
       "6                Member at D. Michael Trainotti, Inc.   \n",
       "7                                 Attorney at RMO LLP   \n",
       "8                   Member at Christensen & Spath LLP   \n",
       "9      Member at Hamburg, Karic, Edwards & Martin LLP   \n",
       "10            Member at J. Johnson & Associates, Inc.   \n",
       "11           President at Van Dyke & Associates, APLC   \n",
       "12  Shareholder at Duckor Spradling Metzger & Wynn...   \n",
       "13                        Attorney at Power Law, P.C.   \n",
       "14                    Partner at Greene & Roberts LLP   \n",
       "15    Retired Partner at Merrill, Arnone & Jones, LLP   \n",
       "16       Associate at Kinsella Weitzman Iser Kump LLP   \n",
       "17                          Member at Anthony Smernes   \n",
       "18  Managing Partner at The Sterling Law Group, A ...   \n",
       "19              Partner at Hill, Farrer & Burrill LLP   \n",
       "20  Senior Attorney at Roxborough, Pomerance, Nye ...   \n",
       "21          Member at Law Offices of Rossi A. Russell   \n",
       "22  Partner at Ruddell, Stanton, Bixler, Mauritson...   \n",
       "23               Associate at Wanger Jones Helsley PC   \n",
       "24           Member at Law Office of Scott J. Sheldon   \n",
       "\n",
       "                                                phone  \\\n",
       "0            714-547-2444|714-602-3843|(714) 835-2889   \n",
       "1              510-832-7770|925-395-4947|925-947-4921   \n",
       "2                                        818-986-8080   \n",
       "3              707-304-5172|707-528-2882|707-528-6015   \n",
       "4          877-916-7075|(626) 440-5200|(626) 796-0107   \n",
       "5                                        619-236-9343   \n",
       "6              562-741-5096|562-590-8621|562-590-8181   \n",
       "7                         619-450-2424|(619) 323-3203   \n",
       "8                           619-236-9343|619-236-8307   \n",
       "9                           310-362-4692|310-552-9291   \n",
       "10         626-421-7304|(626) 585-5663|(626) 239-3630   \n",
       "11             619-374-0095|619-344-0977|619-599-0716   \n",
       "12                        619-727-6146|(619) 209-3030   \n",
       "13  800-544-1761|530-576-5740|916-436-5475|(888) 7...   \n",
       "14         619-393-4810|(619) 398-3400|(619) 330-4907   \n",
       "15             707-304-5172|707-528-2882|707-528-6015   \n",
       "16                                     (310) 566-9800   \n",
       "17                      (916) 367-0630|(916) 928-3050   \n",
       "18                          866-221-7590|916-790-0852   \n",
       "19                      (213) 620-0460|(213) 624-4840   \n",
       "20                                       818-835-4121   \n",
       "21                        310-584-7686|(310) 470-3968   \n",
       "22                          559-302-9742|559-733-5770   \n",
       "23                          559-233-4800|559-435-9868   \n",
       "24                                       909-581-4103   \n",
       "\n",
       "                                              mailing  \\\n",
       "0   2122 North Broadway, Suite 200, Santa Ana, CA ...   \n",
       "1        570 Lennon Lane, Walnut Creek, CA 94598-2415   \n",
       "2   University of California, Los Angeles, B.A., 1979   \n",
       "3   University of California at Davis, B.A., with ...   \n",
       "4   California State University Northridge, B.A., ...   \n",
       "5   University of California at Los Angeles, B.A.,...   \n",
       "6   California State University at Long Beach, B.A...   \n",
       "7                 University of Texas at Austin, B.A.   \n",
       "8               Claremont McKenna College, B.A., 1970   \n",
       "9                      Indiana University, B.S., 1983   \n",
       "10  Butler University, B.A., cum laude with high h...   \n",
       "11  Embry-Riddle Aeronautical University, B.S., Pr...   \n",
       "12  Southeast Missouri State University, B.S., Bus...   \n",
       "13  California State University - Chico; McGeorge ...   \n",
       "14  University of San Diego, B.A., 1985; Oxford Un...   \n",
       "15            University of San Francisco, B.S., 1964   \n",
       "16  University of Pennsylvania, B.A., 2001; Univer...   \n",
       "17     University of California, Berkeley, B.S., 1961   \n",
       "18  University of California at Berkeley, B.A., Po...   \n",
       "19  Tulane University, B.S., 1997; University of C...   \n",
       "20            Occidental College, B.A., Biology, 1981   \n",
       "21  Claremont McKenna College, B.A., cum laude, Hi...   \n",
       "22  University of California at Santa Barbara, B.A...   \n",
       "23              P.O. Box 28340, Fresno, CA 93720-1553   \n",
       "24  California State University - Northridge, M.B....   \n",
       "\n",
       "                                                 area  \n",
       "0   Appellate Practice|Automobile Law|Banks And Ba...  \n",
       "1   Business Litigation|Construction Law|Employmen...  \n",
       "2   Trust Litigation|Conservatorship|Estate Planni...  \n",
       "3   Business Litigation|Business Transactions|Inte...  \n",
       "4   Business Litigation|Insurance|Toxic Tort/Envir...  \n",
       "5   Business Law|Civil Litigation|Corporate Law|La...  \n",
       "6   Real Estate|Estate Planning|Taxation|Trusts an...  \n",
       "7   Trusts and Estates|Guardianship and Conservato...  \n",
       "8   Construction Defect Law|Land Use|Civil Litigat...  \n",
       "9   Taxation Law|Real Estate Law|General Business ...  \n",
       "10  Health Care Law|Regulatory and Administrative ...  \n",
       "11  Business Litigation|Probate Litigation|Trust L...  \n",
       "12    Business and Corporate Transactions|Health Care  \n",
       "13  Real Estate|Residential Real Estate|Commercial...  \n",
       "14  Labor and Employment|General Business Litigati...  \n",
       "15  Labor Law|Employment Law|Real Estate Litigatio...  \n",
       "16  Entertainment Litigation|Intellectual Property...  \n",
       "17  General Practice|Real Estate|Probate|Estate Pl...  \n",
       "18  Personal Injury|Consumer Law|Contracts|Busines...  \n",
       "19  Litigation|Unfair Competition and Trade Secret...  \n",
       "20  Complex Business Litigation|Labor and Employme...  \n",
       "21  Business Law|Corporate Law|Real Estate|Securities  \n",
       "22  Real Estate|Landlord and Tenant Law|Constructi...  \n",
       "23  Trusts and Estates|Wills|Probate|Conservatorsh...  \n",
       "24  Business Disputes|Business Litigation|External...  "
      ]
     },
     "execution_count": 146,
     "metadata": {},
     "output_type": "execute_result"
    }
   ],
   "source": [
    "scrap(link_p)"
   ]
  },
  {
   "cell_type": "code",
   "execution_count": null,
   "metadata": {},
   "outputs": [],
   "source": []
  }
 ],
 "metadata": {
  "kernelspec": {
   "display_name": "Python 3",
   "language": "python",
   "name": "python3"
  },
  "language_info": {
   "codemirror_mode": {
    "name": "ipython",
    "version": 3
   },
   "file_extension": ".py",
   "mimetype": "text/x-python",
   "name": "python",
   "nbconvert_exporter": "python",
   "pygments_lexer": "ipython3",
   "version": "3.8.5"
  }
 },
 "nbformat": 4,
 "nbformat_minor": 4
}
