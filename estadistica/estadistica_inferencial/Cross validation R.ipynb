{
 "cells": [
  {
   "cell_type": "code",
   "execution_count": 12,
   "metadata": {},
   "outputs": [
    {
     "name": "stderr",
     "output_type": "stream",
     "text": [
      "Loading required package: lattice\n",
      "Loading required package: ggplot2\n",
      "Registered S3 methods overwritten by 'ggplot2':\n",
      "  method         from \n",
      "  [.quosures     rlang\n",
      "  c.quosures     rlang\n",
      "  print.quosures rlang\n"
     ]
    }
   ],
   "source": [
    "library('caret')\n",
    "library('nnet')\n",
    "library('parallel')"
   ]
  },
  {
   "cell_type": "code",
   "execution_count": 3,
   "metadata": {},
   "outputs": [],
   "source": [
    "# Función de pliegue\n",
    "rmse_fold <- function(pliegue, form, datos, nn_size){\n",
    "    pliegue_logic <- seq_len(nrow(datos)) %in% pliegue\n",
    "    prueba <- subset(datos, pliegue_logic)\n",
    "    entrena <- subset(datos, !pliegue_logic)\n",
    "    \n",
    "    modelo <- nnet(form, data=entrena, size=nn_size, linout = TRUE, trace = FALSE )\n",
    "    \n",
    "    response_name <- setdiff(names(datos), modelo$coefnames)\n",
    "    y_pronosticado <- predict(modelo, newdata = prueba)\n",
    "    #Metrica de medición de la red neuronal\n",
    "    rmse <-  RMSE(y_pronosticado, prueba[[response_name]])\n",
    "    rmse\n",
    "}"
   ]
  },
  {
   "cell_type": "code",
   "execution_count": 43,
   "metadata": {},
   "outputs": [],
   "source": [
    "#data \n",
    "n_pliegues <- 7\n",
    "sample_size <- 3000\n",
    "neuronas <- 10\n",
    "\n",
    "genera_y <- function(x){\n",
    "    cos(x) + rnorm(length(x), 0, 0.5)\n",
    "}\n",
    "X <- seq(0,3*pi,length.out = sample_size)\n",
    "y <- genera_y(X)\n",
    "data.frame(X,y) -> muestra"
   ]
  },
  {
   "cell_type": "markdown",
   "metadata": {},
   "source": [
    "### Cross validation"
   ]
  },
  {
   "cell_type": "code",
   "execution_count": 44,
   "metadata": {},
   "outputs": [],
   "source": [
    "# Crar los pliegues\n",
    "createFolds(muestra$y, k= n_pliegues) -> pliegues #ME da el numero de la fila que va a estar en el pliegue"
   ]
  },
  {
   "cell_type": "code",
   "execution_count": 45,
   "metadata": {},
   "outputs": [],
   "source": [
    "mclapply (\n",
    "     pliegues, #Las iteraciones\n",
    "     rmse_fold, #Funcion \n",
    "     y ~ X , #Formula\n",
    "     muestra, #datos\n",
    "     nn_size = neuronas,# Cantidad de neuronas\n",
    "    mc.cores = 6\n",
    ") -> rmse_pligues"
   ]
  },
  {
   "cell_type": "code",
   "execution_count": 46,
   "metadata": {},
   "outputs": [],
   "source": [
    "# Convertit en vector\n",
    "rmse_pligues <- unlist(rmse_pligues)"
   ]
  },
  {
   "cell_type": "code",
   "execution_count": 47,
   "metadata": {},
   "outputs": [
    {
     "data": {
      "text/html": [
       "0.511118606348471"
      ],
      "text/latex": [
       "0.511118606348471"
      ],
      "text/markdown": [
       "0.511118606348471"
      ],
      "text/plain": [
       "[1] 0.5111186"
      ]
     },
     "metadata": {},
     "output_type": "display_data"
    }
   ],
   "source": [
    "mean(rmse_pligues)"
   ]
  },
  {
   "cell_type": "code",
   "execution_count": 48,
   "metadata": {},
   "outputs": [
    {
     "data": {
      "image/png": "[encoded data removed]",
      "text/plain": [
       "plot without title"
      ]
     },
     "metadata": {},
     "output_type": "display_data"
    }
   ],
   "source": [
    "plot(rmse_pligues, ylim= c(0,1))\n",
    "abline(h = mean(rmse_pligues), col= 2, lwd = 4)"
   ]
  }
 ],
 "metadata": {
  "kernelspec": {
   "display_name": "R [conda env:ia]",
   "language": "R",
   "name": "conda-env-ia-r"
  },
  "language_info": {
   "codemirror_mode": "r",
   "file_extension": ".r",
   "mimetype": "text/x-r-source",
   "name": "R",
   "pygments_lexer": "r",
   "version": "3.6.1"
  }
 },
 "nbformat": 4,
 "nbformat_minor": 4
}
