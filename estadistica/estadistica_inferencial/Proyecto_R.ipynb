{
 "cells": [
  {
   "cell_type": "code",
   "execution_count": 2,
   "metadata": {},
   "outputs": [],
   "source": [
    "# Paquetes ------------------------------------------------------------\n",
    "install.packages('~/Documents/nebulae-co-saber-04cded4.tar.gz','~/R//x86_64-pc-linux-gnu-library/3.6/', repos = NULL)"
   ]
  },
  {
   "cell_type": "code",
   "execution_count": 18,
   "metadata": {},
   "outputs": [
    {
     "ename": "ERROR",
     "evalue": "Error in library(\"saber\", libc = \"~/R//x86_64-pc-linux-gnu-library//3.6//saber\"): unused argument (libc = \"~/R//x86_64-pc-linux-gnu-library//3.6//saber\")\n",
     "output_type": "error",
     "traceback": [
      "Error in library(\"saber\", libc = \"~/R//x86_64-pc-linux-gnu-library//3.6//saber\"): unused argument (libc = \"~/R//x86_64-pc-linux-gnu-library//3.6//saber\")\nTraceback:\n"
     ]
    }
   ],
   "source": [
    "# Carga de datos------------------------------------------------------------\n",
    "library('saber' , libc = '~/R//x86_64-pc-linux-gnu-library//3.6//saber')"
   ]
  },
  {
   "cell_type": "code",
   "execution_count": 9,
   "metadata": {},
   "outputs": [
    {
     "name": "stderr",
     "output_type": "stream",
     "text": [
      "Warning message in data(\"SB1_20112\"):\n",
      "“data set ‘SB1_20112’ not found”"
     ]
    }
   ],
   "source": [
    "data('SB1_20112')"
   ]
  },
  {
   "cell_type": "code",
   "execution_count": 13,
   "metadata": {},
   "outputs": [],
   "source": [
    "iterations <- 38\n",
    "sample_size <- 50"
   ]
  },
  {
   "cell_type": "code",
   "execution_count": null,
   "metadata": {},
   "outputs": [],
   "source": [
    "plot(SB11_20112$MA)"
   ]
  }
 ],
 "metadata": {
  "kernelspec": {
   "display_name": "R [conda env:ia]",
   "language": "R",
   "name": "conda-env-ia-r"
  },
  "language_info": {
   "codemirror_mode": "r",
   "file_extension": ".r",
   "mimetype": "text/x-r-source",
   "name": "R",
   "pygments_lexer": "r",
   "version": "3.6.1"
  }
 },
 "nbformat": 4,
 "nbformat_minor": 4
}
