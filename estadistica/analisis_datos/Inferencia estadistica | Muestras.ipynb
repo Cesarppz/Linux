{
 "cells": [
  {
   "cell_type": "markdown",
   "metadata": {},
   "source": [
    "<h1>Resolver el siguiente problema</h1>\n",
    "<img src='problema_prueba_hipotesis.png'>"
   ]
  },
  {
   "cell_type": "code",
   "execution_count": 1,
   "metadata": {},
   "outputs": [],
   "source": [
    "import pandas as pd\n",
    "import numpy as np\n",
    "import matplotlib.pyplot as plt\n",
    "import seaborn as sns\n",
    "from scipy.stats import norm , expon"
   ]
  },
  {
   "cell_type": "code",
   "execution_count": 2,
   "metadata": {},
   "outputs": [],
   "source": [
    "muestra = [42, 35, 29, 45, 41, 57, 54, 47, 48, 56, 47, 35, 52, 31, 52, 55, 57, 58, 26, 29, 32, 37, 32, 34, 48, 20, 48, 51, 27, 24, 39, 40, 31, 34, 23, 24, 41, 58, 44, 48, 31, 23, 27, 55, 43, 47, 30, 57, 38, 51]"
   ]
  },
  {
   "cell_type": "code",
   "execution_count": 10,
   "metadata": {},
   "outputs": [],
   "source": [
    "muestra = pd.Series(muestra)\n",
    "media_muestral = muestra.mean()\n",
    "n = len(muestra)\n",
    "alpha = 0.95"
   ]
  },
  {
   "cell_type": "code",
   "execution_count": 40,
   "metadata": {},
   "outputs": [],
   "source": [
    "mu, var, skew, kurt = expon.stats(scale=30, moments='mvsk')\n",
    "std = np.sqrt(var)"
   ]
  },
  {
   "cell_type": "markdown",
   "metadata": {},
   "source": [
    "### Hipotesis\n",
    "<ul>\n",
    "    <li>$H_0 = \\bar{x} <= 30s$</li>\n",
    "    <li>$H_1 = \\bar{x} > 30s$</li>\n",
    "</ul>"
   ]
  },
  {
   "cell_type": "code",
   "execution_count": 88,
   "metadata": {},
   "outputs": [
    {
     "data": {
      "text/plain": [
       "-2.5125860958161983"
      ]
     },
     "execution_count": 88,
     "metadata": {},
     "output_type": "execute_result"
    }
   ],
   "source": [
    "z_1 = (30-media_muestral) /( std/np.sqrt(n))\n",
    "z_1"
   ]
  },
  {
   "cell_type": "code",
   "execution_count": 18,
   "metadata": {},
   "outputs": [],
   "source": [
    "valor_critico = norm.ppf(1-alpha)"
   ]
  },
  {
   "cell_type": "code",
   "execution_count": 90,
   "metadata": {},
   "outputs": [],
   "source": [
    "data_norm = norm.rvs(size=100000)"
   ]
  },
  {
   "cell_type": "code",
   "execution_count": 92,
   "metadata": {},
   "outputs": [
    {
     "name": "stderr",
     "output_type": "stream",
     "text": [
      "/home/cesar/anaconda3/lib/python3.8/site-packages/seaborn/distributions.py:2551: FutureWarning: `distplot` is a deprecated function and will be removed in a future version. Please adapt your code to use either `displot` (a figure-level function with similar flexibility) or `histplot` (an axes-level function for histograms).\n",
      "  warnings.warn(msg, FutureWarning)\n"
     ]
    },
    {
     "data": {
      "image/png": "[encoded data removed]",
      "text/plain": [
       "<Figure size 720x360 with 1 Axes>"
      ]
     },
     "metadata": {
      "needs_background": "light"
     },
     "output_type": "display_data"
    }
   ],
   "source": [
    "plt.figure(figsize=(10,5))\n",
    "ax = sns.distplot(data_norm,kde=False,color='blue')\n",
    "ax.set(xlabel='sigmas',title='Distribución normal estandarizada')\n",
    "ax.axvline(valor_critico,color='r',label='valor crítico')\n",
    "ax.axvline(z_1,color='k',label='Probabilidad')\n",
    "ax.legend()\n",
    "plt.show()"
   ]
  },
  {
   "cell_type": "markdown",
   "metadata": {},
   "source": [
    "Al estar la línea de las z_1 dentro del valor crítico podemos descartar la variable $h_0$"
   ]
  },
  {
   "cell_type": "markdown",
   "metadata": {},
   "source": [
    "# Errores estadísticos"
   ]
  },
  {
   "cell_type": "markdown",
   "metadata": {},
   "source": [
    "### Error tipo 1\n",
    "Probabilidad de equivocarnos al rechazar la $H_0$ cuando es la obción verdadera"
   ]
  },
  {
   "cell_type": "code",
   "execution_count": 97,
   "metadata": {},
   "outputs": [
    {
     "data": {
      "text/plain": [
       "-2.5125860958161983"
      ]
     },
     "execution_count": 97,
     "metadata": {},
     "output_type": "execute_result"
    }
   ],
   "source": [
    "(30-media_muestral)/(std/np.sqrt(n))"
   ]
  },
  {
   "cell_type": "code",
   "execution_count": 103,
   "metadata": {},
   "outputs": [
    {
     "data": {
      "text/plain": [
       "0.005992492844519169"
      ]
     },
     "execution_count": 103,
     "metadata": {},
     "output_type": "execute_result"
    }
   ],
   "source": [
    "alpha = norm.cdf(-2.5125860958161983)\n",
    "alpha"
   ]
  },
  {
   "cell_type": "markdown",
   "metadata": {},
   "source": [
    "### Error tipo 2\n",
    "Probabilidad de equivocarnos al aceptar $H_0$ cuando esta es falsa"
   ]
  },
  {
   "cell_type": "code",
   "execution_count": 101,
   "metadata": {},
   "outputs": [
    {
     "data": {
      "text/plain": [
       "0.9940075071554808"
      ]
     },
     "execution_count": 101,
     "metadata": {},
     "output_type": "execute_result"
    }
   ],
   "source": [
    "beta = 1 - norm.cdf(-2.5125860958161983)\n",
    "beta"
   ]
  },
  {
   "cell_type": "markdown",
   "metadata": {},
   "source": [
    "### Potencia \n",
    "Probabilidad de equivocarnos al rechazar $H_0$ cunado esta es falsa\n",
    "$$1-\\beta$$"
   ]
  },
  {
   "cell_type": "code",
   "execution_count": 104,
   "metadata": {},
   "outputs": [
    {
     "data": {
      "text/plain": [
       "0.005992492844519193"
      ]
     },
     "execution_count": 104,
     "metadata": {},
     "output_type": "execute_result"
    }
   ],
   "source": [
    "1 - beta"
   ]
  },
  {
   "cell_type": "markdown",
   "metadata": {},
   "source": [
    "# Intervalos de confianza\n",
    "Un intervalo de confianza estimador por intervalo. Cada intervalo de confianza tiene un coeficiente denotado por (1-a) alpha, que representa la probabilidad de que el valor que yo quiero estimar este inmerso en el intervalo .\n",
    "\n",
    "Asumiendo que tabajamos con promedios muestrales esta es la formula: $$\\large\\bar{X} ± Z_{a/2} \\frac{\\sigma}{\\sqrt{n}}$$\n",
    "\n",
    "De lo contrario: $$\\large\\bar{X} ± Z_{a/2}  \\sigma$$"
   ]
  },
  {
   "cell_type": "code",
   "execution_count": 132,
   "metadata": {},
   "outputs": [],
   "source": [
    "alpha2 = 0.90"
   ]
  },
  {
   "cell_type": "code",
   "execution_count": 133,
   "metadata": {},
   "outputs": [
    {
     "data": {
      "text/plain": [
       "(36.84162338159264, 44.47837661840735)"
      ]
     },
     "execution_count": 133,
     "metadata": {},
     "output_type": "execute_result"
    }
   ],
   "source": [
    "interv_confianza = 1- alpha2\n",
    "interv_sup = media_muestral + (alpha2*std/np.sqrt(n)) \n",
    "interv_inf = media_muestral - (alpha2*std/np.sqrt(n))\n",
    "interv_inf,interv_sup"
   ]
  },
  {
   "cell_type": "code",
   "execution_count": null,
   "metadata": {},
   "outputs": [],
   "source": [
    "data_norm2 = norm.rvs(loc=media_muestral,scale=std,size=100000)"
   ]
  },
  {
   "cell_type": "code",
   "execution_count": 162,
   "metadata": {},
   "outputs": [
    {
     "data": {
      "image/png": "[encoded data removed]",
      "text/plain": [
       "<Figure size 720x360 with 2 Axes>"
      ]
     },
     "metadata": {
      "needs_background": "light"
     },
     "output_type": "display_data"
    }
   ],
   "source": [
    "fig , ax = plt.subplots(1,2,figsize=(10,5))\n",
    "ax[0].hist(data_norm2,bins=500)\n",
    "ax[0].axvline(interv_inf,color='red',label='Intervalo de confianza superior')\n",
    "ax[0].axvline(interv_sup,color='red',label='Intervalo de confianza inferior')\n",
    "ax[0].legend()\n",
    "\n",
    "ax[1].hist(data_norm2,bins=500)\n",
    "plt.xlim(0,100)\n",
    "ax[1].axvline(interv_inf,color='red',label='Intervalo de confianza superior')\n",
    "ax[1].axvline(interv_sup,color='red',label='Intervalo de confianza inferior')\n",
    "ax[1].legend()\n",
    "\n",
    "\n",
    "plt.show()"
   ]
  }
 ],
 "metadata": {
  "kernelspec": {
   "display_name": "Python 3",
   "language": "python",
   "name": "python3"
  },
  "language_info": {
   "codemirror_mode": {
    "name": "ipython",
    "version": 3
   },
   "file_extension": ".py",
   "mimetype": "text/x-python",
   "name": "python",
   "nbconvert_exporter": "python",
   "pygments_lexer": "ipython3",
   "version": "3.8.5"
  }
 },
 "nbformat": 4,
 "nbformat_minor": 4
}
