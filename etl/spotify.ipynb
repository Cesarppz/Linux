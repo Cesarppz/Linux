{
 "cells": [
  {
   "cell_type": "code",
   "execution_count": 2,
   "id": "1730067e-43b6-468c-b38d-1fc2950cd1bc",
   "metadata": {},
   "outputs": [],
   "source": [
    "import requests \n",
    "import datetime \n",
    "import json\n",
    "import pandas as pd"
   ]
  },
  {
   "cell_type": "code",
   "execution_count": 251,
   "id": "e6c95463-d449-4e58-921f-d5d1a133d3b7",
   "metadata": {},
   "outputs": [],
   "source": [
    "TOKEN = 'BQDzY7A4QDiFKHj8uOm5GH7Y3u2eQ-ba8Q_t1k4YzH0o-XBQ4-CvWoAu_gQNLpAM-emisxAQ1S8JIKY9L3k0Qbst1MYltX8GVdzYRI0CP0laq6gRhCdjxW5v3ilgLoFVQnk4mVyYNxB6dSWZHs4f4GxDt-fD_pOUD1I2'"
   ]
  },
  {
   "cell_type": "code",
   "execution_count": 360,
   "id": "4da8d2af-d126-4680-a204-a6c89be7857e",
   "metadata": {},
   "outputs": [],
   "source": [
    "headers = {\n",
    "    \"Accept\": \"application/json\",\n",
    "    \"Content-Type\": \"application/json\",\n",
    "    \"Authorization\": \"Bearer {token}\".format(token=TOKEN)\n",
    "}"
   ]
  },
  {
   "cell_type": "code",
   "execution_count": 361,
   "id": "6a282e7d-e2f1-4a87-b779-08644afd70c8",
   "metadata": {},
   "outputs": [],
   "source": [
    "today = datetime.datetime.now()\n",
    "yesterday = today - datetime.timedelta(days=1)\n",
    "yesterday_unix_timestamp = int(yesterday.timestamp()) * 1000"
   ]
  },
  {
   "cell_type": "code",
   "execution_count": 362,
   "id": "d11c504e-26a2-45dc-95e2-20bc6c99a2a2",
   "metadata": {},
   "outputs": [],
   "source": [
    "r = requests.get(\"https://api.spotify.com/v1/me/player/recently-played?limit=50&after={time}\".format(time=yesterday_unix_timestamp), headers=headers)"
   ]
  },
  {
   "cell_type": "code",
   "execution_count": 363,
   "id": "1cd7154a-4b20-4fba-95a4-f23cf4b9820d",
   "metadata": {},
   "outputs": [],
   "source": [
    "data = r.json()"
   ]
  },
  {
   "cell_type": "code",
   "execution_count": 364,
   "id": "ca06ba65-81b7-4547-ab8b-ad8f2509d113",
   "metadata": {},
   "outputs": [
    {
     "data": {
      "text/plain": [
       "'Slither'"
      ]
     },
     "execution_count": 364,
     "metadata": {},
     "output_type": "execute_result"
    }
   ],
   "source": [
    "data['items'][0]['track']['name'] #Song NAme"
   ]
  },
  {
   "cell_type": "code",
   "execution_count": 365,
   "id": "00a20988-b82a-4779-abc4-6c26fe00b00f",
   "metadata": {},
   "outputs": [
    {
     "data": {
      "text/plain": [
       "'Contraband'"
      ]
     },
     "execution_count": 365,
     "metadata": {},
     "output_type": "execute_result"
    }
   ],
   "source": [
    "data['items'][0]['track']['album']['name'] #Album Name"
   ]
  },
  {
   "cell_type": "code",
   "execution_count": 366,
   "id": "a1983497-ff81-4139-a13d-92f90ea7d09b",
   "metadata": {},
   "outputs": [
    {
     "data": {
      "text/plain": [
       "'Velvet Revolver'"
      ]
     },
     "execution_count": 366,
     "metadata": {},
     "output_type": "execute_result"
    }
   ],
   "source": [
    "data['items'][0]['track']['album']['artists'][0]['name'] #Nombre del artista"
   ]
  },
  {
   "cell_type": "code",
   "execution_count": 367,
   "id": "8779b1cb-7193-4677-909d-01bca5181d54",
   "metadata": {},
   "outputs": [
    {
     "data": {
      "text/plain": [
       "'https://open.spotify.com/playlist/1viuSla9e5PPjCMA3lnRLv'"
      ]
     },
     "execution_count": 367,
     "metadata": {},
     "output_type": "execute_result"
    }
   ],
   "source": [
    "data['items'][0]['context']['external_urls']['spotify'] #Url a la playlist"
   ]
  },
  {
   "cell_type": "code",
   "execution_count": 368,
   "id": "121aa22d-bc6b-42de-8d56-4ef4e9ac0b88",
   "metadata": {},
   "outputs": [
    {
     "data": {
      "text/plain": [
       "'https://open.spotify.com/track/7kF1iPJTj3VFJX9XokQ80F'"
      ]
     },
     "execution_count": 368,
     "metadata": {},
     "output_type": "execute_result"
    }
   ],
   "source": [
    "data['items'][0]['track']['external_urls']['spotify'] #Url a la cancion"
   ]
  },
  {
   "cell_type": "code",
   "execution_count": 369,
   "id": "a54d3529-b5de-4783-a93f-71bcae6d3f7d",
   "metadata": {},
   "outputs": [
    {
     "data": {
      "text/plain": [
       "'https://open.spotify.com/artist/7CHilrn81OdYjkh4uSVnYM'"
      ]
     },
     "execution_count": 369,
     "metadata": {},
     "output_type": "execute_result"
    }
   ],
   "source": [
    "data['items'][0]['track']['artists'][0]['external_urls']['spotify'] #Url al artista"
   ]
  },
  {
   "cell_type": "code",
   "execution_count": 370,
   "id": "d5a9035e-8891-49db-bec9-43a6167a8544",
   "metadata": {},
   "outputs": [
    {
     "data": {
      "text/plain": [
       "'https://open.spotify.com/album/64GnrmrpL1fvfF0r1AoZLB'"
      ]
     },
     "execution_count": 370,
     "metadata": {},
     "output_type": "execute_result"
    }
   ],
   "source": [
    "data['items'][0]['track']['album']['external_urls']['spotify'] #Url al album"
   ]
  },
  {
   "cell_type": "code",
   "execution_count": 371,
   "id": "5177d5d9-e138-45f2-810c-0bf91e62e6d7",
   "metadata": {},
   "outputs": [
    {
     "data": {
      "text/plain": [
       "'2022-04-30T19:44:01.058Z'"
      ]
     },
     "execution_count": 371,
     "metadata": {},
     "output_type": "execute_result"
    }
   ],
   "source": [
    "data['items'][0]['played_at'] # Hora de reproduccion"
   ]
  },
  {
   "cell_type": "code",
   "execution_count": 372,
   "id": "6fb01a15-b8f7-41db-b5e7-720498cdae64",
   "metadata": {},
   "outputs": [
    {
     "data": {
      "text/plain": [
       "'https://i.scdn.co/image/ab67616d0000b273e7d4bfff8e7e87c6090591b6'"
      ]
     },
     "execution_count": 372,
     "metadata": {},
     "output_type": "execute_result"
    }
   ],
   "source": [
    "data['items'][0]['track']['album']['images'][0]['url']"
   ]
  },
  {
   "cell_type": "code",
   "execution_count": 373,
   "id": "fca3d8f8-7621-4cd5-9f74-68839f319857",
   "metadata": {},
   "outputs": [],
   "source": [
    "song_names = []\n",
    "album_names = []\n",
    "artist_names = []\n",
    "url_playlists = []\n",
    "url_songs = []\n",
    "url_artists = []\n",
    "url_albums = []\n",
    "playing_time = []\n",
    "images = []\n",
    "\n",
    "for song in data['items']:\n",
    "    song_names.append(song['track']['name'])\n",
    "    album_names.append(song['track']['album']['name'])\n",
    "    artist_names.append(song['track']['album']['artists'][0]['name'])\n",
    "    try:\n",
    "        url_playlists.append(song['context']['external_urls']['spotify'])\n",
    "    except TypeError:\n",
    "        url_playlists.append(None)\n",
    "    url_songs.append(song['track']['external_urls']['spotify'])\n",
    "    url_artists.append(song['track']['artists'][0]['external_urls']['spotify'])\n",
    "    url_albums.append(song['track']['album']['external_urls']['spotify'])\n",
    "    playing_time.append(song['played_at'])\n",
    "    images.append(song['track']['album']['images'][0]['url'])"
   ]
  },
  {
   "cell_type": "code",
   "execution_count": 374,
   "id": "e2bc51b9-1ecf-4124-a66b-273afcd51249",
   "metadata": {},
   "outputs": [],
   "source": [
    "song_dict = {\n",
    "    'Song Name':song_names,\n",
    "    'Album Name':album_names,\n",
    "    'Artist Name':artist_names,\n",
    "    'Url Playlist':url_playlists,\n",
    "    'Url Songs':url_songs,\n",
    "    'Url Artists':url_artists,\n",
    "    'Url Albums':url_albums,\n",
    "    'Playing Time':playing_time,\n",
    "    'Images':images\n",
    "}"
   ]
  },
  {
   "cell_type": "code",
   "execution_count": 375,
   "id": "9cd46f7e-904e-4a5f-8025-cc3bf6feade7",
   "metadata": {
    "tags": []
   },
   "outputs": [],
   "source": [
    "df = pd.DataFrame(song_dict)"
   ]
  },
  {
   "cell_type": "code",
   "execution_count": 376,
   "id": "0d6b9295-ec42-48e9-bad6-a55c13536c90",
   "metadata": {},
   "outputs": [
    {
     "data": {
      "text/plain": [
       "(11, 9)"
      ]
     },
     "execution_count": 376,
     "metadata": {},
     "output_type": "execute_result"
    }
   ],
   "source": [
    "df.shape"
   ]
  },
  {
   "cell_type": "code",
   "execution_count": 143,
   "id": "2cae68d2-ea57-49f8-8345-b15d86529643",
   "metadata": {},
   "outputs": [],
   "source": [
    "yesterday = datetime.datetime.now() - datetime.timedelta(days=1)\n",
    "yesterday = yesterday.replace(hour=0, minute=0, second=0, microsecond=0)"
   ]
  },
  {
   "cell_type": "code",
   "execution_count": 147,
   "id": "78f745dd-ca3c-424b-87ba-7c56262def1b",
   "metadata": {},
   "outputs": [
    {
     "data": {
      "text/plain": [
       "datetime.datetime(2022, 4, 29, 0, 0)"
      ]
     },
     "execution_count": 147,
     "metadata": {},
     "output_type": "execute_result"
    }
   ],
   "source": [
    "yesterday"
   ]
  },
  {
   "cell_type": "code",
   "execution_count": 159,
   "id": "2b3c7fdf-56c5-4b77-b496-926efb42bc26",
   "metadata": {},
   "outputs": [
    {
     "ename": "Exception",
     "evalue": "At least one of the returned song does not come from within the last 24 hours",
     "output_type": "error",
     "traceback": [
      "\u001b[0;31m---------------------------------------------------------------------------\u001b[0m",
      "\u001b[0;31mException\u001b[0m                                 Traceback (most recent call last)",
      "\u001b[0;32m<ipython-input-159-946254bcee4d>\u001b[0m in \u001b[0;36m<module>\u001b[0;34m\u001b[0m\n\u001b[1;32m      1\u001b[0m \u001b[0;32mfor\u001b[0m \u001b[0mtime\u001b[0m \u001b[0;32min\u001b[0m \u001b[0mpd\u001b[0m\u001b[0;34m.\u001b[0m\u001b[0mto_datetime\u001b[0m\u001b[0;34m(\u001b[0m\u001b[0mdf\u001b[0m\u001b[0;34m[\u001b[0m\u001b[0;34m'Playing Time'\u001b[0m\u001b[0;34m]\u001b[0m\u001b[0;34m,\u001b[0m\u001b[0mformat\u001b[0m\u001b[0;34m=\u001b[0m\u001b[0;34m'%Y-%m-%d'\u001b[0m\u001b[0;34m)\u001b[0m\u001b[0;34m.\u001b[0m\u001b[0mdt\u001b[0m\u001b[0;34m.\u001b[0m\u001b[0mto_period\u001b[0m\u001b[0;34m(\u001b[0m\u001b[0;34m'd'\u001b[0m\u001b[0;34m)\u001b[0m\u001b[0;34m.\u001b[0m\u001b[0mto_list\u001b[0m\u001b[0;34m(\u001b[0m\u001b[0;34m)\u001b[0m\u001b[0;34m:\u001b[0m\u001b[0;34m\u001b[0m\u001b[0;34m\u001b[0m\u001b[0m\n\u001b[1;32m      2\u001b[0m         \u001b[0;32mif\u001b[0m \u001b[0mtime\u001b[0m\u001b[0;34m.\u001b[0m\u001b[0mstrftime\u001b[0m\u001b[0;34m(\u001b[0m\u001b[0;34m'%Y-%m-%d'\u001b[0m\u001b[0;34m)\u001b[0m \u001b[0;34m!=\u001b[0m \u001b[0myesterday\u001b[0m\u001b[0;34m:\u001b[0m\u001b[0;34m\u001b[0m\u001b[0;34m\u001b[0m\u001b[0m\n\u001b[0;32m----> 3\u001b[0;31m             \u001b[0;32mraise\u001b[0m \u001b[0mException\u001b[0m\u001b[0;34m(\u001b[0m\u001b[0;34m'At least one of the returned song does not come from within the last 24 hours'\u001b[0m\u001b[0;34m)\u001b[0m\u001b[0;34m\u001b[0m\u001b[0;34m\u001b[0m\u001b[0m\n\u001b[0m",
      "\u001b[0;31mException\u001b[0m: At least one of the returned song does not come from within the last 24 hours"
     ]
    }
   ],
   "source": [
    "for time in pd.to_datetime(df['Playing Time'],format='%Y-%m-%d').dt.to_period('d').to_list():\n",
    "        if time.strftime('%Y-%m-%d') != yesterday:\n",
    "            raise Exception('At least one of the returned song does not come from within the last 24 hours')"
   ]
  },
  {
   "cell_type": "code",
   "execution_count": 145,
   "id": "7f4f968e-5c8a-4781-810c-d33416d4226f",
   "metadata": {},
   "outputs": [],
   "source": [
    "import numpy as np"
   ]
  },
  {
   "cell_type": "code",
   "execution_count": 148,
   "id": "6b79190b-a737-455f-89e1-a17b79bca66b",
   "metadata": {},
   "outputs": [
    {
     "data": {
      "text/plain": [
       "'2022-04-30'"
      ]
     },
     "execution_count": 148,
     "metadata": {},
     "output_type": "execute_result"
    }
   ],
   "source": [
    "time.strftime('%Y-%m-%d')"
   ]
  },
  {
   "cell_type": "code",
   "execution_count": 161,
   "id": "cdc69403-c2ed-43ad-8eba-8dd78bb861cc",
   "metadata": {},
   "outputs": [
    {
     "data": {
      "text/plain": [
       "datetime.datetime(2022, 4, 29, 16, 22, 49, 328982)"
      ]
     },
     "execution_count": 161,
     "metadata": {},
     "output_type": "execute_result"
    }
   ],
   "source": [
    "yesterday"
   ]
  }
 ],
 "metadata": {
  "kernelspec": {
   "display_name": "Python [conda env:ia]",
   "language": "python",
   "name": "conda-env-ia-py"
  },
  "language_info": {
   "codemirror_mode": {
    "name": "ipython",
    "version": 3
   },
   "file_extension": ".py",
   "mimetype": "text/x-python",
   "name": "python",
   "nbconvert_exporter": "python",
   "pygments_lexer": "ipython3",
   "version": "3.8.8"
  }
 },
 "nbformat": 4,
 "nbformat_minor": 5
}
