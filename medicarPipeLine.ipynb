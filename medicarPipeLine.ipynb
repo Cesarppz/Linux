{
 "cells": [
  {
   "cell_type": "code",
   "execution_count": 209,
   "id": "95089854-d8d3-4268-b222-ea0c25d5e117",
   "metadata": {},
   "outputs": [],
   "source": [
    "import pandas as pd\n",
    "import psycopg2\n",
    "import traceback\n",
    "\n",
    "from datetime import datetime\n",
    "\n",
    "date = datetime.now().strftime('%d-%m-%Y')"
   ]
  },
  {
   "cell_type": "markdown",
   "id": "f79e1762-02ac-4188-8416-f8bd292a0a82",
   "metadata": {},
   "source": [
    "# Funciones"
   ]
  },
  {
   "cell_type": "code",
   "execution_count": 62,
   "id": "21952f0f-cc7e-407c-b545-c02c575bf741",
   "metadata": {},
   "outputs": [],
   "source": [
    "def start():\n",
    "    connection = psycopg2.connect(dbname = 'Carriers',\n",
    "                    host = '188.166.63.213',\n",
    "                    port = '5432',\n",
    "                    user = 'cperez',\n",
    "                    password = 'srb4o7SlqAIf')\n",
    "\n",
    "    return connection"
   ]
  },
  {
   "cell_type": "code",
   "execution_count": 115,
   "id": "86e3624d-641e-4f5c-958f-29c4c0569812",
   "metadata": {},
   "outputs": [],
   "source": [
    "def query_db (query):\n",
    "    try:\n",
    "        connection = start()\n",
    "        with connection.cursor() as cursor:\n",
    "            cursor.execute(query)\n",
    "            result = cursor.fetchall()\n",
    "        connection.commit()\n",
    "        return result\n",
    "    except Exception as ex:\n",
    "        traceback.print_exc(ex)\n",
    "    finally:\n",
    "        connection.close()\n"
   ]
  },
  {
   "cell_type": "code",
   "execution_count": 37,
   "id": "1e3b94db-0006-435e-9776-51f3d911eb16",
   "metadata": {},
   "outputs": [],
   "source": [
    "def extractCarrier(df, carrier_name, line_of_business, carrier_column = 'Carrier'):\n",
    "    df =  df[(df[carrier_column] == carrier_name) & (df['Line of Business'] == line_of_business)]\n",
    "    return df"
   ]
  },
  {
   "cell_type": "code",
   "execution_count": 42,
   "id": "c08d4538-6092-43fe-897a-c97bf5aee52c",
   "metadata": {},
   "outputs": [],
   "source": [
    "def leftJoinBOB(new_policies, bob_policies):\n",
    "    upload = list(set(new_policies) - set(bob_policies) )\n",
    "    return upload"
   ]
  },
  {
   "cell_type": "markdown",
   "id": "dd0659a7-7ebd-42db-a4c0-94d9ce376f08",
   "metadata": {},
   "source": [
    "# Aetna"
   ]
  },
  {
   "cell_type": "code",
   "execution_count": 65,
   "id": "75ca0a08-9288-4d8f-97b9-782d9501f73a",
   "metadata": {},
   "outputs": [],
   "source": [
    "connection = start()"
   ]
  },
  {
   "cell_type": "code",
   "execution_count": 14,
   "id": "86a31a47-3e5a-4199-a938-98d28aec3108",
   "metadata": {},
   "outputs": [],
   "source": [
    "df_a = pd.read_excel('/mnt/c/Users/cesar/Downloads/EnrollmentRoster.xlsx').drop(columns= 'Unnamed: 0')"
   ]
  },
  {
   "cell_type": "code",
   "execution_count": 15,
   "id": "9e409940-0655-496e-b21f-29f15823bd05",
   "metadata": {},
   "outputs": [
    {
     "data": {
      "text/plain": [
       "Index(['Member ID', 'Legacy Member ID', 'Medicare\\nNumber',\n",
       "       'Affinity Policy ID', 'First Name', 'Mid Initial', 'Last Name',\n",
       "       'Date of Birth', 'Phone Number', 'Address Line 1 ', 'Address Line 2',\n",
       "       'City', 'State', 'Zip Code ', 'App Sign Date', 'App Rec Date',\n",
       "       'Cov Eff Date', 'Mbr Status', 'Term Date', 'Term Rsn Code', 'Plan Name',\n",
       "       'Plan Eff Date', 'Supplement Plans ', 'Writing Agent NPN',\n",
       "       'Writing Agent TIN', 'Writing Agent First Name',\n",
       "       'Writing Agent Last Name', 'Pay Method', 'Bill Option', 'Invoice Amt',\n",
       "       'Invce Date', 'CMS Contract Nbr', 'PBP Code', 'ID Card Issue Date',\n",
       "       'Affnty Code', 'Producer Level  1 Name', 'Producer Level 1 TIN/NPN',\n",
       "       'Prdcr Level 1 Code', 'Producer Level  2 Name',\n",
       "       'Producer Level 2 TIN/NPN', 'Prdcr Level  2 Code',\n",
       "       'Producer Level  3 Name', 'Producer Level 3 TIN/NPN',\n",
       "       'Prdcr Level  3 Code', 'Producer Level  4 Name',\n",
       "       'Producer Level 4 TIN/NPN', 'Prdcr Level  4 Code',\n",
       "       'Producer Level  5 Name', 'Producer Level 5 TIN/NPN',\n",
       "       'Prdcr Level  5 Code', 'Producer Level  6 Name',\n",
       "       'Producer Level 6 TIN/NPN', 'Prdcr Level  6 Code',\n",
       "       'Producer Level  7 Name', 'Producer Level 7 TIN/NPN',\n",
       "       'Prdcr Level  7 Code', 'Producer Level  8 Name',\n",
       "       'Producer Level 8 TIN/NPN', 'Prdcr Level  8 Code',\n",
       "       'Producer Level  9 Name', 'Producer Level 9 TIN/NPN'],\n",
       "      dtype='object')"
      ]
     },
     "execution_count": 15,
     "metadata": {},
     "output_type": "execute_result"
    }
   ],
   "source": [
    "df_a.columns"
   ]
  },
  {
   "cell_type": "markdown",
   "id": "22156834-4339-4652-a160-323cef057b29",
   "metadata": {},
   "source": [
    "## BOB SalesForce"
   ]
  },
  {
   "cell_type": "code",
   "execution_count": 39,
   "id": "5b312847-6f30-43ce-ab38-fde091acb9b1",
   "metadata": {},
   "outputs": [
    {
     "data": {
      "text/html": [
       "<div>\n",
       "<style scoped>\n",
       "    .dataframe tbody tr th:only-of-type {\n",
       "        vertical-align: middle;\n",
       "    }\n",
       "\n",
       "    .dataframe tbody tr th {\n",
       "        vertical-align: top;\n",
       "    }\n",
       "\n",
       "    .dataframe thead th {\n",
       "        text-align: right;\n",
       "    }\n",
       "</style>\n",
       "<table border=\"1\" class=\"dataframe\">\n",
       "  <thead>\n",
       "    <tr style=\"text-align: right;\">\n",
       "      <th></th>\n",
       "      <th>Book of Business: BOB Name</th>\n",
       "      <th>Account Executive Name</th>\n",
       "      <th>Carrier</th>\n",
       "      <th>NPN AOR</th>\n",
       "      <th>Agent AOR</th>\n",
       "      <th>Internal Agent</th>\n",
       "      <th>NPN Internal Agent</th>\n",
       "      <th>Contact</th>\n",
       "      <th>Policy Number</th>\n",
       "      <th>Source</th>\n",
       "      <th>...</th>\n",
       "      <th>Email</th>\n",
       "      <th>Metal Level</th>\n",
       "      <th>Zip Code</th>\n",
       "      <th>Book of Business: Last Modified Date</th>\n",
       "      <th>Note</th>\n",
       "      <th>Claro Type</th>\n",
       "      <th>Previous BOB ID</th>\n",
       "      <th>Carrier State line of Business</th>\n",
       "      <th>Book of Business: ID</th>\n",
       "      <th>Account Executive</th>\n",
       "    </tr>\n",
       "  </thead>\n",
       "  <tbody>\n",
       "    <tr>\n",
       "      <th>0</th>\n",
       "      <td>BOB# 00000001</td>\n",
       "      <td>Miguel Bautista</td>\n",
       "      <td>Molina</td>\n",
       "      <td>1647487.0</td>\n",
       "      <td>Amarilys Perez Lazo</td>\n",
       "      <td>Amarilys  Perez Lazo</td>\n",
       "      <td>1647487.0</td>\n",
       "      <td>Amarilys Perez Lazo</td>\n",
       "      <td>FLE192951620161</td>\n",
       "      <td>Direct</td>\n",
       "      <td>...</td>\n",
       "      <td>NaN</td>\n",
       "      <td>Silver</td>\n",
       "      <td>NaN</td>\n",
       "      <td>12/20/2022</td>\n",
       "      <td>NaN</td>\n",
       "      <td>Renewals</td>\n",
       "      <td>NaN</td>\n",
       "      <td>Molina Florida</td>\n",
       "      <td>a1C1G000007eLyj</td>\n",
       "      <td></td>\n",
       "    </tr>\n",
       "    <tr>\n",
       "      <th>1</th>\n",
       "      <td>BOB# 00000002</td>\n",
       "      <td>Miguel Bautista</td>\n",
       "      <td>Molina</td>\n",
       "      <td>1647487.0</td>\n",
       "      <td>Amarilys Perez Lazo</td>\n",
       "      <td>Amarilys  Perez Lazo</td>\n",
       "      <td>1647487.0</td>\n",
       "      <td>Amarilys Perez Lazo</td>\n",
       "      <td>FLE192921397071</td>\n",
       "      <td>Direct</td>\n",
       "      <td>...</td>\n",
       "      <td>NaN</td>\n",
       "      <td>Bronze</td>\n",
       "      <td>NaN</td>\n",
       "      <td>12/20/2022</td>\n",
       "      <td>NaN</td>\n",
       "      <td>Renewals</td>\n",
       "      <td>NaN</td>\n",
       "      <td>Molina Florida</td>\n",
       "      <td>a1C1G000007eLyk</td>\n",
       "      <td></td>\n",
       "    </tr>\n",
       "    <tr>\n",
       "      <th>2</th>\n",
       "      <td>BOB# 00000003</td>\n",
       "      <td>Miguel Bautista</td>\n",
       "      <td>Molina</td>\n",
       "      <td>1647487.0</td>\n",
       "      <td>AMARILYS PEREZ LAZO</td>\n",
       "      <td>Amarilys  Perez Lazo</td>\n",
       "      <td>1647487.0</td>\n",
       "      <td>Amarilys Perez Lazo</td>\n",
       "      <td>FLE192921385481</td>\n",
       "      <td>Direct</td>\n",
       "      <td>...</td>\n",
       "      <td>NaN</td>\n",
       "      <td>Bronze</td>\n",
       "      <td>NaN</td>\n",
       "      <td>12/20/2022</td>\n",
       "      <td>V-ActualizaciÃ³n 09-01</td>\n",
       "      <td>Renewals</td>\n",
       "      <td>NaN</td>\n",
       "      <td>Molina Florida</td>\n",
       "      <td>a1C1G000007eLyl</td>\n",
       "      <td></td>\n",
       "    </tr>\n",
       "  </tbody>\n",
       "</table>\n",
       "<p>3 rows × 54 columns</p>\n",
       "</div>"
      ],
      "text/plain": [
       "  Book of Business: BOB Name Account Executive Name Carrier    NPN AOR  \\\n",
       "0              BOB# 00000001        Miguel Bautista  Molina  1647487.0   \n",
       "1              BOB# 00000002        Miguel Bautista  Molina  1647487.0   \n",
       "2              BOB# 00000003        Miguel Bautista  Molina  1647487.0   \n",
       "\n",
       "             Agent AOR        Internal Agent  NPN Internal Agent  \\\n",
       "0  Amarilys Perez Lazo  Amarilys  Perez Lazo           1647487.0   \n",
       "1  Amarilys Perez Lazo  Amarilys  Perez Lazo           1647487.0   \n",
       "2  AMARILYS PEREZ LAZO  Amarilys  Perez Lazo           1647487.0   \n",
       "\n",
       "               Contact    Policy Number  Source  ...  Email Metal Level  \\\n",
       "0  Amarilys Perez Lazo  FLE192951620161  Direct  ...    NaN      Silver   \n",
       "1  Amarilys Perez Lazo  FLE192921397071  Direct  ...    NaN      Bronze   \n",
       "2  Amarilys Perez Lazo  FLE192921385481  Direct  ...    NaN      Bronze   \n",
       "\n",
       "  Zip Code Book of Business: Last Modified Date                    Note  \\\n",
       "0      NaN                           12/20/2022                     NaN   \n",
       "1      NaN                           12/20/2022                     NaN   \n",
       "2      NaN                           12/20/2022  V-ActualizaciÃ³n 09-01   \n",
       "\n",
       "  Claro Type Previous BOB ID Carrier State line of Business  \\\n",
       "0   Renewals             NaN                 Molina Florida   \n",
       "1   Renewals             NaN                 Molina Florida   \n",
       "2   Renewals             NaN                 Molina Florida   \n",
       "\n",
       "   Book of Business: ID Account Executive  \n",
       "0       a1C1G000007eLyj                    \n",
       "1       a1C1G000007eLyk                    \n",
       "2       a1C1G000007eLyl                    \n",
       "\n",
       "[3 rows x 54 columns]"
      ]
     },
     "execution_count": 39,
     "metadata": {},
     "output_type": "execute_result"
    }
   ],
   "source": [
    "df_b = pd.read_csv('//mnt/c/Users/cesar/Desktop/claro/bob/report1674816107684.csv', encoding='latin-1', low_memory=False)\n",
    "df_b.head(3)"
   ]
  },
  {
   "cell_type": "markdown",
   "id": "1c0229d0-8ca8-4447-8d58-4daae8357014",
   "metadata": {},
   "source": [
    "## Homologacion"
   ]
  },
  {
   "cell_type": "code",
   "execution_count": 20,
   "id": "baf8ace4-604f-43ce-8cb7-50d300927c4d",
   "metadata": {},
   "outputs": [
    {
     "data": {
      "text/plain": [
       "Index(['Carrier___', 'LOB____', 'Carrier', 'Agent AOR', 'NPN AOR',\n",
       "       'Contact____', 'NPN_Internal____', 'Contact', 'Policy Number', 'Source',\n",
       "       'Referrals_____', 'Referrals Id', 'Status', 'Effective Date',\n",
       "       'Transaction Date', 'Policy Term Date', 'Member First Name',\n",
       "       'Member Last Name', 'DOB', 'State', 'County', 'City', 'Members',\n",
       "       'Policy Type', 'Last Status Modification Date', 'Loading Date',\n",
       "       'Record Type Id', 'Plan', 'Election Period', 'Final Premium', 'Subsidy',\n",
       "       'Annual Premium', 'Paid Thru Date', 'Days Past Due', 'Phone Number',\n",
       "       'Email', 'Metal Level', 'Zip Code', 'Claro Type',\n",
       "       'Carrier State line of Business'],\n",
       "      dtype='object')"
      ]
     },
     "execution_count": 20,
     "metadata": {},
     "output_type": "execute_result"
    }
   ],
   "source": [
    "df_template = pd.read_csv('//mnt/c/Users/cesar/Desktop/claro/Format_Create_BOB.csv').head(0)\n",
    "df_template.columns"
   ]
  },
  {
   "cell_type": "code",
   "execution_count": 21,
   "id": "729b5206-5f75-44b1-9736-542e528936f9",
   "metadata": {},
   "outputs": [],
   "source": [
    "df_a = df_a.rename(\n",
    "    columns={\n",
    "        'Member ID':'PolicyNumber',\n",
    "        'Writing Agent NPN':'NPN_AOR',\n",
    "        'Mbr Status':'Status',\n",
    "        'Plan Eff Date':'EffectiveDate',\n",
    "        'App Sign Date':'Transaction Date',\n",
    "        'Term Date':'Policy Term Date',        \n",
    "    }\n",
    ")"
   ]
  },
  {
   "cell_type": "code",
   "execution_count": 22,
   "id": "2f07a8ad-f04c-435c-8a14-60185b84ac25",
   "metadata": {},
   "outputs": [
    {
     "data": {
      "text/plain": [
       "Index(['PolicyNumber', 'Legacy Member ID', 'Medicare\\nNumber',\n",
       "       'Affinity Policy ID', 'First Name', 'Mid Initial', 'Last Name',\n",
       "       'Date of Birth', 'Phone Number', 'Address Line 1 ', 'Address Line 2',\n",
       "       'City', 'State', 'Zip Code ', 'Transaction Date', 'App Rec Date',\n",
       "       'Cov Eff Date', 'Status', 'Policy Term Date', 'Term Rsn Code',\n",
       "       'Plan Name', 'EffectiveDate', 'Supplement Plans ', 'NPN_AOR',\n",
       "       'Writing Agent TIN', 'Writing Agent First Name',\n",
       "       'Writing Agent Last Name', 'Pay Method', 'Bill Option', 'Invoice Amt',\n",
       "       'Invce Date', 'CMS Contract Nbr', 'PBP Code', 'ID Card Issue Date',\n",
       "       'Affnty Code', 'Producer Level  1 Name', 'Producer Level 1 TIN/NPN',\n",
       "       'Prdcr Level 1 Code', 'Producer Level  2 Name',\n",
       "       'Producer Level 2 TIN/NPN', 'Prdcr Level  2 Code',\n",
       "       'Producer Level  3 Name', 'Producer Level 3 TIN/NPN',\n",
       "       'Prdcr Level  3 Code', 'Producer Level  4 Name',\n",
       "       'Producer Level 4 TIN/NPN', 'Prdcr Level  4 Code',\n",
       "       'Producer Level  5 Name', 'Producer Level 5 TIN/NPN',\n",
       "       'Prdcr Level  5 Code', 'Producer Level  6 Name',\n",
       "       'Producer Level 6 TIN/NPN', 'Prdcr Level  6 Code',\n",
       "       'Producer Level  7 Name', 'Producer Level 7 TIN/NPN',\n",
       "       'Prdcr Level  7 Code', 'Producer Level  8 Name',\n",
       "       'Producer Level 8 TIN/NPN', 'Prdcr Level  8 Code',\n",
       "       'Producer Level  9 Name', 'Producer Level 9 TIN/NPN'],\n",
       "      dtype='object')"
      ]
     },
     "execution_count": 22,
     "metadata": {},
     "output_type": "execute_result"
    }
   ],
   "source": [
    "df_a.columns"
   ]
  },
  {
   "cell_type": "markdown",
   "id": "63096953-0aa0-4013-ad2f-4e90ebe59396",
   "metadata": {},
   "source": [
    "## Limpiar las polizas "
   ]
  },
  {
   "cell_type": "code",
   "execution_count": 45,
   "id": "e6f775d4-9c79-41f8-9cf4-ec168fb2b3de",
   "metadata": {},
   "outputs": [],
   "source": [
    "df_aetna = df_a.dropna(subset=['PolicyNumber'])"
   ]
  },
  {
   "cell_type": "markdown",
   "id": "053a453f-9687-47a4-8a80-0aa6a5066604",
   "metadata": {},
   "source": [
    "## Extraer Polizas de Aetna BOB"
   ]
  },
  {
   "cell_type": "code",
   "execution_count": 40,
   "id": "9a4507f3-e3d1-4d20-b29e-2ed38efaaaa7",
   "metadata": {},
   "outputs": [
    {
     "data": {
      "text/plain": [
       "array(['ACA', 'Medicare', 'Life', 'Supplementary'], dtype=object)"
      ]
     },
     "execution_count": 40,
     "metadata": {},
     "output_type": "execute_result"
    }
   ],
   "source": [
    "df_b['Line of Business'].unique()"
   ]
  },
  {
   "cell_type": "code",
   "execution_count": 41,
   "id": "9e8c4f85-c374-4b2b-bf9b-02011dd86167",
   "metadata": {},
   "outputs": [],
   "source": [
    "df_medicare = extractCarrier(df_b, 'Aetna', 'Medicare')"
   ]
  },
  {
   "cell_type": "markdown",
   "id": "260fabb8-b24b-43d0-8511-37dcaf713245",
   "metadata": {},
   "source": [
    "## Extract New Policies"
   ]
  },
  {
   "cell_type": "code",
   "execution_count": 46,
   "id": "e26e7a1b-7cd9-4e7a-b0f0-5ab53daf5f51",
   "metadata": {},
   "outputs": [],
   "source": [
    "upload = leftJoinBOB(df_aetna['PolicyNumber'].values, df_medicare['Policy Number'].values)"
   ]
  },
  {
   "cell_type": "code",
   "execution_count": 52,
   "id": "57f69260-3ef2-49bd-b0c6-05fe46811d01",
   "metadata": {},
   "outputs": [
    {
     "data": {
      "text/html": [
       "<div>\n",
       "<style scoped>\n",
       "    .dataframe tbody tr th:only-of-type {\n",
       "        vertical-align: middle;\n",
       "    }\n",
       "\n",
       "    .dataframe tbody tr th {\n",
       "        vertical-align: top;\n",
       "    }\n",
       "\n",
       "    .dataframe thead th {\n",
       "        text-align: right;\n",
       "    }\n",
       "</style>\n",
       "<table border=\"1\" class=\"dataframe\">\n",
       "  <thead>\n",
       "    <tr style=\"text-align: right;\">\n",
       "      <th></th>\n",
       "      <th>PolicyNumber</th>\n",
       "      <th>Legacy Member ID</th>\n",
       "      <th>Medicare\\nNumber</th>\n",
       "      <th>Affinity Policy ID</th>\n",
       "      <th>First Name</th>\n",
       "      <th>Mid Initial</th>\n",
       "      <th>Last Name</th>\n",
       "      <th>Date of Birth</th>\n",
       "      <th>Phone Number</th>\n",
       "      <th>Address Line 1</th>\n",
       "      <th>...</th>\n",
       "      <th>Producer Level 6 TIN/NPN</th>\n",
       "      <th>Prdcr Level  6 Code</th>\n",
       "      <th>Producer Level  7 Name</th>\n",
       "      <th>Producer Level 7 TIN/NPN</th>\n",
       "      <th>Prdcr Level  7 Code</th>\n",
       "      <th>Producer Level  8 Name</th>\n",
       "      <th>Producer Level 8 TIN/NPN</th>\n",
       "      <th>Prdcr Level  8 Code</th>\n",
       "      <th>Producer Level  9 Name</th>\n",
       "      <th>Producer Level 9 TIN/NPN</th>\n",
       "    </tr>\n",
       "  </thead>\n",
       "  <tbody>\n",
       "    <tr>\n",
       "      <th>3</th>\n",
       "      <td>101687516900</td>\n",
       "      <td>NaN</td>\n",
       "      <td>6MQ3NP3XE84</td>\n",
       "      <td>T123001853925A</td>\n",
       "      <td>N</td>\n",
       "      <td>NaN</td>\n",
       "      <td>Gonzalez Martinez</td>\n",
       "      <td>1956-08-28</td>\n",
       "      <td>4.079549e+09</td>\n",
       "      <td>237 BALBOA DR</td>\n",
       "      <td>...</td>\n",
       "      <td>NaN</td>\n",
       "      <td>NaN</td>\n",
       "      <td>NaN</td>\n",
       "      <td>NaN</td>\n",
       "      <td>NaN</td>\n",
       "      <td>NaN</td>\n",
       "      <td>NaN</td>\n",
       "      <td>NaN</td>\n",
       "      <td>NaN</td>\n",
       "      <td>NaN</td>\n",
       "    </tr>\n",
       "    <tr>\n",
       "      <th>4</th>\n",
       "      <td>101691065800</td>\n",
       "      <td>NaN</td>\n",
       "      <td>8K97GE4UR71</td>\n",
       "      <td>T123002660986A</td>\n",
       "      <td>THELMA</td>\n",
       "      <td>NaN</td>\n",
       "      <td>HERNANDEZ</td>\n",
       "      <td>1940-07-14</td>\n",
       "      <td>7.864396e+09</td>\n",
       "      <td>7049 CARNA CT</td>\n",
       "      <td>...</td>\n",
       "      <td>NaN</td>\n",
       "      <td>NaN</td>\n",
       "      <td>NaN</td>\n",
       "      <td>NaN</td>\n",
       "      <td>NaN</td>\n",
       "      <td>NaN</td>\n",
       "      <td>NaN</td>\n",
       "      <td>NaN</td>\n",
       "      <td>NaN</td>\n",
       "      <td>NaN</td>\n",
       "    </tr>\n",
       "    <tr>\n",
       "      <th>5</th>\n",
       "      <td>101689237700</td>\n",
       "      <td>NaN</td>\n",
       "      <td>1U81GW9MK15</td>\n",
       "      <td>CS90HWG1G0</td>\n",
       "      <td>CANDIDA</td>\n",
       "      <td>R</td>\n",
       "      <td>MONTANEZ</td>\n",
       "      <td>1946-09-04</td>\n",
       "      <td>6.892452e+09</td>\n",
       "      <td>2806 EAGLE CLAW CT</td>\n",
       "      <td>...</td>\n",
       "      <td>NaN</td>\n",
       "      <td>NaN</td>\n",
       "      <td>NaN</td>\n",
       "      <td>NaN</td>\n",
       "      <td>NaN</td>\n",
       "      <td>NaN</td>\n",
       "      <td>NaN</td>\n",
       "      <td>NaN</td>\n",
       "      <td>NaN</td>\n",
       "      <td>NaN</td>\n",
       "    </tr>\n",
       "  </tbody>\n",
       "</table>\n",
       "<p>3 rows × 61 columns</p>\n",
       "</div>"
      ],
      "text/plain": [
       "   PolicyNumber Legacy Member ID Medicare\\nNumber Affinity Policy ID  \\\n",
       "3  101687516900              NaN      6MQ3NP3XE84     T123001853925A   \n",
       "4  101691065800              NaN      8K97GE4UR71     T123002660986A   \n",
       "5  101689237700              NaN      1U81GW9MK15         CS90HWG1G0   \n",
       "\n",
       "  First Name Mid Initial          Last Name Date of Birth  Phone Number  \\\n",
       "3          N         NaN  Gonzalez Martinez    1956-08-28  4.079549e+09   \n",
       "4     THELMA         NaN          HERNANDEZ    1940-07-14  7.864396e+09   \n",
       "5    CANDIDA           R           MONTANEZ    1946-09-04  6.892452e+09   \n",
       "\n",
       "      Address Line 1   ... Producer Level 6 TIN/NPN Prdcr Level  6 Code  \\\n",
       "3       237 BALBOA DR  ...                      NaN                 NaN   \n",
       "4       7049 CARNA CT  ...                      NaN                 NaN   \n",
       "5  2806 EAGLE CLAW CT  ...                      NaN                 NaN   \n",
       "\n",
       "  Producer Level  7 Name  Producer Level 7 TIN/NPN Prdcr Level  7 Code  \\\n",
       "3                    NaN                       NaN                 NaN   \n",
       "4                    NaN                       NaN                 NaN   \n",
       "5                    NaN                       NaN                 NaN   \n",
       "\n",
       "  Producer Level  8 Name Producer Level 8 TIN/NPN Prdcr Level  8 Code  \\\n",
       "3                    NaN                      NaN                 NaN   \n",
       "4                    NaN                      NaN                 NaN   \n",
       "5                    NaN                      NaN                 NaN   \n",
       "\n",
       "  Producer Level  9 Name Producer Level 9 TIN/NPN  \n",
       "3                    NaN                      NaN  \n",
       "4                    NaN                      NaN  \n",
       "5                    NaN                      NaN  \n",
       "\n",
       "[3 rows x 61 columns]"
      ]
     },
     "execution_count": 52,
     "metadata": {},
     "output_type": "execute_result"
    }
   ],
   "source": [
    "df_upload = df_aetna[df_aetna['PolicyNumber'].isin(upload)]\n",
    "df_upload.head(3)"
   ]
  },
  {
   "cell_type": "markdown",
   "id": "9e71c0d4-6d06-4966-87d6-57bf66e43a48",
   "metadata": {},
   "source": [
    "### Upload into template"
   ]
  },
  {
   "cell_type": "code",
   "execution_count": 50,
   "id": "9573f88d-f1f4-4fb2-af96-b070bfe4b214",
   "metadata": {},
   "outputs": [],
   "source": [
    "df_upload.reset_index(drop=True, inplace=True)"
   ]
  },
  {
   "cell_type": "code",
   "execution_count": 170,
   "id": "40c820e4-b2e6-46fc-b29c-1595b5fb40bc",
   "metadata": {},
   "outputs": [],
   "source": [
    "df_upload.reset_index(inplace=True)"
   ]
  },
  {
   "cell_type": "code",
   "execution_count": 51,
   "id": "ad3f54e3-4bbc-4013-be5b-b2a85925629d",
   "metadata": {},
   "outputs": [
    {
     "data": {
      "text/html": [
       "<div>\n",
       "<style scoped>\n",
       "    .dataframe tbody tr th:only-of-type {\n",
       "        vertical-align: middle;\n",
       "    }\n",
       "\n",
       "    .dataframe tbody tr th {\n",
       "        vertical-align: top;\n",
       "    }\n",
       "\n",
       "    .dataframe thead th {\n",
       "        text-align: right;\n",
       "    }\n",
       "</style>\n",
       "<table border=\"1\" class=\"dataframe\">\n",
       "  <thead>\n",
       "    <tr style=\"text-align: right;\">\n",
       "      <th></th>\n",
       "      <th>Carrier___</th>\n",
       "      <th>LOB____</th>\n",
       "      <th>Carrier</th>\n",
       "      <th>Agent AOR</th>\n",
       "      <th>NPN AOR</th>\n",
       "      <th>Contact____</th>\n",
       "      <th>NPN_Internal____</th>\n",
       "      <th>Contact</th>\n",
       "      <th>Policy Number</th>\n",
       "      <th>Source</th>\n",
       "      <th>...</th>\n",
       "      <th>Subsidy</th>\n",
       "      <th>Annual Premium</th>\n",
       "      <th>Paid Thru Date</th>\n",
       "      <th>Days Past Due</th>\n",
       "      <th>Phone Number</th>\n",
       "      <th>Email</th>\n",
       "      <th>Metal Level</th>\n",
       "      <th>Zip Code</th>\n",
       "      <th>Claro Type</th>\n",
       "      <th>Carrier State line of Business</th>\n",
       "    </tr>\n",
       "  </thead>\n",
       "  <tbody>\n",
       "  </tbody>\n",
       "</table>\n",
       "<p>0 rows × 40 columns</p>\n",
       "</div>"
      ],
      "text/plain": [
       "Empty DataFrame\n",
       "Columns: [Carrier___, LOB____, Carrier, Agent AOR, NPN AOR, Contact____, NPN_Internal____, Contact, Policy Number, Source, Referrals_____, Referrals Id, Status, Effective Date, Transaction Date, Policy Term Date, Member First Name, Member Last Name, DOB, State, County, City, Members, Policy Type, Last Status Modification Date, Loading Date, Record Type Id, Plan, Election Period, Final Premium, Subsidy, Annual Premium, Paid Thru Date, Days Past Due, Phone Number, Email, Metal Level, Zip Code, Claro Type, Carrier State line of Business]\n",
       "Index: []\n",
       "\n",
       "[0 rows x 40 columns]"
      ]
     },
     "execution_count": 51,
     "metadata": {},
     "output_type": "execute_result"
    }
   ],
   "source": [
    "df_template = pd.read_csv('//mnt/c/Users/cesar/Desktop/claro/Format_Create_BOB.csv').head(0)\n",
    "df_template"
   ]
  },
  {
   "cell_type": "code",
   "execution_count": 54,
   "id": "120f8ed3-c2d9-4bb0-9d51-051dd5b04228",
   "metadata": {},
   "outputs": [
    {
     "data": {
      "text/plain": [
       "Index(['PolicyNumber', 'Legacy Member ID', 'Medicare\\nNumber',\n",
       "       'Affinity Policy ID', 'First Name', 'Mid Initial', 'Last Name',\n",
       "       'Date of Birth', 'Phone Number', 'Address Line 1 ', 'Address Line 2',\n",
       "       'City', 'State', 'Zip Code ', 'Transaction Date', 'App Rec Date',\n",
       "       'Cov Eff Date', 'Status', 'Policy Term Date', 'Term Rsn Code',\n",
       "       'Plan Name', 'EffectiveDate', 'Supplement Plans ', 'NPN_AOR',\n",
       "       'Writing Agent TIN', 'Writing Agent First Name',\n",
       "       'Writing Agent Last Name', 'Pay Method', 'Bill Option', 'Invoice Amt',\n",
       "       'Invce Date', 'CMS Contract Nbr', 'PBP Code', 'ID Card Issue Date',\n",
       "       'Affnty Code', 'Producer Level  1 Name', 'Producer Level 1 TIN/NPN',\n",
       "       'Prdcr Level 1 Code', 'Producer Level  2 Name',\n",
       "       'Producer Level 2 TIN/NPN', 'Prdcr Level  2 Code',\n",
       "       'Producer Level  3 Name', 'Producer Level 3 TIN/NPN',\n",
       "       'Prdcr Level  3 Code', 'Producer Level  4 Name',\n",
       "       'Producer Level 4 TIN/NPN', 'Prdcr Level  4 Code',\n",
       "       'Producer Level  5 Name', 'Producer Level 5 TIN/NPN',\n",
       "       'Prdcr Level  5 Code', 'Producer Level  6 Name',\n",
       "       'Producer Level 6 TIN/NPN', 'Prdcr Level  6 Code',\n",
       "       'Producer Level  7 Name', 'Producer Level 7 TIN/NPN',\n",
       "       'Prdcr Level  7 Code', 'Producer Level  8 Name',\n",
       "       'Producer Level 8 TIN/NPN', 'Prdcr Level  8 Code',\n",
       "       'Producer Level  9 Name', 'Producer Level 9 TIN/NPN'],\n",
       "      dtype='object')"
      ]
     },
     "execution_count": 54,
     "metadata": {},
     "output_type": "execute_result"
    }
   ],
   "source": [
    "df_upload.columns"
   ]
  },
  {
   "cell_type": "code",
   "execution_count": 55,
   "id": "2a9c73f5-299b-4741-b498-d5d6dcecfc1f",
   "metadata": {},
   "outputs": [],
   "source": [
    "df_template['Member First Name'] = df_upload['First Name']\n",
    "df_template['Member Last Name'] = df_upload['Last Name']"
   ]
  },
  {
   "cell_type": "code",
   "execution_count": 56,
   "id": "288d1223-36a3-45c3-9639-ff986299ff11",
   "metadata": {},
   "outputs": [],
   "source": [
    "df_template.reset_index(drop=True, inplace=True)"
   ]
  },
  {
   "cell_type": "code",
   "execution_count": 57,
   "id": "5233eca4-a382-49a8-816f-2301361e6d8e",
   "metadata": {},
   "outputs": [],
   "source": [
    "df_template['Policy Number'] = df_upload['PolicyNumber']"
   ]
  },
  {
   "cell_type": "code",
   "execution_count": 58,
   "id": "247b12bd-6929-4200-82a7-71b7d08cc969",
   "metadata": {},
   "outputs": [],
   "source": [
    "df_template['Plan'] = df_upload['Plan Name']"
   ]
  },
  {
   "cell_type": "code",
   "execution_count": 111,
   "id": "8e938bf6-b94b-46b2-a9c4-b0feadacc1de",
   "metadata": {},
   "outputs": [],
   "source": [
    "query_agebt_aor = \"\"\"\n",
    "    SELECT contact, agent_writing_number\n",
    "    FROM agent_contract \n",
    "    WHERE npn = \\'{npn_aor}\\' ;\n",
    "\"\"\""
   ]
  },
  {
   "cell_type": "code",
   "execution_count": 137,
   "id": "fca03e06-e295-4778-b1c9-6109ce2df990",
   "metadata": {},
   "outputs": [],
   "source": [
    "npn_list = pd.to_numeric(df_upload['NPN_AOR'], downcast='integer')"
   ]
  },
  {
   "cell_type": "code",
   "execution_count": 127,
   "id": "1010d6b2-5bfb-45d2-b31a-fae8e0febc22",
   "metadata": {},
   "outputs": [],
   "source": [
    "box_contact = []\n",
    "for i in npn_list:\n",
    "    df = query_db(query_agebt_aor.format(npn_aor=int(i)))\n",
    "    df = pd.DataFrame(df, columns=['Contact', 'awn'])\n",
    "    assert df['Contact'].unique().shape[0] == 1, 'Error en la integridad de los datos en base de datos, por favor consultar el agente con el NPN {}'.format(i)\n",
    "    box_contact.append(df['Contact'].unique()[0])"
   ]
  },
  {
   "cell_type": "code",
   "execution_count": 129,
   "id": "6e2122a9-1c41-443f-8c1a-7b6e4430fc74",
   "metadata": {},
   "outputs": [],
   "source": [
    "df_template['Agent AOR'] = box_contact"
   ]
  },
  {
   "cell_type": "code",
   "execution_count": 138,
   "id": "dca10a79-fe1b-47f7-bd81-2044453788cc",
   "metadata": {},
   "outputs": [],
   "source": [
    "df_template['NPN AOR'] = df_upload['NPN_AOR']"
   ]
  },
  {
   "cell_type": "code",
   "execution_count": 139,
   "id": "4eab3631-90af-465f-951d-aeb1f7d0d7df",
   "metadata": {},
   "outputs": [],
   "source": [
    "df_template['Effective Date'] = df_upload['EffectiveDate']"
   ]
  },
  {
   "cell_type": "code",
   "execution_count": 142,
   "id": "841196e2-7ac7-4243-9d1e-4bb9c284ac66",
   "metadata": {},
   "outputs": [],
   "source": [
    "df_template['Transaction Date'] = df_upload['Transaction Date']"
   ]
  },
  {
   "cell_type": "code",
   "execution_count": 144,
   "id": "e58381cc-d420-4c97-8111-098afedf9f5c",
   "metadata": {},
   "outputs": [],
   "source": [
    "df_template['Policy Term Date'] = df_upload['Policy Term Date']"
   ]
  },
  {
   "cell_type": "code",
   "execution_count": 145,
   "id": "7457b4b7-8728-4a54-9c40-bc6f1229d3a6",
   "metadata": {},
   "outputs": [],
   "source": [
    "df_template['LOB____'] = 'Medicare'"
   ]
  },
  {
   "cell_type": "markdown",
   "id": "9cb14180-b89d-4b76-8a83-de19bf78eee9",
   "metadata": {},
   "source": [
    "### Source"
   ]
  },
  {
   "cell_type": "code",
   "execution_count": 146,
   "id": "97d20217-55f7-4249-b007-1cd489f253db",
   "metadata": {},
   "outputs": [],
   "source": [
    "def assign_source(referal_agents:list, df_template, column_agent_numbers:str, df_upload) -> pd.DataFrame:\n",
    "    df_s = df_template.copy()\n",
    "    mask_s = df_upload[column_agent_numbers].isin(referal_agents)\n",
    "    \n",
    "    df_s.loc[mask_s,  'Source'] = 'Referal'\n",
    "    df_s.loc[~mask_s, 'Source'] = 'Direct'\n",
    "    \n",
    "    return df_s"
   ]
  },
  {
   "cell_type": "code",
   "execution_count": 154,
   "id": "58774ce0-5f05-40ed-abfc-27b0b8b469f6",
   "metadata": {},
   "outputs": [],
   "source": [
    "npn_referals = [18233171, 7388594, 19603471, 18522178, 19106367, 16001347, 10041154, 20462802, 17686050]\n",
    "\n",
    "#npn_referals = str([str(i)  for i in npn_referals]).replace('[', '').replace(']','')\n"
   ]
  },
  {
   "cell_type": "code",
   "execution_count": null,
   "id": "b7f0bf05-8576-4f56-8b80-4c4c802f4cec",
   "metadata": {},
   "outputs": [],
   "source": [
    "df_s = df_template.copy()\n",
    "mask_s = df_upload[column_agent_numbers].isin(referal_agents)\n",
    "    \n",
    "df_s.loc[mask_s,  'Source'] = 'Referal'\n",
    "df_s.loc[~mask_s, 'Source'] = 'Direct'"
   ]
  },
  {
   "cell_type": "code",
   "execution_count": 177,
   "id": "bd478c3e-fe4b-4372-9c55-5501231d7a14",
   "metadata": {},
   "outputs": [],
   "source": [
    "df_template = assign_source(npn_referals, df_template, 'NPN_AOR', df_upload)"
   ]
  },
  {
   "cell_type": "code",
   "execution_count": 179,
   "id": "76d1cacd-4928-4d6d-b0bf-250fb4cb3984",
   "metadata": {},
   "outputs": [],
   "source": [
    "df_template['Status'] = df_upload['Status']"
   ]
  },
  {
   "cell_type": "code",
   "execution_count": 181,
   "id": "e13666e2-153c-4b1f-89d3-5d514f671272",
   "metadata": {},
   "outputs": [],
   "source": [
    "df_template['State'] = df_upload['State']"
   ]
  },
  {
   "cell_type": "code",
   "execution_count": 182,
   "id": "18914693-bd76-45dc-bf44-238486de9c97",
   "metadata": {},
   "outputs": [],
   "source": [
    "query_record_type = \"\"\"\n",
    "    SELECT  id  FROM record_type rt\n",
    "\twhere record_type = 'BOB';\n",
    "\"\"\""
   ]
  },
  {
   "cell_type": "code",
   "execution_count": 185,
   "id": "79e9f6b4-5620-4fbf-9f18-658bf96edead",
   "metadata": {},
   "outputs": [],
   "source": [
    "df_template['Record Type Id'] = query_db(query_record_type)[0][0]"
   ]
  },
  {
   "cell_type": "markdown",
   "id": "74b9247a-443b-40d5-b5cb-a0142740a8ab",
   "metadata": {},
   "source": [
    "## Carrier"
   ]
  },
  {
   "cell_type": "code",
   "execution_count": 205,
   "id": "67c0c5df-897a-4f48-87ae-9649604676bf",
   "metadata": {},
   "outputs": [],
   "source": [
    "def exrtact_carrier_id(serie_state, carrier_name, lob):\n",
    "    box = []\n",
    "    query_carrier_id = \"\"\"\n",
    "    SELECT carrier_id  \n",
    "    FROM carrier c \n",
    "    WHERE carrier = '{carrier_name}' and state_c = '{carrier_state}' and lob = '{lob}'\n",
    "    ;\n",
    "\"\"\"\n",
    "    \n",
    "    for state in serie_state:\n",
    "        carrier_id = query_db(query_carrier_id.format(carrier_name=carrier_name, carrier_state=state, lob=lob))\n",
    "        if len(carrier_id) == 1:\n",
    "            box.append(carrier_id[0][0])\n",
    "        else:\n",
    "            box.append(None)\n",
    "    \n",
    "    return box"
   ]
  },
  {
   "cell_type": "code",
   "execution_count": 207,
   "id": "0e53fe1b-273c-4439-bbec-541558de3ae7",
   "metadata": {},
   "outputs": [],
   "source": [
    "df_template['Carrier'] =  exrtact_carrier_id(df_template['State'], 'Aetna', 'Medicare')"
   ]
  },
  {
   "cell_type": "code",
   "execution_count": 210,
   "id": "f849e63a-a984-404b-a710-6ae8e9301bbe",
   "metadata": {},
   "outputs": [],
   "source": [
    "df_template['Last Status Modification Date'] = date"
   ]
  },
  {
   "cell_type": "code",
   "execution_count": 211,
   "id": "54d0b5f6-dc5c-46fe-aa2b-339a536a81e2",
   "metadata": {},
   "outputs": [],
   "source": [
    "df_template['Loading Date'] = date"
   ]
  },
  {
   "cell_type": "code",
   "execution_count": 212,
   "id": "771afbe8-7de6-43d9-b725-9c9495b1089f",
   "metadata": {},
   "outputs": [],
   "source": [
    "query_cslb = \"\"\"\n",
    "    select carrier_lob_id \n",
    "    from carrier c\n",
    "    where carrier_id = '{carrier_id}' and state_c = '{state}';\n",
    "\"\"\""
   ]
  },
  {
   "cell_type": "code",
   "execution_count": null,
   "id": "bfca6a41-5c6e-4e5e-8a60-ff56d2258a9f",
   "metadata": {},
   "outputs": [],
   "source": [
    "def making_query_cslb(df_template, query_cslb):\n",
    "    box = []\n",
    "    carrier = df_template['Carrier'].unique()\n",
    "    \n",
    "    for state in df_template.State.values:\n",
    "    \tquery_cslb = query_cslb.format(carrier_id=carrier, state=state[0])\n",
    "    value = query_db(query_cslb)[0][0]\n",
    "    return value"
   ]
  },
  {
   "cell_type": "code",
   "execution_count": null,
   "id": "7bcf87db-4bcd-4dca-90b0-cc5dbd362b8a",
   "metadata": {},
   "outputs": [],
   "source": [
    "def extract_cslb(df_template, query_cslb):\n",
    "    cslb = making_query_cslb(df_template, query_cslb)\n",
    "    df_template['Carrier State line of Business'] = cslb\n",
    "    \n",
    "    return df_template"
   ]
  },
  {
   "cell_type": "code",
   "execution_count": null,
   "id": "c7eb6511-3ebf-4ca3-a444-882060ee26de",
   "metadata": {},
   "outputs": [],
   "source": [
    "df_template = extract_cslb(df_template, query_cslb)"
   ]
  },
  {
   "cell_type": "code",
   "execution_count": 140,
   "id": "89c98bbe-5b82-4915-a47b-06790bb779c9",
   "metadata": {},
   "outputs": [
    {
     "data": {
      "text/plain": [
       "Index(['PolicyNumber', 'Legacy Member ID', 'Medicare\\nNumber',\n",
       "       'Affinity Policy ID', 'First Name', 'Mid Initial', 'Last Name',\n",
       "       'Date of Birth', 'Phone Number', 'Address Line 1 ', 'Address Line 2',\n",
       "       'City', 'State', 'Zip Code ', 'Transaction Date', 'App Rec Date',\n",
       "       'Cov Eff Date', 'Status', 'Policy Term Date', 'Term Rsn Code',\n",
       "       'Plan Name', 'EffectiveDate', 'Supplement Plans ', 'NPN_AOR',\n",
       "       'Writing Agent TIN', 'Writing Agent First Name',\n",
       "       'Writing Agent Last Name', 'Pay Method', 'Bill Option', 'Invoice Amt',\n",
       "       'Invce Date', 'CMS Contract Nbr', 'PBP Code', 'ID Card Issue Date',\n",
       "       'Affnty Code', 'Producer Level  1 Name', 'Producer Level 1 TIN/NPN',\n",
       "       'Prdcr Level 1 Code', 'Producer Level  2 Name',\n",
       "       'Producer Level 2 TIN/NPN', 'Prdcr Level  2 Code',\n",
       "       'Producer Level  3 Name', 'Producer Level 3 TIN/NPN',\n",
       "       'Prdcr Level  3 Code', 'Producer Level  4 Name',\n",
       "       'Producer Level 4 TIN/NPN', 'Prdcr Level  4 Code',\n",
       "       'Producer Level  5 Name', 'Producer Level 5 TIN/NPN',\n",
       "       'Prdcr Level  5 Code', 'Producer Level  6 Name',\n",
       "       'Producer Level 6 TIN/NPN', 'Prdcr Level  6 Code',\n",
       "       'Producer Level  7 Name', 'Producer Level 7 TIN/NPN',\n",
       "       'Prdcr Level  7 Code', 'Producer Level  8 Name',\n",
       "       'Producer Level 8 TIN/NPN', 'Prdcr Level  8 Code',\n",
       "       'Producer Level  9 Name', 'Producer Level 9 TIN/NPN'],\n",
       "      dtype='object')"
      ]
     },
     "execution_count": 140,
     "metadata": {},
     "output_type": "execute_result"
    }
   ],
   "source": [
    "df_upload.columns"
   ]
  }
 ],
 "metadata": {
  "kernelspec": {
   "display_name": "Python [conda env:ia]",
   "language": "python",
   "name": "conda-env-ia-py"
  },
  "language_info": {
   "codemirror_mode": {
    "name": "ipython",
    "version": 3
   },
   "file_extension": ".py",
   "mimetype": "text/x-python",
   "name": "python",
   "nbconvert_exporter": "python",
   "pygments_lexer": "ipython3",
   "version": "3.8.8"
  }
 },
 "nbformat": 4,
 "nbformat_minor": 5
}
