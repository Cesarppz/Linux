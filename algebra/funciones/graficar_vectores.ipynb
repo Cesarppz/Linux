{
 "cells": [
  {
   "cell_type": "code",
   "execution_count": 3,
   "id": "483801e1-56a3-460b-9162-67d58eb0c457",
   "metadata": {},
   "outputs": [],
   "source": [
    "def graficar_vects(vects, col = ['orange', 'blue'] , alpha = 1):\n",
    "    plt.figure()\n",
    "    plt.axvline(x = 0, color = 'grey')\n",
    "    plt.axhline(y = 0, color = 'grey')\n",
    "    plt.grid(alpha = .8)\n",
    "    \n",
    "    for i in range(len(vects)):\n",
    "        x = np.concatenate([[0,0],vects[i]])\n",
    "        plt.quiver(\n",
    "            x[0],x[1],\n",
    "            x[-2],x[-1],\n",
    "        angles= 'xy', scale_units= 'xy',scale = 1,  color = col[i], alpha = alpha)\n"
   ]
  }
 ],
 "metadata": {
  "kernelspec": {
   "display_name": "Python [conda env:ia]",
   "language": "python",
   "name": "conda-env-ia-py"
  },
  "language_info": {
   "codemirror_mode": {
    "name": "ipython",
    "version": 3
   },
   "file_extension": ".py",
   "mimetype": "text/x-python",
   "name": "python",
   "nbconvert_exporter": "python",
   "pygments_lexer": "ipython3",
   "version": "3.8.8"
  }
 },
 "nbformat": 4,
 "nbformat_minor": 5
}
