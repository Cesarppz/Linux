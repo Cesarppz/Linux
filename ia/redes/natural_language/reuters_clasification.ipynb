{
 "cells": [
  {
   "cell_type": "code",
   "execution_count": 42,
   "id": "e4edaeec",
   "metadata": {},
   "outputs": [],
   "source": [
    "import numpy as np\n",
    "import matplotlib.pyplot as plt\n",
    "from keras import layers, models, optimizers\n",
    "from keras.datasets import reuters\n",
    "from keras.utils import to_categorical #HAcer one hoding coding\n",
    "from sklearn.model_selection import train_test_split\n",
    "\n",
    "%config Completer.use_jedi = False\n"
   ]
  },
  {
   "cell_type": "code",
   "execution_count": 3,
   "id": "cb84aa3f",
   "metadata": {
    "collapsed": true,
    "jupyter": {
     "outputs_hidden": true
    },
    "tags": []
   },
   "outputs": [
    {
     "name": "stderr",
     "output_type": "stream",
     "text": [
      "/home/cesar/anaconda3/envs/ia/lib/python3.8/site-packages/tensorflow/python/keras/datasets/reuters.py:143: VisibleDeprecationWarning: Creating an ndarray from ragged nested sequences (which is a list-or-tuple of lists-or-tuples-or ndarrays with different lengths or shapes) is deprecated. If you meant to do this, you must specify 'dtype=object' when creating the ndarray.\n",
      "  x_train, y_train = np.array(xs[:idx]), np.array(labels[:idx])\n",
      "/home/cesar/anaconda3/envs/ia/lib/python3.8/site-packages/tensorflow/python/keras/datasets/reuters.py:144: VisibleDeprecationWarning: Creating an ndarray from ragged nested sequences (which is a list-or-tuple of lists-or-tuples-or ndarrays with different lengths or shapes) is deprecated. If you meant to do this, you must specify 'dtype=object' when creating the ndarray.\n",
      "  x_test, y_test = np.array(xs[idx:]), np.array(labels[idx:])\n"
     ]
    }
   ],
   "source": [
    "(train_data,train_labels),(test_data,test_labels) = reuters.load_data(num_words=10000)"
   ]
  },
  {
   "cell_type": "code",
   "execution_count": 4,
   "id": "d443b0b7",
   "metadata": {
    "collapsed": true,
    "jupyter": {
     "outputs_hidden": true
    },
    "scrolled": true,
    "tags": []
   },
   "outputs": [
    {
     "name": "stdout",
     "output_type": "stream",
     "text": [
      "None\n",
      "None\n",
      "None\n",
      "said\n",
      "as\n",
      "a\n",
      "result\n",
      "of\n",
      "its\n",
      "december\n",
      "acquisition\n",
      "of\n",
      "space\n",
      "co\n",
      "it\n",
      "expects\n",
      "earnings\n",
      "per\n",
      "share\n",
      "in\n",
      "1987\n",
      "of\n",
      "1\n",
      "15\n",
      "to\n",
      "1\n",
      "30\n",
      "dlrs\n",
      "per\n",
      "share\n",
      "up\n",
      "from\n",
      "70\n",
      "cts\n",
      "in\n",
      "1986\n",
      "the\n",
      "company\n",
      "said\n",
      "pretax\n",
      "net\n",
      "should\n",
      "rise\n",
      "to\n",
      "nine\n",
      "to\n",
      "10\n",
      "mln\n",
      "dlrs\n",
      "from\n",
      "six\n",
      "mln\n",
      "dlrs\n",
      "in\n",
      "1986\n",
      "and\n",
      "rental\n",
      "operation\n",
      "revenues\n",
      "to\n",
      "19\n",
      "to\n",
      "22\n",
      "mln\n",
      "dlrs\n",
      "from\n",
      "12\n",
      "5\n",
      "mln\n",
      "dlrs\n",
      "it\n",
      "said\n",
      "cash\n",
      "flow\n",
      "per\n",
      "share\n",
      "this\n",
      "year\n",
      "should\n",
      "be\n",
      "2\n",
      "50\n",
      "to\n",
      "three\n",
      "dlrs\n",
      "reuter\n",
      "3\n"
     ]
    }
   ],
   "source": [
    "word_index = reuters.get_word_index()\n",
    "word_index = dict([(value, key) for (key, value) in word_index.items()])\n",
    "for w in train_data[0]:\n",
    "    print(word_index.get(w -3))"
   ]
  },
  {
   "cell_type": "markdown",
   "id": "1c0de38c-d92e-436f-9b5e-231e2577ac27",
   "metadata": {},
   "source": [
    "### Vectorizar las palabras"
   ]
  },
  {
   "cell_type": "code",
   "execution_count": 5,
   "id": "a1258d93",
   "metadata": {
    "tags": []
   },
   "outputs": [],
   "source": [
    "def vectorizar(sequences, dim = 10000):\n",
    "    vector = np.zeros((len(sequences),dim))\n",
    "    \n",
    "    for idx , w in enumerate(sequences):\n",
    "        vector[idx,w] = 1\n",
    "    return vector"
   ]
  },
  {
   "cell_type": "code",
   "execution_count": 6,
   "id": "50ae8cd6-2ebd-4dda-ae35-95519b50c3a6",
   "metadata": {},
   "outputs": [],
   "source": [
    "X_train = vectorizar(train_data)\n",
    "X_test = vectorizar(test_data)"
   ]
  },
  {
   "cell_type": "code",
   "execution_count": 7,
   "id": "3e383e8a-bf6a-4500-ac60-3459c6019100",
   "metadata": {},
   "outputs": [],
   "source": [
    "y_train = to_categorical(train_labels)\n",
    "y_test = to_categorical(test_labels)"
   ]
  },
  {
   "cell_type": "markdown",
   "id": "3493637e-8df9-489e-83e8-f613f7ff82c3",
   "metadata": {},
   "source": [
    "### Crear los valores de validacion"
   ]
  },
  {
   "cell_type": "code",
   "execution_count": 8,
   "id": "3ed003af-fda3-4f15-9433-7f8f0d9b5514",
   "metadata": {},
   "outputs": [
    {
     "data": {
      "text/plain": [
       "(8982, 10000)"
      ]
     },
     "execution_count": 8,
     "metadata": {},
     "output_type": "execute_result"
    }
   ],
   "source": [
    "X_train.shape"
   ]
  },
  {
   "cell_type": "code",
   "execution_count": 9,
   "id": "01fd9bd6-6c39-46d7-99ba-22c2ac891d2b",
   "metadata": {},
   "outputs": [
    {
     "data": {
      "text/plain": [
       "(2246, 10000)"
      ]
     },
     "execution_count": 9,
     "metadata": {},
     "output_type": "execute_result"
    }
   ],
   "source": [
    "X_test.shape"
   ]
  },
  {
   "cell_type": "code",
   "execution_count": 10,
   "id": "c45bf146-7702-426e-9ba1-fdd67a7c9b77",
   "metadata": {},
   "outputs": [],
   "source": [
    "X_train , X_validation ,y_train , y_validation = train_test_split(X_train,y_train,test_size=0.2)"
   ]
  },
  {
   "cell_type": "markdown",
   "id": "2060bea9-769e-4520-9abf-f9893aba3e35",
   "metadata": {},
   "source": [
    "# Modelo"
   ]
  },
  {
   "cell_type": "code",
   "execution_count": 46,
   "id": "cc13eb43-2248-4892-b235-090cded860a7",
   "metadata": {},
   "outputs": [],
   "source": [
    "model = models.Sequential()\n",
    "model.add(layers.Dense(64, activation='relu', input_shape= (10000,)))\n",
    "model.add(layers.Dense(64, activation='relu'))\n",
    "model.add(layers.Dense(46, activation='softmax'))"
   ]
  },
  {
   "cell_type": "code",
   "execution_count": 47,
   "id": "2d49e5a9-f04b-43ed-a1dc-2ccedcc0aecd",
   "metadata": {},
   "outputs": [],
   "source": [
    "model.compile(\n",
    "    optimizer= 'rmsprop',\n",
    "    loss= 'categorical_crossentropy',\n",
    "    metrics= 'accuracy'\n",
    ")"
   ]
  },
  {
   "cell_type": "code",
   "execution_count": 24,
   "id": "9d247053-054e-4183-806c-1713131a20c3",
   "metadata": {},
   "outputs": [
    {
     "data": {
      "text/plain": [
       "(7185, 10000)"
      ]
     },
     "execution_count": 24,
     "metadata": {},
     "output_type": "execute_result"
    }
   ],
   "source": [
    "X_train.shape"
   ]
  },
  {
   "cell_type": "code",
   "execution_count": 25,
   "id": "f0283f43-0564-4ca9-8a66-066db78a4a1a",
   "metadata": {},
   "outputs": [
    {
     "data": {
      "text/plain": [
       "(7185, 46)"
      ]
     },
     "execution_count": 25,
     "metadata": {},
     "output_type": "execute_result"
    }
   ],
   "source": [
    "y_train.shape"
   ]
  },
  {
   "cell_type": "code",
   "execution_count": 48,
   "id": "0d2d0b46-8e92-45b2-98b6-527dd93fba05",
   "metadata": {},
   "outputs": [
    {
     "name": "stdout",
     "output_type": "stream",
     "text": [
      "Epoch 1/10\n",
      "15/15 [==============================] - 1s 69ms/step - loss: 2.7414 - accuracy: 0.4729 - val_loss: 1.8773 - val_accuracy: 0.6533\n",
      "Epoch 2/10\n",
      "15/15 [==============================] - 1s 35ms/step - loss: 1.4882 - accuracy: 0.7008 - val_loss: 1.4219 - val_accuracy: 0.6867\n",
      "Epoch 3/10\n",
      "15/15 [==============================] - 0s 27ms/step - loss: 1.0960 - accuracy: 0.7608 - val_loss: 1.2834 - val_accuracy: 0.7156\n",
      "Epoch 4/10\n",
      "15/15 [==============================] - 0s 32ms/step - loss: 0.8773 - accuracy: 0.8051 - val_loss: 1.1810 - val_accuracy: 0.7379\n",
      "Epoch 5/10\n",
      "15/15 [==============================] - 0s 30ms/step - loss: 0.7143 - accuracy: 0.8434 - val_loss: 1.0754 - val_accuracy: 0.7618\n",
      "Epoch 6/10\n",
      "15/15 [==============================] - 0s 29ms/step - loss: 0.5767 - accuracy: 0.8799 - val_loss: 1.2219 - val_accuracy: 0.7229\n",
      "Epoch 7/10\n",
      "15/15 [==============================] - 0s 27ms/step - loss: 0.4775 - accuracy: 0.9016 - val_loss: 1.0392 - val_accuracy: 0.7819\n",
      "Epoch 8/10\n",
      "15/15 [==============================] - 0s 26ms/step - loss: 0.3846 - accuracy: 0.9219 - val_loss: 1.0344 - val_accuracy: 0.7830\n",
      "Epoch 9/10\n",
      "15/15 [==============================] - 0s 32ms/step - loss: 0.3170 - accuracy: 0.9342 - val_loss: 1.0362 - val_accuracy: 0.7935\n",
      "Epoch 10/10\n",
      "15/15 [==============================] - 0s 25ms/step - loss: 0.2721 - accuracy: 0.9403 - val_loss: 1.0197 - val_accuracy: 0.7974\n"
     ]
    }
   ],
   "source": [
    "output = model.fit(\n",
    "    X_train, y_train,\n",
    "    epochs = 10,\n",
    "    batch_size = 512,\n",
    "    validation_data = (X_validation,y_validation)\n",
    ")"
   ]
  },
  {
   "cell_type": "code",
   "execution_count": 50,
   "id": "045307af-3bdf-46f2-b384-94155bb4b415",
   "metadata": {},
   "outputs": [],
   "source": [
    "history_dict = output.history"
   ]
  },
  {
   "cell_type": "code",
   "execution_count": null,
   "id": "5b83284a-0533-4577-8530-a9debe44a5cd",
   "metadata": {},
   "outputs": [],
   "source": []
  },
  {
   "cell_type": "code",
   "execution_count": 39,
   "id": "ecb789a1-8fb2-4678-abf9-4fd9944e6e4e",
   "metadata": {},
   "outputs": [
    {
     "data": {
      "image/png": "[encoded data removed]",
      "text/plain": [
       "<Figure size 1080x360 with 1 Axes>"
      ]
     },
     "metadata": {
      "needs_background": "light"
     },
     "output_type": "display_data"
    }
   ],
   "source": [
    "plt.figure(figsize=(15,5))\n",
    "plt.plot(range(1,len(history_dict['loss'])+1),history_dict['loss'], label='training')\n",
    "plt.plot(range(1,len(history_dict['loss'])+1),history_dict['val_loss'],'--', label='validation')\n",
    "plt.legend( fontsize='large')\n",
    "plt.xlabel('epochs')\n",
    "plt.ylabel('loss')\n",
    "plt.title('Loss')\n",
    "plt.xticks(range(1,len(history_dict['loss'])+1))\n",
    "plt.grid(alpha=0.6)\n",
    "plt.show()"
   ]
  },
  {
   "cell_type": "code",
   "execution_count": 40,
   "id": "e6f4643e-406a-4939-91de-7b10ddd739b7",
   "metadata": {},
   "outputs": [
    {
     "data": {
      "image/png": "[encoded data removed]",
      "text/plain": [
       "<Figure size 1080x360 with 1 Axes>"
      ]
     },
     "metadata": {
      "needs_background": "light"
     },
     "output_type": "display_data"
    }
   ],
   "source": [
    "plt.figure(figsize=(15,5))\n",
    "plt.plot(range(1,len(history_dict['loss'])+1),history_dict['accuracy'], label='training')\n",
    "plt.plot(range(1,len(history_dict['loss'])+1),history_dict['val_accuracy'],'--', label='validation')\n",
    "plt.legend( fontsize='large')\n",
    "plt.xlabel('epochs')\n",
    "plt.ylabel('loss')\n",
    "plt.title('Accuracy')\n",
    "plt.xticks(range(1,len(history_dict['loss'])+1))\n",
    "plt.grid(alpha=0.6)\n",
    "plt.show()"
   ]
  },
  {
   "cell_type": "code",
   "execution_count": 51,
   "id": "ce0f0528-8226-4815-9110-d17bac25af9f",
   "metadata": {},
   "outputs": [
    {
     "data": {
      "image/png": "[encoded data removed]",
      "text/plain": [
       "<Figure size 1080x360 with 1 Axes>"
      ]
     },
     "metadata": {
      "needs_background": "light"
     },
     "output_type": "display_data"
    }
   ],
   "source": [
    "plt.figure(figsize=(15,5))\n",
    "plt.plot(range(1,len(history_dict['loss'])+1),history_dict['accuracy'], label='training')\n",
    "plt.plot(range(1,len(history_dict['loss'])+1),history_dict['val_accuracy'],'--', label='validation')\n",
    "plt.legend( fontsize='large')\n",
    "plt.xlabel('epochs')\n",
    "plt.ylabel('loss')\n",
    "plt.title('Accuracy')\n",
    "plt.xticks(range(1,len(history_dict['loss'])+1))\n",
    "plt.grid(alpha=0.6)\n",
    "plt.show()"
   ]
  },
  {
   "cell_type": "markdown",
   "id": "a7281f55-31c3-4905-bd03-e47314c246d9",
   "metadata": {},
   "source": [
    "Con 30 epochs:"
   ]
  },
  {
   "cell_type": "code",
   "execution_count": 45,
   "id": "b93169df-beb8-411c-a2f4-ebc1a3950e37",
   "metadata": {},
   "outputs": [
    {
     "name": "stdout",
     "output_type": "stream",
     "text": [
      "71/71 [==============================] - 0s 3ms/step - loss: 1.6590 - accuracy: 0.7498\n"
     ]
    },
    {
     "data": {
      "text/plain": [
       "[1.6590245962142944, 0.7497773766517639]"
      ]
     },
     "execution_count": 45,
     "metadata": {},
     "output_type": "execute_result"
    }
   ],
   "source": [
    "model.evaluate(X_test,y_test)"
   ]
  },
  {
   "cell_type": "markdown",
   "id": "586e1143-85b3-429c-884c-c1392148cc1b",
   "metadata": {},
   "source": [
    "Con 10 epochs:"
   ]
  },
  {
   "cell_type": "code",
   "execution_count": 52,
   "id": "5440862d-871f-47a6-a3c4-cbdecb85e1a3",
   "metadata": {},
   "outputs": [
    {
     "name": "stdout",
     "output_type": "stream",
     "text": [
      "71/71 [==============================] - 0s 3ms/step - loss: 1.0127 - accuracy: 0.7845\n"
     ]
    },
    {
     "data": {
      "text/plain": [
       "[1.0127267837524414, 0.7845057845115662]"
      ]
     },
     "execution_count": 52,
     "metadata": {},
     "output_type": "execute_result"
    }
   ],
   "source": [
    "model.evaluate(X_test,y_test)"
   ]
  }
 ],
 "metadata": {
  "kernelspec": {
   "display_name": "IA",
   "language": "python",
   "name": "ia"
  },
  "language_info": {
   "codemirror_mode": {
    "name": "ipython",
    "version": 3
   },
   "file_extension": ".py",
   "mimetype": "text/x-python",
   "name": "python",
   "nbconvert_exporter": "python",
   "pygments_lexer": "ipython3",
   "version": "3.8.10"
  }
 },
 "nbformat": 4,
 "nbformat_minor": 5
}
