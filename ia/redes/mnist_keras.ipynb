{
 "cells": [
  {
   "cell_type": "code",
   "execution_count": 3,
   "id": "fcb048b8-7466-44ff-90c0-f08e1ef179b2",
   "metadata": {},
   "outputs": [],
   "source": [
    "import numpy as np\n",
    "import matplotlib.pyplot as plt\n",
    "from keras import layers, models \n",
    "from keras.utils import to_categorical  # Volver las variables categoricas 0 o 1\n",
    "from keras.datasets import mnist"
   ]
  },
  {
   "cell_type": "code",
   "execution_count": 4,
   "id": "4e724221-f30f-4239-9a04-c7b6c5625a90",
   "metadata": {},
   "outputs": [
    {
     "name": "stdout",
     "output_type": "stream",
     "text": [
      "Downloading data from https://storage.googleapis.com/tensorflow/tf-keras-datasets/mnist.npz\n",
      "11493376/11490434 [==============================] - 25s 2us/step\n"
     ]
    }
   ],
   "source": [
    "(train_data, train_labels),(test_data, test_labels) = mnist.load_data()"
   ]
  },
  {
   "cell_type": "code",
   "execution_count": 9,
   "id": "98bd4e2a-3b86-4e33-88c6-65b34faa2f7a",
   "metadata": {},
   "outputs": [
    {
     "data": {
      "text/plain": [
       "(60000, 28, 28)"
      ]
     },
     "execution_count": 9,
     "metadata": {},
     "output_type": "execute_result"
    }
   ],
   "source": [
    "train_data.shape"
   ]
  },
  {
   "cell_type": "code",
   "execution_count": 12,
   "id": "fd94a663-7720-4b1e-aa68-a57a6edb5094",
   "metadata": {},
   "outputs": [
    {
     "data": {
      "image/png": "[encoded data removed]",
      "text/plain": [
       "<Figure size 432x288 with 1 Axes>"
      ]
     },
     "metadata": {},
     "output_type": "display_data"
    },
    {
     "name": "stdout",
     "output_type": "stream",
     "text": [
      "Label :  5\n"
     ]
    }
   ],
   "source": [
    "plt.imshow(train_data[0])\n",
    "plt.xticks([])\n",
    "plt.yticks([])\n",
    "plt.show()\n",
    "\n",
    "print('Label : ',str(train_labels[0]))"
   ]
  },
  {
   "cell_type": "markdown",
   "id": "841e065f-4a30-479d-9fa4-ad9f76e02d5c",
   "metadata": {},
   "source": [
    "# Modelo"
   ]
  },
  {
   "cell_type": "markdown",
   "id": "75354a41-fc3a-4bcd-a5aa-882856c4e7ff",
   "metadata": {},
   "source": [
    "## Procesamiento de los datos"
   ]
  },
  {
   "cell_type": "code",
   "execution_count": 23,
   "id": "1dd500d2-5ae3-4f5b-b80a-9c928d3ef3df",
   "metadata": {},
   "outputs": [],
   "source": [
    "# Coloca las variables solo en dos dimensiones, para que sea más facil el procesamiento. Lo divido entre 255 para normalizarlo\n",
    "X_train = train_data.reshape(60000, 28*28)/255\n",
    "X_train = X_train.astype('float32')\n",
    "\n",
    "\n",
    "X_test  = test_data.reshape(10000, 28*28)/255\n",
    "X_test  = X_test.astype('float32')"
   ]
  },
  {
   "cell_type": "code",
   "execution_count": 24,
   "id": "bd86c920-a3f5-4e69-99e4-2cc25f8c0e60",
   "metadata": {},
   "outputs": [],
   "source": [
    "y_train = to_categorical(train_labels)\n",
    "y_test = to_categorical(test_labels)"
   ]
  },
  {
   "cell_type": "markdown",
   "id": "5de4f512-fcf5-4ebc-a42a-39a2a21462b8",
   "metadata": {},
   "source": [
    "## Crear la red"
   ]
  },
  {
   "cell_type": "code",
   "execution_count": 28,
   "id": "2c940b7b-3c36-43e6-8646-b9843a206430",
   "metadata": {},
   "outputs": [],
   "source": [
    "model = models.Sequential()\n",
    "model.add(layers.Dense(512, activation = 'relu', input_shape = (28*28,)))\n",
    "model.add(layers.Dense(10, activation = 'softmax'))"
   ]
  },
  {
   "cell_type": "code",
   "execution_count": 29,
   "id": "79bf79b5-4964-4af4-8dbd-ab93d974fbc1",
   "metadata": {},
   "outputs": [],
   "source": [
    "# Compilarla\n",
    "model.compile(\n",
    "    optimizer='rmsprop',\n",
    "    loss = 'categorical_crossentropy',\n",
    "    metrics= 'accuracy'\n",
    ")"
   ]
  },
  {
   "cell_type": "code",
   "execution_count": 31,
   "id": "82ad4eb8-1fee-4efe-ab60-6866bba56b43",
   "metadata": {},
   "outputs": [
    {
     "name": "stdout",
     "output_type": "stream",
     "text": [
      "Model: \"sequential_1\"\n",
      "_________________________________________________________________\n",
      "Layer (type)                 Output Shape              Param #   \n",
      "=================================================================\n",
      "dense_1 (Dense)              (None, 512)               401920    \n",
      "_________________________________________________________________\n",
      "dense_2 (Dense)              (None, 10)                5130      \n",
      "=================================================================\n",
      "Total params: 407,050\n",
      "Trainable params: 407,050\n",
      "Non-trainable params: 0\n",
      "_________________________________________________________________\n"
     ]
    }
   ],
   "source": [
    "model.summary()"
   ]
  },
  {
   "cell_type": "markdown",
   "id": "adc7e0df-246a-4a83-a9dd-31c0d1073090",
   "metadata": {},
   "source": [
    "## Entranar la red"
   ]
  },
  {
   "cell_type": "code",
   "execution_count": 33,
   "id": "b5d27bff-bfa1-4c4e-b77d-220906834bc5",
   "metadata": {},
   "outputs": [
    {
     "name": "stdout",
     "output_type": "stream",
     "text": [
      "Epoch 1/5\n",
      "469/469 [==============================] - 7s 13ms/step - loss: 0.4287 - accuracy: 0.8747\n",
      "Epoch 2/5\n",
      "469/469 [==============================] - 6s 13ms/step - loss: 0.1092 - accuracy: 0.9679\n",
      "Epoch 3/5\n",
      "469/469 [==============================] - 6s 12ms/step - loss: 0.0686 - accuracy: 0.9791\n",
      "Epoch 4/5\n",
      "469/469 [==============================] - 6s 12ms/step - loss: 0.0477 - accuracy: 0.9856\n",
      "Epoch 5/5\n",
      "469/469 [==============================] - 5s 10ms/step - loss: 0.0360 - accuracy: 0.9900\n"
     ]
    },
    {
     "data": {
      "text/plain": [
       "<tensorflow.python.keras.callbacks.History at 0x7f7d0ea703a0>"
      ]
     },
     "execution_count": 33,
     "metadata": {},
     "output_type": "execute_result"
    }
   ],
   "source": [
    "model.fit(X_train, y_train, epochs=5, batch_size = 128)"
   ]
  },
  {
   "cell_type": "code",
   "execution_count": 34,
   "id": "1111f89f-27f4-41cf-a4dd-97710c1b24e3",
   "metadata": {},
   "outputs": [
    {
     "name": "stdout",
     "output_type": "stream",
     "text": [
      "313/313 [==============================] - 1s 3ms/step - loss: 0.0658 - accuracy: 0.9794\n"
     ]
    },
    {
     "data": {
      "text/plain": [
       "[0.06576107442378998, 0.9793999791145325]"
      ]
     },
     "execution_count": 34,
     "metadata": {},
     "output_type": "execute_result"
    }
   ],
   "source": [
    "model.evaluate(X_test, y_test)"
   ]
  }
 ],
 "metadata": {
  "kernelspec": {
   "display_name": "Python [conda env:ia]",
   "language": "python",
   "name": "conda-env-ia-py"
  },
  "language_info": {
   "codemirror_mode": {
    "name": "ipython",
    "version": 3
   },
   "file_extension": ".py",
   "mimetype": "text/x-python",
   "name": "python",
   "nbconvert_exporter": "python",
   "pygments_lexer": "ipython3",
   "version": "3.8.8"
  }
 },
 "nbformat": 4,
 "nbformat_minor": 5
}
