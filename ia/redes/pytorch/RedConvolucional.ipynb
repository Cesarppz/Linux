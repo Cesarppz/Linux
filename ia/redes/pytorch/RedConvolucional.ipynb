{
 "cells": [
  {
   "cell_type": "code",
   "execution_count": 2,
   "metadata": {
    "id": "h-3yjEEAzMB5"
   },
   "outputs": [],
   "source": [
    "import torch \n",
    "from torchvision import datasets\n",
    "import matplotlib.pyplot as plt\n",
    "import sys \n",
    "import os\n",
    "from PIL import Image\n",
    "\n",
    "# ---- Preprocesing ----\n",
    "import torchvision.transforms as transforms #Coleccion de funciones de procesamiento\n",
    "from torch.utils.data import Dataset, DataLoader #Dataset lo import para heredar la clase, el DataLoader lo que hace es partir el dataset en batches de imagnes\n",
    "from torchvision.utils import make_grid\n",
    "\n",
    "# ---- NN ----\n",
    "import torch.nn as nn\n",
    "import torch.nn.functional as F # Capas sin parametros\n",
    "import torch.optim as optim #Metodos de optimizacion\n",
    " \n",
    "\n",
    "\n",
    "\n",
    "device = torch.device('cuda' if torch.cuda.is_available() else 'cpu')\n",
    "#sys.path.append('/content/drive/MyDrive/Colab Notebooks/IA/data')"
   ]
  },
  {
   "cell_type": "code",
   "execution_count": 4,
   "metadata": {
    "id": "tZ6XoqWx7pgU"
   },
   "outputs": [],
   "source": [
    "#from plot_helpers import imshow"
   ]
  },
  {
   "cell_type": "markdown",
   "metadata": {
    "id": "9iFNCFr604AW"
   },
   "source": [
    "# Introduction"
   ]
  },
  {
   "cell_type": "code",
   "execution_count": null,
   "metadata": {
    "colab": {
     "base_uri": "https://localhost:8080/",
     "height": 101,
     "referenced_widgets": [
      "1fcea5209c7c46a2a142e0422a7275aa",
      "2f8fb449c6da4712b48a38f2555d5ec2",
      "f9b4087370a2482c884f7adb3ec7b55f",
      "bcbabbe14ce341279e380006eb4c3b0e",
      "df5bd1cc96a74c97affd0710d1b85420",
      "12c8a6cf6e40443eb73d4179eee29fa5",
      "5cfccac4c94b47b4bbc01f53f2f1e06f",
      "e72a7c5d7d5b452b95d8383593540f94"
     ]
    },
    "id": "zmy5h50zqjqM",
    "outputId": "fe902412-a1e7-4a4b-b420-7e5f5980adb3"
   },
   "outputs": [],
   "source": [
    "#cifar = datasets.CIFAR10('/content/drive/MyDrive/Colab Notebooks/IA/data', download=True)"
   ]
  },
  {
   "cell_type": "code",
   "execution_count": null,
   "metadata": {
    "colab": {
     "base_uri": "https://localhost:8080/"
    },
    "id": "WsS2P3oirYwT",
    "outputId": "994e67d2-7255-48d1-dacc-e8fcc6149950"
   },
   "outputs": [],
   "source": [
    "len(cifar)"
   ]
  },
  {
   "cell_type": "code",
   "execution_count": null,
   "metadata": {
    "colab": {
     "base_uri": "https://localhost:8080/"
    },
    "id": "HgErD_Sc3WWV",
    "outputId": "9079d665-0dee-48d4-9ae4-248d941ee0dc"
   },
   "outputs": [],
   "source": [
    "data.size()"
   ]
  },
  {
   "cell_type": "markdown",
   "metadata": {
    "id": "Lbs8HCAts-Ch"
   },
   "source": [
    "## Cambiar de cpu a gpu"
   ]
  },
  {
   "cell_type": "code",
   "execution_count": null,
   "metadata": {
    "id": "jEZ4DmdPrbLw"
   },
   "outputs": [],
   "source": [
    "data = torch.Tensor(cifar.data)\n",
    "data.to(device)"
   ]
  },
  {
   "cell_type": "code",
   "execution_count": null,
   "metadata": {
    "colab": {
     "base_uri": "https://localhost:8080/"
    },
    "id": "UbBqs8ySsnaD",
    "outputId": "0a28c207-7b1c-4ee7-8701-47d64a96e30a"
   },
   "outputs": [],
   "source": [
    "data.size()"
   ]
  },
  {
   "cell_type": "markdown",
   "metadata": {
    "id": "WI3d1Un4s2YF"
   },
   "source": [
    "## Capas de una red neuronal\n",
    "\n",
    "---\n",
    "\n"
   ]
  },
  {
   "cell_type": "code",
   "execution_count": 6,
   "metadata": {
    "id": "DPo1IplEtJRJ"
   },
   "outputs": [],
   "source": [
    "Linear = nn.Linear(in_features=4096, out_features=10) # Tensores de 1 dimencion de entrada\n",
    "conv = nn.Conv2d(in_channels=3, out_channels=9, kernel_size=3, stride=1, padding=1 ) #Esta red solo va a modificar la cantidad de canales\n",
    "relu = nn.ReLU(False)"
   ]
  },
  {
   "cell_type": "markdown",
   "metadata": {
    "id": "yrbCqgW3uoWP"
   },
   "source": [
    "### Capa Lineal"
   ]
  },
  {
   "cell_type": "code",
   "execution_count": null,
   "metadata": {
    "colab": {
     "base_uri": "https://localhost:8080/"
    },
    "id": "NTZr8Uv_t7cp",
    "outputId": "295b9cc0-095c-4c57-9c3e-a2424a504bef"
   },
   "outputs": [],
   "source": [
    "X = torch.randn(4096)\n",
    "y = Linear(X)\n",
    "y.size()"
   ]
  },
  {
   "cell_type": "markdown",
   "metadata": {
    "id": "wRaNpVfSwpfd"
   },
   "source": [
    "Ver los parametros"
   ]
  },
  {
   "cell_type": "code",
   "execution_count": 5,
   "metadata": {
    "colab": {
     "base_uri": "https://localhost:8080/"
    },
    "id": "SEudWe5OvqL6",
    "outputId": "8fbe109b-2ca1-4dfd-a2c5-630ab83a29c9"
   },
   "outputs": [
    {
     "ename": "NameError",
     "evalue": "name 'Linear' is not defined",
     "output_type": "error",
     "traceback": [
      "\u001b[0;31m---------------------------------------------------------------------------\u001b[0m",
      "\u001b[0;31mNameError\u001b[0m                                 Traceback (most recent call last)",
      "\u001b[0;32m<ipython-input-5-26c0b5efc46f>\u001b[0m in \u001b[0;36m<module>\u001b[0;34m\u001b[0m\n\u001b[0;32m----> 1\u001b[0;31m \u001b[0;32mfor\u001b[0m \u001b[0mname\u001b[0m \u001b[0;34m,\u001b[0m \u001b[0mp\u001b[0m \u001b[0;32min\u001b[0m \u001b[0mlist\u001b[0m\u001b[0;34m(\u001b[0m\u001b[0mLinear\u001b[0m\u001b[0;34m.\u001b[0m\u001b[0mnamed_parameters\u001b[0m\u001b[0;34m(\u001b[0m\u001b[0;34m)\u001b[0m\u001b[0;34m)\u001b[0m\u001b[0;34m:\u001b[0m\u001b[0;34m\u001b[0m\u001b[0;34m\u001b[0m\u001b[0m\n\u001b[0m\u001b[1;32m      2\u001b[0m     \u001b[0mprint\u001b[0m\u001b[0;34m(\u001b[0m\u001b[0mname\u001b[0m\u001b[0;34m)\u001b[0m\u001b[0;34m\u001b[0m\u001b[0;34m\u001b[0m\u001b[0m\n\u001b[1;32m      3\u001b[0m     \u001b[0mprint\u001b[0m\u001b[0;34m(\u001b[0m \u001b[0mp\u001b[0m\u001b[0;34m.\u001b[0m\u001b[0msize\u001b[0m\u001b[0;34m(\u001b[0m\u001b[0;34m)\u001b[0m\u001b[0;34m)\u001b[0m\u001b[0;34m\u001b[0m\u001b[0;34m\u001b[0m\u001b[0m\n\u001b[1;32m      4\u001b[0m     \u001b[0mprint\u001b[0m\u001b[0;34m(\u001b[0m\u001b[0;34m)\u001b[0m\u001b[0;34m\u001b[0m\u001b[0;34m\u001b[0m\u001b[0m\n",
      "\u001b[0;31mNameError\u001b[0m: name 'Linear' is not defined"
     ]
    }
   ],
   "source": [
    "for name , p in list(Linear.named_parameters()):\n",
    "    print(name)\n",
    "    print( p.size())\n",
    "    print()"
   ]
  },
  {
   "cell_type": "markdown",
   "metadata": {
    "id": "O6BsSdyvutxW"
   },
   "source": [
    "### Capa Convolucional"
   ]
  },
  {
   "cell_type": "code",
   "execution_count": null,
   "metadata": {
    "colab": {
     "base_uri": "https://localhost:8080/"
    },
    "id": "hkAtNUjpuHT4",
    "outputId": "340dde7f-fde7-4ee4-ee54-6915e6bf6d06"
   },
   "outputs": [],
   "source": [
    "X = torch.randn([4096,3,32,32]) # 4096 imagenes de tres canales con un size de 32x32\n",
    "y = conv(X)\n",
    "y.size()"
   ]
  },
  {
   "cell_type": "markdown",
   "metadata": {
    "id": "hkmlV3X4uxha"
   },
   "source": [
    "### RELU"
   ]
  },
  {
   "cell_type": "code",
   "execution_count": null,
   "metadata": {
    "colab": {
     "base_uri": "https://localhost:8080/"
    },
    "id": "qKJFxZ6Nujwe",
    "outputId": "9ea417e3-fd27-4fe2-ff2c-45ab56bd7d49"
   },
   "outputs": [],
   "source": [
    "X = torch.randn([4096,3,32,32]) # 4096 imagenes de tres canales con un size de 32x32\n",
    "y = relu(X)\n",
    "y.size()\n",
    "print('Original :\\n\\t',X[0][0][0],'\\n\\n','Resultado :\\n\\t',y[0][0][0])"
   ]
  },
  {
   "cell_type": "markdown",
   "metadata": {
    "id": "an7Lok-1Aq4L"
   },
   "source": [
    "# Caragar los datos"
   ]
  },
  {
   "cell_type": "code",
   "execution_count": 7,
   "metadata": {
    "id": "ns3xDZ4NAvNs"
   },
   "outputs": [],
   "source": [
    "class SINGSDataset(Dataset):\n",
    "\n",
    "  def __init__(self, base_dir, split= 'train', transform = None ):\n",
    "    path = os.path.join(base_dir, '{}_signs'.format(split))   \n",
    "    files = os.listdir(path)\n",
    "    self.files_names = [os.path.join(path,f) for f in files if f.endswith('.jpg')]\n",
    "    self.targets = [int(f[0]) for f in files if f.endswith('.jpg')]\n",
    "    self.transform = transform\n",
    "\n",
    "  def __len__(self):\n",
    "    return len(self.files_names)\n",
    "  \n",
    "  def __getitem__(self, idx):\n",
    "    image = Image.open(self.files_names[idx])\n",
    "    if self.transform:\n",
    "      image = self.transform(image)\n",
    "    return image, self.targets[idx]"
   ]
  },
  {
   "cell_type": "code",
   "execution_count": 8,
   "metadata": {
    "id": "GfiNKf4oFGFU"
   },
   "outputs": [],
   "source": [
    "base_dir = 'data/64x64_SIGNS'\n",
    "train_set = SINGSDataset(base_dir, split='train', transform= transforms.ToTensor())"
   ]
  },
  {
   "cell_type": "markdown",
   "metadata": {
    "id": "mxN-YmqsFzR3"
   },
   "source": [
    "Como este es un dataset que no lo importamos desde torch, no tenía las funciones de len y getitem implementadas, por lo que tuvimo que implementarlas, y al crear la clase con herencia, ahora tiene los demás atributos"
   ]
  },
  {
   "cell_type": "code",
   "execution_count": 9,
   "metadata": {
    "colab": {
     "base_uri": "https://localhost:8080/"
    },
    "id": "jcS8a3AdFVpR",
    "outputId": "55dac46e-84af-46fb-d31b-4782501a2c8d"
   },
   "outputs": [
    {
     "data": {
      "text/plain": [
       "864"
      ]
     },
     "execution_count": 9,
     "metadata": {},
     "output_type": "execute_result"
    }
   ],
   "source": [
    "len(train_set)"
   ]
  },
  {
   "cell_type": "code",
   "execution_count": 10,
   "metadata": {
    "colab": {
     "base_uri": "https://localhost:8080/"
    },
    "collapsed": true,
    "id": "jMRUKmbiFY1D",
    "jupyter": {
     "outputs_hidden": true
    },
    "outputId": "b8b97fb2-61ce-4e52-aa6d-75c555f37cb9",
    "tags": []
   },
   "outputs": [
    {
     "data": {
      "text/plain": [
       "tensor([[[0.9294, 0.9255, 0.9137,  ..., 0.9059, 0.9059, 0.9059],\n",
       "         [0.9294, 0.9216, 0.9098,  ..., 0.9059, 0.9059, 0.9059],\n",
       "         [0.9255, 0.9216, 0.9098,  ..., 0.9059, 0.9059, 0.9059],\n",
       "         ...,\n",
       "         [0.8039, 0.8039, 0.8039,  ..., 0.8196, 0.8235, 0.8235],\n",
       "         [0.7961, 0.7961, 0.7961,  ..., 0.8157, 0.8157, 0.8196],\n",
       "         [0.7882, 0.7922, 0.7922,  ..., 0.8078, 0.8118, 0.8118]],\n",
       "\n",
       "        [[0.8471, 0.8471, 0.8549,  ..., 0.8863, 0.8863, 0.8863],\n",
       "         [0.8471, 0.8510, 0.8588,  ..., 0.8863, 0.8863, 0.8863],\n",
       "         [0.8510, 0.8510, 0.8588,  ..., 0.8863, 0.8863, 0.8863],\n",
       "         ...,\n",
       "         [0.7725, 0.7725, 0.7725,  ..., 0.8039, 0.8078, 0.8078],\n",
       "         [0.7647, 0.7647, 0.7647,  ..., 0.8000, 0.8000, 0.8039],\n",
       "         [0.7608, 0.7608, 0.7608,  ..., 0.7922, 0.7961, 0.7961]],\n",
       "\n",
       "        [[0.8431, 0.8431, 0.8353,  ..., 0.8627, 0.8627, 0.8627],\n",
       "         [0.8431, 0.8353, 0.8353,  ..., 0.8627, 0.8627, 0.8627],\n",
       "         [0.8353, 0.8353, 0.8353,  ..., 0.8627, 0.8627, 0.8627],\n",
       "         ...,\n",
       "         [0.6980, 0.6980, 0.6980,  ..., 0.7922, 0.7961, 0.7961],\n",
       "         [0.6902, 0.6902, 0.6902,  ..., 0.7882, 0.7882, 0.7922],\n",
       "         [0.6863, 0.6863, 0.6863,  ..., 0.7804, 0.7843, 0.7843]]])"
      ]
     },
     "execution_count": 10,
     "metadata": {},
     "output_type": "execute_result"
    }
   ],
   "source": [
    "train_set[0][0]"
   ]
  },
  {
   "cell_type": "markdown",
   "metadata": {
    "id": "8ZlBkc_LeKer"
   },
   "source": [
    "# Preprocessing\n",
    "\n",
    "---\n",
    "\n"
   ]
  },
  {
   "cell_type": "code",
   "execution_count": 11,
   "metadata": {
    "id": "gqXMq38ueGHz"
   },
   "outputs": [],
   "source": [
    "dataloader = DataLoader(train_set, batch_size=32)"
   ]
  },
  {
   "cell_type": "code",
   "execution_count": 12,
   "metadata": {
    "colab": {
     "base_uri": "https://localhost:8080/"
    },
    "id": "TNxQKjIsfEW6",
    "outputId": "5fc56ba3-b8ed-4e93-937b-cf53a6357445"
   },
   "outputs": [
    {
     "data": {
      "text/plain": [
       "<torch.utils.data.dataloader.DataLoader at 0x7fa6d02da1f0>"
      ]
     },
     "execution_count": 12,
     "metadata": {},
     "output_type": "execute_result"
    }
   ],
   "source": [
    "dataloader"
   ]
  },
  {
   "cell_type": "code",
   "execution_count": null,
   "metadata": {
    "id": "Q6W4Df-wg4qB"
   },
   "outputs": [],
   "source": []
  },
  {
   "cell_type": "code",
   "execution_count": 13,
   "metadata": {
    "colab": {
     "base_uri": "https://localhost:8080/",
     "height": 0
    },
    "id": "OuKmerLgeeoD",
    "outputId": "3b803b88-7a58-432b-e5af-bad5a38b68c4"
   },
   "outputs": [
    {
     "name": "stdout",
     "output_type": "stream",
     "text": [
      "\n",
      "\n",
      "Targets: tensor([1, 1, 4, 1, 4, 0, 4, 4, 3, 4, 1, 4, 0, 3, 2, 1, 5, 3, 5, 4, 3, 4, 5, 1,\n",
      "        1, 1, 1, 2, 4, 3, 0, 5])\n"
     ]
    },
    {
     "data": {
      "image/png": "[encoded data removed]",
      "text/plain": [
       "<Figure size 432x288 with 1 Axes>"
      ]
     },
     "metadata": {
      "needs_background": "light"
     },
     "output_type": "display_data"
    }
   ],
   "source": [
    "for input, target in dataloader:\n",
    "  out = make_grid(input) #Crear una grilla\n",
    "  image = out.permute(1,2,0)\n",
    "  plt.imshow(image)\n",
    "  print('\\n\\nTargets:',target)\n",
    "  break"
   ]
  },
  {
   "cell_type": "markdown",
   "metadata": {
    "id": "rn77CzTK09e7"
   },
   "source": [
    "# Create the NN\n",
    "\n"
   ]
  },
  {
   "cell_type": "code",
   "execution_count": 25,
   "metadata": {
    "id": "dJxv9b7z1DXE"
   },
   "outputs": [],
   "source": [
    "class NN(nn.Module):\n",
    "  def __init__(self,num_channels):\n",
    "    super(NN,self).__init__()\n",
    "\n",
    "    self.num_channels = num_channels\n",
    "    \n",
    "    #Capas convoluconales\n",
    "    self.conv1 = nn.Conv2d(3, out_channels= self.num_channels, kernel_size= 3, stride=1, padding=1)\n",
    "    self.conv2 = nn.Conv2d(self.num_channels, out_channels= self.num_channels*2, kernel_size= 3, stride=1, padding=1)\n",
    "    self.conv3 = nn.Conv2d(self.num_channels*2, out_channels= self.num_channels*4, kernel_size= 3, stride=1, padding=1)\n",
    "    \n",
    "    # Capas lineales \n",
    "    self.lineal1 = nn.Linear(self.num_channels*4*8*8, out_features= self.num_channels*4)\n",
    "    self.lineal2 = nn.Linear(self.num_channels*4 , out_features= 6)\n",
    "\n",
    "  def forward(self,x):\n",
    "      x = self.conv1(x) # num_channels x 64 x 64\n",
    "      x = F.relu(F.max_pool2d(x, 2)) #num_channels x 32 x 32\n",
    "      x = self.conv2(x) # num_channels*2 x 32 x32\n",
    "      x = F.relu(F.max_pool2d(x, 2)) #num_channels*2 x 16 x 16\n",
    "      x = self.conv3(x) #num_channels*4 x 16 x 16\n",
    "      x = F.relu(F.max_pool2d(x, 2)) #num_channels*4 x 8 x 8\n",
    "\n",
    "      # flatten \n",
    "      x = x.view(-1, self.num_channels*4*8*8)\n",
    "       \n",
    "      # Aplicar las capas lineales \n",
    "      x = self.lineal1(x)\n",
    "      x = F.relu(x)\n",
    "      x = self.lineal2(x)\n",
    "      x = F.log_softmax(x,dim=1)\n",
    "\n",
    "      return x"
   ]
  },
  {
   "cell_type": "code",
   "execution_count": 15,
   "metadata": {
    "id": "Lu06i7CGyDzC"
   },
   "outputs": [],
   "source": [
    "class RunningMetrics():\n",
    "  def __init__(self):\n",
    "    self.S = 0\n",
    "    self.N = 0\n",
    "  \n",
    "  def update(self, value, size):\n",
    "    self.S += value\n",
    "    self.N += size\n",
    "  \n",
    "  def __call__(self):\n",
    "    return self.S/float(self.N)"
   ]
  },
  {
   "cell_type": "code",
   "execution_count": 26,
   "metadata": {
    "id": "HqrrgTGbi-b8"
   },
   "outputs": [],
   "source": [
    "net = NN(32).to(device)\n",
    "\n",
    "loss_fn = nn.NLLLoss()\n",
    "optimizer = optim.SGD(net.parameters(), lr=0.001, momentum=0.9)\n"
   ]
  },
  {
   "cell_type": "code",
   "execution_count": 27,
   "metadata": {
    "colab": {
     "base_uri": "https://localhost:8080/"
    },
    "id": "oCzaOhu13KX2",
    "outputId": "fb6a9880-a18b-4139-a2b6-b4776fcc0d31",
    "tags": []
   },
   "outputs": [
    {
     "name": "stdout",
     "output_type": "stream",
     "text": [
      "Epoch 1/100\n",
      "------------------------------\n",
      "Loss:1.7936 Acc0.1690\n",
      "Epoch 2/100\n",
      "------------------------------\n",
      "Loss:1.7921 Acc0.1690\n",
      "Epoch 3/100\n",
      "------------------------------\n",
      "Loss:1.7910 Acc0.1690\n",
      "Epoch 4/100\n",
      "------------------------------\n",
      "Loss:1.7902 Acc0.1690\n",
      "Epoch 5/100\n",
      "------------------------------\n",
      "Loss:1.7896 Acc0.1690\n",
      "Epoch 6/100\n",
      "------------------------------\n",
      "Loss:1.7889 Acc0.1782\n",
      "Epoch 7/100\n",
      "------------------------------\n",
      "Loss:1.7882 Acc0.2153\n",
      "Epoch 8/100\n",
      "------------------------------\n",
      "Loss:1.7875 Acc0.2338\n",
      "Epoch 9/100\n",
      "------------------------------\n",
      "Loss:1.7867 Acc0.2477\n",
      "Epoch 10/100\n",
      "------------------------------\n",
      "Loss:1.7857 Acc0.2523\n",
      "Epoch 11/100\n",
      "------------------------------\n",
      "Loss:1.7847 Acc0.2535\n",
      "Epoch 12/100\n",
      "------------------------------\n",
      "Loss:1.7836 Acc0.2512\n",
      "Epoch 13/100\n",
      "------------------------------\n",
      "Loss:1.7823 Acc0.2512\n",
      "Epoch 14/100\n",
      "------------------------------\n",
      "Loss:1.7808 Acc0.2650\n",
      "Epoch 15/100\n",
      "------------------------------\n",
      "Loss:1.7790 Acc0.2812\n",
      "Epoch 16/100\n",
      "------------------------------\n",
      "Loss:1.7769 Acc0.2928\n",
      "Epoch 17/100\n",
      "------------------------------\n",
      "Loss:1.7744 Acc0.3125\n",
      "Epoch 18/100\n",
      "------------------------------\n",
      "Loss:1.7713 Acc0.3287\n",
      "Epoch 19/100\n",
      "------------------------------\n",
      "Loss:1.7675 Acc0.3345\n",
      "Epoch 20/100\n",
      "------------------------------\n",
      "Loss:1.7626 Acc0.3449\n",
      "Epoch 21/100\n",
      "------------------------------\n",
      "Loss:1.7565 Acc0.3588\n",
      "Epoch 22/100\n",
      "------------------------------\n",
      "Loss:1.7487 Acc0.3623\n",
      "Epoch 23/100\n",
      "------------------------------\n",
      "Loss:1.7388 Acc0.3611\n",
      "Epoch 24/100\n",
      "------------------------------\n",
      "Loss:1.7261 Acc0.3380\n",
      "Epoch 25/100\n",
      "------------------------------\n",
      "Loss:1.7099 Acc0.3275\n",
      "Epoch 26/100\n",
      "------------------------------\n",
      "Loss:1.6890 Acc0.2951\n",
      "Epoch 27/100\n",
      "------------------------------\n",
      "Loss:1.6617 Acc0.3148\n",
      "Epoch 28/100\n",
      "------------------------------\n",
      "Loss:1.6192 Acc0.3414\n",
      "Epoch 29/100\n",
      "------------------------------\n",
      "Loss:1.5805 Acc0.3356\n",
      "Epoch 30/100\n",
      "------------------------------\n",
      "Loss:1.5491 Acc0.3484\n",
      "Epoch 31/100\n",
      "------------------------------\n",
      "Loss:1.4935 Acc0.3762\n",
      "Epoch 32/100\n",
      "------------------------------\n",
      "Loss:1.4374 Acc0.4109\n",
      "Epoch 33/100\n",
      "------------------------------\n",
      "Loss:1.3768 Acc0.4456\n",
      "Epoch 34/100\n",
      "------------------------------\n",
      "Loss:1.3071 Acc0.4850\n",
      "Epoch 35/100\n",
      "------------------------------\n",
      "Loss:1.2324 Acc0.5185\n",
      "Epoch 36/100\n",
      "------------------------------\n",
      "Loss:1.1564 Acc0.5475\n",
      "Epoch 37/100\n",
      "------------------------------\n",
      "Loss:1.0835 Acc0.5764\n",
      "Epoch 38/100\n",
      "------------------------------\n",
      "Loss:1.0237 Acc0.5972\n",
      "Epoch 39/100\n",
      "------------------------------\n",
      "Loss:0.9673 Acc0.6192\n",
      "Epoch 40/100\n",
      "------------------------------\n",
      "Loss:0.9255 Acc0.6366\n",
      "Epoch 41/100\n",
      "------------------------------\n",
      "Loss:0.8855 Acc0.6551\n",
      "Epoch 42/100\n",
      "------------------------------\n",
      "Loss:0.8499 Acc0.6771\n",
      "Epoch 43/100\n",
      "------------------------------\n",
      "Loss:0.8130 Acc0.6875\n",
      "Epoch 44/100\n",
      "------------------------------\n",
      "Loss:0.7788 Acc0.7072\n",
      "Epoch 45/100\n",
      "------------------------------\n",
      "Loss:0.7501 Acc0.7130\n",
      "Epoch 46/100\n",
      "------------------------------\n",
      "Loss:0.7247 Acc0.7338\n",
      "Epoch 47/100\n",
      "------------------------------\n",
      "Loss:0.7020 Acc0.7315\n",
      "Epoch 48/100\n",
      "------------------------------\n",
      "Loss:0.6786 Acc0.7431\n",
      "Epoch 49/100\n",
      "------------------------------\n",
      "Loss:0.6558 Acc0.7512\n",
      "Epoch 50/100\n",
      "------------------------------\n",
      "Loss:0.6262 Acc0.7674\n",
      "Epoch 51/100\n",
      "------------------------------\n",
      "Loss:0.5951 Acc0.7812\n",
      "Epoch 52/100\n",
      "------------------------------\n",
      "Loss:0.5697 Acc0.7905\n",
      "Epoch 53/100\n",
      "------------------------------\n",
      "Loss:0.5453 Acc0.8044\n",
      "Epoch 54/100\n",
      "------------------------------\n",
      "Loss:0.5148 Acc0.8171\n",
      "Epoch 55/100\n",
      "------------------------------\n",
      "Loss:0.4864 Acc0.8299\n",
      "Epoch 56/100\n",
      "------------------------------\n",
      "Loss:0.4615 Acc0.8495\n",
      "Epoch 57/100\n",
      "------------------------------\n",
      "Loss:0.4359 Acc0.8565\n",
      "Epoch 58/100\n",
      "------------------------------\n",
      "Loss:0.4108 Acc0.8634\n",
      "Epoch 59/100\n",
      "------------------------------\n",
      "Loss:0.3947 Acc0.8646\n",
      "Epoch 60/100\n",
      "------------------------------\n",
      "Loss:0.3747 Acc0.8738\n",
      "Epoch 61/100\n",
      "------------------------------\n",
      "Loss:0.3525 Acc0.8808\n",
      "Epoch 62/100\n",
      "------------------------------\n",
      "Loss:0.3354 Acc0.8889\n",
      "Epoch 63/100\n",
      "------------------------------\n",
      "Loss:0.3232 Acc0.8900\n",
      "Epoch 64/100\n",
      "------------------------------\n",
      "Loss:0.3086 Acc0.8935\n",
      "Epoch 65/100\n",
      "------------------------------\n",
      "Loss:0.2925 Acc0.9051\n",
      "Epoch 66/100\n",
      "------------------------------\n",
      "Loss:0.2823 Acc0.9167\n",
      "Epoch 67/100\n",
      "------------------------------\n",
      "Loss:0.2712 Acc0.9167\n",
      "Epoch 68/100\n",
      "------------------------------\n",
      "Loss:0.2635 Acc0.9167\n",
      "Epoch 69/100\n",
      "------------------------------\n",
      "Loss:0.2586 Acc0.9201\n",
      "Epoch 70/100\n",
      "------------------------------\n",
      "Loss:0.2490 Acc0.9271\n",
      "Epoch 71/100\n",
      "------------------------------\n",
      "Loss:0.2333 Acc0.9225\n",
      "Epoch 72/100\n",
      "------------------------------\n",
      "Loss:0.2062 Acc0.9294\n",
      "Epoch 73/100\n",
      "------------------------------\n",
      "Loss:0.1784 Acc0.9514\n",
      "Epoch 74/100\n",
      "------------------------------\n",
      "Loss:0.1546 Acc0.9630\n",
      "Epoch 75/100\n",
      "------------------------------\n",
      "Loss:0.1374 Acc0.9618\n",
      "Epoch 76/100\n",
      "------------------------------\n",
      "Loss:0.1268 Acc0.9664\n",
      "Epoch 77/100\n",
      "------------------------------\n",
      "Loss:0.1158 Acc0.9711\n",
      "Epoch 78/100\n",
      "------------------------------\n",
      "Loss:0.1124 Acc0.9688\n",
      "Epoch 79/100\n",
      "------------------------------\n",
      "Loss:0.1066 Acc0.9688\n",
      "Epoch 80/100\n",
      "------------------------------\n",
      "Loss:0.1058 Acc0.9757\n",
      "Epoch 81/100\n",
      "------------------------------\n",
      "Loss:0.1044 Acc0.9745\n",
      "Epoch 82/100\n",
      "------------------------------\n",
      "Loss:0.1069 Acc0.9711\n",
      "Epoch 83/100\n",
      "------------------------------\n",
      "Loss:0.1087 Acc0.9711\n",
      "Epoch 84/100\n",
      "------------------------------\n",
      "Loss:0.1074 Acc0.9711\n",
      "Epoch 85/100\n",
      "------------------------------\n",
      "Loss:0.1086 Acc0.9699\n",
      "Epoch 86/100\n",
      "------------------------------\n",
      "Loss:0.1140 Acc0.9618\n",
      "Epoch 87/100\n",
      "------------------------------\n",
      "Loss:0.1339 Acc0.9525\n",
      "Epoch 88/100\n",
      "------------------------------\n",
      "Loss:0.1526 Acc0.9525\n",
      "Epoch 89/100\n",
      "------------------------------\n",
      "Loss:0.1847 Acc0.9375\n",
      "Epoch 90/100\n",
      "------------------------------\n",
      "Loss:0.2195 Acc0.9062\n",
      "Epoch 91/100\n",
      "------------------------------\n",
      "Loss:0.1816 Acc0.9306\n",
      "Epoch 92/100\n",
      "------------------------------\n",
      "Loss:0.1534 Acc0.9468\n",
      "Epoch 93/100\n",
      "------------------------------\n",
      "Loss:0.1243 Acc0.9560\n",
      "Epoch 94/100\n",
      "------------------------------\n",
      "Loss:0.1281 Acc0.9502\n",
      "Epoch 95/100\n",
      "------------------------------\n",
      "Loss:0.1325 Acc0.9537\n",
      "Epoch 96/100\n",
      "------------------------------\n",
      "Loss:0.1228 Acc0.9537\n",
      "Epoch 97/100\n",
      "------------------------------\n",
      "Loss:0.0933 Acc0.9688\n",
      "Epoch 98/100\n",
      "------------------------------\n",
      "Loss:0.0546 Acc0.9896\n",
      "Epoch 99/100\n",
      "------------------------------\n",
      "Loss:0.0484 Acc0.9896\n",
      "Epoch 100/100\n",
      "------------------------------\n",
      "Loss:0.0456 Acc0.9931\n"
     ]
    }
   ],
   "source": [
    "num_epoch = 100\n",
    "\n",
    "for epoch in range(num_epoch):\n",
    "    print('Epoch {}/{}'.format(epoch+1,num_epoch))\n",
    "    print('---'*10)\n",
    "\n",
    "    running_loss = RunningMetrics() #Calculaer la perdida \n",
    "    running_acc  = RunningMetrics() #Clacular el accuracy\n",
    "\n",
    "    for inputs, target in dataloader:\n",
    "        inputs, target = inputs.to(device), target.to(device) #Pasar los tensores a la gpu\n",
    "\n",
    "        optimizer.zero_grad() #reiniciar los gradiantes a 0\n",
    "        output = net(inputs)\n",
    "        _, preds = torch.max(output,1)\n",
    "        loss = loss_fn(output, target)\n",
    "\n",
    "        loss.backward()\n",
    "        optimizer.step()\n",
    "\n",
    "        batch_size = inputs.size()[0]\n",
    "        running_loss.update(loss.item()*batch_size, batch_size)\n",
    "        running_acc.update(torch.sum(preds==target).float(), batch_size)\n",
    "\n",
    "    print('Loss:{:.4f} Acc{:.4f}'.format(running_loss(),running_acc()))\n",
    "\n",
    "\n",
    "\n"
   ]
  },
  {
   "cell_type": "code",
   "execution_count": null,
   "metadata": {
    "id": "AXtQgsxJ5G_f"
   },
   "outputs": [],
   "source": [
    "for input, target in dataloader:\n",
    "  input, target = input.to(device), target.to(device) #Pasar los tensores a la gpu\n",
    "    \n",
    "  optimizer.zero_grad() #reiniciar los gradiantes a 0\n",
    "  output = net(input)\n",
    "  _, preds = torch.max(output,1)\n",
    "  loss = loss_fn(output, target)\n",
    "\n",
    "  loss.backward()\n",
    "  optimizer.step()\n",
    "\n",
    "  batch_size = input.size()[0]\n",
    "  running_loss.update(loss.item()*batch_size, batch_size)\n",
    "  running_loss.update(torch.sum(preds==target).float(), batch_size)\n",
    "  break"
   ]
  }
 ],
 "metadata": {
  "accelerator": "GPU",
  "colab": {
   "collapsed_sections": [
    "9iFNCFr604AW",
    "Lbs8HCAts-Ch",
    "yrbCqgW3uoWP",
    "O6BsSdyvutxW",
    "rn77CzTK09e7"
   ],
   "name": "RedConvolucional.ipynb",
   "provenance": []
  },
  "kernelspec": {
   "display_name": "IA",
   "language": "python",
   "name": "ia"
  },
  "language_info": {
   "codemirror_mode": {
    "name": "ipython",
    "version": 3
   },
   "file_extension": ".py",
   "mimetype": "text/x-python",
   "name": "python",
   "nbconvert_exporter": "python",
   "pygments_lexer": "ipython3",
   "version": "3.8.10"
  },
  "widgets": {
   "application/vnd.jupyter.widget-state+json": {
    "12c8a6cf6e40443eb73d4179eee29fa5": {
     "model_module": "@jupyter-widgets/base",
     "model_name": "LayoutModel",
     "state": {
      "_model_module": "@jupyter-widgets/base",
      "_model_module_version": "1.2.0",
      "_model_name": "LayoutModel",
      "_view_count": null,
      "_view_module": "@jupyter-widgets/base",
      "_view_module_version": "1.2.0",
      "_view_name": "LayoutView",
      "align_content": null,
      "align_items": null,
      "align_self": null,
      "border": null,
      "bottom": null,
      "display": null,
      "flex": null,
      "flex_flow": null,
      "grid_area": null,
      "grid_auto_columns": null,
      "grid_auto_flow": null,
      "grid_auto_rows": null,
      "grid_column": null,
      "grid_gap": null,
      "grid_row": null,
      "grid_template_areas": null,
      "grid_template_columns": null,
      "grid_template_rows": null,
      "height": null,
      "justify_content": null,
      "justify_items": null,
      "left": null,
      "margin": null,
      "max_height": null,
      "max_width": null,
      "min_height": null,
      "min_width": null,
      "object_fit": null,
      "object_position": null,
      "order": null,
      "overflow": null,
      "overflow_x": null,
      "overflow_y": null,
      "padding": null,
      "right": null,
      "top": null,
      "visibility": null,
      "width": null
     }
    },
    "1fcea5209c7c46a2a142e0422a7275aa": {
     "model_module": "@jupyter-widgets/controls",
     "model_name": "HBoxModel",
     "state": {
      "_dom_classes": [],
      "_model_module": "@jupyter-widgets/controls",
      "_model_module_version": "1.5.0",
      "_model_name": "HBoxModel",
      "_view_count": null,
      "_view_module": "@jupyter-widgets/controls",
      "_view_module_version": "1.5.0",
      "_view_name": "HBoxView",
      "box_style": "",
      "children": [
       "IPY_MODEL_f9b4087370a2482c884f7adb3ec7b55f",
       "IPY_MODEL_bcbabbe14ce341279e380006eb4c3b0e"
      ],
      "layout": "IPY_MODEL_2f8fb449c6da4712b48a38f2555d5ec2"
     }
    },
    "2f8fb449c6da4712b48a38f2555d5ec2": {
     "model_module": "@jupyter-widgets/base",
     "model_name": "LayoutModel",
     "state": {
      "_model_module": "@jupyter-widgets/base",
      "_model_module_version": "1.2.0",
      "_model_name": "LayoutModel",
      "_view_count": null,
      "_view_module": "@jupyter-widgets/base",
      "_view_module_version": "1.2.0",
      "_view_name": "LayoutView",
      "align_content": null,
      "align_items": null,
      "align_self": null,
      "border": null,
      "bottom": null,
      "display": null,
      "flex": null,
      "flex_flow": null,
      "grid_area": null,
      "grid_auto_columns": null,
      "grid_auto_flow": null,
      "grid_auto_rows": null,
      "grid_column": null,
      "grid_gap": null,
      "grid_row": null,
      "grid_template_areas": null,
      "grid_template_columns": null,
      "grid_template_rows": null,
      "height": null,
      "justify_content": null,
      "justify_items": null,
      "left": null,
      "margin": null,
      "max_height": null,
      "max_width": null,
      "min_height": null,
      "min_width": null,
      "object_fit": null,
      "object_position": null,
      "order": null,
      "overflow": null,
      "overflow_x": null,
      "overflow_y": null,
      "padding": null,
      "right": null,
      "top": null,
      "visibility": null,
      "width": null
     }
    },
    "5cfccac4c94b47b4bbc01f53f2f1e06f": {
     "model_module": "@jupyter-widgets/controls",
     "model_name": "DescriptionStyleModel",
     "state": {
      "_model_module": "@jupyter-widgets/controls",
      "_model_module_version": "1.5.0",
      "_model_name": "DescriptionStyleModel",
      "_view_count": null,
      "_view_module": "@jupyter-widgets/base",
      "_view_module_version": "1.2.0",
      "_view_name": "StyleView",
      "description_width": ""
     }
    },
    "bcbabbe14ce341279e380006eb4c3b0e": {
     "model_module": "@jupyter-widgets/controls",
     "model_name": "HTMLModel",
     "state": {
      "_dom_classes": [],
      "_model_module": "@jupyter-widgets/controls",
      "_model_module_version": "1.5.0",
      "_model_name": "HTMLModel",
      "_view_count": null,
      "_view_module": "@jupyter-widgets/controls",
      "_view_module_version": "1.5.0",
      "_view_name": "HTMLView",
      "description": "",
      "description_tooltip": null,
      "layout": "IPY_MODEL_e72a7c5d7d5b452b95d8383593540f94",
      "placeholder": "​",
      "style": "IPY_MODEL_5cfccac4c94b47b4bbc01f53f2f1e06f",
      "value": " 170499072/? [00:22&lt;00:00, 7717181.08it/s]"
     }
    },
    "df5bd1cc96a74c97affd0710d1b85420": {
     "model_module": "@jupyter-widgets/controls",
     "model_name": "ProgressStyleModel",
     "state": {
      "_model_module": "@jupyter-widgets/controls",
      "_model_module_version": "1.5.0",
      "_model_name": "ProgressStyleModel",
      "_view_count": null,
      "_view_module": "@jupyter-widgets/base",
      "_view_module_version": "1.2.0",
      "_view_name": "StyleView",
      "bar_color": null,
      "description_width": "initial"
     }
    },
    "e72a7c5d7d5b452b95d8383593540f94": {
     "model_module": "@jupyter-widgets/base",
     "model_name": "LayoutModel",
     "state": {
      "_model_module": "@jupyter-widgets/base",
      "_model_module_version": "1.2.0",
      "_model_name": "LayoutModel",
      "_view_count": null,
      "_view_module": "@jupyter-widgets/base",
      "_view_module_version": "1.2.0",
      "_view_name": "LayoutView",
      "align_content": null,
      "align_items": null,
      "align_self": null,
      "border": null,
      "bottom": null,
      "display": null,
      "flex": null,
      "flex_flow": null,
      "grid_area": null,
      "grid_auto_columns": null,
      "grid_auto_flow": null,
      "grid_auto_rows": null,
      "grid_column": null,
      "grid_gap": null,
      "grid_row": null,
      "grid_template_areas": null,
      "grid_template_columns": null,
      "grid_template_rows": null,
      "height": null,
      "justify_content": null,
      "justify_items": null,
      "left": null,
      "margin": null,
      "max_height": null,
      "max_width": null,
      "min_height": null,
      "min_width": null,
      "object_fit": null,
      "object_position": null,
      "order": null,
      "overflow": null,
      "overflow_x": null,
      "overflow_y": null,
      "padding": null,
      "right": null,
      "top": null,
      "visibility": null,
      "width": null
     }
    },
    "f9b4087370a2482c884f7adb3ec7b55f": {
     "model_module": "@jupyter-widgets/controls",
     "model_name": "FloatProgressModel",
     "state": {
      "_dom_classes": [],
      "_model_module": "@jupyter-widgets/controls",
      "_model_module_version": "1.5.0",
      "_model_name": "FloatProgressModel",
      "_view_count": null,
      "_view_module": "@jupyter-widgets/controls",
      "_view_module_version": "1.5.0",
      "_view_name": "ProgressView",
      "bar_style": "success",
      "description": "",
      "description_tooltip": null,
      "layout": "IPY_MODEL_12c8a6cf6e40443eb73d4179eee29fa5",
      "max": 170498071,
      "min": 0,
      "orientation": "horizontal",
      "style": "IPY_MODEL_df5bd1cc96a74c97affd0710d1b85420",
      "value": 170498071
     }
    }
   }
  }
 },
 "nbformat": 4,
 "nbformat_minor": 4
}
