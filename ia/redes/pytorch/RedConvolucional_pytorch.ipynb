{
 "cells": [
  {
   "cell_type": "code",
   "execution_count": 7,
   "metadata": {
    "id": "h-3yjEEAzMB5"
   },
   "outputs": [],
   "source": [
    "import torch \n",
    "from torchvision import datasets\n",
    "import matplotlib.pyplot as plt\n",
    "import sys \n",
    "import os\n",
    "import random\n",
    "from PIL import Image\n",
    "\n",
    "# ---- Preprocesing ----\n",
    "import torchvision.transforms as transforms #Coleccion de funciones de procesamiento\n",
    "from torch.utils.data import Dataset, DataLoader #Dataset lo import para heredar la clase, el DataLoader lo que hace es partir el dataset en batches de imagnes\n",
    "from torchvision.utils import make_grid\n",
    "\n",
    "# ---- NN ----\n",
    "import torch.nn as nn\n",
    "import torch.nn.functional as F # Capas sin parametros\n",
    "import torch.optim as optim #Metodos de optimizacion\n",
    " \n",
    "\n",
    "\n",
    "sys.path.append('data/')\n",
    "device = torch.device('cuda' if torch.cuda.is_available() else 'cpu')"
   ]
  },
  {
   "cell_type": "code",
   "execution_count": 8,
   "metadata": {
    "id": "tZ6XoqWx7pgU"
   },
   "outputs": [],
   "source": [
    "from plot_helpers import imshow"
   ]
  },
  {
   "cell_type": "markdown",
   "metadata": {
    "id": "9iFNCFr604AW"
   },
   "source": [
    "# Introduction"
   ]
  },
  {
   "cell_type": "code",
   "execution_count": 9,
   "metadata": {
    "colab": {
     "base_uri": "https://localhost:8080/"
    },
    "id": "zmy5h50zqjqM",
    "outputId": "04d5d61e-d8a5-4671-fd67-831c369da3b7"
   },
   "outputs": [
    {
     "name": "stdout",
     "output_type": "stream",
     "text": [
      "Files already downloaded and verified\n"
     ]
    }
   ],
   "source": [
    "cifar = datasets.CIFAR10('data/', download=True)"
   ]
  },
  {
   "cell_type": "code",
   "execution_count": 10,
   "metadata": {
    "colab": {
     "base_uri": "https://localhost:8080/"
    },
    "id": "WsS2P3oirYwT",
    "outputId": "18488c68-2052-4a4e-a1b2-3a54a8edb912"
   },
   "outputs": [
    {
     "data": {
      "text/plain": [
       "50000"
      ]
     },
     "execution_count": 10,
     "metadata": {},
     "output_type": "execute_result"
    }
   ],
   "source": [
    "len(cifar)"
   ]
  },
  {
   "cell_type": "markdown",
   "metadata": {
    "id": "Lbs8HCAts-Ch"
   },
   "source": [
    "## Cambiar de cpu a gpu"
   ]
  },
  {
   "cell_type": "code",
   "execution_count": 11,
   "metadata": {
    "collapsed": true,
    "id": "jEZ4DmdPrbLw",
    "jupyter": {
     "outputs_hidden": true
    },
    "tags": []
   },
   "outputs": [
    {
     "data": {
      "text/plain": [
       "tensor([[[[ 59.,  62.,  63.],\n",
       "          [ 43.,  46.,  45.],\n",
       "          [ 50.,  48.,  43.],\n",
       "          ...,\n",
       "          [158., 132., 108.],\n",
       "          [152., 125., 102.],\n",
       "          [148., 124., 103.]],\n",
       "\n",
       "         [[ 16.,  20.,  20.],\n",
       "          [  0.,   0.,   0.],\n",
       "          [ 18.,   8.,   0.],\n",
       "          ...,\n",
       "          [123.,  88.,  55.],\n",
       "          [119.,  83.,  50.],\n",
       "          [122.,  87.,  57.]],\n",
       "\n",
       "         [[ 25.,  24.,  21.],\n",
       "          [ 16.,   7.,   0.],\n",
       "          [ 49.,  27.,   8.],\n",
       "          ...,\n",
       "          [118.,  84.,  50.],\n",
       "          [120.,  84.,  50.],\n",
       "          [109.,  73.,  42.]],\n",
       "\n",
       "         ...,\n",
       "\n",
       "         [[208., 170.,  96.],\n",
       "          [201., 153.,  34.],\n",
       "          [198., 161.,  26.],\n",
       "          ...,\n",
       "          [160., 133.,  70.],\n",
       "          [ 56.,  31.,   7.],\n",
       "          [ 53.,  34.,  20.]],\n",
       "\n",
       "         [[180., 139.,  96.],\n",
       "          [173., 123.,  42.],\n",
       "          [186., 144.,  30.],\n",
       "          ...,\n",
       "          [184., 148.,  94.],\n",
       "          [ 97.,  62.,  34.],\n",
       "          [ 83.,  53.,  34.]],\n",
       "\n",
       "         [[177., 144., 116.],\n",
       "          [168., 129.,  94.],\n",
       "          [179., 142.,  87.],\n",
       "          ...,\n",
       "          [216., 184., 140.],\n",
       "          [151., 118.,  84.],\n",
       "          [123.,  92.,  72.]]],\n",
       "\n",
       "\n",
       "        [[[154., 177., 187.],\n",
       "          [126., 137., 136.],\n",
       "          [105., 104.,  95.],\n",
       "          ...,\n",
       "          [ 91.,  95.,  71.],\n",
       "          [ 87.,  90.,  71.],\n",
       "          [ 79.,  81.,  70.]],\n",
       "\n",
       "         [[140., 160., 169.],\n",
       "          [145., 153., 154.],\n",
       "          [125., 125., 118.],\n",
       "          ...,\n",
       "          [ 96.,  99.,  78.],\n",
       "          [ 77.,  80.,  62.],\n",
       "          [ 71.,  73.,  61.]],\n",
       "\n",
       "         [[140., 155., 164.],\n",
       "          [139., 146., 149.],\n",
       "          [115., 115., 112.],\n",
       "          ...,\n",
       "          [ 79.,  82.,  64.],\n",
       "          [ 68.,  70.,  55.],\n",
       "          [ 67.,  69.,  55.]],\n",
       "\n",
       "         ...,\n",
       "\n",
       "         [[175., 167., 166.],\n",
       "          [156., 154., 160.],\n",
       "          [154., 160., 170.],\n",
       "          ...,\n",
       "          [ 42.,  34.,  36.],\n",
       "          [ 61.,  53.,  57.],\n",
       "          [ 93.,  83.,  91.]],\n",
       "\n",
       "         [[165., 154., 128.],\n",
       "          [156., 152., 130.],\n",
       "          [159., 161., 142.],\n",
       "          ...,\n",
       "          [103.,  93.,  96.],\n",
       "          [123., 114., 120.],\n",
       "          [131., 121., 131.]],\n",
       "\n",
       "         [[163., 148., 120.],\n",
       "          [158., 148., 122.],\n",
       "          [163., 156., 133.],\n",
       "          ...,\n",
       "          [143., 133., 139.],\n",
       "          [143., 134., 142.],\n",
       "          [143., 133., 144.]]],\n",
       "\n",
       "\n",
       "        [[[255., 255., 255.],\n",
       "          [253., 253., 253.],\n",
       "          [253., 253., 253.],\n",
       "          ...,\n",
       "          [253., 253., 253.],\n",
       "          [253., 253., 253.],\n",
       "          [253., 253., 253.]],\n",
       "\n",
       "         [[255., 255., 255.],\n",
       "          [255., 255., 255.],\n",
       "          [255., 255., 255.],\n",
       "          ...,\n",
       "          [255., 255., 255.],\n",
       "          [255., 255., 255.],\n",
       "          [255., 255., 255.]],\n",
       "\n",
       "         [[255., 255., 255.],\n",
       "          [254., 254., 254.],\n",
       "          [254., 254., 254.],\n",
       "          ...,\n",
       "          [254., 254., 254.],\n",
       "          [254., 254., 254.],\n",
       "          [254., 254., 254.]],\n",
       "\n",
       "         ...,\n",
       "\n",
       "         [[113., 120., 112.],\n",
       "          [111., 118., 111.],\n",
       "          [105., 112., 106.],\n",
       "          ...,\n",
       "          [ 72.,  81.,  80.],\n",
       "          [ 72.,  80.,  79.],\n",
       "          [ 72.,  80.,  79.]],\n",
       "\n",
       "         [[111., 118., 110.],\n",
       "          [104., 111., 104.],\n",
       "          [ 99., 106.,  98.],\n",
       "          ...,\n",
       "          [ 68.,  75.,  73.],\n",
       "          [ 70.,  76.,  75.],\n",
       "          [ 78.,  84.,  82.]],\n",
       "\n",
       "         [[106., 113., 105.],\n",
       "          [ 99., 106.,  98.],\n",
       "          [ 95., 102.,  94.],\n",
       "          ...,\n",
       "          [ 78.,  85.,  83.],\n",
       "          [ 79.,  85.,  83.],\n",
       "          [ 80.,  86.,  84.]]],\n",
       "\n",
       "\n",
       "        ...,\n",
       "\n",
       "\n",
       "        [[[ 35., 178., 235.],\n",
       "          [ 40., 176., 239.],\n",
       "          [ 42., 176., 241.],\n",
       "          ...,\n",
       "          [ 99., 177., 219.],\n",
       "          [ 79., 147., 197.],\n",
       "          [ 89., 148., 189.]],\n",
       "\n",
       "         [[ 57., 182., 234.],\n",
       "          [ 44., 184., 250.],\n",
       "          [ 50., 183., 240.],\n",
       "          ...,\n",
       "          [156., 182., 200.],\n",
       "          [141., 177., 206.],\n",
       "          [116., 149., 175.]],\n",
       "\n",
       "         [[ 98., 197., 237.],\n",
       "          [ 64., 189., 252.],\n",
       "          [ 69., 192., 245.],\n",
       "          ...,\n",
       "          [188., 195., 206.],\n",
       "          [119., 135., 147.],\n",
       "          [ 61.,  79.,  90.]],\n",
       "\n",
       "         ...,\n",
       "\n",
       "         [[ 73.,  79.,  77.],\n",
       "          [ 53.,  63.,  68.],\n",
       "          [ 54.,  68.,  80.],\n",
       "          ...,\n",
       "          [ 17.,  40.,  64.],\n",
       "          [ 21.,  36.,  51.],\n",
       "          [ 33.,  48.,  49.]],\n",
       "\n",
       "         [[ 61.,  68.,  75.],\n",
       "          [ 55.,  70.,  86.],\n",
       "          [ 57.,  79., 103.],\n",
       "          ...,\n",
       "          [ 24.,  48.,  72.],\n",
       "          [ 17.,  35.,  53.],\n",
       "          [  7.,  23.,  32.]],\n",
       "\n",
       "         [[ 44.,  56.,  73.],\n",
       "          [ 46.,  66.,  88.],\n",
       "          [ 49.,  77., 105.],\n",
       "          ...,\n",
       "          [ 27.,  52.,  77.],\n",
       "          [ 21.,  43.,  66.],\n",
       "          [ 12.,  31.,  50.]]],\n",
       "\n",
       "\n",
       "        [[[189., 211., 240.],\n",
       "          [186., 208., 236.],\n",
       "          [185., 207., 235.],\n",
       "          ...,\n",
       "          [175., 195., 224.],\n",
       "          [172., 194., 222.],\n",
       "          [169., 194., 220.]],\n",
       "\n",
       "         [[194., 210., 239.],\n",
       "          [191., 207., 236.],\n",
       "          [190., 206., 235.],\n",
       "          ...,\n",
       "          [173., 192., 220.],\n",
       "          [171., 191., 218.],\n",
       "          [167., 190., 216.]],\n",
       "\n",
       "         [[208., 219., 244.],\n",
       "          [205., 216., 240.],\n",
       "          [204., 215., 239.],\n",
       "          ...,\n",
       "          [175., 191., 217.],\n",
       "          [172., 190., 216.],\n",
       "          [169., 191., 215.]],\n",
       "\n",
       "         ...,\n",
       "\n",
       "         [[207., 199., 181.],\n",
       "          [203., 195., 175.],\n",
       "          [203., 196., 173.],\n",
       "          ...,\n",
       "          [135., 132., 127.],\n",
       "          [162., 158., 150.],\n",
       "          [168., 163., 151.]],\n",
       "\n",
       "         [[198., 190., 170.],\n",
       "          [189., 181., 159.],\n",
       "          [180., 172., 147.],\n",
       "          ...,\n",
       "          [178., 171., 160.],\n",
       "          [175., 169., 156.],\n",
       "          [175., 169., 154.]],\n",
       "\n",
       "         [[198., 189., 173.],\n",
       "          [189., 181., 162.],\n",
       "          [178., 170., 149.],\n",
       "          ...,\n",
       "          [195., 184., 169.],\n",
       "          [196., 189., 171.],\n",
       "          [195., 190., 171.]]],\n",
       "\n",
       "\n",
       "        [[[229., 229., 239.],\n",
       "          [236., 237., 247.],\n",
       "          [234., 236., 247.],\n",
       "          ...,\n",
       "          [217., 219., 233.],\n",
       "          [221., 223., 234.],\n",
       "          [222., 223., 233.]],\n",
       "\n",
       "         [[222., 221., 229.],\n",
       "          [239., 239., 249.],\n",
       "          [233., 234., 246.],\n",
       "          ...,\n",
       "          [223., 223., 236.],\n",
       "          [227., 228., 238.],\n",
       "          [210., 211., 220.]],\n",
       "\n",
       "         [[213., 206., 211.],\n",
       "          [234., 232., 239.],\n",
       "          [231., 233., 244.],\n",
       "          ...,\n",
       "          [220., 220., 232.],\n",
       "          [220., 219., 232.],\n",
       "          [202., 203., 215.]],\n",
       "\n",
       "         ...,\n",
       "\n",
       "         [[150., 143., 135.],\n",
       "          [140., 135., 127.],\n",
       "          [132., 127., 120.],\n",
       "          ...,\n",
       "          [224., 222., 218.],\n",
       "          [230., 228., 225.],\n",
       "          [241., 241., 238.]],\n",
       "\n",
       "         [[137., 132., 126.],\n",
       "          [130., 127., 120.],\n",
       "          [125., 121., 115.],\n",
       "          ...,\n",
       "          [181., 180., 178.],\n",
       "          [202., 201., 198.],\n",
       "          [212., 211., 207.]],\n",
       "\n",
       "         [[122., 119., 114.],\n",
       "          [118., 116., 110.],\n",
       "          [120., 116., 111.],\n",
       "          ...,\n",
       "          [179., 177., 173.],\n",
       "          [164., 164., 162.],\n",
       "          [163., 163., 161.]]]])"
      ]
     },
     "execution_count": 11,
     "metadata": {},
     "output_type": "execute_result"
    }
   ],
   "source": [
    "data = torch.Tensor(cifar.data)\n",
    "data.to(device)"
   ]
  },
  {
   "cell_type": "code",
   "execution_count": 12,
   "metadata": {
    "colab": {
     "base_uri": "https://localhost:8080/"
    },
    "id": "UbBqs8ySsnaD",
    "outputId": "3cf73a78-5d6f-4aaf-ae8f-4620e9832ea1"
   },
   "outputs": [
    {
     "data": {
      "text/plain": [
       "torch.Size([50000, 32, 32, 3])"
      ]
     },
     "execution_count": 12,
     "metadata": {},
     "output_type": "execute_result"
    }
   ],
   "source": [
    "data.size()"
   ]
  },
  {
   "cell_type": "markdown",
   "metadata": {
    "id": "WI3d1Un4s2YF"
   },
   "source": [
    "## Capas de una red neuronal\n",
    "\n",
    "---\n",
    "\n"
   ]
  },
  {
   "cell_type": "code",
   "execution_count": 13,
   "metadata": {
    "id": "jRwRUppDs0Hq"
   },
   "outputs": [],
   "source": [
    "import torch.nn as nn"
   ]
  },
  {
   "cell_type": "code",
   "execution_count": 14,
   "metadata": {
    "id": "DPo1IplEtJRJ"
   },
   "outputs": [],
   "source": [
    "Linear = nn.Linear(in_features=4096, out_features=10) # Tensores de 1 dimencion de entrada\n",
    "conv = nn.Conv2d(in_channels=3, out_channels=9, kernel_size=3, stride=1, padding=1 ) #Esta red solo va a modificar la cantidad de canales\n",
    "relu = nn.ReLU(False)"
   ]
  },
  {
   "cell_type": "markdown",
   "metadata": {
    "id": "yrbCqgW3uoWP"
   },
   "source": [
    "### Capa Lineal"
   ]
  },
  {
   "cell_type": "code",
   "execution_count": 15,
   "metadata": {
    "colab": {
     "base_uri": "https://localhost:8080/"
    },
    "id": "NTZr8Uv_t7cp",
    "outputId": "c3c2106b-bcd3-4bdb-fa06-726ad6fb2442"
   },
   "outputs": [
    {
     "data": {
      "text/plain": [
       "torch.Size([10])"
      ]
     },
     "execution_count": 15,
     "metadata": {},
     "output_type": "execute_result"
    }
   ],
   "source": [
    "X = torch.randn(4096)\n",
    "y = Linear(X)\n",
    "y.size()"
   ]
  },
  {
   "cell_type": "markdown",
   "metadata": {
    "id": "wRaNpVfSwpfd"
   },
   "source": [
    "Ver los parametros"
   ]
  },
  {
   "cell_type": "code",
   "execution_count": 16,
   "metadata": {
    "colab": {
     "base_uri": "https://localhost:8080/"
    },
    "id": "SEudWe5OvqL6",
    "outputId": "06bdba7d-1a65-484a-e85c-452900ab7dcc"
   },
   "outputs": [
    {
     "name": "stdout",
     "output_type": "stream",
     "text": [
      "weight\n",
      "torch.Size([10, 4096])\n",
      "\n",
      "bias\n",
      "torch.Size([10])\n",
      "\n"
     ]
    }
   ],
   "source": [
    "for name , p in list(Linear.named_parameters()):\n",
    "  print(name)\n",
    "  print( p.size())\n",
    "  print()"
   ]
  },
  {
   "cell_type": "markdown",
   "metadata": {
    "id": "O6BsSdyvutxW"
   },
   "source": [
    "### Capa Convolucional"
   ]
  },
  {
   "cell_type": "code",
   "execution_count": 17,
   "metadata": {
    "colab": {
     "base_uri": "https://localhost:8080/"
    },
    "id": "hkAtNUjpuHT4",
    "outputId": "a15b9154-f939-4c0c-a5d1-9dffcef16266"
   },
   "outputs": [
    {
     "data": {
      "text/plain": [
       "torch.Size([4096, 9, 32, 32])"
      ]
     },
     "execution_count": 17,
     "metadata": {},
     "output_type": "execute_result"
    }
   ],
   "source": [
    "X = torch.randn([4096,3,32,32]) # 4096 imagenes de tres canales con un size de 32x32\n",
    "y = conv(X)\n",
    "y.size()"
   ]
  },
  {
   "cell_type": "markdown",
   "metadata": {
    "id": "hkmlV3X4uxha"
   },
   "source": [
    "### RELU"
   ]
  },
  {
   "cell_type": "code",
   "execution_count": 18,
   "metadata": {
    "colab": {
     "base_uri": "https://localhost:8080/"
    },
    "id": "qKJFxZ6Nujwe",
    "outputId": "2f0bec5d-1800-4afb-dbb4-f9b808fe80f2"
   },
   "outputs": [
    {
     "name": "stdout",
     "output_type": "stream",
     "text": [
      "Original :\n",
      "\t tensor([-1.0481,  0.4200,  0.8510,  1.2168, -0.5031,  0.6771, -0.0085, -0.3902,\n",
      "        -0.7432, -0.3691, -0.6823,  0.4438, -1.4130,  0.9758,  0.5973, -1.6512,\n",
      "        -0.0447,  2.1118, -0.3634,  0.8105, -1.4371, -1.3194,  0.2269,  1.3633,\n",
      "        -0.6135, -0.4486,  0.6834,  0.3329, -0.4151,  0.0082,  0.5155,  0.5553]) \n",
      "\n",
      " Resultado :\n",
      "\t tensor([0.0000, 0.4200, 0.8510, 1.2168, 0.0000, 0.6771, 0.0000, 0.0000, 0.0000,\n",
      "        0.0000, 0.0000, 0.4438, 0.0000, 0.9758, 0.5973, 0.0000, 0.0000, 2.1118,\n",
      "        0.0000, 0.8105, 0.0000, 0.0000, 0.2269, 1.3633, 0.0000, 0.0000, 0.6834,\n",
      "        0.3329, 0.0000, 0.0082, 0.5155, 0.5553])\n"
     ]
    }
   ],
   "source": [
    "X = torch.randn([4096,3,32,32]) # 4096 imagenes de tres canales con un size de 32x32\n",
    "y = relu(X)\n",
    "y.size()\n",
    "print('Original :\\n\\t',X[0][0][0],'\\n\\n','Resultado :\\n\\t',y[0][0][0])"
   ]
  },
  {
   "cell_type": "markdown",
   "metadata": {
    "id": "an7Lok-1Aq4L"
   },
   "source": [
    "# Caragar los datos"
   ]
  },
  {
   "cell_type": "code",
   "execution_count": 19,
   "metadata": {
    "id": "ns3xDZ4NAvNs"
   },
   "outputs": [],
   "source": [
    "class SINGSDataset(Dataset):\n",
    "\n",
    "  def __init__(self, base_dir, split= 'train', transform = None ):\n",
    "    path = os.path.join(base_dir, '{}_signs'.format(split))   \n",
    "    files = os.listdir(path)\n",
    "    self.files_names = [os.path.join(path,f) for f in files if f.endswith('.jpg')]\n",
    "    self.targets = [int(f[0]) for f in files if f.endswith('.jpg')]\n",
    "    self.transform = transform\n",
    "\n",
    "  def __len__(self):\n",
    "    return len(self.files_names)\n",
    "  \n",
    "  def __getitem__(self, idx):\n",
    "    image = Image.open(self.files_names[idx])\n",
    "    if self.transform:\n",
    "      image = self.transform(image)\n",
    "    return image, self.targets[idx]"
   ]
  },
  {
   "cell_type": "code",
   "execution_count": 20,
   "metadata": {
    "id": "GfiNKf4oFGFU"
   },
   "outputs": [],
   "source": [
    "base_dir = 'data/64x64_SIGNS'\n",
    "train_set = SINGSDataset(base_dir, split='train', transform= transforms.ToTensor())"
   ]
  },
  {
   "cell_type": "markdown",
   "metadata": {
    "id": "mxN-YmqsFzR3"
   },
   "source": [
    "Como este es un dataset que no lo importamos desde torch, no tenía las funciones de len y getitem implementadas, por lo que tuvimo que implementarlas, y al crear la clase con herencia, ahora tiene los demás atributos"
   ]
  },
  {
   "cell_type": "code",
   "execution_count": 21,
   "metadata": {
    "colab": {
     "base_uri": "https://localhost:8080/"
    },
    "id": "jcS8a3AdFVpR",
    "outputId": "be7f060f-f11e-469e-c2af-1239aad38a85"
   },
   "outputs": [
    {
     "data": {
      "text/plain": [
       "864"
      ]
     },
     "execution_count": 21,
     "metadata": {},
     "output_type": "execute_result"
    }
   ],
   "source": [
    "len(train_set)"
   ]
  },
  {
   "cell_type": "code",
   "execution_count": 22,
   "metadata": {
    "colab": {
     "base_uri": "https://localhost:8080/"
    },
    "id": "jMRUKmbiFY1D",
    "outputId": "652bf1fc-0072-412f-c32a-d4bb0aafbbb8"
   },
   "outputs": [
    {
     "data": {
      "text/plain": [
       "tensor([[[0.9294, 0.9255, 0.9137,  ..., 0.9059, 0.9059, 0.9059],\n",
       "         [0.9294, 0.9216, 0.9098,  ..., 0.9059, 0.9059, 0.9059],\n",
       "         [0.9255, 0.9216, 0.9098,  ..., 0.9059, 0.9059, 0.9059],\n",
       "         ...,\n",
       "         [0.8039, 0.8039, 0.8039,  ..., 0.8196, 0.8235, 0.8235],\n",
       "         [0.7961, 0.7961, 0.7961,  ..., 0.8157, 0.8157, 0.8196],\n",
       "         [0.7882, 0.7922, 0.7922,  ..., 0.8078, 0.8118, 0.8118]],\n",
       "\n",
       "        [[0.8471, 0.8471, 0.8549,  ..., 0.8863, 0.8863, 0.8863],\n",
       "         [0.8471, 0.8510, 0.8588,  ..., 0.8863, 0.8863, 0.8863],\n",
       "         [0.8510, 0.8510, 0.8588,  ..., 0.8863, 0.8863, 0.8863],\n",
       "         ...,\n",
       "         [0.7725, 0.7725, 0.7725,  ..., 0.8039, 0.8078, 0.8078],\n",
       "         [0.7647, 0.7647, 0.7647,  ..., 0.8000, 0.8000, 0.8039],\n",
       "         [0.7608, 0.7608, 0.7608,  ..., 0.7922, 0.7961, 0.7961]],\n",
       "\n",
       "        [[0.8431, 0.8431, 0.8353,  ..., 0.8627, 0.8627, 0.8627],\n",
       "         [0.8431, 0.8353, 0.8353,  ..., 0.8627, 0.8627, 0.8627],\n",
       "         [0.8353, 0.8353, 0.8353,  ..., 0.8627, 0.8627, 0.8627],\n",
       "         ...,\n",
       "         [0.6980, 0.6980, 0.6980,  ..., 0.7922, 0.7961, 0.7961],\n",
       "         [0.6902, 0.6902, 0.6902,  ..., 0.7882, 0.7882, 0.7922],\n",
       "         [0.6863, 0.6863, 0.6863,  ..., 0.7804, 0.7843, 0.7843]]])"
      ]
     },
     "execution_count": 22,
     "metadata": {},
     "output_type": "execute_result"
    }
   ],
   "source": [
    "train_set[0][0]"
   ]
  },
  {
   "cell_type": "markdown",
   "metadata": {
    "id": "8ZlBkc_LeKer"
   },
   "source": [
    "# Preprocessing\n",
    "\n",
    "---\n",
    "\n"
   ]
  },
  {
   "cell_type": "code",
   "execution_count": 23,
   "metadata": {
    "id": "gqXMq38ueGHz"
   },
   "outputs": [],
   "source": [
    "dataloader = DataLoader(train_set, batch_size=32)"
   ]
  },
  {
   "cell_type": "code",
   "execution_count": 24,
   "metadata": {
    "colab": {
     "base_uri": "https://localhost:8080/"
    },
    "id": "TNxQKjIsfEW6",
    "outputId": "f24ca9cf-6c32-4060-fd5f-36181b44ab5f"
   },
   "outputs": [
    {
     "data": {
      "text/plain": [
       "<torch.utils.data.dataloader.DataLoader at 0x7f23e04e75b0>"
      ]
     },
     "execution_count": 24,
     "metadata": {},
     "output_type": "execute_result"
    }
   ],
   "source": [
    "dataloader"
   ]
  },
  {
   "cell_type": "code",
   "execution_count": null,
   "metadata": {
    "id": "Q6W4Df-wg4qB"
   },
   "outputs": [],
   "source": []
  },
  {
   "cell_type": "code",
   "execution_count": 25,
   "metadata": {
    "colab": {
     "base_uri": "https://localhost:8080/",
     "height": 289
    },
    "id": "OuKmerLgeeoD",
    "outputId": "8f85d703-3bac-4953-fc25-7fd4a3025a60"
   },
   "outputs": [
    {
     "name": "stdout",
     "output_type": "stream",
     "text": [
      "\n",
      "\n",
      "Targets: tensor([1, 1, 4, 1, 4, 0, 4, 4, 3, 4, 1, 4, 0, 3, 2, 1, 5, 3, 5, 4, 3, 4, 5, 1,\n",
      "        1, 1, 1, 2, 4, 3, 0, 5])\n"
     ]
    },
    {
     "data": {
      "image/png": "[encoded data removed]",
      "text/plain": [
       "<Figure size 432x288 with 1 Axes>"
      ]
     },
     "metadata": {
      "needs_background": "light"
     },
     "output_type": "display_data"
    }
   ],
   "source": [
    "for input, target in dataloader:\n",
    "  out = make_grid(input) #Crear una grilla\n",
    "  image = out.permute(1,2,0)\n",
    "  plt.imshow(image)\n",
    "  print('\\n\\nTargets:',target)\n",
    "  break"
   ]
  },
  {
   "cell_type": "markdown",
   "metadata": {
    "id": "rn77CzTK09e7"
   },
   "source": [
    "# Create the NN\n",
    "\n"
   ]
  },
  {
   "cell_type": "markdown",
   "metadata": {
    "id": "cUo-k_z2J59p"
   },
   "source": [
    "El tamaño de la imagen después de haberla pasado por una red convu+olucioanl se puede calcular con esta formula, siendo o el tamaño del output, S el stride, P el padding y F el kernel_size"
   ]
  },
  {
   "cell_type": "markdown",
   "metadata": {
    "id": "e912n4wVJwXQ"
   },
   "source": [
    "![Screenshot from 2021-08-03 23-12-42.png](data:image/png;base64,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)"
   ]
  },
  {
   "cell_type": "code",
   "execution_count": 26,
   "metadata": {
    "id": "dJxv9b7z1DXE"
   },
   "outputs": [],
   "source": [
    "class NN(nn.Module):\n",
    "  def __init__(self,num_channels):\n",
    "    super().__init__()\n",
    "\n",
    "    self.num_channels = num_channels\n",
    "    \n",
    "    #Capas convoluconales\n",
    "    self.conv1 = nn.Conv2d(3, out_channels= self.num_channels, kernel_size= 3, stride=1, padding=1)\n",
    "    self.conv2 = nn.Conv2d(self.num_channels, out_channels= self.num_channels*2, kernel_size= 3, stride=1, padding=1)\n",
    "    self.conv3 = nn.Conv2d(self.num_channels*2, out_channels= self.num_channels*4, kernel_size= 3, stride=1, padding=1)\n",
    "    \n",
    "    # Capas lineales \n",
    "    self.lineal1 = nn.Linear(self.num_channels*4*8*8, out_features= self.num_channels*4)\n",
    "    self.lineal2 = nn.Linear(self.num_channels*4 , out_features= 6)\n",
    "\n",
    "  def forward(self,x):\n",
    "      x = self.conv1(x) # num_channels x 64 x 64\n",
    "      x = F.relu(F.max_pool2d(x, 2)) #num_channels x 32 x 32\n",
    "      x = self.conv2(x) # num_channels*2 x 32 x32\n",
    "      x = F.relu(F.max_pool2d(x, 2)) #num_channels*2 x 16 x 16\n",
    "      x = self.conv3(x) #num_channels*4 x 16 x 16\n",
    "      x = F.relu(F.max_pool2d(x, 2)) #num_channels*4 x 8 x 8\n",
    "\n",
    "      # flatten \n",
    "      x = x.view(-1, self.num_channels*4*8*8)\n",
    "       \n",
    "      # Aplicar las capas lineales \n",
    "      x = self.lineal1(x)\n",
    "      x = F.relu(x)\n",
    "      x = self.lineal2(x)\n",
    "      x = F.log_softmax(x,dim=1)\n",
    "\n",
    "      return x"
   ]
  },
  {
   "cell_type": "code",
   "execution_count": 27,
   "metadata": {
    "id": "Lu06i7CGyDzC"
   },
   "outputs": [],
   "source": [
    "class RunningMetrics():\n",
    "  def __init__(self):\n",
    "    self.S = 0\n",
    "    self.N = 0\n",
    "  \n",
    "  def update(self, value, size):\n",
    "    self.S += value\n",
    "    self.N += size\n",
    "  \n",
    "  def __call__(self):\n",
    "    return self.S/float(self.N)"
   ]
  },
  {
   "cell_type": "code",
   "execution_count": 28,
   "metadata": {
    "id": "HqrrgTGbi-b8"
   },
   "outputs": [],
   "source": [
    "net = NN(32).to(device)\n",
    "\n",
    "loss_fn = nn.NLLLoss()\n",
    "optimizer = optim.SGD(net.parameters(), lr=0.001, momentum=0.9)\n"
   ]
  },
  {
   "cell_type": "code",
   "execution_count": 38,
   "metadata": {
    "collapsed": true,
    "id": "oCzaOhu13KX2",
    "jupyter": {
     "outputs_hidden": true
    },
    "tags": []
   },
   "outputs": [
    {
     "name": "stdout",
     "output_type": "stream",
     "text": [
      "Epoch 1/150\n",
      "------------------------------\n",
      "Loss:1.7004 Acc:0.4120\n",
      "Epoch 2/150\n",
      "------------------------------\n",
      "Loss:1.3372 Acc:0.4595\n",
      "Epoch 3/150\n",
      "------------------------------\n",
      "Loss:1.2698 Acc:0.4688\n",
      "Epoch 4/150\n",
      "------------------------------\n",
      "Loss:1.1597 Acc:0.5081\n",
      "Epoch 5/150\n",
      "------------------------------\n",
      "Loss:1.0223 Acc:0.5810\n",
      "Epoch 6/150\n",
      "------------------------------\n",
      "Loss:0.8956 Acc:0.6343\n",
      "Epoch 7/150\n",
      "------------------------------\n",
      "Loss:0.7904 Acc:0.6933\n",
      "Epoch 8/150\n",
      "------------------------------\n",
      "Loss:0.7645 Acc:0.6944\n",
      "Epoch 9/150\n",
      "------------------------------\n",
      "Loss:0.6461 Acc:0.7234\n",
      "Epoch 10/150\n",
      "------------------------------\n",
      "Loss:0.6419 Acc:0.7338\n",
      "Epoch 11/150\n",
      "------------------------------\n",
      "Loss:0.5826 Acc:0.7662\n",
      "Epoch 12/150\n",
      "------------------------------\n",
      "Loss:0.5043 Acc:0.7928\n",
      "Epoch 13/150\n",
      "------------------------------\n",
      "Loss:0.5127 Acc:0.7801\n",
      "Epoch 14/150\n",
      "------------------------------\n",
      "Loss:0.4600 Acc:0.8264\n",
      "Epoch 15/150\n",
      "------------------------------\n",
      "Loss:0.4905 Acc:0.7986\n",
      "Epoch 16/150\n",
      "------------------------------\n",
      "Loss:0.4524 Acc:0.8160\n",
      "Epoch 17/150\n",
      "------------------------------\n",
      "Loss:0.4249 Acc:0.8102\n",
      "Epoch 18/150\n",
      "------------------------------\n",
      "Loss:0.4232 Acc:0.8368\n",
      "Epoch 19/150\n",
      "------------------------------\n",
      "Loss:0.3725 Acc:0.8553\n",
      "Epoch 20/150\n",
      "------------------------------\n",
      "Loss:0.4082 Acc:0.8380\n",
      "Epoch 21/150\n",
      "------------------------------\n",
      "Loss:0.3797 Acc:0.8542\n",
      "Epoch 22/150\n",
      "------------------------------\n",
      "Loss:0.3313 Acc:0.8565\n",
      "Epoch 23/150\n",
      "------------------------------\n",
      "Loss:0.2945 Acc:0.8796\n",
      "Epoch 24/150\n",
      "------------------------------\n",
      "Loss:0.3461 Acc:0.8646\n",
      "Epoch 25/150\n",
      "------------------------------\n",
      "Loss:0.2641 Acc:0.9039\n",
      "Epoch 26/150\n",
      "------------------------------\n",
      "Loss:0.2767 Acc:0.8912\n",
      "Epoch 27/150\n",
      "------------------------------\n",
      "Loss:0.2311 Acc:0.9132\n",
      "Epoch 28/150\n",
      "------------------------------\n",
      "Loss:0.2511 Acc:0.8900\n",
      "Epoch 29/150\n",
      "------------------------------\n",
      "Loss:0.2689 Acc:0.8970\n",
      "Epoch 30/150\n",
      "------------------------------\n",
      "Loss:0.2093 Acc:0.9201\n",
      "Epoch 31/150\n",
      "------------------------------\n",
      "Loss:0.2383 Acc:0.8993\n",
      "Epoch 32/150\n",
      "------------------------------\n",
      "Loss:0.2108 Acc:0.9155\n",
      "Epoch 33/150\n",
      "------------------------------\n",
      "Loss:0.2053 Acc:0.9213\n",
      "Epoch 34/150\n",
      "------------------------------\n",
      "Loss:0.2068 Acc:0.9109\n",
      "Epoch 35/150\n",
      "------------------------------\n",
      "Loss:0.2058 Acc:0.9167\n",
      "Epoch 36/150\n",
      "------------------------------\n",
      "Loss:0.1966 Acc:0.9190\n",
      "Epoch 37/150\n",
      "------------------------------\n",
      "Loss:0.1764 Acc:0.9271\n",
      "Epoch 38/150\n",
      "------------------------------\n",
      "Loss:0.1683 Acc:0.9213\n",
      "Epoch 39/150\n",
      "------------------------------\n",
      "Loss:0.1806 Acc:0.9167\n",
      "Epoch 40/150\n",
      "------------------------------\n",
      "Loss:0.1641 Acc:0.9387\n",
      "Epoch 41/150\n",
      "------------------------------\n",
      "Loss:0.1615 Acc:0.9329\n",
      "Epoch 42/150\n",
      "------------------------------\n",
      "Loss:0.1462 Acc:0.9433\n",
      "Epoch 43/150\n",
      "------------------------------\n",
      "Loss:0.1343 Acc:0.9479\n",
      "Epoch 44/150\n",
      "------------------------------\n",
      "Loss:0.1667 Acc:0.9294\n",
      "Epoch 45/150\n",
      "------------------------------\n",
      "Loss:0.1473 Acc:0.9352\n",
      "Epoch 46/150\n",
      "------------------------------\n",
      "Loss:0.1538 Acc:0.9363\n",
      "Epoch 47/150\n",
      "------------------------------\n",
      "Loss:0.1396 Acc:0.9317\n",
      "Epoch 48/150\n",
      "------------------------------\n",
      "Loss:0.1191 Acc:0.9479\n",
      "Epoch 49/150\n",
      "------------------------------\n",
      "Loss:0.1044 Acc:0.9688\n",
      "Epoch 50/150\n",
      "------------------------------\n",
      "Loss:0.1369 Acc:0.9421\n",
      "Epoch 51/150\n",
      "------------------------------\n",
      "Loss:0.1271 Acc:0.9479\n",
      "Epoch 52/150\n",
      "------------------------------\n",
      "Loss:0.1387 Acc:0.9410\n",
      "Epoch 53/150\n",
      "------------------------------\n",
      "Loss:0.0946 Acc:0.9630\n",
      "Epoch 54/150\n",
      "------------------------------\n",
      "Loss:0.0965 Acc:0.9572\n",
      "Epoch 55/150\n",
      "------------------------------\n",
      "Loss:0.0999 Acc:0.9549\n",
      "Epoch 56/150\n",
      "------------------------------\n",
      "Loss:0.1006 Acc:0.9560\n",
      "Epoch 57/150\n",
      "------------------------------\n",
      "Loss:0.1116 Acc:0.9583\n",
      "Epoch 58/150\n",
      "------------------------------\n",
      "Loss:0.0772 Acc:0.9711\n",
      "Epoch 59/150\n",
      "------------------------------\n",
      "Loss:0.0911 Acc:0.9653\n",
      "Epoch 60/150\n",
      "------------------------------\n",
      "Loss:0.1106 Acc:0.9549\n",
      "Epoch 61/150\n",
      "------------------------------\n",
      "Loss:0.1072 Acc:0.9549\n",
      "Epoch 62/150\n",
      "------------------------------\n",
      "Loss:0.1282 Acc:0.9491\n",
      "Epoch 63/150\n",
      "------------------------------\n",
      "Loss:0.1377 Acc:0.9572\n",
      "Epoch 64/150\n",
      "------------------------------\n",
      "Loss:0.0837 Acc:0.9688\n",
      "Epoch 65/150\n",
      "------------------------------\n",
      "Loss:0.1173 Acc:0.9444\n",
      "Epoch 66/150\n",
      "------------------------------\n",
      "Loss:0.0858 Acc:0.9676\n",
      "Epoch 67/150\n",
      "------------------------------\n",
      "Loss:0.0829 Acc:0.9641\n",
      "Epoch 68/150\n",
      "------------------------------\n",
      "Loss:0.0835 Acc:0.9664\n",
      "Epoch 69/150\n",
      "------------------------------\n",
      "Loss:0.0972 Acc:0.9583\n",
      "Epoch 70/150\n",
      "------------------------------\n",
      "Loss:0.0886 Acc:0.9572\n",
      "Epoch 71/150\n",
      "------------------------------\n",
      "Loss:0.1301 Acc:0.9410\n",
      "Epoch 72/150\n",
      "------------------------------\n",
      "Loss:0.0801 Acc:0.9630\n",
      "Epoch 73/150\n",
      "------------------------------\n",
      "Loss:0.0883 Acc:0.9595\n",
      "Epoch 74/150\n",
      "------------------------------\n",
      "Loss:0.1075 Acc:0.9549\n",
      "Epoch 75/150\n",
      "------------------------------\n",
      "Loss:0.0774 Acc:0.9653\n",
      "Epoch 76/150\n",
      "------------------------------\n",
      "Loss:0.0689 Acc:0.9676\n",
      "Epoch 77/150\n",
      "------------------------------\n",
      "Loss:0.0991 Acc:0.9583\n",
      "Epoch 78/150\n",
      "------------------------------\n",
      "Loss:0.0739 Acc:0.9757\n",
      "Epoch 79/150\n",
      "------------------------------\n",
      "Loss:0.0861 Acc:0.9653\n",
      "Epoch 80/150\n",
      "------------------------------\n",
      "Loss:0.0873 Acc:0.9641\n",
      "Epoch 81/150\n",
      "------------------------------\n",
      "Loss:0.0862 Acc:0.9618\n",
      "Epoch 82/150\n",
      "------------------------------\n",
      "Loss:0.0747 Acc:0.9688\n",
      "Epoch 83/150\n",
      "------------------------------\n",
      "Loss:0.0822 Acc:0.9641\n",
      "Epoch 84/150\n",
      "------------------------------\n",
      "Loss:0.0674 Acc:0.9653\n",
      "Epoch 85/150\n",
      "------------------------------\n",
      "Loss:0.0806 Acc:0.9618\n",
      "Epoch 86/150\n",
      "------------------------------\n",
      "Loss:0.0818 Acc:0.9676\n",
      "Epoch 87/150\n",
      "------------------------------\n",
      "Loss:0.0773 Acc:0.9641\n",
      "Epoch 88/150\n",
      "------------------------------\n",
      "Loss:0.0857 Acc:0.9572\n",
      "Epoch 89/150\n",
      "------------------------------\n",
      "Loss:0.0932 Acc:0.9583\n",
      "Epoch 90/150\n",
      "------------------------------\n",
      "Loss:0.0791 Acc:0.9606\n",
      "Epoch 91/150\n",
      "------------------------------\n",
      "Loss:0.0669 Acc:0.9722\n",
      "Epoch 92/150\n",
      "------------------------------\n",
      "Loss:0.0731 Acc:0.9711\n",
      "Epoch 93/150\n",
      "------------------------------\n",
      "Loss:0.0851 Acc:0.9606\n",
      "Epoch 94/150\n",
      "------------------------------\n",
      "Loss:0.0669 Acc:0.9699\n",
      "Epoch 95/150\n",
      "------------------------------\n",
      "Loss:0.0687 Acc:0.9734\n",
      "Epoch 96/150\n",
      "------------------------------\n",
      "Loss:0.0700 Acc:0.9711\n",
      "Epoch 97/150\n",
      "------------------------------\n",
      "Loss:0.0663 Acc:0.9699\n",
      "Epoch 98/150\n",
      "------------------------------\n",
      "Loss:0.0735 Acc:0.9688\n",
      "Epoch 99/150\n",
      "------------------------------\n",
      "Loss:0.0620 Acc:0.9711\n",
      "Epoch 100/150\n",
      "------------------------------\n",
      "Loss:0.0776 Acc:0.9653\n",
      "Epoch 101/150\n",
      "------------------------------\n",
      "Loss:0.0621 Acc:0.9734\n",
      "Epoch 102/150\n",
      "------------------------------\n",
      "Loss:0.0584 Acc:0.9676\n",
      "Epoch 103/150\n",
      "------------------------------\n",
      "Loss:0.0594 Acc:0.9815\n",
      "Epoch 104/150\n",
      "------------------------------\n",
      "Loss:0.0590 Acc:0.9699\n",
      "Epoch 105/150\n",
      "------------------------------\n",
      "Loss:0.0733 Acc:0.9688\n",
      "Epoch 106/150\n",
      "------------------------------\n",
      "Loss:0.0760 Acc:0.9699\n",
      "Epoch 107/150\n",
      "------------------------------\n",
      "Loss:0.0643 Acc:0.9722\n",
      "Epoch 108/150\n",
      "------------------------------\n",
      "Loss:0.0713 Acc:0.9641\n",
      "Epoch 109/150\n",
      "------------------------------\n",
      "Loss:0.0629 Acc:0.9745\n",
      "Epoch 110/150\n",
      "------------------------------\n",
      "Loss:0.0667 Acc:0.9699\n",
      "Epoch 111/150\n",
      "------------------------------\n",
      "Loss:0.0617 Acc:0.9792\n",
      "Epoch 112/150\n",
      "------------------------------\n",
      "Loss:0.0535 Acc:0.9757\n",
      "Epoch 113/150\n",
      "------------------------------\n",
      "Loss:0.0395 Acc:0.9838\n",
      "Epoch 114/150\n",
      "------------------------------\n",
      "Loss:0.0510 Acc:0.9792\n",
      "Epoch 115/150\n",
      "------------------------------\n",
      "Loss:0.0500 Acc:0.9815\n",
      "Epoch 116/150\n",
      "------------------------------\n",
      "Loss:0.0736 Acc:0.9734\n",
      "Epoch 117/150\n",
      "------------------------------\n",
      "Loss:0.0474 Acc:0.9780\n",
      "Epoch 118/150\n",
      "------------------------------\n",
      "Loss:0.0641 Acc:0.9780\n",
      "Epoch 119/150\n",
      "------------------------------\n",
      "Loss:0.0613 Acc:0.9757\n",
      "Epoch 120/150\n",
      "------------------------------\n",
      "Loss:0.0737 Acc:0.9699\n",
      "Epoch 121/150\n",
      "------------------------------\n",
      "Loss:0.0593 Acc:0.9722\n",
      "Epoch 122/150\n",
      "------------------------------\n",
      "Loss:0.0488 Acc:0.9780\n",
      "Epoch 123/150\n",
      "------------------------------\n",
      "Loss:0.0555 Acc:0.9757\n",
      "Epoch 124/150\n",
      "------------------------------\n",
      "Loss:0.0553 Acc:0.9792\n",
      "Epoch 125/150\n",
      "------------------------------\n",
      "Loss:0.0645 Acc:0.9803\n",
      "Epoch 126/150\n",
      "------------------------------\n",
      "Loss:0.0533 Acc:0.9734\n",
      "Epoch 127/150\n",
      "------------------------------\n",
      "Loss:0.0611 Acc:0.9780\n",
      "Epoch 128/150\n",
      "------------------------------\n",
      "Loss:0.0505 Acc:0.9780\n",
      "Epoch 129/150\n",
      "------------------------------\n",
      "Loss:0.0577 Acc:0.9688\n",
      "Epoch 130/150\n",
      "------------------------------\n",
      "Loss:0.0399 Acc:0.9826\n",
      "Epoch 131/150\n",
      "------------------------------\n",
      "Loss:0.0450 Acc:0.9769\n",
      "Epoch 132/150\n",
      "------------------------------\n",
      "Loss:0.0560 Acc:0.9792\n",
      "Epoch 133/150\n",
      "------------------------------\n",
      "Loss:0.0485 Acc:0.9780\n",
      "Epoch 134/150\n",
      "------------------------------\n",
      "Loss:0.0522 Acc:0.9815\n",
      "Epoch 135/150\n",
      "------------------------------\n",
      "Loss:0.0469 Acc:0.9769\n",
      "Epoch 136/150\n",
      "------------------------------\n",
      "Loss:0.0479 Acc:0.9803\n",
      "Epoch 137/150\n",
      "------------------------------\n",
      "Loss:0.0522 Acc:0.9769\n",
      "Epoch 138/150\n",
      "------------------------------\n",
      "Loss:0.0352 Acc:0.9850\n",
      "Epoch 139/150\n",
      "------------------------------\n",
      "Loss:0.0644 Acc:0.9711\n",
      "Epoch 140/150\n",
      "------------------------------\n",
      "Loss:0.0385 Acc:0.9838\n",
      "Epoch 141/150\n",
      "------------------------------\n",
      "Loss:0.0471 Acc:0.9792\n",
      "Epoch 142/150\n",
      "------------------------------\n",
      "Loss:0.0578 Acc:0.9722\n",
      "Epoch 143/150\n",
      "------------------------------\n",
      "Loss:0.0392 Acc:0.9803\n",
      "Epoch 144/150\n",
      "------------------------------\n",
      "Loss:0.0480 Acc:0.9769\n",
      "Epoch 145/150\n",
      "------------------------------\n",
      "Loss:0.0467 Acc:0.9803\n",
      "Epoch 146/150\n",
      "------------------------------\n",
      "Loss:0.0541 Acc:0.9757\n",
      "Epoch 147/150\n",
      "------------------------------\n",
      "Loss:0.0323 Acc:0.9873\n",
      "Epoch 148/150\n",
      "------------------------------\n",
      "Loss:0.0393 Acc:0.9838\n",
      "Epoch 149/150\n",
      "------------------------------\n",
      "Loss:0.0371 Acc:0.9826\n",
      "Epoch 150/150\n",
      "------------------------------\n",
      "Loss:0.0464 Acc:0.9780\n"
     ]
    }
   ],
   "source": [
    "num_epoch = 150\n",
    "\n",
    "for epoch in range(num_epoch):\n",
    "  print('Epoch {}/{}'.format(epoch+1,num_epoch))\n",
    "  print('---'*10)\n",
    "\n",
    "  running_loss = RunningMetrics() #Calculaer la perdida \n",
    "  running_acc  = RunningMetrics() #Clacular el accuracy\n",
    "\n",
    "  for inputs, target in dataloader:\n",
    "    inputs, target = inputs.to(device), target.to(device) #Pasar los tensores a la gpu\n",
    "    \n",
    "    optimizer.zero_grad() #reiniciar los gradiantes a 0\n",
    "    output = net(inputs)\n",
    "    _, preds = torch.max(output,1)\n",
    "    loss = loss_fn(output, target)\n",
    "\n",
    "    loss.backward()\n",
    "    optimizer.step()\n",
    "\n",
    "    batch_size = inputs.size()[0]\n",
    "    running_loss.update(loss.item()*batch_size, batch_size)\n",
    "    running_acc.update(torch.sum(preds==target).float(), batch_size)\n",
    "\n",
    "  print('Loss:{:.4f} Acc:{:.4f}'.format(running_loss(),running_acc()))\n",
    "\n",
    "\n",
    "\n"
   ]
  },
  {
   "cell_type": "markdown",
   "metadata": {
    "id": "QNtjc08J2OoO"
   },
   "source": [
    "# Regularización"
   ]
  },
  {
   "cell_type": "markdown",
   "metadata": {
    "id": "XYeLlev74ZsZ"
   },
   "source": [
    "### Aplicando metodos de regularizacion dentro de la red neuronal"
   ]
  },
  {
   "cell_type": "code",
   "execution_count": 30,
   "metadata": {
    "id": "W4lw27N92fcG"
   },
   "outputs": [],
   "source": [
    "class NN(nn.Module):\n",
    "  def __init__(self,num_channels):\n",
    "    super().__init__()\n",
    "\n",
    "    self.num_channels = num_channels\n",
    "    \n",
    "    #Capas convoluconales\n",
    "    self.conv1 = nn.Conv2d(3, out_channels= self.num_channels, kernel_size= 3, stride=1, padding=1)\n",
    "    self.bn1   = nn.BatchNorm2d(self.num_channels) # Regularizacion batch norm\n",
    "    self.conv2 = nn.Conv2d(self.num_channels, out_channels= self.num_channels*2, kernel_size= 3, stride=1, padding=1)\n",
    "    self.bn2   = nn.BatchNorm2d(self.num_channels*2)\n",
    "    self.conv3 = nn.Conv2d(self.num_channels*2, out_channels= self.num_channels*4, kernel_size= 3, stride=1, padding=1)\n",
    "    self.bn3   = nn.BatchNorm2d(self.num_channels*4)\n",
    "\n",
    "    # Capas lineales \n",
    "    self.lineal1 = nn.Linear(self.num_channels*4*8*8, out_features= self.num_channels*4)\n",
    "    self.lbn1    = nn.BatchNorm1d(self.num_channels*4)\n",
    "    self.lineal2 = nn.Linear(self.num_channels*4 , out_features= 6)\n",
    "\n",
    "  def forward(self,x):\n",
    "      x = self.bn1(self.conv1(x)) # num_channels x 64 x 64\n",
    "      x = F.relu(F.max_pool2d(x, 2)) #num_channels x 32 x 32\n",
    "      x = self.bn2(self.conv2(x)) # num_channels*2 x 32 x32\n",
    "      x = F.relu(F.max_pool2d(x, 2)) #num_channels*2 x 16 x 16\n",
    "      x = self.bn3(self.conv3(x)) #num_channels*4 x 16 x 16\n",
    "      x = F.relu(F.max_pool2d(x, 2)) #num_channels*4 x 8 x 8\n",
    "\n",
    "      # flatten \n",
    "      x = x.view(-1, self.num_channels*4*8*8)\n",
    "       \n",
    "      # Aplicar las capas lineales \n",
    "      x = F.relu(self.lbn1(self.lineal1(x)))\n",
    "      x = F.dropout(x, p=0.8, training=True) # Drop Out\n",
    "      x = self.lineal2(x)\n",
    "\n",
    "      # Log_softmax\n",
    "      x = F.log_softmax(x,dim=1)\n",
    "\n",
    "      return x"
   ]
  },
  {
   "cell_type": "markdown",
   "metadata": {
    "id": "eJeBKug25Pn2"
   },
   "source": [
    "### Aplicar Data Augmentation"
   ]
  },
  {
   "cell_type": "code",
   "execution_count": 31,
   "metadata": {
    "id": "csPH-cob5OiW"
   },
   "outputs": [],
   "source": [
    "transform_da =  transforms.Compose(   #Compose sirve como un pipeline\n",
    "    [\n",
    "     transforms.RandomHorizontalFlip(),  #Data Augmentation\n",
    "     transforms.ToTensor(),\n",
    "     transforms.Normalize((0.5,0.5,0.5),(0.5,0.5,0.5))\n",
    "])"
   ]
  },
  {
   "cell_type": "markdown",
   "metadata": {
    "id": "SvzAwvSWzbdN"
   },
   "source": [
    "# Test"
   ]
  },
  {
   "cell_type": "code",
   "execution_count": 32,
   "metadata": {
    "id": "u2nyEQ7szgFv"
   },
   "outputs": [],
   "source": [
    "base_dir = 'data/64x64_SIGNS'\n",
    "\n",
    "# Train\n",
    "train_set = SINGSDataset(base_dir, split='train', transform= transform_da)\n",
    "trainloader = DataLoader(train_set, batch_size=32)\n",
    "# Validation\n",
    "val_set = SINGSDataset(base_dir, split='val', transform= transform_da)\n",
    "valloader = DataLoader(val_set, batch_size=32)\n",
    "# Test\n",
    "test_set = SINGSDataset(base_dir, split='test', transform= transform_da)\n",
    "testloader = DataLoader(test_set, batch_size=32)"
   ]
  },
  {
   "cell_type": "code",
   "execution_count": 33,
   "metadata": {
    "id": "WTQMk5jm5jQP"
   },
   "outputs": [],
   "source": [
    "dataloaders = {\n",
    "    'train':trainloader,\n",
    "    'validation':valloader,\n",
    "    'test':testloader\n",
    "}"
   ]
  },
  {
   "cell_type": "markdown",
   "metadata": {
    "id": "KKaFOjJq9_dO"
   },
   "source": [
    "# Optimizacion de hiper parametros"
   ]
  },
  {
   "cell_type": "code",
   "execution_count": 63,
   "metadata": {
    "id": "jhSN1O4q-EVs"
   },
   "outputs": [],
   "source": [
    "def train_and_evaluate(model, optimizer, loss_fn, dataloaders, device, num_epoch = 10, lr = 0.001):\n",
    "  # Cambiar el lr al optimizador ya instanceado \n",
    "  for g in optimizer.param_groups:\n",
    "    g['lr'] = lr\n",
    "  for epoch in range(num_epoch):\n",
    "    print('Epoch {}/{}'.format(epoch+1,num_epoch))\n",
    "    print('---'*10)\n",
    "\n",
    "    for phase in ['train','validation']:\n",
    "      if phase == 'train':\n",
    "        model.train()\n",
    "      else:\n",
    "        model.eval()\n",
    "\n",
    "      running_loss = RunningMetrics() #Calculaer la perdida \n",
    "      running_acc  = RunningMetrics() #Clacular el accuracy\n",
    "      \n",
    "      for inputs, target in dataloader:\n",
    "        inputs, target = inputs.to(device), target.to(device) #Pasar los tensores a la gpu\n",
    "        \n",
    "        optimizer.zero_grad() #reiniciar los gradiantes a 0\n",
    "        \n",
    "        #Para la pahse train\n",
    "        with torch.set_grad_enabled(phase=='train'):\n",
    "\n",
    "          output = net(inputs)\n",
    "          _, preds = torch.max(output,1)\n",
    "          loss = loss_fn(output, target)\n",
    "          if phase == 'train':\n",
    "            loss.backward()\n",
    "            optimizer.step()\n",
    "\n",
    "        batch_size = inputs.size()[0]\n",
    "        running_loss.update(loss.item()*batch_size, batch_size)\n",
    "        running_acc.update(torch.sum(preds==target).float(), batch_size)\n",
    "\n",
    "      print('Loss:{:.4f} Acc:{:.4f}'.format(running_loss(),running_acc()))\n",
    "  \n",
    "  \n",
    "  return model , optimizer"
   ]
  },
  {
   "cell_type": "code",
   "execution_count": 35,
   "metadata": {
    "id": "_qJfBZs3DzN6"
   },
   "outputs": [],
   "source": [
    "lrs = [10**(- random.randint(3,7 )) for _ in range(3)]"
   ]
  },
  {
   "cell_type": "code",
   "execution_count": 66,
   "metadata": {},
   "outputs": [
    {
     "data": {
      "text/plain": [
       "7"
      ]
     },
     "execution_count": 66,
     "metadata": {},
     "output_type": "execute_result"
    }
   ],
   "source": [
    "random.randint(3,7 )"
   ]
  },
  {
   "cell_type": "code",
   "execution_count": 36,
   "metadata": {
    "id": "cqFJIyjZEmb0"
   },
   "outputs": [],
   "source": [
    "net = NN(32).to(device)\n",
    "\n",
    "loss_fn = nn.NLLLoss()\n",
    "optimizer = optim.SGD(net.parameters(), lr=0.001, momentum=0.9)"
   ]
  },
  {
   "cell_type": "code",
   "execution_count": 93,
   "metadata": {},
   "outputs": [
    {
     "data": {
      "text/plain": [
       "0.9"
      ]
     },
     "execution_count": 93,
     "metadata": {},
     "output_type": "execute_result"
    }
   ],
   "source": [
    "optimizer.param_groups[0]['momentum']"
   ]
  },
  {
   "cell_type": "code",
   "execution_count": 64,
   "metadata": {
    "colab": {
     "base_uri": "https://localhost:8080/",
     "height": 184
    },
    "collapsed": true,
    "id": "O94xztBNEPmN",
    "jupyter": {
     "outputs_hidden": true
    },
    "outputId": "b5ff40d3-5b7e-4347-d9b6-2a3fd5e68a3b",
    "tags": []
   },
   "outputs": [
    {
     "name": "stdout",
     "output_type": "stream",
     "text": [
      "Epoch 1/10\n",
      "------------------------------\n",
      "Loss:0.4133 Acc:0.8565\n",
      "Loss:0.3178 Acc:0.8912\n",
      "Epoch 2/10\n",
      "------------------------------\n",
      "Loss:0.4290 Acc:0.8588\n",
      "Loss:0.3552 Acc:0.8727\n",
      "Epoch 3/10\n",
      "------------------------------\n",
      "Loss:0.3689 Acc:0.8704\n",
      "Loss:0.3202 Acc:0.9051\n",
      "Epoch 4/10\n",
      "------------------------------\n",
      "Loss:0.3867 Acc:0.8819\n",
      "Loss:0.3329 Acc:0.8889\n",
      "Epoch 5/10\n",
      "------------------------------\n",
      "Loss:0.4052 Acc:0.8634\n",
      "Loss:0.3450 Acc:0.8866\n",
      "Epoch 6/10\n",
      "------------------------------\n",
      "Loss:0.3844 Acc:0.8657\n",
      "Loss:0.3270 Acc:0.8762\n",
      "Epoch 7/10\n",
      "------------------------------\n",
      "Loss:0.3712 Acc:0.8692\n",
      "Loss:0.3062 Acc:0.8970\n",
      "Epoch 8/10\n",
      "------------------------------\n",
      "Loss:0.3513 Acc:0.8808\n",
      "Loss:0.3246 Acc:0.8877\n",
      "Epoch 9/10\n",
      "------------------------------\n",
      "Loss:0.3413 Acc:0.8993\n",
      "Loss:0.3003 Acc:0.8935\n",
      "Epoch 10/10\n",
      "------------------------------\n",
      "Loss:0.3265 Acc:0.8993\n",
      "Loss:0.2759 Acc:0.9097\n",
      "Epoch 1/10\n",
      "------------------------------\n",
      "Loss:0.3432 Acc:0.8866\n",
      "Loss:0.2740 Acc:0.9086\n",
      "Epoch 2/10\n",
      "------------------------------\n",
      "Loss:0.3231 Acc:0.9005\n",
      "Loss:0.2721 Acc:0.9120\n",
      "Epoch 3/10\n",
      "------------------------------\n",
      "Loss:0.3235 Acc:0.8935\n",
      "Loss:0.2727 Acc:0.9190\n",
      "Epoch 4/10\n",
      "------------------------------\n",
      "Loss:0.3253 Acc:0.8831\n",
      "Loss:0.3033 Acc:0.9190\n",
      "Epoch 5/10\n",
      "------------------------------\n",
      "Loss:0.3035 Acc:0.8981\n",
      "Loss:0.2655 Acc:0.9144\n",
      "Epoch 6/10\n",
      "------------------------------\n",
      "Loss:0.3203 Acc:0.8993\n",
      "Loss:0.2732 Acc:0.9097\n",
      "Epoch 7/10\n",
      "------------------------------\n",
      "Loss:0.3060 Acc:0.9051\n",
      "Loss:0.2662 Acc:0.9109\n",
      "Epoch 8/10\n",
      "------------------------------\n",
      "Loss:0.2979 Acc:0.9120\n",
      "Loss:0.2692 Acc:0.9109\n",
      "Epoch 9/10\n",
      "------------------------------\n",
      "Loss:0.2927 Acc:0.9028\n",
      "Loss:0.2057 Acc:0.9410\n",
      "Epoch 10/10\n",
      "------------------------------\n",
      "Loss:0.3032 Acc:0.8970\n",
      "Loss:0.2678 Acc:0.9167\n",
      "Epoch 1/10\n",
      "------------------------------\n",
      "Loss:0.2514 Acc:0.9236\n",
      "Loss:0.1886 Acc:0.9491\n",
      "Epoch 2/10\n",
      "------------------------------\n",
      "Loss:0.1941 Acc:0.9433\n",
      "Loss:0.1366 Acc:0.9769\n",
      "Epoch 3/10\n",
      "------------------------------\n",
      "Loss:0.1815 Acc:0.9583\n",
      "Loss:0.1520 Acc:0.9606\n",
      "Epoch 4/10\n",
      "------------------------------\n",
      "Loss:0.1625 Acc:0.9664\n",
      "Loss:0.1402 Acc:0.9699\n",
      "Epoch 5/10\n",
      "------------------------------\n",
      "Loss:0.1468 Acc:0.9734\n",
      "Loss:0.1227 Acc:0.9757\n",
      "Epoch 6/10\n",
      "------------------------------\n",
      "Loss:0.1335 Acc:0.9745\n",
      "Loss:0.1180 Acc:0.9792\n",
      "Epoch 7/10\n",
      "------------------------------\n",
      "Loss:0.1360 Acc:0.9769\n",
      "Loss:0.1141 Acc:0.9792\n",
      "Epoch 8/10\n",
      "------------------------------\n",
      "Loss:0.1168 Acc:0.9757\n",
      "Loss:0.0957 Acc:0.9815\n",
      "Epoch 9/10\n",
      "------------------------------\n",
      "Loss:0.1135 Acc:0.9838\n",
      "Loss:0.0970 Acc:0.9803\n",
      "Epoch 10/10\n",
      "------------------------------\n",
      "Loss:0.1189 Acc:0.9792\n",
      "Loss:0.0959 Acc:0.9884\n"
     ]
    }
   ],
   "source": [
    "for lr in lrs:\n",
    "  models = train_and_evaluate(net, optimizer, loss_fn, dataloaders, device, 10, lr)"
   ]
  },
  {
   "cell_type": "code",
   "execution_count": 101,
   "metadata": {},
   "outputs": [],
   "source": [
    "A = [1,2]\n",
    "B = [4,5]"
   ]
  },
  {
   "cell_type": "code",
   "execution_count": 96,
   "metadata": {},
   "outputs": [],
   "source": [
    "A.append(B)"
   ]
  },
  {
   "cell_type": "code",
   "execution_count": 103,
   "metadata": {},
   "outputs": [
    {
     "data": {
      "text/plain": [
       "[1, 2, 4, 5]"
      ]
     },
     "execution_count": 103,
     "metadata": {},
     "output_type": "execute_result"
    }
   ],
   "source": [
    "A"
   ]
  },
  {
   "cell_type": "code",
   "execution_count": 102,
   "metadata": {},
   "outputs": [],
   "source": [
    "A.extend(B)"
   ]
  }
 ],
 "metadata": {
  "accelerator": "GPU",
  "colab": {
   "collapsed_sections": [
    "9iFNCFr604AW",
    "Lbs8HCAts-Ch",
    "WI3d1Un4s2YF",
    "yrbCqgW3uoWP",
    "O6BsSdyvutxW"
   ],
   "name": "RedConvolucional_pytorch.ipynb",
   "provenance": []
  },
  "kernelspec": {
   "display_name": "IA",
   "language": "python",
   "name": "ia"
  },
  "language_info": {
   "codemirror_mode": {
    "name": "ipython",
    "version": 3
   },
   "file_extension": ".py",
   "mimetype": "text/x-python",
   "name": "python",
   "nbconvert_exporter": "python",
   "pygments_lexer": "ipython3",
   "version": "3.8.10"
  }
 },
 "nbformat": 4,
 "nbformat_minor": 4
}
