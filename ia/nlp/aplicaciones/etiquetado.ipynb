{
 "cells": [
  {
   "cell_type": "code",
   "execution_count": 1,
   "id": "b84bc98d-e6ef-418e-a749-e838bc8718e5",
   "metadata": {},
   "outputs": [],
   "source": [
    "import nltk\n",
    "from nltk import word_tokenize"
   ]
  },
  {
   "cell_type": "markdown",
   "id": "6f71c7e4-e1bd-4e13-88ac-f96f2d235a41",
   "metadata": {},
   "source": [
    "# Etiqueatdo en ingles"
   ]
  },
  {
   "cell_type": "code",
   "execution_count": 2,
   "id": "c3fc5386-0ab3-4721-ae47-87c1d292b04e",
   "metadata": {},
   "outputs": [
    {
     "name": "stderr",
     "output_type": "stream",
     "text": [
      "[nltk_data] Downloading package punkt to /home/cesar/nltk_data...\n",
      "[nltk_data]   Package punkt is already up-to-date!\n",
      "[nltk_data] Downloading package averaged_perceptron_tagger to\n",
      "[nltk_data]     /home/cesar/nltk_data...\n",
      "[nltk_data]   Package averaged_perceptron_tagger is already up-to-\n",
      "[nltk_data]       date!\n"
     ]
    },
    {
     "data": {
      "text/plain": [
       "True"
      ]
     },
     "execution_count": 2,
     "metadata": {},
     "output_type": "execute_result"
    }
   ],
   "source": [
    "nltk.download('punkt') #Tokenizador\n",
    "nltk.download('averaged_perceptron_tagger') #Etiquetador"
   ]
  },
  {
   "cell_type": "code",
   "execution_count": 3,
   "id": "e802a53b-9519-4b9d-9f7e-e990c34acbb6",
   "metadata": {},
   "outputs": [
    {
     "data": {
      "text/plain": [
       "[('I', 'PRP'),\n",
       " ('am', 'VBP'),\n",
       " ('enjoying', 'VBG'),\n",
       " ('today', 'NN'),\n",
       " ('with', 'IN'),\n",
       " ('my', 'PRP$'),\n",
       " ('friends', 'NNS')]"
      ]
     },
     "execution_count": 3,
     "metadata": {},
     "output_type": "execute_result"
    }
   ],
   "source": [
    "text = word_tokenize('I am enjoying today with my friends') #Tokenizar\n",
    "nltk.pos_tag(text)"
   ]
  },
  {
   "cell_type": "markdown",
   "id": "d906288b-d3ba-40f2-aba6-58aaa0155421",
   "metadata": {},
   "source": [
    "Extraer el significado de los tag"
   ]
  },
  {
   "cell_type": "code",
   "execution_count": 4,
   "id": "8b13b536-a151-4491-8c54-16411e70d785",
   "metadata": {
    "tags": []
   },
   "outputs": [
    {
     "name": "stderr",
     "output_type": "stream",
     "text": [
      "[nltk_data] Downloading package tagsets to /home/cesar/nltk_data...\n",
      "[nltk_data]   Package tagsets is already up-to-date!\n"
     ]
    },
    {
     "data": {
      "text/plain": [
       "True"
      ]
     },
     "execution_count": 4,
     "metadata": {},
     "output_type": "execute_result"
    }
   ],
   "source": [
    "nltk.download('tagsets')"
   ]
  },
  {
   "cell_type": "markdown",
   "id": "e86f6d60-5b5b-41eb-81c0-ccd131ad8e64",
   "metadata": {},
   "source": [
    "## Categoria gramatical :"
   ]
  },
  {
   "cell_type": "code",
   "execution_count": 5,
   "id": "355c66b1-f85a-436c-8f8d-8574bae47e77",
   "metadata": {},
   "outputs": [
    {
     "name": "stdout",
     "output_type": "stream",
     "text": [
      "PRP: pronoun, personal\n",
      "    hers herself him himself hisself it itself me myself one oneself ours\n",
      "    ourselves ownself self she thee theirs them themselves they thou thy us\n",
      "None\n",
      "VBP: verb, present tense, not 3rd person singular\n",
      "    predominate wrap resort sue twist spill cure lengthen brush terminate\n",
      "    appear tend stray glisten obtain comprise detest tease attract\n",
      "    emphasize mold postpone sever return wag ...\n",
      "None\n",
      "VBG: verb, present participle or gerund\n",
      "    telegraphing stirring focusing angering judging stalling lactating\n",
      "    hankerin' alleging veering capping approaching traveling besieging\n",
      "    encrypting interrupting erasing wincing ...\n",
      "None\n",
      "NN: noun, common, singular or mass\n",
      "    common-carrier cabbage knuckle-duster Casino afghan shed thermostat\n",
      "    investment slide humour falloff slick wind hyena override subhumanity\n",
      "    machinist ...\n",
      "None\n",
      "IN: preposition or conjunction, subordinating\n",
      "    astride among uppon whether out inside pro despite on by throughout\n",
      "    below within for towards near behind atop around if like until below\n",
      "    next into if beside ...\n",
      "None\n",
      "PRP$: pronoun, possessive\n",
      "    her his mine my our ours their thy your\n",
      "None\n",
      "NNS: noun, common, plural\n",
      "    undergraduates scotches bric-a-brac products bodyguards facets coasts\n",
      "    divestitures storehouses designs clubs fragrances averages\n",
      "    subjectivists apprehensions muses factory-jobs ...\n",
      "None\n"
     ]
    }
   ],
   "source": [
    "for tag in [t for (w,t) in nltk.pos_tag(text)]:\n",
    "    print(nltk.help.upenn_tagset(tag))"
   ]
  },
  {
   "cell_type": "markdown",
   "id": "0a321a18-c0ec-46cf-ab89-8e022b325773",
   "metadata": {},
   "source": [
    "## Palabra homónimas "
   ]
  },
  {
   "cell_type": "markdown",
   "id": "068b573a-4832-41df-8e17-7189259a8bbb",
   "metadata": {},
   "source": [
    "La sentencia que se va a porcesar tiene una misma palabra que según la posición su sifnificado cambia."
   ]
  },
  {
   "cell_type": "code",
   "execution_count": 6,
   "id": "c5ed9bcb-7f66-446a-bba8-070f975b1590",
   "metadata": {},
   "outputs": [
    {
     "data": {
      "text/plain": [
       "[('They', 'PRP'),\n",
       " ('do', 'VBP'),\n",
       " ('not', 'RB'),\n",
       " ('permit', 'VB'),\n",
       " ('other', 'JJ'),\n",
       " ('people', 'NNS'),\n",
       " ('to', 'TO'),\n",
       " ('get', 'VB'),\n",
       " ('residence', 'NN'),\n",
       " ('permit', 'NN')]"
      ]
     },
     "execution_count": 6,
     "metadata": {},
     "output_type": "execute_result"
    }
   ],
   "source": [
    "text = word_tokenize('They do not permit other people to get residence permit')\n",
    "nltk.pos_tag(text)"
   ]
  },
  {
   "cell_type": "markdown",
   "id": "885165a3-663d-4219-b999-caa376518f0a",
   "metadata": {},
   "source": [
    "El procesamiento logró etiquetar la palabra primero como un verbo y luego como un sustantivo"
   ]
  },
  {
   "cell_type": "markdown",
   "id": "9f795ec2-8c18-4d3e-b57e-6c6942786251",
   "metadata": {},
   "source": [
    "# Etiquetado en español"
   ]
  },
  {
   "cell_type": "markdown",
   "id": "a1a31bc8-7f24-4b2c-b906-de8ca03f4f2a",
   "metadata": {},
   "source": [
    "El etiquetado en español no cuenta con algoritmos pre-entrenados, por lo que tengo que entrenar el modelo"
   ]
  },
  {
   "cell_type": "code",
   "execution_count": 7,
   "id": "ce5f3bdc-73e6-4674-8c46-4b5302fd9897",
   "metadata": {},
   "outputs": [],
   "source": [
    "from nltk.corpus import cess_esp as cess\n",
    "from nltk import UnigramTagger as ut #Clasificador basado en unigrama\n",
    "from nltk import BigramTagger as bt  #Clasificador basado en bigrama"
   ]
  },
  {
   "cell_type": "markdown",
   "id": "01105163-97fe-4a17-bc3b-2a69dc14ae19",
   "metadata": {},
   "source": [
    "## Por Unigramas"
   ]
  },
  {
   "cell_type": "code",
   "execution_count": 8,
   "id": "ab5c87fb-923f-47a0-98dc-e476e40f1bc0",
   "metadata": {},
   "outputs": [
    {
     "data": {
      "text/plain": [
       "0.8069484240687679"
      ]
     },
     "execution_count": 8,
     "metadata": {},
     "output_type": "execute_result"
    }
   ],
   "source": [
    "cess_sents = cess.tagged_sents() #Separo por frase\n",
    "fraction = int(len(cess_sents)*90/100)\n",
    "uni_tagger = ut(cess_sents[:fraction])\n",
    "uni_tagger.evaluate(cess_sents[fraction+1:])"
   ]
  },
  {
   "cell_type": "markdown",
   "id": "b94f7aae-5d73-44dc-8cb2-f0b9afeabcfc",
   "metadata": {},
   "source": [
    "## Por Bigramas"
   ]
  },
  {
   "cell_type": "code",
   "execution_count": 9,
   "id": "f3149932-050d-48c0-9573-f8fcad010247",
   "metadata": {},
   "outputs": [
    {
     "data": {
      "text/plain": [
       "0.1095272206303725"
      ]
     },
     "execution_count": 9,
     "metadata": {},
     "output_type": "execute_result"
    }
   ],
   "source": [
    "cess_sents = cess.tagged_sents() #Separo por frase\n",
    "fraction = int(len(cess_sents)*90/100)\n",
    "bi_tagger = bt(cess_sents[:fraction])\n",
    "bi_tagger.evaluate(cess_sents[fraction+1:])"
   ]
  },
  {
   "cell_type": "markdown",
   "id": "c0adaddc-1eaa-48bd-9028-df21d26c1756",
   "metadata": {},
   "source": [
    "El etiquetado por bigrama es significativamente menos eficiente, por lo que se recomienda no usarlo"
   ]
  },
  {
   "cell_type": "markdown",
   "id": "5c35436d-f6f4-47c9-b5a6-c85f0bc9c10e",
   "metadata": {},
   "source": [
    "## Etiquetado"
   ]
  },
  {
   "cell_type": "code",
   "execution_count": 10,
   "id": "b7209b92-aef3-406e-b924-89e76f37fb9b",
   "metadata": {},
   "outputs": [
    {
     "data": {
      "text/plain": [
       "[('Yo', 'pp1csn00'),\n",
       " ('soy', 'vsip1s0'),\n",
       " ('una', 'di0fs0'),\n",
       " ('persona', 'ncfs000'),\n",
       " ('amable', None)]"
      ]
     },
     "execution_count": 10,
     "metadata": {},
     "output_type": "execute_result"
    }
   ],
   "source": [
    "uni_tagger.tag('Yo soy una persona amable'.split(' '))"
   ]
  },
  {
   "cell_type": "markdown",
   "id": "40856388-3f04-441a-87dd-f52fabcf89a5",
   "metadata": {},
   "source": [
    "## Usando Stanza"
   ]
  },
  {
   "cell_type": "code",
   "execution_count": 11,
   "id": "0bedd82b-ede0-4e8e-808f-da499de4630b",
   "metadata": {},
   "outputs": [],
   "source": [
    "import stanza"
   ]
  },
  {
   "cell_type": "code",
   "execution_count": 12,
   "id": "c4252d85-bb54-4e61-aa8b-2960a01f4f22",
   "metadata": {},
   "outputs": [
    {
     "data": {
      "application/vnd.jupyter.widget-view+json": {
       "model_id": "9ce88bb8c9f8408b85430ef58f2c9b4b",
       "version_major": 2,
       "version_minor": 0
      },
      "text/plain": [
       "HBox(children=(HTML(value='Downloading https://raw.githubusercontent.com/stanfordnlp/stanza-resources/main/res…"
      ]
     },
     "metadata": {},
     "output_type": "display_data"
    },
    {
     "name": "stderr",
     "output_type": "stream",
     "text": [
      "2021-07-13 22:53:33 INFO: Downloading default packages for language: es (Spanish)...\n"
     ]
    },
    {
     "name": "stdout",
     "output_type": "stream",
     "text": [
      "\n"
     ]
    },
    {
     "name": "stderr",
     "output_type": "stream",
     "text": [
      "2021-07-13 22:53:35 INFO: File exists: /home/cesar/stanza_resources/es/default.zip.\n",
      "2021-07-13 22:53:41 INFO: Finished downloading models and saved to /home/cesar/stanza_resources.\n"
     ]
    }
   ],
   "source": [
    "stanza.download('es')"
   ]
  },
  {
   "cell_type": "code",
   "execution_count": 13,
   "id": "39d412a3-d3b4-4e03-864e-fe2b5f82f9ea",
   "metadata": {},
   "outputs": [
    {
     "name": "stderr",
     "output_type": "stream",
     "text": [
      "2021-07-13 22:53:41 WARNING: Language es package default expects mwt, which has been added\n",
      "2021-07-13 22:53:41 INFO: Loading these models for language: es (Spanish):\n",
      "=======================\n",
      "| Processor | Package |\n",
      "-----------------------\n",
      "| tokenize  | ancora  |\n",
      "| mwt       | ancora  |\n",
      "| pos       | ancora  |\n",
      "=======================\n",
      "\n",
      "2021-07-13 22:53:41 INFO: Use device: cpu\n",
      "2021-07-13 22:53:41 INFO: Loading: tokenize\n",
      "2021-07-13 22:53:41 INFO: Loading: mwt\n",
      "2021-07-13 22:53:41 INFO: Loading: pos\n",
      "2021-07-13 22:53:41 INFO: Done loading processors!\n"
     ]
    }
   ],
   "source": [
    "nlp = stanza.Pipeline('es', processors='tokenize,pos', use_gpu=True) #Crear un pipeline de procesamiento de texto\n",
    "doc = nlp('Yo soy una persona muy inteligente y valiosa')"
   ]
  },
  {
   "cell_type": "code",
   "execution_count": 14,
   "id": "e2bb9d6a-4f40-4745-a320-aaf07fabd659",
   "metadata": {},
   "outputs": [
    {
     "name": "stdout",
     "output_type": "stream",
     "text": [
      "Yo PRON\n",
      "soy AUX\n",
      "una DET\n",
      "persona NOUN\n",
      "muy ADV\n",
      "inteligente ADJ\n",
      "y CCONJ\n",
      "valiosa ADJ\n"
     ]
    }
   ],
   "source": [
    "for sentence in doc.sentences:\n",
    "    for w in sentence.words:\n",
    "        print(w.text,w.pos)"
   ]
  }
 ],
 "metadata": {
  "kernelspec": {
   "display_name": "IA",
   "language": "python",
   "name": "ia"
  },
  "language_info": {
   "codemirror_mode": {
    "name": "ipython",
    "version": 3
   },
   "file_extension": ".py",
   "mimetype": "text/x-python",
   "name": "python",
   "nbconvert_exporter": "python",
   "pygments_lexer": "ipython3",
   "version": "3.8.10"
  }
 },
 "nbformat": 4,
 "nbformat_minor": 5
}
