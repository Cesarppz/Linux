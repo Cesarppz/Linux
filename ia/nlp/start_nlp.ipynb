{
 "cells": [
  {
   "cell_type": "code",
   "execution_count": 32,
   "id": "13bcf6e1-2f75-4c46-989a-a9ac87fab55b",
   "metadata": {},
   "outputs": [],
   "source": [
    "import nltk \n",
    "import re\n",
    "import numpy as np\n",
    "import matplotlib.pyplot as plt"
   ]
  },
  {
   "cell_type": "code",
   "execution_count": 4,
   "id": "26a0d2aa-c843-4524-a88c-45c933a4b8a0",
   "metadata": {
    "collapsed": true,
    "jupyter": {
     "outputs_hidden": true
    },
    "tags": []
   },
   "outputs": [
    {
     "name": "stderr",
     "output_type": "stream",
     "text": [
      "[nltk_data] Downloading package cess_esp to /home/cesar/nltk_data...\n",
      "[nltk_data]   Unzipping corpora/cess_esp.zip.\n"
     ]
    },
    {
     "data": {
      "text/plain": [
       "True"
      ]
     },
     "execution_count": 4,
     "metadata": {},
     "output_type": "execute_result"
    }
   ],
   "source": [
    "nltk.download('cess_esp')"
   ]
  },
  {
   "cell_type": "code",
   "execution_count": 7,
   "id": "59c77e6d-34c0-4bb2-94eb-8030e9a31a11",
   "metadata": {},
   "outputs": [],
   "source": [
    "corpus = nltk.corpus.cess_esp.sents()"
   ]
  },
  {
   "cell_type": "code",
   "execution_count": 17,
   "id": "6467f2eb-397b-401d-9376-01f3c9e5a80f",
   "metadata": {},
   "outputs": [
    {
     "name": "stdout",
     "output_type": "stream",
     "text": [
      "[['El', 'grupo', 'estatal', 'Electricité_de_France', '-Fpa-', 'EDF', '-Fpt-', 'anunció', 'hoy', ',', 'jueves', ',', 'la', 'compra', 'del', '51_por_ciento', 'de', 'la', 'empresa', 'mexicana', 'Electricidad_Águila_de_Altamira', '-Fpa-', 'EAA', '-Fpt-', ',', 'creada', 'por', 'el', 'japonés', 'Mitsubishi_Corporation', 'para', 'poner_en_marcha', 'una', 'central', 'de', 'gas', 'de', '495', 'megavatios', '.']]\n",
      "\n",
      "Size of the list: 6030\n"
     ]
    }
   ],
   "source": [
    "print(corpus[:1])\n",
    "print('\\nSize of the list:',len(corpus))"
   ]
  },
  {
   "cell_type": "markdown",
   "id": "b7aa8120-b814-42b1-a9d8-46eb6d26518d",
   "metadata": {},
   "source": [
    "Hacer que todos los tokens esten en una sola lista, y no una lista de listas"
   ]
  },
  {
   "cell_type": "code",
   "execution_count": 18,
   "id": "6c2bc30b-ded3-46ee-a828-68ee3b68953c",
   "metadata": {},
   "outputs": [],
   "source": [
    "flatten = [w for l in corpus for w in l]"
   ]
  },
  {
   "cell_type": "code",
   "execution_count": 20,
   "id": "d3e8c08f-1773-4542-a468-a24f178a06e1",
   "metadata": {},
   "outputs": [
    {
     "name": "stdout",
     "output_type": "stream",
     "text": [
      "['El', 'grupo', 'estatal', 'Electricité_de_France', '-Fpa-', 'EDF', '-Fpt-', 'anunció', 'hoy', ',', 'jueves', ',', 'la', 'compra', 'del', '51_por_ciento', 'de', 'la', 'empresa', 'mexicana']\n"
     ]
    },
    {
     "data": {
      "text/plain": [
       "192686"
      ]
     },
     "execution_count": 20,
     "metadata": {},
     "output_type": "execute_result"
    }
   ],
   "source": [
    "print(flatten[:20])\n",
    "len(flatten)"
   ]
  },
  {
   "cell_type": "markdown",
   "id": "6dd22536-60fc-4bbf-aa9d-fd60c71352b3",
   "metadata": {},
   "source": [
    "## Construir un tokenizador"
   ]
  },
  {
   "cell_type": "code",
   "execution_count": 21,
   "id": "19195f25-eea8-4ec7-8184-84dd53d556cc",
   "metadata": {},
   "outputs": [],
   "source": [
    "texto = \"\"\" Cuando sea el rey del mundo (imaginaba él en su cabeza) no tendré que  preocuparme por estas bobadas. \n",
    "            Era solo un niño de 7 años, pero pensaba que podría ser cualquier cosa que su imaginación le permitiera \n",
    "            visualizar en su cabeza ...\"\"\" "
   ]
  },
  {
   "cell_type": "code",
   "execution_count": 24,
   "id": "b5658856-e7fe-456e-86a5-50a13f6a0c5a",
   "metadata": {
    "collapsed": true,
    "jupyter": {
     "outputs_hidden": true
    },
    "tags": []
   },
   "outputs": [
    {
     "data": {
      "text/plain": [
       "['',\n",
       " 'Cuando',\n",
       " 'sea',\n",
       " 'el',\n",
       " 'rey',\n",
       " 'del',\n",
       " 'mundo',\n",
       " 'imaginaba',\n",
       " 'él',\n",
       " 'en',\n",
       " 'su',\n",
       " 'cabeza',\n",
       " 'no',\n",
       " 'tendré',\n",
       " 'que',\n",
       " 'preocuparme',\n",
       " 'por',\n",
       " 'estas',\n",
       " 'bobadas',\n",
       " 'Era',\n",
       " 'solo',\n",
       " 'un',\n",
       " 'niño',\n",
       " 'de',\n",
       " '7',\n",
       " 'años',\n",
       " 'pero',\n",
       " 'pensaba',\n",
       " 'que',\n",
       " 'podría',\n",
       " 'ser',\n",
       " 'cualquier',\n",
       " 'cosa',\n",
       " 'que',\n",
       " 'su',\n",
       " 'imaginación',\n",
       " 'le',\n",
       " 'permitiera',\n",
       " 'visualizar',\n",
       " 'en',\n",
       " 'su',\n",
       " 'cabeza',\n",
       " '']"
      ]
     },
     "execution_count": 24,
     "metadata": {},
     "output_type": "execute_result"
    }
   ],
   "source": [
    "re.split(r'[\\s\\W]+',texto)"
   ]
  },
  {
   "cell_type": "code",
   "execution_count": 25,
   "id": "53ca2dc6-b019-43b2-b913-0dfd1b9c7467",
   "metadata": {},
   "outputs": [],
   "source": [
    "texto = 'En los E.U. esa postal vale $15.50 ...'"
   ]
  },
  {
   "cell_type": "markdown",
   "id": "3a0dda4d-8199-4e3b-b85f-87d6ddff1b83",
   "metadata": {},
   "source": [
    "Para textos más complejos tengo que utilizar expresiones regulares más elaboradas. NLTK tiene una funcioón para toenizar basada en expresiones regulares"
   ]
  },
  {
   "cell_type": "code",
   "execution_count": 30,
   "id": "ce3ac60b-1724-4392-b0af-6de8cb7412da",
   "metadata": {},
   "outputs": [],
   "source": [
    "pattern = r'''(?x)                  # Flag para iniciar el modo verbose\n",
    "              (?:[A-Z]\\.)+            # Hace match con abreviaciones como U.S.A.\n",
    "              | \\w+(?:-\\w+)*         # Hace match con palabras que pueden tener un guión interno\n",
    "              | \\$?\\d+(?:\\.\\d+)?%?  # Hace match con dinero o porcentajes como $15.5 o 100%\n",
    "              | \\.\\.\\.              # Hace match con puntos suspensivos\n",
    "              | [][.,;\"'?():-_`]    # Hace match con signos de puntuación\n",
    "'''"
   ]
  },
  {
   "cell_type": "code",
   "execution_count": 31,
   "id": "092fe2fd-49e2-4cd8-b813-d8c239f0ad36",
   "metadata": {},
   "outputs": [
    {
     "data": {
      "text/plain": [
       "['En', 'los', 'E.U.', 'esa', 'postal', 'vale', '$15.50', '...']"
      ]
     },
     "execution_count": 31,
     "metadata": {},
     "output_type": "execute_result"
    }
   ],
   "source": [
    "nltk.regexp_tokenize(texto,pattern)"
   ]
  },
  {
   "cell_type": "code",
   "execution_count": 29,
   "id": "c043b3ba-ebb8-4e5e-b5b9-cf4464571ebc",
   "metadata": {},
   "outputs": [
    {
     "data": {
      "text/plain": [
       "['En los E.U. esa postal vale $15.50 ...']"
      ]
     },
     "execution_count": 29,
     "metadata": {},
     "output_type": "execute_result"
    }
   ],
   "source": [
    "nltk.tokenize.line_tokenize(texto)"
   ]
  },
  {
   "cell_type": "markdown",
   "id": "98cadd81-1f76-474b-b049-b995dd908a2c",
   "metadata": {},
   "source": [
    "## Riqueza lexica en un texto"
   ]
  },
  {
   "cell_type": "markdown",
   "id": "b58aae61-5c4a-4b6d-ba62-b108a040b5ee",
   "metadata": {},
   "source": [
    "$$ R_l = \\frac{\\text{total de palabras únicas}}{\\text{total de palabras}} = \\frac{\\text{longitud del vocabulario}}{\\text{longitud del texto}}$$ "
   ]
  }
 ],
 "metadata": {
  "kernelspec": {
   "display_name": "IA",
   "language": "python",
   "name": "ia"
  },
  "language_info": {
   "codemirror_mode": {
    "name": "ipython",
    "version": 3
   },
   "file_extension": ".py",
   "mimetype": "text/x-python",
   "name": "python",
   "nbconvert_exporter": "python",
   "pygments_lexer": "ipython3",
   "version": "3.8.10"
  }
 },
 "nbformat": 4,
 "nbformat_minor": 5
}
