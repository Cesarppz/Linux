{
 "cells": [
  {
   "cell_type": "code",
   "execution_count": 61,
   "id": "13bcf6e1-2f75-4c46-989a-a9ac87fab55b",
   "metadata": {},
   "outputs": [],
   "source": [
    "import pandas as pd\n",
    "import numpy as np\n",
    "import matplotlib.pyplot as plt\n",
    "import plotly.express as px\n",
    "\n",
    "import nltk \n",
    "from nltk.corpus import stopwords\n",
    "from nltk.util import ngrams\n",
    "from nltk.collocations import BigramCollocationFinder\n",
    "from nltk.corpus import swadesh #Traducir"
   ]
  },
  {
   "cell_type": "code",
   "execution_count": 2,
   "id": "26a0d2aa-c843-4524-a88c-45c933a4b8a0",
   "metadata": {
    "tags": []
   },
   "outputs": [
    {
     "name": "stderr",
     "output_type": "stream",
     "text": [
      "[nltk_data] Downloading package cess_esp to /home/cesar/nltk_data...\n",
      "[nltk_data]   Package cess_esp is already up-to-date!\n"
     ]
    },
    {
     "data": {
      "text/plain": [
       "True"
      ]
     },
     "execution_count": 2,
     "metadata": {},
     "output_type": "execute_result"
    }
   ],
   "source": [
    "nltk.download('cess_esp')"
   ]
  },
  {
   "cell_type": "code",
   "execution_count": 3,
   "id": "59c77e6d-34c0-4bb2-94eb-8030e9a31a11",
   "metadata": {},
   "outputs": [],
   "source": [
    "corpus = nltk.corpus.cess_esp.sents()"
   ]
  },
  {
   "cell_type": "code",
   "execution_count": 4,
   "id": "6467f2eb-397b-401d-9376-01f3c9e5a80f",
   "metadata": {},
   "outputs": [
    {
     "name": "stdout",
     "output_type": "stream",
     "text": [
      "[['El', 'grupo', 'estatal', 'Electricité_de_France', '-Fpa-', 'EDF', '-Fpt-', 'anunció', 'hoy', ',', 'jueves', ',', 'la', 'compra', 'del', '51_por_ciento', 'de', 'la', 'empresa', 'mexicana', 'Electricidad_Águila_de_Altamira', '-Fpa-', 'EAA', '-Fpt-', ',', 'creada', 'por', 'el', 'japonés', 'Mitsubishi_Corporation', 'para', 'poner_en_marcha', 'una', 'central', 'de', 'gas', 'de', '495', 'megavatios', '.']]\n",
      "\n",
      "Size of the list: 6030\n"
     ]
    }
   ],
   "source": [
    "print(corpus[:1])\n",
    "print('\\nSize of the list:',len(corpus))"
   ]
  },
  {
   "cell_type": "markdown",
   "id": "b7aa8120-b814-42b1-a9d8-46eb6d26518d",
   "metadata": {},
   "source": [
    "Hacer que todos los tokens esten en una sola lista, y no una lista de listas"
   ]
  },
  {
   "cell_type": "code",
   "execution_count": 5,
   "id": "6c2bc30b-ded3-46ee-a828-68ee3b68953c",
   "metadata": {},
   "outputs": [],
   "source": [
    "flatten = [w for l in corpus for w in l]"
   ]
  },
  {
   "cell_type": "code",
   "execution_count": 6,
   "id": "d3e8c08f-1773-4542-a468-a24f178a06e1",
   "metadata": {},
   "outputs": [
    {
     "name": "stdout",
     "output_type": "stream",
     "text": [
      "['El', 'grupo', 'estatal', 'Electricité_de_France', '-Fpa-', 'EDF', '-Fpt-', 'anunció', 'hoy', ',', 'jueves', ',', 'la', 'compra', 'del', '51_por_ciento', 'de', 'la', 'empresa', 'mexicana']\n"
     ]
    },
    {
     "data": {
      "text/plain": [
       "192686"
      ]
     },
     "execution_count": 6,
     "metadata": {},
     "output_type": "execute_result"
    }
   ],
   "source": [
    "print(flatten[:20])\n",
    "len(flatten)"
   ]
  },
  {
   "cell_type": "markdown",
   "id": "6dd22536-60fc-4bbf-aa9d-fd60c71352b3",
   "metadata": {},
   "source": [
    "# Construir un tokenizador"
   ]
  },
  {
   "cell_type": "code",
   "execution_count": 7,
   "id": "19195f25-eea8-4ec7-8184-84dd53d556cc",
   "metadata": {},
   "outputs": [],
   "source": [
    "texto = \"\"\" Cuando sea el rey del mundo (imaginaba él en su cabeza) no tendré que  preocuparme por estas bobadas. \n",
    "            Era solo un niño de 7 años, pero pensaba que podría ser cualquier cosa que su imaginación le permitiera \n",
    "            visualizar en su cabeza ...\"\"\" "
   ]
  },
  {
   "cell_type": "code",
   "execution_count": 8,
   "id": "b5658856-e7fe-456e-86a5-50a13f6a0c5a",
   "metadata": {
    "collapsed": true,
    "jupyter": {
     "outputs_hidden": true
    },
    "tags": []
   },
   "outputs": [
    {
     "data": {
      "text/plain": [
       "['',\n",
       " 'Cuando',\n",
       " 'sea',\n",
       " 'el',\n",
       " 'rey',\n",
       " 'del',\n",
       " 'mundo',\n",
       " 'imaginaba',\n",
       " 'él',\n",
       " 'en',\n",
       " 'su',\n",
       " 'cabeza',\n",
       " 'no',\n",
       " 'tendré',\n",
       " 'que',\n",
       " 'preocuparme',\n",
       " 'por',\n",
       " 'estas',\n",
       " 'bobadas',\n",
       " 'Era',\n",
       " 'solo',\n",
       " 'un',\n",
       " 'niño',\n",
       " 'de',\n",
       " '7',\n",
       " 'años',\n",
       " 'pero',\n",
       " 'pensaba',\n",
       " 'que',\n",
       " 'podría',\n",
       " 'ser',\n",
       " 'cualquier',\n",
       " 'cosa',\n",
       " 'que',\n",
       " 'su',\n",
       " 'imaginación',\n",
       " 'le',\n",
       " 'permitiera',\n",
       " 'visualizar',\n",
       " 'en',\n",
       " 'su',\n",
       " 'cabeza',\n",
       " '']"
      ]
     },
     "execution_count": 8,
     "metadata": {},
     "output_type": "execute_result"
    }
   ],
   "source": [
    "re.split(r'[\\s\\W]+',texto)"
   ]
  },
  {
   "cell_type": "code",
   "execution_count": 9,
   "id": "53ca2dc6-b019-43b2-b913-0dfd1b9c7467",
   "metadata": {},
   "outputs": [],
   "source": [
    "texto = 'En los E.U. esa postal vale $15.50 ...'"
   ]
  },
  {
   "cell_type": "markdown",
   "id": "3a0dda4d-8199-4e3b-b85f-87d6ddff1b83",
   "metadata": {},
   "source": [
    "Para textos más complejos tengo que utilizar expresiones regulares más elaboradas. NLTK tiene una funcioón para toenizar basada en expresiones regulares"
   ]
  },
  {
   "cell_type": "code",
   "execution_count": 10,
   "id": "ce3ac60b-1724-4392-b0af-6de8cb7412da",
   "metadata": {},
   "outputs": [],
   "source": [
    "pattern = r'''(?x)                  # Flag para iniciar el modo verbose\n",
    "              (?:[A-Z]\\.)+            # Hace match con abreviaciones como U.S.A.\n",
    "              | \\w+(?:-\\w+)*         # Hace match con palabras que pueden tener un guión interno\n",
    "              | \\$?\\d+(?:\\.\\d+)?%?  # Hace match con dinero o porcentajes como $15.5 o 100%\n",
    "              | \\.\\.\\.              # Hace match con puntos suspensivos\n",
    "              | [][.,;\"'?():-_`]    # Hace match con signos de puntuación\n",
    "'''"
   ]
  },
  {
   "cell_type": "code",
   "execution_count": 11,
   "id": "092fe2fd-49e2-4cd8-b813-d8c239f0ad36",
   "metadata": {},
   "outputs": [
    {
     "data": {
      "text/plain": [
       "['En', 'los', 'E.U.', 'esa', 'postal', 'vale', '$15.50', '...']"
      ]
     },
     "execution_count": 11,
     "metadata": {},
     "output_type": "execute_result"
    }
   ],
   "source": [
    "nltk.regexp_tokenize(texto,pattern)"
   ]
  },
  {
   "cell_type": "code",
   "execution_count": 12,
   "id": "c043b3ba-ebb8-4e5e-b5b9-cf4464571ebc",
   "metadata": {},
   "outputs": [
    {
     "data": {
      "text/plain": [
       "['En los E.U. esa postal vale $15.50 ...']"
      ]
     },
     "execution_count": 12,
     "metadata": {},
     "output_type": "execute_result"
    }
   ],
   "source": [
    "nltk.tokenize.line_tokenize(texto)"
   ]
  },
  {
   "cell_type": "markdown",
   "id": "98cadd81-1f76-474b-b049-b995dd908a2c",
   "metadata": {},
   "source": [
    "# Riqueza lexica en un texto"
   ]
  },
  {
   "cell_type": "markdown",
   "id": "b58aae61-5c4a-4b6d-ba62-b108a040b5ee",
   "metadata": {},
   "source": [
    "$$ R_l = \\frac{\\text{total de palabras únicas}}{\\text{total de palabras}} = \\frac{\\text{longitud del vocabulario}}{\\text{longitud del texto}}$$ "
   ]
  },
  {
   "cell_type": "code",
   "execution_count": 13,
   "id": "49eb481a-149c-4b7d-9e45-cf5cad0c3f3b",
   "metadata": {
    "collapsed": true,
    "jupyter": {
     "outputs_hidden": true
    },
    "tags": []
   },
   "outputs": [
    {
     "name": "stderr",
     "output_type": "stream",
     "text": [
      "[nltk_data] Downloading collection 'book'\n",
      "[nltk_data]    | \n",
      "[nltk_data]    | Downloading package abc to /home/cesar/nltk_data...\n",
      "[nltk_data]    |   Package abc is already up-to-date!\n",
      "[nltk_data]    | Downloading package brown to /home/cesar/nltk_data...\n",
      "[nltk_data]    |   Package brown is already up-to-date!\n",
      "[nltk_data]    | Downloading package chat80 to\n",
      "[nltk_data]    |     /home/cesar/nltk_data...\n",
      "[nltk_data]    |   Package chat80 is already up-to-date!\n",
      "[nltk_data]    | Downloading package cmudict to\n",
      "[nltk_data]    |     /home/cesar/nltk_data...\n",
      "[nltk_data]    |   Package cmudict is already up-to-date!\n",
      "[nltk_data]    | Downloading package conll2000 to\n",
      "[nltk_data]    |     /home/cesar/nltk_data...\n",
      "[nltk_data]    |   Package conll2000 is already up-to-date!\n",
      "[nltk_data]    | Downloading package conll2002 to\n",
      "[nltk_data]    |     /home/cesar/nltk_data...\n",
      "[nltk_data]    |   Package conll2002 is already up-to-date!\n",
      "[nltk_data]    | Downloading package dependency_treebank to\n",
      "[nltk_data]    |     /home/cesar/nltk_data...\n",
      "[nltk_data]    |   Package dependency_treebank is already up-to-date!\n",
      "[nltk_data]    | Downloading package genesis to\n",
      "[nltk_data]    |     /home/cesar/nltk_data...\n",
      "[nltk_data]    |   Package genesis is already up-to-date!\n",
      "[nltk_data]    | Downloading package gutenberg to\n",
      "[nltk_data]    |     /home/cesar/nltk_data...\n",
      "[nltk_data]    |   Package gutenberg is already up-to-date!\n",
      "[nltk_data]    | Downloading package ieer to /home/cesar/nltk_data...\n",
      "[nltk_data]    |   Package ieer is already up-to-date!\n",
      "[nltk_data]    | Downloading package inaugural to\n",
      "[nltk_data]    |     /home/cesar/nltk_data...\n",
      "[nltk_data]    |   Package inaugural is already up-to-date!\n",
      "[nltk_data]    | Downloading package movie_reviews to\n",
      "[nltk_data]    |     /home/cesar/nltk_data...\n",
      "[nltk_data]    |   Package movie_reviews is already up-to-date!\n",
      "[nltk_data]    | Downloading package nps_chat to\n",
      "[nltk_data]    |     /home/cesar/nltk_data...\n",
      "[nltk_data]    |   Package nps_chat is already up-to-date!\n",
      "[nltk_data]    | Downloading package names to /home/cesar/nltk_data...\n",
      "[nltk_data]    |   Package names is already up-to-date!\n",
      "[nltk_data]    | Downloading package ppattach to\n",
      "[nltk_data]    |     /home/cesar/nltk_data...\n",
      "[nltk_data]    |   Package ppattach is already up-to-date!\n",
      "[nltk_data]    | Downloading package reuters to\n",
      "[nltk_data]    |     /home/cesar/nltk_data...\n",
      "[nltk_data]    |   Package reuters is already up-to-date!\n",
      "[nltk_data]    | Downloading package senseval to\n",
      "[nltk_data]    |     /home/cesar/nltk_data...\n",
      "[nltk_data]    |   Package senseval is already up-to-date!\n",
      "[nltk_data]    | Downloading package state_union to\n",
      "[nltk_data]    |     /home/cesar/nltk_data...\n",
      "[nltk_data]    |   Package state_union is already up-to-date!\n",
      "[nltk_data]    | Downloading package stopwords to\n",
      "[nltk_data]    |     /home/cesar/nltk_data...\n",
      "[nltk_data]    |   Package stopwords is already up-to-date!\n",
      "[nltk_data]    | Downloading package swadesh to\n",
      "[nltk_data]    |     /home/cesar/nltk_data...\n",
      "[nltk_data]    |   Package swadesh is already up-to-date!\n",
      "[nltk_data]    | Downloading package timit to /home/cesar/nltk_data...\n",
      "[nltk_data]    |   Package timit is already up-to-date!\n",
      "[nltk_data]    | Downloading package treebank to\n",
      "[nltk_data]    |     /home/cesar/nltk_data...\n",
      "[nltk_data]    |   Package treebank is already up-to-date!\n",
      "[nltk_data]    | Downloading package toolbox to\n",
      "[nltk_data]    |     /home/cesar/nltk_data...\n",
      "[nltk_data]    |   Package toolbox is already up-to-date!\n",
      "[nltk_data]    | Downloading package udhr to /home/cesar/nltk_data...\n",
      "[nltk_data]    |   Package udhr is already up-to-date!\n",
      "[nltk_data]    | Downloading package udhr2 to /home/cesar/nltk_data...\n",
      "[nltk_data]    |   Package udhr2 is already up-to-date!\n",
      "[nltk_data]    | Downloading package unicode_samples to\n",
      "[nltk_data]    |     /home/cesar/nltk_data...\n",
      "[nltk_data]    |   Package unicode_samples is already up-to-date!\n",
      "[nltk_data]    | Downloading package webtext to\n",
      "[nltk_data]    |     /home/cesar/nltk_data...\n",
      "[nltk_data]    |   Package webtext is already up-to-date!\n",
      "[nltk_data]    | Downloading package wordnet to\n",
      "[nltk_data]    |     /home/cesar/nltk_data...\n",
      "[nltk_data]    |   Package wordnet is already up-to-date!\n",
      "[nltk_data]    | Downloading package wordnet_ic to\n",
      "[nltk_data]    |     /home/cesar/nltk_data...\n",
      "[nltk_data]    |   Package wordnet_ic is already up-to-date!\n",
      "[nltk_data]    | Downloading package words to /home/cesar/nltk_data...\n",
      "[nltk_data]    |   Package words is already up-to-date!\n",
      "[nltk_data]    | Downloading package maxent_treebank_pos_tagger to\n",
      "[nltk_data]    |     /home/cesar/nltk_data...\n",
      "[nltk_data]    |   Package maxent_treebank_pos_tagger is already up-\n",
      "[nltk_data]    |       to-date!\n",
      "[nltk_data]    | Downloading package maxent_ne_chunker to\n",
      "[nltk_data]    |     /home/cesar/nltk_data...\n",
      "[nltk_data]    |   Package maxent_ne_chunker is already up-to-date!\n",
      "[nltk_data]    | Downloading package universal_tagset to\n",
      "[nltk_data]    |     /home/cesar/nltk_data...\n",
      "[nltk_data]    |   Package universal_tagset is already up-to-date!\n",
      "[nltk_data]    | Downloading package punkt to /home/cesar/nltk_data...\n",
      "[nltk_data]    |   Package punkt is already up-to-date!\n",
      "[nltk_data]    | Downloading package book_grammars to\n",
      "[nltk_data]    |     /home/cesar/nltk_data...\n",
      "[nltk_data]    |   Package book_grammars is already up-to-date!\n",
      "[nltk_data]    | Downloading package city_database to\n",
      "[nltk_data]    |     /home/cesar/nltk_data...\n",
      "[nltk_data]    |   Package city_database is already up-to-date!\n",
      "[nltk_data]    | Downloading package tagsets to\n",
      "[nltk_data]    |     /home/cesar/nltk_data...\n",
      "[nltk_data]    |   Package tagsets is already up-to-date!\n",
      "[nltk_data]    | Downloading package panlex_swadesh to\n",
      "[nltk_data]    |     /home/cesar/nltk_data...\n",
      "[nltk_data]    |   Package panlex_swadesh is already up-to-date!\n",
      "[nltk_data]    | Downloading package averaged_perceptron_tagger to\n",
      "[nltk_data]    |     /home/cesar/nltk_data...\n",
      "[nltk_data]    |   Package averaged_perceptron_tagger is already up-\n",
      "[nltk_data]    |       to-date!\n",
      "[nltk_data]    | \n",
      "[nltk_data]  Done downloading collection book\n"
     ]
    },
    {
     "data": {
      "text/plain": [
       "True"
      ]
     },
     "execution_count": 13,
     "metadata": {},
     "output_type": "execute_result"
    }
   ],
   "source": [
    "nltk.download('book')"
   ]
  },
  {
   "cell_type": "code",
   "execution_count": 14,
   "id": "74725c8a-f1bc-495e-98da-aa1e6fc874a8",
   "metadata": {
    "tags": []
   },
   "outputs": [
    {
     "name": "stdout",
     "output_type": "stream",
     "text": [
      "*** Introductory Examples for the NLTK Book ***\n",
      "Loading text1, ..., text9 and sent1, ..., sent9\n",
      "Type the name of the text or sentence to view it.\n",
      "Type: 'texts()' or 'sents()' to list the materials.\n",
      "text1: Moby Dick by Herman Melville 1851\n",
      "text2: Sense and Sensibility by Jane Austen 1811\n",
      "text3: The Book of Genesis\n",
      "text4: Inaugural Address Corpus\n",
      "text5: Chat Corpus\n",
      "text6: Monty Python and the Holy Grail\n",
      "text7: Wall Street Journal\n",
      "text8: Personals Corpus\n",
      "text9: The Man Who Was Thursday by G . K . Chesterton 1908\n"
     ]
    }
   ],
   "source": [
    "from nltk.book import *"
   ]
  },
  {
   "cell_type": "code",
   "execution_count": 15,
   "id": "128d2d5d-d421-4171-b352-7c78342f291a",
   "metadata": {},
   "outputs": [
    {
     "data": {
      "text/plain": [
       "<Text: Moby Dick by Herman Melville 1851>"
      ]
     },
     "execution_count": 15,
     "metadata": {},
     "output_type": "execute_result"
    }
   ],
   "source": [
    "text1"
   ]
  },
  {
   "cell_type": "code",
   "execution_count": 16,
   "id": "508ccf76-ff52-4507-b0bd-91ce105f80ca",
   "metadata": {},
   "outputs": [
    {
     "data": {
      "text/plain": [
       "260819"
      ]
     },
     "execution_count": 16,
     "metadata": {},
     "output_type": "execute_result"
    }
   ],
   "source": [
    "len(text1)"
   ]
  },
  {
   "cell_type": "code",
   "execution_count": 17,
   "id": "7e90f853-371e-4fc9-9ac8-1b33184b70b6",
   "metadata": {},
   "outputs": [],
   "source": [
    "unique_words = sorted(set(text1))"
   ]
  },
  {
   "cell_type": "code",
   "execution_count": 18,
   "id": "8f70c21c-b41b-4b89-a773-fa90961547ce",
   "metadata": {},
   "outputs": [
    {
     "name": "stdout",
     "output_type": "stream",
     "text": [
      "La riqueza lexica de Moby Dick by Herman Melville 1851 es: 7.41%\n"
     ]
    }
   ],
   "source": [
    "r = (len(unique_words)/len(text1))*100\n",
    "print(f'La riqueza lexica de {text1.name} es: {round(r,2)}%')"
   ]
  },
  {
   "cell_type": "code",
   "execution_count": 19,
   "id": "0c89d214-0833-40ec-b903-cf15cd14b4da",
   "metadata": {},
   "outputs": [],
   "source": [
    "def riqueza_lexica(text):\n",
    "    unique_words = sorted(set(text))\n",
    "    r = (len(unique_words)/len(text))*100\n",
    "    return round(r,3)"
   ]
  },
  {
   "cell_type": "code",
   "execution_count": 20,
   "id": "092ba75c-8803-45bd-b6f2-babe575dded8",
   "metadata": {},
   "outputs": [
    {
     "data": {
      "text/plain": [
       "4.826"
      ]
     },
     "execution_count": 20,
     "metadata": {},
     "output_type": "execute_result"
    }
   ],
   "source": [
    "riqueza_lexica(text2)"
   ]
  },
  {
   "cell_type": "markdown",
   "id": "186c9f42-97ea-4cba-ac84-f75bb39cef67",
   "metadata": {},
   "source": [
    "Crear la función del porcentaje de aparición de una palabra en todo el texto"
   ]
  },
  {
   "cell_type": "code",
   "execution_count": 21,
   "id": "57f0b594-c272-4840-85d9-97203f1bc05a",
   "metadata": {},
   "outputs": [],
   "source": [
    "def porcentaje_aparicion(palabra,text):\n",
    "    aparicion = text.count(palabra)\n",
    "    return round((aparicion/len(text))*100, 3)"
   ]
  },
  {
   "cell_type": "code",
   "execution_count": 22,
   "id": "0ec8a035-419b-43f0-9c7f-6c2c09030a11",
   "metadata": {},
   "outputs": [
    {
     "data": {
      "text/plain": [
       "0.019"
      ]
     },
     "execution_count": 22,
     "metadata": {},
     "output_type": "execute_result"
    }
   ],
   "source": [
    "porcentaje_aparicion('monster',text1)"
   ]
  },
  {
   "cell_type": "markdown",
   "id": "345d506e-8450-4923-9e7a-c0a30d0ddf7d",
   "metadata": {},
   "source": [
    "# Distribuciones de frecuencia"
   ]
  },
  {
   "cell_type": "markdown",
   "id": "ccab99da-c130-4175-8e4c-c6ea25dd6353",
   "metadata": {},
   "source": [
    "Para calcular las frecuencias sin ninguna función se haría de la siguiete manera"
   ]
  },
  {
   "cell_type": "code",
   "execution_count": 23,
   "id": "cce92389-9ae1-4277-b823-f0beec72ce78",
   "metadata": {},
   "outputs": [],
   "source": [
    "import timeit"
   ]
  },
  {
   "cell_type": "code",
   "execution_count": 24,
   "id": "ee9bf209-d37a-45f7-9df7-cdda3f6943b2",
   "metadata": {
    "tags": []
   },
   "outputs": [],
   "source": [
    "dict_words = {w:text1.count(w) for w in sorted(set(text1))}"
   ]
  },
  {
   "cell_type": "code",
   "execution_count": 25,
   "id": "0dd05adb-cd7c-464d-a452-2a071090c881",
   "metadata": {},
   "outputs": [
    {
     "data": {
      "text/plain": [
       "49.307"
      ]
     },
     "execution_count": 25,
     "metadata": {},
     "output_type": "execute_result"
    }
   ],
   "source": [
    "start_time = timeit.default_timer()\n",
    "{w:text1.count(w) for w in sorted(set(text1))}\n",
    "round(timeit.default_timer() - start_time,3)"
   ]
  },
  {
   "cell_type": "markdown",
   "id": "8e28cd62-b288-4b82-bcc3-9e95c65c7a90",
   "metadata": {},
   "source": [
    "El costo computacional es muy alto, por lo que lo mejor es utilizar una función de nltk"
   ]
  },
  {
   "cell_type": "code",
   "execution_count": 26,
   "id": "39684849-6413-4c98-b19f-d091f49c6ea4",
   "metadata": {},
   "outputs": [
    {
     "data": {
      "text/plain": [
       "0.141"
      ]
     },
     "execution_count": 26,
     "metadata": {},
     "output_type": "execute_result"
    }
   ],
   "source": [
    "start_time = timeit.default_timer()\n",
    "FreqDist(text1)\n",
    "round(timeit.default_timer() - start_time,3)"
   ]
  },
  {
   "cell_type": "code",
   "execution_count": 27,
   "id": "18bf10a4-6268-4f9d-b2bc-07ef69341595",
   "metadata": {},
   "outputs": [],
   "source": [
    "fdist = FreqDist(text1)"
   ]
  },
  {
   "cell_type": "code",
   "execution_count": 28,
   "id": "116275a7-ffa3-450c-980c-f71552992350",
   "metadata": {},
   "outputs": [
    {
     "data": {
      "text/plain": [
       "[(',', 18713),\n",
       " ('the', 13721),\n",
       " ('.', 6862),\n",
       " ('of', 6536),\n",
       " ('and', 6024),\n",
       " ('a', 4569),\n",
       " ('to', 4542),\n",
       " (';', 4072),\n",
       " ('in', 3916),\n",
       " ('that', 2982),\n",
       " (\"'\", 2684),\n",
       " ('-', 2552),\n",
       " ('his', 2459),\n",
       " ('it', 2209),\n",
       " ('I', 2124),\n",
       " ('s', 1739),\n",
       " ('is', 1695),\n",
       " ('he', 1661),\n",
       " ('with', 1659),\n",
       " ('was', 1632)]"
      ]
     },
     "execution_count": 28,
     "metadata": {},
     "output_type": "execute_result"
    }
   ],
   "source": [
    "#The most common words\n",
    "fdist.most_common(20)"
   ]
  },
  {
   "cell_type": "code",
   "execution_count": 29,
   "id": "69a46d0b-2dd0-458e-b550-01f99cecc845",
   "metadata": {},
   "outputs": [
    {
     "data": {
      "image/png": "[encoded data removed]",
      "text/plain": [
       "<Figure size 432x288 with 1 Axes>"
      ]
     },
     "metadata": {
      "needs_background": "light"
     },
     "output_type": "display_data"
    },
    {
     "data": {
      "text/plain": [
       "<AxesSubplot:xlabel='Samples', ylabel='Counts'>"
      ]
     },
     "execution_count": 29,
     "metadata": {},
     "output_type": "execute_result"
    }
   ],
   "source": [
    "fdist.plot(25)"
   ]
  },
  {
   "cell_type": "markdown",
   "id": "d7eecc17-4e2f-45e7-bfb0-dfebefe7bc7b",
   "metadata": {},
   "source": [
    "## Analizando las palabras interesantes"
   ]
  },
  {
   "cell_type": "code",
   "execution_count": 30,
   "id": "2b0f1563-20cd-4a54-b989-95f5c6bed872",
   "metadata": {},
   "outputs": [],
   "source": [
    "interesting_words = [(w,fdist[w]) for w in set(text1) if re.search(r'[\\w]+',w) and w not in stopwords.words('english') and fdist[w]>10 and len(w)>2]"
   ]
  },
  {
   "cell_type": "code",
   "execution_count": 31,
   "id": "53e48418-24e2-4879-bc22-da8e9d89b83c",
   "metadata": {},
   "outputs": [
    {
     "data": {
      "text/plain": [
       "('ran', 24)"
      ]
     },
     "execution_count": 31,
     "metadata": {},
     "output_type": "execute_result"
    }
   ],
   "source": [
    "interesting_words[1]"
   ]
  },
  {
   "cell_type": "code",
   "execution_count": 32,
   "id": "6ddb61f5-7963-46ba-a330-e013adafd1db",
   "metadata": {},
   "outputs": [],
   "source": [
    "dtypes = [('word','S10'),('frequency',int)]\n",
    "interesting_words = np.array(interesting_words,dtype=dtypes)"
   ]
  },
  {
   "cell_type": "markdown",
   "id": "16883d81-4532-4471-a8f6-568dc5e437b4",
   "metadata": {},
   "source": [
    "Organizar por las frecuencias"
   ]
  },
  {
   "cell_type": "code",
   "execution_count": 33,
   "id": "ada9357a-9cf0-4e99-bb12-83318734bf65",
   "metadata": {},
   "outputs": [],
   "source": [
    "interesting_words = np.sort(interesting_words,order='frequency')\n",
    "interesting_words = interesting_words[::-1]"
   ]
  },
  {
   "cell_type": "code",
   "execution_count": 34,
   "id": "74b8f949-8a33-4586-8570-2dea4a47e4ca",
   "metadata": {},
   "outputs": [
    {
     "data": {
      "image/png": "[encoded data removed]",
      "text/plain": [
       "<Figure size 1080x360 with 1 Axes>"
      ]
     },
     "metadata": {
      "needs_background": "light"
     },
     "output_type": "display_data"
    }
   ],
   "source": [
    "top = 20\n",
    "x = [y[0] for y in interesting_words[:top]]\n",
    "y = [y[1] for y in interesting_words[:top]]\n",
    "plt.figure(figsize=(15,5))\n",
    "plt.plot(x,y)\n",
    "plt.xticks(rotation=45)\n",
    "plt.show()"
   ]
  },
  {
   "cell_type": "code",
   "execution_count": 35,
   "id": "04da5f6e-629f-4f23-a23e-0011e179ff88",
   "metadata": {},
   "outputs": [
    {
     "data": {
      "text/plain": [
       "array([(b'whale', 906), (b'one', 889), (b'But', 705), ..., (b'Didn',  11),\n",
       "       (b'Are',  11), (b'America',  11)],\n",
       "      dtype=[('word', 'S10'), ('frequency', '<i8')])"
      ]
     },
     "execution_count": 35,
     "metadata": {},
     "output_type": "execute_result"
    }
   ],
   "source": [
    "interesting_words"
   ]
  },
  {
   "cell_type": "markdown",
   "id": "cfc9dc1c-b42f-48ab-84f0-cf1acfd96183",
   "metadata": {},
   "source": [
    "# N-gramas"
   ]
  },
  {
   "cell_type": "markdown",
   "id": "83bb7f26-8091-4e5c-bfd0-a0b5ad4f4698",
   "metadata": {},
   "source": [
    "## Bi-gramns"
   ]
  },
  {
   "cell_type": "markdown",
   "id": "5ef20af4-e415-4015-b3d2-99147bcfc24e",
   "metadata": {},
   "source": [
    "Calcular los bigramas"
   ]
  },
  {
   "cell_type": "code",
   "execution_count": 36,
   "id": "7f042e87-db11-4bbf-b918-00a183b8b03e",
   "metadata": {},
   "outputs": [
    {
     "data": {
      "text/plain": [
       "[(('of', 'the'), 1847),\n",
       " (('in', 'the'), 1120),\n",
       " (('to', 'the'), 712),\n",
       " (('from', 'the'), 428),\n",
       " (('of', 'his'), 371),\n",
       " (('the', 'whale'), 369),\n",
       " (('and', 'the'), 357),\n",
       " (('on', 'the'), 326),\n",
       " (('to', 'be'), 320),\n",
       " (('at', 'the'), 316)]"
      ]
     },
     "execution_count": 36,
     "metadata": {},
     "output_type": "execute_result"
    }
   ],
   "source": [
    "bigrams_list = list(bigrams(text1))\n",
    "#Filtro los caracteres que no me interesan \n",
    "bigrams_filtered = [b for b in bigrams_list if len(b[0])>1 and len(b[1])>1]\n",
    "#Calculo la frecuencia de los bigramas filtrados\n",
    "freq_bigrams = FreqDist(bigrams_filtered)\n",
    "freq_bigrams.most_common(10)"
   ]
  },
  {
   "cell_type": "code",
   "execution_count": 37,
   "id": "3c69b00a-ab02-4c31-873f-dec28cf896c3",
   "metadata": {},
   "outputs": [
    {
     "data": {
      "image/png": "[encoded data removed]",
      "text/plain": [
       "<Figure size 1080x360 with 1 Axes>"
      ]
     },
     "metadata": {
      "needs_background": "light"
     },
     "output_type": "display_data"
    }
   ],
   "source": [
    "plt.figure(figsize=(15,5))\n",
    "freq_bigrams.plot(10)\n",
    "plt.show()"
   ]
  },
  {
   "cell_type": "markdown",
   "id": "49e0548a-a3f7-46dc-bf05-cc628b035a7c",
   "metadata": {},
   "source": [
    "## Tri-gramns"
   ]
  },
  {
   "cell_type": "code",
   "execution_count": 38,
   "id": "1d671a85-120f-44b4-8021-aa142f27113a",
   "metadata": {},
   "outputs": [
    {
     "data": {
      "image/png": "[encoded data removed]",
      "text/plain": [
       "<Figure size 1080x360 with 1 Axes>"
      ]
     },
     "metadata": {
      "needs_background": "light"
     },
     "output_type": "display_data"
    },
    {
     "data": {
      "text/plain": [
       "<AxesSubplot:xlabel='Samples', ylabel='Counts'>"
      ]
     },
     "execution_count": 38,
     "metadata": {},
     "output_type": "execute_result"
    }
   ],
   "source": [
    "trigrams = list(ngrams(text1,3))\n",
    "#Filtro los caracteres que no me interesan \n",
    "trigrams_filtered = [b for b in trigrams if len(b[0])>1 and len(b[1])>1 and len(b[2])>1]\n",
    "#Calculo la frecuencia de los bigramas filtrados\n",
    "freq_trigrams = FreqDist(trigrams_filtered)\n",
    "plt.figure(figsize=(15,5))\n",
    "freq_trigrams.plot(10)"
   ]
  },
  {
   "cell_type": "markdown",
   "id": "513bc813-d55d-4763-94be-b2aa75a551f0",
   "metadata": {},
   "source": [
    "# Colocaciones"
   ]
  },
  {
   "cell_type": "markdown",
   "id": "87a33ec2-77f5-4e8c-93c0-97317cc30aee",
   "metadata": {},
   "source": [
    "## Pointwise Mutual Information (PMI)\n"
   ]
  },
  {
   "cell_type": "markdown",
   "id": "2569d7b7-7969-40c3-a6e2-3a66649f08c0",
   "metadata": {},
   "source": [
    "Una métrica basada en la teoria de la información para encontar Collocations"
   ]
  },
  {
   "cell_type": "markdown",
   "id": "66ba39ab-59dc-428f-8948-18f29c670632",
   "metadata": {},
   "source": [
    "$$\\Large PMI = log\\frac {P(w_1,w_2)}{P(w_1)P(w_2)}$$"
   ]
  },
  {
   "cell_type": "markdown",
   "id": "398c8cde-3667-4d1d-86aa-7544022fb6f6",
   "metadata": {},
   "source": [
    "Los tokens que presenten un PMI más alto se pueden considerar colocaciones"
   ]
  },
  {
   "cell_type": "code",
   "execution_count": 39,
   "id": "fabf8bbc-aff8-4c17-8031-bacc42ee2056",
   "metadata": {},
   "outputs": [],
   "source": [
    "bigrams_list = list(bigrams(text1))\n",
    "#Filtro los caracteres que no me interesan \n",
    "bigrams_filtered = [b for b in bigrams_list if len(b[0])>1 and len(b[1])>1]\n",
    "freq_bigrams = FreqDist(bigrams_filtered)\n",
    "\n",
    "words_filtered = [w for w in text1 if len(w)>1]\n",
    "freq_words = FreqDist(words_filtered)\n",
    "\n",
    "\n",
    "df = pd.DataFrame()\n",
    "df['bigramns'] = bigrams_filtered\n",
    "df['word_0'] = df['bigramns'].apply(lambda x : x[0])\n",
    "df['word_1'] = df['bigramns'].apply(lambda x : x[1])\n",
    "df['bigramns_freq'] = df['bigramns'].apply(lambda x : freq_bigrams[x])\n",
    "df['word_0_freq'] = df['word_0'].apply(lambda x : freq_words[x])\n",
    "df['word_1_freq'] = df['word_1'].apply(lambda x : freq_words[x])"
   ]
  },
  {
   "cell_type": "code",
   "execution_count": 40,
   "id": "04c2b564-9d27-4b02-acb1-cb07fad7caf8",
   "metadata": {},
   "outputs": [],
   "source": [
    "df['PMI'] = df[['bigramns_freq','word_0_freq','word_1_freq']].apply(lambda x : np.log2(x[0]/(x[1]*x[2])), axis =1)"
   ]
  },
  {
   "cell_type": "code",
   "execution_count": 41,
   "id": "0a559c48-106f-4b34-bf42-d21c72c56b7e",
   "metadata": {},
   "outputs": [
    {
     "data": {
      "text/html": [
       "<div>\n",
       "<style scoped>\n",
       "    .dataframe tbody tr th:only-of-type {\n",
       "        vertical-align: middle;\n",
       "    }\n",
       "\n",
       "    .dataframe tbody tr th {\n",
       "        vertical-align: top;\n",
       "    }\n",
       "\n",
       "    .dataframe thead th {\n",
       "        text-align: right;\n",
       "    }\n",
       "</style>\n",
       "<table border=\"1\" class=\"dataframe\">\n",
       "  <thead>\n",
       "    <tr style=\"text-align: right;\">\n",
       "      <th></th>\n",
       "      <th>bigramns</th>\n",
       "      <th>word_0</th>\n",
       "      <th>word_1</th>\n",
       "      <th>bigramns_freq</th>\n",
       "      <th>word_0_freq</th>\n",
       "      <th>word_1_freq</th>\n",
       "      <th>PMI</th>\n",
       "    </tr>\n",
       "  </thead>\n",
       "  <tbody>\n",
       "    <tr>\n",
       "      <th>0</th>\n",
       "      <td>(Moby, Dick)</td>\n",
       "      <td>Moby</td>\n",
       "      <td>Dick</td>\n",
       "      <td>83</td>\n",
       "      <td>84</td>\n",
       "      <td>84</td>\n",
       "      <td>-6.409595</td>\n",
       "    </tr>\n",
       "    <tr>\n",
       "      <th>1</th>\n",
       "      <td>(Dick, by)</td>\n",
       "      <td>Dick</td>\n",
       "      <td>by</td>\n",
       "      <td>1</td>\n",
       "      <td>84</td>\n",
       "      <td>1137</td>\n",
       "      <td>-16.543334</td>\n",
       "    </tr>\n",
       "    <tr>\n",
       "      <th>2</th>\n",
       "      <td>(by, Herman)</td>\n",
       "      <td>by</td>\n",
       "      <td>Herman</td>\n",
       "      <td>1</td>\n",
       "      <td>1137</td>\n",
       "      <td>1</td>\n",
       "      <td>-10.151017</td>\n",
       "    </tr>\n",
       "    <tr>\n",
       "      <th>3</th>\n",
       "      <td>(Herman, Melville)</td>\n",
       "      <td>Herman</td>\n",
       "      <td>Melville</td>\n",
       "      <td>1</td>\n",
       "      <td>1</td>\n",
       "      <td>1</td>\n",
       "      <td>0.000000</td>\n",
       "    </tr>\n",
       "    <tr>\n",
       "      <th>4</th>\n",
       "      <td>(Melville, 1851)</td>\n",
       "      <td>Melville</td>\n",
       "      <td>1851</td>\n",
       "      <td>1</td>\n",
       "      <td>1</td>\n",
       "      <td>3</td>\n",
       "      <td>-1.584963</td>\n",
       "    </tr>\n",
       "    <tr>\n",
       "      <th>...</th>\n",
       "      <td>...</td>\n",
       "      <td>...</td>\n",
       "      <td>...</td>\n",
       "      <td>...</td>\n",
       "      <td>...</td>\n",
       "      <td>...</td>\n",
       "      <td>...</td>\n",
       "    </tr>\n",
       "    <tr>\n",
       "      <th>170235</th>\n",
       "      <td>(her, missing)</td>\n",
       "      <td>her</td>\n",
       "      <td>missing</td>\n",
       "      <td>1</td>\n",
       "      <td>329</td>\n",
       "      <td>16</td>\n",
       "      <td>-12.361944</td>\n",
       "    </tr>\n",
       "    <tr>\n",
       "      <th>170236</th>\n",
       "      <td>(missing, children)</td>\n",
       "      <td>missing</td>\n",
       "      <td>children</td>\n",
       "      <td>1</td>\n",
       "      <td>16</td>\n",
       "      <td>18</td>\n",
       "      <td>-8.169925</td>\n",
       "    </tr>\n",
       "    <tr>\n",
       "      <th>170237</th>\n",
       "      <td>(only, found)</td>\n",
       "      <td>only</td>\n",
       "      <td>found</td>\n",
       "      <td>4</td>\n",
       "      <td>360</td>\n",
       "      <td>115</td>\n",
       "      <td>-13.337343</td>\n",
       "    </tr>\n",
       "    <tr>\n",
       "      <th>170238</th>\n",
       "      <td>(found, another)</td>\n",
       "      <td>found</td>\n",
       "      <td>another</td>\n",
       "      <td>1</td>\n",
       "      <td>115</td>\n",
       "      <td>106</td>\n",
       "      <td>-13.573411</td>\n",
       "    </tr>\n",
       "    <tr>\n",
       "      <th>170239</th>\n",
       "      <td>(another, orphan)</td>\n",
       "      <td>another</td>\n",
       "      <td>orphan</td>\n",
       "      <td>1</td>\n",
       "      <td>106</td>\n",
       "      <td>1</td>\n",
       "      <td>-6.727920</td>\n",
       "    </tr>\n",
       "  </tbody>\n",
       "</table>\n",
       "<p>170240 rows × 7 columns</p>\n",
       "</div>"
      ],
      "text/plain": [
       "                   bigramns    word_0    word_1  bigramns_freq  word_0_freq  \\\n",
       "0              (Moby, Dick)      Moby      Dick             83           84   \n",
       "1                (Dick, by)      Dick        by              1           84   \n",
       "2              (by, Herman)        by    Herman              1         1137   \n",
       "3        (Herman, Melville)    Herman  Melville              1            1   \n",
       "4          (Melville, 1851)  Melville      1851              1            1   \n",
       "...                     ...       ...       ...            ...          ...   \n",
       "170235       (her, missing)       her   missing              1          329   \n",
       "170236  (missing, children)   missing  children              1           16   \n",
       "170237        (only, found)      only     found              4          360   \n",
       "170238     (found, another)     found   another              1          115   \n",
       "170239    (another, orphan)   another    orphan              1          106   \n",
       "\n",
       "        word_1_freq        PMI  \n",
       "0                84  -6.409595  \n",
       "1              1137 -16.543334  \n",
       "2                 1 -10.151017  \n",
       "3                 1   0.000000  \n",
       "4                 3  -1.584963  \n",
       "...             ...        ...  \n",
       "170235           16 -12.361944  \n",
       "170236           18  -8.169925  \n",
       "170237          115 -13.337343  \n",
       "170238          106 -13.573411  \n",
       "170239            1  -6.727920  \n",
       "\n",
       "[170240 rows x 7 columns]"
      ]
     },
     "execution_count": 41,
     "metadata": {},
     "output_type": "execute_result"
    }
   ],
   "source": [
    "df"
   ]
  },
  {
   "cell_type": "code",
   "execution_count": 42,
   "id": "19f7bcc1-b7e8-4037-a830-1950ea6655c4",
   "metadata": {},
   "outputs": [],
   "source": [
    "df['PMI'] = df[['bigramns','word_0','word_1']].apply(lambda x : np.log2(freq_bigrams[x[0]]/(freq_words[x[1]]*freq_words[x[2]])), axis =1)"
   ]
  },
  {
   "cell_type": "code",
   "execution_count": 43,
   "id": "6901cd9c-64c9-4e47-a5c7-a521edcc16cd",
   "metadata": {},
   "outputs": [
    {
     "data": {
      "text/html": [
       "<div>\n",
       "<style scoped>\n",
       "    .dataframe tbody tr th:only-of-type {\n",
       "        vertical-align: middle;\n",
       "    }\n",
       "\n",
       "    .dataframe tbody tr th {\n",
       "        vertical-align: top;\n",
       "    }\n",
       "\n",
       "    .dataframe thead th {\n",
       "        text-align: right;\n",
       "    }\n",
       "</style>\n",
       "<table border=\"1\" class=\"dataframe\">\n",
       "  <thead>\n",
       "    <tr style=\"text-align: right;\">\n",
       "      <th></th>\n",
       "      <th>bigramns</th>\n",
       "      <th>word_0</th>\n",
       "      <th>word_1</th>\n",
       "      <th>bigramns_freq</th>\n",
       "      <th>word_0_freq</th>\n",
       "      <th>word_1_freq</th>\n",
       "      <th>PMI</th>\n",
       "    </tr>\n",
       "  </thead>\n",
       "  <tbody>\n",
       "    <tr>\n",
       "      <th>140758</th>\n",
       "      <td>(spontaneous, literal)</td>\n",
       "      <td>spontaneous</td>\n",
       "      <td>literal</td>\n",
       "      <td>1</td>\n",
       "      <td>1</td>\n",
       "      <td>1</td>\n",
       "      <td>0.000000</td>\n",
       "    </tr>\n",
       "    <tr>\n",
       "      <th>75927</th>\n",
       "      <td>(Mohawk, counties)</td>\n",
       "      <td>Mohawk</td>\n",
       "      <td>counties</td>\n",
       "      <td>1</td>\n",
       "      <td>1</td>\n",
       "      <td>1</td>\n",
       "      <td>0.000000</td>\n",
       "    </tr>\n",
       "    <tr>\n",
       "      <th>46713</th>\n",
       "      <td>(Moorish, scimetars)</td>\n",
       "      <td>Moorish</td>\n",
       "      <td>scimetars</td>\n",
       "      <td>1</td>\n",
       "      <td>1</td>\n",
       "      <td>1</td>\n",
       "      <td>0.000000</td>\n",
       "    </tr>\n",
       "    <tr>\n",
       "      <th>119800</th>\n",
       "      <td>(penal, gout)</td>\n",
       "      <td>penal</td>\n",
       "      <td>gout</td>\n",
       "      <td>1</td>\n",
       "      <td>1</td>\n",
       "      <td>1</td>\n",
       "      <td>0.000000</td>\n",
       "    </tr>\n",
       "    <tr>\n",
       "      <th>119713</th>\n",
       "      <td>(Daniel, Boone)</td>\n",
       "      <td>Daniel</td>\n",
       "      <td>Boone</td>\n",
       "      <td>1</td>\n",
       "      <td>1</td>\n",
       "      <td>1</td>\n",
       "      <td>0.000000</td>\n",
       "    </tr>\n",
       "    <tr>\n",
       "      <th>...</th>\n",
       "      <td>...</td>\n",
       "      <td>...</td>\n",
       "      <td>...</td>\n",
       "      <td>...</td>\n",
       "      <td>...</td>\n",
       "      <td>...</td>\n",
       "      <td>...</td>\n",
       "    </tr>\n",
       "    <tr>\n",
       "      <th>11172</th>\n",
       "      <td>(the, by)</td>\n",
       "      <td>the</td>\n",
       "      <td>by</td>\n",
       "      <td>1</td>\n",
       "      <td>13721</td>\n",
       "      <td>1137</td>\n",
       "      <td>-23.895115</td>\n",
       "    </tr>\n",
       "    <tr>\n",
       "      <th>38443</th>\n",
       "      <td>(the, at)</td>\n",
       "      <td>the</td>\n",
       "      <td>at</td>\n",
       "      <td>1</td>\n",
       "      <td>13721</td>\n",
       "      <td>1231</td>\n",
       "      <td>-24.009713</td>\n",
       "    </tr>\n",
       "    <tr>\n",
       "      <th>97679</th>\n",
       "      <td>(the, as)</td>\n",
       "      <td>the</td>\n",
       "      <td>as</td>\n",
       "      <td>1</td>\n",
       "      <td>13721</td>\n",
       "      <td>1620</td>\n",
       "      <td>-24.405876</td>\n",
       "    </tr>\n",
       "    <tr>\n",
       "      <th>138382</th>\n",
       "      <td>(of, to)</td>\n",
       "      <td>of</td>\n",
       "      <td>to</td>\n",
       "      <td>1</td>\n",
       "      <td>6536</td>\n",
       "      <td>4542</td>\n",
       "      <td>-24.823304</td>\n",
       "    </tr>\n",
       "    <tr>\n",
       "      <th>86206</th>\n",
       "      <td>(the, in)</td>\n",
       "      <td>the</td>\n",
       "      <td>in</td>\n",
       "      <td>1</td>\n",
       "      <td>13721</td>\n",
       "      <td>3916</td>\n",
       "      <td>-25.679263</td>\n",
       "    </tr>\n",
       "  </tbody>\n",
       "</table>\n",
       "<p>170240 rows × 7 columns</p>\n",
       "</div>"
      ],
      "text/plain": [
       "                      bigramns       word_0     word_1  bigramns_freq  \\\n",
       "140758  (spontaneous, literal)  spontaneous    literal              1   \n",
       "75927       (Mohawk, counties)       Mohawk   counties              1   \n",
       "46713     (Moorish, scimetars)      Moorish  scimetars              1   \n",
       "119800           (penal, gout)        penal       gout              1   \n",
       "119713         (Daniel, Boone)       Daniel      Boone              1   \n",
       "...                        ...          ...        ...            ...   \n",
       "11172                (the, by)          the         by              1   \n",
       "38443                (the, at)          the         at              1   \n",
       "97679                (the, as)          the         as              1   \n",
       "138382                (of, to)           of         to              1   \n",
       "86206                (the, in)          the         in              1   \n",
       "\n",
       "        word_0_freq  word_1_freq        PMI  \n",
       "140758            1            1   0.000000  \n",
       "75927             1            1   0.000000  \n",
       "46713             1            1   0.000000  \n",
       "119800            1            1   0.000000  \n",
       "119713            1            1   0.000000  \n",
       "...             ...          ...        ...  \n",
       "11172         13721         1137 -23.895115  \n",
       "38443         13721         1231 -24.009713  \n",
       "97679         13721         1620 -24.405876  \n",
       "138382         6536         4542 -24.823304  \n",
       "86206         13721         3916 -25.679263  \n",
       "\n",
       "[170240 rows x 7 columns]"
      ]
     },
     "execution_count": 43,
     "metadata": {},
     "output_type": "execute_result"
    }
   ],
   "source": [
    "df.sort_values(by='PMI', ascending=False)"
   ]
  },
  {
   "cell_type": "markdown",
   "id": "fbc8a0e0-16ca-4f0f-ae02-a0c0370e7141",
   "metadata": {},
   "source": [
    "El PMI no nos basta como única métrica para determinar una colocación, esta métrica debe ser acompañada con la frecuencia del bigrama para que tenga sentido. De esta manera los bigramas serán aquellos bigramas que tengan un PMI alto y una frecuencia de aparición alta"
   ]
  },
  {
   "cell_type": "code",
   "execution_count": 44,
   "id": "22f272f1-56e9-4da4-a9ab-b289d9cd2b48",
   "metadata": {},
   "outputs": [],
   "source": [
    "# Para comparar adecuadamente el PMI y la frecuencia de aparición de los bigramas, tienen que estar en la misma escala. Ya que el PMI esta en una escala logarítmica, puedo hacer lo mismo con la fecuencia\n",
    "df['bigramns_freq_log'] = df['bigramns_freq'].apply(lambda x : np.log2(x))"
   ]
  },
  {
   "cell_type": "code",
   "execution_count": 47,
   "id": "f8dc73d3-1288-4ca7-a250-8429b5030da2",
   "metadata": {
    "tags": []
   },
   "outputs": [],
   "source": [
    "# fig = px.scatter(x=df['bigramns_freq_log'], y=df['PMI'], color = df['PMI']+df['bigramns_freq_log'], hover_name= df['bigramns'].values, \n",
    "#                 width = 600, height= 600, labels= {'x':'PMI','y':'Log(Bigrams frecuency)'})\n",
    "# fig.show()"
   ]
  },
  {
   "cell_type": "markdown",
   "id": "bfaa86ed",
   "metadata": {},
   "source": [
    "EL bigrama que tiene un mayor PMI y al mismo tiempo cuenta con una alta frecuencia es \"('Moby','Dick')\""
   ]
  },
  {
   "cell_type": "markdown",
   "id": "933bb5b5-320a-4a76-af31-b4125eaaae84",
   "metadata": {},
   "source": [
    "## Medidas pre-construidas"
   ]
  },
  {
   "cell_type": "code",
   "execution_count": 58,
   "id": "6624b0e9-dccd-4485-8b08-4054a1b4fef0",
   "metadata": {},
   "outputs": [],
   "source": [
    "bigram_mesure =  nltk.collocations.BigramAssocMeasures()\n",
    "finder = BigramCollocationFinder.from_words(text1)"
   ]
  },
  {
   "cell_type": "code",
   "execution_count": 60,
   "id": "5ea69bd9-8816-4617-8143-c481238a49d0",
   "metadata": {},
   "outputs": [
    {
     "data": {
      "text/plain": [
       "[('Moby', 'Dick'),\n",
       " ('Sperm', 'Whale'),\n",
       " ('White', 'Whale'),\n",
       " ('Right', 'Whale'),\n",
       " ('Captain', 'Peleg'),\n",
       " (',\"', 'said'),\n",
       " ('never', 'mind'),\n",
       " ('!\"', 'cried'),\n",
       " ('no', 'means'),\n",
       " ('each', 'other'),\n",
       " (',\"', 'cried'),\n",
       " ('let', 'us'),\n",
       " ('on', 'board'),\n",
       " ('at', 'least'),\n",
       " ('sperm', 'whale'),\n",
       " ('cried', 'Stubb'),\n",
       " ('an', 'instant'),\n",
       " ('be', 'sure'),\n",
       " ('Captain', 'Ahab'),\n",
       " ('once', 'more')]"
      ]
     },
     "execution_count": 60,
     "metadata": {},
     "output_type": "execute_result"
    }
   ],
   "source": [
    "finder.apply_freq_filter(20) #Aplico un filtro para que solo aparezacan las colocaciones que tengan más de n (20) apariciones\n",
    "finder.nbest(bigram_mesure.pmi, 20) #Le paso la metrica y el número de colocaciones que quiere que me arroje"
   ]
  },
  {
   "cell_type": "markdown",
   "id": "da4faf40-4363-45b5-aa37-0548473d642c",
   "metadata": {},
   "source": [
    "## Texto en español"
   ]
  },
  {
   "cell_type": "code",
   "execution_count": 62,
   "id": "107cbcf9-ea4d-437a-bd75-cd91b1c5ea97",
   "metadata": {},
   "outputs": [],
   "source": [
    "corpus = nltk.corpus.cess_esp.sents()\n",
    "flatten = [w for l in corpus for w in l]"
   ]
  },
  {
   "cell_type": "code",
   "execution_count": 63,
   "id": "bd7520ea-c728-4df7-a9af-743b74159e6b",
   "metadata": {},
   "outputs": [
    {
     "data": {
      "text/plain": [
       "['El',\n",
       " 'grupo',\n",
       " 'estatal',\n",
       " 'Electricité_de_France',\n",
       " '-Fpa-',\n",
       " 'EDF',\n",
       " '-Fpt-',\n",
       " 'anunció',\n",
       " 'hoy',\n",
       " ',',\n",
       " 'jueves',\n",
       " ',',\n",
       " 'la',\n",
       " 'compra',\n",
       " 'del',\n",
       " '51_por_ciento',\n",
       " 'de',\n",
       " 'la',\n",
       " 'empresa',\n",
       " 'mexicana']"
      ]
     },
     "execution_count": 63,
     "metadata": {},
     "output_type": "execute_result"
    }
   ],
   "source": [
    "flatten[:20]"
   ]
  },
  {
   "cell_type": "code",
   "execution_count": 64,
   "id": "f79c8e31-62fd-45d2-8684-4d84d54a817d",
   "metadata": {},
   "outputs": [
    {
     "data": {
      "text/plain": [
       "[('secretario', 'general'),\n",
       " ('primer', 'ministro'),\n",
       " ('informó', 'hoy'),\n",
       " ('año', 'pasado'),\n",
       " ('este', 'año'),\n",
       " ('cinco', 'años'),\n",
       " ('ha', 'sido'),\n",
       " ('desde', 'hace'),\n",
       " ('han', 'sido'),\n",
       " ('puede', 'ser')]"
      ]
     },
     "execution_count": 64,
     "metadata": {},
     "output_type": "execute_result"
    }
   ],
   "source": [
    "finder = BigramCollocationFinder.from_words(flatten)\n",
    "finder.apply_freq_filter(20)\n",
    "finder.nbest(bigram_mesure.pmi,10)"
   ]
  },
  {
   "cell_type": "code",
   "execution_count": 65,
   "id": "e83ae523-bd2a-47b0-9a50-0ec250eace7f",
   "metadata": {},
   "outputs": [
    {
     "data": {
      "text/plain": [
       "[('secretario', 'general'),\n",
       " ('primer', 'ministro'),\n",
       " ('informó', 'hoy'),\n",
       " ('año', 'pasado'),\n",
       " ('este', 'año'),\n",
       " ('cinco', 'años'),\n",
       " ('ha', 'sido'),\n",
       " ('desde', 'hace'),\n",
       " ('han', 'sido'),\n",
       " ('puede', 'ser')]"
      ]
     },
     "execution_count": 65,
     "metadata": {},
     "output_type": "execute_result"
    }
   ],
   "source": [
    "finder = BigramCollocationFinder.from_documents(corpus) #From documents es cuando los token estan en una lista de listas\n",
    "finder.apply_freq_filter(20)\n",
    "finder.nbest(bigram_mesure.pmi,10)"
   ]
  },
  {
   "cell_type": "markdown",
   "id": "43f88027-534c-4334-97c5-7d35684cc7cc",
   "metadata": {},
   "source": [
    "# Recursos léxicos"
   ]
  },
  {
   "cell_type": "markdown",
   "id": "b42a6c1f-6ce2-4f4a-ab5f-0650f1e3dad4",
   "metadata": {},
   "source": [
    "## Traductor"
   ]
  },
  {
   "cell_type": "code",
   "execution_count": 2,
   "id": "a0f8bdd6-dd08-40ee-9233-01f800584866",
   "metadata": {},
   "outputs": [
    {
     "data": {
      "text/plain": [
       "['be',\n",
       " 'bg',\n",
       " 'bs',\n",
       " 'ca',\n",
       " 'cs',\n",
       " 'cu',\n",
       " 'de',\n",
       " 'en',\n",
       " 'es',\n",
       " 'fr',\n",
       " 'hr',\n",
       " 'it',\n",
       " 'la',\n",
       " 'mk',\n",
       " 'nl',\n",
       " 'pl',\n",
       " 'pt',\n",
       " 'ro',\n",
       " 'ru',\n",
       " 'sk',\n",
       " 'sl',\n",
       " 'sr',\n",
       " 'sw',\n",
       " 'uk']"
      ]
     },
     "execution_count": 2,
     "metadata": {},
     "output_type": "execute_result"
    }
   ],
   "source": [
    "# Ver los idiomas disponibles\n",
    "swadesh.fileids()"
   ]
  },
  {
   "cell_type": "code",
   "execution_count": 5,
   "id": "073ced43-3942-4666-aff4-c72309eba68d",
   "metadata": {},
   "outputs": [
    {
     "data": {
      "text/plain": [
       "207"
      ]
     },
     "execution_count": 5,
     "metadata": {},
     "output_type": "execute_result"
    }
   ],
   "source": [
    "len(swadesh.words('en'))"
   ]
  },
  {
   "cell_type": "code",
   "execution_count": 7,
   "id": "71cde67f-a6c6-47e2-9cfe-d83e534dcdfd",
   "metadata": {},
   "outputs": [],
   "source": [
    "en2es = swadesh.entries(['en','es'])"
   ]
  },
  {
   "cell_type": "code",
   "execution_count": 8,
   "id": "c08407da-163d-4275-ab54-d18774b582e6",
   "metadata": {},
   "outputs": [],
   "source": [
    "translate = dict(en2es)"
   ]
  },
  {
   "cell_type": "code",
   "execution_count": 11,
   "id": "d8d73ab8-b102-43a5-909f-77f9fa6d9dc7",
   "metadata": {
    "collapsed": true,
    "jupyter": {
     "outputs_hidden": true
    },
    "tags": []
   },
   "outputs": [
    {
     "data": {
      "text/plain": [
       "{'I': 'yo',\n",
       " 'you (singular), thou': 'tú, usted',\n",
       " 'he': 'él',\n",
       " 'we': 'nosotros',\n",
       " 'you (plural)': 'vosotros, ustedes',\n",
       " 'they': 'ellos, ellas',\n",
       " 'this': 'este',\n",
       " 'that': 'ese, aquel',\n",
       " 'here': 'aquí, acá',\n",
       " 'there': 'ahí, allí, allá',\n",
       " 'who': 'quien',\n",
       " 'what': 'que',\n",
       " 'where': 'donde',\n",
       " 'when': 'cuando',\n",
       " 'how': 'como',\n",
       " 'not': 'no',\n",
       " 'all': 'todo',\n",
       " 'many': 'muchos',\n",
       " 'some': 'algunos, unos',\n",
       " 'few': 'poco',\n",
       " 'other': 'otro',\n",
       " 'one': 'uno',\n",
       " 'two': 'dos',\n",
       " 'three': 'tres',\n",
       " 'four': 'cuatro',\n",
       " 'five': 'cinco',\n",
       " 'big': 'grande',\n",
       " 'long': 'largo',\n",
       " 'wide': 'ancho',\n",
       " 'thick': 'gordo',\n",
       " 'heavy': 'pesado',\n",
       " 'small': 'pequeño',\n",
       " 'short': 'corto',\n",
       " 'narrow': 'estrecho, angosto',\n",
       " 'thin': 'delgado, flaco',\n",
       " 'woman': 'mujer',\n",
       " 'man (adult male)': 'hombre',\n",
       " 'man (human being)': 'hombre',\n",
       " 'child': 'niño',\n",
       " 'wife': 'esposa, mujer',\n",
       " 'husband': 'esposo, marido',\n",
       " 'mother': 'madre',\n",
       " 'father': 'padre',\n",
       " 'animal': 'animal',\n",
       " 'fish': 'pez, pescado',\n",
       " 'bird': 'ave, pájaro',\n",
       " 'dog': 'perro',\n",
       " 'louse': 'piojo',\n",
       " 'snake': 'serpiente, culebra',\n",
       " 'worm': 'gusano',\n",
       " 'tree': 'árbol',\n",
       " 'forest': 'bosque',\n",
       " 'stick': 'palo',\n",
       " 'fruit': 'fruta',\n",
       " 'seed': 'semilla',\n",
       " 'leaf': 'hoja',\n",
       " 'root': 'raíz',\n",
       " 'bark (from tree)': 'corteza',\n",
       " 'flower': 'flor',\n",
       " 'grass': 'hierba, pasto',\n",
       " 'rope': 'cuerda',\n",
       " 'skin': 'piel',\n",
       " 'meat': 'carne',\n",
       " 'blood': 'sangre',\n",
       " 'bone': 'hueso',\n",
       " 'fat (noun)': 'grasa',\n",
       " 'egg': 'huevo',\n",
       " 'horn': 'cuerno',\n",
       " 'tail': 'cola',\n",
       " 'feather': 'pluma',\n",
       " 'hair': 'cabello, pelo',\n",
       " 'head': 'cabeza',\n",
       " 'ear': 'oreja',\n",
       " 'eye': 'ojo',\n",
       " 'nose': 'nariz',\n",
       " 'mouth': 'boca',\n",
       " 'tooth': 'diente',\n",
       " 'tongue': 'lengua',\n",
       " 'fingernail': 'uña',\n",
       " 'foot': 'pie',\n",
       " 'leg': 'pierna',\n",
       " 'knee': 'rodilla',\n",
       " 'hand': 'mano',\n",
       " 'wing': 'ala',\n",
       " 'belly': 'barriga, vientre, panza',\n",
       " 'guts': 'entrañas, tripas',\n",
       " 'neck': 'cuello',\n",
       " 'back': 'espalda',\n",
       " 'breast': 'pecho, seno',\n",
       " 'heart': 'corazón',\n",
       " 'liver': 'hígado',\n",
       " 'drink': 'beber, tomar',\n",
       " 'eat': 'comer',\n",
       " 'bite': 'morder',\n",
       " 'suck': 'chupar',\n",
       " 'spit': 'escupir',\n",
       " 'vomit': 'vomitar',\n",
       " 'blow': 'soplar',\n",
       " 'breathe': 'respirar',\n",
       " 'laugh': 'reír',\n",
       " 'see': 'ver',\n",
       " 'hear': 'oír',\n",
       " 'know (a fact)': 'saber',\n",
       " 'think': 'pensar',\n",
       " 'smell': 'oler',\n",
       " 'fear': 'temer',\n",
       " 'sleep': 'dormir',\n",
       " 'live': 'vivir',\n",
       " 'die': 'morir',\n",
       " 'kill': 'matar',\n",
       " 'fight': 'pelear',\n",
       " 'hunt': 'cazar',\n",
       " 'hit': 'golpear',\n",
       " 'cut': 'cortar',\n",
       " 'split': 'partir',\n",
       " 'stab': 'apuñalar',\n",
       " 'scratch': 'arañar, rascar',\n",
       " 'dig': 'cavar',\n",
       " 'swim': 'nadar',\n",
       " 'fly (verb)': 'volar',\n",
       " 'walk': 'caminar',\n",
       " 'come': 'venir',\n",
       " 'lie': 'echarse, acostarse, tenderse',\n",
       " 'sit': 'sentarse',\n",
       " 'stand': 'estar de pie',\n",
       " 'turn': 'voltear',\n",
       " 'fall': 'caer',\n",
       " 'give': 'dar',\n",
       " 'hold': 'sostener',\n",
       " 'squeeze': 'apretar',\n",
       " 'rub': 'frotar',\n",
       " 'wash': 'lavar',\n",
       " 'wipe': 'limpiar',\n",
       " 'pull': 'tirar',\n",
       " 'push': 'empujar',\n",
       " 'throw': 'tirar',\n",
       " 'tie': 'atar',\n",
       " 'sew': 'coser',\n",
       " 'count': 'contar',\n",
       " 'say': 'decir',\n",
       " 'sing': 'cantar',\n",
       " 'play': 'jugar',\n",
       " 'float': 'flotar',\n",
       " 'flow': 'fluir',\n",
       " 'freeze': 'helar',\n",
       " 'swell': 'hincharse',\n",
       " 'sun': 'sol',\n",
       " 'moon': 'luna',\n",
       " 'star': 'estrella',\n",
       " 'water': 'agua',\n",
       " 'rain': 'lluvia',\n",
       " 'river': 'río',\n",
       " 'lake': 'lago',\n",
       " 'sea': 'mar',\n",
       " 'salt': 'sal',\n",
       " 'stone': 'piedra',\n",
       " 'sand': 'arena',\n",
       " 'dust': 'polvo',\n",
       " 'earth': 'tierra',\n",
       " 'cloud': 'nube',\n",
       " 'fog': 'niebla',\n",
       " 'sky': 'cielo',\n",
       " 'wind': 'viento',\n",
       " 'snow': 'nieve',\n",
       " 'ice': 'hielo',\n",
       " 'smoke': 'humo',\n",
       " 'fire': 'fuego',\n",
       " 'ashes': 'cenizas',\n",
       " 'burn': 'quemar',\n",
       " 'road': 'camino',\n",
       " 'mountain': 'montaña',\n",
       " 'red': 'rojo',\n",
       " 'green': 'verde',\n",
       " 'yellow': 'amarillo',\n",
       " 'white': 'blanco',\n",
       " 'black': 'negro',\n",
       " 'night': 'noche',\n",
       " 'day': 'día',\n",
       " 'year': 'año',\n",
       " 'warm': 'cálido, tibio',\n",
       " 'cold': 'frío',\n",
       " 'full': 'lleno',\n",
       " 'new': 'nuevo',\n",
       " 'old': 'viejo',\n",
       " 'good': 'bueno',\n",
       " 'bad': 'malo',\n",
       " 'rotten': 'podrido',\n",
       " 'dirty': 'sucio',\n",
       " 'straight': 'recto',\n",
       " 'round': 'redondo',\n",
       " 'sharp': 'afilado',\n",
       " 'dull': 'desafilado',\n",
       " 'smooth': 'suave, liso',\n",
       " 'wet': 'mojado',\n",
       " 'dry': 'seco',\n",
       " 'correct': 'correcto',\n",
       " 'near': 'cerca',\n",
       " 'far': 'lejos',\n",
       " 'right': 'derecha',\n",
       " 'left': 'izquierda',\n",
       " 'at': 'a, en, ante',\n",
       " 'in': 'en',\n",
       " 'with': 'con',\n",
       " 'and': 'y',\n",
       " 'if': 'si',\n",
       " 'because': 'porque',\n",
       " 'name': 'nombre'}"
      ]
     },
     "execution_count": 11,
     "metadata": {},
     "output_type": "execute_result"
    }
   ],
   "source": [
    "translate"
   ]
  },
  {
   "cell_type": "code",
   "execution_count": 14,
   "id": "e9ede73d-f1aa-488e-99b5-459d184b9316",
   "metadata": {},
   "outputs": [
    {
     "data": {
      "text/plain": [
       "'nuevo'"
      ]
     },
     "execution_count": 14,
     "metadata": {},
     "output_type": "execute_result"
    }
   ],
   "source": [
    "translate['new']"
   ]
  }
 ],
 "metadata": {
  "kernelspec": {
   "display_name": "IA",
   "language": "python",
   "name": "ia"
  },
  "language_info": {
   "codemirror_mode": {
    "name": "ipython",
    "version": 3
   },
   "file_extension": ".py",
   "mimetype": "text/x-python",
   "name": "python",
   "nbconvert_exporter": "python",
   "pygments_lexer": "ipython3",
   "version": "3.8.10"
  }
 },
 "nbformat": 4,
 "nbformat_minor": 5
}
