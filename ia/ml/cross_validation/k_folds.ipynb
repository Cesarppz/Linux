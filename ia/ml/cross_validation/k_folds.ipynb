{
 "cells": [
  {
   "cell_type": "code",
   "execution_count": 105,
   "id": "91545722-f436-43e6-b447-88bdccc161a5",
   "metadata": {},
   "outputs": [],
   "source": [
    "import pandas as pd\n",
    "import numpy as np\n",
    "\n",
    "from sklearn.tree import DecisionTreeRegressor\n",
    "from sklearn.linear_model import LinearRegression\n",
    "from sklearn.model_selection import cross_val_score, KFold\n",
    "from sklearn.metrics import mean_squared_error, accuracy_score"
   ]
  },
  {
   "cell_type": "code",
   "execution_count": 2,
   "id": "dee4ae0f-8b15-49e2-a294-3a36c405a0aa",
   "metadata": {},
   "outputs": [],
   "source": [
    "df = pd.read_csv('../data/felicidad.csv')"
   ]
  },
  {
   "cell_type": "code",
   "execution_count": 5,
   "id": "262d931c-1450-4e26-822b-6ccbd7428571",
   "metadata": {},
   "outputs": [],
   "source": [
    "X = df.drop(['country', 'rank', 'score', 'high', 'low'], axis = 1)\n",
    "y = df['score']"
   ]
  },
  {
   "cell_type": "markdown",
   "id": "763a9760-f152-41fd-86c9-f02a752e1ee9",
   "metadata": {},
   "source": [
    "## Hacerlo automaticamente "
   ]
  },
  {
   "cell_type": "code",
   "execution_count": 23,
   "id": "274f7b10-ed8d-447b-af3b-b05a791bdd3d",
   "metadata": {},
   "outputs": [],
   "source": [
    "model = DecisionTreeRegressor()\n",
    "score = cross_val_score(model, X, y, cv = 5,scoring='neg_mean_squared_error')"
   ]
  },
  {
   "cell_type": "code",
   "execution_count": 24,
   "id": "c1d39226-3116-4c5a-8143-d92c63f02e24",
   "metadata": {},
   "outputs": [
    {
     "data": {
      "text/plain": [
       "array([-0.67153387, -0.44358027, -0.47519458, -0.35132709, -0.83071015])"
      ]
     },
     "execution_count": 24,
     "metadata": {},
     "output_type": "execute_result"
    }
   ],
   "source": [
    "score"
   ]
  },
  {
   "cell_type": "code",
   "execution_count": 25,
   "id": "16b67af1-a177-4224-9762-60fb513a3f43",
   "metadata": {},
   "outputs": [
    {
     "name": "stdout",
     "output_type": "stream",
     "text": [
      "Score : 0.5544691925668894\n"
     ]
    }
   ],
   "source": [
    "print('Score :',np.abs(np.mean(score)))"
   ]
  },
  {
   "cell_type": "markdown",
   "id": "e8ae1e01-0b4f-44fe-a83a-45dcd701a81f",
   "metadata": {},
   "source": [
    "## Hacerlo manualmete"
   ]
  },
  {
   "cell_type": "code",
   "execution_count": 62,
   "id": "93fe62e0-2197-4e42-aa7f-cd9d49dc7665",
   "metadata": {},
   "outputs": [],
   "source": [
    "kf = KFold(n_splits= 4, shuffle=True, random_state=0)"
   ]
  },
  {
   "cell_type": "code",
   "execution_count": 99,
   "id": "9f6995d3-d106-4ca7-ad3e-2ef4d885cc18",
   "metadata": {},
   "outputs": [
    {
     "data": {
      "text/html": [
       "<div>\n",
       "<style scoped>\n",
       "    .dataframe tbody tr th:only-of-type {\n",
       "        vertical-align: middle;\n",
       "    }\n",
       "\n",
       "    .dataframe tbody tr th {\n",
       "        vertical-align: top;\n",
       "    }\n",
       "\n",
       "    .dataframe thead th {\n",
       "        text-align: right;\n",
       "    }\n",
       "</style>\n",
       "<table border=\"1\" class=\"dataframe\">\n",
       "  <thead>\n",
       "    <tr style=\"text-align: right;\">\n",
       "      <th></th>\n",
       "      <th>score</th>\n",
       "    </tr>\n",
       "  </thead>\n",
       "  <tbody>\n",
       "    <tr>\n",
       "      <th>0</th>\n",
       "      <td>7.537</td>\n",
       "    </tr>\n",
       "    <tr>\n",
       "      <th>1</th>\n",
       "      <td>7.522</td>\n",
       "    </tr>\n",
       "    <tr>\n",
       "      <th>2</th>\n",
       "      <td>7.504</td>\n",
       "    </tr>\n",
       "    <tr>\n",
       "      <th>3</th>\n",
       "      <td>7.494</td>\n",
       "    </tr>\n",
       "    <tr>\n",
       "      <th>4</th>\n",
       "      <td>7.469</td>\n",
       "    </tr>\n",
       "    <tr>\n",
       "      <th>...</th>\n",
       "      <td>...</td>\n",
       "    </tr>\n",
       "    <tr>\n",
       "      <th>149</th>\n",
       "      <td>3.495</td>\n",
       "    </tr>\n",
       "    <tr>\n",
       "      <th>151</th>\n",
       "      <td>3.462</td>\n",
       "    </tr>\n",
       "    <tr>\n",
       "      <th>152</th>\n",
       "      <td>3.349</td>\n",
       "    </tr>\n",
       "    <tr>\n",
       "      <th>153</th>\n",
       "      <td>2.905</td>\n",
       "    </tr>\n",
       "    <tr>\n",
       "      <th>154</th>\n",
       "      <td>2.693</td>\n",
       "    </tr>\n",
       "  </tbody>\n",
       "</table>\n",
       "<p>117 rows × 1 columns</p>\n",
       "</div>"
      ],
      "text/plain": [
       "     score\n",
       "0    7.537\n",
       "1    7.522\n",
       "2    7.504\n",
       "3    7.494\n",
       "4    7.469\n",
       "..     ...\n",
       "149  3.495\n",
       "151  3.462\n",
       "152  3.349\n",
       "153  2.905\n",
       "154  2.693\n",
       "\n",
       "[117 rows x 1 columns]"
      ]
     },
     "execution_count": 99,
     "metadata": {},
     "output_type": "execute_result"
    }
   ],
   "source": [
    "pd.DataFrame(y.iloc[train,])"
   ]
  },
  {
   "cell_type": "code",
   "execution_count": 112,
   "id": "3c981708-9141-4546-bb95-b0833f765074",
   "metadata": {},
   "outputs": [
    {
     "name": "stdout",
     "output_type": "stream",
     "text": [
      "The error for the folder number 1 = 0.260119109314712\n",
      "The error for the folder number 2 = 0.21976508857008575\n",
      "The error for the folder number 3 = 0.23677062451690725\n",
      "The error for the folder number 4 = 0.31030546626208927\n",
      "\n",
      "The mean of ther erros is equal to 0.2567400721659486\n"
     ]
    }
   ],
   "source": [
    "lst = []\n",
    "cv = 1\n",
    "for train , test in kf.split(X,y= y): \n",
    "    # datasets \n",
    "    X_train = pd.DataFrame(X.iloc[train,:], columns=X.columns)\n",
    "    y_train = pd.DataFrame(y.iloc[train,])\n",
    "    X_test  = pd.DataFrame(X.iloc[test,:], columns=X.columns)\n",
    "    y_test  = pd.DataFrame(y.iloc[test,])\n",
    "    \n",
    "    #Modelo\n",
    "    dt = DecisionTreeRegressor().fit(X_train,y_train)\n",
    "    y_predict = dt.predict(X_test)\n",
    "    lst.append(mean_squared_error(y_predict, y_test))\n",
    "    print(f'The error for the folder number {cv} =',mean_squared_error(y_predict, y_test))\n",
    "    cv += 1\n",
    "    \n",
    "print(f'\\nThe mean of ther erros is equal to {np.mean(lst)}')\n",
    "    "
   ]
  }
 ],
 "metadata": {
  "kernelspec": {
   "display_name": "Python [conda env:ia]",
   "language": "python",
   "name": "conda-env-ia-py"
  },
  "language_info": {
   "codemirror_mode": {
    "name": "ipython",
    "version": 3
   },
   "file_extension": ".py",
   "mimetype": "text/x-python",
   "name": "python",
   "nbconvert_exporter": "python",
   "pygments_lexer": "ipython3",
   "version": "3.8.8"
  }
 },
 "nbformat": 4,
 "nbformat_minor": 5
}
