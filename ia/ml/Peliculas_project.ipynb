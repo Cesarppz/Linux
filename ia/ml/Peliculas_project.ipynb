{
 "cells": [
  {
   "cell_type": "code",
   "execution_count": 272,
   "id": "c906714f-3174-4b46-9cf3-cf0dec204794",
   "metadata": {},
   "outputs": [],
   "source": [
    "import numpy as np\n",
    "import pandas as pd\n",
    "import matplotlib.pyplot as plt\n",
    "import seaborn as sns\n",
    "\n",
    "from sklearn.experimental import enable_iterative_imputer #Habilitar el IterativeImputer\n",
    "from sklearn.impute import IterativeImputer, KNNImputer # Imputar los datos faltantes \n",
    "# Prepocessing\n",
    "from sklearn.preprocessing import OneHotEncoder, StandardScaler\n",
    "import category_encoders as ce\n",
    "#Model Selection\n",
    "from sklearn.model_selection import train_test_split, cross_val_score, cross_validate\n",
    "from sklearn.model_selection import KFold, StratifiedKFold #Para ajustar el cv en el cross validation \n",
    "from sklearn.model_selection import validation_curve\n",
    "# Model\n",
    "from sklearn.linear_model import Lasso, LinearRegression\n",
    "from sklearn.metrics import accuracy_score, mean_squared_error\n",
    "from sklearn.ensemble import RandomForestRegressor\n",
    "#Features\n",
    "from sklearn.decomposition import PCA\n",
    "from sklearn.feature_selection import SelectKBest # Seleccionar las k mejores features\n",
    "from sklearn.feature_selection import mutual_info_regression #Metrica para seleccionar las mejores features\n",
    "\n",
    "import re"
   ]
  },
  {
   "cell_type": "code",
   "execution_count": 116,
   "id": "deb85765-2986-4892-9fec-386ff0328b7d",
   "metadata": {},
   "outputs": [
    {
     "data": {
      "text/html": [
       "<div>\n",
       "<style scoped>\n",
       "    .dataframe tbody tr th:only-of-type {\n",
       "        vertical-align: middle;\n",
       "    }\n",
       "\n",
       "    .dataframe tbody tr th {\n",
       "        vertical-align: top;\n",
       "    }\n",
       "\n",
       "    .dataframe thead th {\n",
       "        text-align: right;\n",
       "    }\n",
       "</style>\n",
       "<table border=\"1\" class=\"dataframe\">\n",
       "  <thead>\n",
       "    <tr style=\"text-align: right;\">\n",
       "      <th></th>\n",
       "      <th>movie_title</th>\n",
       "      <th>title_year</th>\n",
       "      <th>color</th>\n",
       "      <th>aspect_ratio</th>\n",
       "      <th>duration</th>\n",
       "      <th>language</th>\n",
       "      <th>country</th>\n",
       "      <th>duration.1</th>\n",
       "      <th>genres</th>\n",
       "      <th>content_rating</th>\n",
       "      <th>plot_keywords</th>\n",
       "      <th>director_name</th>\n",
       "      <th>actor_1_name</th>\n",
       "      <th>actor_2_name</th>\n",
       "      <th>actor_3_name</th>\n",
       "      <th>cast_total_facebook_likes</th>\n",
       "      <th>budget</th>\n",
       "      <th>imdb_score</th>\n",
       "      <th>gross</th>\n",
       "    </tr>\n",
       "  </thead>\n",
       "  <tbody>\n",
       "    <tr>\n",
       "      <th>0</th>\n",
       "      <td>Avatar</td>\n",
       "      <td>2009.0</td>\n",
       "      <td>Color</td>\n",
       "      <td>1.78</td>\n",
       "      <td>178.0</td>\n",
       "      <td>English</td>\n",
       "      <td>USA</td>\n",
       "      <td>178.0</td>\n",
       "      <td>Action|Adventure|Fantasy|Sci-Fi</td>\n",
       "      <td>PG-13</td>\n",
       "      <td>avatar|future|marine|native|paraplegic</td>\n",
       "      <td>James Cameron</td>\n",
       "      <td>CCH Pounder</td>\n",
       "      <td>Joel David Moore</td>\n",
       "      <td>Wes Studi</td>\n",
       "      <td>4834</td>\n",
       "      <td>237000000.0</td>\n",
       "      <td>7.9</td>\n",
       "      <td>760505847.0</td>\n",
       "    </tr>\n",
       "    <tr>\n",
       "      <th>1</th>\n",
       "      <td>Pirates of the Caribbean: At World's End</td>\n",
       "      <td>2007.0</td>\n",
       "      <td>Color</td>\n",
       "      <td>2.35</td>\n",
       "      <td>169.0</td>\n",
       "      <td>English</td>\n",
       "      <td>USA</td>\n",
       "      <td>169.0</td>\n",
       "      <td>Action|Adventure|Fantasy</td>\n",
       "      <td>PG-13</td>\n",
       "      <td>goddess|marriage ceremony|marriage proposal|pi...</td>\n",
       "      <td>Gore Verbinski</td>\n",
       "      <td>Johnny Depp</td>\n",
       "      <td>Orlando Bloom</td>\n",
       "      <td>Jack Davenport</td>\n",
       "      <td>48350</td>\n",
       "      <td>300000000.0</td>\n",
       "      <td>7.1</td>\n",
       "      <td>309404152.0</td>\n",
       "    </tr>\n",
       "    <tr>\n",
       "      <th>2</th>\n",
       "      <td>Spectre</td>\n",
       "      <td>2015.0</td>\n",
       "      <td>Color</td>\n",
       "      <td>2.35</td>\n",
       "      <td>148.0</td>\n",
       "      <td>English</td>\n",
       "      <td>UK</td>\n",
       "      <td>148.0</td>\n",
       "      <td>Action|Adventure|Thriller</td>\n",
       "      <td>PG-13</td>\n",
       "      <td>bomb|espionage|sequel|spy|terrorist</td>\n",
       "      <td>Sam Mendes</td>\n",
       "      <td>Christoph Waltz</td>\n",
       "      <td>Rory Kinnear</td>\n",
       "      <td>Stephanie Sigman</td>\n",
       "      <td>11700</td>\n",
       "      <td>245000000.0</td>\n",
       "      <td>6.8</td>\n",
       "      <td>200074175.0</td>\n",
       "    </tr>\n",
       "    <tr>\n",
       "      <th>3</th>\n",
       "      <td>The Dark Knight Rises</td>\n",
       "      <td>2012.0</td>\n",
       "      <td>Color</td>\n",
       "      <td>2.35</td>\n",
       "      <td>164.0</td>\n",
       "      <td>English</td>\n",
       "      <td>USA</td>\n",
       "      <td>164.0</td>\n",
       "      <td>Action|Thriller</td>\n",
       "      <td>PG-13</td>\n",
       "      <td>deception|imprisonment|lawlessness|police offi...</td>\n",
       "      <td>Christopher Nolan</td>\n",
       "      <td>Tom Hardy</td>\n",
       "      <td>Christian Bale</td>\n",
       "      <td>Joseph Gordon-Levitt</td>\n",
       "      <td>106759</td>\n",
       "      <td>250000000.0</td>\n",
       "      <td>8.5</td>\n",
       "      <td>448130642.0</td>\n",
       "    </tr>\n",
       "    <tr>\n",
       "      <th>4</th>\n",
       "      <td>Star Wars: Episode VII - The Force Awakens    ...</td>\n",
       "      <td>NaN</td>\n",
       "      <td>NaN</td>\n",
       "      <td>NaN</td>\n",
       "      <td>NaN</td>\n",
       "      <td>NaN</td>\n",
       "      <td>NaN</td>\n",
       "      <td>NaN</td>\n",
       "      <td>Documentary</td>\n",
       "      <td>NaN</td>\n",
       "      <td>NaN</td>\n",
       "      <td>Doug Walker</td>\n",
       "      <td>Doug Walker</td>\n",
       "      <td>Rob Walker</td>\n",
       "      <td>NaN</td>\n",
       "      <td>143</td>\n",
       "      <td>NaN</td>\n",
       "      <td>7.1</td>\n",
       "      <td>NaN</td>\n",
       "    </tr>\n",
       "  </tbody>\n",
       "</table>\n",
       "</div>"
      ],
      "text/plain": [
       "                                         movie_title  title_year  color  \\\n",
       "0                                            Avatar       2009.0  Color   \n",
       "1          Pirates of the Caribbean: At World's End       2007.0  Color   \n",
       "2                                           Spectre       2015.0  Color   \n",
       "3                             The Dark Knight Rises       2012.0  Color   \n",
       "4  Star Wars: Episode VII - The Force Awakens    ...         NaN    NaN   \n",
       "\n",
       "   aspect_ratio  duration language country  duration.1  \\\n",
       "0          1.78     178.0  English     USA       178.0   \n",
       "1          2.35     169.0  English     USA       169.0   \n",
       "2          2.35     148.0  English      UK       148.0   \n",
       "3          2.35     164.0  English     USA       164.0   \n",
       "4           NaN       NaN      NaN     NaN         NaN   \n",
       "\n",
       "                            genres content_rating  \\\n",
       "0  Action|Adventure|Fantasy|Sci-Fi          PG-13   \n",
       "1         Action|Adventure|Fantasy          PG-13   \n",
       "2        Action|Adventure|Thriller          PG-13   \n",
       "3                  Action|Thriller          PG-13   \n",
       "4                      Documentary            NaN   \n",
       "\n",
       "                                       plot_keywords      director_name  \\\n",
       "0             avatar|future|marine|native|paraplegic      James Cameron   \n",
       "1  goddess|marriage ceremony|marriage proposal|pi...     Gore Verbinski   \n",
       "2                bomb|espionage|sequel|spy|terrorist         Sam Mendes   \n",
       "3  deception|imprisonment|lawlessness|police offi...  Christopher Nolan   \n",
       "4                                                NaN        Doug Walker   \n",
       "\n",
       "      actor_1_name      actor_2_name          actor_3_name  \\\n",
       "0      CCH Pounder  Joel David Moore             Wes Studi   \n",
       "1      Johnny Depp     Orlando Bloom        Jack Davenport   \n",
       "2  Christoph Waltz      Rory Kinnear      Stephanie Sigman   \n",
       "3        Tom Hardy    Christian Bale  Joseph Gordon-Levitt   \n",
       "4      Doug Walker        Rob Walker                   NaN   \n",
       "\n",
       "   cast_total_facebook_likes       budget  imdb_score        gross  \n",
       "0                       4834  237000000.0         7.9  760505847.0  \n",
       "1                      48350  300000000.0         7.1  309404152.0  \n",
       "2                      11700  245000000.0         6.8  200074175.0  \n",
       "3                     106759  250000000.0         8.5  448130642.0  \n",
       "4                        143          NaN         7.1          NaN  "
      ]
     },
     "execution_count": 116,
     "metadata": {},
     "output_type": "execute_result"
    }
   ],
   "source": [
    "df = pd.read_csv('data/peliculas.csv', encoding='utf-8')\n",
    "df.head()"
   ]
  },
  {
   "cell_type": "code",
   "execution_count": 117,
   "id": "6a5b0994-bdb2-436d-a22b-ea69da0a75f9",
   "metadata": {},
   "outputs": [
    {
     "name": "stdout",
     "output_type": "stream",
     "text": [
      "<class 'pandas.core.frame.DataFrame'>\n",
      "RangeIndex: 5043 entries, 0 to 5042\n",
      "Data columns (total 19 columns):\n",
      " #   Column                     Non-Null Count  Dtype  \n",
      "---  ------                     --------------  -----  \n",
      " 0   movie_title                5043 non-null   object \n",
      " 1   title_year                 4935 non-null   float64\n",
      " 2   color                      5024 non-null   object \n",
      " 3   aspect_ratio               4714 non-null   float64\n",
      " 4   duration                   5028 non-null   float64\n",
      " 5   language                   5031 non-null   object \n",
      " 6   country                    5038 non-null   object \n",
      " 7   duration.1                 5028 non-null   float64\n",
      " 8   genres                     5043 non-null   object \n",
      " 9   content_rating             4740 non-null   object \n",
      " 10  plot_keywords              4890 non-null   object \n",
      " 11  director_name              4939 non-null   object \n",
      " 12  actor_1_name               5036 non-null   object \n",
      " 13  actor_2_name               5030 non-null   object \n",
      " 14  actor_3_name               5020 non-null   object \n",
      " 15  cast_total_facebook_likes  5043 non-null   int64  \n",
      " 16  budget                     4551 non-null   float64\n",
      " 17  imdb_score                 5043 non-null   float64\n",
      " 18  gross                      4159 non-null   float64\n",
      "dtypes: float64(7), int64(1), object(11)\n",
      "memory usage: 748.7+ KB\n"
     ]
    }
   ],
   "source": [
    "df.info()"
   ]
  },
  {
   "cell_type": "code",
   "execution_count": 118,
   "id": "9685c692-86c1-4843-9421-85d1559d541f",
   "metadata": {},
   "outputs": [
    {
     "data": {
      "text/html": [
       "<div>\n",
       "<style scoped>\n",
       "    .dataframe tbody tr th:only-of-type {\n",
       "        vertical-align: middle;\n",
       "    }\n",
       "\n",
       "    .dataframe tbody tr th {\n",
       "        vertical-align: top;\n",
       "    }\n",
       "\n",
       "    .dataframe thead th {\n",
       "        text-align: right;\n",
       "    }\n",
       "</style>\n",
       "<table border=\"1\" class=\"dataframe\">\n",
       "  <thead>\n",
       "    <tr style=\"text-align: right;\">\n",
       "      <th></th>\n",
       "      <th>title_year</th>\n",
       "      <th>aspect_ratio</th>\n",
       "      <th>duration</th>\n",
       "      <th>duration.1</th>\n",
       "      <th>cast_total_facebook_likes</th>\n",
       "      <th>budget</th>\n",
       "      <th>imdb_score</th>\n",
       "      <th>gross</th>\n",
       "    </tr>\n",
       "  </thead>\n",
       "  <tbody>\n",
       "    <tr>\n",
       "      <th>count</th>\n",
       "      <td>4935.000000</td>\n",
       "      <td>4714.000000</td>\n",
       "      <td>5028.000000</td>\n",
       "      <td>5028.000000</td>\n",
       "      <td>5043.000000</td>\n",
       "      <td>4.551000e+03</td>\n",
       "      <td>5043.000000</td>\n",
       "      <td>4.159000e+03</td>\n",
       "    </tr>\n",
       "    <tr>\n",
       "      <th>mean</th>\n",
       "      <td>2002.470517</td>\n",
       "      <td>2.220403</td>\n",
       "      <td>107.201074</td>\n",
       "      <td>107.201074</td>\n",
       "      <td>9699.063851</td>\n",
       "      <td>3.975262e+07</td>\n",
       "      <td>6.442138</td>\n",
       "      <td>4.846841e+07</td>\n",
       "    </tr>\n",
       "    <tr>\n",
       "      <th>std</th>\n",
       "      <td>12.474599</td>\n",
       "      <td>1.385113</td>\n",
       "      <td>25.197441</td>\n",
       "      <td>25.197441</td>\n",
       "      <td>18163.799124</td>\n",
       "      <td>2.061149e+08</td>\n",
       "      <td>1.125116</td>\n",
       "      <td>6.845299e+07</td>\n",
       "    </tr>\n",
       "    <tr>\n",
       "      <th>min</th>\n",
       "      <td>1916.000000</td>\n",
       "      <td>1.180000</td>\n",
       "      <td>7.000000</td>\n",
       "      <td>7.000000</td>\n",
       "      <td>0.000000</td>\n",
       "      <td>2.180000e+02</td>\n",
       "      <td>1.600000</td>\n",
       "      <td>1.620000e+02</td>\n",
       "    </tr>\n",
       "    <tr>\n",
       "      <th>25%</th>\n",
       "      <td>1999.000000</td>\n",
       "      <td>1.850000</td>\n",
       "      <td>93.000000</td>\n",
       "      <td>93.000000</td>\n",
       "      <td>1411.000000</td>\n",
       "      <td>6.000000e+06</td>\n",
       "      <td>5.800000</td>\n",
       "      <td>5.340988e+06</td>\n",
       "    </tr>\n",
       "    <tr>\n",
       "      <th>50%</th>\n",
       "      <td>2005.000000</td>\n",
       "      <td>2.350000</td>\n",
       "      <td>103.000000</td>\n",
       "      <td>103.000000</td>\n",
       "      <td>3090.000000</td>\n",
       "      <td>2.000000e+07</td>\n",
       "      <td>6.600000</td>\n",
       "      <td>2.551750e+07</td>\n",
       "    </tr>\n",
       "    <tr>\n",
       "      <th>75%</th>\n",
       "      <td>2011.000000</td>\n",
       "      <td>2.350000</td>\n",
       "      <td>118.000000</td>\n",
       "      <td>118.000000</td>\n",
       "      <td>13756.500000</td>\n",
       "      <td>4.500000e+07</td>\n",
       "      <td>7.200000</td>\n",
       "      <td>6.230944e+07</td>\n",
       "    </tr>\n",
       "    <tr>\n",
       "      <th>max</th>\n",
       "      <td>2016.000000</td>\n",
       "      <td>16.000000</td>\n",
       "      <td>511.000000</td>\n",
       "      <td>511.000000</td>\n",
       "      <td>656730.000000</td>\n",
       "      <td>1.221550e+10</td>\n",
       "      <td>9.500000</td>\n",
       "      <td>7.605058e+08</td>\n",
       "    </tr>\n",
       "  </tbody>\n",
       "</table>\n",
       "</div>"
      ],
      "text/plain": [
       "        title_year  aspect_ratio     duration   duration.1  \\\n",
       "count  4935.000000   4714.000000  5028.000000  5028.000000   \n",
       "mean   2002.470517      2.220403   107.201074   107.201074   \n",
       "std      12.474599      1.385113    25.197441    25.197441   \n",
       "min    1916.000000      1.180000     7.000000     7.000000   \n",
       "25%    1999.000000      1.850000    93.000000    93.000000   \n",
       "50%    2005.000000      2.350000   103.000000   103.000000   \n",
       "75%    2011.000000      2.350000   118.000000   118.000000   \n",
       "max    2016.000000     16.000000   511.000000   511.000000   \n",
       "\n",
       "       cast_total_facebook_likes        budget   imdb_score         gross  \n",
       "count                5043.000000  4.551000e+03  5043.000000  4.159000e+03  \n",
       "mean                 9699.063851  3.975262e+07     6.442138  4.846841e+07  \n",
       "std                 18163.799124  2.061149e+08     1.125116  6.845299e+07  \n",
       "min                     0.000000  2.180000e+02     1.600000  1.620000e+02  \n",
       "25%                  1411.000000  6.000000e+06     5.800000  5.340988e+06  \n",
       "50%                  3090.000000  2.000000e+07     6.600000  2.551750e+07  \n",
       "75%                 13756.500000  4.500000e+07     7.200000  6.230944e+07  \n",
       "max                656730.000000  1.221550e+10     9.500000  7.605058e+08  "
      ]
     },
     "execution_count": 118,
     "metadata": {},
     "output_type": "execute_result"
    }
   ],
   "source": [
    "df.describe()"
   ]
  },
  {
   "cell_type": "markdown",
   "id": "b9d48c61-b43f-48cf-aafa-4f7f0ecf64b5",
   "metadata": {},
   "source": [
    "# *Limpieza*"
   ]
  },
  {
   "cell_type": "code",
   "execution_count": 119,
   "id": "be512021-7b34-433d-9e5d-a853ffda0f99",
   "metadata": {},
   "outputs": [],
   "source": [
    "df['movie_title'] = df['movie_title'].apply(lambda x : x.replace('\\xa0',''))"
   ]
  },
  {
   "cell_type": "code",
   "execution_count": 120,
   "id": "04f44a98-44c4-47f2-84f1-b9a53f089825",
   "metadata": {},
   "outputs": [],
   "source": [
    "del df['duration.1']"
   ]
  },
  {
   "cell_type": "markdown",
   "id": "4ef0f7cb-b9b2-461d-ac7b-e597233245b6",
   "metadata": {},
   "source": [
    "## Datos Repetidos"
   ]
  },
  {
   "cell_type": "code",
   "execution_count": 121,
   "id": "b8c6b58b-be03-4ab0-ac42-073038e82ead",
   "metadata": {},
   "outputs": [],
   "source": [
    "drop_index = df[df[['movie_title','title_year']].duplicated()].index"
   ]
  },
  {
   "cell_type": "code",
   "execution_count": 122,
   "id": "cbf2d8dd-165a-4611-b8f5-60e185ac5351",
   "metadata": {},
   "outputs": [],
   "source": [
    "df.drop(drop_index, axis=0, inplace=True)"
   ]
  },
  {
   "cell_type": "markdown",
   "id": "4c5fbc8d-c71c-48cf-8752-526fcb57c5c4",
   "metadata": {},
   "source": [
    "## Datos faltantes"
   ]
  },
  {
   "cell_type": "code",
   "execution_count": 123,
   "id": "d93c4f4f-34b6-46c6-bcfc-a71d39ba714e",
   "metadata": {},
   "outputs": [
    {
     "data": {
      "text/plain": [
       "movie_title                    0\n",
       "title_year                   106\n",
       "color                         19\n",
       "aspect_ratio                 326\n",
       "duration                      15\n",
       "language                      12\n",
       "country                        5\n",
       "genres                         0\n",
       "content_rating               301\n",
       "plot_keywords                152\n",
       "director_name                102\n",
       "actor_1_name                   7\n",
       "actor_2_name                  13\n",
       "actor_3_name                  23\n",
       "cast_total_facebook_likes      0\n",
       "budget                       485\n",
       "imdb_score                     0\n",
       "gross                        863\n",
       "dtype: int64"
      ]
     },
     "execution_count": 123,
     "metadata": {},
     "output_type": "execute_result"
    }
   ],
   "source": [
    "df.isna().sum()"
   ]
  },
  {
   "cell_type": "code",
   "execution_count": 124,
   "id": "04eebb49-af18-4ed9-a295-49d01821d093",
   "metadata": {},
   "outputs": [],
   "source": [
    "columns_types = (df.dtypes == 'float64') | (df.dtypes.str.startswith('int'))\n",
    "num_columns = [x for x in columns_types.keys() if columns_types[x] == True]\n",
    "str_columns = [x for x in columns_types.keys() if columns_types[x] == False]"
   ]
  },
  {
   "cell_type": "code",
   "execution_count": 125,
   "id": "6a83ebb4-3419-411c-ae91-71a191b8be82",
   "metadata": {},
   "outputs": [
    {
     "data": {
      "text/plain": [
       "['title_year', 'aspect_ratio', 'duration', 'budget', 'imdb_score', 'gross']"
      ]
     },
     "execution_count": 125,
     "metadata": {},
     "output_type": "execute_result"
    }
   ],
   "source": [
    "num_columns"
   ]
  },
  {
   "cell_type": "code",
   "execution_count": 126,
   "id": "26a5bacc-942f-46df-9898-4606357c07de",
   "metadata": {},
   "outputs": [
    {
     "data": {
      "text/plain": [
       "<function matplotlib.pyplot.hist(x, bins=None, range=None, density=False, weights=None, cumulative=False, bottom=None, histtype='bar', align='mid', orientation='vertical', rwidth=None, log=False, color=None, label=None, stacked=False, *, data=None, **kwargs)>"
      ]
     },
     "execution_count": 126,
     "metadata": {},
     "output_type": "execute_result"
    }
   ],
   "source": [
    "plt.hist"
   ]
  },
  {
   "cell_type": "code",
   "execution_count": 127,
   "id": "a5596437-5616-44c9-a7e2-d7ac309e2d50",
   "metadata": {},
   "outputs": [
    {
     "data": {
      "image/png": "[encoded data removed]",
      "text/plain": [
       "<Figure size 1296x720 with 6 Axes>"
      ]
     },
     "metadata": {
      "needs_background": "light"
     },
     "output_type": "display_data"
    }
   ],
   "source": [
    "fig, ax = plt.subplots(2,3, figsize = (18,10))\n",
    "\n",
    "for idx, i in enumerate(num_columns):\n",
    "    if idx < 3:\n",
    "        ax[0,idx].hist(df[i], label = i)\n",
    "        ax[0,idx].set_xlabel(i)\n",
    "        ax[0,idx].legend()\n",
    "    elif idx >= 3:\n",
    "        idx -= 3\n",
    "        ax[1,idx].hist(df[i], label = i, color='orange')\n",
    "        ax[1,idx].set_xlabel(i)\n",
    "        ax[1,idx].legend()"
   ]
  },
  {
   "cell_type": "code",
   "execution_count": 128,
   "id": "d5d5bdba-3e72-4bbf-9b38-bb0df92f8bd8",
   "metadata": {},
   "outputs": [
    {
     "data": {
      "text/html": [
       "<div>\n",
       "<style scoped>\n",
       "    .dataframe tbody tr th:only-of-type {\n",
       "        vertical-align: middle;\n",
       "    }\n",
       "\n",
       "    .dataframe tbody tr th {\n",
       "        vertical-align: top;\n",
       "    }\n",
       "\n",
       "    .dataframe thead th {\n",
       "        text-align: right;\n",
       "    }\n",
       "</style>\n",
       "<table border=\"1\" class=\"dataframe\">\n",
       "  <thead>\n",
       "    <tr style=\"text-align: right;\">\n",
       "      <th></th>\n",
       "      <th>movie_title</th>\n",
       "      <th>title_year</th>\n",
       "      <th>color</th>\n",
       "      <th>aspect_ratio</th>\n",
       "      <th>duration</th>\n",
       "      <th>language</th>\n",
       "      <th>country</th>\n",
       "      <th>genres</th>\n",
       "      <th>content_rating</th>\n",
       "      <th>plot_keywords</th>\n",
       "      <th>director_name</th>\n",
       "      <th>actor_1_name</th>\n",
       "      <th>actor_2_name</th>\n",
       "      <th>actor_3_name</th>\n",
       "      <th>cast_total_facebook_likes</th>\n",
       "      <th>budget</th>\n",
       "      <th>imdb_score</th>\n",
       "      <th>gross</th>\n",
       "    </tr>\n",
       "  </thead>\n",
       "  <tbody>\n",
       "    <tr>\n",
       "      <th>0</th>\n",
       "      <td>Avatar</td>\n",
       "      <td>2009.0</td>\n",
       "      <td>Color</td>\n",
       "      <td>1.78</td>\n",
       "      <td>178.0</td>\n",
       "      <td>English</td>\n",
       "      <td>USA</td>\n",
       "      <td>Action|Adventure|Fantasy|Sci-Fi</td>\n",
       "      <td>PG-13</td>\n",
       "      <td>avatar|future|marine|native|paraplegic</td>\n",
       "      <td>James Cameron</td>\n",
       "      <td>CCH Pounder</td>\n",
       "      <td>Joel David Moore</td>\n",
       "      <td>Wes Studi</td>\n",
       "      <td>4834</td>\n",
       "      <td>237000000.0</td>\n",
       "      <td>7.9</td>\n",
       "      <td>760505847.0</td>\n",
       "    </tr>\n",
       "    <tr>\n",
       "      <th>3</th>\n",
       "      <td>The Dark Knight Rises</td>\n",
       "      <td>2012.0</td>\n",
       "      <td>Color</td>\n",
       "      <td>2.35</td>\n",
       "      <td>164.0</td>\n",
       "      <td>English</td>\n",
       "      <td>USA</td>\n",
       "      <td>Action|Thriller</td>\n",
       "      <td>PG-13</td>\n",
       "      <td>deception|imprisonment|lawlessness|police offi...</td>\n",
       "      <td>Christopher Nolan</td>\n",
       "      <td>Tom Hardy</td>\n",
       "      <td>Christian Bale</td>\n",
       "      <td>Joseph Gordon-Levitt</td>\n",
       "      <td>106759</td>\n",
       "      <td>250000000.0</td>\n",
       "      <td>8.5</td>\n",
       "      <td>448130642.0</td>\n",
       "    </tr>\n",
       "    <tr>\n",
       "      <th>8</th>\n",
       "      <td>Avengers: Age of Ultron</td>\n",
       "      <td>2015.0</td>\n",
       "      <td>Color</td>\n",
       "      <td>2.35</td>\n",
       "      <td>141.0</td>\n",
       "      <td>English</td>\n",
       "      <td>USA</td>\n",
       "      <td>Action|Adventure|Sci-Fi</td>\n",
       "      <td>PG-13</td>\n",
       "      <td>artificial intelligence|based on comic book|ca...</td>\n",
       "      <td>Joss Whedon</td>\n",
       "      <td>Chris Hemsworth</td>\n",
       "      <td>Robert Downey Jr.</td>\n",
       "      <td>Scarlett Johansson</td>\n",
       "      <td>92000</td>\n",
       "      <td>250000000.0</td>\n",
       "      <td>7.5</td>\n",
       "      <td>458991599.0</td>\n",
       "    </tr>\n",
       "    <tr>\n",
       "      <th>13</th>\n",
       "      <td>Pirates of the Caribbean: Dead Man's Chest</td>\n",
       "      <td>2006.0</td>\n",
       "      <td>Color</td>\n",
       "      <td>2.35</td>\n",
       "      <td>151.0</td>\n",
       "      <td>English</td>\n",
       "      <td>USA</td>\n",
       "      <td>Action|Adventure|Fantasy</td>\n",
       "      <td>PG-13</td>\n",
       "      <td>box office hit|giant squid|heart|liar's dice|m...</td>\n",
       "      <td>Gore Verbinski</td>\n",
       "      <td>Johnny Depp</td>\n",
       "      <td>Orlando Bloom</td>\n",
       "      <td>Jack Davenport</td>\n",
       "      <td>48486</td>\n",
       "      <td>225000000.0</td>\n",
       "      <td>7.3</td>\n",
       "      <td>423032628.0</td>\n",
       "    </tr>\n",
       "    <tr>\n",
       "      <th>17</th>\n",
       "      <td>The Avengers</td>\n",
       "      <td>2012.0</td>\n",
       "      <td>Color</td>\n",
       "      <td>1.85</td>\n",
       "      <td>173.0</td>\n",
       "      <td>English</td>\n",
       "      <td>USA</td>\n",
       "      <td>Action|Adventure|Sci-Fi</td>\n",
       "      <td>PG-13</td>\n",
       "      <td>alien invasion|assassin|battle|iron man|soldier</td>\n",
       "      <td>Joss Whedon</td>\n",
       "      <td>Chris Hemsworth</td>\n",
       "      <td>Robert Downey Jr.</td>\n",
       "      <td>Scarlett Johansson</td>\n",
       "      <td>87697</td>\n",
       "      <td>220000000.0</td>\n",
       "      <td>8.1</td>\n",
       "      <td>623279547.0</td>\n",
       "    </tr>\n",
       "  </tbody>\n",
       "</table>\n",
       "</div>"
      ],
      "text/plain": [
       "                                   movie_title  title_year  color  \\\n",
       "0                                       Avatar      2009.0  Color   \n",
       "3                        The Dark Knight Rises      2012.0  Color   \n",
       "8                      Avengers: Age of Ultron      2015.0  Color   \n",
       "13  Pirates of the Caribbean: Dead Man's Chest      2006.0  Color   \n",
       "17                                The Avengers      2012.0  Color   \n",
       "\n",
       "    aspect_ratio  duration language country                           genres  \\\n",
       "0           1.78     178.0  English     USA  Action|Adventure|Fantasy|Sci-Fi   \n",
       "3           2.35     164.0  English     USA                  Action|Thriller   \n",
       "8           2.35     141.0  English     USA          Action|Adventure|Sci-Fi   \n",
       "13          2.35     151.0  English     USA         Action|Adventure|Fantasy   \n",
       "17          1.85     173.0  English     USA          Action|Adventure|Sci-Fi   \n",
       "\n",
       "   content_rating                                      plot_keywords  \\\n",
       "0           PG-13             avatar|future|marine|native|paraplegic   \n",
       "3           PG-13  deception|imprisonment|lawlessness|police offi...   \n",
       "8           PG-13  artificial intelligence|based on comic book|ca...   \n",
       "13          PG-13  box office hit|giant squid|heart|liar's dice|m...   \n",
       "17          PG-13    alien invasion|assassin|battle|iron man|soldier   \n",
       "\n",
       "        director_name     actor_1_name       actor_2_name  \\\n",
       "0       James Cameron      CCH Pounder   Joel David Moore   \n",
       "3   Christopher Nolan        Tom Hardy     Christian Bale   \n",
       "8         Joss Whedon  Chris Hemsworth  Robert Downey Jr.   \n",
       "13     Gore Verbinski      Johnny Depp      Orlando Bloom   \n",
       "17        Joss Whedon  Chris Hemsworth  Robert Downey Jr.   \n",
       "\n",
       "            actor_3_name  cast_total_facebook_likes       budget  imdb_score  \\\n",
       "0              Wes Studi                       4834  237000000.0         7.9   \n",
       "3   Joseph Gordon-Levitt                     106759  250000000.0         8.5   \n",
       "8     Scarlett Johansson                      92000  250000000.0         7.5   \n",
       "13        Jack Davenport                      48486  225000000.0         7.3   \n",
       "17    Scarlett Johansson                      87697  220000000.0         8.1   \n",
       "\n",
       "          gross  \n",
       "0   760505847.0  \n",
       "3   448130642.0  \n",
       "8   458991599.0  \n",
       "13  423032628.0  \n",
       "17  623279547.0  "
      ]
     },
     "execution_count": 128,
     "metadata": {},
     "output_type": "execute_result"
    }
   ],
   "source": [
    "df[df['gross'] > 4*100000000].head()"
   ]
  },
  {
   "cell_type": "code",
   "execution_count": 129,
   "id": "95312847-c215-44c0-a40f-6b0a793288b4",
   "metadata": {},
   "outputs": [
    {
     "data": {
      "text/html": [
       "<div>\n",
       "<style scoped>\n",
       "    .dataframe tbody tr th:only-of-type {\n",
       "        vertical-align: middle;\n",
       "    }\n",
       "\n",
       "    .dataframe tbody tr th {\n",
       "        vertical-align: top;\n",
       "    }\n",
       "\n",
       "    .dataframe thead th {\n",
       "        text-align: right;\n",
       "    }\n",
       "</style>\n",
       "<table border=\"1\" class=\"dataframe\">\n",
       "  <thead>\n",
       "    <tr style=\"text-align: right;\">\n",
       "      <th></th>\n",
       "      <th>movie_title</th>\n",
       "      <th>title_year</th>\n",
       "      <th>color</th>\n",
       "      <th>aspect_ratio</th>\n",
       "      <th>duration</th>\n",
       "      <th>language</th>\n",
       "      <th>country</th>\n",
       "      <th>genres</th>\n",
       "      <th>content_rating</th>\n",
       "      <th>plot_keywords</th>\n",
       "      <th>director_name</th>\n",
       "      <th>actor_1_name</th>\n",
       "      <th>actor_2_name</th>\n",
       "      <th>actor_3_name</th>\n",
       "      <th>cast_total_facebook_likes</th>\n",
       "      <th>budget</th>\n",
       "      <th>imdb_score</th>\n",
       "      <th>gross</th>\n",
       "    </tr>\n",
       "  </thead>\n",
       "  <tbody>\n",
       "    <tr>\n",
       "      <th>2323</th>\n",
       "      <td>Princess Mononoke</td>\n",
       "      <td>1997.0</td>\n",
       "      <td>Color</td>\n",
       "      <td>1.85</td>\n",
       "      <td>134.0</td>\n",
       "      <td>Japanese</td>\n",
       "      <td>Japan</td>\n",
       "      <td>Adventure|Animation|Fantasy</td>\n",
       "      <td>PG-13</td>\n",
       "      <td>anime|cult film|forest|princess|studio ghibli</td>\n",
       "      <td>Hayao Miyazaki</td>\n",
       "      <td>Minnie Driver</td>\n",
       "      <td>Jada Pinkett Smith</td>\n",
       "      <td>Billy Crudup</td>\n",
       "      <td>2710</td>\n",
       "      <td>2.400000e+09</td>\n",
       "      <td>8.4</td>\n",
       "      <td>2298191.0</td>\n",
       "    </tr>\n",
       "    <tr>\n",
       "      <th>2334</th>\n",
       "      <td>Steamboy</td>\n",
       "      <td>2004.0</td>\n",
       "      <td>Color</td>\n",
       "      <td>1.85</td>\n",
       "      <td>103.0</td>\n",
       "      <td>Japanese</td>\n",
       "      <td>Japan</td>\n",
       "      <td>Action|Adventure|Animation|Family|Sci-Fi|Thriller</td>\n",
       "      <td>PG-13</td>\n",
       "      <td>19th century|ball|boy|inventor|steam</td>\n",
       "      <td>Katsuhiro Ôtomo</td>\n",
       "      <td>William Hootkins</td>\n",
       "      <td>Robin Atkin Downes</td>\n",
       "      <td>Rosalind Ayres</td>\n",
       "      <td>991</td>\n",
       "      <td>2.127520e+09</td>\n",
       "      <td>6.9</td>\n",
       "      <td>410388.0</td>\n",
       "    </tr>\n",
       "    <tr>\n",
       "      <th>2988</th>\n",
       "      <td>The Host</td>\n",
       "      <td>2006.0</td>\n",
       "      <td>Color</td>\n",
       "      <td>1.85</td>\n",
       "      <td>110.0</td>\n",
       "      <td>Korean</td>\n",
       "      <td>South Korea</td>\n",
       "      <td>Comedy|Drama|Horror|Sci-Fi</td>\n",
       "      <td>R</td>\n",
       "      <td>daughter|han river|monster|river|seoul</td>\n",
       "      <td>Joon-ho Bong</td>\n",
       "      <td>Doona Bae</td>\n",
       "      <td>Kang-ho Song</td>\n",
       "      <td>Ah-sung Ko</td>\n",
       "      <td>1173</td>\n",
       "      <td>1.221550e+10</td>\n",
       "      <td>7.0</td>\n",
       "      <td>2201412.0</td>\n",
       "    </tr>\n",
       "    <tr>\n",
       "      <th>3005</th>\n",
       "      <td>Fateless</td>\n",
       "      <td>2005.0</td>\n",
       "      <td>Color</td>\n",
       "      <td>2.35</td>\n",
       "      <td>134.0</td>\n",
       "      <td>Hungarian</td>\n",
       "      <td>Hungary</td>\n",
       "      <td>Drama|Romance|War</td>\n",
       "      <td>R</td>\n",
       "      <td>bus|death|gay slur|hatred|jewish</td>\n",
       "      <td>Lajos Koltai</td>\n",
       "      <td>Marcell Nagy</td>\n",
       "      <td>Péter Fancsikai</td>\n",
       "      <td>Bálint Péntek</td>\n",
       "      <td>11</td>\n",
       "      <td>2.500000e+09</td>\n",
       "      <td>7.1</td>\n",
       "      <td>195888.0</td>\n",
       "    </tr>\n",
       "    <tr>\n",
       "      <th>3859</th>\n",
       "      <td>Lady Vengeance</td>\n",
       "      <td>2005.0</td>\n",
       "      <td>Color</td>\n",
       "      <td>2.35</td>\n",
       "      <td>112.0</td>\n",
       "      <td>Korean</td>\n",
       "      <td>South Korea</td>\n",
       "      <td>Crime|Drama</td>\n",
       "      <td>R</td>\n",
       "      <td>cake|christian|lesbian sex|oral sex|pregnant s...</td>\n",
       "      <td>Chan-wook Park</td>\n",
       "      <td>Min-sik Choi</td>\n",
       "      <td>Yeong-ae Lee</td>\n",
       "      <td>Hye-jeong Kang</td>\n",
       "      <td>907</td>\n",
       "      <td>4.200000e+09</td>\n",
       "      <td>7.7</td>\n",
       "      <td>211667.0</td>\n",
       "    </tr>\n",
       "  </tbody>\n",
       "</table>\n",
       "</div>"
      ],
      "text/plain": [
       "            movie_title  title_year  color  aspect_ratio  duration   language  \\\n",
       "2323  Princess Mononoke      1997.0  Color          1.85     134.0   Japanese   \n",
       "2334           Steamboy      2004.0  Color          1.85     103.0   Japanese   \n",
       "2988           The Host      2006.0  Color          1.85     110.0     Korean   \n",
       "3005           Fateless      2005.0  Color          2.35     134.0  Hungarian   \n",
       "3859     Lady Vengeance      2005.0  Color          2.35     112.0     Korean   \n",
       "\n",
       "          country                                             genres  \\\n",
       "2323        Japan                        Adventure|Animation|Fantasy   \n",
       "2334        Japan  Action|Adventure|Animation|Family|Sci-Fi|Thriller   \n",
       "2988  South Korea                         Comedy|Drama|Horror|Sci-Fi   \n",
       "3005      Hungary                                  Drama|Romance|War   \n",
       "3859  South Korea                                        Crime|Drama   \n",
       "\n",
       "     content_rating                                      plot_keywords  \\\n",
       "2323          PG-13      anime|cult film|forest|princess|studio ghibli   \n",
       "2334          PG-13               19th century|ball|boy|inventor|steam   \n",
       "2988              R             daughter|han river|monster|river|seoul   \n",
       "3005              R                   bus|death|gay slur|hatred|jewish   \n",
       "3859              R  cake|christian|lesbian sex|oral sex|pregnant s...   \n",
       "\n",
       "        director_name      actor_1_name        actor_2_name    actor_3_name  \\\n",
       "2323   Hayao Miyazaki     Minnie Driver  Jada Pinkett Smith    Billy Crudup   \n",
       "2334  Katsuhiro Ôtomo  William Hootkins  Robin Atkin Downes  Rosalind Ayres   \n",
       "2988     Joon-ho Bong         Doona Bae        Kang-ho Song      Ah-sung Ko   \n",
       "3005     Lajos Koltai      Marcell Nagy     Péter Fancsikai   Bálint Péntek   \n",
       "3859   Chan-wook Park      Min-sik Choi        Yeong-ae Lee  Hye-jeong Kang   \n",
       "\n",
       "      cast_total_facebook_likes        budget  imdb_score      gross  \n",
       "2323                       2710  2.400000e+09         8.4  2298191.0  \n",
       "2334                        991  2.127520e+09         6.9   410388.0  \n",
       "2988                       1173  1.221550e+10         7.0  2201412.0  \n",
       "3005                         11  2.500000e+09         7.1   195888.0  \n",
       "3859                        907  4.200000e+09         7.7   211667.0  "
      ]
     },
     "execution_count": 129,
     "metadata": {},
     "output_type": "execute_result"
    }
   ],
   "source": [
    "df[df['budget'] > 0.2 * 10000000000]"
   ]
  },
  {
   "cell_type": "markdown",
   "id": "4938e7b8-4f64-456d-8a92-8251ad992a6f",
   "metadata": {},
   "source": [
    "El problema con los datos de las monedas en este dataset es que no todas están en la misma moneda, por lo que hay outliers.\n",
    "Por lo que se tomó la decisión de extraer información de https://www.the-numbers.com/ para solucionar este problema"
   ]
  },
  {
   "cell_type": "code",
   "execution_count": 130,
   "id": "e1051d0e-8799-4aef-a75a-0ddc91b3a104",
   "metadata": {},
   "outputs": [
    {
     "data": {
      "text/html": [
       "<div>\n",
       "<style scoped>\n",
       "    .dataframe tbody tr th:only-of-type {\n",
       "        vertical-align: middle;\n",
       "    }\n",
       "\n",
       "    .dataframe tbody tr th {\n",
       "        vertical-align: top;\n",
       "    }\n",
       "\n",
       "    .dataframe thead th {\n",
       "        text-align: right;\n",
       "    }\n",
       "</style>\n",
       "<table border=\"1\" class=\"dataframe\">\n",
       "  <thead>\n",
       "    <tr style=\"text-align: right;\">\n",
       "      <th></th>\n",
       "      <th>movie_name</th>\n",
       "      <th>domestic_gross</th>\n",
       "      <th>movie_link</th>\n",
       "      <th>production_budget</th>\n",
       "      <th>release_date</th>\n",
       "      <th>worldwide_gross</th>\n",
       "    </tr>\n",
       "  </thead>\n",
       "  <tbody>\n",
       "    <tr>\n",
       "      <th>0</th>\n",
       "      <td>Avatar</td>\n",
       "      <td>760507625</td>\n",
       "      <td>http://www.the-numbers.com/movie/Avatar#tab=su...</td>\n",
       "      <td>425000000</td>\n",
       "      <td>12/18/2009</td>\n",
       "      <td>2783918982</td>\n",
       "    </tr>\n",
       "    <tr>\n",
       "      <th>1</th>\n",
       "      <td>Star Wars Ep. VII: The Force Awakens</td>\n",
       "      <td>936662225</td>\n",
       "      <td>http://www.the-numbers.com/movie/Star-Wars-Ep-...</td>\n",
       "      <td>306000000</td>\n",
       "      <td>12/18/2015</td>\n",
       "      <td>2058662225</td>\n",
       "    </tr>\n",
       "    <tr>\n",
       "      <th>2</th>\n",
       "      <td>Pirates of the Caribbean: At World's End</td>\n",
       "      <td>309420425</td>\n",
       "      <td>http://www.the-numbers.com/movie/Pirates-of-th...</td>\n",
       "      <td>300000000</td>\n",
       "      <td>5/24/2007</td>\n",
       "      <td>963420425</td>\n",
       "    </tr>\n",
       "    <tr>\n",
       "      <th>3</th>\n",
       "      <td>Spectre</td>\n",
       "      <td>200074175</td>\n",
       "      <td>http://www.the-numbers.com/movie/Spectre#tab=s...</td>\n",
       "      <td>300000000</td>\n",
       "      <td>11/6/2015</td>\n",
       "      <td>879620923</td>\n",
       "    </tr>\n",
       "    <tr>\n",
       "      <th>4</th>\n",
       "      <td>The Dark Knight Rises</td>\n",
       "      <td>448139099</td>\n",
       "      <td>http://www.the-numbers.com/movie/Dark-Knight-R...</td>\n",
       "      <td>275000000</td>\n",
       "      <td>7/20/2012</td>\n",
       "      <td>1084439099</td>\n",
       "    </tr>\n",
       "  </tbody>\n",
       "</table>\n",
       "</div>"
      ],
      "text/plain": [
       "                                 movie_name  domestic_gross  \\\n",
       "0                                    Avatar       760507625   \n",
       "1      Star Wars Ep. VII: The Force Awakens       936662225   \n",
       "2  Pirates of the Caribbean: At World's End       309420425   \n",
       "3                                   Spectre       200074175   \n",
       "4                     The Dark Knight Rises       448139099   \n",
       "\n",
       "                                          movie_link  production_budget  \\\n",
       "0  http://www.the-numbers.com/movie/Avatar#tab=su...          425000000   \n",
       "1  http://www.the-numbers.com/movie/Star-Wars-Ep-...          306000000   \n",
       "2  http://www.the-numbers.com/movie/Pirates-of-th...          300000000   \n",
       "3  http://www.the-numbers.com/movie/Spectre#tab=s...          300000000   \n",
       "4  http://www.the-numbers.com/movie/Dark-Knight-R...          275000000   \n",
       "\n",
       "  release_date  worldwide_gross  \n",
       "0   12/18/2009       2783918982  \n",
       "1   12/18/2015       2058662225  \n",
       "2    5/24/2007        963420425  \n",
       "3    11/6/2015        879620923  \n",
       "4    7/20/2012       1084439099  "
      ]
     },
     "execution_count": 130,
     "metadata": {},
     "output_type": "execute_result"
    }
   ],
   "source": [
    "df_numbers =pd.read_csv('./data/thenumbers.csv',index_col='Unnamed: 0')\n",
    "df_numbers.drop(columns='movie_title', axis=1, inplace=True)\n",
    "df_numbers.head()"
   ]
  },
  {
   "cell_type": "code",
   "execution_count": 131,
   "id": "3904e58a-ada9-41d8-83cb-0cc39073cd9d",
   "metadata": {},
   "outputs": [
    {
     "name": "stdout",
     "output_type": "stream",
     "text": [
      "(4341, 6)\n",
      "(4919, 18)\n"
     ]
    }
   ],
   "source": [
    "print(df_numbers.shape)\n",
    "print(df.shape)"
   ]
  },
  {
   "cell_type": "code",
   "execution_count": 132,
   "id": "07784a83-bd00-470a-a1e8-75c9154f24b5",
   "metadata": {},
   "outputs": [
    {
     "data": {
      "text/html": [
       "<div>\n",
       "<style scoped>\n",
       "    .dataframe tbody tr th:only-of-type {\n",
       "        vertical-align: middle;\n",
       "    }\n",
       "\n",
       "    .dataframe tbody tr th {\n",
       "        vertical-align: top;\n",
       "    }\n",
       "\n",
       "    .dataframe thead th {\n",
       "        text-align: right;\n",
       "    }\n",
       "</style>\n",
       "<table border=\"1\" class=\"dataframe\">\n",
       "  <thead>\n",
       "    <tr style=\"text-align: right;\">\n",
       "      <th></th>\n",
       "      <th>movie_title</th>\n",
       "      <th>title_year</th>\n",
       "      <th>color</th>\n",
       "      <th>aspect_ratio</th>\n",
       "      <th>duration</th>\n",
       "      <th>language</th>\n",
       "      <th>country</th>\n",
       "      <th>genres</th>\n",
       "      <th>content_rating</th>\n",
       "      <th>plot_keywords</th>\n",
       "      <th>director_name</th>\n",
       "      <th>actor_1_name</th>\n",
       "      <th>actor_2_name</th>\n",
       "      <th>actor_3_name</th>\n",
       "      <th>cast_total_facebook_likes</th>\n",
       "      <th>budget</th>\n",
       "      <th>imdb_score</th>\n",
       "      <th>gross</th>\n",
       "    </tr>\n",
       "  </thead>\n",
       "  <tbody>\n",
       "    <tr>\n",
       "      <th>1002</th>\n",
       "      <td>The Host</td>\n",
       "      <td>2013.0</td>\n",
       "      <td>Color</td>\n",
       "      <td>2.35</td>\n",
       "      <td>125.0</td>\n",
       "      <td>English</td>\n",
       "      <td>USA</td>\n",
       "      <td>Action|Adventure|Romance|Sci-Fi|Thriller</td>\n",
       "      <td>PG-13</td>\n",
       "      <td>alien|alien creature|body snatching|desert|par...</td>\n",
       "      <td>Andrew Niccol</td>\n",
       "      <td>J.D. Evermore</td>\n",
       "      <td>Chandler Canterbury</td>\n",
       "      <td>Rachel Roberts</td>\n",
       "      <td>1300</td>\n",
       "      <td>4.000000e+07</td>\n",
       "      <td>5.9</td>\n",
       "      <td>26616999.0</td>\n",
       "    </tr>\n",
       "    <tr>\n",
       "      <th>2988</th>\n",
       "      <td>The Host</td>\n",
       "      <td>2006.0</td>\n",
       "      <td>Color</td>\n",
       "      <td>1.85</td>\n",
       "      <td>110.0</td>\n",
       "      <td>Korean</td>\n",
       "      <td>South Korea</td>\n",
       "      <td>Comedy|Drama|Horror|Sci-Fi</td>\n",
       "      <td>R</td>\n",
       "      <td>daughter|han river|monster|river|seoul</td>\n",
       "      <td>Joon-ho Bong</td>\n",
       "      <td>Doona Bae</td>\n",
       "      <td>Kang-ho Song</td>\n",
       "      <td>Ah-sung Ko</td>\n",
       "      <td>1173</td>\n",
       "      <td>1.221550e+10</td>\n",
       "      <td>7.0</td>\n",
       "      <td>2201412.0</td>\n",
       "    </tr>\n",
       "  </tbody>\n",
       "</table>\n",
       "</div>"
      ],
      "text/plain": [
       "     movie_title  title_year  color  aspect_ratio  duration language  \\\n",
       "1002    The Host      2013.0  Color          2.35     125.0  English   \n",
       "2988    The Host      2006.0  Color          1.85     110.0   Korean   \n",
       "\n",
       "          country                                    genres content_rating  \\\n",
       "1002          USA  Action|Adventure|Romance|Sci-Fi|Thriller          PG-13   \n",
       "2988  South Korea                Comedy|Drama|Horror|Sci-Fi              R   \n",
       "\n",
       "                                          plot_keywords  director_name  \\\n",
       "1002  alien|alien creature|body snatching|desert|par...  Andrew Niccol   \n",
       "2988             daughter|han river|monster|river|seoul   Joon-ho Bong   \n",
       "\n",
       "       actor_1_name         actor_2_name    actor_3_name  \\\n",
       "1002  J.D. Evermore  Chandler Canterbury  Rachel Roberts   \n",
       "2988      Doona Bae         Kang-ho Song      Ah-sung Ko   \n",
       "\n",
       "      cast_total_facebook_likes        budget  imdb_score       gross  \n",
       "1002                       1300  4.000000e+07         5.9  26616999.0  \n",
       "2988                       1173  1.221550e+10         7.0   2201412.0  "
      ]
     },
     "execution_count": 132,
     "metadata": {},
     "output_type": "execute_result"
    }
   ],
   "source": [
    "df[df['movie_title'] == 'The Host']"
   ]
  },
  {
   "cell_type": "code",
   "execution_count": 133,
   "id": "4047a4ec-33cf-48a4-8770-feb90980be5e",
   "metadata": {},
   "outputs": [
    {
     "data": {
      "text/html": [
       "<div>\n",
       "<style scoped>\n",
       "    .dataframe tbody tr th:only-of-type {\n",
       "        vertical-align: middle;\n",
       "    }\n",
       "\n",
       "    .dataframe tbody tr th {\n",
       "        vertical-align: top;\n",
       "    }\n",
       "\n",
       "    .dataframe thead th {\n",
       "        text-align: right;\n",
       "    }\n",
       "</style>\n",
       "<table border=\"1\" class=\"dataframe\">\n",
       "  <thead>\n",
       "    <tr style=\"text-align: right;\">\n",
       "      <th></th>\n",
       "      <th>movie_name</th>\n",
       "      <th>domestic_gross</th>\n",
       "      <th>movie_link</th>\n",
       "      <th>production_budget</th>\n",
       "      <th>release_date</th>\n",
       "      <th>worldwide_gross</th>\n",
       "    </tr>\n",
       "  </thead>\n",
       "  <tbody>\n",
       "    <tr>\n",
       "      <th>1027</th>\n",
       "      <td>The Host</td>\n",
       "      <td>26623701</td>\n",
       "      <td>http://www.the-numbers.com/movie/Host-The#tab=...</td>\n",
       "      <td>50000000</td>\n",
       "      <td>3/29/2013</td>\n",
       "      <td>64477051</td>\n",
       "    </tr>\n",
       "  </tbody>\n",
       "</table>\n",
       "</div>"
      ],
      "text/plain": [
       "     movie_name  domestic_gross  \\\n",
       "1027   The Host        26623701   \n",
       "\n",
       "                                             movie_link  production_budget  \\\n",
       "1027  http://www.the-numbers.com/movie/Host-The#tab=...           50000000   \n",
       "\n",
       "     release_date  worldwide_gross  \n",
       "1027    3/29/2013         64477051  "
      ]
     },
     "execution_count": 133,
     "metadata": {},
     "output_type": "execute_result"
    }
   ],
   "source": [
    "df_numbers[df_numbers['movie_name'] == 'The Host']"
   ]
  },
  {
   "cell_type": "code",
   "execution_count": 134,
   "id": "309dfada-6cfe-4243-ad82-10d21dde98c0",
   "metadata": {},
   "outputs": [],
   "source": [
    "df_numbers['release_date'] = pd.to_datetime(df_numbers['release_date'])\n",
    "df_numbers['title_year'] = df_numbers['release_date'].dt.year"
   ]
  },
  {
   "cell_type": "markdown",
   "id": "07412c1a-15f2-40bb-80cf-e8d6d3f5ee68",
   "metadata": {},
   "source": [
    "Hacer un merge entre los dos datasets"
   ]
  },
  {
   "cell_type": "code",
   "execution_count": 135,
   "id": "5e16ce4a-40ed-4388-80aa-a3722ba0e868",
   "metadata": {},
   "outputs": [
    {
     "data": {
      "text/html": [
       "<div>\n",
       "<style scoped>\n",
       "    .dataframe tbody tr th:only-of-type {\n",
       "        vertical-align: middle;\n",
       "    }\n",
       "\n",
       "    .dataframe tbody tr th {\n",
       "        vertical-align: top;\n",
       "    }\n",
       "\n",
       "    .dataframe thead th {\n",
       "        text-align: right;\n",
       "    }\n",
       "</style>\n",
       "<table border=\"1\" class=\"dataframe\">\n",
       "  <thead>\n",
       "    <tr style=\"text-align: right;\">\n",
       "      <th></th>\n",
       "      <th>movie_title</th>\n",
       "      <th>domestic_gross</th>\n",
       "      <th>movie_link</th>\n",
       "      <th>production_budget</th>\n",
       "      <th>release_date</th>\n",
       "      <th>worldwide_gross</th>\n",
       "      <th>title_year</th>\n",
       "      <th>color</th>\n",
       "      <th>aspect_ratio</th>\n",
       "      <th>duration</th>\n",
       "      <th>...</th>\n",
       "      <th>content_rating</th>\n",
       "      <th>plot_keywords</th>\n",
       "      <th>director_name</th>\n",
       "      <th>actor_1_name</th>\n",
       "      <th>actor_2_name</th>\n",
       "      <th>actor_3_name</th>\n",
       "      <th>cast_total_facebook_likes</th>\n",
       "      <th>budget</th>\n",
       "      <th>imdb_score</th>\n",
       "      <th>gross</th>\n",
       "    </tr>\n",
       "  </thead>\n",
       "  <tbody>\n",
       "    <tr>\n",
       "      <th>0</th>\n",
       "      <td>Avatar</td>\n",
       "      <td>760507625</td>\n",
       "      <td>http://www.the-numbers.com/movie/Avatar#tab=su...</td>\n",
       "      <td>425000000</td>\n",
       "      <td>2009-12-18</td>\n",
       "      <td>2783918982</td>\n",
       "      <td>2009</td>\n",
       "      <td>Color</td>\n",
       "      <td>1.78</td>\n",
       "      <td>178.0</td>\n",
       "      <td>...</td>\n",
       "      <td>PG-13</td>\n",
       "      <td>avatar|future|marine|native|paraplegic</td>\n",
       "      <td>James Cameron</td>\n",
       "      <td>CCH Pounder</td>\n",
       "      <td>Joel David Moore</td>\n",
       "      <td>Wes Studi</td>\n",
       "      <td>4834.0</td>\n",
       "      <td>237000000.0</td>\n",
       "      <td>7.9</td>\n",
       "      <td>760505847.0</td>\n",
       "    </tr>\n",
       "    <tr>\n",
       "      <th>1</th>\n",
       "      <td>Star Wars Ep. VII: The Force Awakens</td>\n",
       "      <td>936662225</td>\n",
       "      <td>http://www.the-numbers.com/movie/Star-Wars-Ep-...</td>\n",
       "      <td>306000000</td>\n",
       "      <td>2015-12-18</td>\n",
       "      <td>2058662225</td>\n",
       "      <td>2015</td>\n",
       "      <td>NaN</td>\n",
       "      <td>NaN</td>\n",
       "      <td>NaN</td>\n",
       "      <td>...</td>\n",
       "      <td>NaN</td>\n",
       "      <td>NaN</td>\n",
       "      <td>NaN</td>\n",
       "      <td>NaN</td>\n",
       "      <td>NaN</td>\n",
       "      <td>NaN</td>\n",
       "      <td>NaN</td>\n",
       "      <td>NaN</td>\n",
       "      <td>NaN</td>\n",
       "      <td>NaN</td>\n",
       "    </tr>\n",
       "    <tr>\n",
       "      <th>2</th>\n",
       "      <td>Pirates of the Caribbean: At World's End</td>\n",
       "      <td>309420425</td>\n",
       "      <td>http://www.the-numbers.com/movie/Pirates-of-th...</td>\n",
       "      <td>300000000</td>\n",
       "      <td>2007-05-24</td>\n",
       "      <td>963420425</td>\n",
       "      <td>2007</td>\n",
       "      <td>Color</td>\n",
       "      <td>2.35</td>\n",
       "      <td>169.0</td>\n",
       "      <td>...</td>\n",
       "      <td>PG-13</td>\n",
       "      <td>goddess|marriage ceremony|marriage proposal|pi...</td>\n",
       "      <td>Gore Verbinski</td>\n",
       "      <td>Johnny Depp</td>\n",
       "      <td>Orlando Bloom</td>\n",
       "      <td>Jack Davenport</td>\n",
       "      <td>48350.0</td>\n",
       "      <td>300000000.0</td>\n",
       "      <td>7.1</td>\n",
       "      <td>309404152.0</td>\n",
       "    </tr>\n",
       "    <tr>\n",
       "      <th>3</th>\n",
       "      <td>Spectre</td>\n",
       "      <td>200074175</td>\n",
       "      <td>http://www.the-numbers.com/movie/Spectre#tab=s...</td>\n",
       "      <td>300000000</td>\n",
       "      <td>2015-11-06</td>\n",
       "      <td>879620923</td>\n",
       "      <td>2015</td>\n",
       "      <td>Color</td>\n",
       "      <td>2.35</td>\n",
       "      <td>148.0</td>\n",
       "      <td>...</td>\n",
       "      <td>PG-13</td>\n",
       "      <td>bomb|espionage|sequel|spy|terrorist</td>\n",
       "      <td>Sam Mendes</td>\n",
       "      <td>Christoph Waltz</td>\n",
       "      <td>Rory Kinnear</td>\n",
       "      <td>Stephanie Sigman</td>\n",
       "      <td>11700.0</td>\n",
       "      <td>245000000.0</td>\n",
       "      <td>6.8</td>\n",
       "      <td>200074175.0</td>\n",
       "    </tr>\n",
       "    <tr>\n",
       "      <th>4</th>\n",
       "      <td>The Dark Knight Rises</td>\n",
       "      <td>448139099</td>\n",
       "      <td>http://www.the-numbers.com/movie/Dark-Knight-R...</td>\n",
       "      <td>275000000</td>\n",
       "      <td>2012-07-20</td>\n",
       "      <td>1084439099</td>\n",
       "      <td>2012</td>\n",
       "      <td>Color</td>\n",
       "      <td>2.35</td>\n",
       "      <td>164.0</td>\n",
       "      <td>...</td>\n",
       "      <td>PG-13</td>\n",
       "      <td>deception|imprisonment|lawlessness|police offi...</td>\n",
       "      <td>Christopher Nolan</td>\n",
       "      <td>Tom Hardy</td>\n",
       "      <td>Christian Bale</td>\n",
       "      <td>Joseph Gordon-Levitt</td>\n",
       "      <td>106759.0</td>\n",
       "      <td>250000000.0</td>\n",
       "      <td>8.5</td>\n",
       "      <td>448130642.0</td>\n",
       "    </tr>\n",
       "  </tbody>\n",
       "</table>\n",
       "<p>5 rows × 23 columns</p>\n",
       "</div>"
      ],
      "text/plain": [
       "                                movie_title  domestic_gross  \\\n",
       "0                                    Avatar       760507625   \n",
       "1      Star Wars Ep. VII: The Force Awakens       936662225   \n",
       "2  Pirates of the Caribbean: At World's End       309420425   \n",
       "3                                   Spectre       200074175   \n",
       "4                     The Dark Knight Rises       448139099   \n",
       "\n",
       "                                          movie_link  production_budget  \\\n",
       "0  http://www.the-numbers.com/movie/Avatar#tab=su...          425000000   \n",
       "1  http://www.the-numbers.com/movie/Star-Wars-Ep-...          306000000   \n",
       "2  http://www.the-numbers.com/movie/Pirates-of-th...          300000000   \n",
       "3  http://www.the-numbers.com/movie/Spectre#tab=s...          300000000   \n",
       "4  http://www.the-numbers.com/movie/Dark-Knight-R...          275000000   \n",
       "\n",
       "  release_date  worldwide_gross  title_year  color  aspect_ratio  duration  \\\n",
       "0   2009-12-18       2783918982        2009  Color          1.78     178.0   \n",
       "1   2015-12-18       2058662225        2015    NaN           NaN       NaN   \n",
       "2   2007-05-24        963420425        2007  Color          2.35     169.0   \n",
       "3   2015-11-06        879620923        2015  Color          2.35     148.0   \n",
       "4   2012-07-20       1084439099        2012  Color          2.35     164.0   \n",
       "\n",
       "   ... content_rating                                      plot_keywords  \\\n",
       "0  ...          PG-13             avatar|future|marine|native|paraplegic   \n",
       "1  ...            NaN                                                NaN   \n",
       "2  ...          PG-13  goddess|marriage ceremony|marriage proposal|pi...   \n",
       "3  ...          PG-13                bomb|espionage|sequel|spy|terrorist   \n",
       "4  ...          PG-13  deception|imprisonment|lawlessness|police offi...   \n",
       "\n",
       "       director_name     actor_1_name      actor_2_name          actor_3_name  \\\n",
       "0      James Cameron      CCH Pounder  Joel David Moore             Wes Studi   \n",
       "1                NaN              NaN               NaN                   NaN   \n",
       "2     Gore Verbinski      Johnny Depp     Orlando Bloom        Jack Davenport   \n",
       "3         Sam Mendes  Christoph Waltz      Rory Kinnear      Stephanie Sigman   \n",
       "4  Christopher Nolan        Tom Hardy    Christian Bale  Joseph Gordon-Levitt   \n",
       "\n",
       "  cast_total_facebook_likes       budget imdb_score        gross  \n",
       "0                    4834.0  237000000.0        7.9  760505847.0  \n",
       "1                       NaN          NaN        NaN          NaN  \n",
       "2                   48350.0  300000000.0        7.1  309404152.0  \n",
       "3                   11700.0  245000000.0        6.8  200074175.0  \n",
       "4                  106759.0  250000000.0        8.5  448130642.0  \n",
       "\n",
       "[5 rows x 23 columns]"
      ]
     },
     "execution_count": 135,
     "metadata": {},
     "output_type": "execute_result"
    }
   ],
   "source": [
    "df_numbers.rename(columns={'movie_name':'movie_title'}, inplace=True) # Cambiarle en nombre a la columna \n",
    "df = pd.merge(df_numbers, df, on=['movie_title','title_year'], how='left')\n",
    "df.head()"
   ]
  },
  {
   "cell_type": "markdown",
   "id": "148cc850-0f03-4267-a6d9-48657ac661f4",
   "metadata": {},
   "source": [
    "## Eliminar los datos faltantes en la variable a predecir"
   ]
  },
  {
   "cell_type": "code",
   "execution_count": 136,
   "id": "82410e0b-b922-4077-87a5-d0ca4da5cb3b",
   "metadata": {},
   "outputs": [
    {
     "data": {
      "text/plain": [
       "movie_title                     0\n",
       "domestic_gross                  0\n",
       "movie_link                      0\n",
       "production_budget               0\n",
       "release_date                    0\n",
       "worldwide_gross                 0\n",
       "title_year                      0\n",
       "color                        1033\n",
       "aspect_ratio                 1160\n",
       "duration                     1036\n",
       "language                     1034\n",
       "country                      1028\n",
       "genres                       1028\n",
       "content_rating               1113\n",
       "plot_keywords                1081\n",
       "director_name                1028\n",
       "actor_1_name                 1031\n",
       "actor_2_name                 1031\n",
       "actor_3_name                 1034\n",
       "cast_total_facebook_likes    1028\n",
       "budget                       1195\n",
       "imdb_score                   1028\n",
       "gross                        1384\n",
       "dtype: int64"
      ]
     },
     "execution_count": 136,
     "metadata": {},
     "output_type": "execute_result"
    }
   ],
   "source": [
    "df.isnull().sum()"
   ]
  },
  {
   "cell_type": "code",
   "execution_count": 137,
   "id": "43054158-7be9-455c-8574-dff93153dd92",
   "metadata": {},
   "outputs": [],
   "source": [
    "avaliable_data = ((df != 0) & (df.notnull())) # Son los datos que no son nulos y que son diferentes a 0"
   ]
  },
  {
   "cell_type": "code",
   "execution_count": 138,
   "id": "acce6e40-8eb9-4822-8509-4ce74a5b91ac",
   "metadata": {},
   "outputs": [
    {
     "data": {
      "text/plain": [
       "True     2764\n",
       "False    1577\n",
       "dtype: int64"
      ]
     },
     "execution_count": 138,
     "metadata": {},
     "output_type": "execute_result"
    }
   ],
   "source": [
    "avaliable_data.all(axis = 1).value_counts()"
   ]
  },
  {
   "cell_type": "code",
   "execution_count": 139,
   "id": "b4f04b5d-f0d2-41e8-a4f2-0abd5983411b",
   "metadata": {},
   "outputs": [],
   "source": [
    "gross_filter = avaliable_data['worldwide_gross']\n",
    "df = df[gross_filter]"
   ]
  },
  {
   "cell_type": "code",
   "execution_count": 140,
   "id": "9e8108ed-4fe9-4d0f-85d9-5836834aea4f",
   "metadata": {},
   "outputs": [
    {
     "data": {
      "text/plain": [
       "True    4061\n",
       "Name: worldwide_gross, dtype: int64"
      ]
     },
     "execution_count": 140,
     "metadata": {},
     "output_type": "execute_result"
    }
   ],
   "source": [
    "((df != 0) & (df.notnull())).worldwide_gross.value_counts()"
   ]
  },
  {
   "cell_type": "markdown",
   "id": "d0d6ba2d-7705-4934-ae6b-9a1d0951e16b",
   "metadata": {},
   "source": [
    "## Eliminar los datos faltantes en el resto del dataset"
   ]
  },
  {
   "cell_type": "code",
   "execution_count": 141,
   "id": "65fbcfce-4f02-4e0f-9701-2d948e6822ce",
   "metadata": {},
   "outputs": [
    {
     "data": {
      "text/html": [
       "<div>\n",
       "<style scoped>\n",
       "    .dataframe tbody tr th:only-of-type {\n",
       "        vertical-align: middle;\n",
       "    }\n",
       "\n",
       "    .dataframe tbody tr th {\n",
       "        vertical-align: top;\n",
       "    }\n",
       "\n",
       "    .dataframe thead th {\n",
       "        text-align: right;\n",
       "    }\n",
       "</style>\n",
       "<table border=\"1\" class=\"dataframe\">\n",
       "  <thead>\n",
       "    <tr style=\"text-align: right;\">\n",
       "      <th></th>\n",
       "      <th>movie_title</th>\n",
       "      <th>domestic_gross</th>\n",
       "      <th>movie_link</th>\n",
       "      <th>production_budget</th>\n",
       "      <th>release_date</th>\n",
       "      <th>worldwide_gross</th>\n",
       "      <th>title_year</th>\n",
       "      <th>color</th>\n",
       "      <th>aspect_ratio</th>\n",
       "      <th>duration</th>\n",
       "      <th>...</th>\n",
       "      <th>content_rating</th>\n",
       "      <th>plot_keywords</th>\n",
       "      <th>director_name</th>\n",
       "      <th>actor_1_name</th>\n",
       "      <th>actor_2_name</th>\n",
       "      <th>actor_3_name</th>\n",
       "      <th>cast_total_facebook_likes</th>\n",
       "      <th>budget</th>\n",
       "      <th>imdb_score</th>\n",
       "      <th>gross</th>\n",
       "    </tr>\n",
       "  </thead>\n",
       "  <tbody>\n",
       "    <tr>\n",
       "      <th>0</th>\n",
       "      <td>Avatar</td>\n",
       "      <td>760507625</td>\n",
       "      <td>http://www.the-numbers.com/movie/Avatar#tab=su...</td>\n",
       "      <td>425000000</td>\n",
       "      <td>2009-12-18</td>\n",
       "      <td>2783918982</td>\n",
       "      <td>2009</td>\n",
       "      <td>Color</td>\n",
       "      <td>1.78</td>\n",
       "      <td>178.0</td>\n",
       "      <td>...</td>\n",
       "      <td>PG-13</td>\n",
       "      <td>avatar|future|marine|native|paraplegic</td>\n",
       "      <td>James Cameron</td>\n",
       "      <td>CCH Pounder</td>\n",
       "      <td>Joel David Moore</td>\n",
       "      <td>Wes Studi</td>\n",
       "      <td>4834.0</td>\n",
       "      <td>237000000.0</td>\n",
       "      <td>7.9</td>\n",
       "      <td>760505847.0</td>\n",
       "    </tr>\n",
       "    <tr>\n",
       "      <th>1</th>\n",
       "      <td>Star Wars Ep. VII: The Force Awakens</td>\n",
       "      <td>936662225</td>\n",
       "      <td>http://www.the-numbers.com/movie/Star-Wars-Ep-...</td>\n",
       "      <td>306000000</td>\n",
       "      <td>2015-12-18</td>\n",
       "      <td>2058662225</td>\n",
       "      <td>2015</td>\n",
       "      <td>NaN</td>\n",
       "      <td>NaN</td>\n",
       "      <td>NaN</td>\n",
       "      <td>...</td>\n",
       "      <td>NaN</td>\n",
       "      <td>NaN</td>\n",
       "      <td>NaN</td>\n",
       "      <td>NaN</td>\n",
       "      <td>NaN</td>\n",
       "      <td>NaN</td>\n",
       "      <td>NaN</td>\n",
       "      <td>NaN</td>\n",
       "      <td>NaN</td>\n",
       "      <td>NaN</td>\n",
       "    </tr>\n",
       "    <tr>\n",
       "      <th>2</th>\n",
       "      <td>Pirates of the Caribbean: At World's End</td>\n",
       "      <td>309420425</td>\n",
       "      <td>http://www.the-numbers.com/movie/Pirates-of-th...</td>\n",
       "      <td>300000000</td>\n",
       "      <td>2007-05-24</td>\n",
       "      <td>963420425</td>\n",
       "      <td>2007</td>\n",
       "      <td>Color</td>\n",
       "      <td>2.35</td>\n",
       "      <td>169.0</td>\n",
       "      <td>...</td>\n",
       "      <td>PG-13</td>\n",
       "      <td>goddess|marriage ceremony|marriage proposal|pi...</td>\n",
       "      <td>Gore Verbinski</td>\n",
       "      <td>Johnny Depp</td>\n",
       "      <td>Orlando Bloom</td>\n",
       "      <td>Jack Davenport</td>\n",
       "      <td>48350.0</td>\n",
       "      <td>300000000.0</td>\n",
       "      <td>7.1</td>\n",
       "      <td>309404152.0</td>\n",
       "    </tr>\n",
       "    <tr>\n",
       "      <th>3</th>\n",
       "      <td>Spectre</td>\n",
       "      <td>200074175</td>\n",
       "      <td>http://www.the-numbers.com/movie/Spectre#tab=s...</td>\n",
       "      <td>300000000</td>\n",
       "      <td>2015-11-06</td>\n",
       "      <td>879620923</td>\n",
       "      <td>2015</td>\n",
       "      <td>Color</td>\n",
       "      <td>2.35</td>\n",
       "      <td>148.0</td>\n",
       "      <td>...</td>\n",
       "      <td>PG-13</td>\n",
       "      <td>bomb|espionage|sequel|spy|terrorist</td>\n",
       "      <td>Sam Mendes</td>\n",
       "      <td>Christoph Waltz</td>\n",
       "      <td>Rory Kinnear</td>\n",
       "      <td>Stephanie Sigman</td>\n",
       "      <td>11700.0</td>\n",
       "      <td>245000000.0</td>\n",
       "      <td>6.8</td>\n",
       "      <td>200074175.0</td>\n",
       "    </tr>\n",
       "    <tr>\n",
       "      <th>4</th>\n",
       "      <td>The Dark Knight Rises</td>\n",
       "      <td>448139099</td>\n",
       "      <td>http://www.the-numbers.com/movie/Dark-Knight-R...</td>\n",
       "      <td>275000000</td>\n",
       "      <td>2012-07-20</td>\n",
       "      <td>1084439099</td>\n",
       "      <td>2012</td>\n",
       "      <td>Color</td>\n",
       "      <td>2.35</td>\n",
       "      <td>164.0</td>\n",
       "      <td>...</td>\n",
       "      <td>PG-13</td>\n",
       "      <td>deception|imprisonment|lawlessness|police offi...</td>\n",
       "      <td>Christopher Nolan</td>\n",
       "      <td>Tom Hardy</td>\n",
       "      <td>Christian Bale</td>\n",
       "      <td>Joseph Gordon-Levitt</td>\n",
       "      <td>106759.0</td>\n",
       "      <td>250000000.0</td>\n",
       "      <td>8.5</td>\n",
       "      <td>448130642.0</td>\n",
       "    </tr>\n",
       "  </tbody>\n",
       "</table>\n",
       "<p>5 rows × 23 columns</p>\n",
       "</div>"
      ],
      "text/plain": [
       "                                movie_title  domestic_gross  \\\n",
       "0                                    Avatar       760507625   \n",
       "1      Star Wars Ep. VII: The Force Awakens       936662225   \n",
       "2  Pirates of the Caribbean: At World's End       309420425   \n",
       "3                                   Spectre       200074175   \n",
       "4                     The Dark Knight Rises       448139099   \n",
       "\n",
       "                                          movie_link  production_budget  \\\n",
       "0  http://www.the-numbers.com/movie/Avatar#tab=su...          425000000   \n",
       "1  http://www.the-numbers.com/movie/Star-Wars-Ep-...          306000000   \n",
       "2  http://www.the-numbers.com/movie/Pirates-of-th...          300000000   \n",
       "3  http://www.the-numbers.com/movie/Spectre#tab=s...          300000000   \n",
       "4  http://www.the-numbers.com/movie/Dark-Knight-R...          275000000   \n",
       "\n",
       "  release_date  worldwide_gross  title_year  color  aspect_ratio  duration  \\\n",
       "0   2009-12-18       2783918982        2009  Color          1.78     178.0   \n",
       "1   2015-12-18       2058662225        2015    NaN           NaN       NaN   \n",
       "2   2007-05-24        963420425        2007  Color          2.35     169.0   \n",
       "3   2015-11-06        879620923        2015  Color          2.35     148.0   \n",
       "4   2012-07-20       1084439099        2012  Color          2.35     164.0   \n",
       "\n",
       "   ... content_rating                                      plot_keywords  \\\n",
       "0  ...          PG-13             avatar|future|marine|native|paraplegic   \n",
       "1  ...            NaN                                                NaN   \n",
       "2  ...          PG-13  goddess|marriage ceremony|marriage proposal|pi...   \n",
       "3  ...          PG-13                bomb|espionage|sequel|spy|terrorist   \n",
       "4  ...          PG-13  deception|imprisonment|lawlessness|police offi...   \n",
       "\n",
       "       director_name     actor_1_name      actor_2_name          actor_3_name  \\\n",
       "0      James Cameron      CCH Pounder  Joel David Moore             Wes Studi   \n",
       "1                NaN              NaN               NaN                   NaN   \n",
       "2     Gore Verbinski      Johnny Depp     Orlando Bloom        Jack Davenport   \n",
       "3         Sam Mendes  Christoph Waltz      Rory Kinnear      Stephanie Sigman   \n",
       "4  Christopher Nolan        Tom Hardy    Christian Bale  Joseph Gordon-Levitt   \n",
       "\n",
       "  cast_total_facebook_likes       budget imdb_score        gross  \n",
       "0                    4834.0  237000000.0        7.9  760505847.0  \n",
       "1                       NaN          NaN        NaN          NaN  \n",
       "2                   48350.0  300000000.0        7.1  309404152.0  \n",
       "3                   11700.0  245000000.0        6.8  200074175.0  \n",
       "4                  106759.0  250000000.0        8.5  448130642.0  \n",
       "\n",
       "[5 rows x 23 columns]"
      ]
     },
     "execution_count": 141,
     "metadata": {},
     "output_type": "execute_result"
    }
   ],
   "source": [
    "df.head()"
   ]
  },
  {
   "cell_type": "code",
   "execution_count": 142,
   "id": "01c6e54c-ac84-440c-abdd-ce33f263652a",
   "metadata": {},
   "outputs": [],
   "source": [
    "columns_types = (df.dtypes == 'float64') | (df.dtypes == 'int64')\n",
    "num_columns = [x for x in columns_types.keys() if columns_types[x] == True]\n",
    "str_columns = [x for x in columns_types.keys() if columns_types[x] == False]"
   ]
  },
  {
   "cell_type": "code",
   "execution_count": 143,
   "id": "8b004d60-1333-42cf-9eda-a861bb528cb9",
   "metadata": {},
   "outputs": [
    {
     "data": {
      "text/plain": [
       "['domestic_gross',\n",
       " 'production_budget',\n",
       " 'worldwide_gross',\n",
       " 'title_year',\n",
       " 'aspect_ratio',\n",
       " 'duration',\n",
       " 'cast_total_facebook_likes',\n",
       " 'budget',\n",
       " 'imdb_score',\n",
       " 'gross']"
      ]
     },
     "execution_count": 143,
     "metadata": {},
     "output_type": "execute_result"
    }
   ],
   "source": [
    "num_columns"
   ]
  },
  {
   "cell_type": "code",
   "execution_count": 144,
   "id": "fbf686e1-88cd-4c3b-8295-8dbb34720682",
   "metadata": {},
   "outputs": [],
   "source": [
    "X = df[num_columns]"
   ]
  },
  {
   "cell_type": "code",
   "execution_count": 145,
   "id": "48d671de-f0d7-4463-8d6c-4d5b1bf94566",
   "metadata": {},
   "outputs": [],
   "source": [
    "impute = IterativeImputer()"
   ]
  },
  {
   "cell_type": "code",
   "execution_count": 146,
   "id": "bbad7848-7197-4a59-acb3-d09917d20e26",
   "metadata": {},
   "outputs": [],
   "source": [
    "columns = X.columns\n",
    "index = X.index"
   ]
  },
  {
   "cell_type": "code",
   "execution_count": 147,
   "id": "e2eb344d-7e68-4b98-a29f-b9508a05626b",
   "metadata": {},
   "outputs": [
    {
     "data": {
      "text/plain": [
       "array([[7.60507625e+08, 4.25000000e+08, 2.78391898e+09, ...,\n",
       "        2.37000000e+08, 7.90000000e+00, 7.60505847e+08],\n",
       "       [9.36662225e+08, 3.06000000e+08, 2.05866222e+09, ...,\n",
       "                   nan,            nan,            nan],\n",
       "       [3.09420425e+08, 3.00000000e+08, 9.63420425e+08, ...,\n",
       "        3.00000000e+08, 7.10000000e+00, 3.09404152e+08],\n",
       "       ...,\n",
       "       [9.00000000e+02, 7.00000000e+03, 9.00000000e+02, ...,\n",
       "                   nan,            nan,            nan],\n",
       "       [1.04430000e+04, 3.96700000e+03, 1.04430000e+04, ...,\n",
       "                   nan,            nan,            nan],\n",
       "       [1.81041000e+05, 1.10000000e+03, 1.81041000e+05, ...,\n",
       "                   nan,            nan,            nan]])"
      ]
     },
     "execution_count": 147,
     "metadata": {},
     "output_type": "execute_result"
    }
   ],
   "source": [
    "X.values"
   ]
  },
  {
   "cell_type": "code",
   "execution_count": 148,
   "id": "4c22bc58-a1d0-4f0d-ae3d-d7c25003dd09",
   "metadata": {},
   "outputs": [],
   "source": [
    "X = impute.fit_transform(X)"
   ]
  },
  {
   "cell_type": "code",
   "execution_count": 149,
   "id": "f71a5b14-7291-4835-ad26-8fa68231fc4c",
   "metadata": {},
   "outputs": [
    {
     "data": {
      "text/html": [
       "<div>\n",
       "<style scoped>\n",
       "    .dataframe tbody tr th:only-of-type {\n",
       "        vertical-align: middle;\n",
       "    }\n",
       "\n",
       "    .dataframe tbody tr th {\n",
       "        vertical-align: top;\n",
       "    }\n",
       "\n",
       "    .dataframe thead th {\n",
       "        text-align: right;\n",
       "    }\n",
       "</style>\n",
       "<table border=\"1\" class=\"dataframe\">\n",
       "  <thead>\n",
       "    <tr style=\"text-align: right;\">\n",
       "      <th></th>\n",
       "      <th>domestic_gross</th>\n",
       "      <th>production_budget</th>\n",
       "      <th>worldwide_gross</th>\n",
       "      <th>title_year</th>\n",
       "      <th>aspect_ratio</th>\n",
       "      <th>duration</th>\n",
       "      <th>cast_total_facebook_likes</th>\n",
       "      <th>budget</th>\n",
       "      <th>imdb_score</th>\n",
       "      <th>gross</th>\n",
       "    </tr>\n",
       "  </thead>\n",
       "  <tbody>\n",
       "    <tr>\n",
       "      <th>0</th>\n",
       "      <td>760507625.0</td>\n",
       "      <td>425000000.0</td>\n",
       "      <td>2.783919e+09</td>\n",
       "      <td>2009.0</td>\n",
       "      <td>1.780000</td>\n",
       "      <td>178.000000</td>\n",
       "      <td>4834.000000</td>\n",
       "      <td>2.370000e+08</td>\n",
       "      <td>7.900000</td>\n",
       "      <td>7.605058e+08</td>\n",
       "    </tr>\n",
       "    <tr>\n",
       "      <th>1</th>\n",
       "      <td>936662225.0</td>\n",
       "      <td>306000000.0</td>\n",
       "      <td>2.058662e+09</td>\n",
       "      <td>2015.0</td>\n",
       "      <td>2.312654</td>\n",
       "      <td>169.605416</td>\n",
       "      <td>57890.356292</td>\n",
       "      <td>2.958969e+08</td>\n",
       "      <td>10.580024</td>\n",
       "      <td>9.210393e+08</td>\n",
       "    </tr>\n",
       "    <tr>\n",
       "      <th>2</th>\n",
       "      <td>309420425.0</td>\n",
       "      <td>300000000.0</td>\n",
       "      <td>9.634204e+08</td>\n",
       "      <td>2007.0</td>\n",
       "      <td>2.350000</td>\n",
       "      <td>169.000000</td>\n",
       "      <td>48350.000000</td>\n",
       "      <td>3.000000e+08</td>\n",
       "      <td>7.100000</td>\n",
       "      <td>3.094042e+08</td>\n",
       "    </tr>\n",
       "    <tr>\n",
       "      <th>3</th>\n",
       "      <td>200074175.0</td>\n",
       "      <td>300000000.0</td>\n",
       "      <td>8.796209e+08</td>\n",
       "      <td>2015.0</td>\n",
       "      <td>2.350000</td>\n",
       "      <td>148.000000</td>\n",
       "      <td>11700.000000</td>\n",
       "      <td>2.450000e+08</td>\n",
       "      <td>6.800000</td>\n",
       "      <td>2.000742e+08</td>\n",
       "    </tr>\n",
       "    <tr>\n",
       "      <th>4</th>\n",
       "      <td>448139099.0</td>\n",
       "      <td>275000000.0</td>\n",
       "      <td>1.084439e+09</td>\n",
       "      <td>2012.0</td>\n",
       "      <td>2.350000</td>\n",
       "      <td>164.000000</td>\n",
       "      <td>106759.000000</td>\n",
       "      <td>2.500000e+08</td>\n",
       "      <td>8.500000</td>\n",
       "      <td>4.481306e+08</td>\n",
       "    </tr>\n",
       "  </tbody>\n",
       "</table>\n",
       "</div>"
      ],
      "text/plain": [
       "   domestic_gross  production_budget  worldwide_gross  title_year  \\\n",
       "0     760507625.0        425000000.0     2.783919e+09      2009.0   \n",
       "1     936662225.0        306000000.0     2.058662e+09      2015.0   \n",
       "2     309420425.0        300000000.0     9.634204e+08      2007.0   \n",
       "3     200074175.0        300000000.0     8.796209e+08      2015.0   \n",
       "4     448139099.0        275000000.0     1.084439e+09      2012.0   \n",
       "\n",
       "   aspect_ratio    duration  cast_total_facebook_likes        budget  \\\n",
       "0      1.780000  178.000000                4834.000000  2.370000e+08   \n",
       "1      2.312654  169.605416               57890.356292  2.958969e+08   \n",
       "2      2.350000  169.000000               48350.000000  3.000000e+08   \n",
       "3      2.350000  148.000000               11700.000000  2.450000e+08   \n",
       "4      2.350000  164.000000              106759.000000  2.500000e+08   \n",
       "\n",
       "   imdb_score         gross  \n",
       "0    7.900000  7.605058e+08  \n",
       "1   10.580024  9.210393e+08  \n",
       "2    7.100000  3.094042e+08  \n",
       "3    6.800000  2.000742e+08  \n",
       "4    8.500000  4.481306e+08  "
      ]
     },
     "execution_count": 149,
     "metadata": {},
     "output_type": "execute_result"
    }
   ],
   "source": [
    "X = pd.DataFrame(X, index=index, columns=columns)\n",
    "X.head()"
   ]
  },
  {
   "cell_type": "code",
   "execution_count": 150,
   "id": "0f11a7a9-92ce-463c-87fe-91cb817f0914",
   "metadata": {},
   "outputs": [
    {
     "data": {
      "text/plain": [
       "domestic_gross               0\n",
       "production_budget            0\n",
       "worldwide_gross              0\n",
       "title_year                   0\n",
       "aspect_ratio                 0\n",
       "duration                     0\n",
       "cast_total_facebook_likes    0\n",
       "budget                       0\n",
       "imdb_score                   0\n",
       "gross                        0\n",
       "dtype: int64"
      ]
     },
     "execution_count": 150,
     "metadata": {},
     "output_type": "execute_result"
    }
   ],
   "source": [
    "X.isna().sum()"
   ]
  },
  {
   "cell_type": "code",
   "execution_count": 151,
   "id": "52061c54-688f-44ae-8b26-bb4c956f1847",
   "metadata": {},
   "outputs": [],
   "source": [
    "df[num_columns] = X"
   ]
  },
  {
   "cell_type": "code",
   "execution_count": 152,
   "id": "68295f2c-0712-4862-b294-0c60e15ba7c4",
   "metadata": {},
   "outputs": [
    {
     "data": {
      "text/html": [
       "<div>\n",
       "<style scoped>\n",
       "    .dataframe tbody tr th:only-of-type {\n",
       "        vertical-align: middle;\n",
       "    }\n",
       "\n",
       "    .dataframe tbody tr th {\n",
       "        vertical-align: top;\n",
       "    }\n",
       "\n",
       "    .dataframe thead th {\n",
       "        text-align: right;\n",
       "    }\n",
       "</style>\n",
       "<table border=\"1\" class=\"dataframe\">\n",
       "  <thead>\n",
       "    <tr style=\"text-align: right;\">\n",
       "      <th></th>\n",
       "      <th>movie_title</th>\n",
       "      <th>domestic_gross</th>\n",
       "      <th>movie_link</th>\n",
       "      <th>production_budget</th>\n",
       "      <th>release_date</th>\n",
       "      <th>worldwide_gross</th>\n",
       "      <th>title_year</th>\n",
       "      <th>color</th>\n",
       "      <th>aspect_ratio</th>\n",
       "      <th>duration</th>\n",
       "      <th>...</th>\n",
       "      <th>content_rating</th>\n",
       "      <th>plot_keywords</th>\n",
       "      <th>director_name</th>\n",
       "      <th>actor_1_name</th>\n",
       "      <th>actor_2_name</th>\n",
       "      <th>actor_3_name</th>\n",
       "      <th>cast_total_facebook_likes</th>\n",
       "      <th>budget</th>\n",
       "      <th>imdb_score</th>\n",
       "      <th>gross</th>\n",
       "    </tr>\n",
       "  </thead>\n",
       "  <tbody>\n",
       "    <tr>\n",
       "      <th>0</th>\n",
       "      <td>Avatar</td>\n",
       "      <td>760507625.0</td>\n",
       "      <td>http://www.the-numbers.com/movie/Avatar#tab=su...</td>\n",
       "      <td>425000000.0</td>\n",
       "      <td>2009-12-18</td>\n",
       "      <td>2.783919e+09</td>\n",
       "      <td>2009.0</td>\n",
       "      <td>Color</td>\n",
       "      <td>1.780000</td>\n",
       "      <td>178.000000</td>\n",
       "      <td>...</td>\n",
       "      <td>PG-13</td>\n",
       "      <td>avatar|future|marine|native|paraplegic</td>\n",
       "      <td>James Cameron</td>\n",
       "      <td>CCH Pounder</td>\n",
       "      <td>Joel David Moore</td>\n",
       "      <td>Wes Studi</td>\n",
       "      <td>4834.000000</td>\n",
       "      <td>2.370000e+08</td>\n",
       "      <td>7.900000</td>\n",
       "      <td>7.605058e+08</td>\n",
       "    </tr>\n",
       "    <tr>\n",
       "      <th>1</th>\n",
       "      <td>Star Wars Ep. VII: The Force Awakens</td>\n",
       "      <td>936662225.0</td>\n",
       "      <td>http://www.the-numbers.com/movie/Star-Wars-Ep-...</td>\n",
       "      <td>306000000.0</td>\n",
       "      <td>2015-12-18</td>\n",
       "      <td>2.058662e+09</td>\n",
       "      <td>2015.0</td>\n",
       "      <td>NaN</td>\n",
       "      <td>2.312654</td>\n",
       "      <td>169.605416</td>\n",
       "      <td>...</td>\n",
       "      <td>NaN</td>\n",
       "      <td>NaN</td>\n",
       "      <td>NaN</td>\n",
       "      <td>NaN</td>\n",
       "      <td>NaN</td>\n",
       "      <td>NaN</td>\n",
       "      <td>57890.356292</td>\n",
       "      <td>2.958969e+08</td>\n",
       "      <td>10.580024</td>\n",
       "      <td>9.210393e+08</td>\n",
       "    </tr>\n",
       "    <tr>\n",
       "      <th>2</th>\n",
       "      <td>Pirates of the Caribbean: At World's End</td>\n",
       "      <td>309420425.0</td>\n",
       "      <td>http://www.the-numbers.com/movie/Pirates-of-th...</td>\n",
       "      <td>300000000.0</td>\n",
       "      <td>2007-05-24</td>\n",
       "      <td>9.634204e+08</td>\n",
       "      <td>2007.0</td>\n",
       "      <td>Color</td>\n",
       "      <td>2.350000</td>\n",
       "      <td>169.000000</td>\n",
       "      <td>...</td>\n",
       "      <td>PG-13</td>\n",
       "      <td>goddess|marriage ceremony|marriage proposal|pi...</td>\n",
       "      <td>Gore Verbinski</td>\n",
       "      <td>Johnny Depp</td>\n",
       "      <td>Orlando Bloom</td>\n",
       "      <td>Jack Davenport</td>\n",
       "      <td>48350.000000</td>\n",
       "      <td>3.000000e+08</td>\n",
       "      <td>7.100000</td>\n",
       "      <td>3.094042e+08</td>\n",
       "    </tr>\n",
       "    <tr>\n",
       "      <th>3</th>\n",
       "      <td>Spectre</td>\n",
       "      <td>200074175.0</td>\n",
       "      <td>http://www.the-numbers.com/movie/Spectre#tab=s...</td>\n",
       "      <td>300000000.0</td>\n",
       "      <td>2015-11-06</td>\n",
       "      <td>8.796209e+08</td>\n",
       "      <td>2015.0</td>\n",
       "      <td>Color</td>\n",
       "      <td>2.350000</td>\n",
       "      <td>148.000000</td>\n",
       "      <td>...</td>\n",
       "      <td>PG-13</td>\n",
       "      <td>bomb|espionage|sequel|spy|terrorist</td>\n",
       "      <td>Sam Mendes</td>\n",
       "      <td>Christoph Waltz</td>\n",
       "      <td>Rory Kinnear</td>\n",
       "      <td>Stephanie Sigman</td>\n",
       "      <td>11700.000000</td>\n",
       "      <td>2.450000e+08</td>\n",
       "      <td>6.800000</td>\n",
       "      <td>2.000742e+08</td>\n",
       "    </tr>\n",
       "    <tr>\n",
       "      <th>4</th>\n",
       "      <td>The Dark Knight Rises</td>\n",
       "      <td>448139099.0</td>\n",
       "      <td>http://www.the-numbers.com/movie/Dark-Knight-R...</td>\n",
       "      <td>275000000.0</td>\n",
       "      <td>2012-07-20</td>\n",
       "      <td>1.084439e+09</td>\n",
       "      <td>2012.0</td>\n",
       "      <td>Color</td>\n",
       "      <td>2.350000</td>\n",
       "      <td>164.000000</td>\n",
       "      <td>...</td>\n",
       "      <td>PG-13</td>\n",
       "      <td>deception|imprisonment|lawlessness|police offi...</td>\n",
       "      <td>Christopher Nolan</td>\n",
       "      <td>Tom Hardy</td>\n",
       "      <td>Christian Bale</td>\n",
       "      <td>Joseph Gordon-Levitt</td>\n",
       "      <td>106759.000000</td>\n",
       "      <td>2.500000e+08</td>\n",
       "      <td>8.500000</td>\n",
       "      <td>4.481306e+08</td>\n",
       "    </tr>\n",
       "  </tbody>\n",
       "</table>\n",
       "<p>5 rows × 23 columns</p>\n",
       "</div>"
      ],
      "text/plain": [
       "                                movie_title  domestic_gross  \\\n",
       "0                                    Avatar     760507625.0   \n",
       "1      Star Wars Ep. VII: The Force Awakens     936662225.0   \n",
       "2  Pirates of the Caribbean: At World's End     309420425.0   \n",
       "3                                   Spectre     200074175.0   \n",
       "4                     The Dark Knight Rises     448139099.0   \n",
       "\n",
       "                                          movie_link  production_budget  \\\n",
       "0  http://www.the-numbers.com/movie/Avatar#tab=su...        425000000.0   \n",
       "1  http://www.the-numbers.com/movie/Star-Wars-Ep-...        306000000.0   \n",
       "2  http://www.the-numbers.com/movie/Pirates-of-th...        300000000.0   \n",
       "3  http://www.the-numbers.com/movie/Spectre#tab=s...        300000000.0   \n",
       "4  http://www.the-numbers.com/movie/Dark-Knight-R...        275000000.0   \n",
       "\n",
       "  release_date  worldwide_gross  title_year  color  aspect_ratio    duration  \\\n",
       "0   2009-12-18     2.783919e+09      2009.0  Color      1.780000  178.000000   \n",
       "1   2015-12-18     2.058662e+09      2015.0    NaN      2.312654  169.605416   \n",
       "2   2007-05-24     9.634204e+08      2007.0  Color      2.350000  169.000000   \n",
       "3   2015-11-06     8.796209e+08      2015.0  Color      2.350000  148.000000   \n",
       "4   2012-07-20     1.084439e+09      2012.0  Color      2.350000  164.000000   \n",
       "\n",
       "   ... content_rating                                      plot_keywords  \\\n",
       "0  ...          PG-13             avatar|future|marine|native|paraplegic   \n",
       "1  ...            NaN                                                NaN   \n",
       "2  ...          PG-13  goddess|marriage ceremony|marriage proposal|pi...   \n",
       "3  ...          PG-13                bomb|espionage|sequel|spy|terrorist   \n",
       "4  ...          PG-13  deception|imprisonment|lawlessness|police offi...   \n",
       "\n",
       "       director_name     actor_1_name      actor_2_name          actor_3_name  \\\n",
       "0      James Cameron      CCH Pounder  Joel David Moore             Wes Studi   \n",
       "1                NaN              NaN               NaN                   NaN   \n",
       "2     Gore Verbinski      Johnny Depp     Orlando Bloom        Jack Davenport   \n",
       "3         Sam Mendes  Christoph Waltz      Rory Kinnear      Stephanie Sigman   \n",
       "4  Christopher Nolan        Tom Hardy    Christian Bale  Joseph Gordon-Levitt   \n",
       "\n",
       "  cast_total_facebook_likes        budget imdb_score         gross  \n",
       "0               4834.000000  2.370000e+08   7.900000  7.605058e+08  \n",
       "1              57890.356292  2.958969e+08  10.580024  9.210393e+08  \n",
       "2              48350.000000  3.000000e+08   7.100000  3.094042e+08  \n",
       "3              11700.000000  2.450000e+08   6.800000  2.000742e+08  \n",
       "4             106759.000000  2.500000e+08   8.500000  4.481306e+08  \n",
       "\n",
       "[5 rows x 23 columns]"
      ]
     },
     "execution_count": 152,
     "metadata": {},
     "output_type": "execute_result"
    }
   ],
   "source": [
    "df.head()"
   ]
  },
  {
   "cell_type": "markdown",
   "id": "474f407b-bed6-4730-974f-240720350d78",
   "metadata": {},
   "source": [
    "# *Standarization*"
   ]
  },
  {
   "cell_type": "code",
   "execution_count": 153,
   "id": "e570326f-4f4c-435a-8e21-1a5860bd8d43",
   "metadata": {},
   "outputs": [],
   "source": [
    "scaling = StandardScaler()"
   ]
  },
  {
   "cell_type": "code",
   "execution_count": 154,
   "id": "35d0b1cd-083a-4dc5-863d-fd85267e551b",
   "metadata": {
    "tags": []
   },
   "outputs": [],
   "source": [
    "num_columns.remove('worldwide_gross')"
   ]
  },
  {
   "cell_type": "code",
   "execution_count": 155,
   "id": "d0a9ae09-5f25-406f-9354-f54a27a6e17c",
   "metadata": {},
   "outputs": [],
   "source": [
    "X = df[num_columns]"
   ]
  },
  {
   "cell_type": "code",
   "execution_count": 156,
   "id": "42265ef8-4f60-4b0c-bbfe-0153c362db0e",
   "metadata": {},
   "outputs": [],
   "source": [
    "X_scaled = scaling.fit_transform(X)"
   ]
  },
  {
   "cell_type": "code",
   "execution_count": 157,
   "id": "b46f0730-84d8-4cf8-bfe7-ca4c175e0e3e",
   "metadata": {},
   "outputs": [],
   "source": [
    "X = pd.DataFrame(X_scaled, columns= X.columns, index=X.index)"
   ]
  },
  {
   "cell_type": "code",
   "execution_count": 158,
   "id": "2c4fa7ef-8224-4d0b-af0c-5f1670f304ff",
   "metadata": {},
   "outputs": [],
   "source": [
    "df[num_columns] = X"
   ]
  },
  {
   "cell_type": "markdown",
   "id": "19fc26fd-326a-4aab-8ab2-880be617b313",
   "metadata": {},
   "source": [
    "# *Modelo*"
   ]
  },
  {
   "cell_type": "code",
   "execution_count": 159,
   "id": "8bb8f3cb-d4cf-4c70-a782-fd177b71ffc6",
   "metadata": {},
   "outputs": [
    {
     "data": {
      "text/plain": [
       "['domestic_gross',\n",
       " 'production_budget',\n",
       " 'title_year',\n",
       " 'aspect_ratio',\n",
       " 'duration',\n",
       " 'cast_total_facebook_likes',\n",
       " 'budget',\n",
       " 'imdb_score',\n",
       " 'gross']"
      ]
     },
     "execution_count": 159,
     "metadata": {},
     "output_type": "execute_result"
    }
   ],
   "source": [
    "num_columns"
   ]
  },
  {
   "cell_type": "code",
   "execution_count": 160,
   "id": "5ee5f22d-3fe7-4fee-8312-22828644190e",
   "metadata": {},
   "outputs": [],
   "source": [
    "X = df[num_columns]\n",
    "y = df['worldwide_gross']\n",
    "\n",
    "X_train, X_test, y_train, y_test = train_test_split(X, y, test_size=0.3, random_state=0)"
   ]
  },
  {
   "cell_type": "code",
   "execution_count": 161,
   "id": "6e3a69cc-dc9f-485d-b8f8-afec6a6fa17d",
   "metadata": {},
   "outputs": [
    {
     "name": "stdout",
     "output_type": "stream",
     "text": [
      "MSE : 2906287546202247.0\n"
     ]
    }
   ],
   "source": [
    "lr = Lasso(max_iter=100000)\n",
    "\n",
    "model = lr.fit(X_train,y_train)\n",
    "predict = model.predict(X_test)\n",
    "\n",
    "print('MSE :',mean_squared_error(predict,y_test))"
   ]
  },
  {
   "cell_type": "code",
   "execution_count": 162,
   "id": "17b98d94-0e71-40e8-ba36-f07e6ec2e55c",
   "metadata": {},
   "outputs": [
    {
     "data": {
      "text/plain": [
       "0.923204817569749"
      ]
     },
     "execution_count": 162,
     "metadata": {},
     "output_type": "execute_result"
    }
   ],
   "source": [
    "model.score(X_test,y_test)"
   ]
  },
  {
   "cell_type": "code",
   "execution_count": 163,
   "id": "b5786fea-b96a-43cb-93b5-669624af9309",
   "metadata": {},
   "outputs": [
    {
     "name": "stdout",
     "output_type": "stream",
     "text": [
      "MSE : 2906287540737645.0\n"
     ]
    }
   ],
   "source": [
    "linear_r = LinearRegression().fit(X_train,y_train)\n",
    "predict_linear = linear_r.predict(X_test)\n",
    "print('MSE :',mean_squared_error(predict_linear,y_test))"
   ]
  },
  {
   "cell_type": "code",
   "execution_count": 164,
   "id": "a4985dfd-10d1-4f64-adfa-4f304d6358a7",
   "metadata": {},
   "outputs": [
    {
     "data": {
      "image/png": "[encoded data removed]",
      "text/plain": [
       "<Figure size 720x360 with 1 Axes>"
      ]
     },
     "metadata": {
      "needs_background": "light"
     },
     "output_type": "display_data"
    }
   ],
   "source": [
    "plt.figure(figsize=(10,5))\n",
    "plt.hist([predict_linear,predict,y_test], label=['Linear Regression','Lasso Regression','Target'])\n",
    "plt.legend()\n",
    "plt.show()"
   ]
  },
  {
   "cell_type": "code",
   "execution_count": 165,
   "id": "6935aeef-74ea-4264-926f-90d9f9a4c897",
   "metadata": {},
   "outputs": [
    {
     "data": {
      "text/plain": [
       "1219"
      ]
     },
     "execution_count": 165,
     "metadata": {},
     "output_type": "execute_result"
    }
   ],
   "source": [
    "len(X_test)"
   ]
  },
  {
   "cell_type": "code",
   "execution_count": 166,
   "id": "b4c46626-f464-49a5-b592-f50de47c4f41",
   "metadata": {},
   "outputs": [
    {
     "data": {
      "text/plain": [
       "1219"
      ]
     },
     "execution_count": 166,
     "metadata": {},
     "output_type": "execute_result"
    }
   ],
   "source": [
    "len(y_test)"
   ]
  },
  {
   "cell_type": "code",
   "execution_count": 167,
   "id": "40e11ebd-4d63-4c1d-af73-1a497524e615",
   "metadata": {},
   "outputs": [
    {
     "data": {
      "text/plain": [
       "<matplotlib.legend.Legend at 0x7f2be68873a0>"
      ]
     },
     "execution_count": 167,
     "metadata": {},
     "output_type": "execute_result"
    },
    {
     "data": {
      "image/png": "[encoded data removed]",
      "text/plain": [
       "<Figure size 720x360 with 1 Axes>"
      ]
     },
     "metadata": {
      "needs_background": "light"
     },
     "output_type": "display_data"
    }
   ],
   "source": [
    "plt.figure(figsize=(10,5))\n",
    "plt.scatter(X_test['gross'], y_test, label='Target')\n",
    "plt.scatter(X_test['gross'], predict, label='Estimation')\n",
    "plt.legend()"
   ]
  },
  {
   "cell_type": "code",
   "execution_count": 168,
   "id": "9492b99e-7ed0-490c-84ab-78818097112d",
   "metadata": {},
   "outputs": [],
   "source": [
    "# cross_val_score(lr, X, y, cv=5, scoring='neg_mean_absolute_error').mean()\n",
    "\n",
    "# len(X)"
   ]
  },
  {
   "cell_type": "markdown",
   "id": "aef4d222-ffdf-4d1e-a94c-c2acb739c37a",
   "metadata": {},
   "source": [
    "## Residuales"
   ]
  },
  {
   "cell_type": "markdown",
   "id": "6e3bd7c3-3a43-4c4c-8a59-2a4ba500bb51",
   "metadata": {},
   "source": [
    "Son la diferencia que hay entre la prediccion y el valor real"
   ]
  },
  {
   "cell_type": "code",
   "execution_count": 169,
   "id": "a1e0e55d-0015-4d28-a966-305792bfc54c",
   "metadata": {},
   "outputs": [],
   "source": [
    "residual = y_test - predict"
   ]
  },
  {
   "cell_type": "code",
   "execution_count": 170,
   "id": "0d91a649-e5af-4e20-b23d-801c885f75c7",
   "metadata": {},
   "outputs": [
    {
     "data": {
      "image/png": "[encoded data removed]",
      "text/plain": [
       "<Figure size 720x360 with 1 Axes>"
      ]
     },
     "metadata": {
      "needs_background": "light"
     },
     "output_type": "display_data"
    }
   ],
   "source": [
    "plt.figure(figsize=(10,5))\n",
    "plt.scatter(y_test,residual)\n",
    "plt.xlabel('Y_test')\n",
    "plt.ylabel('Residuals');"
   ]
  },
  {
   "cell_type": "code",
   "execution_count": 171,
   "id": "0c4fe291-5b94-478c-92c4-da3a4d6f95d5",
   "metadata": {},
   "outputs": [],
   "source": [
    "ap_residuals = np.abs(residual) / y_test"
   ]
  },
  {
   "cell_type": "code",
   "execution_count": 172,
   "id": "995c216a-1925-418d-b500-d37e47882d00",
   "metadata": {},
   "outputs": [
    {
     "data": {
      "image/png": "[encoded data removed]",
      "text/plain": [
       "<Figure size 720x360 with 1 Axes>"
      ]
     },
     "metadata": {
      "needs_background": "light"
     },
     "output_type": "display_data"
    }
   ],
   "source": [
    "plt.figure(figsize=(10,5))\n",
    "plt.scatter(y_test,ap_residuals)\n",
    "plt.xlabel('Presupuesto real')\n",
    "plt.ylabel('Porcentaje absoluto del error', fontsize = 14);"
   ]
  },
  {
   "cell_type": "code",
   "execution_count": 173,
   "id": "ca342c44-1947-4504-8767-66c76c162b0a",
   "metadata": {},
   "outputs": [
    {
     "data": {
      "image/png": "[encoded data removed]",
      "text/plain": [
       "<Figure size 720x360 with 1 Axes>"
      ]
     },
     "metadata": {
      "needs_background": "light"
     },
     "output_type": "display_data"
    }
   ],
   "source": [
    "lap_residuals = np.log(ap_residuals) # usamos una escala logaritmica para poder ver los datos mas compactados y en orden de magnitud.\n",
    "plt.figure(figsize=(10,5))\n",
    "plt.scatter(y_test,lap_residuals)\n",
    "plt.xlabel('Presupuesto real')\n",
    "plt.ylabel('Porcentaje absoluto del error en escala logaritmica', fontsize = 14);"
   ]
  },
  {
   "cell_type": "markdown",
   "id": "69eaa616-4259-4164-b224-5a87aab7cb0a",
   "metadata": {},
   "source": [
    "Para mejorar este resultados tenemos que aplicar Feature Engineering"
   ]
  },
  {
   "cell_type": "markdown",
   "id": "46ce8ecf-4284-47d9-a9de-0f2dd0b00da5",
   "metadata": {},
   "source": [
    "# Feature Engineering"
   ]
  },
  {
   "cell_type": "code",
   "execution_count": 174,
   "id": "2d1a1e11-0782-4921-8917-5ab2e5e931a6",
   "metadata": {},
   "outputs": [
    {
     "data": {
      "image/png": "[encoded data removed]",
      "text/plain": [
       "<Figure size 1080x720 with 2 Axes>"
      ]
     },
     "metadata": {
      "needs_background": "light"
     },
     "output_type": "display_data"
    }
   ],
   "source": [
    "plt.figure(figsize=(15,10))\n",
    "sns.heatmap(pd.concat([X,y], axis = 'columns').corr(), annot=True);"
   ]
  },
  {
   "cell_type": "markdown",
   "id": "ed67fe5b-28c3-43d3-8df4-e6f49f89e281",
   "metadata": {},
   "source": [
    "Ya que hay features que estan muy relacionados y dejan de ser independientes aplicaré PCA en dichos features"
   ]
  },
  {
   "cell_type": "code",
   "execution_count": 175,
   "id": "d6448ec8-1064-499e-89d0-fe867839a2cd",
   "metadata": {},
   "outputs": [
    {
     "data": {
      "image/png": "[encoded data removed]",
      "text/plain": [
       "<Figure size 1080x720 with 2 Axes>"
      ]
     },
     "metadata": {
      "needs_background": "light"
     },
     "output_type": "display_data"
    }
   ],
   "source": [
    "plt.figure(figsize=(15,10))\n",
    "sns.heatmap(pd.concat([X,y], axis = 'columns').corr()[['worldwide_gross']].sort_values(by=['worldwide_gross'], ascending=False), annot=True);"
   ]
  },
  {
   "cell_type": "code",
   "execution_count": 176,
   "id": "640a1006-6cfc-4f32-bf90-a95919b0e263",
   "metadata": {},
   "outputs": [],
   "source": [
    "gross_features = X[['gross','domestic_gross']]\n",
    "budget_features = X[['budget','production_budget']]"
   ]
  },
  {
   "cell_type": "code",
   "execution_count": 177,
   "id": "cd238f51-396f-469b-92ed-17fa8020d887",
   "metadata": {},
   "outputs": [],
   "source": [
    "pca_gross = PCA(n_components=1)\n",
    "reduce_gross_features = pca_gross.fit_transform(gross_features)\n",
    "pca_budget = PCA(n_components=1)\n",
    "reduce_budget_features = pca_budget.fit_transform(budget_features)"
   ]
  },
  {
   "cell_type": "code",
   "execution_count": 178,
   "id": "aefedf81-1fe6-4f6c-af7b-278b241f96a4",
   "metadata": {},
   "outputs": [
    {
     "name": "stdout",
     "output_type": "stream",
     "text": [
      "La información que se puede explicar de las variables de gross es del 0.9968 %\n",
      "La información que se puede explicar de las variables de budget es del 0.9587 %\n"
     ]
    }
   ],
   "source": [
    "print('La información que se puede explicar de las variables de gross es del',round(pca_gross.explained_variance_ratio_[0],4),'%')\n",
    "print('La información que se puede explicar de las variables de budget es del',round(pca_budget.explained_variance_ratio_[0],4),'%')"
   ]
  },
  {
   "cell_type": "code",
   "execution_count": 179,
   "id": "c3eb014b-e954-4463-a43e-f534a209628d",
   "metadata": {},
   "outputs": [],
   "source": [
    "X_copy = X.copy()"
   ]
  },
  {
   "cell_type": "code",
   "execution_count": 180,
   "id": "a5b5a0cd-04e6-4b53-a30e-1b9f8aa725aa",
   "metadata": {},
   "outputs": [],
   "source": [
    "X_copy.drop(columns=['domestic_gross','gross','budget','production_budget'], inplace=True)\n",
    "X_copy['gross'] = reduce_gross_features\n",
    "X_copy['budget'] = reduce_budget_features"
   ]
  },
  {
   "cell_type": "code",
   "execution_count": 181,
   "id": "8f7cc193-2403-4fad-9aba-22d3d2679668",
   "metadata": {},
   "outputs": [],
   "source": [
    "X = X_copy"
   ]
  },
  {
   "cell_type": "code",
   "execution_count": 182,
   "id": "f540ab93-af34-46a8-bd09-3a571cc2c822",
   "metadata": {},
   "outputs": [
    {
     "data": {
      "text/html": [
       "<div>\n",
       "<style scoped>\n",
       "    .dataframe tbody tr th:only-of-type {\n",
       "        vertical-align: middle;\n",
       "    }\n",
       "\n",
       "    .dataframe tbody tr th {\n",
       "        vertical-align: top;\n",
       "    }\n",
       "\n",
       "    .dataframe thead th {\n",
       "        text-align: right;\n",
       "    }\n",
       "</style>\n",
       "<table border=\"1\" class=\"dataframe\">\n",
       "  <thead>\n",
       "    <tr style=\"text-align: right;\">\n",
       "      <th></th>\n",
       "      <th>title_year</th>\n",
       "      <th>aspect_ratio</th>\n",
       "      <th>duration</th>\n",
       "      <th>cast_total_facebook_likes</th>\n",
       "      <th>imdb_score</th>\n",
       "      <th>gross</th>\n",
       "      <th>budget</th>\n",
       "    </tr>\n",
       "  </thead>\n",
       "  <tbody>\n",
       "    <tr>\n",
       "      <th>0</th>\n",
       "      <td>0.562549</td>\n",
       "      <td>-0.980456</td>\n",
       "      <td>3.328768</td>\n",
       "      <td>-0.336031</td>\n",
       "      <td>1.550898</td>\n",
       "      <td>15.081282</td>\n",
       "      <td>10.146503</td>\n",
       "    </tr>\n",
       "    <tr>\n",
       "      <th>1</th>\n",
       "      <td>1.073016</td>\n",
       "      <td>0.639770</td>\n",
       "      <td>2.920502</td>\n",
       "      <td>2.697668</td>\n",
       "      <td>4.336708</td>\n",
       "      <td>18.629327</td>\n",
       "      <td>9.065450</td>\n",
       "    </tr>\n",
       "    <tr>\n",
       "      <th>2</th>\n",
       "      <td>0.392393</td>\n",
       "      <td>0.753368</td>\n",
       "      <td>2.891058</td>\n",
       "      <td>2.152162</td>\n",
       "      <td>0.719321</td>\n",
       "      <td>5.572287</td>\n",
       "      <td>9.029756</td>\n",
       "    </tr>\n",
       "    <tr>\n",
       "      <th>3</th>\n",
       "      <td>1.073016</td>\n",
       "      <td>0.753368</td>\n",
       "      <td>1.869737</td>\n",
       "      <td>0.056559</td>\n",
       "      <td>0.407479</td>\n",
       "      <td>3.267459</td>\n",
       "      <td>8.116949</td>\n",
       "    </tr>\n",
       "    <tr>\n",
       "      <th>4</th>\n",
       "      <td>0.817782</td>\n",
       "      <td>0.753368</td>\n",
       "      <td>2.647886</td>\n",
       "      <td>5.491919</td>\n",
       "      <td>2.174581</td>\n",
       "      <td>8.496536</td>\n",
       "      <td>7.767466</td>\n",
       "    </tr>\n",
       "  </tbody>\n",
       "</table>\n",
       "</div>"
      ],
      "text/plain": [
       "   title_year  aspect_ratio  duration  cast_total_facebook_likes  imdb_score  \\\n",
       "0    0.562549     -0.980456  3.328768                  -0.336031    1.550898   \n",
       "1    1.073016      0.639770  2.920502                   2.697668    4.336708   \n",
       "2    0.392393      0.753368  2.891058                   2.152162    0.719321   \n",
       "3    1.073016      0.753368  1.869737                   0.056559    0.407479   \n",
       "4    0.817782      0.753368  2.647886                   5.491919    2.174581   \n",
       "\n",
       "       gross     budget  \n",
       "0  15.081282  10.146503  \n",
       "1  18.629327   9.065450  \n",
       "2   5.572287   9.029756  \n",
       "3   3.267459   8.116949  \n",
       "4   8.496536   7.767466  "
      ]
     },
     "execution_count": 182,
     "metadata": {},
     "output_type": "execute_result"
    }
   ],
   "source": [
    "X.head()"
   ]
  },
  {
   "cell_type": "code",
   "execution_count": 183,
   "id": "de8daefc-d620-43c0-8b9b-abaa2777fa69",
   "metadata": {},
   "outputs": [
    {
     "data": {
      "image/png": "[encoded data removed]",
      "text/plain": [
       "<Figure size 1080x720 with 2 Axes>"
      ]
     },
     "metadata": {
      "needs_background": "light"
     },
     "output_type": "display_data"
    }
   ],
   "source": [
    "plt.figure(figsize=(15,10))\n",
    "sns.heatmap(pd.concat([X,y], axis = 'columns').corr(), annot=True);"
   ]
  },
  {
   "cell_type": "code",
   "execution_count": 184,
   "id": "8485b2e8-f12b-4d92-80f5-2a843c1243d3",
   "metadata": {},
   "outputs": [],
   "source": [
    "X_train, X_test, y_train, y_test = train_test_split(X, y, test_size=0.3, random_state=0)"
   ]
  },
  {
   "cell_type": "code",
   "execution_count": 231,
   "id": "e9db004e-1e2d-41f9-85a6-fe8c18a4049d",
   "metadata": {},
   "outputs": [
    {
     "name": "stdout",
     "output_type": "stream",
     "text": [
      "MSE : 3400028934142852.5\n",
      "R2: 0.9093673538289749\n"
     ]
    }
   ],
   "source": [
    "model = lr.fit(X_train,y_train)\n",
    "predict = model.predict(X_test)\n",
    "\n",
    "print('MSE :',mean_squared_error(predict,y_test))\n",
    "print('R2:', model.score(X_test,y_test))"
   ]
  },
  {
   "cell_type": "code",
   "execution_count": 187,
   "id": "0e69ddb8-5bbf-4326-9278-f4619100be22",
   "metadata": {},
   "outputs": [],
   "source": [
    "mag = np.log10(np.abs(model.coef_))"
   ]
  },
  {
   "cell_type": "code",
   "execution_count": 188,
   "id": "3ae9d0ae-737f-444c-a16b-c93a37109bba",
   "metadata": {},
   "outputs": [
    {
     "data": {
      "image/png": "[encoded data removed]",
      "text/plain": [
       "<Figure size 1080x360 with 1 Axes>"
      ]
     },
     "metadata": {
      "needs_background": "light"
     },
     "output_type": "display_data"
    }
   ],
   "source": [
    "plt.figure(figsize=(15,5))\n",
    "plt.plot(range(0,len(model.coef_)), mag)\n",
    "plt.xticks(range(0,len(model.coef_)),X.columns);"
   ]
  },
  {
   "cell_type": "markdown",
   "id": "5f421b71-bb05-4aed-95eb-c12182c87bec",
   "metadata": {},
   "source": [
    "### Selecionar las mejores features con un algoritmo "
   ]
  },
  {
   "cell_type": "code",
   "execution_count": 189,
   "id": "d82e0124-e901-4e30-9c0c-e476fe6d9f5b",
   "metadata": {},
   "outputs": [
    {
     "data": {
      "text/plain": [
       "SelectKBest(k=4, score_func=<function mutual_info_regression at 0x7f2c24069040>)"
      ]
     },
     "execution_count": 189,
     "metadata": {},
     "output_type": "execute_result"
    }
   ],
   "source": [
    "selector = SelectKBest(mutual_info_regression, k=4 )\n",
    "selector.fit(X,y)"
   ]
  },
  {
   "cell_type": "code",
   "execution_count": 190,
   "id": "4405632c-8d41-4f94-8fcf-1788ef376dcc",
   "metadata": {},
   "outputs": [],
   "source": [
    "scores = selector.scores_"
   ]
  },
  {
   "cell_type": "code",
   "execution_count": 191,
   "id": "773de8bb-8be4-4695-a7d6-3c81141ddd9c",
   "metadata": {},
   "outputs": [
    {
     "data": {
      "image/png": "[encoded data removed]",
      "text/plain": [
       "<Figure size 1080x360 with 1 Axes>"
      ]
     },
     "metadata": {
      "needs_background": "light"
     },
     "output_type": "display_data"
    }
   ],
   "source": [
    "plt.figure(figsize=(15,5))\n",
    "plt.plot(range(0,len(model.coef_)), scores)\n",
    "plt.xticks(range(0,len(model.coef_)),X.columns);"
   ]
  },
  {
   "cell_type": "markdown",
   "id": "084ae68c-7a44-4039-8da8-2076d8786474",
   "metadata": {},
   "source": [
    "## Crear nuevas features "
   ]
  },
  {
   "cell_type": "code",
   "execution_count": 192,
   "id": "7a5a876a-9205-486b-b553-399f4955c0b5",
   "metadata": {},
   "outputs": [
    {
     "data": {
      "text/plain": [
       "movie_title       4061\n",
       "movie_link        4061\n",
       "release_date      1906\n",
       "color                2\n",
       "language            21\n",
       "country             43\n",
       "genres             706\n",
       "content_rating      12\n",
       "plot_keywords     3145\n",
       "director_name     1530\n",
       "actor_1_name      1318\n",
       "actor_2_name      1986\n",
       "actor_3_name      2317\n",
       "dtype: int64"
      ]
     },
     "execution_count": 192,
     "metadata": {},
     "output_type": "execute_result"
    }
   ],
   "source": [
    "df[str_columns].apply(pd.Series.nunique)"
   ]
  },
  {
   "cell_type": "code",
   "execution_count": 193,
   "id": "a005b152-e50b-4b2c-8a64-c44d80131290",
   "metadata": {},
   "outputs": [],
   "source": [
    "# df[['director_name','actor_1_name']] = df[['director_name','actor_1_name']].fillna(0)"
   ]
  },
  {
   "cell_type": "code",
   "execution_count": 194,
   "id": "876c0c16-de31-4ecb-b262-7dbc6e2a3beb",
   "metadata": {},
   "outputs": [],
   "source": [
    "categorical_f = df[['director_name','actor_1_name']]"
   ]
  },
  {
   "cell_type": "code",
   "execution_count": 208,
   "id": "c002cd40-f7db-4a05-ab07-c9ecb414fe9a",
   "metadata": {},
   "outputs": [],
   "source": [
    "categorical_f = categorical_f.fillna(0)"
   ]
  },
  {
   "cell_type": "code",
   "execution_count": null,
   "id": "6d367aab-269c-4022-b8a4-79ecc5689454",
   "metadata": {},
   "outputs": [],
   "source": [
    "X_categorical =  pd.concat([X,categorical_f], axis='columns')"
   ]
  },
  {
   "cell_type": "code",
   "execution_count": 222,
   "id": "03eb8ced-5c40-48a6-b9d2-d17b374578bb",
   "metadata": {},
   "outputs": [
    {
     "name": "stderr",
     "output_type": "stream",
     "text": [
      "/home/cesar/anaconda3/envs/ia/lib/python3.8/site-packages/category_encoders/utils.py:21: FutureWarning: is_categorical is deprecated and will be removed in a future version.  Use is_categorical_dtype instead\n",
      "  elif pd.api.types.is_categorical(cols):\n"
     ]
    }
   ],
   "source": [
    "binary_encoder = ce.BinaryEncoder(cols=['director_name','actor_1_name'])\n",
    "X_categorical = binary_encoder.fit_transform(X_categorical)"
   ]
  },
  {
   "cell_type": "code",
   "execution_count": 254,
   "id": "c5ef2718-c4c9-431e-a578-e480f2e7b9be",
   "metadata": {},
   "outputs": [
    {
     "data": {
      "text/plain": [
       "0.9030092393224145"
      ]
     },
     "execution_count": 254,
     "metadata": {},
     "output_type": "execute_result"
    }
   ],
   "source": [
    "cross_val_score(lr, X_categorical, y, cv = KFold(shuffle=True, n_splits=10) ).mean()"
   ]
  },
  {
   "cell_type": "markdown",
   "id": "d5f22fe7-66da-47c4-b874-554e915ce80f",
   "metadata": {},
   "source": [
    "El score aumentó"
   ]
  },
  {
   "cell_type": "markdown",
   "id": "7f312670-3b84-4982-9bf2-525262ca6aed",
   "metadata": {},
   "source": [
    "# Tunning"
   ]
  },
  {
   "cell_type": "code",
   "execution_count": 271,
   "id": "247fc452-738e-4445-bf89-200ad268e8f3",
   "metadata": {
    "tags": []
   },
   "outputs": [
    {
     "data": {
      "text/plain": [
       "{'fit_time': 0.0030019283294677734,\n",
       " 'score_time': 0.0014018615086873372,\n",
       " 'test_score': 0.8959123843945053,\n",
       " 'train_score': 0.9009450032273}"
      ]
     },
     "execution_count": 271,
     "metadata": {},
     "output_type": "execute_result"
    }
   ],
   "source": [
    "results = cross_validate(Lasso(),X,y, cv = KFold(shuffle=True, n_splits=6), return_train_score=True)\n",
    "results_m = {}\n",
    "for key, result in results.items():\n",
    "    results_m[key] = np.mean(result)\n",
    "    \n",
    "results_m"
   ]
  },
  {
   "cell_type": "code",
   "execution_count": 354,
   "id": "f2962f9d-d68e-4319-889f-c8cd185c5b9e",
   "metadata": {},
   "outputs": [],
   "source": [
    "rango = np.arange(1,50,2)"
   ]
  },
  {
   "cell_type": "code",
   "execution_count": 359,
   "id": "27753a2f-fba7-49f5-a876-750f148f2731",
   "metadata": {},
   "outputs": [
    {
     "data": {
      "text/plain": [
       "(25,)"
      ]
     },
     "execution_count": 359,
     "metadata": {},
     "output_type": "execute_result"
    }
   ],
   "source": [
    "rango.shape"
   ]
  },
  {
   "cell_type": "code",
   "execution_count": 331,
   "id": "23d58e97-1ad2-4b06-9547-ffe4dbd58d0e",
   "metadata": {},
   "outputs": [],
   "source": [
    "from sklearn.neighbors import KNeighborsRegressor"
   ]
  },
  {
   "cell_type": "code",
   "execution_count": 357,
   "id": "0288d1c7-050b-49b7-8c68-1bb3845469aa",
   "metadata": {},
   "outputs": [],
   "source": [
    "train_score, test_scores = validation_curve(\n",
    "    KNeighborsRegressor(),\n",
    "    X.drop(columns=['gross'], axis= 'columns'),\n",
    "    y,\n",
    "    param_name='n_neighbors',\n",
    "    param_range=rango,\n",
    "    cv = 5\n",
    ")"
   ]
  },
  {
   "cell_type": "code",
   "execution_count": 371,
   "id": "6a944699-156b-41a2-91e7-416e1410580c",
   "metadata": {},
   "outputs": [
    {
     "data": {
      "image/png": "[encoded data removed]",
      "text/plain": [
       "<Figure size 1080x360 with 1 Axes>"
      ]
     },
     "metadata": {
      "needs_background": "light"
     },
     "output_type": "display_data"
    }
   ],
   "source": [
    "plt.figure(figsize=(15,5))\n",
    "plt.plot(train_score.mean(axis=1), label = 'Train')\n",
    "plt.plot(test_scores.mean(axis=1), label = 'Test')\n",
    "plt.legend(fontsize = 'x-large')\n",
    "plt.xticks(range(25),rango);"
   ]
  },
  {
   "cell_type": "code",
   "execution_count": null,
   "id": "cdccd3b1-a398-4e4e-ae9d-ce6abe02e8f8",
   "metadata": {},
   "outputs": [],
   "source": []
  },
  {
   "cell_type": "markdown",
   "id": "d4a1b6fa-c043-404e-909e-4eaff671d7a5",
   "metadata": {},
   "source": [
    "# Probar otros modelos"
   ]
  },
  {
   "cell_type": "code",
   "execution_count": 200,
   "id": "293f0ba4-7baa-4c89-b598-b6c803c77f95",
   "metadata": {},
   "outputs": [],
   "source": [
    "X_train, X_test, y_train, y_test = train_test_split(X,y)"
   ]
  },
  {
   "cell_type": "code",
   "execution_count": 201,
   "id": "8dd1f2b2-5d89-4c0f-a2d8-e650ca93fd66",
   "metadata": {},
   "outputs": [],
   "source": [
    "r_forest = RandomForestRegressor()"
   ]
  },
  {
   "cell_type": "code",
   "execution_count": 202,
   "id": "0cba0ffd-8ebc-45da-a1ca-557b1671d011",
   "metadata": {},
   "outputs": [
    {
     "data": {
      "text/plain": [
       "0.9004049917745095"
      ]
     },
     "execution_count": 202,
     "metadata": {},
     "output_type": "execute_result"
    }
   ],
   "source": [
    "r_forest.fit(X_train,y_train)\n",
    "r_forest.score(X_test,y_test)"
   ]
  },
  {
   "cell_type": "code",
   "execution_count": 203,
   "id": "04fda02c-6edd-4f9a-a9c0-40376a28b6d7",
   "metadata": {},
   "outputs": [
    {
     "data": {
      "text/plain": [
       "0.9092552950269704"
      ]
     },
     "execution_count": 203,
     "metadata": {},
     "output_type": "execute_result"
    }
   ],
   "source": [
    "cross_val_score(r_forest,X,y, cv = KFold(shuffle=True, n_splits=6)).mean()"
   ]
  },
  {
   "cell_type": "code",
   "execution_count": null,
   "id": "563aed3c-4f14-4ef8-b93c-11104c44858f",
   "metadata": {},
   "outputs": [],
   "source": []
  },
  {
   "cell_type": "code",
   "execution_count": null,
   "id": "f18246c4-ab03-4d84-a9b5-732488a22945",
   "metadata": {},
   "outputs": [],
   "source": []
  },
  {
   "cell_type": "code",
   "execution_count": null,
   "id": "8c63ee97-ef58-4423-bfd6-101c02c2c3d2",
   "metadata": {},
   "outputs": [],
   "source": []
  },
  {
   "cell_type": "code",
   "execution_count": null,
   "id": "9bcbe374-8caa-4c03-b2ad-7366719084fb",
   "metadata": {},
   "outputs": [],
   "source": []
  }
 ],
 "metadata": {
  "kernelspec": {
   "display_name": "IA",
   "language": "python",
   "name": "ia"
  },
  "language_info": {
   "codemirror_mode": {
    "name": "ipython",
    "version": 3
   },
   "file_extension": ".py",
   "mimetype": "text/x-python",
   "name": "python",
   "nbconvert_exporter": "python",
   "pygments_lexer": "ipython3",
   "version": "3.8.10"
  }
 },
 "nbformat": 4,
 "nbformat_minor": 5
}
