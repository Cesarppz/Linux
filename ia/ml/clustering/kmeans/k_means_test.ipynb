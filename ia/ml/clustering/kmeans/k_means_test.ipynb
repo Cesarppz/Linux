{
 "cells": [
  {
   "cell_type": "code",
   "execution_count": 180,
   "id": "e9d8f19f-8c71-47c1-a548-94c919238df3",
   "metadata": {},
   "outputs": [],
   "source": [
    "def k_mean(X, y, max_iter = 1000 , k_max = 4):\n",
    "    lst_k = {}\n",
    "    \n",
    "    \n",
    "    for i in range(1 ,k_max + 1 ):\n",
    "        lst_iter = []\n",
    "        for j in range(max_iter + 1):\n",
    "            model = KMeans(n_clusters=i , max_iter=j+1).fit(X)\n",
    "            y_predict = model.predict(X)\n",
    "            accuracy = adjusted_rand_score(y,y_predict)\n",
    "            lst_iter.append(accuracy)\n",
    "\n",
    "            if j % 500 == 0:\n",
    "                print(f'vuelta {j} de {max_iter}')\n",
    "        print(f'k número {i}')\n",
    "        \n",
    "        lst_k[f'{i}'] = lst_iter\n",
    "    \n",
    "    return lst_k"
   ]
  }
 ],
 "metadata": {
  "kernelspec": {
   "display_name": "Python [conda env:ia]",
   "language": "python",
   "name": "conda-env-ia-py"
  },
  "language_info": {
   "codemirror_mode": {
    "name": "ipython",
    "version": 3
   },
   "file_extension": ".py",
   "mimetype": "text/x-python",
   "name": "python",
   "nbconvert_exporter": "python",
   "pygments_lexer": "ipython3",
   "version": "3.8.8"
  }
 },
 "nbformat": 4,
 "nbformat_minor": 5
}
