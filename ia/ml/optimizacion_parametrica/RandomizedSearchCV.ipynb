{
 "cells": [
  {
   "cell_type": "code",
   "execution_count": 41,
   "id": "aa768802-06b9-47e8-be66-e200da05c6d7",
   "metadata": {},
   "outputs": [],
   "source": [
    "import pandas as pd\n",
    "from sklearn.ensemble import RandomForestRegressor\n",
    "from sklearn.model_selection import RandomizedSearchCV, train_test_split, GridSearchCV"
   ]
  },
  {
   "cell_type": "code",
   "execution_count": 2,
   "id": "2a18a209-3ad5-4813-921c-d9d744daa698",
   "metadata": {},
   "outputs": [],
   "source": [
    "df = pd.read_csv('../data/felicidad.csv')"
   ]
  },
  {
   "cell_type": "code",
   "execution_count": 3,
   "id": "8824ff67-d421-4a36-94d3-c7e028303991",
   "metadata": {},
   "outputs": [
    {
     "data": {
      "text/plain": [
       "Index(['country', 'rank', 'score', 'high', 'low', 'gdp', 'family', 'lifexp',\n",
       "       'freedom', 'generosity', 'corruption', 'dystopia'],\n",
       "      dtype='object')"
      ]
     },
     "execution_count": 3,
     "metadata": {},
     "output_type": "execute_result"
    }
   ],
   "source": [
    "df.columns"
   ]
  },
  {
   "cell_type": "code",
   "execution_count": 4,
   "id": "b9581ef4-2910-4f2a-a68a-3e18e4e185aa",
   "metadata": {},
   "outputs": [],
   "source": [
    "X = df.drop(['country', 'rank', 'score', 'high', 'low'], axis = 1)\n",
    "y = df['score']"
   ]
  },
  {
   "cell_type": "code",
   "execution_count": 13,
   "id": "2d540971-276f-4626-921f-446575a7a2a3",
   "metadata": {},
   "outputs": [],
   "source": [
    "X_train , X_test, y_train, y_test = train_test_split(X,y,test_size=0.25) "
   ]
  },
  {
   "cell_type": "markdown",
   "id": "5309f44b-2d1e-46f0-80f0-f7fc5b7e90a7",
   "metadata": {},
   "source": [
    "# Modelo"
   ]
  },
  {
   "cell_type": "markdown",
   "id": "cf986ed3-cd96-42e5-a2dd-e97afd9323d7",
   "metadata": {},
   "source": [
    "## RandomizedSearchCV"
   ]
  },
  {
   "cell_type": "code",
   "execution_count": 7,
   "id": "ff771f9e-c2fc-429e-81b7-84d0f094034e",
   "metadata": {},
   "outputs": [],
   "source": [
    "reg = RandomForestRegressor()\n",
    "\n",
    "# parametros\n",
    "parametros = {\n",
    "    'n_estimators' : range(2,51),\n",
    "    'criterion' : ['mse','mae'],\n",
    "    'max_depth' : range(2,21)\n",
    "}"
   ]
  },
  {
   "cell_type": "code",
   "execution_count": 56,
   "id": "d88e338e-1ab5-41d7-a0f9-3acf75dffdd0",
   "metadata": {},
   "outputs": [],
   "source": [
    "rand_search = RandomizedSearchCV(reg, parametros, cv=5, scoring='neg_mean_absolute_error').fit(X_test,y_test)"
   ]
  },
  {
   "cell_type": "code",
   "execution_count": 57,
   "id": "da6e6b5f-4091-48ab-bb84-d64535821017",
   "metadata": {},
   "outputs": [
    {
     "name": "stdout",
     "output_type": "stream",
     "text": [
      "RandomForestRegressor(criterion='mae', max_depth=11, n_estimators=40)\n"
     ]
    }
   ],
   "source": [
    "print(rand_search.best_estimator_)"
   ]
  },
  {
   "cell_type": "code",
   "execution_count": 58,
   "id": "46fef41e-6da8-4cb4-b4ed-5ef1cfcf638d",
   "metadata": {},
   "outputs": [
    {
     "data": {
      "text/plain": [
       "{'n_estimators': 40, 'max_depth': 11, 'criterion': 'mae'}"
      ]
     },
     "execution_count": 58,
     "metadata": {},
     "output_type": "execute_result"
    }
   ],
   "source": [
    "rand_search.best_params_"
   ]
  },
  {
   "cell_type": "markdown",
   "id": "84226868-2f24-4997-9086-4722481362ac",
   "metadata": {},
   "source": [
    "### Hacer la predicción con los mejores parametros"
   ]
  },
  {
   "cell_type": "code",
   "execution_count": 59,
   "id": "216cac83-d71c-4ad4-9381-061764baa2c7",
   "metadata": {},
   "outputs": [
    {
     "data": {
      "text/plain": [
       "array([4.49287509, 5.29690011, 6.17692491, 5.94027504, 4.99232502,\n",
       "       5.90412493, 4.22434993, 6.00094994, 6.39537503, 5.67677501,\n",
       "       3.88742499, 5.12530016, 5.22772503, 5.6338749 , 6.41939998,\n",
       "       4.70780004, 4.01807498, 7.31554989, 3.89055003, 4.7132251 ,\n",
       "       4.52857514, 6.03347504, 4.24092487, 5.90877502, 4.59617487,\n",
       "       3.74394994, 6.25262498, 4.53630006, 5.15627497, 4.82584995,\n",
       "       5.53140005, 5.03227512, 5.4805751 , 5.72957486, 5.08925016,\n",
       "       5.58509991, 6.6456001 , 7.16077498, 7.26472503])"
      ]
     },
     "execution_count": 59,
     "metadata": {},
     "output_type": "execute_result"
    }
   ],
   "source": [
    "rand_search.predict(X_test)"
   ]
  },
  {
   "cell_type": "code",
   "execution_count": 60,
   "id": "4c59d11f-d941-4e24-90e1-be7db5962b06",
   "metadata": {},
   "outputs": [
    {
     "data": {
      "text/plain": [
       "-0.16020512919551272"
      ]
     },
     "execution_count": 60,
     "metadata": {},
     "output_type": "execute_result"
    }
   ],
   "source": [
    "rand_search.score(X_test,y_test)"
   ]
  },
  {
   "cell_type": "markdown",
   "id": "1d5f7637-7cd0-4d9e-ad8c-ca158bda737d",
   "metadata": {},
   "source": [
    "## GridSearchCV"
   ]
  },
  {
   "cell_type": "markdown",
   "id": "6479d6ce-ceb0-4eba-ae42-11000c17c03c",
   "metadata": {},
   "source": [
    "*DURA MUCHO*"
   ]
  },
  {
   "cell_type": "code",
   "execution_count": 42,
   "id": "8ac02548-422c-47db-8189-c7a0bcc89037",
   "metadata": {},
   "outputs": [],
   "source": [
    "grid_search = GridSearchCV(reg, parametros, cv=5, scoring='neg_mean_absolute_error').fit(X_test,y_test)"
   ]
  },
  {
   "cell_type": "code",
   "execution_count": 43,
   "id": "a5a92c46-2455-4d0f-948a-eff7470a4fb5",
   "metadata": {},
   "outputs": [
    {
     "data": {
      "text/plain": [
       "RandomForestRegressor(max_depth=7, n_estimators=11)"
      ]
     },
     "execution_count": 43,
     "metadata": {},
     "output_type": "execute_result"
    }
   ],
   "source": [
    "grid_search.best_estimator_"
   ]
  },
  {
   "cell_type": "code",
   "execution_count": 44,
   "id": "9b3ca328-de81-4e58-9b47-2aff0ad86dff",
   "metadata": {},
   "outputs": [
    {
     "data": {
      "text/plain": [
       "{'criterion': 'mse', 'max_depth': 7, 'n_estimators': 11}"
      ]
     },
     "execution_count": 44,
     "metadata": {},
     "output_type": "execute_result"
    }
   ],
   "source": [
    "grid_search.best_params_"
   ]
  },
  {
   "cell_type": "code",
   "execution_count": 62,
   "id": "9006553c-9780-4e97-8fd1-dcb8829bd119",
   "metadata": {},
   "outputs": [
    {
     "data": {
      "text/plain": [
       "-0.4219192856192369"
      ]
     },
     "execution_count": 62,
     "metadata": {},
     "output_type": "execute_result"
    }
   ],
   "source": [
    "grid_search.best_score_"
   ]
  },
  {
   "cell_type": "code",
   "execution_count": 45,
   "id": "b3d030c6-99a9-44e0-badb-a7932565493e",
   "metadata": {},
   "outputs": [
    {
     "data": {
      "text/plain": [
       "-0.1740800947655899"
      ]
     },
     "execution_count": 45,
     "metadata": {},
     "output_type": "execute_result"
    }
   ],
   "source": [
    "grid_searchd_search.score(X_test,y_test)"
   ]
  }
 ],
 "metadata": {
  "kernelspec": {
   "display_name": "IA",
   "language": "python",
   "name": "ia"
  },
  "language_info": {
   "codemirror_mode": {
    "name": "ipython",
    "version": 3
   },
   "file_extension": ".py",
   "mimetype": "text/x-python",
   "name": "python",
   "nbconvert_exporter": "python",
   "pygments_lexer": "ipython3",
   "version": "3.8.10"
  }
 },
 "nbformat": 4,
 "nbformat_minor": 5
}
