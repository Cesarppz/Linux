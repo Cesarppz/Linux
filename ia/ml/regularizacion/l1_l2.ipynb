{
 "cells": [
  {
   "cell_type": "code",
   "execution_count": 1,
   "id": "8feea1f3-b95d-4aac-8710-fe4dd4c0c6fc",
   "metadata": {},
   "outputs": [],
   "source": [
    "import pandas as pd\n",
    "from sklearn.linear_model import LinearRegression, Lasso, Ridge\n",
    "from sklearn.model_selection import train_test_split\n",
    "from sklearn.metrics import mean_squared_error"
   ]
  },
  {
   "cell_type": "code",
   "execution_count": 2,
   "id": "98ae9984-aea7-4fc9-a063-f711898e07fd",
   "metadata": {},
   "outputs": [
    {
     "data": {
      "text/html": [
       "<div>\n",
       "<style scoped>\n",
       "    .dataframe tbody tr th:only-of-type {\n",
       "        vertical-align: middle;\n",
       "    }\n",
       "\n",
       "    .dataframe tbody tr th {\n",
       "        vertical-align: top;\n",
       "    }\n",
       "\n",
       "    .dataframe thead th {\n",
       "        text-align: right;\n",
       "    }\n",
       "</style>\n",
       "<table border=\"1\" class=\"dataframe\">\n",
       "  <thead>\n",
       "    <tr style=\"text-align: right;\">\n",
       "      <th></th>\n",
       "      <th>country</th>\n",
       "      <th>rank</th>\n",
       "      <th>score</th>\n",
       "      <th>high</th>\n",
       "      <th>low</th>\n",
       "      <th>gdp</th>\n",
       "      <th>family</th>\n",
       "      <th>lifexp</th>\n",
       "      <th>freedom</th>\n",
       "      <th>generosity</th>\n",
       "      <th>corruption</th>\n",
       "      <th>dystopia</th>\n",
       "    </tr>\n",
       "  </thead>\n",
       "  <tbody>\n",
       "    <tr>\n",
       "      <th>0</th>\n",
       "      <td>Norway</td>\n",
       "      <td>1</td>\n",
       "      <td>7.537</td>\n",
       "      <td>7.594445</td>\n",
       "      <td>7.479556</td>\n",
       "      <td>1.616463</td>\n",
       "      <td>1.533524</td>\n",
       "      <td>0.796667</td>\n",
       "      <td>0.635423</td>\n",
       "      <td>0.362012</td>\n",
       "      <td>0.315964</td>\n",
       "      <td>2.277027</td>\n",
       "    </tr>\n",
       "    <tr>\n",
       "      <th>1</th>\n",
       "      <td>Denmark</td>\n",
       "      <td>2</td>\n",
       "      <td>7.522</td>\n",
       "      <td>7.581728</td>\n",
       "      <td>7.462272</td>\n",
       "      <td>1.482383</td>\n",
       "      <td>1.551122</td>\n",
       "      <td>0.792566</td>\n",
       "      <td>0.626007</td>\n",
       "      <td>0.355280</td>\n",
       "      <td>0.400770</td>\n",
       "      <td>2.313707</td>\n",
       "    </tr>\n",
       "  </tbody>\n",
       "</table>\n",
       "</div>"
      ],
      "text/plain": [
       "   country  rank  score      high       low       gdp    family    lifexp  \\\n",
       "0   Norway     1  7.537  7.594445  7.479556  1.616463  1.533524  0.796667   \n",
       "1  Denmark     2  7.522  7.581728  7.462272  1.482383  1.551122  0.792566   \n",
       "\n",
       "    freedom  generosity  corruption  dystopia  \n",
       "0  0.635423    0.362012    0.315964  2.277027  \n",
       "1  0.626007    0.355280    0.400770  2.313707  "
      ]
     },
     "execution_count": 2,
     "metadata": {},
     "output_type": "execute_result"
    }
   ],
   "source": [
    "df = pd.read_csv('../data/felicidad.csv')\n",
    "df.head(2)"
   ]
  },
  {
   "cell_type": "code",
   "execution_count": 3,
   "id": "8da1c995-b977-4b79-905d-b96903fd21c0",
   "metadata": {},
   "outputs": [],
   "source": [
    "X_features = df[['gdp', 'family', 'lifexp',\n",
    "       'freedom', 'generosity', 'corruption', 'dystopia']]\n",
    "y_features = df['score']"
   ]
  },
  {
   "cell_type": "code",
   "execution_count": 4,
   "id": "7a554800-b466-4639-8b84-7972f8e26ac6",
   "metadata": {},
   "outputs": [],
   "source": [
    "X_train, X_test, y_train, y_test = train_test_split(X_features, y_features, test_size=0.25, random_state=0)"
   ]
  },
  {
   "cell_type": "code",
   "execution_count": 5,
   "id": "bc72d7f7-3347-445e-a469-f3a40d53a1d2",
   "metadata": {},
   "outputs": [
    {
     "name": "stdout",
     "output_type": "stream",
     "text": [
      "(116, 7)\n",
      "(39, 7)\n"
     ]
    }
   ],
   "source": [
    "print(X_train.shape)\n",
    "print(X_test.shape)"
   ]
  },
  {
   "cell_type": "markdown",
   "id": "91191198-f434-4629-a98e-652b12521dce",
   "metadata": {},
   "source": [
    "# Modelo"
   ]
  },
  {
   "cell_type": "code",
   "execution_count": 6,
   "id": "5b66cb38-8157-4939-abb8-925abaab46ec",
   "metadata": {},
   "outputs": [],
   "source": [
    "# Lineal model\n",
    "lr = LinearRegression().fit(X_train, y_train)\n",
    "y_predict = lr.predict(X_test)\n",
    "\n",
    "# Regularización Lasso\n",
    "lr_l = Lasso(alpha=0.02) # El valor del alpha es el lambda, es decir el valor de penalización\n",
    "lr_l.fit(X_train, y_train)\n",
    "y_predict_lasso = lr_l.predict(X_test)\n",
    "\n",
    "# Regularización Ridge\n",
    "lr_r = Ridge(alpha=0.02) \n",
    "lr_r.fit(X_train, y_train)\n",
    "y_predict_ridge = lr_r.predict(X_test)"
   ]
  },
  {
   "cell_type": "markdown",
   "id": "deb58674-fdf0-48d8-a439-f35cec361db0",
   "metadata": {},
   "source": [
    "### Medición del modelo"
   ]
  },
  {
   "cell_type": "code",
   "execution_count": 7,
   "id": "3a596369-e891-4b25-af99-dee1c801fcbe",
   "metadata": {},
   "outputs": [],
   "source": [
    "perdida_linear = mean_squared_error(y_predict, y_test)\n",
    "perdida_lasso = mean_squared_error(y_predict_lasso, y_test)\n",
    "perdida_ridge = mean_squared_error(y_predict_ridge, y_test)"
   ]
  },
  {
   "cell_type": "code",
   "execution_count": 8,
   "id": "03ff18d0-4640-421a-8eb6-6877d30de1d1",
   "metadata": {},
   "outputs": [
    {
     "name": "stdout",
     "output_type": "stream",
     "text": [
      "Perdida modelo lineal: 9.113627069636025e-08\n",
      "Perdida modelo Lasso: 0.046131421412720086\n",
      "Perdida modelo Ridge: 4.879109057225734e-06\n"
     ]
    }
   ],
   "source": [
    "print('Perdida modelo lineal:',perdida_linear)\n",
    "print('Perdida modelo Lasso:',perdida_lasso)\n",
    "print('Perdida modelo Ridge:',perdida_ridge)"
   ]
  },
  {
   "cell_type": "markdown",
   "id": "9439746c-6121-4be9-91ef-63782277064c",
   "metadata": {},
   "source": [
    "### Coeficientes"
   ]
  },
  {
   "cell_type": "code",
   "execution_count": 10,
   "id": "dc41613f-57ca-4462-b8b2-2bd6cba39685",
   "metadata": {},
   "outputs": [
    {
     "name": "stdout",
     "output_type": "stream",
     "text": [
      "Coeficientes Ridge:\n",
      " [1.00395758 0.99834947 0.99401486 1.00045048 0.99429899 0.98489136\n",
      " 0.99904243] \n",
      "\n",
      "Coeficientes Lasso:\n",
      " [1.35269253 0.86910384 0.37857477 0.83535984 0.22914234 0.\n",
      " 0.90887934]\n"
     ]
    }
   ],
   "source": [
    "print('Coeficientes Ridge:\\n',lr_r.coef_,'\\n')\n",
    "print('Coeficientes Lasso:\\n',lr_l.coef_)"
   ]
  }
 ],
 "metadata": {
  "kernelspec": {
   "display_name": "Python [conda env:ia]",
   "language": "python",
   "name": "conda-env-ia-py"
  },
  "language_info": {
   "codemirror_mode": {
    "name": "ipython",
    "version": 3
   },
   "file_extension": ".py",
   "mimetype": "text/x-python",
   "name": "python",
   "nbconvert_exporter": "python",
   "pygments_lexer": "ipython3",
   "version": "3.8.8"
  }
 },
 "nbformat": 4,
 "nbformat_minor": 5
}
