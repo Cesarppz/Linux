{
 "cells": [
  {
   "cell_type": "code",
   "execution_count": 2,
   "id": "a076f53f-7e05-4337-9eec-88e5583b37c2",
   "metadata": {},
   "outputs": [],
   "source": [
    "import sklearn\n",
    "import pandas as pd\n",
    "import matplotlib.pyplot as plt\n",
    "\n",
    "from sklearn.decomposition import PCA, IncrementalPCA, KernelPCA\n",
    "\n",
    "from sklearn.linear_model import LogisticRegression\n",
    "from sklearn.preprocessing import StandardScaler  #Normalizar los datos\n",
    "from sklearn.model_selection import train_test_split\n",
    "from sklearn.metrics import accuracy_score"
   ]
  },
  {
   "cell_type": "code",
   "execution_count": 4,
   "id": "6bd3ed8b-ae11-489c-89f5-57acfa9fe2a4",
   "metadata": {},
   "outputs": [],
   "source": [
    " df_h = pd.read_csv('../data/heart.csv')"
   ]
  },
  {
   "cell_type": "code",
   "execution_count": 6,
   "id": "6aff702e-9ea0-4acb-9cfb-a141f93024c4",
   "metadata": {},
   "outputs": [
    {
     "data": {
      "text/html": [
       "<div>\n",
       "<style scoped>\n",
       "    .dataframe tbody tr th:only-of-type {\n",
       "        vertical-align: middle;\n",
       "    }\n",
       "\n",
       "    .dataframe tbody tr th {\n",
       "        vertical-align: top;\n",
       "    }\n",
       "\n",
       "    .dataframe thead th {\n",
       "        text-align: right;\n",
       "    }\n",
       "</style>\n",
       "<table border=\"1\" class=\"dataframe\">\n",
       "  <thead>\n",
       "    <tr style=\"text-align: right;\">\n",
       "      <th></th>\n",
       "      <th>age</th>\n",
       "      <th>sex</th>\n",
       "      <th>cp</th>\n",
       "      <th>trestbps</th>\n",
       "      <th>chol</th>\n",
       "      <th>fbs</th>\n",
       "      <th>restecg</th>\n",
       "      <th>thalach</th>\n",
       "      <th>exang</th>\n",
       "      <th>oldpeak</th>\n",
       "      <th>slope</th>\n",
       "      <th>ca</th>\n",
       "      <th>thal</th>\n",
       "      <th>target</th>\n",
       "    </tr>\n",
       "  </thead>\n",
       "  <tbody>\n",
       "    <tr>\n",
       "      <th>0</th>\n",
       "      <td>52</td>\n",
       "      <td>1</td>\n",
       "      <td>0</td>\n",
       "      <td>125</td>\n",
       "      <td>212</td>\n",
       "      <td>0</td>\n",
       "      <td>1</td>\n",
       "      <td>168</td>\n",
       "      <td>0</td>\n",
       "      <td>1.0</td>\n",
       "      <td>2</td>\n",
       "      <td>2</td>\n",
       "      <td>3</td>\n",
       "      <td>0</td>\n",
       "    </tr>\n",
       "    <tr>\n",
       "      <th>1</th>\n",
       "      <td>53</td>\n",
       "      <td>1</td>\n",
       "      <td>0</td>\n",
       "      <td>140</td>\n",
       "      <td>203</td>\n",
       "      <td>1</td>\n",
       "      <td>0</td>\n",
       "      <td>155</td>\n",
       "      <td>1</td>\n",
       "      <td>3.1</td>\n",
       "      <td>0</td>\n",
       "      <td>0</td>\n",
       "      <td>3</td>\n",
       "      <td>0</td>\n",
       "    </tr>\n",
       "    <tr>\n",
       "      <th>2</th>\n",
       "      <td>70</td>\n",
       "      <td>1</td>\n",
       "      <td>0</td>\n",
       "      <td>145</td>\n",
       "      <td>174</td>\n",
       "      <td>0</td>\n",
       "      <td>1</td>\n",
       "      <td>125</td>\n",
       "      <td>1</td>\n",
       "      <td>2.6</td>\n",
       "      <td>0</td>\n",
       "      <td>0</td>\n",
       "      <td>3</td>\n",
       "      <td>0</td>\n",
       "    </tr>\n",
       "    <tr>\n",
       "      <th>3</th>\n",
       "      <td>61</td>\n",
       "      <td>1</td>\n",
       "      <td>0</td>\n",
       "      <td>148</td>\n",
       "      <td>203</td>\n",
       "      <td>0</td>\n",
       "      <td>1</td>\n",
       "      <td>161</td>\n",
       "      <td>0</td>\n",
       "      <td>0.0</td>\n",
       "      <td>2</td>\n",
       "      <td>1</td>\n",
       "      <td>3</td>\n",
       "      <td>0</td>\n",
       "    </tr>\n",
       "    <tr>\n",
       "      <th>4</th>\n",
       "      <td>62</td>\n",
       "      <td>0</td>\n",
       "      <td>0</td>\n",
       "      <td>138</td>\n",
       "      <td>294</td>\n",
       "      <td>1</td>\n",
       "      <td>1</td>\n",
       "      <td>106</td>\n",
       "      <td>0</td>\n",
       "      <td>1.9</td>\n",
       "      <td>1</td>\n",
       "      <td>3</td>\n",
       "      <td>2</td>\n",
       "      <td>0</td>\n",
       "    </tr>\n",
       "  </tbody>\n",
       "</table>\n",
       "</div>"
      ],
      "text/plain": [
       "   age  sex  cp  trestbps  chol  fbs  restecg  thalach  exang  oldpeak  slope  \\\n",
       "0   52    1   0       125   212    0        1      168      0      1.0      2   \n",
       "1   53    1   0       140   203    1        0      155      1      3.1      0   \n",
       "2   70    1   0       145   174    0        1      125      1      2.6      0   \n",
       "3   61    1   0       148   203    0        1      161      0      0.0      2   \n",
       "4   62    0   0       138   294    1        1      106      0      1.9      1   \n",
       "\n",
       "   ca  thal  target  \n",
       "0   2     3       0  \n",
       "1   0     3       0  \n",
       "2   0     3       0  \n",
       "3   1     3       0  \n",
       "4   3     2       0  "
      ]
     },
     "execution_count": 6,
     "metadata": {},
     "output_type": "execute_result"
    }
   ],
   "source": [
    "df_h.head()"
   ]
  },
  {
   "cell_type": "code",
   "execution_count": 7,
   "id": "b94f67f3-1909-4550-9fa3-69c24ee677e1",
   "metadata": {},
   "outputs": [],
   "source": [
    "df_features = df_h.drop(['target'], axis = 1)\n",
    "df_target = df_h['target']"
   ]
  },
  {
   "cell_type": "markdown",
   "id": "5ef585ed-99f1-4bc6-b240-298a416cb389",
   "metadata": {},
   "source": [
    "### Para PCA siempre se tiene que normalizar los datos"
   ]
  },
  {
   "cell_type": "code",
   "execution_count": 8,
   "id": "c67bf92d-cc80-4914-ae02-f9b4a7516850",
   "metadata": {},
   "outputs": [],
   "source": [
    "df_features = StandardScaler().fit_transform(df_features)"
   ]
  },
  {
   "cell_type": "markdown",
   "id": "aee283e8-26e5-45ec-959c-b5b916ed8229",
   "metadata": {},
   "source": [
    "Dividir la dat engtre emtrenamiento y test"
   ]
  },
  {
   "cell_type": "code",
   "execution_count": 9,
   "id": "d560b04b-36df-4e29-8916-a92c992f47d8",
   "metadata": {},
   "outputs": [],
   "source": [
    "X_train, X_test, y_train, y_test = train_test_split(df_features, df_target, test_size=0.3, random_state=0)"
   ]
  },
  {
   "cell_type": "code",
   "execution_count": 10,
   "id": "b630e3f3-5b75-4ddc-bb34-36e44e94a17f",
   "metadata": {},
   "outputs": [
    {
     "name": "stdout",
     "output_type": "stream",
     "text": [
      "9321\n",
      "4004\n"
     ]
    }
   ],
   "source": [
    "print(X_train.size)\n",
    "print(X_test.size)"
   ]
  },
  {
   "cell_type": "code",
   "execution_count": 16,
   "id": "efe29438-0d86-40e8-82f6-ef7d8ea75b7d",
   "metadata": {},
   "outputs": [
    {
     "data": {
      "text/plain": [
       "(717, 13)"
      ]
     },
     "execution_count": 16,
     "metadata": {},
     "output_type": "execute_result"
    }
   ],
   "source": [
    "X_train.shape"
   ]
  },
  {
   "cell_type": "markdown",
   "id": "ce7b3674-a570-4d3b-809d-013d9a8d347f",
   "metadata": {},
   "source": [
    "# Modelo"
   ]
  },
  {
   "cell_type": "code",
   "execution_count": 27,
   "id": "aebbc117-0245-437a-905c-7d6719a2fa65",
   "metadata": {},
   "outputs": [
    {
     "data": {
      "text/plain": [
       "PCA(n_components=3)"
      ]
     },
     "execution_count": 27,
     "metadata": {},
     "output_type": "execute_result"
    }
   ],
   "source": [
    "pca = PCA(n_components=3)\n",
    "pca.fit(X_train)"
   ]
  },
  {
   "cell_type": "markdown",
   "id": "5654c52a-0287-4801-bf60-4d2bda15e2f6",
   "metadata": {},
   "source": [
    "Para comparar el desempeño de PCA y IncremetalPCA "
   ]
  },
  {
   "cell_type": "code",
   "execution_count": 22,
   "id": "e1ffdd71-434a-45a1-8a98-23b27932e202",
   "metadata": {},
   "outputs": [
    {
     "data": {
      "text/plain": [
       "IncrementalPCA(batch_size=10, n_components=3)"
      ]
     },
     "execution_count": 22,
     "metadata": {},
     "output_type": "execute_result"
    }
   ],
   "source": [
    "ipca = IncrementalPCA(n_components=3, batch_size=10) #El batch size son la cantidad de bloques en la que voy a dividir el procesamiento\n",
    "ipca.fit(X_train)"
   ]
  },
  {
   "cell_type": "markdown",
   "id": "47adb109-25e0-40a6-b552-1c782231fa4d",
   "metadata": {},
   "source": [
    "Crear un plot para ver la importancia de cada dimención"
   ]
  },
  {
   "cell_type": "code",
   "execution_count": 12,
   "id": "21fc211b-62e3-4b18-8fa0-f8c344be1558",
   "metadata": {},
   "outputs": [
    {
     "data": {
      "text/plain": [
       "array([2.65723049, 1.50721256, 1.20924863])"
      ]
     },
     "execution_count": 12,
     "metadata": {},
     "output_type": "execute_result"
    }
   ],
   "source": [
    "pca.explained_variance_"
   ]
  },
  {
   "cell_type": "code",
   "execution_count": 42,
   "id": "0269f710-a2e8-421e-a744-560909ab35ae",
   "metadata": {},
   "outputs": [
    {
     "data": {
      "text/plain": [
       "array([0.20613089, 0.11691988, 0.09380575])"
      ]
     },
     "execution_count": 42,
     "metadata": {},
     "output_type": "execute_result"
    }
   ],
   "source": [
    "pca.explained_variance_ratio_ # La importancia de cada dimensión"
   ]
  },
  {
   "cell_type": "code",
   "execution_count": 45,
   "id": "d49ee91a-d646-4707-a968-ae3b619fa6ce",
   "metadata": {},
   "outputs": [
    {
     "data": {
      "image/png": "[encoded data removed]",
      "text/plain": [
       "<Figure size 720x360 with 1 Axes>"
      ]
     },
     "metadata": {
      "needs_background": "light"
     },
     "output_type": "display_data"
    }
   ],
   "source": [
    "plt.figure(figsize=(10,5))\n",
    "plt.plot(range(len(pca.explained_variance_)), pca.explained_variance_ratio_)\n",
    "plt.xlabel('Cantidad de componentes')\n",
    "plt.ylabel('Importancia de cada componente')\n",
    "plt.show()"
   ]
  },
  {
   "cell_type": "markdown",
   "id": "3b1ddcf4-b718-41dc-9144-fd1e6be2b39c",
   "metadata": {},
   "source": [
    "## Para el modelo con PCA"
   ]
  },
  {
   "cell_type": "code",
   "execution_count": 28,
   "id": "27dc3838-9afd-4546-a08f-dcd92ce72322",
   "metadata": {},
   "outputs": [],
   "source": [
    "df_train = pca.transform(X_train)\n",
    "df_test = pca.transform(X_test)"
   ]
  },
  {
   "cell_type": "code",
   "execution_count": 29,
   "id": "900017fc-5b97-4fbf-9605-0500977c28c6",
   "metadata": {},
   "outputs": [
    {
     "data": {
      "text/plain": [
       "(717, 3)"
      ]
     },
     "execution_count": 29,
     "metadata": {},
     "output_type": "execute_result"
    }
   ],
   "source": [
    "df_train.shape"
   ]
  },
  {
   "cell_type": "code",
   "execution_count": 71,
   "id": "0bbc1ecf-bd65-4f47-98d3-b910ea8eb135",
   "metadata": {},
   "outputs": [
    {
     "name": "stdout",
     "output_type": "stream",
     "text": [
      "Accurracy PCA: 0.8311688311688312\n"
     ]
    }
   ],
   "source": [
    "logistic = LogisticRegression(solver='lbfgs')\n",
    "logistic.fit(df_train,y_train)\n",
    "\n",
    "print('Accurracy PCA:',logistic.score(df_test,y_test))"
   ]
  },
  {
   "cell_type": "markdown",
   "id": "0318101d-5b9b-4247-b452-c639c1794fdc",
   "metadata": {},
   "source": [
    "## Para el modelo con IPCA"
   ]
  },
  {
   "cell_type": "code",
   "execution_count": 68,
   "id": "24bbdce4-054c-474f-9df5-7d61fadd020b",
   "metadata": {},
   "outputs": [],
   "source": [
    "df_train_ipca = ipca.transform(X_train)\n",
    "df_test_ipca  = ipca.transform(X_test)"
   ]
  },
  {
   "cell_type": "code",
   "execution_count": 70,
   "id": "da58f911-d9a5-49f1-9dbb-5bf87f1a3255",
   "metadata": {},
   "outputs": [
    {
     "name": "stdout",
     "output_type": "stream",
     "text": [
      "Accurracy PCA: 0.8311688311688312\n"
     ]
    }
   ],
   "source": [
    "logistic_ipca = LogisticRegression(solver='lbfgs')\n",
    "logistic_ipca.fit(df_train_ipca,y_train)\n",
    "\n",
    "print('Accurracy PCA:',logistic_ipca.score(df_test_ipca,y_test))"
   ]
  },
  {
   "cell_type": "code",
   "execution_count": null,
   "id": "77991c55-d0d5-4cfa-bb43-2488ce5156ee",
   "metadata": {},
   "outputs": [],
   "source": []
  },
  {
   "cell_type": "code",
   "execution_count": 101,
   "id": "b16aa056-d9c3-4de1-8edd-b946f8934da6",
   "metadata": {},
   "outputs": [
    {
     "data": {
      "image/png": "[encoded data removed]",
      "text/plain": [
       "<Figure size 720x360 with 1 Axes>"
      ]
     },
     "metadata": {
      "needs_background": "light"
     },
     "output_type": "display_data"
    }
   ],
   "source": [
    "list_pca = []\n",
    "plt.figure(figsize=(10,5))\n",
    "\n",
    "for i in range(2,14):\n",
    "    \n",
    "    pca = PCA(n_components=i)\n",
    "    pca.fit(X_train)\n",
    "    df_train = pca.transform(X_train)\n",
    "    df_test  = pca.transform(X_test)\n",
    "    \n",
    "    #logistc\n",
    "    logistic = LogisticRegression(solver='lbfgs')\n",
    "    logistic.fit(df_train,y_train)\n",
    "    \n",
    "    #plot\n",
    "    #plt.scatter(\n",
    "    #len(pca.explained_variance_),\n",
    "    #logistic.score(df_test,y_test)\n",
    "    #)\n",
    "    \n",
    "    list_pca.append(logistic.score(df_test,y_test))\n",
    "\n",
    "    \n",
    "plt.plot(\n",
    "    range(2,14),\n",
    "    list_pca,\n",
    "    lw = 3\n",
    "    )\n",
    "plt.xlabel('$n$ components', fontsize = 12)\n",
    "plt.ylabel('Accuracy', fontsize = 12)\n",
    "plt.grid(alpha = 0.7)\n",
    "    \n",
    "plt.show()"
   ]
  },
  {
   "cell_type": "markdown",
   "id": "ef5d6444-0087-4205-b5e0-0aefdff6a153",
   "metadata": {},
   "source": [
    "## Para el modelo con Kernel PCA"
   ]
  },
  {
   "cell_type": "code",
   "execution_count": 10,
   "id": "b681086a-b0e3-4013-a580-46b9cce0516c",
   "metadata": {},
   "outputs": [
    {
     "data": {
      "text/plain": [
       "KernelPCA(kernel='poly', n_components=3)"
      ]
     },
     "execution_count": 10,
     "metadata": {},
     "output_type": "execute_result"
    }
   ],
   "source": [
    "kpca = KernelPCA(n_components=3, kernel='poly') #Hay diversos tipo de kernels, en este caso utilicé el polinimico\n",
    "kpca.fit(X_train)"
   ]
  },
  {
   "cell_type": "code",
   "execution_count": 12,
   "id": "cdd52a12-d04f-411a-9522-469272949398",
   "metadata": {},
   "outputs": [],
   "source": [
    "# Reduzco las dimensiones de los data sets\n",
    "df_train_k = kpca.transform(X_train)\n",
    "df_test_k = kpca.transform(X_test)"
   ]
  },
  {
   "cell_type": "code",
   "execution_count": 13,
   "id": "8064bff3-715b-4ad1-bb8c-966f890866ef",
   "metadata": {},
   "outputs": [
    {
     "name": "stdout",
     "output_type": "stream",
     "text": [
      "Accuracy : 0.8311688311688312\n"
     ]
    }
   ],
   "source": [
    "# Aplico la regresión lineal\n",
    "lr = LogisticRegression()\n",
    "lr.fit(df_train_k,y_train)\n",
    "\n",
    "# Mido el modelo\n",
    "accuracy = lr.score(df_test_k,y_test)\n",
    "print('Accuracy :',accuracy)"
   ]
  }
 ],
 "metadata": {
  "kernelspec": {
   "display_name": "IA",
   "language": "python",
   "name": "ia"
  },
  "language_info": {
   "codemirror_mode": {
    "name": "ipython",
    "version": 3
   },
   "file_extension": ".py",
   "mimetype": "text/x-python",
   "name": "python",
   "nbconvert_exporter": "python",
   "pygments_lexer": "ipython3",
   "version": "3.8.10"
  }
 },
 "nbformat": 4,
 "nbformat_minor": 5
}
