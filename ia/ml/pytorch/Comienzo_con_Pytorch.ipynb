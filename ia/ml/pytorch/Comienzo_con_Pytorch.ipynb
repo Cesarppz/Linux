{
 "cells": [
  {
   "cell_type": "markdown",
   "metadata": {
    "colab_type": "text",
    "id": "view-in-github"
   },
   "source": [
    "<a href=\"https://colab.research.google.com/github/Cesarppz/Linux/blob/master/ia/ml/Comienzo_con_Pytorch.ipynb\" target=\"_parent\"><img src=\"https://colab.research.google.com/assets/colab-badge.svg\" alt=\"Open In Colab\"/></a>"
   ]
  },
  {
   "cell_type": "code",
   "execution_count": 2,
   "metadata": {
    "id": "ESeJpYqzbrHA"
   },
   "outputs": [],
   "source": [
    "import torch\n",
    "import numpy as np\n",
    "import pandas as pd"
   ]
  },
  {
   "cell_type": "code",
   "execution_count": 3,
   "metadata": {
    "colab": {
     "base_uri": "https://localhost:8080/",
     "height": 35
    },
    "id": "OpMIalBkbubB",
    "outputId": "d03ebc6d-166d-4678-fece-a5cc5706c2c1"
   },
   "outputs": [
    {
     "data": {
      "text/plain": [
       "'1.1.0'"
      ]
     },
     "execution_count": 3,
     "metadata": {},
     "output_type": "execute_result"
    }
   ],
   "source": [
    "torch.__version__"
   ]
  },
  {
   "cell_type": "markdown",
   "metadata": {
    "id": "CYcWXHaVpNvq"
   },
   "source": [
    "# Operaciones de Tensores\n",
    "\n",
    "---\n",
    "\n"
   ]
  },
  {
   "cell_type": "code",
   "execution_count": 4,
   "metadata": {
    "colab": {
     "base_uri": "https://localhost:8080/"
    },
    "id": "XJQEaShkecM5",
    "outputId": "355ced9f-387c-41ae-a25b-2024320cf4d4"
   },
   "outputs": [
    {
     "name": "stdout",
     "output_type": "stream",
     "text": [
      "tensor([[2, 4, 5],\n",
      "        [8, 4, 7]])\n"
     ]
    },
    {
     "data": {
      "text/plain": [
       "tensor([[2, 4, 5],\n",
       "        [9, 4, 7]])"
      ]
     },
     "execution_count": 4,
     "metadata": {},
     "output_type": "execute_result"
    }
   ],
   "source": [
    "#Crear tensores\n",
    "tensor = torch.tensor([[2,4,5],[8,4,7]])\n",
    "print(tensor)\n",
    "# Cambiar un dato\n",
    "tensor[1][0] = 9\n",
    "tensor"
   ]
  },
  {
   "cell_type": "code",
   "execution_count": 5,
   "metadata": {
    "colab": {
     "base_uri": "https://localhost:8080/"
    },
    "id": "AKd9pgfwcJU4",
    "outputId": "546d9a7f-4659-469b-c34f-cef4d4e38d36"
   },
   "outputs": [
    {
     "data": {
      "text/plain": [
       "tensor([[1., 1.],\n",
       "        [1., 1.]])"
      ]
     },
     "execution_count": 5,
     "metadata": {},
     "output_type": "execute_result"
    }
   ],
   "source": [
    "#Tensor lleno de unos\n",
    "tensor_a = torch.ones(2,2)\n",
    "tensor_a"
   ]
  },
  {
   "cell_type": "code",
   "execution_count": 6,
   "metadata": {
    "colab": {
     "base_uri": "https://localhost:8080/"
    },
    "id": "D49zO6tVcUXa",
    "outputId": "c4583e3f-8ad0-4063-81e1-25ad148fe596"
   },
   "outputs": [
    {
     "name": "stdout",
     "output_type": "stream",
     "text": [
      "tensor([[-1.1736e-21,  3.0756e-41],\n",
      "        [ 0.0000e+00,  0.0000e+00]])\n"
     ]
    },
    {
     "data": {
      "text/plain": [
       "tensor([[0.8826, 0.4637],\n",
       "        [0.3629, 0.0276]])"
      ]
     },
     "execution_count": 6,
     "metadata": {},
     "output_type": "execute_result"
    }
   ],
   "source": [
    "#Tensor lleno aleatoriamenre\n",
    "tensor_b = torch.Tensor(2,2)\n",
    "print(tensor_b)\n",
    "#Para hacer que esos valores aleatorios, se transladen a una escala de 0 a 1 , uso la fución uniform_()\n",
    "tensor_b.uniform_()"
   ]
  },
  {
   "cell_type": "code",
   "execution_count": 7,
   "metadata": {
    "colab": {
     "base_uri": "https://localhost:8080/"
    },
    "id": "B0HeMqMuc99Z",
    "outputId": "d146556d-e1b9-49a2-a252-945bf1b489c3"
   },
   "outputs": [
    {
     "data": {
      "text/plain": [
       "tensor([[0.2051, 0.1419, 0.7461],\n",
       "        [0.1352, 0.6191, 0.7941]])"
      ]
     },
     "execution_count": 7,
     "metadata": {},
     "output_type": "execute_result"
    }
   ],
   "source": [
    "#Otra manera de crear tensores aleatorios entre 0 y 1\n",
    "tensor_c = torch.rand(2,3)\n",
    "tensor_c"
   ]
  },
  {
   "cell_type": "code",
   "execution_count": 8,
   "metadata": {
    "colab": {
     "base_uri": "https://localhost:8080/"
    },
    "id": "lnXl3lGJdWiU",
    "outputId": "a0a98532-3740-4bd0-b938-6274127a82e1"
   },
   "outputs": [
    {
     "data": {
      "text/plain": [
       "torch.Size([2, 3])"
      ]
     },
     "execution_count": 8,
     "metadata": {},
     "output_type": "execute_result"
    }
   ],
   "source": [
    "#Ver las dimensiones de los tensores\n",
    "tensor_c.shape"
   ]
  },
  {
   "cell_type": "code",
   "execution_count": 9,
   "metadata": {
    "colab": {
     "base_uri": "https://localhost:8080/"
    },
    "id": "Nw5wRRU3dmoW",
    "outputId": "9c3f29c5-cbce-4b7a-840c-cb8ecfb6ef9d"
   },
   "outputs": [
    {
     "name": "stdout",
     "output_type": "stream",
     "text": [
      "tensor([[0.2051, 0.1419, 0.7461, 0.1352, 0.6191, 0.7941]]) \n",
      " tensor([[0.2051],\n",
      "        [0.1419],\n",
      "        [0.7461],\n",
      "        [0.1352],\n",
      "        [0.6191],\n",
      "        [0.7941]])\n"
     ]
    }
   ],
   "source": [
    "#Cambiar las dimensiones de los tensores\n",
    "reshaped = tensor_c.view(1,6)\n",
    "reshaped2 = tensor_c.view(6,1)\n",
    "print(reshaped,'\\n', reshaped2)"
   ]
  },
  {
   "cell_type": "code",
   "execution_count": 10,
   "metadata": {
    "colab": {
     "base_uri": "https://localhost:8080/"
    },
    "id": "kOFtLWELfK-s",
    "outputId": "f7c2cfd4-409e-480e-90a2-398678566f15"
   },
   "outputs": [
    {
     "data": {
      "text/plain": [
       " 0.2051435112953186\n",
       " 0.14193063974380493\n",
       " 0.7461404800415039\n",
       " 0.13516712188720703\n",
       " 0.6190896034240723\n",
       " 0.7940866947174072\n",
       "[torch.FloatStorage of size 6]"
      ]
     },
     "execution_count": 10,
     "metadata": {},
     "output_type": "execute_result"
    }
   ],
   "source": [
    "#Ver la manera en la que se guarda un tensor\n",
    "tensor_c.storage()"
   ]
  },
  {
   "cell_type": "code",
   "execution_count": 11,
   "metadata": {
    "colab": {
     "base_uri": "https://localhost:8080/"
    },
    "id": "ADSietIlfS9q",
    "outputId": "7648ff5f-8af8-4959-83c2-7312695e3af3"
   },
   "outputs": [
    {
     "data": {
      "text/plain": [
       "(3, 1)"
      ]
     },
     "execution_count": 11,
     "metadata": {},
     "output_type": "execute_result"
    }
   ],
   "source": [
    "#Ver la manera en como se localiza los datos en ram\n",
    "tensor_c.stride()"
   ]
  },
  {
   "cell_type": "code",
   "execution_count": 12,
   "metadata": {
    "colab": {
     "base_uri": "https://localhost:8080/"
    },
    "id": "gu8lRGajfjOU",
    "outputId": "357cf828-6de3-47df-9190-d771096002ae"
   },
   "outputs": [
    {
     "data": {
      "text/plain": [
       "tensor([[0.2051, 0.1352],\n",
       "        [0.1419, 0.6191],\n",
       "        [0.7461, 0.7941]])"
      ]
     },
     "execution_count": 12,
     "metadata": {},
     "output_type": "execute_result"
    }
   ],
   "source": [
    "#Traspuestas\n",
    "tensor_c.t()"
   ]
  },
  {
   "cell_type": "code",
   "execution_count": 13,
   "metadata": {
    "colab": {
     "base_uri": "https://localhost:8080/"
    },
    "id": "7mbvOtYFhXBf",
    "outputId": "79c475ae-d391-4e96-fef7-6d873e9d88b7"
   },
   "outputs": [
    {
     "name": "stdout",
     "output_type": "stream",
     "text": [
      "tensor([1, 2, 3, 4]) \n",
      "\n",
      "Se le agrega una dimención horizontal\n",
      " tensor([[1, 2, 3, 4]]) \n",
      "\n",
      "Se le agrega una dimención vertical\n",
      " tensor([[1],\n",
      "        [2],\n",
      "        [3],\n",
      "        [4]])\n"
     ]
    }
   ],
   "source": [
    "#Agregar dimenciones\n",
    "tensor_x = torch.tensor([1,2,3,4])\n",
    "tensor_x2 = torch.unsqueeze(tensor_x,0)\n",
    "tensor_x3 = torch.unsqueeze(tensor_x,1)\n",
    "\n",
    "print(tensor_x,'\\n\\nSe le agrega una dimención horizontal\\n',tensor_x2,'\\n\\nSe le agrega una dimención vertical\\n',tensor_x3)"
   ]
  },
  {
   "cell_type": "code",
   "execution_count": 14,
   "metadata": {
    "colab": {
     "base_uri": "https://localhost:8080/"
    },
    "id": "qx34XE4gicg_",
    "outputId": "7d8f5755-1242-4f33-c175-a95ceabe3e0d"
   },
   "outputs": [
    {
     "data": {
      "text/plain": [
       "tensor([[-0.0238, -1.0241],\n",
       "        [ 0.3633,  1.7393]], dtype=torch.float64)"
      ]
     },
     "execution_count": 14,
     "metadata": {},
     "output_type": "execute_result"
    }
   ],
   "source": [
    "#Transforma un numpy array\n",
    "array = np.random.randn(2,2)\n",
    "torch.from_numpy(array)"
   ]
  },
  {
   "cell_type": "code",
   "execution_count": 15,
   "metadata": {
    "colab": {
     "base_uri": "https://localhost:8080/"
    },
    "id": "8RkADhImprCs",
    "outputId": "d21a5b9f-602c-4173-bef9-3f888e52b932"
   },
   "outputs": [
    {
     "data": {
      "text/plain": [
       "(torch.Size([2, 3]), torch.Size([2, 3]))"
      ]
     },
     "execution_count": 15,
     "metadata": {},
     "output_type": "execute_result"
    }
   ],
   "source": [
    "tensor_c.size() , tensor.size()"
   ]
  },
  {
   "cell_type": "code",
   "execution_count": 18,
   "metadata": {
    "colab": {
     "base_uri": "https://localhost:8080/"
    },
    "id": "YFK9HCO9pZzq",
    "outputId": "2365f6da-89e9-40dd-b589-95fde35906cb"
   },
   "outputs": [
    {
     "data": {
      "text/plain": [
       "tensor([[ 4,  8, 10],\n",
       "        [18,  8, 14]])"
      ]
     },
     "execution_count": 18,
     "metadata": {},
     "output_type": "execute_result"
    }
   ],
   "source": [
    "tensor+ tensor"
   ]
  },
  {
   "cell_type": "markdown",
   "metadata": {
    "id": "TlXNt_9DjJm6"
   },
   "source": [
    "# Represantación de datos con tensores\n",
    "\n",
    "---\n"
   ]
  },
  {
   "cell_type": "code",
   "execution_count": 19,
   "metadata": {
    "colab": {
     "base_uri": "https://localhost:8080/"
    },
    "id": "YpH_dd5vsiZP",
    "outputId": "d51e60f8-04a8-424f-8789-e5a2d03aef97"
   },
   "outputs": [
    {
     "name": "stdout",
     "output_type": "stream",
     "text": [
      "Original\n",
      " tensor([[0.2051, 0.1419, 0.7461],\n",
      "        [0.1352, 0.6191, 0.7941]]) \n",
      "\n",
      "Promedio por columnas\n",
      " tensor([0.1702, 0.3805, 0.7701]) \n",
      "\n",
      "Promedio por filas\n",
      " tensor([0.3644, 0.5161])\n"
     ]
    }
   ],
   "source": [
    "print('Original\\n',tensor_c,'\\n')\n",
    "print('Promedio por columnas\\n',torch.mean(tensor_c,dim=0),'\\n')\n",
    "print('Promedio por filas\\n',torch.mean(tensor_c,dim=1))"
   ]
  },
  {
   "cell_type": "code",
   "execution_count": 20,
   "metadata": {
    "colab": {
     "base_uri": "https://localhost:8080/"
    },
    "id": "5AcjfmqEte3G",
    "outputId": "67df4a3e-54aa-49f5-9b9e-a383cb6c6317"
   },
   "outputs": [
    {
     "data": {
      "text/plain": [
       "tensor([[0.2051, 0.1419, 0.7461],\n",
       "        [0.1352, 0.6191, 0.7941]])"
      ]
     },
     "execution_count": 20,
     "metadata": {},
     "output_type": "execute_result"
    }
   ],
   "source": [
    "#Guardar tensores\n",
    "torch.save(tensor_c,'tensor')\n",
    "n_tensor = torch.load('tensor')\n",
    "n_tensor"
   ]
  },
  {
   "cell_type": "code",
   "execution_count": 21,
   "metadata": {
    "colab": {
     "base_uri": "https://localhost:8080/",
     "height": 464
    },
    "id": "Rr_QFYJuqB7i",
    "outputId": "b70e32b4-0acb-4d02-d792-e0e7f55606ed"
   },
   "outputs": [
    {
     "data": {
      "text/html": [
       "<div>\n",
       "<style scoped>\n",
       "    .dataframe tbody tr th:only-of-type {\n",
       "        vertical-align: middle;\n",
       "    }\n",
       "\n",
       "    .dataframe tbody tr th {\n",
       "        vertical-align: top;\n",
       "    }\n",
       "\n",
       "    .dataframe thead th {\n",
       "        text-align: right;\n",
       "    }\n",
       "</style>\n",
       "<table border=\"1\" class=\"dataframe\">\n",
       "  <thead>\n",
       "    <tr style=\"text-align: right;\">\n",
       "      <th></th>\n",
       "      <th>Unnamed: 0</th>\n",
       "      <th>ID</th>\n",
       "      <th>Name</th>\n",
       "      <th>Age</th>\n",
       "      <th>Photo</th>\n",
       "      <th>Nationality</th>\n",
       "      <th>Flag</th>\n",
       "      <th>Overall</th>\n",
       "      <th>Potential</th>\n",
       "      <th>Club</th>\n",
       "      <th>...</th>\n",
       "      <th>Composure</th>\n",
       "      <th>Marking</th>\n",
       "      <th>StandingTackle</th>\n",
       "      <th>SlidingTackle</th>\n",
       "      <th>GKDiving</th>\n",
       "      <th>GKHandling</th>\n",
       "      <th>GKKicking</th>\n",
       "      <th>GKPositioning</th>\n",
       "      <th>GKReflexes</th>\n",
       "      <th>Release Clause</th>\n",
       "    </tr>\n",
       "  </thead>\n",
       "  <tbody>\n",
       "    <tr>\n",
       "      <th>0</th>\n",
       "      <td>0</td>\n",
       "      <td>158023</td>\n",
       "      <td>L. Messi</td>\n",
       "      <td>31</td>\n",
       "      <td>https://cdn.sofifa.org/players/4/19/158023.png</td>\n",
       "      <td>Argentina</td>\n",
       "      <td>https://cdn.sofifa.org/flags/52.png</td>\n",
       "      <td>94</td>\n",
       "      <td>94</td>\n",
       "      <td>FC Barcelona</td>\n",
       "      <td>...</td>\n",
       "      <td>96.0</td>\n",
       "      <td>33.0</td>\n",
       "      <td>28.0</td>\n",
       "      <td>26.0</td>\n",
       "      <td>6.0</td>\n",
       "      <td>11.0</td>\n",
       "      <td>15.0</td>\n",
       "      <td>14.0</td>\n",
       "      <td>8.0</td>\n",
       "      <td>€226.5M</td>\n",
       "    </tr>\n",
       "    <tr>\n",
       "      <th>1</th>\n",
       "      <td>1</td>\n",
       "      <td>20801</td>\n",
       "      <td>Cristiano Ronaldo</td>\n",
       "      <td>33</td>\n",
       "      <td>https://cdn.sofifa.org/players/4/19/20801.png</td>\n",
       "      <td>Portugal</td>\n",
       "      <td>https://cdn.sofifa.org/flags/38.png</td>\n",
       "      <td>94</td>\n",
       "      <td>94</td>\n",
       "      <td>Juventus</td>\n",
       "      <td>...</td>\n",
       "      <td>95.0</td>\n",
       "      <td>28.0</td>\n",
       "      <td>31.0</td>\n",
       "      <td>23.0</td>\n",
       "      <td>7.0</td>\n",
       "      <td>11.0</td>\n",
       "      <td>15.0</td>\n",
       "      <td>14.0</td>\n",
       "      <td>11.0</td>\n",
       "      <td>€127.1M</td>\n",
       "    </tr>\n",
       "    <tr>\n",
       "      <th>2</th>\n",
       "      <td>2</td>\n",
       "      <td>190871</td>\n",
       "      <td>Neymar Jr</td>\n",
       "      <td>26</td>\n",
       "      <td>https://cdn.sofifa.org/players/4/19/190871.png</td>\n",
       "      <td>Brazil</td>\n",
       "      <td>https://cdn.sofifa.org/flags/54.png</td>\n",
       "      <td>92</td>\n",
       "      <td>93</td>\n",
       "      <td>Paris Saint-Germain</td>\n",
       "      <td>...</td>\n",
       "      <td>94.0</td>\n",
       "      <td>27.0</td>\n",
       "      <td>24.0</td>\n",
       "      <td>33.0</td>\n",
       "      <td>9.0</td>\n",
       "      <td>9.0</td>\n",
       "      <td>15.0</td>\n",
       "      <td>15.0</td>\n",
       "      <td>11.0</td>\n",
       "      <td>€228.1M</td>\n",
       "    </tr>\n",
       "    <tr>\n",
       "      <th>3</th>\n",
       "      <td>3</td>\n",
       "      <td>193080</td>\n",
       "      <td>De Gea</td>\n",
       "      <td>27</td>\n",
       "      <td>https://cdn.sofifa.org/players/4/19/193080.png</td>\n",
       "      <td>Spain</td>\n",
       "      <td>https://cdn.sofifa.org/flags/45.png</td>\n",
       "      <td>91</td>\n",
       "      <td>93</td>\n",
       "      <td>Manchester United</td>\n",
       "      <td>...</td>\n",
       "      <td>68.0</td>\n",
       "      <td>15.0</td>\n",
       "      <td>21.0</td>\n",
       "      <td>13.0</td>\n",
       "      <td>90.0</td>\n",
       "      <td>85.0</td>\n",
       "      <td>87.0</td>\n",
       "      <td>88.0</td>\n",
       "      <td>94.0</td>\n",
       "      <td>€138.6M</td>\n",
       "    </tr>\n",
       "    <tr>\n",
       "      <th>4</th>\n",
       "      <td>4</td>\n",
       "      <td>192985</td>\n",
       "      <td>K. De Bruyne</td>\n",
       "      <td>27</td>\n",
       "      <td>https://cdn.sofifa.org/players/4/19/192985.png</td>\n",
       "      <td>Belgium</td>\n",
       "      <td>https://cdn.sofifa.org/flags/7.png</td>\n",
       "      <td>91</td>\n",
       "      <td>92</td>\n",
       "      <td>Manchester City</td>\n",
       "      <td>...</td>\n",
       "      <td>88.0</td>\n",
       "      <td>68.0</td>\n",
       "      <td>58.0</td>\n",
       "      <td>51.0</td>\n",
       "      <td>15.0</td>\n",
       "      <td>13.0</td>\n",
       "      <td>5.0</td>\n",
       "      <td>10.0</td>\n",
       "      <td>13.0</td>\n",
       "      <td>€196.4M</td>\n",
       "    </tr>\n",
       "  </tbody>\n",
       "</table>\n",
       "<p>5 rows × 89 columns</p>\n",
       "</div>"
      ],
      "text/plain": [
       "   Unnamed: 0      ID               Name  Age  \\\n",
       "0           0  158023           L. Messi   31   \n",
       "1           1   20801  Cristiano Ronaldo   33   \n",
       "2           2  190871          Neymar Jr   26   \n",
       "3           3  193080             De Gea   27   \n",
       "4           4  192985       K. De Bruyne   27   \n",
       "\n",
       "                                            Photo Nationality  \\\n",
       "0  https://cdn.sofifa.org/players/4/19/158023.png   Argentina   \n",
       "1   https://cdn.sofifa.org/players/4/19/20801.png    Portugal   \n",
       "2  https://cdn.sofifa.org/players/4/19/190871.png      Brazil   \n",
       "3  https://cdn.sofifa.org/players/4/19/193080.png       Spain   \n",
       "4  https://cdn.sofifa.org/players/4/19/192985.png     Belgium   \n",
       "\n",
       "                                  Flag  Overall  Potential  \\\n",
       "0  https://cdn.sofifa.org/flags/52.png       94         94   \n",
       "1  https://cdn.sofifa.org/flags/38.png       94         94   \n",
       "2  https://cdn.sofifa.org/flags/54.png       92         93   \n",
       "3  https://cdn.sofifa.org/flags/45.png       91         93   \n",
       "4   https://cdn.sofifa.org/flags/7.png       91         92   \n",
       "\n",
       "                  Club  ... Composure Marking StandingTackle  SlidingTackle  \\\n",
       "0         FC Barcelona  ...      96.0    33.0           28.0           26.0   \n",
       "1             Juventus  ...      95.0    28.0           31.0           23.0   \n",
       "2  Paris Saint-Germain  ...      94.0    27.0           24.0           33.0   \n",
       "3    Manchester United  ...      68.0    15.0           21.0           13.0   \n",
       "4      Manchester City  ...      88.0    68.0           58.0           51.0   \n",
       "\n",
       "  GKDiving  GKHandling  GKKicking  GKPositioning GKReflexes Release Clause  \n",
       "0      6.0        11.0       15.0           14.0        8.0        €226.5M  \n",
       "1      7.0        11.0       15.0           14.0       11.0        €127.1M  \n",
       "2      9.0         9.0       15.0           15.0       11.0        €228.1M  \n",
       "3     90.0        85.0       87.0           88.0       94.0        €138.6M  \n",
       "4     15.0        13.0        5.0           10.0       13.0        €196.4M  \n",
       "\n",
       "[5 rows x 89 columns]"
      ]
     },
     "execution_count": 21,
     "metadata": {},
     "output_type": "execute_result"
    }
   ],
   "source": [
    "link = 'https://raw.githubusercontent.com/amanthedorkknight/fifa18-all-player-statistics/master/2019/data.csv'\n",
    "df = pd.read_csv(link)\n",
    "df.head()"
   ]
  },
  {
   "cell_type": "code",
   "execution_count": 22,
   "metadata": {
    "colab": {
     "base_uri": "https://localhost:8080/"
    },
    "id": "TyUiOUTwqN98",
    "outputId": "08d405d5-3f34-4135-9a2f-f357ffdfff5e"
   },
   "outputs": [
    {
     "data": {
      "text/plain": [
       "Index(['Unnamed: 0', 'ID', 'Name', 'Age', 'Photo', 'Nationality', 'Flag',\n",
       "       'Overall', 'Potential', 'Club', 'Club Logo', 'Value', 'Wage', 'Special',\n",
       "       'Preferred Foot', 'International Reputation', 'Weak Foot',\n",
       "       'Skill Moves', 'Work Rate', 'Body Type', 'Real Face', 'Position',\n",
       "       'Jersey Number', 'Joined', 'Loaned From', 'Contract Valid Until',\n",
       "       'Height', 'Weight', 'LS', 'ST', 'RS', 'LW', 'LF', 'CF', 'RF', 'RW',\n",
       "       'LAM', 'CAM', 'RAM', 'LM', 'LCM', 'CM', 'RCM', 'RM', 'LWB', 'LDM',\n",
       "       'CDM', 'RDM', 'RWB', 'LB', 'LCB', 'CB', 'RCB', 'RB', 'Crossing',\n",
       "       'Finishing', 'HeadingAccuracy', 'ShortPassing', 'Volleys', 'Dribbling',\n",
       "       'Curve', 'FKAccuracy', 'LongPassing', 'BallControl', 'Acceleration',\n",
       "       'SprintSpeed', 'Agility', 'Reactions', 'Balance', 'ShotPower',\n",
       "       'Jumping', 'Stamina', 'Strength', 'LongShots', 'Aggression',\n",
       "       'Interceptions', 'Positioning', 'Vision', 'Penalties', 'Composure',\n",
       "       'Marking', 'StandingTackle', 'SlidingTackle', 'GKDiving', 'GKHandling',\n",
       "       'GKKicking', 'GKPositioning', 'GKReflexes', 'Release Clause'],\n",
       "      dtype='object')"
      ]
     },
     "execution_count": 22,
     "metadata": {},
     "output_type": "execute_result"
    }
   ],
   "source": [
    "df.columns"
   ]
  },
  {
   "cell_type": "code",
   "execution_count": 23,
   "metadata": {
    "colab": {
     "base_uri": "https://localhost:8080/"
    },
    "id": "8cICZU29t1Ql",
    "outputId": "dcc8ce52-e319-4a17-8886-2c524b472213"
   },
   "outputs": [
    {
     "data": {
      "text/plain": [
       "(torch.Size([18159, 5]), 'torch.FloatTensor')"
      ]
     },
     "execution_count": 23,
     "metadata": {},
     "output_type": "execute_result"
    }
   ],
   "source": [
    "subset = df[['Overall','Age','International Reputation', 'Weak Foot',\n",
    "       'Skill Moves']].dropna()\n",
    "player = torch.tensor(subset.values).float()\n",
    "player.shape,player.type()"
   ]
  },
  {
   "cell_type": "code",
   "execution_count": 24,
   "metadata": {
    "colab": {
     "base_uri": "https://localhost:8080/"
    },
    "id": "R6JwK8_svCmS",
    "outputId": "097b3ab2-2fd8-4ae2-ee17-47bfcd574235"
   },
   "outputs": [
    {
     "data": {
      "text/plain": [
       "(torch.Size([18159, 4]), torch.Size([18159]))"
      ]
     },
     "execution_count": 24,
     "metadata": {},
     "output_type": "execute_result"
    }
   ],
   "source": [
    "data = player[:,1:]\n",
    "target = player[:,0]\n",
    "data.shape,target.shape"
   ]
  },
  {
   "cell_type": "code",
   "execution_count": 25,
   "metadata": {
    "colab": {
     "base_uri": "https://localhost:8080/"
    },
    "id": "CPyhr6_tvmkf",
    "outputId": "6e9de30c-9978-4735-d2a5-f8aeb881272a"
   },
   "outputs": [
    {
     "data": {
      "text/plain": [
       "(tensor([25.1225,  1.1132,  2.9473,  2.3613]),\n",
       " tensor([4.6706, 0.3940, 0.6605, 0.7562]))"
      ]
     },
     "execution_count": 25,
     "metadata": {},
     "output_type": "execute_result"
    }
   ],
   "source": [
    "#Sacar le promedio y std de los datos\n",
    "media = torch.mean(data,dim=0)\n",
    "std = torch.std(data,dim=0)\n",
    "media , std"
   ]
  },
  {
   "cell_type": "code",
   "execution_count": 26,
   "metadata": {
    "colab": {
     "base_uri": "https://localhost:8080/"
    },
    "id": "AHzmgVLAwKAF",
    "outputId": "d156ce46-2a02-4daa-906d-f2893f0df0a0"
   },
   "outputs": [
    {
     "data": {
      "text/plain": [
       "tensor([[ 1.2584,  9.8641,  1.5939,  2.1671],\n",
       "        [ 1.6866,  9.8641,  1.5939,  3.4896],\n",
       "        [ 0.1879,  9.8641,  3.1080,  3.4896],\n",
       "        ...,\n",
       "        [-1.9532, -0.2873,  0.0798, -0.4778],\n",
       "        [-1.7391, -0.2873,  0.0798, -0.4778],\n",
       "        [-1.9532, -0.2873,  0.0798, -0.4778]])"
      ]
     },
     "execution_count": 26,
     "metadata": {},
     "output_type": "execute_result"
    }
   ],
   "source": [
    "#Normalizo los datos \n",
    "data_n = (data - media)/std\n",
    "data_n"
   ]
  },
  {
   "cell_type": "code",
   "execution_count": 27,
   "metadata": {
    "id": "POaOKVvKwntr"
   },
   "outputs": [],
   "source": [
    "#Filtrar los datos \n",
    "#ge = greater or equal\n",
    "#gt = greater than \n",
    "#lt = lower than \n",
    "good = data[torch.ge(target,85)]\n",
    "medium = data[torch.gt(target,70)&torch.lt(target,85)]\n",
    "bad = data[torch.lt(target,85)]"
   ]
  },
  {
   "cell_type": "code",
   "execution_count": 28,
   "metadata": {
    "colab": {
     "base_uri": "https://localhost:8080/"
    },
    "id": "01Lj-bh7yDU1",
    "outputId": "1332aea6-4373-4dbe-a33a-7e48699aaf67"
   },
   "outputs": [
    {
     "data": {
      "text/plain": [
       "(tensor([28.3455,  3.3818,  3.4455,  3.0364]),\n",
       " tensor([27.2285,  1.3561,  3.1114,  2.7515]),\n",
       " tensor([25.1029,  1.0994,  2.9443,  2.3572]))"
      ]
     },
     "execution_count": 28,
     "metadata": {},
     "output_type": "execute_result"
    }
   ],
   "source": [
    "good_mean = torch.mean(good,dim=0)\n",
    "medium_mean = torch.mean(medium,dim=0)\n",
    "bad_mean = torch.mean(bad,dim=0)\n",
    "good_mean,medium_mean,bad_mean"
   ]
  },
  {
   "cell_type": "code",
   "execution_count": 29,
   "metadata": {
    "colab": {
     "base_uri": "https://localhost:8080/"
    },
    "id": "S3IqQ3ffy09V",
    "outputId": "edcaf12a-a232-4bd2-f179-bb491e2025d0"
   },
   "outputs": [
    {
     "data": {
      "text/plain": [
       "Index(['Age', 'International Reputation', 'Weak Foot', 'Skill Moves'], dtype='object')"
      ]
     },
     "execution_count": 29,
     "metadata": {},
     "output_type": "execute_result"
    }
   ],
   "source": [
    "columns = subset.columns[1:]\n",
    "columns"
   ]
  },
  {
   "cell_type": "code",
   "execution_count": 30,
   "metadata": {
    "colab": {
     "base_uri": "https://localhost:8080/"
    },
    "id": "iMHfwrU_zCdg",
    "outputId": "5bd0b4f1-09ef-4166-fda4-5a111c011538"
   },
   "outputs": [
    {
     "data": {
      "text/plain": [
       "[('Age', tensor(28.3455), tensor(27.2285), tensor(25.1029)),\n",
       " ('International Reputation', tensor(3.3818), tensor(1.3561), tensor(1.0994)),\n",
       " ('Weak Foot', tensor(3.4455), tensor(3.1114), tensor(2.9443)),\n",
       " ('Skill Moves', tensor(3.0364), tensor(2.7515), tensor(2.3572))]"
      ]
     },
     "execution_count": 30,
     "metadata": {},
     "output_type": "execute_result"
    }
   ],
   "source": [
    "list(zip(columns,good_mean,medium_mean,bad_mean))"
   ]
  },
  {
   "cell_type": "code",
   "execution_count": 31,
   "metadata": {
    "colab": {
     "base_uri": "https://localhost:8080/"
    },
    "id": "8PHUqBU0yiQe",
    "outputId": "8165a3d0-11eb-4f5b-9242-80ed646e7322"
   },
   "outputs": [
    {
     "name": "stdout",
     "output_type": "stream",
     "text": [
      "Age                            28.35 27.23 25.10\n",
      "International Reputation        3.38  1.36  1.10\n",
      "Weak Foot                       3.45  3.11  2.94\n",
      "Skill Moves                     3.04  2.75  2.36\n"
     ]
    }
   ],
   "source": [
    "for idx , value in enumerate(zip(columns,good_mean,medium_mean,bad_mean)):\n",
    "  print('{:30}{:6.2f}{:6.2f}{:6.2f}'.format(*value))"
   ]
  },
  {
   "cell_type": "code",
   "execution_count": null,
   "metadata": {},
   "outputs": [],
   "source": []
  },
  {
   "cell_type": "code",
   "execution_count": null,
   "metadata": {},
   "outputs": [],
   "source": []
  },
  {
   "cell_type": "code",
   "execution_count": null,
   "metadata": {},
   "outputs": [],
   "source": []
  },
  {
   "cell_type": "code",
   "execution_count": null,
   "metadata": {},
   "outputs": [],
   "source": []
  },
  {
   "cell_type": "code",
   "execution_count": 45,
   "metadata": {},
   "outputs": [
    {
     "name": "stdout",
     "output_type": "stream",
     "text": [
      "tensor([[1., 2.],\n",
      "        [3., 4.]]) tensor([1.5000, 3.5000]) tensor([2., 3.]) tensor(2.5000)\n"
     ]
    }
   ],
   "source": [
    "new_tensor = torch.tensor([[1.0, 2.0],[3.0, 4.0]])\n",
    "print(new_tensor,\n",
    "      torch.mean(new_tensor, dim=1),\n",
    "      torch.mean(new_tensor, dim=0),\n",
    "      torch.mean(new_tensor)) \n"
   ]
  },
  {
   "cell_type": "code",
   "execution_count": 40,
   "metadata": {},
   "outputs": [
    {
     "data": {
      "text/plain": [
       "torch.Size([2, 2])"
      ]
     },
     "execution_count": 40,
     "metadata": {},
     "output_type": "execute_result"
    }
   ],
   "source": [
    "new_tensor.shape"
   ]
  },
  {
   "cell_type": "code",
   "execution_count": 44,
   "metadata": {},
   "outputs": [
    {
     "name": "stdout",
     "output_type": "stream",
     "text": [
      "torch.Size([1, 2, 2])\n"
     ]
    }
   ],
   "source": [
    "print(torch.unsqueeze(new_tensor, 0).shape)"
   ]
  },
  {
   "cell_type": "code",
   "execution_count": 35,
   "metadata": {},
   "outputs": [
    {
     "name": "stdout",
     "output_type": "stream",
     "text": [
      "tensor([[1],\n",
      "        [2],\n",
      "        [3],\n",
      "        [4]])\n",
      "tensor([[1],\n",
      "        [2],\n",
      "        [3],\n",
      "        [4]])\n"
     ]
    }
   ],
   "source": [
    "tensorX = torch.tensor([1, 2, 3, 4])\n",
    "print(torch.unsqueeze(tensorX, 1))\n",
    "tensorX = torch.tensor([1, 2, 3, 4])\n",
    "print(torch.unsqueeze(tensorX, 1))"
   ]
  }
 ],
 "metadata": {
  "colab": {
   "authorship_tag": "ABX9TyMFlFxDJszr39AcqZjWLQbT",
   "collapsed_sections": [
    "CYcWXHaVpNvq",
    "TlXNt_9DjJm6"
   ],
   "include_colab_link": true,
   "name": "Comienzo con Pytorch",
   "provenance": []
  },
  "kernelspec": {
   "display_name": "Python 3",
   "language": "python",
   "name": "python3"
  },
  "language_info": {
   "codemirror_mode": {
    "name": "ipython",
    "version": 3
   },
   "file_extension": ".py",
   "mimetype": "text/x-python",
   "name": "python",
   "nbconvert_exporter": "python",
   "pygments_lexer": "ipython3",
   "version": "3.8.5"
  }
 },
 "nbformat": 4,
 "nbformat_minor": 1
}
