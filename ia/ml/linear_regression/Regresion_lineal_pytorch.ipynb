{
 "cells": [
  {
   "cell_type": "code",
   "execution_count": 49,
   "metadata": {},
   "outputs": [],
   "source": [
    "import torch\n",
    "import numpy as np\n",
    "\n",
    "import torch.nn as nn\n",
    "import torch.optim as optim\n",
    "\n",
    "import matplotlib.pyplot as plt"
   ]
  },
  {
   "cell_type": "markdown",
   "metadata": {},
   "source": [
    "# Regresión lineal "
   ]
  },
  {
   "cell_type": "code",
   "execution_count": 50,
   "metadata": {},
   "outputs": [
    {
     "data": {
      "image/png": "[encoded data removed]",
      "text/plain": [
       "<Figure size 432x288 with 1 Axes>"
      ]
     },
     "metadata": {
      "needs_background": "light"
     },
     "output_type": "display_data"
    }
   ],
   "source": [
    "car_prices = [5,6,7,8,9,10]\n",
    "units_sold = [8.5,8,7.5,7.0,6.5,6.0]\n",
    "\n",
    "plt.scatter(car_prices,units_sold)\n",
    "plt.show()"
   ]
  },
  {
   "cell_type": "code",
   "execution_count": 51,
   "metadata": {},
   "outputs": [
    {
     "data": {
      "text/plain": [
       "(array([[ 5],\n",
       "        [ 6],\n",
       "        [ 7],\n",
       "        [ 8],\n",
       "        [ 9],\n",
       "        [10]]),\n",
       " array([[8.5],\n",
       "        [8. ],\n",
       "        [7.5],\n",
       "        [7. ],\n",
       "        [6.5],\n",
       "        [6. ]]))"
      ]
     },
     "execution_count": 51,
     "metadata": {},
     "output_type": "execute_result"
    }
   ],
   "source": [
    "#Pasar los datos a arrays\n",
    "princes = np.array(car_prices).reshape(-1,1)\n",
    "units   = np.array(units_sold).reshape(-1,1)\n",
    "princes,units"
   ]
  },
  {
   "cell_type": "code",
   "execution_count": 52,
   "metadata": {},
   "outputs": [
    {
     "data": {
      "text/plain": [
       "(tensor([[ 5.],\n",
       "         [ 6.],\n",
       "         [ 7.],\n",
       "         [ 8.],\n",
       "         [ 9.],\n",
       "         [10.]], requires_grad=True),\n",
       " tensor([[8.5000],\n",
       "         [8.0000],\n",
       "         [7.5000],\n",
       "         [7.0000],\n",
       "         [6.5000],\n",
       "         [6.0000]]))"
      ]
     },
     "execution_count": 52,
     "metadata": {},
     "output_type": "execute_result"
    }
   ],
   "source": [
    "#Pasar los datos a tensores\n",
    "princes = torch.from_numpy(princes).float().requires_grad_() #Lo que hace requires_grad_() es hacer que el tensor requiera los gradiantes que utilizaré en el modelo\n",
    "units = torch.from_numpy(units).float()\n",
    "princes,units"
   ]
  },
  {
   "cell_type": "markdown",
   "metadata": {},
   "source": [
    "## Modelo"
   ]
  },
  {
   "cell_type": "code",
   "execution_count": 53,
   "metadata": {},
   "outputs": [],
   "source": [
    "model = nn.Linear(1,1) #Recibe le tamaño de la entrada y de la salida\n",
    "loss_funtion = nn.MSELoss() #Como función de error uso la media de los cuadrados de los errores\n",
    "\n",
    "optimizer = optim.SGD(model.parameters(),lr=0.015)"
   ]
  },
  {
   "cell_type": "code",
   "execution_count": 54,
   "metadata": {},
   "outputs": [
    {
     "name": "stdout",
     "output_type": "stream",
     "text": [
      "0.02025214396417141\n"
     ]
    },
    {
     "data": {
      "image/png": "[encoded data removed]",
      "text/plain": [
       "<Figure size 432x288 with 1 Axes>"
      ]
     },
     "metadata": {
      "needs_background": "light"
     },
     "output_type": "display_data"
    }
   ],
   "source": [
    "losses = []\n",
    "iterations = 2000\n",
    "for i in range(iterations):\n",
    "    pred = model(princes)    #Hago una predicción con el modelo\n",
    "    loss = loss_funtion(pred,units) #Calculo el error del dato predicho contra el real\n",
    "    losses.append(loss.data) \n",
    "    \n",
    "    optimizer.zero_grad()   #Reinició los gradiantes por cada iteración porque los gradiantes se aculuman\n",
    "    loss.backward()    #calcula dloss/dx para cada parametro x que tiene requires_grad=True. Esto se acumula en x.grad para cada parámetro x. En pseudo-código:x.grad += dloss/dx\n",
    "    optimizer.step() #optimizer.step actualiza el valor de x usando x.grad. Por ejemplo, el optimizador SDG hace:optimizer.step actualiza el valor de x usando x.grad. Por ejemplo, el optimizador SDG hace:x += -lr * x.gradx += -lr * x.grad\n",
    "    \n",
    "print(float(loss))\n",
    "plt.plot(range(iterations),losses)\n",
    "plt.show()"
   ]
  },
  {
   "cell_type": "markdown",
   "metadata": {},
   "source": [
    "## Predicción"
   ]
  },
  {
   "cell_type": "code",
   "execution_count": 55,
   "metadata": {},
   "outputs": [
    {
     "name": "stdout",
     "output_type": "stream",
     "text": [
      "tensor([[4.4967]], grad_fn=<AddmmBackward>)\n"
     ]
    }
   ],
   "source": [
    "x = torch.tensor([[14.0]])\n",
    "y = model(x)\n",
    "print(y)"
   ]
  }
 ],
 "metadata": {
  "kernelspec": {
   "display_name": "Python 3",
   "language": "python",
   "name": "python3"
  },
  "language_info": {
   "codemirror_mode": {
    "name": "ipython",
    "version": 3
   },
   "file_extension": ".py",
   "mimetype": "text/x-python",
   "name": "python",
   "nbconvert_exporter": "python",
   "pygments_lexer": "ipython3",
   "version": "3.8.5"
  }
 },
 "nbformat": 4,
 "nbformat_minor": 4
}
