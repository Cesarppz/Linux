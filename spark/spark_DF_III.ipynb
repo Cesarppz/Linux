{
 "cells": [
  {
   "cell_type": "code",
   "execution_count": 1,
   "metadata": {},
   "outputs": [],
   "source": [
    "from pyspark import SparkContext\n",
    "from pyspark.sql import SparkSession\n",
    "from pyspark.sql.types import StructField, StructType, IntegerType , StringType ,FloatType, Row\n",
    "from pyspark.sql import SQLContext\n",
    "from pyspark.sql.functions import col"
   ]
  },
  {
   "cell_type": "code",
   "execution_count": 2,
   "metadata": {},
   "outputs": [],
   "source": [
    "sc = SparkContext(master='local',appName='Spark_app')\n",
    "# Creo un sql Context \n",
    "sql_context = SQLContext(sc)"
   ]
  },
  {
   "cell_type": "code",
   "execution_count": 3,
   "metadata": {},
   "outputs": [
    {
     "name": "stdout",
     "output_type": "stream",
     "text": [
      "deporte.csv      deportistaError.csv  \u001b[0m\u001b[01;35mmodelo_relacional.jpg\u001b[0m\r\n",
      "deportista2.csv  evento.csv           paises.csv\r\n",
      "deportista.csv   juegos.csv           resultados.csv\r\n"
     ]
    }
   ],
   "source": [
    "%ls /home/cesar/Documents/prac_sp/curso-apache-spark-platzi/files/"
   ]
  },
  {
   "cell_type": "code",
   "execution_count": 4,
   "metadata": {},
   "outputs": [
    {
     "name": "stdout",
     "output_type": "stream",
     "text": [
      ",nombre_juego,annio,temporada,ciudad\r\n",
      "1,1896 Verano,1896,Verano,Athina\r\n",
      "2,1900 Verano,1900,Verano,Paris\r\n",
      "3,1904 Verano,1904,Verano,St. Louis\r\n",
      "4,1906 Verano,1906,Verano,Athina\r\n"
     ]
    }
   ],
   "source": [
    "!head -n 5 /home/cesar/Documents/prac_sp/curso-apache-spark-platzi/files/juegos.csv"
   ]
  },
  {
   "cell_type": "markdown",
   "metadata": {},
   "source": [
    "**Creeo la estructura del schema** , para luego leer el archivo"
   ]
  },
  {
   "cell_type": "code",
   "execution_count": 5,
   "metadata": {},
   "outputs": [],
   "source": [
    "path = '/home/cesar/Documents/prac_sp/curso-apache-spark-platzi/files/'\n",
    "\n",
    "#Creo un schema para poder cargar el archivo  \n",
    "juegoSchema = (StructType\n",
    "               ([\n",
    "    StructField('id',IntegerType(),False), #El tercer atributo hace referencia a si es obligatorio que exista el dato\n",
    "    StructField('name_game',StringType(),False),\n",
    "    StructField('year',IntegerType(),False),\n",
    "    StructField('season',StringType(),False),\n",
    "    StructField('city',StringType(),False)\n",
    "])\n",
    "              )"
   ]
  },
  {
   "cell_type": "markdown",
   "metadata": {},
   "source": [
    "Cargo el archivo como una base de datos "
   ]
  },
  {
   "cell_type": "code",
   "execution_count": 6,
   "metadata": {},
   "outputs": [],
   "source": [
    "juegos_df = sql_context.read.schema(juegoSchema).option('header','true').csv(path+'juegos.csv')"
   ]
  },
  {
   "cell_type": "code",
   "execution_count": 7,
   "metadata": {},
   "outputs": [
    {
     "name": "stdout",
     "output_type": "stream",
     "text": [
      "+---+-----------+----+------+---------+\n",
      "| id|  name_game|year|season|     city|\n",
      "+---+-----------+----+------+---------+\n",
      "|  1|1896 Verano|1896|Verano|   Athina|\n",
      "|  2|1900 Verano|1900|Verano|    Paris|\n",
      "|  3|1904 Verano|1904|Verano|St. Louis|\n",
      "|  4|1906 Verano|1906|Verano|   Athina|\n",
      "|  5|1908 Verano|1908|Verano|   London|\n",
      "+---+-----------+----+------+---------+\n",
      "only showing top 5 rows\n",
      "\n"
     ]
    }
   ],
   "source": [
    "juegos_df.show(5)"
   ]
  },
  {
   "cell_type": "code",
   "execution_count": 8,
   "metadata": {},
   "outputs": [
    {
     "name": "stdout",
     "output_type": "stream",
     "text": [
      "deportista_id,nombre,genero,edad,altura,peso,equipo_id\r\n",
      "1,A Dijiang,1,24,180,80,199\r\n",
      "2,A Lamusi,1,23,170,60,199\r\n",
      "3,Gunnar Nielsen Aaby,1,24,0,0,273\r\n",
      "4,Edgar Lindenau Aabye,1,34,0,0,278\r\n",
      "5,Christine Jacoba Aaftink,2,21,185,82,705\r\n",
      "6,Per Knut Aaland,1,31,188,75,1096\r\n",
      "7,John Aalberg,1,31,183,72,1096\r\n",
      "8,Cornelia Cor Aalten Strannood ,2,18,168,0,705\r\n",
      "9,Antti Sami Aalto,1,26,186,96,350\r\n"
     ]
    }
   ],
   "source": [
    "!head -n 10 /home/cesar/Documents/prac_sp/curso-apache-spark-platzi/files/deportista.csv "
   ]
  },
  {
   "cell_type": "code",
   "execution_count": 9,
   "metadata": {},
   "outputs": [],
   "source": [
    "path = '/home/cesar/Documents/prac_sp/curso-apache-spark-platzi/files/'\n",
    "\n",
    "#Creo un schema para poder cargar el archivo  \n",
    "Deportista_schema = (StructType\n",
    "               ([\n",
    "    StructField('id',IntegerType(),False), #El tercer atributo hace referencia a si es obligatorio que exista el dato\n",
    "    StructField('name',StringType(),False),\n",
    "    StructField('gender',IntegerType(),False),\n",
    "    StructField('age',IntegerType(),False),\n",
    "    StructField('altura',IntegerType(),False),\n",
    "    StructField('peso',FloatType(),False),\n",
    "    StructField('equipo_id',StringType(),False)\n",
    "])\n",
    "              )"
   ]
  },
  {
   "cell_type": "code",
   "execution_count": 10,
   "metadata": {},
   "outputs": [],
   "source": [
    "deportista_df = sql_context.read.schema(Deportista_schema).option('header','true').csv(path+'deportista.csv')"
   ]
  },
  {
   "cell_type": "code",
   "execution_count": 11,
   "metadata": {},
   "outputs": [],
   "source": [
    "deportista_df2= sql_context.read.schema(Deportista_schema).option('header','true').csv(path+'deportista2.csv')"
   ]
  },
  {
   "cell_type": "code",
   "execution_count": 12,
   "metadata": {},
   "outputs": [
    {
     "name": "stdout",
     "output_type": "stream",
     "text": [
      "+---+---------+------+---+------+----+---------+\n",
      "| id|     name|gender|age|altura|peso|equipo_id|\n",
      "+---+---------+------+---+------+----+---------+\n",
      "|  1|A Dijiang|     1| 24|   180|80.0|      199|\n",
      "|  2| A Lamusi|     1| 23|   170|60.0|      199|\n",
      "+---+---------+------+---+------+----+---------+\n",
      "only showing top 2 rows\n",
      "\n"
     ]
    }
   ],
   "source": [
    "deportista_df.show(2)"
   ]
  },
  {
   "cell_type": "code",
   "execution_count": 13,
   "metadata": {},
   "outputs": [
    {
     "name": "stdout",
     "output_type": "stream",
     "text": [
      "id,equipo,sigla\r\n",
      "1,30. Februar,AUT\r\n",
      "2,A North American Team,MEX\r\n",
      "3,Acipactli,MEX\r\n",
      "4,Acturus,ARG\r\n",
      "5,Afghanistan,AFG\r\n",
      "6,Akatonbo,IRL\r\n",
      "7,Alain IV,SUI\r\n",
      "8,Albania,ALB\r\n",
      "9,Alcaid,POR\r\n"
     ]
    }
   ],
   "source": [
    "!head -n 10 /home/cesar/Documents/prac_sp/curso-apache-spark-platzi/files/paises.csv"
   ]
  },
  {
   "cell_type": "code",
   "execution_count": 14,
   "metadata": {},
   "outputs": [],
   "source": [
    "#Creo un schema para poder cargar el archivo  \n",
    "paises_schema = (StructType\n",
    "               ([\n",
    "    StructField('id',IntegerType(),False), #El tercer atributo hace referencia a si es obligatorio que exista el dato\n",
    "    StructField('team',StringType(),False),\n",
    "    StructField('sigla',StringType(),False)\n",
    "])\n",
    "              )"
   ]
  },
  {
   "cell_type": "code",
   "execution_count": 15,
   "metadata": {},
   "outputs": [],
   "source": [
    "paises_df = sql_context.read.schema(paises_schema).option('header','true').csv(path+'paises.csv')"
   ]
  },
  {
   "cell_type": "code",
   "execution_count": 16,
   "metadata": {},
   "outputs": [],
   "source": [
    "evento_schema = StructType([\n",
    "    StructField('evento_id',IntegerType(),False),\n",
    "    StructField('name:evento',StringType(),False),\n",
    "    StructField('deporte_id',IntegerType(),False)\n",
    "])\n",
    "\n",
    "evento_df = sql_context.read.option('header','true').csv(path+'evento.csv')\n",
    "\n",
    "deporte_schema = StructType([\n",
    "    StructField('deporte_id',IntegerType(),False),\n",
    "    StructField('sport_name',StringType(),False),\n",
    "])\n",
    "deporte_df = sql_context.read.option('header','true').csv(path+'deporte.csv')"
   ]
  },
  {
   "cell_type": "code",
   "execution_count": 17,
   "metadata": {},
   "outputs": [],
   "source": [
    "#Creo un schema para poder cargar el archivo  \n",
    "resultado_schema = (StructType\n",
    "                    ([\n",
    "    StructField('resultado_id',IntegerType(),False), #El tercer atributo hace referencia a si es obligatorio que exista el dato\n",
    "    StructField('medal',StringType(),False),\n",
    "    StructField('deportista_id',IntegerType(),False),\n",
    "    StructField('juego_id',IntegerType(),False),\n",
    "    StructField('evento_id',StringType(),False)\n",
    "]))"
   ]
  },
  {
   "cell_type": "code",
   "execution_count": 18,
   "metadata": {},
   "outputs": [],
   "source": [
    "resultado_df = sql_context.read.option('header','true').csv(path+'resultados.csv')"
   ]
  },
  {
   "cell_type": "code",
   "execution_count": 19,
   "metadata": {},
   "outputs": [],
   "source": [
    "deportista_df = deportista_df.union(deportista_df2)"
   ]
  },
  {
   "cell_type": "code",
   "execution_count": 20,
   "metadata": {},
   "outputs": [
    {
     "name": "stdout",
     "output_type": "stream",
     "text": [
      "- d e p o r t i s t a\n",
      "root\n",
      " |-- id: integer (nullable = true)\n",
      " |-- name: string (nullable = true)\n",
      " |-- gender: integer (nullable = true)\n",
      " |-- age: integer (nullable = true)\n",
      " |-- altura: integer (nullable = true)\n",
      " |-- peso: float (nullable = true)\n",
      " |-- equipo_id: string (nullable = true)\n",
      "\n",
      "- r e s u l t a d o\n",
      "root\n",
      " |-- resultado_id: string (nullable = true)\n",
      " |-- medalla: string (nullable = true)\n",
      " |-- deportista_id: string (nullable = true)\n",
      " |-- juego_id: string (nullable = true)\n",
      " |-- evento_id: string (nullable = true)\n",
      "\n",
      "- e q u i p o\n",
      "root\n",
      " |-- id: integer (nullable = true)\n",
      " |-- team: string (nullable = true)\n",
      " |-- sigla: string (nullable = true)\n",
      "\n",
      "- j u e g o s\n",
      "root\n",
      " |-- id: integer (nullable = true)\n",
      " |-- name_game: string (nullable = true)\n",
      " |-- year: integer (nullable = true)\n",
      " |-- season: string (nullable = true)\n",
      " |-- city: string (nullable = true)\n",
      "\n",
      "- e v e n t o\n",
      "root\n",
      " |-- evento_id: string (nullable = true)\n",
      " |-- evento: string (nullable = true)\n",
      " |-- deporte_id: string (nullable = true)\n",
      "\n",
      "- d e p o r t e\n",
      "root\n",
      " |-- deporte_id: string (nullable = true)\n",
      " |-- deporte: string (nullable = true)\n",
      "\n"
     ]
    }
   ],
   "source": [
    "print(*'-'+'deportista')\n",
    "deportista_df.printSchema()\n",
    "print(*'-'+'resultado')\n",
    "resultado_df.printSchema()\n",
    "print(*'-'+'equipo')\n",
    "paises_df.printSchema()\n",
    "print(*'-'+'juegos')\n",
    "juegos_df.printSchema()\n",
    "print(*'-'+'evento')\n",
    "evento_df.printSchema()\n",
    "print(*'-'+'deporte')\n",
    "deporte_df.printSchema()"
   ]
  },
  {
   "cell_type": "code",
   "execution_count": 21,
   "metadata": {},
   "outputs": [],
   "source": [
    "full_table = (deportista_df.join(\n",
    "    resultado_df,\n",
    "    deportista_df.id == resultado_df.deportista_id,\n",
    "    'right').join(\n",
    "    paises_df,\n",
    "    paises_df.id == deportista_df.equipo_id,\n",
    "    'left').join(\n",
    "    juegos_df,\n",
    "    juegos_df.id == resultado_df.juego_id,\n",
    "    'left').join(\n",
    "    evento_df,\n",
    "    evento_df.evento_id == resultado_df.evento_id,\n",
    "    'left').join(\n",
    "    deporte_df,\n",
    "    deporte_df.deporte_id == evento_df.deporte_id,\n",
    "    'left')\n",
    " )"
   ]
  },
  {
   "cell_type": "code",
   "execution_count": 22,
   "metadata": {},
   "outputs": [
    {
     "name": "stdout",
     "output_type": "stream",
     "text": [
      "+--------------------+-------+-----+--------------+\n",
      "|                name|medalla|sigla|          team|\n",
      "+--------------------+-------+-----+--------------+\n",
      "|Edgar Lindenau Aabye|   Gold|  SWE|Denmark/Sweden|\n",
      "|Arvo Ossian Aaltonen| Bronze|  FIN|       Finland|\n",
      "|Arvo Ossian Aaltonen| Bronze|  FIN|       Finland|\n",
      "|Juhamatti Tapio A...| Bronze|  FIN|       Finland|\n",
      "|Paavo Johannes Aa...| Bronze|  FIN|       Finland|\n",
      "|Paavo Johannes Aa...|   Gold|  FIN|       Finland|\n",
      "|Paavo Johannes Aa...|   Gold|  FIN|       Finland|\n",
      "|Paavo Johannes Aa...|   Gold|  FIN|       Finland|\n",
      "|Paavo Johannes Aa...| Bronze|  FIN|       Finland|\n",
      "|  Kjetil Andr Aamodt|   Gold|  NOR|        Norway|\n",
      "|  Kjetil Andr Aamodt| Bronze|  NOR|        Norway|\n",
      "|  Kjetil Andr Aamodt| Silver|  NOR|        Norway|\n",
      "|  Kjetil Andr Aamodt| Bronze|  NOR|        Norway|\n",
      "|  Kjetil Andr Aamodt| Silver|  NOR|        Norway|\n",
      "|  Kjetil Andr Aamodt|   Gold|  NOR|        Norway|\n",
      "|  Kjetil Andr Aamodt|   Gold|  NOR|        Norway|\n",
      "|  Kjetil Andr Aamodt|   Gold|  NOR|        Norway|\n",
      "|Ragnhild Margreth...|   Gold|  NOR|        Norway|\n",
      "|    Alf Lied Aanning| Silver|  NOR|        Norway|\n",
      "|Willemien Aardenburg| Bronze|  NED|   Netherlands|\n",
      "+--------------------+-------+-----+--------------+\n",
      "only showing top 20 rows\n",
      "\n"
     ]
    }
   ],
   "source": [
    "(full_table.select('name','medalla','sigla','team')\n",
    " .filter(col('medalla') != 'NA')\n",
    " .show())"
   ]
  },
  {
   "cell_type": "markdown",
   "metadata": {},
   "source": [
    "# Agrupar "
   ]
  },
  {
   "cell_type": "code",
   "execution_count": 23,
   "metadata": {},
   "outputs": [],
   "source": [
    "medaliista_porAño = (full_table\n",
    "  .select('sigla','name_game','medalla',col('deporte').alias('Disciplina'),col('evento').alias('Sub Disciplina'),'name')\n",
    " .filter(col('medalla') != 'NA')\n",
    " .sort(col('year'))\n",
    ")"
   ]
  },
  {
   "cell_type": "code",
   "execution_count": 24,
   "metadata": {},
   "outputs": [
    {
     "name": "stdout",
     "output_type": "stream",
     "text": [
      "+-----+-----------+-------+----------+--------------------+--------------------+\n",
      "|sigla|  name_game|medalla|Disciplina|      Sub Disciplina|                name|\n",
      "+-----+-----------+-------+----------+--------------------+--------------------+\n",
      "|  GBR|1896 Verano| Bronze|   Cycling|Cycling Men's Roa...|       Edward Battel|\n",
      "|  GRE|1896 Verano| Bronze|  Swimming|Swimming Men's 10...|    Dimitrios Drivas|\n",
      "|  USA|1896 Verano| Silver| Athletics|Athletics Men's 1...|Arthur Charles Blake|\n",
      "|  GRE|1896 Verano|   Gold|Gymnastics|Gymnastics Men's ...|Nikolaos Andriako...|\n",
      "|  GER|1896 Verano|   Gold|Gymnastics|Gymnastics Men's ...|Conrad Helmut Fri...|\n",
      "|  USA|1896 Verano|   Gold| Athletics|Athletics Men's H...|Ellery Harding Clark|\n",
      "|  GRE|1896 Verano| Bronze|  Shooting|Shooting Men's Mi...|    Nikolaos Dorakis|\n",
      "|  USA|1896 Verano|   Gold| Athletics|Athletics Men's L...|Ellery Harding Clark|\n",
      "|  GER|1896 Verano|   Gold|Gymnastics|Gymnastics Men's ...|Conrad Helmut Fri...|\n",
      "|  USA|1896 Verano| Silver| Athletics|Athletics Men's H...|James Brendan Ben...|\n",
      "|  GBR|1896 Verano|   Gold|    Tennis|Tennis Men's Doubles|John Mary Pius Bo...|\n",
      "|  USA|1896 Verano| Bronze| Athletics|Athletics Men's L...|James Brendan Ben...|\n",
      "|  USA|1896 Verano|   Gold| Athletics|Athletics Men's 4...|Thomas Edmund Tom...|\n",
      "|  USA|1896 Verano|   Gold| Athletics|Athletics Men's T...|James Brendan Ben...|\n",
      "|  GRE|1896 Verano| Silver|    Tennis|Tennis Men's Singles|Demetrius Emmanue...|\n",
      "|  USA|1896 Verano|   Gold| Athletics|Athletics Men's 1...|Thomas Pelham Tom...|\n",
      "|  GRE|1896 Verano| Silver|  Swimming|Swimming Men's 1,...|     Ioannis Andreou|\n",
      "|  GRE|1896 Verano| Bronze| Athletics|Athletics Men's P...|  Evangelos Damaskos|\n",
      "|  USA|1896 Verano|   Gold| Athletics|Athletics Men's 1...|Thomas Edmund Tom...|\n",
      "|  HUN|1896 Verano| Silver| Athletics|Athletics Men's 8...|           Nndor Dni|\n",
      "+-----+-----------+-------+----------+--------------------+--------------------+\n",
      "only showing top 20 rows\n",
      "\n"
     ]
    }
   ],
   "source": [
    "medaliista_porAño.show()"
   ]
  },
  {
   "cell_type": "markdown",
   "metadata": {},
   "source": [
    "Agrupo por la sigla , año y sub disciplina. Y la operación que aplico es de contar "
   ]
  },
  {
   "cell_type": "code",
   "execution_count": 25,
   "metadata": {},
   "outputs": [],
   "source": [
    "medallista_xyear = (medaliista_porAño\n",
    " .groupBy('sigla',col('name_game').alias('year'),'Sub Disciplina')\n",
    " .count()\n",
    " .sort(['name_game','sigla'],ascending=True)\n",
    ")"
   ]
  },
  {
   "cell_type": "code",
   "execution_count": 26,
   "metadata": {},
   "outputs": [
    {
     "name": "stdout",
     "output_type": "stream",
     "text": [
      "+-----+-----------+--------------------+-----+\n",
      "|sigla|       year|      Sub Disciplina|count|\n",
      "+-----+-----------+--------------------+-----+\n",
      "|  AUS|1896 Verano|Athletics Men's 8...|    1|\n",
      "|  AUS|1896 Verano|Tennis Men's Doubles|    1|\n",
      "|  AUS|1896 Verano|Athletics Men's 1...|    1|\n",
      "|  AUT|1896 Verano|Cycling Men's 333...|    1|\n",
      "|  AUT|1896 Verano|Cycling Men's 10,...|    1|\n",
      "+-----+-----------+--------------------+-----+\n",
      "only showing top 5 rows\n",
      "\n"
     ]
    }
   ],
   "source": [
    "medallista_xyear.show(5)"
   ]
  },
  {
   "cell_type": "code",
   "execution_count": 27,
   "metadata": {},
   "outputs": [
    {
     "name": "stdout",
     "output_type": "stream",
     "text": [
      "root\n",
      " |-- sigla: string (nullable = true)\n",
      " |-- year: string (nullable = true)\n",
      " |-- Sub Disciplina: string (nullable = true)\n",
      " |-- count: long (nullable = false)\n",
      "\n"
     ]
    }
   ],
   "source": [
    "medallista_xyear.printSchema()"
   ]
  },
  {
   "cell_type": "markdown",
   "metadata": {},
   "source": [
    "Todo la columna de count y la uso para hacer operaciones, la menera correcta de hacer varias opeación cuando estoy agrupando, es hacerlo mediante el agg"
   ]
  },
  {
   "cell_type": "code",
   "execution_count": 28,
   "metadata": {},
   "outputs": [],
   "source": [
    "from pyspark.sql.functions import sum , avg, round"
   ]
  },
  {
   "cell_type": "markdown",
   "metadata": {},
   "source": [
    "Para poder usar las operaciones las tengo que importar, de lo contrario me saldrá un error "
   ]
  },
  {
   "cell_type": "code",
   "execution_count": 29,
   "metadata": {},
   "outputs": [
    {
     "name": "stdout",
     "output_type": "stream",
     "text": [
      "+-----+-------------------------+----------------+\n",
      "|sigla|Total de medallas ganadas|Primedio por año|\n",
      "+-----+-------------------------+----------------+\n",
      "|  POL|                      564|            1.85|\n",
      "|  JAM|                      164|            2.34|\n",
      "|  BRA|                      475|            3.83|\n",
      "|  ARM|                       19|             1.0|\n",
      "|  MOZ|                        2|             1.0|\n",
      "|  CUB|                      410|            1.92|\n",
      "|  JOR|                        1|             1.0|\n",
      "|  FRA|                     1785|            2.34|\n",
      "|  ALG|                       17|             1.0|\n",
      "|  BRN|                        3|             1.0|\n",
      "|  NEP|                        1|             1.0|\n",
      "|  VIE|                        4|             1.0|\n",
      "|  BOT|                        1|             1.0|\n",
      "|  ETH|                       53|            1.26|\n",
      "|  RSA|                      134|            1.52|\n",
      "|  UKR|                      200|            1.43|\n",
      "|  ITA|                     1627|            2.45|\n",
      "|  SCG|                       75|            4.41|\n",
      "|  CMR|                       23|            3.83|\n",
      "|  GHA|                       23|            5.75|\n",
      "+-----+-------------------------+----------------+\n",
      "only showing top 20 rows\n",
      "\n"
     ]
    }
   ],
   "source": [
    "(medallista_xyear.groupBy('sigla')\n",
    " .agg(sum('count').alias('Total de medallas ganadas'),round(avg('count'),2).alias('Primedio por año'))\n",
    " .show()\n",
    ")\n"
   ]
  },
  {
   "cell_type": "markdown",
   "metadata": {},
   "source": [
    "# Operaciones tipo SQL"
   ]
  },
  {
   "cell_type": "markdown",
   "metadata": {},
   "source": [
    "Registro los df con alias para poder usar en el query"
   ]
  },
  {
   "cell_type": "code",
   "execution_count": 30,
   "metadata": {},
   "outputs": [],
   "source": [
    "resultado_df.registerTempTable('resultado')\n",
    "paises_df.registerTempTable('paises')\n",
    "deportista_df.registerTempTable('deportista')"
   ]
  },
  {
   "cell_type": "code",
   "execution_count": 31,
   "metadata": {},
   "outputs": [
    {
     "name": "stdout",
     "output_type": "stream",
     "text": [
      "+-----+-------+--------------+\n",
      "|sigla|medalla|count(medalla)|\n",
      "+-----+-------+--------------+\n",
      "|  ZIM| Bronze|             1|\n",
      "|  ZIM|   Gold|            17|\n",
      "|  ZIM| Silver|             4|\n",
      "|  ZAM| Bronze|             1|\n",
      "|  ZAM| Silver|             1|\n",
      "|  YUG| Silver|           180|\n",
      "|  YUG|   Gold|           136|\n",
      "|  YUG| Bronze|           101|\n",
      "|  WIF| Bronze|             1|\n",
      "|  VIE|   Gold|             1|\n",
      "|  VIE| Silver|             3|\n",
      "|  VEN| Silver|             3|\n",
      "|  VEN|   Gold|             2|\n",
      "|  VEN| Bronze|            10|\n",
      "|  UZB|   Gold|            10|\n",
      "|  UZB| Silver|             7|\n",
      "|  UZB| Bronze|            17|\n",
      "|  USA| Bronze|          1356|\n",
      "|  USA| Silver|          1648|\n",
      "|  USA|   Gold|          2639|\n",
      "+-----+-------+--------------+\n",
      "only showing top 20 rows\n",
      "\n"
     ]
    }
   ],
   "source": [
    "sql_context.sql('''\n",
    "SELECT sigla,  medalla , count(medalla) \n",
    "FROM resultado as r \n",
    "JOIN deportista as d ON r.deportista_id == d.id\n",
    "JOIN paises as p ON p.id == d.equipo_id\n",
    "WHERE medalla != 'NA' \n",
    "group by sigla , medalla\n",
    "order by sigla desc\n",
    "''').show()"
   ]
  },
  {
   "cell_type": "code",
   "execution_count": 36,
   "metadata": {},
   "outputs": [
    {
     "name": "stdout",
     "output_type": "stream",
     "text": [
      "deporte.csv      deportistaError.csv  \u001b[0m\u001b[01;35mmodelo_relacional.jpg\u001b[0m\r\n",
      "deportista2.csv  evento.csv           paises.csv\r\n",
      "deportista.csv   juegos.csv           resultados.csv\r\n"
     ]
    }
   ],
   "source": [
    "%ls /home/cesar/Documents/prac_sp/curso-apache-spark-platzi/files/deportistaError.csv"
   ]
  },
  {
   "cell_type": "code",
   "execution_count": 37,
   "metadata": {},
   "outputs": [
    {
     "name": "stdout",
     "output_type": "stream",
     "text": [
      "deportista_id,nombre,genero,edad,altura,peso,equipo_id\r\n",
      "1,A Dijiang,1,24,180,80,199\r\n",
      "2,A Lamusi,1,23,170,60,199\r\n",
      "3,Gunnar Nielsen Aaby,1,24,,,273\r\n",
      "4,Edgar Lindenau Aabye,1,34,,,278\r\n"
     ]
    }
   ],
   "source": [
    "!head -n 5 /home/cesar/Documents/prac_sp/curso-apache-spark-platzi/files/deportistaError.csv"
   ]
  },
  {
   "cell_type": "markdown",
   "metadata": {},
   "source": [
    "Ya que hay columnas faltantes, tengo que hacer un tratado de datos con una UDF"
   ]
  },
  {
   "cell_type": "markdown",
   "metadata": {},
   "source": [
    "# UDF"
   ]
  },
  {
   "cell_type": "code",
   "execution_count": 51,
   "metadata": {},
   "outputs": [
    {
     "data": {
      "text/plain": [
       "[['deportista_id', 'nombre', 'genero', 'edad', 'altura', 'peso', 'equipo_id'],\n",
       " ['1', 'A Dijiang', '1', '24', '180', '80', '199'],\n",
       " ['2', 'A Lamusi', '1', '23', '170', '60', '199'],\n",
       " ['3', 'Gunnar Nielsen Aaby', '1', '24', '', '', '273'],\n",
       " ['4', 'Edgar Lindenau Aabye', '1', '34', '', '', '278']]"
      ]
     },
     "execution_count": 51,
     "metadata": {},
     "output_type": "execute_result"
    }
   ],
   "source": [
    "deportista_error = sc.textFile(path+'deportistaError.csv').map(lambda x : x.split(','))\n",
    "deportista_error.take(5)"
   ]
  },
  {
   "cell_type": "code",
   "execution_count": 43,
   "metadata": {},
   "outputs": [],
   "source": [
    "def delete_header(iterator):\n",
    "    return iter(list(iterator)[1:])"
   ]
  },
  {
   "cell_type": "code",
   "execution_count": 52,
   "metadata": {},
   "outputs": [
    {
     "data": {
      "text/plain": [
       "[['1', 'A Dijiang', '1', '24', '180', '80', '199'],\n",
       " ['2', 'A Lamusi', '1', '23', '170', '60', '199'],\n",
       " ['3', 'Gunnar Nielsen Aaby', '1', '24', '', '', '273']]"
      ]
     },
     "execution_count": 52,
     "metadata": {},
     "output_type": "execute_result"
    }
   ],
   "source": [
    "# Elimino el emcabezado \n",
    "deportista_error = deportista_error.mapPartitions(delete_header)\n",
    "deportista_error.take(3)"
   ]
  },
  {
   "cell_type": "markdown",
   "metadata": {},
   "source": [
    "**Tengo que separar los datos , para que el UDF me funcione**"
   ]
  },
  {
   "cell_type": "code",
   "execution_count": 94,
   "metadata": {},
   "outputs": [],
   "source": [
    "deportista_error = deportista_error.map(lambda x : \n",
    " (x[0],\n",
    "  x[1],\n",
    "  x[2],\n",
    "  x[3],\n",
    "  x[4],\n",
    "  x[5],\n",
    "  x[6]))"
   ]
  },
  {
   "cell_type": "code",
   "execution_count": 96,
   "metadata": {},
   "outputs": [
    {
     "data": {
      "text/plain": [
       "[('1', 'A Dijiang', '1', '24', '180', '80', '199'),\n",
       " ('2', 'A Lamusi', '1', '23', '170', '60', '199')]"
      ]
     },
     "execution_count": 96,
     "metadata": {},
     "output_type": "execute_result"
    }
   ],
   "source": [
    "deportista_error.take(2)"
   ]
  },
  {
   "cell_type": "code",
   "execution_count": 97,
   "metadata": {},
   "outputs": [
    {
     "name": "stdout",
     "output_type": "stream",
     "text": [
      "+---+--------------------+------+---+------+------+---------+\n",
      "| id|                name|gender|age|height|weight|equipo_id|\n",
      "+---+--------------------+------+---+------+------+---------+\n",
      "|  1|           A Dijiang|     1| 24|   180|    80|      199|\n",
      "|  2|            A Lamusi|     1| 23|   170|    60|      199|\n",
      "|  3| Gunnar Nielsen Aaby|     1| 24|      |      |      273|\n",
      "|  4|Edgar Lindenau Aabye|     1| 34|      |      |      278|\n",
      "|  5|Christine Jacoba ...|     2| 21|   185|    82|      705|\n",
      "|  6|     Per Knut Aaland|     1| 31|   188|    75|     1096|\n",
      "|  7|        John Aalberg|     1| 31|   183|    72|     1096|\n",
      "|  8|\"Cornelia \"\"Cor\"\"...|     2| 18|   168|      |      705|\n",
      "|  9|    Antti Sami Aalto|     1| 26|   186|    96|      350|\n",
      "| 10|\"Einar Ferdinand ...|     1| 26|      |      |      350|\n",
      "| 11|  Jorma Ilmari Aalto|     1| 22|   182|  76.5|      350|\n",
      "| 12|   Jyri Tapani Aalto|     1| 31|   172|    70|      350|\n",
      "| 13|  Minna Maarit Aalto|     2| 30|   159|  55.5|      350|\n",
      "| 14|Pirjo Hannele Aal...|     2| 32|   171|    65|      350|\n",
      "| 15|Arvo Ossian Aaltonen|     1| 22|      |      |      350|\n",
      "| 16|Juhamatti Tapio A...|     1| 28|   184|    85|      350|\n",
      "| 17|Paavo Johannes Aa...|     1| 28|   175|    64|      350|\n",
      "| 18|Timo Antero Aaltonen|     1| 31|   189|   130|      350|\n",
      "| 19|Win Valdemar Aalt...|     1| 54|      |      |      350|\n",
      "| 20|  Kjetil Andr Aamodt|     1| 20|   176|    85|      742|\n",
      "+---+--------------------+------+---+------+------+---------+\n",
      "only showing top 20 rows\n",
      "\n"
     ]
    }
   ],
   "source": [
    "\n",
    "deportista_error_schema = StructType([\n",
    "    StructField('id',StringType(),False), \n",
    "    StructField('name',StringType(),False),\n",
    "    StructField('gender',StringType(),False),\n",
    "    StructField('age',StringType(),False),\n",
    "    StructField('height',StringType(),False),\n",
    "    StructField('weight',StringType(),False),\n",
    "    StructField('equipo_id',StringType(),False)\n",
    "])\n",
    "deportista_errorDF = sql_context.createDataFrame(deportista_error,deportista_error_schema)\n",
    "deportista_errorDF.show()"
   ]
  },
  {
   "cell_type": "code",
   "execution_count": 54,
   "metadata": {},
   "outputs": [],
   "source": [
    "from pyspark.sql.functions import udf"
   ]
  },
  {
   "cell_type": "markdown",
   "metadata": {},
   "source": [
    "Creo la función para cambiar de str a int las columnas, esta será mi función de UDF"
   ]
  },
  {
   "cell_type": "code",
   "execution_count": 98,
   "metadata": {},
   "outputs": [],
   "source": [
    "def conver_int(column):\n",
    "    return int(column) if len(column) > 0 else None"
   ]
  },
  {
   "cell_type": "code",
   "execution_count": 99,
   "metadata": {},
   "outputs": [],
   "source": [
    "# udf(lambda z : función_creada(z),formato al que voy a convertir)\n",
    "convert_int_udf = udf(lambda z : conver_int(z),IntegerType())"
   ]
  },
  {
   "cell_type": "markdown",
   "metadata": {},
   "source": [
    "#Ahora tengo que reguistrar la UDF"
   ]
  },
  {
   "cell_type": "code",
   "execution_count": 122,
   "metadata": {},
   "outputs": [
    {
     "data": {
      "text/plain": [
       "<function __main__.<lambda>(z)>"
      ]
     },
     "execution_count": 122,
     "metadata": {},
     "output_type": "execute_result"
    }
   ],
   "source": [
    "sql_context.udf.register('convert',convert_int_udf)\n",
    "\n",
    "#sql_context.udf.register('El nombre con que se va a registar la función',La función de donde aue va a tomar)"
   ]
  },
  {
   "cell_type": "code",
   "execution_count": 123,
   "metadata": {},
   "outputs": [
    {
     "name": "stdout",
     "output_type": "stream",
     "text": [
      "+------+\n",
      "|height|\n",
      "+------+\n",
      "|   180|\n",
      "|   170|\n",
      "|  null|\n",
      "+------+\n",
      "only showing top 3 rows\n",
      "\n"
     ]
    }
   ],
   "source": [
    "deportista_errorDF.select(convert_int_udf('height').alias('height')).show(3)"
   ]
  },
  {
   "cell_type": "code",
   "execution_count": 107,
   "metadata": {},
   "outputs": [],
   "source": [
    "deportista_errorDF.registerTempTable('error_deportista')"
   ]
  },
  {
   "cell_type": "code",
   "execution_count": 135,
   "metadata": {},
   "outputs": [
    {
     "name": "stdout",
     "output_type": "stream",
     "text": [
      "+---+------------------+\n",
      "|age|          promedio|\n",
      "+---+------------------+\n",
      "| 17|             163.0|\n",
      "| 23|             163.0|\n",
      "| 22|             163.0|\n",
      "| 26|             163.0|\n",
      "| 25|             163.0|\n",
      "| 24|             163.0|\n",
      "|   |174.73706896551724|\n",
      "| 20|174.73706896551724|\n",
      "| 28|174.73706896551724|\n",
      "| 22|174.73706896551724|\n",
      "| 24|174.73706896551724|\n",
      "| 34|174.73706896551724|\n",
      "| 27|174.73706896551724|\n",
      "| 25|174.73706896551724|\n",
      "| 25|174.73706896551724|\n",
      "| 23|174.73706896551724|\n",
      "| 25|174.73706896551724|\n",
      "| 18|174.73706896551724|\n",
      "| 27|174.73706896551724|\n",
      "| 37|174.73706896551724|\n",
      "+---+------------------+\n",
      "only showing top 20 rows\n",
      "\n"
     ]
    }
   ],
   "source": [
    "sql_context.sql('''\n",
    "SELECT age , avg(convert(height)) OVER(PARTITION BY (convert(equipo_id))) as promedio\n",
    "FROM error_deportista\n",
    "''').show()"
   ]
  },
  {
   "cell_type": "code",
   "execution_count": null,
   "metadata": {},
   "outputs": [],
   "source": []
  },
  {
   "cell_type": "code",
   "execution_count": null,
   "metadata": {},
   "outputs": [],
   "source": []
  },
  {
   "cell_type": "code",
   "execution_count": null,
   "metadata": {},
   "outputs": [],
   "source": []
  },
  {
   "cell_type": "code",
   "execution_count": null,
   "metadata": {},
   "outputs": [],
   "source": []
  },
  {
   "cell_type": "code",
   "execution_count": 37,
   "metadata": {},
   "outputs": [
    {
     "data": {
      "text/html": [
       "\n",
       "        <div>\n",
       "            <p><b>SparkContext</b></p>\n",
       "\n",
       "            <p><a href=\"http://cesar-work:4040\">Spark UI</a></p>\n",
       "\n",
       "            <dl>\n",
       "              <dt>Version</dt>\n",
       "                <dd><code>v3.0.2</code></dd>\n",
       "              <dt>Master</dt>\n",
       "                <dd><code>local</code></dd>\n",
       "              <dt>AppName</dt>\n",
       "                <dd><code>Spark_app</code></dd>\n",
       "            </dl>\n",
       "        </div>\n",
       "        "
      ],
      "text/plain": [
       "<SparkContext master=local appName=Spark_app>"
      ]
     },
     "execution_count": 37,
     "metadata": {},
     "output_type": "execute_result"
    }
   ],
   "source": [
    "sc"
   ]
  },
  {
   "cell_type": "code",
   "execution_count": 136,
   "metadata": {},
   "outputs": [],
   "source": [
    "sc.stop()"
   ]
  }
 ],
 "metadata": {
  "kernelspec": {
   "display_name": "Python 3",
   "language": "python",
   "name": "python3"
  },
  "language_info": {
   "codemirror_mode": {
    "name": "ipython",
    "version": 3
   },
   "file_extension": ".py",
   "mimetype": "text/x-python",
   "name": "python",
   "nbconvert_exporter": "python",
   "pygments_lexer": "ipython3",
   "version": "3.8.5"
  }
 },
 "nbformat": 4,
 "nbformat_minor": 4
}
