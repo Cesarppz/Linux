{
 "cells": [
  {
   "cell_type": "code",
   "execution_count": 181,
   "metadata": {},
   "outputs": [],
   "source": [
    "from pyspark import SparkContext "
   ]
  },
  {
   "cell_type": "code",
   "execution_count": 239,
   "metadata": {},
   "outputs": [],
   "source": [
    "sc = SparkContext(master='local',appName='Olimpic_games')"
   ]
  },
  {
   "cell_type": "code",
   "execution_count": 21,
   "metadata": {},
   "outputs": [
    {
     "name": "stdout",
     "output_type": "stream",
     "text": [
      "deporte.csv      deportistaError.csv  \u001b[0m\u001b[01;35mmodelo_relacional.jpg\u001b[0m\r\n",
      "deportista2.csv  evento.csv           paises.csv\r\n",
      "deportista.csv   juegos.csv           resultados.csv\r\n"
     ]
    }
   ],
   "source": [
    "%ls"
   ]
  },
  {
   "cell_type": "code",
   "execution_count": 3,
   "metadata": {},
   "outputs": [],
   "source": [
    "path = '/home/cesar/Documents/prac_sp/curso-apache-spark-platzi/files/'\n",
    "RDD_paises = sc.textFile(path+'paises.csv').map(lambda file : file.split(',') )"
   ]
  },
  {
   "cell_type": "code",
   "execution_count": 5,
   "metadata": {},
   "outputs": [
    {
     "data": {
      "text/plain": [
       "[['id', 'equipo', 'sigla'],\n",
       " ['1', '30. Februar', 'AUT'],\n",
       " ['2', 'A North American Team', 'MEX'],\n",
       " ['3', 'Acipactli', 'MEX'],\n",
       " ['4', 'Acturus', 'ARG'],\n",
       " ['5', 'Afghanistan', 'AFG'],\n",
       " ['6', 'Akatonbo', 'IRL'],\n",
       " ['7', 'Alain IV', 'SUI'],\n",
       " ['8', 'Albania', 'ALB'],\n",
       " ['9', 'Alcaid', 'POR'],\n",
       " ['10', 'Alcyon-6', 'FRA'],\n",
       " ['11', 'Alcyon-7', 'FRA'],\n",
       " ['12', 'Aldebaran', 'ITA'],\n",
       " ['13', 'Aldebaran II', 'ITA'],\n",
       " ['14', 'Aletta', 'IRL'],\n",
       " ['15', 'Algeria', 'ALG'],\n",
       " ['16', 'Ali-Baba II', 'SWE'],\n",
       " ['17', 'Ali-Baba IV', 'SUI'],\n",
       " ['18', 'Ali-Baba IX', 'SUI'],\n",
       " ['19', 'Ali-Baba VI', 'SUI']]"
      ]
     },
     "execution_count": 5,
     "metadata": {},
     "output_type": "execute_result"
    }
   ],
   "source": [
    "RDD_paises.take(20)"
   ]
  },
  {
   "cell_type": "markdown",
   "metadata": {},
   "source": [
    "# Count"
   ]
  },
  {
   "cell_type": "markdown",
   "metadata": {},
   "source": [
    "Contar cuantos equipos hay, por sus siglas, para eso uso la función count(), pero antes, seleciono solo los valores distintos"
   ]
  },
  {
   "cell_type": "code",
   "execution_count": 58,
   "metadata": {},
   "outputs": [
    {
     "data": {
      "text/plain": [
       "231"
      ]
     },
     "execution_count": 58,
     "metadata": {},
     "output_type": "execute_result"
    }
   ],
   "source": [
    "RDD_paises.map(lambda x : x[2]).distinct().count()"
   ]
  },
  {
   "cell_type": "markdown",
   "metadata": {},
   "source": [
    "En el caso de tener una cantidad de datos muy grande, y necesito saber cuantas rows hay, puedo usar la funcion de countApprox(), la cúal yo le doy una cantidad de milesegundos que quiero destinar a la tarea, en caso de que el timepo se agote y no haya terminado de contar, me devuleve el número de rows que llevaba para ese momento "
   ]
  },
  {
   "cell_type": "code",
   "execution_count": 67,
   "metadata": {},
   "outputs": [
    {
     "data": {
      "text/plain": [
       "231"
      ]
     },
     "execution_count": 67,
     "metadata": {},
     "output_type": "execute_result"
    }
   ],
   "source": [
    "#El valor de countApprox esta en milesegundos \n",
    "RDD_paises.map(lambda x : x[2]).distinct().countApprox(20)"
   ]
  },
  {
   "cell_type": "markdown",
   "metadata": {},
   "source": [
    "# Group BY"
   ]
  },
  {
   "cell_type": "markdown",
   "metadata": {},
   "source": [
    "Contar la cantidad de veces que se repite una sigla.\n",
    "Para esto tengo que ahcer un groupby. Primero mapeo las listas, tomo primero el valor que quiero colocar como key,\n",
    "hago un groupByKey(), luego vuelvo a mapear, pero ahora mapeo los datos agrupados,y por último tomo 5 ejemplos con take()"
   ]
  },
  {
   "cell_type": "code",
   "execution_count": 59,
   "metadata": {},
   "outputs": [
    {
     "data": {
      "text/plain": [
       "[('sigla', 1), ('AUT', 11), ('MEX', 9), ('ARG', 18), ('AFG', 1)]"
      ]
     },
     "execution_count": 59,
     "metadata": {},
     "output_type": "execute_result"
    }
   ],
   "source": [
    "RDD_paises.map(lambda x : (x[2],x[1])).groupByKey().mapValues(len).take(5)"
   ]
  },
  {
   "cell_type": "code",
   "execution_count": 61,
   "metadata": {},
   "outputs": [
    {
     "data": {
      "text/plain": [
       "[('sigla', ['equipo']),\n",
       " ('AUT',\n",
       "  ['30. Februar',\n",
       "   'Austria',\n",
       "   'Austria-1',\n",
       "   'Austria-2',\n",
       "   'Breslau',\n",
       "   'Brigantia',\n",
       "   'Donar III',\n",
       "   'Evita VI',\n",
       "   'May-Be 1960',\n",
       "   '\"R.-V. Germania; Leitmeritz\"',\n",
       "   'Surprise'])]"
      ]
     },
     "execution_count": 61,
     "metadata": {},
     "output_type": "execute_result"
    }
   ],
   "source": [
    "#As'i luce por dentro el mapValues()\n",
    "RDD_paises.map(lambda x : (x[2],x[1])).groupByKey().mapValues(list).take(2)"
   ]
  },
  {
   "cell_type": "markdown",
   "metadata": {},
   "source": [
    "Filtar por algún país"
   ]
  },
  {
   "cell_type": "markdown",
   "metadata": {},
   "source": [
    "# Filter "
   ]
  },
  {
   "cell_type": "code",
   "execution_count": 66,
   "metadata": {},
   "outputs": [
    {
     "data": {
      "text/plain": [
       "[['2', 'A North American Team', 'MEX'],\n",
       " ['3', 'Acipactli', 'MEX'],\n",
       " ['193', 'Chamukina', 'MEX'],\n",
       " ['656', 'Mexico', 'MEX'],\n",
       " ['657', 'Mexico-1', 'MEX']]"
      ]
     },
     "execution_count": 66,
     "metadata": {},
     "output_type": "execute_result"
    }
   ],
   "source": [
    "RDD_paises.filter(lambda x : x[2] == 'MEX').take(5)"
   ]
  },
  {
   "cell_type": "markdown",
   "metadata": {},
   "source": [
    "# Union "
   ]
  },
  {
   "cell_type": "code",
   "execution_count": 70,
   "metadata": {},
   "outputs": [
    {
     "name": "stdout",
     "output_type": "stream",
     "text": [
      "deporte.csv      deportistaError.csv  \u001b[0m\u001b[01;35mmodelo_relacional.jpg\u001b[0m\r\n",
      "deportista2.csv  evento.csv           paises.csv\r\n",
      "deportista.csv   juegos.csv           resultados.csv\r\n"
     ]
    }
   ],
   "source": [
    "%ls"
   ]
  },
  {
   "cell_type": "code",
   "execution_count": 195,
   "metadata": {},
   "outputs": [],
   "source": [
    "deportista1_rdd = sc.textFile(path+'deportista.csv').map(lambda x : x.split(','))\n",
    "deportista2_rdd = sc.textFile(path+'deportista2.csv').map(lambda x : x.split(','))\n",
    "\n",
    "deportista_rdd = deportista1_rdd.union(deportista2_rdd)"
   ]
  },
  {
   "cell_type": "code",
   "execution_count": 7,
   "metadata": {},
   "outputs": [
    {
     "data": {
      "text/plain": [
       "[['deportista_id', 'nombre', 'genero', 'edad', 'altura', 'peso', 'equipo_id'],\n",
       " ['1', 'A Dijiang', '1', '24', '180', '80', '199'],\n",
       " ['2', 'A Lamusi', '1', '23', '170', '60', '199'],\n",
       " ['3', 'Gunnar Nielsen Aaby', '1', '24', '0', '0', '273']]"
      ]
     },
     "execution_count": 7,
     "metadata": {},
     "output_type": "execute_result"
    }
   ],
   "source": [
    "deportista_rdd.take(4)"
   ]
  },
  {
   "cell_type": "code",
   "execution_count": 8,
   "metadata": {},
   "outputs": [
    {
     "data": {
      "text/plain": [
       "135572"
      ]
     },
     "execution_count": 8,
     "metadata": {},
     "output_type": "execute_result"
    }
   ],
   "source": [
    "deportista_rdd.count()"
   ]
  },
  {
   "cell_type": "markdown",
   "metadata": {},
   "source": [
    "Tomar una muestra aleatoria "
   ]
  },
  {
   "cell_type": "code",
   "execution_count": 76,
   "metadata": {},
   "outputs": [
    {
     "data": {
      "text/plain": [
       "[['134227', 'Carlos Erick Zegarra Presser', '1', '23', '202', '165', '794'],\n",
       " ['13661', 'Zenon Yanovich Bortkevich', '1', '27', '179', '80', '978'],\n",
       " ['106433', 'Massimo Scali', '1', '22', '172', '56', '509'],\n",
       " ['46508', 'Mohamed Hassanein', '1', '0', '0', '0', '308'],\n",
       " ['125686', 'Sabina Veit', '2', '22', '167', '59', '944'],\n",
       " ['112190', 'Austin Smith', '1', '23', '179', '73', '967'],\n",
       " ['29132', 'Eleni Doika', '2', '16', '168', '49', '419'],\n",
       " ['56472', 'Kaido Kaaberma', '1', '23', '194', '84', '331'],\n",
       " ['115105', 'Christopher Hugh Stevenson', '1', '27', '193', '91', '1096'],\n",
       " ['114685', 'Stanisaw Stefaski', '1', '25', '175', '62', '810']]"
      ]
     },
     "execution_count": 76,
     "metadata": {},
     "output_type": "execute_result"
    }
   ],
   "source": [
    "deportista_rdd.takeSample(False,10,seed=2)\n",
    "#takeSample(Valores repetidos,cúatos registros quiero, semilla aleatoria)"
   ]
  },
  {
   "cell_type": "markdown",
   "metadata": {},
   "source": [
    "## Hacer un Join"
   ]
  },
  {
   "cell_type": "code",
   "execution_count": 78,
   "metadata": {},
   "outputs": [
    {
     "data": {
      "text/plain": [
       "[['id', 'equipo', 'sigla']]"
      ]
     },
     "execution_count": 78,
     "metadata": {},
     "output_type": "execute_result"
    }
   ],
   "source": [
    "RDD_paises.top(1)"
   ]
  },
  {
   "cell_type": "code",
   "execution_count": 80,
   "metadata": {},
   "outputs": [
    {
     "data": {
      "text/plain": [
       "[['deportista_id', 'nombre', 'genero', 'edad', 'altura', 'peso', 'equipo_id']]"
      ]
     },
     "execution_count": 80,
     "metadata": {},
     "output_type": "execute_result"
    }
   ],
   "source": [
    "deportista_rdd.top(1)"
   ]
  },
  {
   "cell_type": "code",
   "execution_count": 109,
   "metadata": {},
   "outputs": [
    {
     "data": {
      "text/plain": [
       "[('362', (['131505', 'Steven Woodburn', '1', '24', '185', '90'], 'FRA')),\n",
       " ('967', (['13626', 'Jill Brresen', '2', '22', '170', '57'], 'RSA')),\n",
       " ('482', (['44299', 'Gumundur Gumundsson', '1', '23', '174', '77'], 'ISL')),\n",
       " ('970', (['68062', 'Lee MinHui', '2', '28', '174', '65'], 'KOR')),\n",
       " ('794', (['92442', 'Luis Paz Zoldan', '1', '19', '187', '82'], 'PER')),\n",
       " ('413', (['26822', 'Jared Mark Deacon', '1', '24', '185', '77'], 'GBR'))]"
      ]
     },
     "execution_count": 109,
     "metadata": {},
     "output_type": "execute_result"
    }
   ],
   "source": [
    "deportista_rdd.map(lambda x : [x[-1],x[:-1]]) \\\n",
    "                    .join(RDD_paises.map(lambda x: [x[0],x[2]])).takeSample(False,6,25)"
   ]
  },
  {
   "cell_type": "code",
   "execution_count": 240,
   "metadata": {},
   "outputs": [
    {
     "data": {
      "text/plain": [
       "271117"
      ]
     },
     "execution_count": 240,
     "metadata": {},
     "output_type": "execute_result"
    }
   ],
   "source": [
    "resultado = sc.textFile(path+'resultados.csv').map(lambda x : x.split(','))\n",
    "resultado.count()"
   ]
  },
  {
   "cell_type": "code",
   "execution_count": 10,
   "metadata": {},
   "outputs": [
    {
     "data": {
      "text/plain": [
       "[['resultado_id', 'medalla', 'deportista_id', 'juego_id', 'evento_id'],\n",
       " ['99999', 'NA', '50604', '51', '568']]"
      ]
     },
     "execution_count": 10,
     "metadata": {},
     "output_type": "execute_result"
    }
   ],
   "source": [
    "resultado.top(2)"
   ]
  },
  {
   "cell_type": "markdown",
   "metadata": {},
   "source": [
    "Foltrar por los deortista que tengan medallas"
   ]
  },
  {
   "cell_type": "code",
   "execution_count": 241,
   "metadata": {},
   "outputs": [],
   "source": [
    "resultado = resultado.filter(lambda x:'NA' not in x[1] )"
   ]
  },
  {
   "cell_type": "code",
   "execution_count": 242,
   "metadata": {},
   "outputs": [
    {
     "data": {
      "text/plain": [
       "[['resultado_id', 'medalla', 'deportista_id', 'juego_id', 'evento_id'],\n",
       " ['99993', 'Silver', '50600', '39', '207']]"
      ]
     },
     "execution_count": 242,
     "metadata": {},
     "output_type": "execute_result"
    }
   ],
   "source": [
    "resultado.top(2)"
   ]
  },
  {
   "cell_type": "markdown",
   "metadata": {},
   "source": [
    "Unir el rdd de deportista , equipo y de resultado  "
   ]
  },
  {
   "cell_type": "code",
   "execution_count": 16,
   "metadata": {},
   "outputs": [],
   "source": [
    "deportista_equipo = (deportista_rdd.map(lambda x : [x[-1],x[:-1]]) \n",
    "                    .join(RDD_paises.map(lambda x: [x[0],x[2]]))\n",
    "                    .map(lambda x : ( x[1][0][0] , (x[1][0][1:],x[1][1]) )  ) #Coloco el id del deportista como principal columna\n",
    ")"
   ]
  },
  {
   "cell_type": "code",
   "execution_count": 17,
   "metadata": {},
   "outputs": [
    {
     "data": {
      "text/plain": [
       "[('99999', (['Alexander Grant Alick Rennie', '1', '32', '182', '71'], 'RSA')),\n",
       " ('99998', (['Robert John Bob Renney', '1', '21', '178', '90'], 'AUS'))]"
      ]
     },
     "execution_count": 17,
     "metadata": {},
     "output_type": "execute_result"
    }
   ],
   "source": [
    "deportista_equipo.top(2)"
   ]
  },
  {
   "cell_type": "markdown",
   "metadata": {},
   "source": [
    "Por ultimo agrego la columna de los resultados"
   ]
  },
  {
   "cell_type": "code",
   "execution_count": 18,
   "metadata": {},
   "outputs": [],
   "source": [
    "resultado_RDD = deportista_equipo.map(lambda x : [x[0],x[1]]).join(resultado.map(lambda x: [x[2],(x[0],x[1],x[3],x[4])]))"
   ]
  },
  {
   "cell_type": "code",
   "execution_count": 19,
   "metadata": {},
   "outputs": [
    {
     "data": {
      "text/plain": [
       "[('7597',\n",
       "  ((['Bao Yingying', '2', '24', '172', '67'], 'CHN'),\n",
       "   ('14078', 'Silver', '47', '445')))]"
      ]
     },
     "execution_count": 19,
     "metadata": {},
     "output_type": "execute_result"
    }
   ],
   "source": [
    "resultado_RDD.take(1)"
   ]
  },
  {
   "cell_type": "code",
   "execution_count": 16,
   "metadata": {},
   "outputs": [
    {
     "data": {
      "text/html": [
       "\n",
       "        <div>\n",
       "            <p><b>SparkContext</b></p>\n",
       "\n",
       "            <p><a href=\"http://cesar-work:4040\">Spark UI</a></p>\n",
       "\n",
       "            <dl>\n",
       "              <dt>Version</dt>\n",
       "                <dd><code>v3.0.2</code></dd>\n",
       "              <dt>Master</dt>\n",
       "                <dd><code>local</code></dd>\n",
       "              <dt>AppName</dt>\n",
       "                <dd><code>Olimpic_games</code></dd>\n",
       "            </dl>\n",
       "        </div>\n",
       "        "
      ],
      "text/plain": [
       "<SparkContext master=local appName=Olimpic_games>"
      ]
     },
     "execution_count": 16,
     "metadata": {},
     "output_type": "execute_result"
    }
   ],
   "source": [
    "sc"
   ]
  },
  {
   "cell_type": "markdown",
   "metadata": {},
   "source": [
    "# operaciones númericas"
   ]
  },
  {
   "cell_type": "code",
   "execution_count": 28,
   "metadata": {},
   "outputs": [],
   "source": [
    "valor_medallas = {'Gold':7,\n",
    "                'Silver':5,\n",
    "                'Bronze':4}"
   ]
  },
  {
   "cell_type": "code",
   "execution_count": null,
   "metadata": {},
   "outputs": [],
   "source": [
    "('7597', \n",
    " \n",
    " (  \n",
    "     (['Bao Yingying', '2', '24', '172', '67'], 'CHN'),\n",
    "     ('14078', 'Silver', '47', '445')\n",
    " )\n",
    "\n",
    ")"
   ]
  },
  {
   "cell_type": "code",
   "execution_count": 49,
   "metadata": {},
   "outputs": [],
   "source": [
    "resultado_valor = resultado_RDD.map(lambda x : (x[1][0][1],valor_medallas[x[1][1][1]]))"
   ]
  },
  {
   "cell_type": "code",
   "execution_count": 86,
   "metadata": {},
   "outputs": [
    {
     "data": {
      "text/plain": [
       "[('CHN', 5)]"
      ]
     },
     "execution_count": 86,
     "metadata": {},
     "output_type": "execute_result"
    }
   ],
   "source": [
    "resultado_valor.take(1)"
   ]
  },
  {
   "cell_type": "code",
   "execution_count": 45,
   "metadata": {},
   "outputs": [],
   "source": [
    "# Los rdd necesitan de una librería para poder hacer operaciones \n",
    "from operator import add"
   ]
  },
  {
   "cell_type": "code",
   "execution_count": 54,
   "metadata": {},
   "outputs": [],
   "source": [
    "import matplotlib.pyplot as plt"
   ]
  },
  {
   "cell_type": "markdown",
   "metadata": {},
   "source": [
    "Aquí hago la operación, tomando las lleves, es decir en este caso el valor [1]"
   ]
  },
  {
   "cell_type": "code",
   "execution_count": 55,
   "metadata": {},
   "outputs": [],
   "source": [
    "resultado_valor_pais = resultado_valor.reduceByKey(add).sortBy(lambda x : x[1],ascending=False)"
   ]
  },
  {
   "cell_type": "code",
   "execution_count": 67,
   "metadata": {},
   "outputs": [
    {
     "data": {
      "text/plain": [
       "150"
      ]
     },
     "execution_count": 67,
     "metadata": {},
     "output_type": "execute_result"
    }
   ],
   "source": [
    "resultado_valor_pais.count()"
   ]
  },
  {
   "cell_type": "code",
   "execution_count": 85,
   "metadata": {},
   "outputs": [
    {
     "data": {
      "image/png": "[encoded data removed]",
      "text/plain": [
       "<Figure size 720x360 with 1 Axes>"
      ]
     },
     "metadata": {
      "needs_background": "light"
     },
     "output_type": "display_data"
    }
   ],
   "source": [
    "plt.figure(figsize=(10,5))\n",
    "plt.bar(resultado_valor_pais.map(lambda x:x[0]).take(50),resultado_valor_pais.map(lambda x:x[1]).take(50) \n",
    "            , color='r')\n",
    "plt.xticks(rotation=90)\n",
    "plt.xlabel('Paises',labelpad=15)\n",
    "plt.ylabel('Puntos',labelpad=15)\n",
    "plt.show()"
   ]
  },
  {
   "cell_type": "markdown",
   "metadata": {},
   "source": [
    "# Crear data Frames"
   ]
  },
  {
   "cell_type": "code",
   "execution_count": 186,
   "metadata": {},
   "outputs": [],
   "source": [
    "from pyspark import SparkContext\n",
    "from pyspark.sql import SparkSession\n",
    "from pyspark.sql.types import StructField, StructType, IntegerType , StringType ,FloatType, Row\n",
    "from pyspark.sql import SQLContext"
   ]
  },
  {
   "cell_type": "code",
   "execution_count": 243,
   "metadata": {},
   "outputs": [],
   "source": [
    "sc = SparkContext(master='local',appName='Spark_app')\n",
    "\n",
    "\n",
    "# Creo un sql Context \n",
    "sql_context = SQLContext(sc)"
   ]
  },
  {
   "cell_type": "code",
   "execution_count": 10,
   "metadata": {},
   "outputs": [
    {
     "name": "stdout",
     "output_type": "stream",
     "text": [
      "deporte.csv      deportistaError.csv  \u001b[0m\u001b[01;35mmodelo_relacional.jpg\u001b[0m\r\n",
      "deportista2.csv  evento.csv           paises.csv\r\n",
      "deportista.csv   juegos.csv           resultados.csv\r\n"
     ]
    }
   ],
   "source": [
    "%ls /home/cesar/Documents/prac_sp/curso-apache-spark-platzi/files/"
   ]
  },
  {
   "cell_type": "code",
   "execution_count": 11,
   "metadata": {},
   "outputs": [
    {
     "name": "stdout",
     "output_type": "stream",
     "text": [
      ",nombre_juego,annio,temporada,ciudad\r\n",
      "1,1896 Verano,1896,Verano,Athina\r\n",
      "2,1900 Verano,1900,Verano,Paris\r\n",
      "3,1904 Verano,1904,Verano,St. Louis\r\n",
      "4,1906 Verano,1906,Verano,Athina\r\n"
     ]
    }
   ],
   "source": [
    "!head -n 5 /home/cesar/Documents/prac_sp/curso-apache-spark-platzi/files/juegos.csv"
   ]
  },
  {
   "cell_type": "markdown",
   "metadata": {},
   "source": [
    "## Crear el DF desde un archivo"
   ]
  },
  {
   "cell_type": "markdown",
   "metadata": {},
   "source": [
    "**Creeo la estructura del schema** , para luego leer el archivo"
   ]
  },
  {
   "cell_type": "code",
   "execution_count": 12,
   "metadata": {},
   "outputs": [],
   "source": [
    "path = '/home/cesar/Documents/prac_sp/curso-apache-spark-platzi/files/'\n",
    "#Creo un schema para poder cargar el archivo  \n",
    "juegoSchema = (StructType\n",
    "               ([\n",
    "    StructField('id',IntegerType(),False), #El tercer atributo hace referencia a si es obligatorio que exista el dato\n",
    "    StructField('year',IntegerType(),False),\n",
    "    StructField('season',StringType(),False),\n",
    "    StructField('city',StringType(),False)\n",
    "])\n",
    "              )"
   ]
  },
  {
   "cell_type": "markdown",
   "metadata": {},
   "source": [
    "Cargo el archivo como una base de datos "
   ]
  },
  {
   "cell_type": "code",
   "execution_count": 13,
   "metadata": {},
   "outputs": [
    {
     "name": "stdout",
     "output_type": "stream",
     "text": [
      "+---+----+------+------+\n",
      "| id|year|season|  city|\n",
      "+---+----+------+------+\n",
      "|  1|null|  1896|Verano|\n",
      "|  2|null|  1900|Verano|\n",
      "|  3|null|  1904|Verano|\n",
      "|  4|null|  1906|Verano|\n",
      "|  5|null|  1908|Verano|\n",
      "+---+----+------+------+\n",
      "only showing top 5 rows\n",
      "\n"
     ]
    }
   ],
   "source": [
    "juegos_df = sql_context.read.schema(juegoSchema).option('header','true').csv(path+'juegos.csv')\n",
    "juegos_df.show(5)"
   ]
  },
  {
   "cell_type": "markdown",
   "metadata": {},
   "source": [
    "## Crear el DF desde un RDD"
   ]
  },
  {
   "cell_type": "code",
   "execution_count": 14,
   "metadata": {},
   "outputs": [
    {
     "data": {
      "text/plain": [
       "[['deportista_id', 'nombre', 'genero', 'edad', 'altura', 'peso', 'equipo_id'],\n",
       " ['1', 'A Dijiang', '1', '24', '180', '80', '199']]"
      ]
     },
     "execution_count": 14,
     "metadata": {},
     "output_type": "execute_result"
    }
   ],
   "source": [
    "deportista_rdd.take(2)"
   ]
  },
  {
   "cell_type": "markdown",
   "metadata": {},
   "source": [
    "### Elimino el header "
   ]
  },
  {
   "cell_type": "code",
   "execution_count": 196,
   "metadata": {},
   "outputs": [],
   "source": [
    "def delete_header(RDD):\n",
    "    return iter(list(RDD)[1:])"
   ]
  },
  {
   "cell_type": "code",
   "execution_count": 197,
   "metadata": {},
   "outputs": [
    {
     "data": {
      "text/plain": [
       "[['1', 'A Dijiang', '1', '24', '180', '80', '199'],\n",
       " ['2', 'A Lamusi', '1', '23', '170', '60', '199'],\n",
       " ['3', 'Gunnar Nielsen Aaby', '1', '24', '0', '0', '273'],\n",
       " ['4', 'Edgar Lindenau Aabye', '1', '34', '0', '0', '278'],\n",
       " ['5', 'Christine Jacoba Aaftink', '2', '21', '185', '82', '705']]"
      ]
     },
     "execution_count": 197,
     "metadata": {},
     "output_type": "execute_result"
    }
   ],
   "source": [
    "deportista_rdd = deportista_rdd.mapPartitions(delete_header)\n",
    "deportista_rdd.take(5)\n",
    "\n",
    "#deportista_rdd.mapPartitionsWithIndex(delete_header).take(25) \n",
    "#También lo puedo hacer de esta manera, pero tengo que colocar el idx en la función delete_header"
   ]
  },
  {
   "cell_type": "markdown",
   "metadata": {},
   "source": [
    "Convierto cada valor al que le corresponde"
   ]
  },
  {
   "cell_type": "code",
   "execution_count": 208,
   "metadata": {},
   "outputs": [],
   "source": [
    "deportista_rdd = deportista_rdd.map(lambda x: \n",
    "                   (\n",
    "                       int(x[0]),\n",
    "                       str(x[1]),\n",
    "                       int(x[2]),\n",
    "                       int(x[3]),\n",
    "                       float(x[4]),\n",
    "                       float(x[5]),\n",
    "                       int(x[6])\n",
    "                   )\n",
    "                  )"
   ]
  },
  {
   "cell_type": "markdown",
   "metadata": {},
   "source": [
    "Creo el schema de la tabla de deportista"
   ]
  },
  {
   "cell_type": "code",
   "execution_count": 214,
   "metadata": {},
   "outputs": [],
   "source": [
    "deportista_schema = (StructType\n",
    "                ([\n",
    "                    StructField('id',IntegerType(),False),\n",
    "                    StructField('name',StringType(),False),\n",
    "                    StructField('gender',IntegerType(),False),\n",
    "                    StructField('age',IntegerType(),False),\n",
    "                    StructField('height',FloatType(),False),\n",
    "                    StructField('weight',FloatType(),False),\n",
    "                    StructField('equipo_id',IntegerType(),False),\n",
    "])\n",
    "                    )"
   ]
  },
  {
   "cell_type": "code",
   "execution_count": 215,
   "metadata": {},
   "outputs": [],
   "source": [
    "deportista_df = sql_context.createDataFrame(deportista_rdd,deportista_schema)"
   ]
  },
  {
   "cell_type": "code",
   "execution_count": 216,
   "metadata": {},
   "outputs": [
    {
     "name": "stdout",
     "output_type": "stream",
     "text": [
      "+---+--------------------+------+---+------+------+---------+\n",
      "| id|                name|gender|age|height|weight|equipo_id|\n",
      "+---+--------------------+------+---+------+------+---------+\n",
      "|  1|           A Dijiang|     1| 24| 180.0|  80.0|      199|\n",
      "|  2|            A Lamusi|     1| 23| 170.0|  60.0|      199|\n",
      "|  3| Gunnar Nielsen Aaby|     1| 24|   0.0|   0.0|      273|\n",
      "|  4|Edgar Lindenau Aabye|     1| 34|   0.0|   0.0|      278|\n",
      "|  5|Christine Jacoba ...|     2| 21| 185.0|  82.0|      705|\n",
      "|  6|     Per Knut Aaland|     1| 31| 188.0|  75.0|     1096|\n",
      "|  7|        John Aalberg|     1| 31| 183.0|  72.0|     1096|\n",
      "|  8|Cornelia Cor Aalt...|     2| 18| 168.0|   0.0|      705|\n",
      "|  9|    Antti Sami Aalto|     1| 26| 186.0|  96.0|      350|\n",
      "| 10|Einar Ferdinand E...|     1| 26|   0.0|   0.0|      350|\n",
      "| 11|  Jorma Ilmari Aalto|     1| 22| 182.0|  76.5|      350|\n",
      "| 12|   Jyri Tapani Aalto|     1| 31| 172.0|  70.0|      350|\n",
      "| 13|  Minna Maarit Aalto|     2| 30| 159.0|  55.5|      350|\n",
      "| 14|Pirjo Hannele Aal...|     2| 32| 171.0|  65.0|      350|\n",
      "| 15|Arvo Ossian Aaltonen|     1| 22|   0.0|   0.0|      350|\n",
      "| 16|Juhamatti Tapio A...|     1| 28| 184.0|  85.0|      350|\n",
      "| 17|Paavo Johannes Aa...|     1| 28| 175.0|  64.0|      350|\n",
      "| 18|Timo Antero Aaltonen|     1| 31| 189.0| 130.0|      350|\n",
      "| 19|Win Valdemar Aalt...|     1| 54|   0.0|   0.0|      350|\n",
      "| 20|  Kjetil Andr Aamodt|     1| 20| 176.0|  85.0|      742|\n",
      "+---+--------------------+------+---+------+------+---------+\n",
      "only showing top 20 rows\n",
      "\n"
     ]
    }
   ],
   "source": [
    "deportista_df.show()"
   ]
  },
  {
   "cell_type": "markdown",
   "metadata": {},
   "source": [
    "### Convirtiendo la tabla de resultados en un dataframe"
   ]
  },
  {
   "cell_type": "code",
   "execution_count": 244,
   "metadata": {},
   "outputs": [
    {
     "data": {
      "text/plain": [
       "[['resultado_id', 'medalla', 'deportista_id', 'juego_id', 'evento_id'],\n",
       " ['4', 'Gold', '4', '2', '4']]"
      ]
     },
     "execution_count": 244,
     "metadata": {},
     "output_type": "execute_result"
    }
   ],
   "source": [
    "resultado.take(2)"
   ]
  },
  {
   "cell_type": "code",
   "execution_count": 245,
   "metadata": {},
   "outputs": [],
   "source": [
    "resultado_f = resultado.mapPartitions(delete_header)"
   ]
  },
  {
   "cell_type": "code",
   "execution_count": 246,
   "metadata": {},
   "outputs": [],
   "source": [
    "resultado_f = resultado_f.map(lambda x :\n",
    "              (\n",
    "                  int(x[0]),\n",
    "                  str(x[1]),\n",
    "                  int(x[2]),\n",
    "                  int(x[3]),\n",
    "                  int(x[4])\n",
    "              )\n",
    "             )"
   ]
  },
  {
   "cell_type": "code",
   "execution_count": 247,
   "metadata": {},
   "outputs": [
    {
     "data": {
      "text/plain": [
       "[(4, 'Gold', 4, 2, 4), (38, 'Bronze', 15, 7, 19)]"
      ]
     },
     "execution_count": 247,
     "metadata": {},
     "output_type": "execute_result"
    }
   ],
   "source": [
    "resultado_f.take(2)"
   ]
  },
  {
   "cell_type": "code",
   "execution_count": 248,
   "metadata": {},
   "outputs": [],
   "source": [
    "resultado_schema = StructType([\n",
    "    StructField('resultado_id',IntegerType(),False),\n",
    "    StructField('medal',StringType(),False),\n",
    "    StructField('deportista_id',IntegerType(),False),\n",
    "    StructField('juego_id',IntegerType(),False),\n",
    "    StructField('evento_id',IntegerType(),False)\n",
    "    \n",
    "])"
   ]
  },
  {
   "cell_type": "code",
   "execution_count": 250,
   "metadata": {},
   "outputs": [],
   "source": [
    "resultado_df = sql_context.createDataFrame(resultado_f,resultado_schema)"
   ]
  },
  {
   "cell_type": "code",
   "execution_count": 251,
   "metadata": {},
   "outputs": [
    {
     "name": "stdout",
     "output_type": "stream",
     "text": [
      "+------------+------+-------------+--------+---------+\n",
      "|resultado_id| medal|deportista_id|juego_id|evento_id|\n",
      "+------------+------+-------------+--------+---------+\n",
      "|           4|  Gold|            4|       2|        4|\n",
      "|          38|Bronze|           15|       7|       19|\n",
      "|          39|Bronze|           15|       7|       20|\n",
      "|          41|Bronze|           16|      50|       14|\n",
      "|          42|Bronze|           17|      17|       21|\n",
      "+------------+------+-------------+--------+---------+\n",
      "only showing top 5 rows\n",
      "\n"
     ]
    }
   ],
   "source": [
    "resultado_df.show(5)  "
   ]
  },
  {
   "cell_type": "markdown",
   "metadata": {},
   "source": [
    "### Convirtiendo la tabla de paises en un dataframe"
   ]
  },
  {
   "cell_type": "code",
   "execution_count": 26,
   "metadata": {},
   "outputs": [
    {
     "data": {
      "text/plain": [
       "[['id', 'equipo', 'sigla'], ['1', '30. Februar', 'AUT']]"
      ]
     },
     "execution_count": 26,
     "metadata": {},
     "output_type": "execute_result"
    }
   ],
   "source": [
    "RDD_paises.take(2)"
   ]
  },
  {
   "cell_type": "code",
   "execution_count": 27,
   "metadata": {},
   "outputs": [
    {
     "data": {
      "text/plain": [
       "[(1, '30. Februar', 'AUT'), (2, 'A North American Team', 'MEX')]"
      ]
     },
     "execution_count": 27,
     "metadata": {},
     "output_type": "execute_result"
    }
   ],
   "source": [
    "RDD_paises_f = RDD_paises.mapPartitions(delete_header)\n",
    "\n",
    "RDD_paises_f = RDD_paises_f.map(lambda x :\n",
    "              (\n",
    "                  int(x[0]),\n",
    "                  str(x[1]),\n",
    "                  str(x[2])\n",
    "              )\n",
    "             )\n",
    "RDD_paises_f.take(2)"
   ]
  },
  {
   "cell_type": "code",
   "execution_count": 28,
   "metadata": {},
   "outputs": [],
   "source": [
    "paises_schema = StructType([\n",
    "    StructField('team_id',IntegerType(),False),\n",
    "    StructField('team',StringType(),False),\n",
    "    StructField('sigla',StringType(),False)\n",
    "])"
   ]
  },
  {
   "cell_type": "code",
   "execution_count": 41,
   "metadata": {},
   "outputs": [],
   "source": [
    "paises_df = sql_context.createDataFrame(RDD_paises_f,paises_schema)"
   ]
  },
  {
   "cell_type": "code",
   "execution_count": 42,
   "metadata": {},
   "outputs": [
    {
     "name": "stdout",
     "output_type": "stream",
     "text": [
      "+-------+--------------------+-----+\n",
      "|team_id|                team|sigla|\n",
      "+-------+--------------------+-----+\n",
      "|      1|         30. Februar|  AUT|\n",
      "|      2|A North American ...|  MEX|\n",
      "|      3|           Acipactli|  MEX|\n",
      "|      4|             Acturus|  ARG|\n",
      "|      5|         Afghanistan|  AFG|\n",
      "+-------+--------------------+-----+\n",
      "only showing top 5 rows\n",
      "\n"
     ]
    }
   ],
   "source": [
    "paises_df.show(5)"
   ]
  },
  {
   "cell_type": "markdown",
   "metadata": {},
   "source": [
    "# Manejo de DF"
   ]
  },
  {
   "cell_type": "markdown",
   "metadata": {},
   "source": [
    "Ver el schema de un df"
   ]
  },
  {
   "cell_type": "code",
   "execution_count": 47,
   "metadata": {},
   "outputs": [
    {
     "name": "stdout",
     "output_type": "stream",
     "text": [
      "root\n",
      " |-- resultado_id: integer (nullable = false)\n",
      " |-- medal: string (nullable = false)\n",
      " |-- deportista_id: integer (nullable = false)\n",
      " |-- juego_id: integer (nullable = false)\n",
      " |-- evento_id: integer (nullable = false)\n",
      "\n"
     ]
    }
   ],
   "source": [
    "resultado_df.printSchema()"
   ]
  },
  {
   "cell_type": "code",
   "execution_count": 166,
   "metadata": {},
   "outputs": [
    {
     "name": "stdout",
     "output_type": "stream",
     "text": [
      "root\n",
      " |-- deportista_id: integer (nullable = false)\n",
      " |-- name: string (nullable = false)\n",
      " |-- gender: integer (nullable = false)\n",
      " |-- age: integer (nullable = false)\n",
      " |-- height: integer (nullable = false)\n",
      " |-- weight: float (nullable = false)\n",
      " |-- equipo_id: integer (nullable = false)\n",
      "\n"
     ]
    }
   ],
   "source": [
    "deportista_df.printSchema()"
   ]
  },
  {
   "cell_type": "markdown",
   "metadata": {},
   "source": [
    "Cambiar el nombre de una columna y borrar otra "
   ]
  },
  {
   "cell_type": "code",
   "execution_count": 167,
   "metadata": {},
   "outputs": [],
   "source": [
    "deportista_df = deportista_df.withColumnRenamed('gender','sex').drop('height')"
   ]
  },
  {
   "cell_type": "code",
   "execution_count": 168,
   "metadata": {},
   "outputs": [
    {
     "name": "stdout",
     "output_type": "stream",
     "text": [
      "root\n",
      " |-- deportista_id: integer (nullable = false)\n",
      " |-- name: string (nullable = false)\n",
      " |-- sex: integer (nullable = false)\n",
      " |-- age: integer (nullable = false)\n",
      " |-- weight: float (nullable = false)\n",
      " |-- equipo_id: integer (nullable = false)\n",
      "\n"
     ]
    }
   ],
   "source": [
    "deportista_df.printSchema()"
   ]
  },
  {
   "cell_type": "code",
   "execution_count": 169,
   "metadata": {},
   "outputs": [
    {
     "name": "stdout",
     "output_type": "stream",
     "text": [
      "+-------------+--------------------+---+---+------+---------+\n",
      "|deportista_id|                name|sex|age|weight|equipo_id|\n",
      "+-------------+--------------------+---+---+------+---------+\n",
      "|        71691|  Dimitrios Loundras|  1| 10|   0.0|      333|\n",
      "|        52070|        Etsuko Inada|  2| 11|   0.0|      514|\n",
      "|        40129|    Luigina Giavotti|  2| 11|   0.0|      507|\n",
      "|        37333|Carlos Bienvenido...|  1| 11|   0.0|      982|\n",
      "|        47618|Sonja Henie Toppi...|  2| 11|  45.0|      742|\n",
      "+-------------+--------------------+---+---+------+---------+\n",
      "only showing top 5 rows\n",
      "\n"
     ]
    }
   ],
   "source": [
    "deportista_df.sort('age').filter((deportista_df.age != 0) ).show(5)"
   ]
  },
  {
   "cell_type": "markdown",
   "metadata": {},
   "source": [
    "### Selecionar columnas y hacer alias "
   ]
  },
  {
   "cell_type": "code",
   "execution_count": 65,
   "metadata": {},
   "outputs": [
    {
     "name": "stdout",
     "output_type": "stream",
     "text": [
      "+-------------+--------------------+-------------+\n",
      "|deportista_id|                name|age_when_play|\n",
      "+-------------+--------------------+-------------+\n",
      "|            1|           A Dijiang|           24|\n",
      "|            2|            A Lamusi|           23|\n",
      "|            3| Gunnar Nielsen Aaby|           24|\n",
      "|            4|Edgar Lindenau Aabye|           34|\n",
      "|            5|Christine Jacoba ...|           21|\n",
      "|            6|     Per Knut Aaland|           31|\n",
      "|            7|        John Aalberg|           31|\n",
      "|            8|Cornelia Cor Aalt...|           18|\n",
      "|            9|    Antti Sami Aalto|           26|\n",
      "|           10|Einar Ferdinand E...|           26|\n",
      "|           11|  Jorma Ilmari Aalto|           22|\n",
      "|           12|   Jyri Tapani Aalto|           31|\n",
      "|           13|  Minna Maarit Aalto|           30|\n",
      "|           14|Pirjo Hannele Aal...|           32|\n",
      "|           15|Arvo Ossian Aaltonen|           22|\n",
      "|           16|Juhamatti Tapio A...|           28|\n",
      "|           17|Paavo Johannes Aa...|           28|\n",
      "|           18|Timo Antero Aaltonen|           31|\n",
      "|           19|Win Valdemar Aalt...|           54|\n",
      "|           20|  Kjetil Andr Aamodt|           20|\n",
      "+-------------+--------------------+-------------+\n",
      "only showing top 20 rows\n",
      "\n"
     ]
    }
   ],
   "source": [
    "from pyspark.sql.functions import col\n",
    "deportista_df.select('deportista_id','name',col('age').alias('age_when_play')).show() \n",
    "# El col lo que hace es tomar una lista completa de la columna, esto evita ir row by row, lo cúal nos ayuda a tares pesadas"
   ]
  },
  {
   "cell_type": "markdown",
   "metadata": {},
   "source": [
    "# Hacer un join de DF"
   ]
  },
  {
   "cell_type": "code",
   "execution_count": 79,
   "metadata": {},
   "outputs": [
    {
     "name": "stdout",
     "output_type": "stream",
     "text": [
      "deporte.csv\t deportistaError.csv  modelo_relacional.jpg\r\n",
      "deportista2.csv  evento.csv\t      paises.csv\r\n",
      "deportista.csv\t juegos.csv\t      resultados.csv\r\n"
     ]
    }
   ],
   "source": [
    "!ls /home/cesar/Documents/prac_sp/curso-apache-spark-platzi/files/"
   ]
  },
  {
   "cell_type": "code",
   "execution_count": 80,
   "metadata": {},
   "outputs": [],
   "source": [
    "evento_schema = StructType([\n",
    "    StructField('evento_id',IntegerType(),False),\n",
    "    StructField('name:evento',StringType(),False),\n",
    "    StructField('deporte_id',IntegerType(),False)\n",
    "])"
   ]
  },
  {
   "cell_type": "code",
   "execution_count": 81,
   "metadata": {},
   "outputs": [],
   "source": [
    "evento_df = sql_context.read.option('header','true').csv(path+'evento.csv')"
   ]
  },
  {
   "cell_type": "code",
   "execution_count": 83,
   "metadata": {},
   "outputs": [],
   "source": [
    "deporte_schema = StructType([\n",
    "    StructField('deporte_id',IntegerType(),False),\n",
    "    StructField('sport_name',StringType(),False),\n",
    "])\n",
    "deporte_df = sql_context.read.option('header','true').csv(path+'deporte.csv')"
   ]
  },
  {
   "cell_type": "code",
   "execution_count": 165,
   "metadata": {},
   "outputs": [
    {
     "name": "stdout",
     "output_type": "stream",
     "text": [
      "- d e p o r t i s t a\n",
      "root\n",
      " |-- deportista_id: integer (nullable = false)\n",
      " |-- name: string (nullable = false)\n",
      " |-- gender: integer (nullable = false)\n",
      " |-- age: integer (nullable = false)\n",
      " |-- height: integer (nullable = false)\n",
      " |-- weight: float (nullable = false)\n",
      " |-- equipo_id: integer (nullable = false)\n",
      "\n",
      "- r e s u l t a d o\n",
      "root\n",
      " |-- resultado_id: integer (nullable = false)\n",
      " |-- medal: string (nullable = false)\n",
      " |-- deportista_id: integer (nullable = false)\n",
      " |-- juego_id: integer (nullable = false)\n",
      " |-- evento_id: integer (nullable = false)\n",
      "\n",
      "- e q u i p o\n",
      "root\n",
      " |-- team_id: integer (nullable = false)\n",
      " |-- team: string (nullable = false)\n",
      " |-- sigla: string (nullable = false)\n",
      "\n",
      "- j u e g o s\n",
      "root\n",
      " |-- id: integer (nullable = true)\n",
      " |-- year: integer (nullable = true)\n",
      " |-- season: string (nullable = true)\n",
      " |-- city: string (nullable = true)\n",
      "\n",
      "- e v e n t o\n",
      "root\n",
      " |-- evento_id: string (nullable = true)\n",
      " |-- evento: string (nullable = true)\n",
      " |-- deporte_id: string (nullable = true)\n",
      "\n",
      "- d e p o r t e\n",
      "root\n",
      " |-- deporte_id: string (nullable = true)\n",
      " |-- deporte: string (nullable = true)\n",
      "\n"
     ]
    }
   ],
   "source": [
    "print(*'-'+'deportista')\n",
    "deportista_df.printSchema()\n",
    "print(*'-'+'resultado')\n",
    "resultado_df.printSchema()\n",
    "print(*'-'+'equipo')\n",
    "paises_df.printSchema()\n",
    "print(*'-'+'juegos')\n",
    "juegos_df.printSchema()\n",
    "print(*'-'+'evento')\n",
    "evento_df.printSchema()\n",
    "print(*'-'+'deporte')\n",
    "deporte_df.printSchema()"
   ]
  },
  {
   "cell_type": "code",
   "execution_count": null,
   "metadata": {},
   "outputs": [],
   "source": []
  },
  {
   "cell_type": "code",
   "execution_count": 30,
   "metadata": {},
   "outputs": [
    {
     "data": {
      "text/html": [
       "\n",
       "        <div>\n",
       "            <p><b>SparkContext</b></p>\n",
       "\n",
       "            <p><a href=\"http://cesar-work:4040\">Spark UI</a></p>\n",
       "\n",
       "            <dl>\n",
       "              <dt>Version</dt>\n",
       "                <dd><code>v3.0.2</code></dd>\n",
       "              <dt>Master</dt>\n",
       "                <dd><code>local</code></dd>\n",
       "              <dt>AppName</dt>\n",
       "                <dd><code>Olimpic_games</code></dd>\n",
       "            </dl>\n",
       "        </div>\n",
       "        "
      ],
      "text/plain": [
       "<SparkContext master=local appName=Olimpic_games>"
      ]
     },
     "execution_count": 30,
     "metadata": {},
     "output_type": "execute_result"
    }
   ],
   "source": [
    "sc"
   ]
  },
  {
   "cell_type": "markdown",
   "metadata": {},
   "source": [
    "# Parar"
   ]
  },
  {
   "cell_type": "code",
   "execution_count": 189,
   "metadata": {},
   "outputs": [],
   "source": [
    "sc.stop()"
   ]
  }
 ],
 "metadata": {
  "kernelspec": {
   "display_name": "Python 3",
   "language": "python",
   "name": "python3"
  },
  "language_info": {
   "codemirror_mode": {
    "name": "ipython",
    "version": 3
   },
   "file_extension": ".py",
   "mimetype": "text/x-python",
   "name": "python",
   "nbconvert_exporter": "python",
   "pygments_lexer": "ipython3",
   "version": "3.8.5"
  }
 },
 "nbformat": 4,
 "nbformat_minor": 4
}
