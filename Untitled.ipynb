{
 "cells": [
  {
   "cell_type": "code",
   "execution_count": 1,
   "id": "3f96e97a-385c-43a5-b934-1bfda87eb04f",
   "metadata": {},
   "outputs": [],
   "source": [
    "### Client id\n",
    "client_id = 'user.0ff2e3c9-17a4-4a80-9b16-af9401138854'\n",
    "### client secret\n",
    "client_secret = 'VYeUx4L8pZMsl8lGCHywFnbaPqp1H6'\n",
    "### Scope\n",
    "scope = 'api'\n",
    "### grant_type\n",
    "grant_type = 'client_credentials'"
   ]
  },
  {
   "cell_type": "code",
   "execution_count": 2,
   "id": "c0219896-8f5f-494a-b4d1-b57844cbd819",
   "metadata": {},
   "outputs": [],
   "source": [
    "import requests"
   ]
  },
  {
   "cell_type": "markdown",
   "id": "e439076a-d2a0-4e7b-8bb8-0c0b2d43a029",
   "metadata": {
    "jupyter": {
     "outputs_hidden": true
    },
    "tags": []
   },
   "source": [
    "curl -X POST \\\n",
    "  https://identity.bitwarden.com/connect/token \\\n",
    "  -H 'Content-Type: application/x-www-form-urlencoded' \\\n",
    "  -d 'grant_type=client_credentials&scope=api.organization&client_id=<ID>&client_secret=<SECRET>'"
   ]
  },
  {
   "cell_type": "code",
   "execution_count": 12,
   "id": "b550c4db-e48e-4b01-82a8-3be068f3c489",
   "metadata": {},
   "outputs": [],
   "source": [
    "headers = {\n",
    "    'content-type':'application/x-www-form-urlencoded'\n",
    "    \n",
    "}\n",
    "data = {\n",
    "    'grand_type':'client_credentials&scope=api.organization&client_id=user.0ff2e3c9-17a4-4a80-9b16-af9401138854&client_secret=VYeUx4L8pZMsl8lGCHywFnbaPqp1H6'\n",
    "}"
   ]
  },
  {
   "cell_type": "code",
   "execution_count": 13,
   "id": "d9918c96-ff50-4e6e-b5f3-1e1cac72fdb6",
   "metadata": {},
   "outputs": [
    {
     "data": {
      "text/plain": [
       "<Response [400]>"
      ]
     },
     "execution_count": 13,
     "metadata": {},
     "output_type": "execute_result"
    }
   ],
   "source": [
    "requests.post(\n",
    "\t'https://identity.bitwarden.com/connect/token',  headers=headers, data=data\n",
    "    \n",
    ")"
   ]
  },
  {
   "cell_type": "code",
   "execution_count": 21,
   "id": "8aa416c5-a0d9-4aab-b748-abfb9c4c2c7c",
   "metadata": {},
   "outputs": [],
   "source": [
    "acess_token = 'eyJhbGciOiJSUzI1NiIsImtpZCI6IkJDMzZDMjE0REI0OEYyMzVCNzdEQTNGMTcyMEMxQTM1QTk2MkVBNDNSUzI1NiIsInR5cCI6ImF0K2p3dCIsIng1dCI6InZEYkNGTnRJOGpXM2ZhUHhjZ3dhTmFsaTZrTSJ9.eyJuYmYiOjE2NzQ1ODE1NDIsImV4cCI6MTY3NDU4NTE0MiwiaXNzIjoiaHR0cHM6Ly9pZGVudGl0eS5iaXR3YXJkZW4uY29tIiwiY2xpZW50X2lkIjoidXNlci4wZmYyZTNjOS0xN2E0LTRhODAtOWIxNi1hZjk0MDExMzg4NTQiLCJzdWIiOiIwZmYyZTNjOS0xN2E0LTRhODAtOWIxNi1hZjk0MDExMzg4NTQiLCJwcmVtaXVtIjpmYWxzZSwiZW1haWwiOiJjcGVyZXpAY2xhcm9pbnN1cmFuY2UuY29tIiwiZW1haWxfdmVyaWZpZWQiOnRydWUsInNzdGFtcCI6Ik5TNUczT080VlJTREVJSkxEWjdORVBRRFFTWU5KUVRRIiwibmFtZSI6IkNsYXJvIEluc3VyYW5jZSIsIm9yZ293bmVyIjoiYmQxZGI2Y2QtOGQwNi00YTNlLThlMTctYWY5NDAxMTY1NmNiIiwiZGV2aWNlIjoiMCIsImp0aSI6IjlCRTMzQjEzMDEzNDZGNkU4NEMyQkM2ODU3MTE4RDkzIiwiaWF0IjoxNjc0NTgxNTQyLCJzY29wZSI6WyJhcGkiXSwiYW1yIjpbIkFwcGxpY2F0aW9uIl19.IQJHYz2RtqQ174RQP83MD8XGpycVd6XnzyxBgW2AnnJdeIhQlFy9kT8bzEizdWrYXkd-NikVJnEwrggQbGzQzC-oB5t-tMTK073y-y3gxsTyNxevmu8O-aly5sXQdqSwYvSLF6lrEpFfKphSJP3tUFKM2FdpIEHkNLcisoEWHxGvmwItgqp7T31hhY4dlcGLt2ftL_AvqdAtF7KsEO_wLKU1UwPqc1eTlv2ecgER1gc9fcEt4kVTTfc0SURTTtyqLY8O-lCnzJLNxCgfpM_ddtubkuZlBKpOUTdQSlRACUkboObLmprB7rwjV_ScRjOffe8MCIn9YCeBfcV9uK7r3vzr4U82cnPFywUL1S0hI_obK436ooTDgdL04-AZ-uSuw09VfMNCdlnrRP2inXaXpDL7cfVc1q62A0H1VildBWVzS2f-KsKo27IIXG5w0LiVUpGwZ2tIBPO7Q0wr4HjKRbwmHRaYleoFUkRVJzHLoAHqxCwv0V7Wa9PDupRjw2wvRaAIVAsZT2iqkO8xPg4dOrMDl8M361UNzCcp9j9iU0KMuCrLBjxepRtGcvH0ifPKXuQYfKJeh8PrUlS3NHGoGpwOERTaMGSS6rERz0AtVKtEj-Rd_YBOcSDB8W0MrKlmPE3RrXhmXPjlPSU1zAGPjuNKf8aJ7cNqgDqf4yqTk9U'"
   ]
  },
  {
   "cell_type": "code",
   "execution_count": 45,
   "id": "6c8660df-5542-4e59-b336-61386024d86d",
   "metadata": {},
   "outputs": [],
   "source": [
    "headers = {\"Authorization\": \"Bearer {acess_token}\".format(acess_token=acess_token)}"
   ]
  },
  {
   "cell_type": "code",
   "execution_count": 43,
   "id": "d85074a8-cc04-4a07-80ca-87437b70ee79",
   "metadata": {},
   "outputs": [
    {
     "data": {
      "text/plain": [
       "'Bearer eyJhbGciOiJSUzI1NiIsImtpZCI6IkJDMzZDMjE0REI0OEYyMzVCNzdEQTNGMTcyMEMxQTM1QTk2MkVBNDNSUzI1NiIsInR5cCI6ImF0K2p3dCIsIng1dCI6InZEYkNGTnRJOGpXM2ZhUHhjZ3dhTmFsaTZrTSJ9.eyJuYmYiOjE2NzQ1ODE1NDIsImV4cCI6MTY3NDU4NTE0MiwiaXNzIjoiaHR0cHM6Ly9pZGVudGl0eS5iaXR3YXJkZW4uY29tIiwiY2xpZW50X2lkIjoidXNlci4wZmYyZTNjOS0xN2E0LTRhODAtOWIxNi1hZjk0MDExMzg4NTQiLCJzdWIiOiIwZmYyZTNjOS0xN2E0LTRhODAtOWIxNi1hZjk0MDExMzg4NTQiLCJwcmVtaXVtIjpmYWxzZSwiZW1haWwiOiJjcGVyZXpAY2xhcm9pbnN1cmFuY2UuY29tIiwiZW1haWxfdmVyaWZpZWQiOnRydWUsInNzdGFtcCI6Ik5TNUczT080VlJTREVJSkxEWjdORVBRRFFTWU5KUVRRIiwibmFtZSI6IkNsYXJvIEluc3VyYW5jZSIsIm9yZ293bmVyIjoiYmQxZGI2Y2QtOGQwNi00YTNlLThlMTctYWY5NDAxMTY1NmNiIiwiZGV2aWNlIjoiMCIsImp0aSI6IjlCRTMzQjEzMDEzNDZGNkU4NEMyQkM2ODU3MTE4RDkzIiwiaWF0IjoxNjc0NTgxNTQyLCJzY29wZSI6WyJhcGkiXSwiYW1yIjpbIkFwcGxpY2F0aW9uIl19.IQJHYz2RtqQ174RQP83MD8XGpycVd6XnzyxBgW2AnnJdeIhQlFy9kT8bzEizdWrYXkd-NikVJnEwrggQbGzQzC-oB5t-tMTK073y-y3gxsTyNxevmu8O-aly5sXQdqSwYvSLF6lrEpFfKphSJP3tUFKM2FdpIEHkNLcisoEWHxGvmwItgqp7T31hhY4dlcGLt2ftL_AvqdAtF7KsEO_wLKU1UwPqc1eTlv2ecgER1gc9fcEt4kVTTfc0SURTTtyqLY8O-lCnzJLNxCgfpM_ddtubkuZlBKpOUTdQSlRACUkboObLmprB7rwjV_ScRjOffe8MCIn9YCeBfcV9uK7r3vzr4U82cnPFywUL1S0hI_obK436ooTDgdL04-AZ-uSuw09VfMNCdlnrRP2inXaXpDL7cfVc1q62A0H1VildBWVzS2f-KsKo27IIXG5w0LiVUpGwZ2tIBPO7Q0wr4HjKRbwmHRaYleoFUkRVJzHLoAHqxCwv0V7Wa9PDupRjw2wvRaAIVAsZT2iqkO8xPg4dOrMDl8M361UNzCcp9j9iU0KMuCrLBjxepRtGcvH0ifPKXuQYfKJeh8PrUlS3NHGoGpwOERTaMGSS6rERz0AtVKtEj-Rd_YBOcSDB8W0MrKlmPE3RrXhmXPjlPSU1zAGPjuNKf8aJ7cNqgDqf4yqTk9U'"
      ]
     },
     "execution_count": 43,
     "metadata": {},
     "output_type": "execute_result"
    }
   ],
   "source": [
    "headers['Authorization']"
   ]
  },
  {
   "cell_type": "code",
   "execution_count": 49,
   "id": "b5da2643-2eaa-4b33-a53b-e743be46f1fb",
   "metadata": {},
   "outputs": [
    {
     "data": {
      "text/plain": [
       "<Response [400]>"
      ]
     },
     "execution_count": 49,
     "metadata": {},
     "output_type": "execute_result"
    }
   ],
   "source": [
    "requests.get('https://api.bitwarden.com/public/collections', headers=headers)"
   ]
  },
  {
   "cell_type": "code",
   "execution_count": null,
   "id": "b288170d-f347-45c6-9e11-a44d3434cb06",
   "metadata": {},
   "outputs": [],
   "source": [
    "/list/object/items"
   ]
  },
  {
   "cell_type": "code",
   "execution_count": null,
   "id": "11412ab7-55b9-430f-a680-37c31167b421",
   "metadata": {},
   "outputs": [],
   "source": []
  },
  {
   "cell_type": "code",
   "execution_count": 60,
   "id": "d9bc8bf6-f1fe-4c67-b687-ce9a45dcddc1",
   "metadata": {},
   "outputs": [],
   "source": [
    "body = {\n",
    "    \"cid\": 25189461,\n",
    "    \"provhash\": \"6c531cf2ab50e62dd462e02d86236d942d06705f9033eaa1de264b8d19e5f9bc\",\n",
    "    \"cmd\": \"getsfdata\",\n",
    "    \"data\": \"all\"\n",
    "}"
   ]
  },
  {
   "cell_type": "code",
   "execution_count": 52,
   "id": "080768dc-1b3e-4115-af97-2ff2ca3054c4",
   "metadata": {},
   "outputs": [],
   "source": [
    "headers= {\n",
    "    'content-type': 'application/json'\n",
    "}"
   ]
  },
  {
   "cell_type": "code",
   "execution_count": 51,
   "id": "684f1127-4318-4006-ba35-f9c4fe41694e",
   "metadata": {},
   "outputs": [],
   "source": [
    "conten_type = \"application/json\""
   ]
  },
  {
   "cell_type": "code",
   "execution_count": 61,
   "id": "f007bae9-5636-4bbd-9052-8aac6969af8b",
   "metadata": {},
   "outputs": [],
   "source": [
    "r = requests.post(\"https://lastpass.com/enterpriseapi.php\", data=body )"
   ]
  },
  {
   "cell_type": "code",
   "execution_count": 62,
   "id": "33b4fe7b-49a4-4661-b940-6ff6f84ad8d7",
   "metadata": {},
   "outputs": [
    {
     "data": {
      "text/plain": [
       "'{\"497207451\":{\"sharedfoldername\":\"test\",\"deleted\":false,\"score\":0,\"users\":[{\"readonly\":\"0\",\"give\":\"1\",\"can_administer\":\"1\",\"superadmin\":false,\"deletedstatus\":\"0\",\"username\":\"cesararturo2002@gmail.com\"}]},\"497210241\":{\"sharedfoldername\":\"test2\",\"deleted\":false,\"score\":0,\"users\":[{\"readonly\":\"0\",\"give\":\"1\",\"can_administer\":\"1\",\"superadmin\":false,\"deletedstatus\":\"0\",\"username\":\"cesararturo2002@gmail.com\"}]}}'"
      ]
     },
     "execution_count": 62,
     "metadata": {},
     "output_type": "execute_result"
    }
   ],
   "source": [
    "r.text"
   ]
  }
 ],
 "metadata": {
  "kernelspec": {
   "display_name": "Python [conda env:ia]",
   "language": "python",
   "name": "conda-env-ia-py"
  },
  "language_info": {
   "codemirror_mode": {
    "name": "ipython",
    "version": 3
   },
   "file_extension": ".py",
   "mimetype": "text/x-python",
   "name": "python",
   "nbconvert_exporter": "python",
   "pygments_lexer": "ipython3",
   "version": "3.8.8"
  }
 },
 "nbformat": 4,
 "nbformat_minor": 5
}
