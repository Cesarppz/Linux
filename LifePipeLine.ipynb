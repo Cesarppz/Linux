{
 "cells": [
  {
   "cell_type": "code",
   "execution_count": 1,
   "id": "c1241242-32b7-455b-8b6d-8c265b1a8c03",
   "metadata": {},
   "outputs": [],
   "source": [
    "import pandas as pd\n",
    "import numpy as np\n",
    "\n",
    "import traceback\n",
    "import psycopg2\n",
    "\n",
    "from datetime import datetime\n",
    "from datetime import timedelta\n",
    "import os\n",
    "import re \n",
    "\n",
    "from pydrive.auth import GoogleAuth\n",
    "from pydrive.drive import GoogleDrive\n",
    "from oauth2client.client import GoogleCredentials"
   ]
  },
  {
   "cell_type": "code",
   "execution_count": 3,
   "id": "eff04e6c-a68c-4b1e-8693-0bfa935ff102",
   "metadata": {},
   "outputs": [],
   "source": [
    "date = datetime.now().strftime('%d-%m-%Y')"
   ]
  },
  {
   "cell_type": "markdown",
   "id": "8b23b710-755d-46b3-97c4-6ea63f1423cc",
   "metadata": {},
   "source": [
    "# National Life"
   ]
  },
  {
   "cell_type": "markdown",
   "id": "a050ea1d-5c04-406b-8dfc-f9f9a8f14ad0",
   "metadata": {},
   "source": [
    "## Functions"
   ]
  },
  {
   "cell_type": "markdown",
   "id": "8a7c8939-6913-4821-84fa-4e91e33ace46",
   "metadata": {},
   "source": [
    "Función para el separado de los nombres en las columnas Menber First Name y Merber Last Name. Separa los nombres de los apellidos"
   ]
  },
  {
   "cell_type": "code",
   "execution_count": 11,
   "id": "29308e03-516c-43d6-826c-1c89670d658f",
   "metadata": {},
   "outputs": [],
   "source": [
    "def split_names(name:str, first:bool=True, split_by=' ') -> str:\n",
    "    name = name.split(split_by, maxsplit=1)\n",
    "    if first:\n",
    "        return name[0].replace(',','')\n",
    "    return name[1].replace(',','')"
   ]
  },
  {
   "cell_type": "markdown",
   "id": "21f092b0-1252-43bf-bbc9-610da32f28f7",
   "metadata": {},
   "source": [
    "Homologa los status del carrier a los que se usan en el BOB"
   ]
  },
  {
   "cell_type": "code",
   "execution_count": 12,
   "id": "1ebf0f65-b1ff-4de2-b71f-8dcbcdde752a",
   "metadata": {},
   "outputs": [],
   "source": [
    "def replace_status(x):\n",
    "    try:\n",
    "        if 'Pending EFT -' in x:\n",
    "            x = x.split('-')[0].strip()\n",
    "            \n",
    "        replaced_status = df_status[df_status['Status Carrier'] == x]['Status SF'].values[0]\n",
    "        return replaced_status\n",
    "    except IndexError:\n",
    "        return None"
   ]
  },
  {
   "cell_type": "code",
   "execution_count": 18,
   "id": "cb08f0a1-6e8f-4f7f-b2eb-ec541f3f8a97",
   "metadata": {},
   "outputs": [],
   "source": [
    "def extractCarrier(df, carrier_name, carrier_column):\n",
    "    df =  df[df[carrier_column] == carrier_name]\n",
    "    return df"
   ]
  },
  {
   "cell_type": "markdown",
   "id": "0b595957-0988-4fbd-a3b1-a2af96f2f9e5",
   "metadata": {},
   "source": [
    "### Conection"
   ]
  },
  {
   "cell_type": "code",
   "execution_count": 41,
   "id": "7aa06a38-b75a-4a70-a0ae-dc53c1a27335",
   "metadata": {},
   "outputs": [],
   "source": [
    "def start():\n",
    "    connection = psycopg2.connect(dbname = 'Carriers',\n",
    "                    host = '188.166.63.213',\n",
    "                    port = '5432',\n",
    "                    user = 'cperez',\n",
    "                    password = 'srb4o7SlqAIf')\n",
    "\n",
    "    return connection"
   ]
  },
  {
   "cell_type": "markdown",
   "id": "202f4339-7bf7-40b9-bdf9-f4c03a121ceb",
   "metadata": {},
   "source": [
    "Función que se usa para hacer queries a la base de datos"
   ]
  },
  {
   "cell_type": "code",
   "execution_count": 42,
   "id": "c0796001-38e0-45db-a3a4-d3ee2f05f657",
   "metadata": {},
   "outputs": [],
   "source": [
    "def query_db (query):\n",
    "    try:\n",
    "        connection = start()\n",
    "        with connection.cursor() as cursor:\n",
    "            cursor.execute(query)\n",
    "            result = cursor.fetchall()\n",
    "        connection.commit()\n",
    "        return result\n",
    "    except Exception as ex:\n",
    "        traceback.print_exc(ex)\n",
    "    finally:\n",
    "        connection.close()\n",
    "\n",
    "        "
   ]
  },
  {
   "cell_type": "code",
   "execution_count": 43,
   "id": "0788d897-bb3c-4936-a432-3706a33dca30",
   "metadata": {},
   "outputs": [],
   "source": [
    "connection = start()"
   ]
  },
  {
   "cell_type": "markdown",
   "id": "955bfbee-1f23-46b9-8a13-ea340c138d75",
   "metadata": {},
   "source": [
    "### Carga"
   ]
  },
  {
   "cell_type": "markdown",
   "id": "ebeb37c2-73f5-44c6-a26a-5d4db47c9a8e",
   "metadata": {},
   "source": [
    "### BOB"
   ]
  },
  {
   "cell_type": "code",
   "execution_count": 87,
   "id": "93f1aad3-73b8-4faa-b6fc-6468a3f90a52",
   "metadata": {},
   "outputs": [
    {
     "data": {
      "text/html": [
       "<div>\n",
       "<style scoped>\n",
       "    .dataframe tbody tr th:only-of-type {\n",
       "        vertical-align: middle;\n",
       "    }\n",
       "\n",
       "    .dataframe tbody tr th {\n",
       "        vertical-align: top;\n",
       "    }\n",
       "\n",
       "    .dataframe thead th {\n",
       "        text-align: right;\n",
       "    }\n",
       "</style>\n",
       "<table border=\"1\" class=\"dataframe\">\n",
       "  <thead>\n",
       "    <tr style=\"text-align: right;\">\n",
       "      <th></th>\n",
       "      <th>Book of Business: BOB Name</th>\n",
       "      <th>Account Executive Name</th>\n",
       "      <th>Carrier</th>\n",
       "      <th>NPN AOR</th>\n",
       "      <th>Agent AOR</th>\n",
       "      <th>Internal Agent</th>\n",
       "      <th>NPN Internal Agent</th>\n",
       "      <th>Contact</th>\n",
       "      <th>Policy Number</th>\n",
       "      <th>Source</th>\n",
       "      <th>...</th>\n",
       "      <th>Email</th>\n",
       "      <th>Metal Level</th>\n",
       "      <th>Zip Code</th>\n",
       "      <th>Book of Business: Last Modified Date</th>\n",
       "      <th>Note</th>\n",
       "      <th>Claro Type</th>\n",
       "      <th>Previous BOB ID</th>\n",
       "      <th>Carrier State line of Business</th>\n",
       "      <th>Book of Business: ID</th>\n",
       "      <th>Account Executive</th>\n",
       "    </tr>\n",
       "  </thead>\n",
       "  <tbody>\n",
       "    <tr>\n",
       "      <th>0</th>\n",
       "      <td>BOB# 00000001</td>\n",
       "      <td>Miguel Bautista</td>\n",
       "      <td>Molina</td>\n",
       "      <td>1647487.0</td>\n",
       "      <td>Amarilys Perez Lazo</td>\n",
       "      <td>Amarilys  Perez Lazo</td>\n",
       "      <td>1647487.0</td>\n",
       "      <td>Amarilys Perez Lazo</td>\n",
       "      <td>FLE192951620161</td>\n",
       "      <td>Direct</td>\n",
       "      <td>...</td>\n",
       "      <td>NaN</td>\n",
       "      <td>Silver</td>\n",
       "      <td>NaN</td>\n",
       "      <td>12/20/2022</td>\n",
       "      <td>NaN</td>\n",
       "      <td>Renewals</td>\n",
       "      <td>NaN</td>\n",
       "      <td>Molina Florida</td>\n",
       "      <td>a1C1G000007eLyj</td>\n",
       "      <td></td>\n",
       "    </tr>\n",
       "    <tr>\n",
       "      <th>1</th>\n",
       "      <td>BOB# 00000002</td>\n",
       "      <td>Miguel Bautista</td>\n",
       "      <td>Molina</td>\n",
       "      <td>1647487.0</td>\n",
       "      <td>Amarilys Perez Lazo</td>\n",
       "      <td>Amarilys  Perez Lazo</td>\n",
       "      <td>1647487.0</td>\n",
       "      <td>Amarilys Perez Lazo</td>\n",
       "      <td>FLE192921397071</td>\n",
       "      <td>Direct</td>\n",
       "      <td>...</td>\n",
       "      <td>NaN</td>\n",
       "      <td>Bronze</td>\n",
       "      <td>NaN</td>\n",
       "      <td>12/20/2022</td>\n",
       "      <td>NaN</td>\n",
       "      <td>Renewals</td>\n",
       "      <td>NaN</td>\n",
       "      <td>Molina Florida</td>\n",
       "      <td>a1C1G000007eLyk</td>\n",
       "      <td></td>\n",
       "    </tr>\n",
       "    <tr>\n",
       "      <th>2</th>\n",
       "      <td>BOB# 00000003</td>\n",
       "      <td>Miguel Bautista</td>\n",
       "      <td>Molina</td>\n",
       "      <td>1647487.0</td>\n",
       "      <td>AMARILYS PEREZ LAZO</td>\n",
       "      <td>Amarilys  Perez Lazo</td>\n",
       "      <td>1647487.0</td>\n",
       "      <td>Amarilys Perez Lazo</td>\n",
       "      <td>FLE192921385481</td>\n",
       "      <td>Direct</td>\n",
       "      <td>...</td>\n",
       "      <td>NaN</td>\n",
       "      <td>Bronze</td>\n",
       "      <td>NaN</td>\n",
       "      <td>12/20/2022</td>\n",
       "      <td>V-ActualizaciÃ³n 09-01</td>\n",
       "      <td>Renewals</td>\n",
       "      <td>NaN</td>\n",
       "      <td>Molina Florida</td>\n",
       "      <td>a1C1G000007eLyl</td>\n",
       "      <td></td>\n",
       "    </tr>\n",
       "  </tbody>\n",
       "</table>\n",
       "<p>3 rows × 54 columns</p>\n",
       "</div>"
      ],
      "text/plain": [
       "  Book of Business: BOB Name Account Executive Name Carrier    NPN AOR  \\\n",
       "0              BOB# 00000001        Miguel Bautista  Molina  1647487.0   \n",
       "1              BOB# 00000002        Miguel Bautista  Molina  1647487.0   \n",
       "2              BOB# 00000003        Miguel Bautista  Molina  1647487.0   \n",
       "\n",
       "             Agent AOR        Internal Agent  NPN Internal Agent  \\\n",
       "0  Amarilys Perez Lazo  Amarilys  Perez Lazo           1647487.0   \n",
       "1  Amarilys Perez Lazo  Amarilys  Perez Lazo           1647487.0   \n",
       "2  AMARILYS PEREZ LAZO  Amarilys  Perez Lazo           1647487.0   \n",
       "\n",
       "               Contact    Policy Number  Source  ...  Email Metal Level  \\\n",
       "0  Amarilys Perez Lazo  FLE192951620161  Direct  ...    NaN      Silver   \n",
       "1  Amarilys Perez Lazo  FLE192921397071  Direct  ...    NaN      Bronze   \n",
       "2  Amarilys Perez Lazo  FLE192921385481  Direct  ...    NaN      Bronze   \n",
       "\n",
       "  Zip Code Book of Business: Last Modified Date                    Note  \\\n",
       "0      NaN                           12/20/2022                     NaN   \n",
       "1      NaN                           12/20/2022                     NaN   \n",
       "2      NaN                           12/20/2022  V-ActualizaciÃ³n 09-01   \n",
       "\n",
       "  Claro Type Previous BOB ID Carrier State line of Business  \\\n",
       "0   Renewals             NaN                 Molina Florida   \n",
       "1   Renewals             NaN                 Molina Florida   \n",
       "2   Renewals             NaN                 Molina Florida   \n",
       "\n",
       "   Book of Business: ID Account Executive  \n",
       "0       a1C1G000007eLyj                    \n",
       "1       a1C1G000007eLyk                    \n",
       "2       a1C1G000007eLyl                    \n",
       "\n",
       "[3 rows x 54 columns]"
      ]
     },
     "execution_count": 87,
     "metadata": {},
     "output_type": "execute_result"
    }
   ],
   "source": [
    "df_b = pd.read_csv('//mnt/c/Users/cesar/Desktop/claro/bob/report1674816107684.csv', encoding='latin-1', low_memory=False)\n",
    "df_b.head(3)"
   ]
  },
  {
   "cell_type": "code",
   "execution_count": 15,
   "id": "be8c227c-acd0-4ca0-8f04-f443536c79b3",
   "metadata": {},
   "outputs": [],
   "source": [
    "df_a = (pd.read_excel('//mnt/c/Users/cesar/Desktop/claro/life/NationalLife/NLG_AllNewBusinessReport_01262023.xlsx', header=5)\n",
    "                     .dropna(axis='columns', how='all')\n",
    "                     .dropna( how='all'))\n",
    "\n",
    "df_a = df_a.iloc[:-3,:]"
   ]
  },
  {
   "cell_type": "code",
   "execution_count": 16,
   "id": "1eab4c1b-738b-405e-b70b-7ebbc142678c",
   "metadata": {},
   "outputs": [
    {
     "data": {
      "text/html": [
       "<div>\n",
       "<style scoped>\n",
       "    .dataframe tbody tr th:only-of-type {\n",
       "        vertical-align: middle;\n",
       "    }\n",
       "\n",
       "    .dataframe tbody tr th {\n",
       "        vertical-align: top;\n",
       "    }\n",
       "\n",
       "    .dataframe thead th {\n",
       "        text-align: right;\n",
       "    }\n",
       "</style>\n",
       "<table border=\"1\" class=\"dataframe\">\n",
       "  <thead>\n",
       "    <tr style=\"text-align: right;\">\n",
       "      <th></th>\n",
       "      <th>Policy #</th>\n",
       "      <th>Insured / Annuitant</th>\n",
       "      <th>Agent</th>\n",
       "      <th>Status</th>\n",
       "      <th>Delivery</th>\n",
       "      <th>Action</th>\n",
       "      <th>Submitted</th>\n",
       "      <th>Modal Premium</th>\n",
       "      <th>Product</th>\n",
       "      <th>Sent</th>\n",
       "      <th>Owner</th>\n",
       "      <th>Submit Method</th>\n",
       "      <th>Case Manager</th>\n",
       "      <th>AAP*</th>\n",
       "      <th>Agent #</th>\n",
       "      <th>Agency</th>\n",
       "      <th>Company Code</th>\n",
       "    </tr>\n",
       "  </thead>\n",
       "  <tbody>\n",
       "    <tr>\n",
       "      <th>0</th>\n",
       "      <td>LS759986500</td>\n",
       "      <td>Juan Carlos Marquez</td>\n",
       "      <td>VERA MARIA EUGENIA</td>\n",
       "      <td>PENDING</td>\n",
       "      <td>-</td>\n",
       "      <td>[01/25/2023] E-INSPECTION REPORT\\n[01/25/2023]...</td>\n",
       "      <td>01/25/2023</td>\n",
       "      <td>6975</td>\n",
       "      <td>LSW Level Term 30-G</td>\n",
       "      <td>NaN</td>\n",
       "      <td>Juan Carlos Marquez</td>\n",
       "      <td>e-APP</td>\n",
       "      <td>Javier Latigo</td>\n",
       "      <td>6975</td>\n",
       "      <td>4330R</td>\n",
       "      <td>INFINITY MARKETING - 517</td>\n",
       "      <td>LS</td>\n",
       "    </tr>\n",
       "    <tr>\n",
       "      <th>1</th>\n",
       "      <td>LS760016000</td>\n",
       "      <td>Elena Nunez</td>\n",
       "      <td>XIXLOE PINEDA CLAUDIA</td>\n",
       "      <td>PENDING</td>\n",
       "      <td>-</td>\n",
       "      <td>[01/25/2023] DRAFT 1ST PREMIUM</td>\n",
       "      <td>01/25/2023</td>\n",
       "      <td>76.56</td>\n",
       "      <td>LSW Level Term 30-G</td>\n",
       "      <td>NaN</td>\n",
       "      <td>Elena Nunez</td>\n",
       "      <td>e-APP</td>\n",
       "      <td>Amanda Myers</td>\n",
       "      <td>870</td>\n",
       "      <td>5105U</td>\n",
       "      <td>INFINITY MARKETING - 517</td>\n",
       "      <td>LS</td>\n",
       "    </tr>\n",
       "    <tr>\n",
       "      <th>2</th>\n",
       "      <td>LS759991700</td>\n",
       "      <td>Rodriguezcampos, Pedro</td>\n",
       "      <td>VARGAS ESTHER</td>\n",
       "      <td>APPROVED</td>\n",
       "      <td>-</td>\n",
       "      <td>[01/24/2023] DRAFT 1ST PREMIUM\\n[01/24/2023] V...</td>\n",
       "      <td>01/24/2023</td>\n",
       "      <td>113.08</td>\n",
       "      <td>LSW Level Term 30-G</td>\n",
       "      <td>NaN</td>\n",
       "      <td>Pedro Rodriguezcampos</td>\n",
       "      <td>e-APP</td>\n",
       "      <td>Holly Clark</td>\n",
       "      <td>1285</td>\n",
       "      <td>6197T</td>\n",
       "      <td>INFINITY MARKETING - 517</td>\n",
       "      <td>LS</td>\n",
       "    </tr>\n",
       "    <tr>\n",
       "      <th>3</th>\n",
       "      <td>LS141354800</td>\n",
       "      <td>Butler, Kaiden L</td>\n",
       "      <td>BOYKIN ANGELA</td>\n",
       "      <td>PENDING</td>\n",
       "      <td>-</td>\n",
       "      <td>NaN</td>\n",
       "      <td>01/23/2023</td>\n",
       "      <td>60</td>\n",
       "      <td>FlexLife</td>\n",
       "      <td>NaN</td>\n",
       "      <td>Angela Boykin</td>\n",
       "      <td>e-APP</td>\n",
       "      <td>Amanda Myers</td>\n",
       "      <td>149.5</td>\n",
       "      <td>6137U</td>\n",
       "      <td>INFINITY MARKETING - 517</td>\n",
       "      <td>LS</td>\n",
       "    </tr>\n",
       "    <tr>\n",
       "      <th>4</th>\n",
       "      <td>LS759930200</td>\n",
       "      <td>Romero, Jose</td>\n",
       "      <td>RAMIREZ SUQUINO DUNIA</td>\n",
       "      <td>Issued, Pending EFT - 02/04/2023</td>\n",
       "      <td>eDelivery Completed</td>\n",
       "      <td>NaN</td>\n",
       "      <td>01/23/2023</td>\n",
       "      <td>40.22</td>\n",
       "      <td>LSW Level Term 30-G</td>\n",
       "      <td>01/25/2023</td>\n",
       "      <td>Jose Romero</td>\n",
       "      <td>e-APP</td>\n",
       "      <td>Holly Clark</td>\n",
       "      <td>457</td>\n",
       "      <td>5039U</td>\n",
       "      <td>INFINITY MARKETING - 517</td>\n",
       "      <td>LS</td>\n",
       "    </tr>\n",
       "  </tbody>\n",
       "</table>\n",
       "</div>"
      ],
      "text/plain": [
       "      Policy #     Insured / Annuitant                  Agent  \\\n",
       "0  LS759986500     Juan Carlos Marquez     VERA MARIA EUGENIA   \n",
       "1  LS760016000             Elena Nunez  XIXLOE PINEDA CLAUDIA   \n",
       "2  LS759991700  Rodriguezcampos, Pedro          VARGAS ESTHER   \n",
       "3  LS141354800        Butler, Kaiden L          BOYKIN ANGELA   \n",
       "4  LS759930200            Romero, Jose  RAMIREZ SUQUINO DUNIA   \n",
       "\n",
       "                             Status             Delivery  \\\n",
       "0                           PENDING                    -   \n",
       "1                           PENDING                    -   \n",
       "2                          APPROVED                    -   \n",
       "3                           PENDING                    -   \n",
       "4  Issued, Pending EFT - 02/04/2023  eDelivery Completed   \n",
       "\n",
       "                                              Action   Submitted  \\\n",
       "0  [01/25/2023] E-INSPECTION REPORT\\n[01/25/2023]...  01/25/2023   \n",
       "1                     [01/25/2023] DRAFT 1ST PREMIUM  01/25/2023   \n",
       "2  [01/24/2023] DRAFT 1ST PREMIUM\\n[01/24/2023] V...  01/24/2023   \n",
       "3                                                NaN  01/23/2023   \n",
       "4                                                NaN  01/23/2023   \n",
       "\n",
       "  Modal Premium              Product        Sent                  Owner  \\\n",
       "0          6975  LSW Level Term 30-G         NaN    Juan Carlos Marquez   \n",
       "1         76.56  LSW Level Term 30-G         NaN            Elena Nunez   \n",
       "2        113.08  LSW Level Term 30-G         NaN  Pedro Rodriguezcampos   \n",
       "3            60             FlexLife         NaN          Angela Boykin   \n",
       "4         40.22  LSW Level Term 30-G  01/25/2023            Jose Romero   \n",
       "\n",
       "  Submit Method   Case Manager   AAP* Agent #                    Agency  \\\n",
       "0         e-APP  Javier Latigo   6975   4330R  INFINITY MARKETING - 517   \n",
       "1         e-APP   Amanda Myers    870   5105U  INFINITY MARKETING - 517   \n",
       "2         e-APP    Holly Clark   1285   6197T  INFINITY MARKETING - 517   \n",
       "3         e-APP   Amanda Myers  149.5   6137U  INFINITY MARKETING - 517   \n",
       "4         e-APP    Holly Clark    457   5039U  INFINITY MARKETING - 517   \n",
       "\n",
       "  Company Code  \n",
       "0           LS  \n",
       "1           LS  \n",
       "2           LS  \n",
       "3           LS  \n",
       "4           LS  "
      ]
     },
     "execution_count": 16,
     "metadata": {},
     "output_type": "execute_result"
    }
   ],
   "source": [
    "df_a.head()"
   ]
  },
  {
   "cell_type": "markdown",
   "id": "301ca144-360a-4666-84c4-776bb31a1e6d",
   "metadata": {},
   "source": [
    "## Homologación"
   ]
  },
  {
   "cell_type": "code",
   "execution_count": 17,
   "id": "c53fdc07-b4c0-415f-9a87-b239b0d137cd",
   "metadata": {},
   "outputs": [
    {
     "data": {
      "text/plain": [
       "Index(['Policy #', 'Insured / Annuitant', 'Agent', 'Status', 'Delivery',\n",
       "       'Action', 'Submitted', 'Modal Premium', 'Product', 'Sent', 'Owner',\n",
       "       'Submit Method', 'Case Manager', 'AAP*', 'Agent #', 'Agency',\n",
       "       'Company Code'],\n",
       "      dtype='object')"
      ]
     },
     "execution_count": 17,
     "metadata": {},
     "output_type": "execute_result"
    }
   ],
   "source": [
    "df_a.columns"
   ]
  },
  {
   "cell_type": "code",
   "execution_count": 18,
   "id": "e23afc21-0baa-4f7d-8ab5-ccb6d2e7ef8e",
   "metadata": {},
   "outputs": [],
   "source": [
    "df_a = df_a.rename(\n",
    "    columns={\n",
    "        'Policy #':'PolicyNumber',\n",
    "        'Insured / Annuitant':'Insured',\n",
    "        'Agent':'Agent AOR',\n",
    "        'Status':'Status',\n",
    "        'Submitted':'EffectiveDate',\n",
    "        'AAP*': 'FinalPremium',\n",
    "        'Agent #':'AgentNumber'\n",
    "        \n",
    "        \n",
    "    }\n",
    ")"
   ]
  },
  {
   "cell_type": "markdown",
   "id": "0050f467-d01c-4cdf-9c97-0354fd70d093",
   "metadata": {},
   "source": [
    "### Limpiar Policy Number"
   ]
  },
  {
   "cell_type": "markdown",
   "id": "ff1d5d3b-5ae9-4897-9a21-420dd99d8c35",
   "metadata": {},
   "source": [
    "Queitar los prefijos a los policy numbers del carriers"
   ]
  },
  {
   "cell_type": "code",
   "execution_count": 19,
   "id": "8863e8f7-27f8-4c28-bd0e-bcca766e8819",
   "metadata": {},
   "outputs": [],
   "source": [
    "def limpiarPolicyNumber(df, column_name, replace_string:str='LS'):\n",
    "    df = df[column_name].str.replace(replace_string,'')\n",
    "    return df"
   ]
  },
  {
   "cell_type": "code",
   "execution_count": 20,
   "id": "ac05c895-b1ae-4b4a-9866-545a602cc088",
   "metadata": {
    "tags": []
   },
   "outputs": [],
   "source": [
    "df_a['PolicyNumberClean'] = limpiarPolicyNumber(df_a, 'PolicyNumber')"
   ]
  },
  {
   "cell_type": "markdown",
   "id": "351e18fa-878e-4036-b766-0949ecbc2dba",
   "metadata": {},
   "source": [
    "### Extraer las polizas de National Life"
   ]
  },
  {
   "cell_type": "markdown",
   "id": "f6566428-d3a7-448d-845d-40b0579bde24",
   "metadata": {},
   "source": [
    "Extraer carrier"
   ]
  },
  {
   "cell_type": "code",
   "execution_count": 22,
   "id": "e0243ee3-1a60-43b8-95d5-61cbc7217760",
   "metadata": {},
   "outputs": [],
   "source": [
    "df_b = extractCarrier(df_b, 'National Life', 'Carrier')"
   ]
  },
  {
   "cell_type": "markdown",
   "id": "6259a08a-f343-43bb-8569-1c1305d675e2",
   "metadata": {},
   "source": [
    "### Hacer join"
   ]
  },
  {
   "cell_type": "code",
   "execution_count": 23,
   "id": "feaee106-4041-48a3-b651-862042f72511",
   "metadata": {},
   "outputs": [],
   "source": [
    "def leftJoinBOB(new_policies, bob_policies):\n",
    "    upload = list(set(new_policies) - set(bob_policies) )\n",
    "    return upload"
   ]
  },
  {
   "cell_type": "code",
   "execution_count": 24,
   "id": "d96cf03c-9d4f-457d-aa7c-33479851fbbe",
   "metadata": {
    "tags": []
   },
   "outputs": [],
   "source": [
    "upload_a = leftJoinBOB(df_a['PolicyNumberClean'].values, df_b['Policy Number'].values)"
   ]
  },
  {
   "cell_type": "code",
   "execution_count": 25,
   "id": "de529396-836f-43e8-b581-26da067d39b3",
   "metadata": {},
   "outputs": [],
   "source": [
    "upload_b = leftJoinBOB(df_a['PolicyNumber'].values, df_b['Policy Number'].values)"
   ]
  },
  {
   "cell_type": "code",
   "execution_count": 26,
   "id": "66193c64-3dd9-4a4d-ac47-91eb2728bf38",
   "metadata": {},
   "outputs": [],
   "source": [
    "upload = set(upload_a + [i.replace('LS', '') for i in upload_b])"
   ]
  },
  {
   "cell_type": "code",
   "execution_count": 27,
   "id": "faa8e4af-d3fa-4f3e-9f8a-1d76fc297dab",
   "metadata": {},
   "outputs": [],
   "source": [
    "df_upload = df_a[df_a['PolicyNumberClean'].isin(upload)]"
   ]
  },
  {
   "cell_type": "markdown",
   "id": "bfc399ee-8cea-4923-9645-17b09411309d",
   "metadata": {},
   "source": [
    "### Upload into template"
   ]
  },
  {
   "cell_type": "code",
   "execution_count": 28,
   "id": "dacf1513-f518-40cf-8d22-f63c12209446",
   "metadata": {},
   "outputs": [],
   "source": [
    "df_upload.reset_index(drop=True, inplace=True)"
   ]
  },
  {
   "cell_type": "code",
   "execution_count": 29,
   "id": "f93bdb28-27b4-4ff7-a75d-1bd37b817c04",
   "metadata": {},
   "outputs": [],
   "source": [
    "df_template = pd.read_csv('//mnt/c/Users/cesar/Desktop/claro/Format_Create_BOB.csv').head(0)"
   ]
  },
  {
   "cell_type": "code",
   "execution_count": 30,
   "id": "2a9e7117-090d-48e9-8091-2b4adb56e0e7",
   "metadata": {},
   "outputs": [
    {
     "data": {
      "text/html": [
       "<div>\n",
       "<style scoped>\n",
       "    .dataframe tbody tr th:only-of-type {\n",
       "        vertical-align: middle;\n",
       "    }\n",
       "\n",
       "    .dataframe tbody tr th {\n",
       "        vertical-align: top;\n",
       "    }\n",
       "\n",
       "    .dataframe thead th {\n",
       "        text-align: right;\n",
       "    }\n",
       "</style>\n",
       "<table border=\"1\" class=\"dataframe\">\n",
       "  <thead>\n",
       "    <tr style=\"text-align: right;\">\n",
       "      <th></th>\n",
       "      <th>Carrier___</th>\n",
       "      <th>LOB____</th>\n",
       "      <th>Carrier</th>\n",
       "      <th>Agent AOR</th>\n",
       "      <th>NPN AOR</th>\n",
       "      <th>Contact____</th>\n",
       "      <th>NPN_Internal____</th>\n",
       "      <th>Contact</th>\n",
       "      <th>Policy Number</th>\n",
       "      <th>Source</th>\n",
       "      <th>...</th>\n",
       "      <th>Subsidy</th>\n",
       "      <th>Annual Premium</th>\n",
       "      <th>Paid Thru Date</th>\n",
       "      <th>Days Past Due</th>\n",
       "      <th>Phone Number</th>\n",
       "      <th>Email</th>\n",
       "      <th>Metal Level</th>\n",
       "      <th>Zip Code</th>\n",
       "      <th>Claro Type</th>\n",
       "      <th>Carrier State line of Business</th>\n",
       "    </tr>\n",
       "  </thead>\n",
       "  <tbody>\n",
       "  </tbody>\n",
       "</table>\n",
       "<p>0 rows × 40 columns</p>\n",
       "</div>"
      ],
      "text/plain": [
       "Empty DataFrame\n",
       "Columns: [Carrier___, LOB____, Carrier, Agent AOR, NPN AOR, Contact____, NPN_Internal____, Contact, Policy Number, Source, Referrals_____, Referrals Id, Status, Effective Date, Transaction Date, Policy Term Date, Member First Name, Member Last Name, DOB, State, County, City, Members, Policy Type, Last Status Modification Date, Loading Date, Record Type Id, Plan, Election Period, Final Premium, Subsidy, Annual Premium, Paid Thru Date, Days Past Due, Phone Number, Email, Metal Level, Zip Code, Claro Type, Carrier State line of Business]\n",
       "Index: []\n",
       "\n",
       "[0 rows x 40 columns]"
      ]
     },
     "execution_count": 30,
     "metadata": {},
     "output_type": "execute_result"
    }
   ],
   "source": [
    "df_template"
   ]
  },
  {
   "cell_type": "code",
   "execution_count": 31,
   "id": "35da38cb-1dc6-4fee-a41d-b701f6695221",
   "metadata": {},
   "outputs": [],
   "source": [
    "df_template['Member First Name'] = df_upload['Insured'].apply(lambda x : split_names(x, first=False))"
   ]
  },
  {
   "cell_type": "code",
   "execution_count": 32,
   "id": "c7d05805-6aaf-47c2-b2f9-a7b213275a7c",
   "metadata": {},
   "outputs": [],
   "source": [
    "df_template['Member Last Name'] = df_upload['Insured'].apply(lambda x : split_names(x))"
   ]
  },
  {
   "cell_type": "code",
   "execution_count": 33,
   "id": "8f59d754-b507-4e8e-9d4a-3ed808030982",
   "metadata": {},
   "outputs": [],
   "source": [
    "df_template.reset_index(drop=True, inplace=True)"
   ]
  },
  {
   "cell_type": "code",
   "execution_count": 34,
   "id": "fb8595d0-bd80-479a-8eb9-aab5eb14219e",
   "metadata": {},
   "outputs": [],
   "source": [
    "df_template['Policy Number'] = df_upload['PolicyNumberClean']"
   ]
  },
  {
   "cell_type": "code",
   "execution_count": 35,
   "id": "5939ac74-bae8-4d3d-8ff4-002add9708d4",
   "metadata": {},
   "outputs": [],
   "source": [
    "df_template['Final Premium'] = df_upload['FinalPremium']"
   ]
  },
  {
   "cell_type": "code",
   "execution_count": 36,
   "id": "188c66d4-1221-44ba-bb19-80c6df9e4da1",
   "metadata": {},
   "outputs": [],
   "source": [
    "df_template['Plan'] = df_upload['Product']"
   ]
  },
  {
   "cell_type": "code",
   "execution_count": 37,
   "id": "9b14925d-d7ea-4aab-bc61-3c9c335c9904",
   "metadata": {},
   "outputs": [],
   "source": [
    "df_template['Agent AOR'] = df_upload['Agent AOR']"
   ]
  },
  {
   "cell_type": "code",
   "execution_count": 38,
   "id": "07edc474-f18f-46f9-aaf7-6c1be5b8f64c",
   "metadata": {},
   "outputs": [],
   "source": [
    "df_template['Effective Date'] = df_upload['EffectiveDate']"
   ]
  },
  {
   "cell_type": "code",
   "execution_count": 39,
   "id": "96a3d093-c83a-4dde-ab1d-e2dcf9523504",
   "metadata": {},
   "outputs": [],
   "source": [
    "df_template['LOB____'] = 'Life'"
   ]
  },
  {
   "cell_type": "markdown",
   "id": "0f0d993f-700b-4fe4-a9c2-d075524fa359",
   "metadata": {},
   "source": [
    "#### Source"
   ]
  },
  {
   "cell_type": "markdown",
   "id": "5ba29fe2-d138-4cfa-8e05-e1748823d32f",
   "metadata": {},
   "source": [
    "Dependiendo si el npn se encuentra en la lista de npn´s referenciales, el source va a ser directo (En caso de que no se encuentre), o referencial"
   ]
  },
  {
   "cell_type": "code",
   "execution_count": 40,
   "id": "5ba7afbe-691f-47e8-87e4-5f7bbc2b96a9",
   "metadata": {},
   "outputs": [],
   "source": [
    "def assign_source(referal_agents:list, df_template, column_agent_numbers:str, df_upload) -> pd.DataFrame:\n",
    "    df_s = df_template.copy()\n",
    "    mask_s = df_upload[column_agent_numbers].isin(referal_agents)\n",
    "    \n",
    "    df_s.loc[mask_s,  'Source'] = 'Referal'\n",
    "    df_s.loc[~mask_s, 'Source'] = 'Direct'\n",
    "    \n",
    "    return df_s"
   ]
  },
  {
   "cell_type": "code",
   "execution_count": 41,
   "id": "8885063a-de75-4493-982d-b701c36f9aea",
   "metadata": {},
   "outputs": [],
   "source": [
    "def getSource(query,connection, df_template, df_upload, column_agent_numbers='AgentNumber') -> pd.DataFrame:\n",
    "    referal_agents = [i[0] for i in query_db(query)]\n",
    "    referal_list_agents = list(set(referal_agents).intersection(set(df_upload[column_agent_numbers].values)))\n",
    "    \n",
    "    df = assign_source(referal_list_agents, df_template, column_agent_numbers, df_upload)\n",
    "    return df"
   ]
  },
  {
   "cell_type": "code",
   "execution_count": 42,
   "id": "cad78d33-4d03-4f31-99cd-e0fb24f4ad00",
   "metadata": {
    "tags": []
   },
   "outputs": [],
   "source": [
    "npn_referals = [18233171, 7388594, 19603471, 18522178, 19106367, 16001347, 10041154, 20462802, 17686050]\n",
    "\n",
    "npn_referals = str([str(i)  for i in npn_referals]).replace('[', '').replace(']','')\n"
   ]
  },
  {
   "cell_type": "code",
   "execution_count": 43,
   "id": "1c6e7907-0f1a-41f0-b386-a6057458ba41",
   "metadata": {},
   "outputs": [],
   "source": [
    "query_referals_agents = \"\"\"\n",
    "    SELECT agent_writing_number\n",
    "    FROM agent_contract \n",
    "    WHERE npn in ({list_refarals}) ;\n",
    "\"\"\".format(list_refarals=npn_referals)"
   ]
  },
  {
   "cell_type": "code",
   "execution_count": 44,
   "id": "0f897773-7cb9-4adf-9384-2af3020031cf",
   "metadata": {
    "tags": []
   },
   "outputs": [],
   "source": [
    "df_template = getSource(query_referals_agents, connection, df_template, df_upload)"
   ]
  },
  {
   "cell_type": "markdown",
   "id": "25e849e5-a0c8-4c65-8c56-3418dea6e60b",
   "metadata": {},
   "source": [
    "#### Mermbers"
   ]
  },
  {
   "cell_type": "markdown",
   "id": "59ee0c5a-d932-465d-a6b3-cc487c10f5bd",
   "metadata": {},
   "source": [
    "Siempre es uno"
   ]
  },
  {
   "cell_type": "code",
   "execution_count": 45,
   "id": "c6926e24-aee3-4856-aba8-4db651658172",
   "metadata": {},
   "outputs": [],
   "source": [
    "df_template['Members'] = 1"
   ]
  },
  {
   "cell_type": "markdown",
   "id": "e1a3926a-e07e-461d-a51a-a5ca117472c5",
   "metadata": {},
   "source": [
    "#### State"
   ]
  },
  {
   "cell_type": "markdown",
   "id": "c70759df-8c46-43ad-ac14-9394594a1612",
   "metadata": {},
   "source": [
    "Siempre es Florida"
   ]
  },
  {
   "cell_type": "code",
   "execution_count": 46,
   "id": "ce010d62-f05b-41e7-93f3-758ad2855026",
   "metadata": {},
   "outputs": [],
   "source": [
    "df_template['State'] = 'FL'"
   ]
  },
  {
   "cell_type": "markdown",
   "id": "d884d558-c62a-4a4d-89fc-92040f2cccad",
   "metadata": {},
   "source": [
    "#### Record Type"
   ]
  },
  {
   "cell_type": "markdown",
   "id": "8ad26e72-be53-4dfe-a317-c38c8d7bd06b",
   "metadata": {},
   "source": [
    "Si la poliza es de Jose m Parra, el record types es Direct Sales, de lo contrario es BOB"
   ]
  },
  {
   "cell_type": "code",
   "execution_count": 47,
   "id": "97915383-41d8-4001-8d74-b9cc421bcf9c",
   "metadata": {},
   "outputs": [],
   "source": [
    "def recordType(df_upload, df_template, column_name='Record Type Id', column_agent='AgentNumber'):\n",
    "    \n",
    "    record_types = dict(query_db(query_record_type))\n",
    "    agent_writing_number = query_db(query_awn_jose_m)\n",
    "    agent_writing_number_jose_m = [i[0] for i in agent_writing_number]\n",
    "    \n",
    "#     jose_m_parra_awn_in_df = list(set(agent_writing_number).intersection(set(df_upload[column_agent].values)))\n",
    "    others_awn = list(set(df_upload[column_agent].values) - set(agent_writing_number_jose_m))\n",
    "    \n",
    "    df_r = df_template.copy()\n",
    "    mask = df_upload[column_agent].isin(others_awn)\n",
    "    df_r.loc[mask, column_name] = record_types['BOB']\n",
    "    df_r.loc[~mask, column_name] = record_types['Direct Sales']\n",
    "    \n",
    "    return df_r"
   ]
  },
  {
   "cell_type": "code",
   "execution_count": 48,
   "id": "6239d644-e47f-4ce4-ba13-85be03004dbb",
   "metadata": {},
   "outputs": [],
   "source": [
    "query_record_type = \"\"\"\n",
    "    SELECT record_type, id  FROM record_type rt ;\n",
    "\"\"\""
   ]
  },
  {
   "cell_type": "code",
   "execution_count": null,
   "id": "99f0a515-7c06-4bb7-a0d1-b595f1dbf5c3",
   "metadata": {},
   "outputs": [],
   "source": [
    "query_awn_jose_m = \"\"\"\n",
    "    SELECT agent_writing_number\n",
    "    FROM agent_contract \n",
    "    WHERE npn = '17795437'\n",
    "    ;\n",
    "\"\"\""
   ]
  },
  {
   "cell_type": "code",
   "execution_count": 50,
   "id": "aa8440eb-22bb-454a-9e5a-fae0d3f75a6a",
   "metadata": {},
   "outputs": [],
   "source": [
    "df_template = recordType(df_upload, df_template)"
   ]
  },
  {
   "cell_type": "markdown",
   "id": "0190144f-0677-4dd3-8fd4-96477b02f3f1",
   "metadata": {},
   "source": [
    "#### Carrier"
   ]
  },
  {
   "cell_type": "code",
   "execution_count": 51,
   "id": "125d1408-e0cf-477e-a0b8-4bdaba833b93",
   "metadata": {},
   "outputs": [],
   "source": [
    "query_carrier_id = \"\"\"\n",
    "    SELECT carrier_id  \n",
    "    FROM carrier c \n",
    "    WHERE carrier = '{carrier_name}' and state_c = '{carrier_state}'\n",
    "    ;\n",
    "\"\"\".format(carrier_name= df_b['Carrier'].unique()[0], carrier_state=df_template['State'].unique()[0])\n",
    "\n",
    "carrier_id = query_db(query_carrier_id)[0][0]\n",
    "\n",
    "df_template['Carrier'] =  carrier_id"
   ]
  },
  {
   "cell_type": "markdown",
   "id": "bfd6d45c-3212-42fe-8768-16079795daf6",
   "metadata": {},
   "source": [
    "#### Status"
   ]
  },
  {
   "cell_type": "markdown",
   "id": "10c1fa7e-73c1-4a24-9b72-aa98062daa9f",
   "metadata": {},
   "source": [
    "Se homologa la columnas de carrier a las del BOB"
   ]
  },
  {
   "cell_type": "code",
   "execution_count": 52,
   "id": "cb497434-1967-412f-b1b4-a56ef0afa70f",
   "metadata": {},
   "outputs": [
    {
     "data": {
      "text/html": [
       "<div>\n",
       "<style scoped>\n",
       "    .dataframe tbody tr th:only-of-type {\n",
       "        vertical-align: middle;\n",
       "    }\n",
       "\n",
       "    .dataframe tbody tr th {\n",
       "        vertical-align: top;\n",
       "    }\n",
       "\n",
       "    .dataframe thead th {\n",
       "        text-align: right;\n",
       "    }\n",
       "</style>\n",
       "<table border=\"1\" class=\"dataframe\">\n",
       "  <thead>\n",
       "    <tr style=\"text-align: right;\">\n",
       "      <th></th>\n",
       "      <th>Status Carrier</th>\n",
       "      <th>Status SF</th>\n",
       "    </tr>\n",
       "  </thead>\n",
       "  <tbody>\n",
       "    <tr>\n",
       "      <th>0</th>\n",
       "      <td>Active</td>\n",
       "      <td>Active</td>\n",
       "    </tr>\n",
       "    <tr>\n",
       "      <th>1</th>\n",
       "      <td>APPROVED</td>\n",
       "      <td>Approved</td>\n",
       "    </tr>\n",
       "    <tr>\n",
       "      <th>2</th>\n",
       "      <td>Approved/Admin Review</td>\n",
       "      <td>Approved</td>\n",
       "    </tr>\n",
       "  </tbody>\n",
       "</table>\n",
       "</div>"
      ],
      "text/plain": [
       "          Status Carrier Status SF\n",
       "0                 Active    Active\n",
       "1               APPROVED  Approved\n",
       "2  Approved/Admin Review  Approved"
      ]
     },
     "execution_count": 52,
     "metadata": {},
     "output_type": "execute_result"
    }
   ],
   "source": [
    "df_status = pd.read_excel('/mnt/c/Users/cesar/Desktop/claro/life/Lista Status Life.xlsx')\n",
    "df_status.head(3)"
   ]
  },
  {
   "cell_type": "code",
   "execution_count": 53,
   "id": "0851c7b8-bb8e-4694-a4f2-5cb509178abe",
   "metadata": {},
   "outputs": [],
   "source": [
    "df_template['Status'] = df_upload['Status'].apply(lambda x :replace_status(x) )"
   ]
  },
  {
   "cell_type": "markdown",
   "id": "f53e619f-ab2d-47bd-bf31-a7fef4259588",
   "metadata": {},
   "source": [
    "#### Policy Type"
   ]
  },
  {
   "cell_type": "markdown",
   "id": "a7456e93-eec8-4a53-bb75-cacd9a61780e",
   "metadata": {},
   "source": [
    "Si la poliza tiene más de 365 días y es renewal"
   ]
  },
  {
   "cell_type": "code",
   "execution_count": 54,
   "id": "5ddeebd1-8198-497e-945c-b74817dad983",
   "metadata": {},
   "outputs": [],
   "source": [
    "def compare_years_policy(x): \n",
    "    one_year_ago = datetime.now() - timedelta(days=365)\n",
    "    if one_year_ago >= x:\n",
    "        return 'Renewal'\n",
    "    return 'New Sale'"
   ]
  },
  {
   "cell_type": "code",
   "execution_count": 55,
   "id": "34e82b2d-3494-41b3-b64d-89d8a53ecf8b",
   "metadata": {},
   "outputs": [],
   "source": [
    "df_template['Policy Type'] = pd.to_datetime(df_upload['EffectiveDate']).agg(compare_years_policy)"
   ]
  },
  {
   "cell_type": "markdown",
   "id": "7ada2c69-d93c-44b5-9046-e48790774726",
   "metadata": {},
   "source": [
    "#### Claro Type"
   ]
  },
  {
   "cell_type": "code",
   "execution_count": 56,
   "id": "edd08567-5034-471c-82af-1e7bff4a2ceb",
   "metadata": {},
   "outputs": [],
   "source": [
    "df_template['Claro Type'] = 'New Sale'"
   ]
  },
  {
   "cell_type": "markdown",
   "id": "d12307f0-2e37-4dbd-8652-a60338a2b612",
   "metadata": {},
   "source": [
    "#### Last Status"
   ]
  },
  {
   "cell_type": "code",
   "execution_count": 57,
   "id": "15c7338c-23d6-4cd2-9837-f32ca6d3bd70",
   "metadata": {},
   "outputs": [],
   "source": [
    "df_template['Last Status Modification Date'] = date"
   ]
  },
  {
   "cell_type": "markdown",
   "id": "478ffecb-6b71-404c-84df-d62d14c2f56a",
   "metadata": {},
   "source": [
    "#### Loading Date"
   ]
  },
  {
   "cell_type": "code",
   "execution_count": 58,
   "id": "59c19593-1dc3-4785-9c23-5e22a95e04f3",
   "metadata": {},
   "outputs": [],
   "source": [
    "df_template['Loading Date'] = date"
   ]
  },
  {
   "cell_type": "markdown",
   "id": "00c3acae-0005-491d-99a6-9ac715fe2a7e",
   "metadata": {},
   "source": [
    "#### NPN AOR"
   ]
  },
  {
   "cell_type": "markdown",
   "id": "4bfb28e7-bafc-406c-8094-94fc2c3d437a",
   "metadata": {},
   "source": [
    "De base de datos se extrae el npn del agente"
   ]
  },
  {
   "cell_type": "code",
   "execution_count": 59,
   "id": "8cac65bc-a369-4cb7-b49b-337b49f71304",
   "metadata": {},
   "outputs": [],
   "source": [
    "query_agent_AOR = \"\"\"\n",
    "    SELECT contact, npn, agent_writing_number, id\n",
    "    FROM agent_contract\n",
    "    ;\n",
    "\"\"\""
   ]
  },
  {
   "cell_type": "code",
   "execution_count": 60,
   "id": "978b07ab-9f9f-4a00-9f1e-0e7d22afdcce",
   "metadata": {},
   "outputs": [],
   "source": [
    "def extract_agent_aor(x, df_contact, column_name='NPN'):\n",
    "    result = df_contact[df_contact['AgentWritingNumber'] == x][column_name].unique()\n",
    "    assert len(result) < 2, 'Error Data Duplicada en el campo de la base de datos NPN'\n",
    "    \n",
    "    if len(result) > 0:\n",
    "        return result[0]\n",
    "    return None"
   ]
  },
  {
   "cell_type": "code",
   "execution_count": 61,
   "id": "e8b69b52-c8b1-4209-9f2c-b89aad347ca4",
   "metadata": {},
   "outputs": [],
   "source": [
    "def npnAOR(query_agent_AOR,connection, agent_number_colunm_name='AgentNumber'):\n",
    "    list_contact = query_db(query_agent_AOR)\n",
    "    df_contact = pd.DataFrame([{'Contact Name':i[0], 'NPN':i[1], 'AgentWritingNumber':i[2], 'Contact ID':i[3]} for i in list_contact])\n",
    "    \n",
    "    \n",
    "    df_template['NPN AOR'] = df_upload[agent_number_colunm_name].apply(lambda x : extract_agent_aor(x, df_contact))\n",
    "    df_template['Contact'] = df_upload[agent_number_colunm_name].apply(lambda x : extract_agent_aor(x, df_contact, 'Contact ID'))\n",
    "    return df_template, df_contact"
   ]
  },
  {
   "cell_type": "code",
   "execution_count": 62,
   "id": "1c1f6c2d-c7a0-4483-aa40-8e9388ffbabb",
   "metadata": {},
   "outputs": [],
   "source": [
    "df_template, df_contact = npnAOR(query_agent_AOR, connection)"
   ]
  },
  {
   "cell_type": "markdown",
   "id": "984ee360-5a4b-4f72-9336-928ff4af55b9",
   "metadata": {},
   "source": [
    "#### Contact ID"
   ]
  },
  {
   "cell_type": "code",
   "execution_count": 63,
   "id": "ab6f7c31-4e89-4a5d-a393-7d836477758a",
   "metadata": {},
   "outputs": [],
   "source": [
    "# def extract_contact_id(x, df_contact):\n",
    "#     result = df_contact[df_contact['AgentWritingNumber'] == x]['Contact ID'].unique()\n",
    "#     assert len(result) < 2, 'Error Data Duplicada en el campo de la base de datos NPN'\n",
    "    \n",
    "#     if len(result) > 0:\n",
    "#         return result[0]\n",
    "#     return None"
   ]
  },
  {
   "cell_type": "code",
   "execution_count": 64,
   "id": "361e2398-22c6-4144-9a2f-49611f0d670c",
   "metadata": {
    "tags": []
   },
   "outputs": [],
   "source": [
    "# df_template['Contact ID'] = df_upload['AgentNumber'].apply(lambda x : extract_contact_id(x, df_contact))"
   ]
  },
  {
   "cell_type": "markdown",
   "id": "731f012b-2864-46af-9184-091bb772ac43",
   "metadata": {},
   "source": [
    "#### Carrier State Line of Business"
   ]
  },
  {
   "cell_type": "markdown",
   "id": "de870706-d476-4ca4-9ee7-cc48e6a89c5a",
   "metadata": {},
   "source": [
    "De base de datos de extrae el id del carrier state line of business"
   ]
  },
  {
   "cell_type": "code",
   "execution_count": 65,
   "id": "b46ac67d-8321-4c43-9f91-6b890275cac9",
   "metadata": {},
   "outputs": [],
   "source": [
    "query_cslb = \"\"\"\n",
    "    select carrier_lob_id \n",
    "    from carrier c\n",
    "    where carrier_id = '{carrier_id}' and state_c = '{state}';\n",
    "\"\"\""
   ]
  },
  {
   "cell_type": "code",
   "execution_count": 66,
   "id": "e1d079a8-e0dd-4d1c-99b4-51e138dbf058",
   "metadata": {},
   "outputs": [],
   "source": [
    "def making_query_cslb(df_template, query_cslb):\n",
    "    carrier = df_template['Carrier'].unique()\n",
    "    state = df_template.State.unique()\n",
    "    \n",
    "    assert (len(carrier) == 1) and (len(state) == 1), 'Error en la integridad de los datos.'\n",
    "    \n",
    "    query_cslb = query_cslb.format(carrier_id=carrier[0], state=state[0])\n",
    "    value = query_db(query_cslb)[0][0]\n",
    "    return value"
   ]
  },
  {
   "cell_type": "code",
   "execution_count": 67,
   "id": "dbea48a6-2f31-43a9-9df2-fa664d7e3dc8",
   "metadata": {},
   "outputs": [],
   "source": [
    "def extract_cslb(df_template, query_cslb):\n",
    "    cslb = making_query_cslb(df_template, query_cslb)\n",
    "    df_template['Carrier State line of Business'] = cslb\n",
    "    \n",
    "    return df_template"
   ]
  },
  {
   "cell_type": "code",
   "execution_count": 68,
   "id": "bbc08225-1901-485f-aac3-2b7dd136c6be",
   "metadata": {},
   "outputs": [],
   "source": [
    "df_template = extract_cslb(df_template, query_cslb)"
   ]
  },
  {
   "cell_type": "markdown",
   "id": "ec4ed042-66ec-4ac5-abcc-4989ce060c2a",
   "metadata": {},
   "source": [
    "## Time"
   ]
  },
  {
   "cell_type": "code",
   "execution_count": 69,
   "id": "68ecf063-6e71-4731-bb11-b4ee30f0c198",
   "metadata": {},
   "outputs": [],
   "source": [
    "df_template = df_template[['Agent AOR','NPN AOR', 'Contact', 'Carrier', 'State','Policy Number', 'Policy Type', 'Claro Type','Record Type Id', 'Carrier State line of Business','Source', 'Status', 'Effective Date',\n",
    "            'Plan','Members', 'Last Status Modification Date', 'Loading Date',  'Final Premium','Member First Name', 'Member Last Name'\n",
    "            ]]"
   ]
  },
  {
   "cell_type": "code",
   "execution_count": 70,
   "id": "16818ff5-0cb2-49b5-b40e-5dd1d26f88bb",
   "metadata": {},
   "outputs": [],
   "source": [
    "df_times = df_template.copy()\n",
    "df_times[['Last Status Modification Date', 'Loading Date']] = df_template[['Last Status Modification Date', 'Loading Date']].apply(lambda x : pd.to_datetime(x, format='%d-%m-%Y').dt.strftime('%m/%d/%Y'), axis='columns')\n",
    "df_template = df_times"
   ]
  },
  {
   "cell_type": "markdown",
   "id": "c0b4e0a6-1397-498d-a2d4-2f5ecf3c7d4b",
   "metadata": {},
   "source": [
    "### Faltantes "
   ]
  },
  {
   "cell_type": "code",
   "execution_count": 78,
   "id": "44601e51-eb3b-481a-bf2f-a3fa8716d260",
   "metadata": {},
   "outputs": [],
   "source": [
    "df_faltantes = df_template[df_template['Contact'].isna()]"
   ]
  },
  {
   "cell_type": "code",
   "execution_count": 79,
   "id": "9d0a6da3-f284-40e1-addf-e7a33d0fe7ad",
   "metadata": {},
   "outputs": [
    {
     "data": {
      "text/html": [
       "<div>\n",
       "<style scoped>\n",
       "    .dataframe tbody tr th:only-of-type {\n",
       "        vertical-align: middle;\n",
       "    }\n",
       "\n",
       "    .dataframe tbody tr th {\n",
       "        vertical-align: top;\n",
       "    }\n",
       "\n",
       "    .dataframe thead th {\n",
       "        text-align: right;\n",
       "    }\n",
       "</style>\n",
       "<table border=\"1\" class=\"dataframe\">\n",
       "  <thead>\n",
       "    <tr style=\"text-align: right;\">\n",
       "      <th></th>\n",
       "      <th>Agent AOR</th>\n",
       "      <th>NPN AOR</th>\n",
       "      <th>Contact</th>\n",
       "      <th>Carrier</th>\n",
       "      <th>State</th>\n",
       "      <th>Policy Number</th>\n",
       "      <th>Policy Type</th>\n",
       "      <th>Claro Type</th>\n",
       "      <th>Record Type Id</th>\n",
       "      <th>Carrier State line of Business</th>\n",
       "      <th>Source</th>\n",
       "      <th>Status</th>\n",
       "      <th>Effective Date</th>\n",
       "      <th>Plan</th>\n",
       "      <th>Members</th>\n",
       "      <th>Last Status Modification Date</th>\n",
       "      <th>Loading Date</th>\n",
       "      <th>Final Premium</th>\n",
       "      <th>Member First Name</th>\n",
       "      <th>Member Last Name</th>\n",
       "    </tr>\n",
       "  </thead>\n",
       "  <tbody>\n",
       "  </tbody>\n",
       "</table>\n",
       "</div>"
      ],
      "text/plain": [
       "Empty DataFrame\n",
       "Columns: [Agent AOR, NPN AOR, Contact, Carrier, State, Policy Number, Policy Type, Claro Type, Record Type Id, Carrier State line of Business, Source, Status, Effective Date, Plan, Members, Last Status Modification Date, Loading Date, Final Premium, Member First Name, Member Last Name]\n",
       "Index: []"
      ]
     },
     "execution_count": 79,
     "metadata": {},
     "output_type": "execute_result"
    }
   ],
   "source": [
    "df_faltantes"
   ]
  },
  {
   "cell_type": "code",
   "execution_count": 73,
   "id": "99d0ceb2-db59-4b43-abdd-8e4b6ad5e1aa",
   "metadata": {},
   "outputs": [],
   "source": [
    "def iterpolate(df, name, new_fields):\n",
    "    df_t = df.copy()\n",
    "    df_t.loc[df['Agent AOR'] == name, ['NPN AOR', 'Contact']] = new_fields\n",
    "    return df_t"
   ]
  },
  {
   "cell_type": "code",
   "execution_count": 158,
   "id": "e36e08bd-9e73-44d7-b91c-1146219ace02",
   "metadata": {},
   "outputs": [
    {
     "data": {
      "text/html": [
       "<div>\n",
       "<style scoped>\n",
       "    .dataframe tbody tr th:only-of-type {\n",
       "        vertical-align: middle;\n",
       "    }\n",
       "\n",
       "    .dataframe tbody tr th {\n",
       "        vertical-align: top;\n",
       "    }\n",
       "\n",
       "    .dataframe thead th {\n",
       "        text-align: right;\n",
       "    }\n",
       "</style>\n",
       "<table border=\"1\" class=\"dataframe\">\n",
       "  <thead>\n",
       "    <tr style=\"text-align: right;\">\n",
       "      <th></th>\n",
       "      <th>Agent AOR</th>\n",
       "      <th>NPN AOR</th>\n",
       "      <th>Contact</th>\n",
       "      <th>Carrier</th>\n",
       "      <th>State</th>\n",
       "      <th>Policy Number</th>\n",
       "      <th>Policy Type</th>\n",
       "      <th>Claro Type</th>\n",
       "      <th>Record Type Id</th>\n",
       "      <th>Carrier State line of Business</th>\n",
       "      <th>Source</th>\n",
       "      <th>Status</th>\n",
       "      <th>Effective Date</th>\n",
       "      <th>Plan</th>\n",
       "      <th>Members</th>\n",
       "      <th>Last Status Modification Date</th>\n",
       "      <th>Loading Date</th>\n",
       "      <th>Final Premium</th>\n",
       "      <th>Member First Name</th>\n",
       "      <th>Member Last Name</th>\n",
       "    </tr>\n",
       "  </thead>\n",
       "  <tbody>\n",
       "  </tbody>\n",
       "</table>\n",
       "</div>"
      ],
      "text/plain": [
       "Empty DataFrame\n",
       "Columns: [Agent AOR, NPN AOR, Contact, Carrier, State, Policy Number, Policy Type, Claro Type, Record Type Id, Carrier State line of Business, Source, Status, Effective Date, Plan, Members, Last Status Modification Date, Loading Date, Final Premium, Member First Name, Member Last Name]\n",
       "Index: []"
      ]
     },
     "execution_count": 158,
     "metadata": {},
     "output_type": "execute_result"
    }
   ],
   "source": [
    "df_faltantes"
   ]
  },
  {
   "cell_type": "markdown",
   "id": "418dc55a-eeff-4d9f-9094-59f01ea9f6eb",
   "metadata": {},
   "source": [
    "## Interpolacion"
   ]
  },
  {
   "cell_type": "code",
   "execution_count": 74,
   "id": "4e84a309-c1e3-4a69-b2e3-28c9ce9f576e",
   "metadata": {},
   "outputs": [],
   "source": [
    "df_template = iterpolate(df_template, 'RAMIREZ SUQUINO DUNIA',  ('20544688','0031G00001YIab5QAD'))"
   ]
  },
  {
   "cell_type": "code",
   "execution_count": 77,
   "id": "f0df08ca-0c7b-4511-9f9c-5683002c2c7b",
   "metadata": {},
   "outputs": [],
   "source": [
    "df_template = iterpolate(df_template, 'COUTO ROSANGELA ROCHA',  ('18791909','0031G00001Jitp4QAB'))"
   ]
  },
  {
   "cell_type": "code",
   "execution_count": 94,
   "id": "00dcab0d-a319-483b-9eda-d4207876c1f6",
   "metadata": {},
   "outputs": [],
   "source": [
    "#df_template = iterpolate(df_template, 'OROZCO ANGELA PATRICIA',  ('9709106','0031G00000vq9aHQAQ'))"
   ]
  },
  {
   "cell_type": "code",
   "execution_count": 95,
   "id": "f5ff55c4-f513-4b3f-88e8-79a0e2266b44",
   "metadata": {},
   "outputs": [],
   "source": [
    "#df_second_upload = df_template[df_template['Agent AOR'].isin(['COUTO ROSANGELA ROCHA', 'RIVERA JAIDIRA D', 'OROZCO ANGELA PATRICIA'])]"
   ]
  },
  {
   "cell_type": "markdown",
   "id": "e065c90d-fe82-465c-8d1a-6f593deb8454",
   "metadata": {},
   "source": [
    "## Load"
   ]
  },
  {
   "cell_type": "code",
   "execution_count": 80,
   "id": "dfc22ddf-e565-4ee0-8aee-116b81a17b67",
   "metadata": {},
   "outputs": [
    {
     "data": {
      "text/plain": [
       "(55, 20)"
      ]
     },
     "execution_count": 80,
     "metadata": {},
     "output_type": "execute_result"
    }
   ],
   "source": [
    "df_template.shape"
   ]
  },
  {
   "cell_type": "code",
   "execution_count": 81,
   "id": "359731c5-d196-4a38-9d8f-100fa8fc308a",
   "metadata": {},
   "outputs": [],
   "source": [
    "df_template.to_csv(f'/mnt/c/Users/cesar/Desktop/claro/imports/life_national_life{date}_.csv', index=False)"
   ]
  },
  {
   "cell_type": "code",
   "execution_count": 987,
   "id": "0953b245-7ad7-4f56-b148-d335e15437c0",
   "metadata": {},
   "outputs": [],
   "source": [
    "df_second_upload.to_csv(f'/mnt/c/Users/cesar/Desktop/claro/imports/life_national_life{date}_faltantes_agent_aor.csv', index=False)"
   ]
  },
  {
   "cell_type": "markdown",
   "id": "8ac22fcc-c417-4bf6-8442-c6d260c2c5f7",
   "metadata": {},
   "source": [
    "\n",
    "\n",
    "\n",
    "\n",
    "\n",
    "\n"
   ]
  },
  {
   "cell_type": "markdown",
   "id": "281733b4-df79-4c19-80d2-16a2c344f085",
   "metadata": {},
   "source": [
    "# Ameritas"
   ]
  },
  {
   "cell_type": "code",
   "execution_count": 4,
   "id": "1081738b-be39-4784-aeec-8035e032770f",
   "metadata": {},
   "outputs": [],
   "source": [
    "def limpiar_df(df) -> pd.DataFrame:\n",
    "    df = df.dropna(axis='columns', how='all').dropna( how='all')\n",
    "    return df"
   ]
  },
  {
   "cell_type": "code",
   "execution_count": 13,
   "id": "94621fbf-069d-45f5-a0c4-250a8aa6a610",
   "metadata": {},
   "outputs": [
    {
     "data": {
      "text/html": [
       "<div>\n",
       "<style scoped>\n",
       "    .dataframe tbody tr th:only-of-type {\n",
       "        vertical-align: middle;\n",
       "    }\n",
       "\n",
       "    .dataframe tbody tr th {\n",
       "        vertical-align: top;\n",
       "    }\n",
       "\n",
       "    .dataframe thead th {\n",
       "        text-align: right;\n",
       "    }\n",
       "</style>\n",
       "<table border=\"1\" class=\"dataframe\">\n",
       "  <thead>\n",
       "    <tr style=\"text-align: right;\">\n",
       "      <th></th>\n",
       "      <th>Insured Name</th>\n",
       "      <th>Company Code</th>\n",
       "      <th>Policy Number</th>\n",
       "      <th>Writing Agent Name</th>\n",
       "      <th>Writing Agent ID</th>\n",
       "      <th>Writing Agent Profile</th>\n",
       "      <th>Servicing Agent Name</th>\n",
       "      <th>Servicing Agent ID</th>\n",
       "      <th>Servicing Agent Profile</th>\n",
       "      <th>Product Name</th>\n",
       "      <th>Issue Date</th>\n",
       "      <th>Policy Status</th>\n",
       "    </tr>\n",
       "  </thead>\n",
       "  <tbody>\n",
       "    <tr>\n",
       "      <th>0</th>\n",
       "      <td>AMADOR, JULLIANNA</td>\n",
       "      <td>100</td>\n",
       "      <td>CI60002150</td>\n",
       "      <td>ARAQUE, RONNY</td>\n",
       "      <td>AG00105858</td>\n",
       "      <td>1</td>\n",
       "      <td>ARAQUE, RONNY</td>\n",
       "      <td>AG00105858</td>\n",
       "      <td>1</td>\n",
       "      <td>FLX Living Benefits Index UL Guideline Premium...</td>\n",
       "      <td>04/15/2022</td>\n",
       "      <td>Active/Premium Paying</td>\n",
       "    </tr>\n",
       "    <tr>\n",
       "      <th>1</th>\n",
       "      <td>DIAZ, EDWARD A</td>\n",
       "      <td>100</td>\n",
       "      <td>CI10030745</td>\n",
       "      <td>RAMOS, WALTER</td>\n",
       "      <td>AG00122703</td>\n",
       "      <td>1</td>\n",
       "      <td>RAMOS, WALTER</td>\n",
       "      <td>AG00122703</td>\n",
       "      <td>1</td>\n",
       "      <td>FLX Living Benefits Index UL Guideline Premium...</td>\n",
       "      <td>05/18/2021</td>\n",
       "      <td>Active/Premium Paying</td>\n",
       "    </tr>\n",
       "    <tr>\n",
       "      <th>2</th>\n",
       "      <td>GONZALEZ, DANIELA F</td>\n",
       "      <td>100</td>\n",
       "      <td>CI10032287</td>\n",
       "      <td>TAPIAS, VIRNA</td>\n",
       "      <td>AG00111178</td>\n",
       "      <td>1</td>\n",
       "      <td>TAPIAS, VIRNA</td>\n",
       "      <td>AG00111178</td>\n",
       "      <td>1</td>\n",
       "      <td>FLX Living Benefits Index UL Guideline Premium...</td>\n",
       "      <td>06/24/2021</td>\n",
       "      <td>Surrendered</td>\n",
       "    </tr>\n",
       "    <tr>\n",
       "      <th>3</th>\n",
       "      <td>MURILLO, RAFAEL A</td>\n",
       "      <td>100</td>\n",
       "      <td>CI10032145</td>\n",
       "      <td>TAPIAS, VIRNA</td>\n",
       "      <td>AG00111178</td>\n",
       "      <td>1</td>\n",
       "      <td>TAPIAS, VIRNA</td>\n",
       "      <td>AG00111178</td>\n",
       "      <td>1</td>\n",
       "      <td>FLX Living Benefits Index UL Guideline Premium...</td>\n",
       "      <td>06/24/2021</td>\n",
       "      <td>Active/Premium Paying</td>\n",
       "    </tr>\n",
       "    <tr>\n",
       "      <th>4</th>\n",
       "      <td>MURILLO, VIRNA A</td>\n",
       "      <td>100</td>\n",
       "      <td>CI10033924</td>\n",
       "      <td>TAPIAS, VIRNA</td>\n",
       "      <td>AG00111178</td>\n",
       "      <td>1</td>\n",
       "      <td>TAPIAS, VIRNA</td>\n",
       "      <td>AG00111178</td>\n",
       "      <td>1</td>\n",
       "      <td>FLX Living Benefits Index UL Guideline Premium...</td>\n",
       "      <td>10/01/2021</td>\n",
       "      <td>Active/Premium Paying</td>\n",
       "    </tr>\n",
       "  </tbody>\n",
       "</table>\n",
       "</div>"
      ],
      "text/plain": [
       "          Insured Name  Company Code Policy Number Writing Agent Name  \\\n",
       "0    AMADOR, JULLIANNA           100    CI60002150      ARAQUE, RONNY   \n",
       "1       DIAZ, EDWARD A           100    CI10030745      RAMOS, WALTER   \n",
       "2  GONZALEZ, DANIELA F           100    CI10032287      TAPIAS, VIRNA   \n",
       "3    MURILLO, RAFAEL A           100    CI10032145      TAPIAS, VIRNA   \n",
       "4     MURILLO, VIRNA A           100    CI10033924      TAPIAS, VIRNA   \n",
       "\n",
       "  Writing Agent ID  Writing Agent Profile Servicing Agent Name  \\\n",
       "0       AG00105858                      1        ARAQUE, RONNY   \n",
       "1       AG00122703                      1        RAMOS, WALTER   \n",
       "2       AG00111178                      1        TAPIAS, VIRNA   \n",
       "3       AG00111178                      1        TAPIAS, VIRNA   \n",
       "4       AG00111178                      1        TAPIAS, VIRNA   \n",
       "\n",
       "  Servicing Agent ID  Servicing Agent Profile  \\\n",
       "0         AG00105858                        1   \n",
       "1         AG00122703                        1   \n",
       "2         AG00111178                        1   \n",
       "3         AG00111178                        1   \n",
       "4         AG00111178                        1   \n",
       "\n",
       "                                        Product Name  Issue Date  \\\n",
       "0  FLX Living Benefits Index UL Guideline Premium...  04/15/2022   \n",
       "1  FLX Living Benefits Index UL Guideline Premium...  05/18/2021   \n",
       "2  FLX Living Benefits Index UL Guideline Premium...  06/24/2021   \n",
       "3  FLX Living Benefits Index UL Guideline Premium...  06/24/2021   \n",
       "4  FLX Living Benefits Index UL Guideline Premium...  10/01/2021   \n",
       "\n",
       "           Policy Status  \n",
       "0  Active/Premium Paying  \n",
       "1  Active/Premium Paying  \n",
       "2            Surrendered  \n",
       "3  Active/Premium Paying  \n",
       "4  Active/Premium Paying  "
      ]
     },
     "execution_count": 13,
     "metadata": {},
     "output_type": "execute_result"
    }
   ],
   "source": [
    "df_ameritas = limpiar_df(pd.read_excel('//mnt/c/Users/cesar/Desktop/claro/life/Ameritas/Ameritas 01-26-2023.xls'))\n",
    "df_ameritas.head()"
   ]
  },
  {
   "cell_type": "markdown",
   "id": "58de306b-b0bd-4677-bf09-953e4cb3113d",
   "metadata": {},
   "source": [
    "## Homologación"
   ]
  },
  {
   "cell_type": "code",
   "execution_count": 14,
   "id": "88862d49-3817-446e-b5c3-a7204c24a330",
   "metadata": {},
   "outputs": [
    {
     "data": {
      "text/plain": [
       "Index(['Insured Name', 'Company Code', 'Policy Number', 'Writing Agent Name',\n",
       "       'Writing Agent ID', 'Writing Agent Profile', 'Servicing Agent Name',\n",
       "       'Servicing Agent ID', 'Servicing Agent Profile', 'Product Name',\n",
       "       'Issue Date', 'Policy Status'],\n",
       "      dtype='object')"
      ]
     },
     "execution_count": 14,
     "metadata": {},
     "output_type": "execute_result"
    }
   ],
   "source": [
    "df_ameritas.columns"
   ]
  },
  {
   "cell_type": "code",
   "execution_count": 15,
   "id": "0611324e-5823-4315-95db-0046d7988ca0",
   "metadata": {},
   "outputs": [],
   "source": [
    "df_ameritas = df_ameritas.rename(\n",
    "    columns={\n",
    "        'Policy Number':'PolicyNumber',\n",
    "        'Insured Name':'Insured',\n",
    "        'Writing Agent Name':'Agent AOR',\n",
    "        'Policy Status':'Status',\n",
    "        'Issue Date':'EffectiveDate',\n",
    "        'Writing Agent ID':'AgentNumber',\n",
    "        'Product Name':'Product'\n",
    "        \n",
    "        \n",
    "    }\n",
    ")"
   ]
  },
  {
   "cell_type": "markdown",
   "id": "7266793f-5d05-4aeb-85c0-7f3556b796c8",
   "metadata": {},
   "source": [
    "### Limpiar Policy Number"
   ]
  },
  {
   "cell_type": "code",
   "execution_count": 16,
   "id": "92fef66b-4b3e-4d74-8d8a-90e836108502",
   "metadata": {},
   "outputs": [],
   "source": [
    "# df_a['PolicyNumberClean'] = limpiarPolicyNumber(df_a, 'PolicyNumber')"
   ]
  },
  {
   "cell_type": "markdown",
   "id": "71c7faea-f8fc-4eaa-877a-af4d458fe1b9",
   "metadata": {},
   "source": [
    "### Extraer las polizas de National Life"
   ]
  },
  {
   "cell_type": "code",
   "execution_count": 21,
   "id": "6a6875d1-4286-4682-94a9-e1d364b6a9fc",
   "metadata": {},
   "outputs": [],
   "source": [
    "df_b = extractCarrier(df_b, 'Ameritas', 'Carrier')"
   ]
  },
  {
   "cell_type": "markdown",
   "id": "dbc46de7-370f-41f3-bd16-26fb1b8b2ba7",
   "metadata": {},
   "source": [
    "### Hacer join"
   ]
  },
  {
   "cell_type": "code",
   "execution_count": 22,
   "id": "7cdb693f-8bb2-46d4-a53a-60b34f2b943c",
   "metadata": {},
   "outputs": [],
   "source": [
    "def leftJoinBOB(new_policies, bob_policies):\n",
    "    upload = list(set(new_policies) - set(bob_policies) )\n",
    "    return upload"
   ]
  },
  {
   "cell_type": "code",
   "execution_count": 23,
   "id": "b9229cd8-9bc3-4a07-9e94-48b25a491be5",
   "metadata": {
    "tags": []
   },
   "outputs": [],
   "source": [
    "upload = leftJoinBOB(df_ameritas['PolicyNumber'].values, df_b['Policy Number'].values)"
   ]
  },
  {
   "cell_type": "code",
   "execution_count": 24,
   "id": "4e677222-308c-4517-b414-22ad118f1fe3",
   "metadata": {},
   "outputs": [],
   "source": [
    "df_upload = df_ameritas[df_ameritas['PolicyNumber'].isin(upload)]"
   ]
  },
  {
   "cell_type": "code",
   "execution_count": 25,
   "id": "980a1c52-f973-4105-8b04-e1be6d7d9693",
   "metadata": {},
   "outputs": [
    {
     "data": {
      "text/html": [
       "<div>\n",
       "<style scoped>\n",
       "    .dataframe tbody tr th:only-of-type {\n",
       "        vertical-align: middle;\n",
       "    }\n",
       "\n",
       "    .dataframe tbody tr th {\n",
       "        vertical-align: top;\n",
       "    }\n",
       "\n",
       "    .dataframe thead th {\n",
       "        text-align: right;\n",
       "    }\n",
       "</style>\n",
       "<table border=\"1\" class=\"dataframe\">\n",
       "  <thead>\n",
       "    <tr style=\"text-align: right;\">\n",
       "      <th></th>\n",
       "      <th>Insured</th>\n",
       "      <th>Company Code</th>\n",
       "      <th>PolicyNumber</th>\n",
       "      <th>Agent AOR</th>\n",
       "      <th>AgentNumber</th>\n",
       "      <th>Writing Agent Profile</th>\n",
       "      <th>Servicing Agent Name</th>\n",
       "      <th>Servicing Agent ID</th>\n",
       "      <th>Servicing Agent Profile</th>\n",
       "      <th>Product</th>\n",
       "      <th>EffectiveDate</th>\n",
       "      <th>Status</th>\n",
       "    </tr>\n",
       "  </thead>\n",
       "  <tbody>\n",
       "    <tr>\n",
       "      <th>6</th>\n",
       "      <td>SANCHEZ, JENNIFER</td>\n",
       "      <td>100</td>\n",
       "      <td>CT60009888</td>\n",
       "      <td>GONZALEZ, ANDRES</td>\n",
       "      <td>AG00110131</td>\n",
       "      <td>2</td>\n",
       "      <td>GONZALEZ, ANDRES</td>\n",
       "      <td>AG00110131</td>\n",
       "      <td>2</td>\n",
       "      <td>20 Year Term</td>\n",
       "      <td>01/17/2023</td>\n",
       "      <td>Active/Premium Paying</td>\n",
       "    </tr>\n",
       "  </tbody>\n",
       "</table>\n",
       "</div>"
      ],
      "text/plain": [
       "             Insured  Company Code PolicyNumber         Agent AOR AgentNumber  \\\n",
       "6  SANCHEZ, JENNIFER           100   CT60009888  GONZALEZ, ANDRES  AG00110131   \n",
       "\n",
       "   Writing Agent Profile Servicing Agent Name Servicing Agent ID  \\\n",
       "6                      2     GONZALEZ, ANDRES         AG00110131   \n",
       "\n",
       "   Servicing Agent Profile       Product EffectiveDate                 Status  \n",
       "6                        2  20 Year Term    01/17/2023  Active/Premium Paying  "
      ]
     },
     "execution_count": 25,
     "metadata": {},
     "output_type": "execute_result"
    }
   ],
   "source": [
    "df_upload"
   ]
  },
  {
   "cell_type": "markdown",
   "id": "1d1e9a74-9b32-4955-878b-97ff9158ff34",
   "metadata": {},
   "source": [
    "### Upload into template"
   ]
  },
  {
   "cell_type": "code",
   "execution_count": 26,
   "id": "5d70b9b8-0f52-400a-9c54-46042c9ab933",
   "metadata": {},
   "outputs": [],
   "source": [
    "df_upload.reset_index(drop=True, inplace=True)"
   ]
  },
  {
   "cell_type": "code",
   "execution_count": 27,
   "id": "db400e96-5f2e-4110-b1ff-e116d84fb07c",
   "metadata": {},
   "outputs": [
    {
     "data": {
      "text/html": [
       "<div>\n",
       "<style scoped>\n",
       "    .dataframe tbody tr th:only-of-type {\n",
       "        vertical-align: middle;\n",
       "    }\n",
       "\n",
       "    .dataframe tbody tr th {\n",
       "        vertical-align: top;\n",
       "    }\n",
       "\n",
       "    .dataframe thead th {\n",
       "        text-align: right;\n",
       "    }\n",
       "</style>\n",
       "<table border=\"1\" class=\"dataframe\">\n",
       "  <thead>\n",
       "    <tr style=\"text-align: right;\">\n",
       "      <th></th>\n",
       "      <th>Carrier___</th>\n",
       "      <th>LOB____</th>\n",
       "      <th>Carrier</th>\n",
       "      <th>Agent AOR</th>\n",
       "      <th>NPN AOR</th>\n",
       "      <th>Contact____</th>\n",
       "      <th>NPN_Internal____</th>\n",
       "      <th>Contact</th>\n",
       "      <th>Policy Number</th>\n",
       "      <th>Source</th>\n",
       "      <th>...</th>\n",
       "      <th>Subsidy</th>\n",
       "      <th>Annual Premium</th>\n",
       "      <th>Paid Thru Date</th>\n",
       "      <th>Days Past Due</th>\n",
       "      <th>Phone Number</th>\n",
       "      <th>Email</th>\n",
       "      <th>Metal Level</th>\n",
       "      <th>Zip Code</th>\n",
       "      <th>Claro Type</th>\n",
       "      <th>Carrier State line of Business</th>\n",
       "    </tr>\n",
       "  </thead>\n",
       "  <tbody>\n",
       "  </tbody>\n",
       "</table>\n",
       "<p>0 rows × 40 columns</p>\n",
       "</div>"
      ],
      "text/plain": [
       "Empty DataFrame\n",
       "Columns: [Carrier___, LOB____, Carrier, Agent AOR, NPN AOR, Contact____, NPN_Internal____, Contact, Policy Number, Source, Referrals_____, Referrals Id, Status, Effective Date, Transaction Date, Policy Term Date, Member First Name, Member Last Name, DOB, State, County, City, Members, Policy Type, Last Status Modification Date, Loading Date, Record Type Id, Plan, Election Period, Final Premium, Subsidy, Annual Premium, Paid Thru Date, Days Past Due, Phone Number, Email, Metal Level, Zip Code, Claro Type, Carrier State line of Business]\n",
       "Index: []\n",
       "\n",
       "[0 rows x 40 columns]"
      ]
     },
     "execution_count": 27,
     "metadata": {},
     "output_type": "execute_result"
    }
   ],
   "source": [
    "df_template = pd.read_csv('//mnt/c/Users/cesar/Desktop/claro/Format_Create_BOB.csv').head(0)\n",
    "df_template"
   ]
  },
  {
   "cell_type": "code",
   "execution_count": 28,
   "id": "c9a070d9-db5e-418a-bb4b-79410ecf1285",
   "metadata": {},
   "outputs": [],
   "source": [
    "df_template['Member First Name'] = df_upload['Insured'].apply(lambda x : split_names(x, first=False))\n",
    "df_template['Member Last Name'] = df_upload['Insured'].apply(lambda x : split_names(x))"
   ]
  },
  {
   "cell_type": "code",
   "execution_count": 29,
   "id": "62a5f4d1-4877-411d-a6f9-4135adb31769",
   "metadata": {},
   "outputs": [],
   "source": [
    "df_template.reset_index(drop=True, inplace=True)"
   ]
  },
  {
   "cell_type": "code",
   "execution_count": 30,
   "id": "4a59c862-711f-43cc-b5e2-89e331429c9b",
   "metadata": {},
   "outputs": [],
   "source": [
    "df_template['Policy Number'] = df_upload['PolicyNumber']"
   ]
  },
  {
   "cell_type": "code",
   "execution_count": 31,
   "id": "9c3a6fb0-ae5f-4bc7-a790-f40534746d15",
   "metadata": {},
   "outputs": [],
   "source": [
    "# df_template['Final Premium'] = df_upload['FinalPremium']"
   ]
  },
  {
   "cell_type": "code",
   "execution_count": 32,
   "id": "ad78418c-4c69-4903-92de-8bb641695cbc",
   "metadata": {},
   "outputs": [],
   "source": [
    "df_template['Plan'] = df_upload['Product']"
   ]
  },
  {
   "cell_type": "code",
   "execution_count": 33,
   "id": "6d704051-4728-4ff1-8c66-53e2815c9d43",
   "metadata": {},
   "outputs": [],
   "source": [
    "df_template['Agent AOR'] = df_upload['Agent AOR']"
   ]
  },
  {
   "cell_type": "code",
   "execution_count": 34,
   "id": "74796925-35eb-4006-b007-ea9661d8a32d",
   "metadata": {},
   "outputs": [],
   "source": [
    "df_template['Effective Date'] = df_upload['EffectiveDate']"
   ]
  },
  {
   "cell_type": "code",
   "execution_count": 35,
   "id": "3f4a1123-f50b-4657-b8b9-c57a9d713fb3",
   "metadata": {},
   "outputs": [],
   "source": [
    "df_template['LOB____'] = 'Life'"
   ]
  },
  {
   "cell_type": "markdown",
   "id": "7fd78f78-922a-4ac8-8151-1d7610f8af41",
   "metadata": {},
   "source": [
    "#### Source"
   ]
  },
  {
   "cell_type": "code",
   "execution_count": 36,
   "id": "33371263-06c0-42e7-aeac-a2b6ba381804",
   "metadata": {},
   "outputs": [],
   "source": [
    "def assign_source(referal_agents:list, df_template, column_agent_numbers:str, df_upload) -> pd.DataFrame:\n",
    "    df_s = df_template.copy()\n",
    "    mask_s = df_upload[column_agent_numbers].isin(referal_agents)\n",
    "    \n",
    "    df_s.loc[mask_s,  'Source'] = 'Referal'\n",
    "    df_s.loc[~mask_s, 'Source'] = 'Direct'\n",
    "    \n",
    "    return df_s"
   ]
  },
  {
   "cell_type": "code",
   "execution_count": 37,
   "id": "50c6ee5c-ccdc-4f70-92c0-478315e50575",
   "metadata": {},
   "outputs": [],
   "source": [
    "def getSource(query,connection, df_template, df_upload, column_agent_numbers='AgentNumber') -> pd.DataFrame:\n",
    "    referal_agents = [i[0] for i in query_db(query)]\n",
    "    referal_list_agents = list(set(referal_agents).intersection(set(df_upload[column_agent_numbers].values)))\n",
    "    \n",
    "    df = assign_source(referal_list_agents, df_template, column_agent_numbers, df_upload)\n",
    "    return df"
   ]
  },
  {
   "cell_type": "code",
   "execution_count": 38,
   "id": "5b0eb841-1cbf-4fb9-b66b-839f985f3135",
   "metadata": {
    "tags": []
   },
   "outputs": [],
   "source": [
    "npn_referals = [18233171, 7388594, 19603471, 18522178, 19106367, 16001347, 10041154, 20462802, 17686050]\n",
    "\n",
    "npn_referals = str([str(i)  for i in npn_referals]).replace('[', '').replace(']','')\n"
   ]
  },
  {
   "cell_type": "code",
   "execution_count": 39,
   "id": "460af9c2-78cc-4b5b-b4dd-72f389006dc8",
   "metadata": {},
   "outputs": [],
   "source": [
    "query_referals_agents = \"\"\"\n",
    "    SELECT agent_writing_number\n",
    "    FROM agent_contract \n",
    "    WHERE npn in ({list_refarals}) ;\n",
    "\"\"\".format(list_refarals=npn_referals)"
   ]
  },
  {
   "cell_type": "code",
   "execution_count": 44,
   "id": "362d2cd5-90b6-4e72-90bf-3c53216a5a6e",
   "metadata": {
    "tags": []
   },
   "outputs": [],
   "source": [
    "df_template = getSource(query_referals_agents, connection, df_template, df_upload)"
   ]
  },
  {
   "cell_type": "markdown",
   "id": "ea813ccb-f68c-4afe-bb77-a5bde1b1d686",
   "metadata": {},
   "source": [
    "#### Mermbers"
   ]
  },
  {
   "cell_type": "code",
   "execution_count": 45,
   "id": "b190c034-52b5-46a7-8d82-1f8f8b447eda",
   "metadata": {},
   "outputs": [],
   "source": [
    "df_template['Members'] = 1"
   ]
  },
  {
   "cell_type": "markdown",
   "id": "efe2a578-b1fb-47c4-aa04-b711370c3fd4",
   "metadata": {},
   "source": [
    "#### Record Type ID"
   ]
  },
  {
   "cell_type": "code",
   "execution_count": 46,
   "id": "0f8051ae-60f1-4b3b-a1f7-c7b5cf219dbc",
   "metadata": {
    "tags": []
   },
   "outputs": [],
   "source": [
    "# df_template['Record Type Id']"
   ]
  },
  {
   "cell_type": "markdown",
   "id": "6bb63066-d407-43e3-9c5b-2a3630887fa6",
   "metadata": {},
   "source": [
    "#### State"
   ]
  },
  {
   "cell_type": "code",
   "execution_count": 47,
   "id": "d357ddcf-af1e-47c3-a956-7fd0d2d89d90",
   "metadata": {},
   "outputs": [],
   "source": [
    "df_template['State'] = 'FL'"
   ]
  },
  {
   "cell_type": "markdown",
   "id": "6c8c6b7e-908d-444d-a240-7e7f6f3d82dc",
   "metadata": {},
   "source": [
    "#### Record Type"
   ]
  },
  {
   "cell_type": "code",
   "execution_count": 48,
   "id": "12458dc8-8f94-4b03-94e6-bdfc4cf0c624",
   "metadata": {},
   "outputs": [],
   "source": [
    "def recordType(df_upload, df_template, column_name='Record Type Id', column_agent='AgentNumber'):\n",
    "    \n",
    "    record_types = dict(query_db(query_record_type))\n",
    "    agent_writing_number = query_db(query_awn_jose_m)\n",
    "    agent_writing_number_jose_m = [i[0] for i in agent_writing_number]\n",
    "    \n",
    "#     jose_m_parra_awn_in_df = list(set(agent_writing_number).intersection(set(df_upload[column_agent].values)))\n",
    "    others_awn = list(set(df_upload[column_agent].values) - set(agent_writing_number_jose_m))\n",
    "    \n",
    "    df_r = df_template.copy()\n",
    "    mask = df_upload[column_agent].isin(others_awn)\n",
    "    df_r.loc[mask, column_name] = record_types['BOB']\n",
    "    df_r.loc[~mask, column_name] = record_types['Direct Sales']\n",
    "    \n",
    "    return df_r"
   ]
  },
  {
   "cell_type": "code",
   "execution_count": 49,
   "id": "5dcece9c-8815-43e0-8861-3e671cbdf401",
   "metadata": {},
   "outputs": [],
   "source": [
    "query_record_type = \"\"\"\n",
    "    SELECT record_type, id  FROM record_type rt ;\n",
    "\"\"\""
   ]
  },
  {
   "cell_type": "code",
   "execution_count": 50,
   "id": "1fa14fc6-48ca-4e6a-8d31-04204fc81c90",
   "metadata": {},
   "outputs": [],
   "source": [
    "query_awn_jose_m = \"\"\"\n",
    "    SELECT agent_writing_number\n",
    "    FROM agent_contract \n",
    "    WHERE npn = '17795437'\n",
    "    ;\n",
    "\"\"\""
   ]
  },
  {
   "cell_type": "code",
   "execution_count": 51,
   "id": "a739629f-5cc4-4e69-94a5-8d1ed72db07c",
   "metadata": {},
   "outputs": [],
   "source": [
    "df_template = recordType(df_upload, df_template)"
   ]
  },
  {
   "cell_type": "markdown",
   "id": "74739232-dcc9-4b79-856e-07f9bf8970ca",
   "metadata": {},
   "source": [
    "#### Carrier"
   ]
  },
  {
   "cell_type": "code",
   "execution_count": 52,
   "id": "4c4663ed-19de-431e-a462-e81abb8f51d8",
   "metadata": {},
   "outputs": [],
   "source": [
    "query_carrier_id = \"\"\"\n",
    "    SELECT carrier_id  \n",
    "    FROM carrier c \n",
    "    WHERE carrier = '{carrier_name}' and state_c = '{carrier_state}'\n",
    "    ;\n",
    "\"\"\".format(carrier_name= df_b['Carrier'].unique()[0], carrier_state=df_template['State'].unique()[0])\n",
    "\n",
    "carrier_id = query_db(query_carrier_id)[0][0]\n",
    "\n",
    "df_template['Carrier'] =  carrier_id"
   ]
  },
  {
   "cell_type": "markdown",
   "id": "818688f5-580c-4d09-9048-7ec38627012c",
   "metadata": {},
   "source": [
    "#### Status"
   ]
  },
  {
   "cell_type": "code",
   "execution_count": 53,
   "id": "1b0d8476-ee4a-4ef4-bdfb-e6828a2bf461",
   "metadata": {},
   "outputs": [
    {
     "data": {
      "text/html": [
       "<div>\n",
       "<style scoped>\n",
       "    .dataframe tbody tr th:only-of-type {\n",
       "        vertical-align: middle;\n",
       "    }\n",
       "\n",
       "    .dataframe tbody tr th {\n",
       "        vertical-align: top;\n",
       "    }\n",
       "\n",
       "    .dataframe thead th {\n",
       "        text-align: right;\n",
       "    }\n",
       "</style>\n",
       "<table border=\"1\" class=\"dataframe\">\n",
       "  <thead>\n",
       "    <tr style=\"text-align: right;\">\n",
       "      <th></th>\n",
       "      <th>Status Carrier</th>\n",
       "      <th>Status SF</th>\n",
       "    </tr>\n",
       "  </thead>\n",
       "  <tbody>\n",
       "    <tr>\n",
       "      <th>0</th>\n",
       "      <td>Active</td>\n",
       "      <td>Active</td>\n",
       "    </tr>\n",
       "    <tr>\n",
       "      <th>1</th>\n",
       "      <td>APPROVED</td>\n",
       "      <td>Approved</td>\n",
       "    </tr>\n",
       "    <tr>\n",
       "      <th>2</th>\n",
       "      <td>Approved/Admin Review</td>\n",
       "      <td>Approved</td>\n",
       "    </tr>\n",
       "  </tbody>\n",
       "</table>\n",
       "</div>"
      ],
      "text/plain": [
       "          Status Carrier Status SF\n",
       "0                 Active    Active\n",
       "1               APPROVED  Approved\n",
       "2  Approved/Admin Review  Approved"
      ]
     },
     "execution_count": 53,
     "metadata": {},
     "output_type": "execute_result"
    }
   ],
   "source": [
    "df_status = pd.read_excel('/mnt/c/Users/cesar/Desktop/claro/life/Lista Status Life.xlsx')\n",
    "df_status.head(3)"
   ]
  },
  {
   "cell_type": "code",
   "execution_count": 54,
   "id": "af743456-e5ea-4dff-93a9-f8acb32919f3",
   "metadata": {},
   "outputs": [],
   "source": [
    "df_template['Status'] = df_upload['Status'].apply(lambda x :replace_status(x) )"
   ]
  },
  {
   "cell_type": "markdown",
   "id": "5748182f-27ed-4494-8012-a6cb9a790dde",
   "metadata": {},
   "source": [
    "#### Policy Type"
   ]
  },
  {
   "cell_type": "code",
   "execution_count": 55,
   "id": "8e758876-2273-4570-9285-d49fe7f54ce1",
   "metadata": {},
   "outputs": [],
   "source": [
    "def compare_years_policy(x): \n",
    "    one_year_ago = datetime.now() - timedelta(days=365)\n",
    "    if one_year_ago >= x:\n",
    "        return 'Renewal'\n",
    "    return 'New Sale'"
   ]
  },
  {
   "cell_type": "code",
   "execution_count": 56,
   "id": "2ee05cbf-5b9d-474d-b509-71d4b4c61188",
   "metadata": {},
   "outputs": [],
   "source": [
    "df_template['Policy Type'] = pd.to_datetime(df_upload['EffectiveDate']).agg(compare_years_policy)"
   ]
  },
  {
   "cell_type": "markdown",
   "id": "50a33334-bfe1-4c35-a630-979a1cc78259",
   "metadata": {},
   "source": [
    "#### Claro Type"
   ]
  },
  {
   "cell_type": "code",
   "execution_count": 57,
   "id": "1ae09771-3002-4a80-8a3e-465f2c18aa9a",
   "metadata": {},
   "outputs": [],
   "source": [
    "df_template['Claro Type'] = 'New Sale'"
   ]
  },
  {
   "cell_type": "markdown",
   "id": "aa81c950-d69f-4340-9406-836c4e85431e",
   "metadata": {},
   "source": [
    "#### Last Status"
   ]
  },
  {
   "cell_type": "code",
   "execution_count": 58,
   "id": "a4f995a2-ab1d-4b02-bbff-f287c32875b3",
   "metadata": {},
   "outputs": [],
   "source": [
    "df_template['Last Status Modification Date'] = date"
   ]
  },
  {
   "cell_type": "markdown",
   "id": "82266961-36f4-4945-886b-fd0dba899124",
   "metadata": {},
   "source": [
    "#### Loading Date"
   ]
  },
  {
   "cell_type": "code",
   "execution_count": 59,
   "id": "f4c78924-4525-43e7-920d-fe755054f0a5",
   "metadata": {},
   "outputs": [],
   "source": [
    "df_template['Loading Date'] = date"
   ]
  },
  {
   "cell_type": "markdown",
   "id": "59089740-39d9-4ae5-90b0-7df40374b99a",
   "metadata": {},
   "source": [
    "#### NPN AOR"
   ]
  },
  {
   "cell_type": "code",
   "execution_count": 60,
   "id": "9549d69d-b2d2-4076-ba10-3d618b4d3b72",
   "metadata": {},
   "outputs": [],
   "source": [
    "query_agent_AOR = \"\"\"\n",
    "    SELECT contact, npn, agent_writing_number, id\n",
    "    FROM agent_contract\n",
    "    ;\n",
    "\"\"\""
   ]
  },
  {
   "cell_type": "code",
   "execution_count": 61,
   "id": "0862c8c8-6654-474f-b6a0-bcfb4059af18",
   "metadata": {},
   "outputs": [],
   "source": [
    "def extract_agent_aor(x, df_contact, column_name='NPN'):\n",
    "    result = df_contact[df_contact['AgentWritingNumber'] == x][column_name].unique()\n",
    "    assert len(result) < 2, 'Error Data Duplicada en el campo de la base de datos NPN'\n",
    "    \n",
    "    if len(result) > 0:\n",
    "        return result[0]\n",
    "    return None"
   ]
  },
  {
   "cell_type": "code",
   "execution_count": 62,
   "id": "ce8579c6-f09c-4f3f-b635-f03851376357",
   "metadata": {},
   "outputs": [],
   "source": [
    "def npnAOR(query_agent_AOR,connection, agent_number_colunm_name='AgentNumber'):\n",
    "    list_contact = query_db(query_agent_AOR)\n",
    "    df_contact = pd.DataFrame([{'Contact Name':i[0], 'NPN':i[1], 'AgentWritingNumber':i[2], 'Contact ID':i[3]} for i in list_contact])\n",
    "    \n",
    "    \n",
    "    df_template['NPN AOR'] = df_upload[agent_number_colunm_name].apply(lambda x : extract_agent_aor(x, df_contact))\n",
    "    df_template['Contact'] = df_upload[agent_number_colunm_name].apply(lambda x : extract_agent_aor(x, df_contact, 'Contact ID'))\n",
    "    return df_template, df_contact"
   ]
  },
  {
   "cell_type": "code",
   "execution_count": 63,
   "id": "77a8b1cf-2d72-49e2-b4ce-0656b97f2464",
   "metadata": {},
   "outputs": [],
   "source": [
    "df_template, df_contact = npnAOR(query_agent_AOR, connection)"
   ]
  },
  {
   "cell_type": "code",
   "execution_count": 64,
   "id": "0eea3fb7-2c0a-4c32-91f4-f79a5277f088",
   "metadata": {},
   "outputs": [
    {
     "data": {
      "text/plain": [
       "0    AG00110131\n",
       "Name: AgentNumber, dtype: object"
      ]
     },
     "execution_count": 64,
     "metadata": {},
     "output_type": "execute_result"
    }
   ],
   "source": [
    "df_upload['AgentNumber']"
   ]
  },
  {
   "cell_type": "markdown",
   "id": "9d82ffb2-d7b3-4ad2-ab66-1d24431f9eb9",
   "metadata": {},
   "source": [
    "#### Contact ID"
   ]
  },
  {
   "cell_type": "code",
   "execution_count": 65,
   "id": "91e0bd30-7608-4226-81d8-aafc500cc02a",
   "metadata": {},
   "outputs": [],
   "source": [
    "def extract_contact_id(x, df_contact):\n",
    "    result = df_contact[df_contact['AgentWritingNumber'] == x]['Contact ID'].unique()\n",
    "    assert len(result) < 2, 'Error Data Duplicada en el campo de la base de datos NPN'\n",
    "    \n",
    "    if len(result) > 0:\n",
    "        return result[0]\n",
    "    return None"
   ]
  },
  {
   "cell_type": "code",
   "execution_count": 66,
   "id": "6079ff9f-cdb5-4464-9375-573fc0c81c06",
   "metadata": {
    "tags": []
   },
   "outputs": [],
   "source": [
    "# df_template['Cotact ID'] = df_upload['AgentNumber'].apply(lambda x : extract_contact_id(x, df_contact))"
   ]
  },
  {
   "cell_type": "markdown",
   "id": "45bfbb25-a248-4fb3-a1f6-1f6b441fa346",
   "metadata": {},
   "source": [
    "#### Agent Name"
   ]
  },
  {
   "cell_type": "code",
   "execution_count": 67,
   "id": "a8a92fcd-e2c7-46e7-970e-f7ab50c9a00a",
   "metadata": {},
   "outputs": [],
   "source": [
    "df_template['Agent Name'] = df_upload['Agent AOR']"
   ]
  },
  {
   "cell_type": "markdown",
   "id": "ab6617c6-6409-4cc4-9e6e-ba61834d0a35",
   "metadata": {},
   "source": [
    "#### Carrier State Line of Business"
   ]
  },
  {
   "cell_type": "code",
   "execution_count": 68,
   "id": "27329344-41cd-4c64-a6a6-54b71e939c27",
   "metadata": {},
   "outputs": [],
   "source": [
    "query_cslb = \"\"\"\n",
    "    select carrier_lob_id \n",
    "    from carrier c\n",
    "    where carrier_id = '{carrier_id}' and state_c = '{state}';\n",
    "\"\"\""
   ]
  },
  {
   "cell_type": "code",
   "execution_count": 69,
   "id": "1b8e7dd9-999c-4937-8db1-5768975ce3c2",
   "metadata": {},
   "outputs": [],
   "source": [
    "def making_query_cslb(df_template, query_cslb):\n",
    "    carrier = df_template['Carrier'].unique()\n",
    "    state = df_template.State.unique()\n",
    "    \n",
    "    assert (len(carrier) == 1) and (len(state) == 1), 'Error en la integridad de los datos.'\n",
    "    \n",
    "    query_cslb = query_cslb.format(carrier_id=carrier[0], state=state[0])\n",
    "    value = query_db(query_cslb)[0][0]\n",
    "    return value"
   ]
  },
  {
   "cell_type": "code",
   "execution_count": 70,
   "id": "c94c47d3-efed-415d-a324-0aa15f3fd548",
   "metadata": {},
   "outputs": [],
   "source": [
    "def extract_cslb(df_template, query_cslb):\n",
    "    cslb = making_query_cslb(df_template, query_cslb)\n",
    "    df_template['Carrier State line of Business'] = cslb\n",
    "    \n",
    "    return df_template"
   ]
  },
  {
   "cell_type": "code",
   "execution_count": 71,
   "id": "3cd0753e-7f10-48be-9ff9-1b1564453a5c",
   "metadata": {},
   "outputs": [],
   "source": [
    "df_template = extract_cslb(df_template, query_cslb)"
   ]
  },
  {
   "cell_type": "code",
   "execution_count": null,
   "id": "f64639fa-4fa4-4bdb-9811-761860deb163",
   "metadata": {},
   "outputs": [],
   "source": []
  },
  {
   "cell_type": "code",
   "execution_count": null,
   "id": "573b6257-2009-4743-9227-f7ee43139aea",
   "metadata": {},
   "outputs": [],
   "source": []
  },
  {
   "cell_type": "markdown",
   "id": "5237d32a-74b5-44c8-ae78-b921602138df",
   "metadata": {},
   "source": [
    "### Faltantes"
   ]
  },
  {
   "cell_type": "code",
   "execution_count": 73,
   "id": "d072c669-0650-453d-9d66-e35d137c762d",
   "metadata": {},
   "outputs": [],
   "source": [
    "df_faltantes = df_template[df_template['Contact'].isna()]"
   ]
  },
  {
   "cell_type": "code",
   "execution_count": 75,
   "id": "b34f9ed1-ba52-4b26-ae8e-6b8d57f46e58",
   "metadata": {},
   "outputs": [
    {
     "data": {
      "text/html": [
       "<div>\n",
       "<style scoped>\n",
       "    .dataframe tbody tr th:only-of-type {\n",
       "        vertical-align: middle;\n",
       "    }\n",
       "\n",
       "    .dataframe tbody tr th {\n",
       "        vertical-align: top;\n",
       "    }\n",
       "\n",
       "    .dataframe thead th {\n",
       "        text-align: right;\n",
       "    }\n",
       "</style>\n",
       "<table border=\"1\" class=\"dataframe\">\n",
       "  <thead>\n",
       "    <tr style=\"text-align: right;\">\n",
       "      <th></th>\n",
       "      <th>Carrier___</th>\n",
       "      <th>LOB____</th>\n",
       "      <th>Carrier</th>\n",
       "      <th>Agent AOR</th>\n",
       "      <th>NPN AOR</th>\n",
       "      <th>Contact____</th>\n",
       "      <th>NPN_Internal____</th>\n",
       "      <th>Contact</th>\n",
       "      <th>Policy Number</th>\n",
       "      <th>Source</th>\n",
       "      <th>...</th>\n",
       "      <th>Annual Premium</th>\n",
       "      <th>Paid Thru Date</th>\n",
       "      <th>Days Past Due</th>\n",
       "      <th>Phone Number</th>\n",
       "      <th>Email</th>\n",
       "      <th>Metal Level</th>\n",
       "      <th>Zip Code</th>\n",
       "      <th>Claro Type</th>\n",
       "      <th>Carrier State line of Business</th>\n",
       "      <th>Agent Name</th>\n",
       "    </tr>\n",
       "  </thead>\n",
       "  <tbody>\n",
       "    <tr>\n",
       "      <th>0</th>\n",
       "      <td>NaN</td>\n",
       "      <td>Life</td>\n",
       "      <td>a0S1G000006iXuWUAU</td>\n",
       "      <td>GONZALEZ, ANDRES</td>\n",
       "      <td>18233171</td>\n",
       "      <td>NaN</td>\n",
       "      <td>NaN</td>\n",
       "      <td>0031G00000tqyDfQAI</td>\n",
       "      <td>CT60009888</td>\n",
       "      <td>Referal</td>\n",
       "      <td>...</td>\n",
       "      <td>NaN</td>\n",
       "      <td>NaN</td>\n",
       "      <td>NaN</td>\n",
       "      <td>NaN</td>\n",
       "      <td>NaN</td>\n",
       "      <td>NaN</td>\n",
       "      <td>NaN</td>\n",
       "      <td>New Sale</td>\n",
       "      <td>a091G00000B5DUcQAN</td>\n",
       "      <td>GONZALEZ, ANDRES</td>\n",
       "    </tr>\n",
       "  </tbody>\n",
       "</table>\n",
       "<p>1 rows × 41 columns</p>\n",
       "</div>"
      ],
      "text/plain": [
       "  Carrier___ LOB____             Carrier         Agent AOR   NPN AOR  \\\n",
       "0        NaN    Life  a0S1G000006iXuWUAU  GONZALEZ, ANDRES  18233171   \n",
       "\n",
       "  Contact____  NPN_Internal____             Contact Policy Number   Source  \\\n",
       "0         NaN               NaN  0031G00000tqyDfQAI    CT60009888  Referal   \n",
       "\n",
       "   ...  Annual Premium Paid Thru Date Days Past Due Phone Number  Email  \\\n",
       "0  ...             NaN            NaN           NaN          NaN    NaN   \n",
       "\n",
       "   Metal Level Zip Code Claro Type  Carrier State line of Business  \\\n",
       "0          NaN      NaN   New Sale              a091G00000B5DUcQAN   \n",
       "\n",
       "         Agent Name  \n",
       "0  GONZALEZ, ANDRES  \n",
       "\n",
       "[1 rows x 41 columns]"
      ]
     },
     "execution_count": 75,
     "metadata": {},
     "output_type": "execute_result"
    }
   ],
   "source": [
    "df_template"
   ]
  },
  {
   "cell_type": "markdown",
   "id": "af3b793b-ce0d-4bb7-a9c8-cab566a1fdc4",
   "metadata": {},
   "source": [
    "#### Ajustar faltantes"
   ]
  },
  {
   "cell_type": "code",
   "execution_count": 1044,
   "id": "309d9d9c-bd34-454a-9e21-2b0b7d4cd8b0",
   "metadata": {},
   "outputs": [],
   "source": [
    "#df_template = iterpolate(df_template, 'CASTANO PADILLA, FATIMA',  ('18956578','0031G00001JkjjCQAR'))"
   ]
  },
  {
   "cell_type": "code",
   "execution_count": 1048,
   "id": "5233732e-e696-449b-93f1-b0088ff533f3",
   "metadata": {},
   "outputs": [
    {
     "data": {
      "text/html": [
       "<div>\n",
       "<style scoped>\n",
       "    .dataframe tbody tr th:only-of-type {\n",
       "        vertical-align: middle;\n",
       "    }\n",
       "\n",
       "    .dataframe tbody tr th {\n",
       "        vertical-align: top;\n",
       "    }\n",
       "\n",
       "    .dataframe thead th {\n",
       "        text-align: right;\n",
       "    }\n",
       "</style>\n",
       "<table border=\"1\" class=\"dataframe\">\n",
       "  <thead>\n",
       "    <tr style=\"text-align: right;\">\n",
       "      <th></th>\n",
       "      <th>Agent AOR</th>\n",
       "      <th>NPN AOR</th>\n",
       "      <th>Contact</th>\n",
       "      <th>Carrier</th>\n",
       "      <th>State</th>\n",
       "      <th>Policy Number</th>\n",
       "      <th>Policy Type</th>\n",
       "      <th>Claro Type</th>\n",
       "      <th>Record Type Id</th>\n",
       "      <th>Carrier State line of Business</th>\n",
       "      <th>Source</th>\n",
       "      <th>Status</th>\n",
       "      <th>Effective Date</th>\n",
       "      <th>Plan</th>\n",
       "      <th>Members</th>\n",
       "      <th>Last Status Modification Date</th>\n",
       "      <th>Loading Date</th>\n",
       "      <th>Final Premium</th>\n",
       "      <th>Member First Name</th>\n",
       "      <th>Member Last Name</th>\n",
       "    </tr>\n",
       "  </thead>\n",
       "  <tbody>\n",
       "    <tr>\n",
       "      <th>0</th>\n",
       "      <td>CASTANO PADILLA, FATIMA</td>\n",
       "      <td>18956578</td>\n",
       "      <td>0031G00001JkjjCQAR</td>\n",
       "      <td>a0S1G000006iXuWUAU</td>\n",
       "      <td>FL</td>\n",
       "      <td>CI60006169</td>\n",
       "      <td>New Sale</td>\n",
       "      <td>New Sale</td>\n",
       "      <td>0121G000000bpwvQAA</td>\n",
       "      <td>a091G00000B5DUcQAN</td>\n",
       "      <td>Direct</td>\n",
       "      <td>None</td>\n",
       "      <td>09/16/2022</td>\n",
       "      <td>FLX Living Benefits Index UL Guideline Premium...</td>\n",
       "      <td>1</td>\n",
       "      <td>06-01-2023</td>\n",
       "      <td>06-01-2023</td>\n",
       "      <td>NaN</td>\n",
       "      <td>JULIO</td>\n",
       "      <td>SANTOS</td>\n",
       "    </tr>\n",
       "    <tr>\n",
       "      <th>1</th>\n",
       "      <td>CASTANO PADILLA, FATIMA</td>\n",
       "      <td>18956578</td>\n",
       "      <td>0031G00001JkjjCQAR</td>\n",
       "      <td>a0S1G000006iXuWUAU</td>\n",
       "      <td>FL</td>\n",
       "      <td>CI60006528</td>\n",
       "      <td>New Sale</td>\n",
       "      <td>New Sale</td>\n",
       "      <td>0121G000000bpwvQAA</td>\n",
       "      <td>a091G00000B5DUcQAN</td>\n",
       "      <td>Direct</td>\n",
       "      <td>Terminated</td>\n",
       "      <td>10/15/2022</td>\n",
       "      <td>FLX Living Benefits Index UL Guideline Premium...</td>\n",
       "      <td>1</td>\n",
       "      <td>06-01-2023</td>\n",
       "      <td>06-01-2023</td>\n",
       "      <td>NaN</td>\n",
       "      <td>MEDINA JORGE R</td>\n",
       "      <td>TORRES</td>\n",
       "    </tr>\n",
       "  </tbody>\n",
       "</table>\n",
       "</div>"
      ],
      "text/plain": [
       "                 Agent AOR   NPN AOR             Contact             Carrier  \\\n",
       "0  CASTANO PADILLA, FATIMA  18956578  0031G00001JkjjCQAR  a0S1G000006iXuWUAU   \n",
       "1  CASTANO PADILLA, FATIMA  18956578  0031G00001JkjjCQAR  a0S1G000006iXuWUAU   \n",
       "\n",
       "  State Policy Number Policy Type Claro Type      Record Type Id  \\\n",
       "0    FL    CI60006169    New Sale   New Sale  0121G000000bpwvQAA   \n",
       "1    FL    CI60006528    New Sale   New Sale  0121G000000bpwvQAA   \n",
       "\n",
       "  Carrier State line of Business  Source      Status Effective Date  \\\n",
       "0             a091G00000B5DUcQAN  Direct        None     09/16/2022   \n",
       "1             a091G00000B5DUcQAN  Direct  Terminated     10/15/2022   \n",
       "\n",
       "                                                Plan  Members  \\\n",
       "0  FLX Living Benefits Index UL Guideline Premium...        1   \n",
       "1  FLX Living Benefits Index UL Guideline Premium...        1   \n",
       "\n",
       "  Last Status Modification Date Loading Date  Final Premium Member First Name  \\\n",
       "0                    06-01-2023   06-01-2023            NaN             JULIO   \n",
       "1                    06-01-2023   06-01-2023            NaN    MEDINA JORGE R   \n",
       "\n",
       "  Member Last Name  \n",
       "0           SANTOS  \n",
       "1           TORRES  "
      ]
     },
     "execution_count": 1048,
     "metadata": {},
     "output_type": "execute_result"
    }
   ],
   "source": [
    "df_template"
   ]
  },
  {
   "cell_type": "markdown",
   "id": "216d4759-af72-47b0-966d-b5d04a5f119f",
   "metadata": {},
   "source": [
    "## Load"
   ]
  },
  {
   "cell_type": "code",
   "execution_count": 76,
   "id": "663f1579-7a06-4d1c-91a8-47947d270819",
   "metadata": {},
   "outputs": [],
   "source": [
    "df_bk = df_template.copy()"
   ]
  },
  {
   "cell_type": "code",
   "execution_count": 77,
   "id": "f8f34e4b-5cf1-4148-9095-175676e8e24c",
   "metadata": {},
   "outputs": [],
   "source": [
    "df_template = df_template[['Agent AOR','NPN AOR', 'Contact', 'Carrier', 'State','Policy Number', 'Policy Type', 'Claro Type','Record Type Id', 'Carrier State line of Business','Source', 'Status', 'Effective Date',\n",
    "            'Plan','Members', 'Last Status Modification Date', 'Loading Date',  'Final Premium','Member First Name', 'Member Last Name'\n",
    "            ]]"
   ]
  },
  {
   "cell_type": "code",
   "execution_count": 78,
   "id": "51cd892e-260b-4800-8d27-33c6aa0c130d",
   "metadata": {},
   "outputs": [],
   "source": [
    "df_times = df_template.copy()\n",
    "df_times[['Last Status Modification Date', 'Loading Date']] = df_template[['Last Status Modification Date', 'Loading Date']].apply(lambda x : pd.to_datetime(x, format='%d-%m-%Y').dt.strftime('%m/%d/%Y'), axis='columns')\n",
    "df_template = df_times"
   ]
  },
  {
   "cell_type": "code",
   "execution_count": 86,
   "id": "de011215-4e9d-4a20-8d5b-fa113cafcbe5",
   "metadata": {},
   "outputs": [],
   "source": [
    "df_template.to_csv(f'/mnt/c/Users/cesar/Desktop/claro/imports/life_ameritas{date}_.csv', index=False)"
   ]
  },
  {
   "cell_type": "code",
   "execution_count": 85,
   "id": "16d3c48c-9ed7-4cf6-9c51-2ea6065f43e5",
   "metadata": {},
   "outputs": [
    {
     "data": {
      "text/html": [
       "<div>\n",
       "<style scoped>\n",
       "    .dataframe tbody tr th:only-of-type {\n",
       "        vertical-align: middle;\n",
       "    }\n",
       "\n",
       "    .dataframe tbody tr th {\n",
       "        vertical-align: top;\n",
       "    }\n",
       "\n",
       "    .dataframe thead th {\n",
       "        text-align: right;\n",
       "    }\n",
       "</style>\n",
       "<table border=\"1\" class=\"dataframe\">\n",
       "  <thead>\n",
       "    <tr style=\"text-align: right;\">\n",
       "      <th></th>\n",
       "      <th>Agent AOR</th>\n",
       "      <th>NPN AOR</th>\n",
       "      <th>Contact</th>\n",
       "      <th>Carrier</th>\n",
       "      <th>State</th>\n",
       "      <th>Policy Number</th>\n",
       "      <th>Policy Type</th>\n",
       "      <th>Claro Type</th>\n",
       "      <th>Record Type Id</th>\n",
       "      <th>Carrier State line of Business</th>\n",
       "      <th>Source</th>\n",
       "      <th>Status</th>\n",
       "      <th>Effective Date</th>\n",
       "      <th>Plan</th>\n",
       "      <th>Members</th>\n",
       "      <th>Last Status Modification Date</th>\n",
       "      <th>Loading Date</th>\n",
       "      <th>Final Premium</th>\n",
       "      <th>Member First Name</th>\n",
       "      <th>Member Last Name</th>\n",
       "    </tr>\n",
       "  </thead>\n",
       "  <tbody>\n",
       "    <tr>\n",
       "      <th>0</th>\n",
       "      <td>GONZALEZ, ANDRES</td>\n",
       "      <td>18233171</td>\n",
       "      <td>0031G00000tqyDfQAI</td>\n",
       "      <td>a0S1G000006iXuWUAU</td>\n",
       "      <td>FL</td>\n",
       "      <td>CT60009888</td>\n",
       "      <td>New Sale</td>\n",
       "      <td>New Sale</td>\n",
       "      <td>0121G000000bpwvQAA</td>\n",
       "      <td>a091G00000B5DUcQAN</td>\n",
       "      <td>Referal</td>\n",
       "      <td>Active</td>\n",
       "      <td>01/17/2023</td>\n",
       "      <td>20 Year Term</td>\n",
       "      <td>1</td>\n",
       "      <td>01/30/2023</td>\n",
       "      <td>01/30/2023</td>\n",
       "      <td>NaN</td>\n",
       "      <td>JENNIFER</td>\n",
       "      <td>SANCHEZ</td>\n",
       "    </tr>\n",
       "  </tbody>\n",
       "</table>\n",
       "</div>"
      ],
      "text/plain": [
       "          Agent AOR   NPN AOR             Contact             Carrier State  \\\n",
       "0  GONZALEZ, ANDRES  18233171  0031G00000tqyDfQAI  a0S1G000006iXuWUAU    FL   \n",
       "\n",
       "  Policy Number Policy Type Claro Type      Record Type Id  \\\n",
       "0    CT60009888    New Sale   New Sale  0121G000000bpwvQAA   \n",
       "\n",
       "  Carrier State line of Business   Source  Status Effective Date  \\\n",
       "0             a091G00000B5DUcQAN  Referal  Active     01/17/2023   \n",
       "\n",
       "           Plan  Members Last Status Modification Date Loading Date  \\\n",
       "0  20 Year Term        1                    01/30/2023   01/30/2023   \n",
       "\n",
       "   Final Premium Member First Name Member Last Name  \n",
       "0            NaN          JENNIFER          SANCHEZ  "
      ]
     },
     "execution_count": 85,
     "metadata": {},
     "output_type": "execute_result"
    }
   ],
   "source": [
    "df_template"
   ]
  },
  {
   "cell_type": "code",
   "execution_count": null,
   "id": "05ccabab-67b2-46e3-b6fe-b8e6ffa61579",
   "metadata": {},
   "outputs": [],
   "source": []
  },
  {
   "cell_type": "code",
   "execution_count": null,
   "id": "f28a6ba3-b846-472e-9807-7602c4163b49",
   "metadata": {},
   "outputs": [],
   "source": []
  },
  {
   "cell_type": "code",
   "execution_count": null,
   "id": "43615393-bcc9-4008-ba0e-593ed55327ca",
   "metadata": {},
   "outputs": [],
   "source": []
  },
  {
   "cell_type": "code",
   "execution_count": null,
   "id": "ee1c4d7c-a228-457a-9243-2febe53ef3a1",
   "metadata": {},
   "outputs": [],
   "source": []
  },
  {
   "cell_type": "code",
   "execution_count": 84,
   "id": "1a5b5c71-3ddd-41ee-a411-11f7ffa16963",
   "metadata": {},
   "outputs": [],
   "source": [
    "df_template['Status'] = 'Active'"
   ]
  },
  {
   "cell_type": "code",
   "execution_count": null,
   "id": "f4feb8af-d443-4d4b-bd4e-4c003f51c38e",
   "metadata": {},
   "outputs": [],
   "source": []
  },
  {
   "cell_type": "code",
   "execution_count": null,
   "id": "0dd0d547-b76f-440d-9664-c898e3aec736",
   "metadata": {},
   "outputs": [],
   "source": []
  },
  {
   "cell_type": "markdown",
   "id": "a1773d7f-fbe6-4f32-8f6e-a3b296efd16f",
   "metadata": {},
   "source": [
    "# America National"
   ]
  },
  {
   "cell_type": "code",
   "execution_count": 115,
   "id": "22379266-a7e9-4d1e-ba48-9469c40d1396",
   "metadata": {},
   "outputs": [],
   "source": [
    "df_a = (pd.read_csv('//mnt/c/Users/cesar/Desktop/claro/life/AmricaNational/OR_New America National 01-26-2023.csv')\n",
    "                     .dropna(axis='columns', how='all')\n",
    "                     .dropna( how='all'))"
   ]
  },
  {
   "cell_type": "code",
   "execution_count": 116,
   "id": "8fbfc58d-f533-447f-8feb-1983d97ce2f4",
   "metadata": {},
   "outputs": [
    {
     "data": {
      "text/html": [
       "<div>\n",
       "<style scoped>\n",
       "    .dataframe tbody tr th:only-of-type {\n",
       "        vertical-align: middle;\n",
       "    }\n",
       "\n",
       "    .dataframe tbody tr th {\n",
       "        vertical-align: top;\n",
       "    }\n",
       "\n",
       "    .dataframe thead th {\n",
       "        text-align: right;\n",
       "    }\n",
       "</style>\n",
       "<table border=\"1\" class=\"dataframe\">\n",
       "  <thead>\n",
       "    <tr style=\"text-align: right;\">\n",
       "      <th></th>\n",
       "      <th>Agent Name</th>\n",
       "      <th>Policy Type</th>\n",
       "      <th>Policy Number</th>\n",
       "      <th>Critical</th>\n",
       "      <th>Last Update</th>\n",
       "      <th>Product</th>\n",
       "      <th>Annual Premium</th>\n",
       "      <th>Face Amount</th>\n",
       "      <th>State</th>\n",
       "      <th>Applicant</th>\n",
       "      <th>Status</th>\n",
       "      <th>NIA</th>\n",
       "      <th>Requirement</th>\n",
       "      <th>Mailed</th>\n",
       "      <th>Allotment</th>\n",
       "    </tr>\n",
       "  </thead>\n",
       "  <tbody>\n",
       "    <tr>\n",
       "      <th>0</th>\n",
       "      <td>ANDRES FELIPE GONZALEZ</td>\n",
       "      <td>Life New Business</td>\n",
       "      <td>E0247216</td>\n",
       "      <td>No</td>\n",
       "      <td>01/25/2023</td>\n",
       "      <td>Signature Term - 20 Yr</td>\n",
       "      <td>$508.08</td>\n",
       "      <td>$500,000.00</td>\n",
       "      <td>FL</td>\n",
       "      <td>Sonia Ramirez</td>\n",
       "      <td>Waiting for Requirements</td>\n",
       "      <td>No</td>\n",
       "      <td>Yes</td>\n",
       "      <td>Yes</td>\n",
       "      <td>No</td>\n",
       "    </tr>\n",
       "    <tr>\n",
       "      <th>1</th>\n",
       "      <td>ANDRES FELIPE GONZALEZ</td>\n",
       "      <td>Life New Business</td>\n",
       "      <td>E0247201</td>\n",
       "      <td>No</td>\n",
       "      <td>01/16/2023</td>\n",
       "      <td>Signature Term - 20 Yr</td>\n",
       "      <td>$648.00</td>\n",
       "      <td>$500,000.00</td>\n",
       "      <td>FL</td>\n",
       "      <td>Juan Rojas</td>\n",
       "      <td>Waiting for Requirements</td>\n",
       "      <td>No</td>\n",
       "      <td>Yes</td>\n",
       "      <td>Yes</td>\n",
       "      <td>No</td>\n",
       "    </tr>\n",
       "    <tr>\n",
       "      <th>2</th>\n",
       "      <td>DORILUZ PINA</td>\n",
       "      <td>Life New Business</td>\n",
       "      <td>E0247252</td>\n",
       "      <td>No</td>\n",
       "      <td>01/26/2023</td>\n",
       "      <td>Signature Term - 20 Yr</td>\n",
       "      <td>$1,024.92</td>\n",
       "      <td>$150,000.00</td>\n",
       "      <td>FL</td>\n",
       "      <td>Santos Mendoza</td>\n",
       "      <td>Requirements Received - Pending UW Review</td>\n",
       "      <td>No</td>\n",
       "      <td>No</td>\n",
       "      <td>Yes</td>\n",
       "      <td>No</td>\n",
       "    </tr>\n",
       "    <tr>\n",
       "      <th>3</th>\n",
       "      <td>OLVANDA ALTAGRACIA RAMIREZ HERRERA</td>\n",
       "      <td>Life New Business</td>\n",
       "      <td>E0247277</td>\n",
       "      <td>No</td>\n",
       "      <td>01/12/2023</td>\n",
       "      <td>Signature Term - 20 Yr</td>\n",
       "      <td>$2,553.12</td>\n",
       "      <td>$250,000.00</td>\n",
       "      <td>FL</td>\n",
       "      <td>Gerardo Nunez</td>\n",
       "      <td>Waiting for Requirements</td>\n",
       "      <td>No</td>\n",
       "      <td>Yes</td>\n",
       "      <td>Yes</td>\n",
       "      <td>No</td>\n",
       "    </tr>\n",
       "    <tr>\n",
       "      <th>4</th>\n",
       "      <td>OLVANDA ALTAGRACIA RAMIREZ HERRERA</td>\n",
       "      <td>Life New Business</td>\n",
       "      <td>E0247238</td>\n",
       "      <td>No</td>\n",
       "      <td>01/19/2023</td>\n",
       "      <td>Signature Term - 20 Yr</td>\n",
       "      <td>$5,804.04</td>\n",
       "      <td>$600,000.00</td>\n",
       "      <td>FL</td>\n",
       "      <td>Gerardo Nunez</td>\n",
       "      <td>Waiting for Requirements</td>\n",
       "      <td>No</td>\n",
       "      <td>Yes</td>\n",
       "      <td>Yes</td>\n",
       "      <td>No</td>\n",
       "    </tr>\n",
       "  </tbody>\n",
       "</table>\n",
       "</div>"
      ],
      "text/plain": [
       "                           Agent Name        Policy Type Policy Number  \\\n",
       "0              ANDRES FELIPE GONZALEZ  Life New Business      E0247216   \n",
       "1              ANDRES FELIPE GONZALEZ  Life New Business      E0247201   \n",
       "2                        DORILUZ PINA  Life New Business      E0247252   \n",
       "3  OLVANDA ALTAGRACIA RAMIREZ HERRERA  Life New Business      E0247277   \n",
       "4  OLVANDA ALTAGRACIA RAMIREZ HERRERA  Life New Business      E0247238   \n",
       "\n",
       "  Critical Last Update                 Product Annual Premium  Face Amount  \\\n",
       "0       No  01/25/2023  Signature Term - 20 Yr        $508.08  $500,000.00   \n",
       "1       No  01/16/2023  Signature Term - 20 Yr        $648.00  $500,000.00   \n",
       "2       No  01/26/2023  Signature Term - 20 Yr      $1,024.92  $150,000.00   \n",
       "3       No  01/12/2023  Signature Term - 20 Yr      $2,553.12  $250,000.00   \n",
       "4       No  01/19/2023  Signature Term - 20 Yr      $5,804.04  $600,000.00   \n",
       "\n",
       "  State       Applicant                                     Status NIA  \\\n",
       "0    FL   Sonia Ramirez                   Waiting for Requirements  No   \n",
       "1    FL      Juan Rojas                   Waiting for Requirements  No   \n",
       "2    FL  Santos Mendoza  Requirements Received - Pending UW Review  No   \n",
       "3    FL   Gerardo Nunez                   Waiting for Requirements  No   \n",
       "4    FL   Gerardo Nunez                   Waiting for Requirements  No   \n",
       "\n",
       "  Requirement Mailed Allotment  \n",
       "0         Yes    Yes        No  \n",
       "1         Yes    Yes        No  \n",
       "2          No    Yes        No  \n",
       "3         Yes    Yes        No  \n",
       "4         Yes    Yes        No  "
      ]
     },
     "execution_count": 116,
     "metadata": {},
     "output_type": "execute_result"
    }
   ],
   "source": [
    "df_a.head()"
   ]
  },
  {
   "cell_type": "markdown",
   "id": "19336a83-11f8-4085-9e91-8244773c38a5",
   "metadata": {},
   "source": [
    "## Homologación"
   ]
  },
  {
   "cell_type": "code",
   "execution_count": 117,
   "id": "ecd7a371-9e11-4483-91b9-4284954cda0c",
   "metadata": {},
   "outputs": [
    {
     "data": {
      "text/plain": [
       "Index(['Agent Name', 'Policy Type', 'Policy Number', 'Critical', 'Last Update',\n",
       "       'Product', 'Annual Premium', 'Face Amount', 'State', 'Applicant',\n",
       "       'Status', 'NIA', 'Requirement', 'Mailed', 'Allotment'],\n",
       "      dtype='object')"
      ]
     },
     "execution_count": 117,
     "metadata": {},
     "output_type": "execute_result"
    }
   ],
   "source": [
    "df_a.columns"
   ]
  },
  {
   "cell_type": "code",
   "execution_count": 118,
   "id": "3ec16c18-7068-49ef-882e-f6696d9a884e",
   "metadata": {},
   "outputs": [],
   "source": [
    "df_a = df_a.rename(\n",
    "    columns={\n",
    "        'Policy Number':'PolicyNumber',\n",
    "        'Applicant':'Insured',\n",
    "        'Agent Name':'Agent AOR',\n",
    "        'Status':'Status',\n",
    "        'Last Update':'EffectiveDate',\n",
    "        'Annual Premium': 'FinalPremium'        \n",
    "        \n",
    "    }\n",
    ")"
   ]
  },
  {
   "cell_type": "markdown",
   "id": "25d5e24f-610d-4b39-8981-0350430ace2d",
   "metadata": {},
   "source": [
    "### Extraer las polizas de National Life"
   ]
  },
  {
   "cell_type": "code",
   "execution_count": 119,
   "id": "8477e642-0d8a-477d-81e3-4cdc607a24c6",
   "metadata": {},
   "outputs": [],
   "source": [
    "df_b = extractCarrier(df_b, 'American National', 'Carrier')"
   ]
  },
  {
   "cell_type": "code",
   "execution_count": 120,
   "id": "6150d435-917f-4bc8-9af8-a1958f4e8c9a",
   "metadata": {},
   "outputs": [
    {
     "data": {
      "text/html": [
       "<div>\n",
       "<style scoped>\n",
       "    .dataframe tbody tr th:only-of-type {\n",
       "        vertical-align: middle;\n",
       "    }\n",
       "\n",
       "    .dataframe tbody tr th {\n",
       "        vertical-align: top;\n",
       "    }\n",
       "\n",
       "    .dataframe thead th {\n",
       "        text-align: right;\n",
       "    }\n",
       "</style>\n",
       "<table border=\"1\" class=\"dataframe\">\n",
       "  <thead>\n",
       "    <tr style=\"text-align: right;\">\n",
       "      <th></th>\n",
       "      <th>Book of Business: BOB Name</th>\n",
       "      <th>Account Executive Name</th>\n",
       "      <th>Carrier</th>\n",
       "      <th>NPN AOR</th>\n",
       "      <th>Agent AOR</th>\n",
       "      <th>Internal Agent</th>\n",
       "      <th>NPN Internal Agent</th>\n",
       "      <th>Contact</th>\n",
       "      <th>Policy Number</th>\n",
       "      <th>Source</th>\n",
       "      <th>...</th>\n",
       "      <th>Email</th>\n",
       "      <th>Metal Level</th>\n",
       "      <th>Zip Code</th>\n",
       "      <th>Book of Business: Last Modified Date</th>\n",
       "      <th>Note</th>\n",
       "      <th>Claro Type</th>\n",
       "      <th>Previous BOB ID</th>\n",
       "      <th>Carrier State line of Business</th>\n",
       "      <th>Book of Business: ID</th>\n",
       "      <th>Account Executive</th>\n",
       "    </tr>\n",
       "  </thead>\n",
       "  <tbody>\n",
       "    <tr>\n",
       "      <th>24550</th>\n",
       "      <td>BOB# 00024753</td>\n",
       "      <td>Luigi Fuentes</td>\n",
       "      <td>American National</td>\n",
       "      <td>8429926.0</td>\n",
       "      <td>INSURANCE XL INC</td>\n",
       "      <td>Adriana  Gonzalez</td>\n",
       "      <td>8429926.0</td>\n",
       "      <td>Adriana Gonzalez</td>\n",
       "      <td>UE095096</td>\n",
       "      <td>Direct</td>\n",
       "      <td>...</td>\n",
       "      <td>NaN</td>\n",
       "      <td>NaN</td>\n",
       "      <td>NaN</td>\n",
       "      <td>1/2/2023</td>\n",
       "      <td>NaN</td>\n",
       "      <td>Renewals</td>\n",
       "      <td>NaN</td>\n",
       "      <td>American National Florida</td>\n",
       "      <td>a1C1G000006ZFFH</td>\n",
       "      <td></td>\n",
       "    </tr>\n",
       "    <tr>\n",
       "      <th>24551</th>\n",
       "      <td>BOB# 00024754</td>\n",
       "      <td></td>\n",
       "      <td>American National</td>\n",
       "      <td>8429926.0</td>\n",
       "      <td>INSURANCE XL INC</td>\n",
       "      <td>Adriana  Gonzalez</td>\n",
       "      <td>8429926.0</td>\n",
       "      <td>Adriana Gonzalez</td>\n",
       "      <td>E0125027</td>\n",
       "      <td>Direct</td>\n",
       "      <td>...</td>\n",
       "      <td>NaN</td>\n",
       "      <td>NaN</td>\n",
       "      <td>NaN</td>\n",
       "      <td>1/2/2023</td>\n",
       "      <td>NaN</td>\n",
       "      <td>Renewals</td>\n",
       "      <td>NaN</td>\n",
       "      <td>American National Florida</td>\n",
       "      <td>a1C1G000006ZFFI</td>\n",
       "      <td></td>\n",
       "    </tr>\n",
       "    <tr>\n",
       "      <th>24552</th>\n",
       "      <td>BOB# 00024755</td>\n",
       "      <td>Luigi Fuentes</td>\n",
       "      <td>American National</td>\n",
       "      <td>8429926.0</td>\n",
       "      <td>INSURANCE XL INC</td>\n",
       "      <td>Adriana  Gonzalez</td>\n",
       "      <td>8429926.0</td>\n",
       "      <td>Adriana Gonzalez</td>\n",
       "      <td>UE095094</td>\n",
       "      <td>Direct</td>\n",
       "      <td>...</td>\n",
       "      <td>NaN</td>\n",
       "      <td>NaN</td>\n",
       "      <td>NaN</td>\n",
       "      <td>1/2/2023</td>\n",
       "      <td>NaN</td>\n",
       "      <td>Renewals</td>\n",
       "      <td>NaN</td>\n",
       "      <td>American National Florida</td>\n",
       "      <td>a1C1G000006ZFFJ</td>\n",
       "      <td></td>\n",
       "    </tr>\n",
       "  </tbody>\n",
       "</table>\n",
       "<p>3 rows × 54 columns</p>\n",
       "</div>"
      ],
      "text/plain": [
       "      Book of Business: BOB Name Account Executive Name            Carrier  \\\n",
       "24550              BOB# 00024753          Luigi Fuentes  American National   \n",
       "24551              BOB# 00024754                         American National   \n",
       "24552              BOB# 00024755          Luigi Fuentes  American National   \n",
       "\n",
       "         NPN AOR         Agent AOR     Internal Agent  NPN Internal Agent  \\\n",
       "24550  8429926.0  INSURANCE XL INC  Adriana  Gonzalez           8429926.0   \n",
       "24551  8429926.0  INSURANCE XL INC  Adriana  Gonzalez           8429926.0   \n",
       "24552  8429926.0  INSURANCE XL INC  Adriana  Gonzalez           8429926.0   \n",
       "\n",
       "                Contact Policy Number  Source  ...  Email Metal Level  \\\n",
       "24550  Adriana Gonzalez      UE095096  Direct  ...    NaN         NaN   \n",
       "24551  Adriana Gonzalez      E0125027  Direct  ...    NaN         NaN   \n",
       "24552  Adriana Gonzalez      UE095094  Direct  ...    NaN         NaN   \n",
       "\n",
       "      Zip Code Book of Business: Last Modified Date Note Claro Type  \\\n",
       "24550      NaN                             1/2/2023  NaN   Renewals   \n",
       "24551      NaN                             1/2/2023  NaN   Renewals   \n",
       "24552      NaN                             1/2/2023  NaN   Renewals   \n",
       "\n",
       "      Previous BOB ID Carrier State line of Business  Book of Business: ID  \\\n",
       "24550             NaN      American National Florida       a1C1G000006ZFFH   \n",
       "24551             NaN      American National Florida       a1C1G000006ZFFI   \n",
       "24552             NaN      American National Florida       a1C1G000006ZFFJ   \n",
       "\n",
       "      Account Executive  \n",
       "24550                    \n",
       "24551                    \n",
       "24552                    \n",
       "\n",
       "[3 rows x 54 columns]"
      ]
     },
     "execution_count": 120,
     "metadata": {},
     "output_type": "execute_result"
    }
   ],
   "source": [
    "df_b.head(3)"
   ]
  },
  {
   "cell_type": "markdown",
   "id": "70debfe4-2602-4c5b-ab77-f84f377fbf8b",
   "metadata": {},
   "source": [
    "### Hacer join"
   ]
  },
  {
   "cell_type": "code",
   "execution_count": 121,
   "id": "ec7b4d7e-c0ab-4d8a-afb6-b8596ae45c83",
   "metadata": {},
   "outputs": [],
   "source": [
    "def leftJoinBOB(new_policies, bob_policies):\n",
    "    upload = list(set(new_policies) - set(bob_policies) )\n",
    "    return upload"
   ]
  },
  {
   "cell_type": "code",
   "execution_count": 122,
   "id": "1bcdcfa8-43cf-41c3-80f1-f1477d104793",
   "metadata": {},
   "outputs": [],
   "source": [
    "upload = leftJoinBOB(df_a['PolicyNumber'].values, df_b['Policy Number'].values)"
   ]
  },
  {
   "cell_type": "code",
   "execution_count": 123,
   "id": "a21bcbb4-e773-4571-a72f-0a742c46dd3e",
   "metadata": {},
   "outputs": [],
   "source": [
    "df_upload = df_a[df_a['PolicyNumber'].isin(upload)]"
   ]
  },
  {
   "cell_type": "code",
   "execution_count": 124,
   "id": "b71d1ebd-4d5e-4b93-8bba-0bcd5630a084",
   "metadata": {},
   "outputs": [
    {
     "data": {
      "text/plain": [
       "(0, 15)"
      ]
     },
     "execution_count": 124,
     "metadata": {},
     "output_type": "execute_result"
    }
   ],
   "source": [
    "df_upload.shape"
   ]
  },
  {
   "cell_type": "code",
   "execution_count": 125,
   "id": "dc0e349b-e9c8-4e24-9c14-cef52d303b3e",
   "metadata": {},
   "outputs": [
    {
     "data": {
      "text/html": [
       "<div>\n",
       "<style scoped>\n",
       "    .dataframe tbody tr th:only-of-type {\n",
       "        vertical-align: middle;\n",
       "    }\n",
       "\n",
       "    .dataframe tbody tr th {\n",
       "        vertical-align: top;\n",
       "    }\n",
       "\n",
       "    .dataframe thead th {\n",
       "        text-align: right;\n",
       "    }\n",
       "</style>\n",
       "<table border=\"1\" class=\"dataframe\">\n",
       "  <thead>\n",
       "    <tr style=\"text-align: right;\">\n",
       "      <th></th>\n",
       "      <th>Agent AOR</th>\n",
       "      <th>Policy Type</th>\n",
       "      <th>PolicyNumber</th>\n",
       "      <th>Critical</th>\n",
       "      <th>EffectiveDate</th>\n",
       "      <th>Product</th>\n",
       "      <th>FinalPremium</th>\n",
       "      <th>Face Amount</th>\n",
       "      <th>State</th>\n",
       "      <th>Insured</th>\n",
       "      <th>Status</th>\n",
       "      <th>NIA</th>\n",
       "      <th>Requirement</th>\n",
       "      <th>Mailed</th>\n",
       "      <th>Allotment</th>\n",
       "    </tr>\n",
       "  </thead>\n",
       "  <tbody>\n",
       "  </tbody>\n",
       "</table>\n",
       "</div>"
      ],
      "text/plain": [
       "Empty DataFrame\n",
       "Columns: [Agent AOR, Policy Type, PolicyNumber, Critical, EffectiveDate, Product, FinalPremium, Face Amount, State, Insured, Status, NIA, Requirement, Mailed, Allotment]\n",
       "Index: []"
      ]
     },
     "execution_count": 125,
     "metadata": {},
     "output_type": "execute_result"
    }
   ],
   "source": [
    "df_upload"
   ]
  },
  {
   "cell_type": "markdown",
   "id": "57e95516-41c6-4d3f-a0fa-11ac6619ce58",
   "metadata": {},
   "source": [
    "### Upload into template"
   ]
  },
  {
   "cell_type": "code",
   "execution_count": 99,
   "id": "eb076424-5ece-4d10-8fd9-e133dff22be0",
   "metadata": {},
   "outputs": [],
   "source": [
    "df_upload.reset_index(drop=True, inplace=True)"
   ]
  },
  {
   "cell_type": "code",
   "execution_count": 100,
   "id": "b4ab7e81-bbb3-478f-836f-769b3c2d63ed",
   "metadata": {},
   "outputs": [],
   "source": [
    "df_template = pd.read_csv('//mnt/c/Users/cesar/Desktop/claro/Format_Create_BOB.csv').head(0)"
   ]
  },
  {
   "cell_type": "code",
   "execution_count": 101,
   "id": "407dfdc8-c432-4e04-98d0-d7181821ff7d",
   "metadata": {},
   "outputs": [
    {
     "data": {
      "text/html": [
       "<div>\n",
       "<style scoped>\n",
       "    .dataframe tbody tr th:only-of-type {\n",
       "        vertical-align: middle;\n",
       "    }\n",
       "\n",
       "    .dataframe tbody tr th {\n",
       "        vertical-align: top;\n",
       "    }\n",
       "\n",
       "    .dataframe thead th {\n",
       "        text-align: right;\n",
       "    }\n",
       "</style>\n",
       "<table border=\"1\" class=\"dataframe\">\n",
       "  <thead>\n",
       "    <tr style=\"text-align: right;\">\n",
       "      <th></th>\n",
       "      <th>Carrier___</th>\n",
       "      <th>LOB____</th>\n",
       "      <th>Carrier</th>\n",
       "      <th>Agent AOR</th>\n",
       "      <th>NPN AOR</th>\n",
       "      <th>Contact____</th>\n",
       "      <th>NPN_Internal____</th>\n",
       "      <th>Contact</th>\n",
       "      <th>Policy Number</th>\n",
       "      <th>Source</th>\n",
       "      <th>...</th>\n",
       "      <th>Subsidy</th>\n",
       "      <th>Annual Premium</th>\n",
       "      <th>Paid Thru Date</th>\n",
       "      <th>Days Past Due</th>\n",
       "      <th>Phone Number</th>\n",
       "      <th>Email</th>\n",
       "      <th>Metal Level</th>\n",
       "      <th>Zip Code</th>\n",
       "      <th>Claro Type</th>\n",
       "      <th>Carrier State line of Business</th>\n",
       "    </tr>\n",
       "  </thead>\n",
       "  <tbody>\n",
       "  </tbody>\n",
       "</table>\n",
       "<p>0 rows × 40 columns</p>\n",
       "</div>"
      ],
      "text/plain": [
       "Empty DataFrame\n",
       "Columns: [Carrier___, LOB____, Carrier, Agent AOR, NPN AOR, Contact____, NPN_Internal____, Contact, Policy Number, Source, Referrals_____, Referrals Id, Status, Effective Date, Transaction Date, Policy Term Date, Member First Name, Member Last Name, DOB, State, County, City, Members, Policy Type, Last Status Modification Date, Loading Date, Record Type Id, Plan, Election Period, Final Premium, Subsidy, Annual Premium, Paid Thru Date, Days Past Due, Phone Number, Email, Metal Level, Zip Code, Claro Type, Carrier State line of Business]\n",
       "Index: []\n",
       "\n",
       "[0 rows x 40 columns]"
      ]
     },
     "execution_count": 101,
     "metadata": {},
     "output_type": "execute_result"
    }
   ],
   "source": [
    "df_template"
   ]
  },
  {
   "cell_type": "code",
   "execution_count": 102,
   "id": "b043ff17-aaab-49db-b577-125df83ac005",
   "metadata": {},
   "outputs": [
    {
     "data": {
      "text/html": [
       "<div>\n",
       "<style scoped>\n",
       "    .dataframe tbody tr th:only-of-type {\n",
       "        vertical-align: middle;\n",
       "    }\n",
       "\n",
       "    .dataframe tbody tr th {\n",
       "        vertical-align: top;\n",
       "    }\n",
       "\n",
       "    .dataframe thead th {\n",
       "        text-align: right;\n",
       "    }\n",
       "</style>\n",
       "<table border=\"1\" class=\"dataframe\">\n",
       "  <thead>\n",
       "    <tr style=\"text-align: right;\">\n",
       "      <th></th>\n",
       "      <th>Agent AOR</th>\n",
       "      <th>Policy Type</th>\n",
       "      <th>PolicyNumber</th>\n",
       "      <th>Critical</th>\n",
       "      <th>EffectiveDate</th>\n",
       "      <th>Product</th>\n",
       "      <th>FinalPremium</th>\n",
       "      <th>Face Amount</th>\n",
       "      <th>State</th>\n",
       "      <th>Insured</th>\n",
       "      <th>Status</th>\n",
       "      <th>NIA</th>\n",
       "      <th>Requirement</th>\n",
       "      <th>Mailed</th>\n",
       "      <th>Allotment</th>\n",
       "    </tr>\n",
       "  </thead>\n",
       "  <tbody>\n",
       "  </tbody>\n",
       "</table>\n",
       "</div>"
      ],
      "text/plain": [
       "Empty DataFrame\n",
       "Columns: [Agent AOR, Policy Type, PolicyNumber, Critical, EffectiveDate, Product, FinalPremium, Face Amount, State, Insured, Status, NIA, Requirement, Mailed, Allotment]\n",
       "Index: []"
      ]
     },
     "execution_count": 102,
     "metadata": {},
     "output_type": "execute_result"
    }
   ],
   "source": [
    "df_upload"
   ]
  },
  {
   "cell_type": "code",
   "execution_count": 103,
   "id": "6d63e98c-fe54-4acd-af6f-d0320a7cfe9c",
   "metadata": {},
   "outputs": [],
   "source": [
    "df_template['Member First Name'] = df_upload['Insured'].apply(lambda x : split_names(x, first=False))"
   ]
  },
  {
   "cell_type": "code",
   "execution_count": 104,
   "id": "9eec454c-8bc4-4e8a-bb5d-765e013ffb0a",
   "metadata": {},
   "outputs": [],
   "source": [
    "df_template['Member Last Name'] = df_upload['Insured'].apply(lambda x : split_names(x))"
   ]
  },
  {
   "cell_type": "code",
   "execution_count": 105,
   "id": "dc72fb51-90e6-4473-80b0-5b11beb7a49d",
   "metadata": {},
   "outputs": [],
   "source": [
    "df_template.reset_index(drop=True, inplace=True)"
   ]
  },
  {
   "cell_type": "code",
   "execution_count": 106,
   "id": "eb88440e-72f7-44fb-8156-8c0f5ab40f00",
   "metadata": {},
   "outputs": [],
   "source": [
    "df_template['Policy Number'] = df_upload['PolicyNumber']"
   ]
  },
  {
   "cell_type": "code",
   "execution_count": 107,
   "id": "447f43bb-6206-4dcc-a116-c53398de2f32",
   "metadata": {},
   "outputs": [],
   "source": [
    "df_template['Final Premium'] = df_upload['FinalPremium']"
   ]
  },
  {
   "cell_type": "code",
   "execution_count": 108,
   "id": "19269335-f9b1-4148-b3ae-c178416afeba",
   "metadata": {},
   "outputs": [],
   "source": [
    "df_template['Plan'] = df_upload['Product']"
   ]
  },
  {
   "cell_type": "code",
   "execution_count": 109,
   "id": "fccaba71-f5e9-4086-8918-1ffc8a80771e",
   "metadata": {},
   "outputs": [],
   "source": [
    "df_template['Agent AOR'] = df_upload['Agent AOR']"
   ]
  },
  {
   "cell_type": "code",
   "execution_count": 110,
   "id": "8ac75979-5390-44e8-88d9-996be3b5a7ce",
   "metadata": {},
   "outputs": [],
   "source": [
    "df_template['Effective Date'] = df_upload['EffectiveDate']"
   ]
  },
  {
   "cell_type": "code",
   "execution_count": 111,
   "id": "16ba76e4-03f8-4c98-bd65-0849ddae9ef0",
   "metadata": {},
   "outputs": [],
   "source": [
    "df_template['LOB____'] = 'Life'"
   ]
  },
  {
   "cell_type": "code",
   "execution_count": 112,
   "id": "4a8f00e6-e76f-4fde-b9ea-462037d55e51",
   "metadata": {},
   "outputs": [],
   "source": [
    "#df_an = df_upload.copy()\n",
    "\n",
    "#df_an['AgentNumber'] = 'Q01P6'"
   ]
  },
  {
   "cell_type": "code",
   "execution_count": 113,
   "id": "d370b00e-a031-4956-a0b7-ec03eec90390",
   "metadata": {},
   "outputs": [
    {
     "ename": "NameError",
     "evalue": "name 'df_an' is not defined",
     "output_type": "error",
     "traceback": [
      "\u001b[0;31m---------------------------------------------------------------------------\u001b[0m",
      "\u001b[0;31mNameError\u001b[0m                                 Traceback (most recent call last)",
      "\u001b[0;32m<ipython-input-113-f22ffa9df156>\u001b[0m in \u001b[0;36m<module>\u001b[0;34m\u001b[0m\n\u001b[0;32m----> 1\u001b[0;31m \u001b[0mdf_upload\u001b[0m \u001b[0;34m=\u001b[0m \u001b[0mdf_an\u001b[0m\u001b[0;34m\u001b[0m\u001b[0;34m\u001b[0m\u001b[0m\n\u001b[0m",
      "\u001b[0;31mNameError\u001b[0m: name 'df_an' is not defined"
     ]
    }
   ],
   "source": [
    "df_upload = df_an"
   ]
  },
  {
   "cell_type": "markdown",
   "id": "cde2ea8c-810a-4666-b8aa-c400973fa1e1",
   "metadata": {},
   "source": [
    "#### Source"
   ]
  },
  {
   "cell_type": "code",
   "execution_count": 210,
   "id": "d35d50c7-b08f-48cc-a043-2e00060c68d5",
   "metadata": {
    "tags": []
   },
   "outputs": [],
   "source": [
    "df_template = getSource(query_referals_agents, connection, df_template, df_upload)"
   ]
  },
  {
   "cell_type": "markdown",
   "id": "a78459bb-2433-41df-8a50-10cb9fc59d5b",
   "metadata": {},
   "source": [
    "#### Mermbers"
   ]
  },
  {
   "cell_type": "code",
   "execution_count": 211,
   "id": "e5888120-acf5-4215-8861-293ce0fe54b8",
   "metadata": {},
   "outputs": [],
   "source": [
    "df_template['Members'] = 1"
   ]
  },
  {
   "cell_type": "markdown",
   "id": "cbc1c81b-c163-4433-9637-89217157a370",
   "metadata": {},
   "source": [
    "#### Record Type ID"
   ]
  },
  {
   "cell_type": "code",
   "execution_count": 212,
   "id": "7e45f0e1-791a-413e-99fb-c72346a598d9",
   "metadata": {
    "tags": []
   },
   "outputs": [],
   "source": [
    "# df_template['Record Type Id']"
   ]
  },
  {
   "cell_type": "markdown",
   "id": "e6c1d2a6-e8c0-4429-aced-0d557122399d",
   "metadata": {},
   "source": [
    "#### State"
   ]
  },
  {
   "cell_type": "code",
   "execution_count": 213,
   "id": "2434f7c6-61ab-4961-9f32-e4005c109eb1",
   "metadata": {},
   "outputs": [],
   "source": [
    "df_template['State'] = 'FL'"
   ]
  },
  {
   "cell_type": "markdown",
   "id": "4fdd811e-0a80-451a-bd16-5b36fe23573a",
   "metadata": {},
   "source": [
    "#### Record Type"
   ]
  },
  {
   "cell_type": "code",
   "execution_count": 214,
   "id": "61dfb6db-3e64-4aec-a96b-e1aeb81f8622",
   "metadata": {},
   "outputs": [],
   "source": [
    "df_template = recordType(df_upload, df_template)"
   ]
  },
  {
   "cell_type": "markdown",
   "id": "de85d2ea-6794-4fcb-a5fd-ae232145a8a7",
   "metadata": {},
   "source": [
    "#### Carrier"
   ]
  },
  {
   "cell_type": "code",
   "execution_count": 215,
   "id": "3c3841a0-6654-46af-9a09-cb47a06e4b50",
   "metadata": {},
   "outputs": [],
   "source": [
    "query_carrier_id = \"\"\"\n",
    "    SELECT carrier_id  \n",
    "    FROM carrier c \n",
    "    WHERE carrier = '{carrier_name}' and state_c = '{carrier_state}'\n",
    "    ;\n",
    "\"\"\".format(carrier_name= df_b['Carrier'].unique()[0], carrier_state=df_template['State'].unique()[0])\n",
    "\n",
    "carrier_id = query_db(query_carrier_id)[0][0]\n",
    "\n",
    "df_template['Carrier'] =  carrier_id"
   ]
  },
  {
   "cell_type": "markdown",
   "id": "270c7717-2503-470e-8b0f-e48ddde27101",
   "metadata": {},
   "source": [
    "#### Status"
   ]
  },
  {
   "cell_type": "code",
   "execution_count": 216,
   "id": "982f97fd-5804-41c7-a494-13f335a77605",
   "metadata": {},
   "outputs": [],
   "source": [
    "df_template['Status'] = df_upload['Status'].apply(lambda x :replace_status(x) )"
   ]
  },
  {
   "cell_type": "markdown",
   "id": "f26fb76b-2dfa-47b0-b215-015f226653c1",
   "metadata": {},
   "source": [
    "#### Policy Type"
   ]
  },
  {
   "cell_type": "code",
   "execution_count": 217,
   "id": "9c4f2d2b-5f63-4c8b-a3c1-f5308a47c3f2",
   "metadata": {},
   "outputs": [],
   "source": [
    "df_template['Policy Type'] = pd.to_datetime(df_upload['EffectiveDate']).agg(compare_years_policy)"
   ]
  },
  {
   "cell_type": "markdown",
   "id": "bc06da27-c4cd-4a04-95bf-97517d94a61d",
   "metadata": {},
   "source": [
    "#### Claro Type"
   ]
  },
  {
   "cell_type": "code",
   "execution_count": 218,
   "id": "9bf44015-f5bd-4570-9316-6248e0af8dd6",
   "metadata": {},
   "outputs": [],
   "source": [
    "df_template['Claro Type'] = 'New Sale'"
   ]
  },
  {
   "cell_type": "markdown",
   "id": "a1e07f14-594f-4036-b6bd-30dac25eb164",
   "metadata": {},
   "source": [
    "#### Last Status"
   ]
  },
  {
   "cell_type": "code",
   "execution_count": 219,
   "id": "f4e6e721-64dc-4f6c-8fae-44cc604b2baf",
   "metadata": {},
   "outputs": [],
   "source": [
    "df_template['Last Status Modification Date'] = date"
   ]
  },
  {
   "cell_type": "markdown",
   "id": "a86c0baf-4489-498a-9369-a6b3a3cd701c",
   "metadata": {},
   "source": [
    "#### Loading Date"
   ]
  },
  {
   "cell_type": "code",
   "execution_count": 220,
   "id": "6602f34f-dcf2-4c62-969b-a98dad0680f6",
   "metadata": {},
   "outputs": [],
   "source": [
    "df_template['Loading Date'] = date"
   ]
  },
  {
   "cell_type": "markdown",
   "id": "8a67f570-0fca-48b4-82a7-4f2b65d8c69a",
   "metadata": {},
   "source": [
    "#### NPN AOR"
   ]
  },
  {
   "cell_type": "code",
   "execution_count": 244,
   "id": "45a3996f-48ce-4700-ba7b-881dc9bfdd4a",
   "metadata": {},
   "outputs": [],
   "source": [
    "df_template, df_contact = npnAOR(query_agent_AOR, connection)"
   ]
  },
  {
   "cell_type": "code",
   "execution_count": 245,
   "id": "4dbda481-04f0-4256-b1cb-0e0b56ca267a",
   "metadata": {},
   "outputs": [
    {
     "data": {
      "text/html": [
       "<div>\n",
       "<style scoped>\n",
       "    .dataframe tbody tr th:only-of-type {\n",
       "        vertical-align: middle;\n",
       "    }\n",
       "\n",
       "    .dataframe tbody tr th {\n",
       "        vertical-align: top;\n",
       "    }\n",
       "\n",
       "    .dataframe thead th {\n",
       "        text-align: right;\n",
       "    }\n",
       "</style>\n",
       "<table border=\"1\" class=\"dataframe\">\n",
       "  <thead>\n",
       "    <tr style=\"text-align: right;\">\n",
       "      <th></th>\n",
       "      <th>Agent AOR</th>\n",
       "      <th>NPN AOR</th>\n",
       "      <th>Contact</th>\n",
       "      <th>Carrier</th>\n",
       "      <th>State</th>\n",
       "      <th>Policy Number</th>\n",
       "      <th>Policy Type</th>\n",
       "      <th>Claro Type</th>\n",
       "      <th>Record Type Id</th>\n",
       "      <th>Carrier State line of Business</th>\n",
       "      <th>Source</th>\n",
       "      <th>Status</th>\n",
       "      <th>Effective Date</th>\n",
       "      <th>Plan</th>\n",
       "      <th>Members</th>\n",
       "      <th>Last Status Modification Date</th>\n",
       "      <th>Loading Date</th>\n",
       "      <th>Final Premium</th>\n",
       "      <th>Member First Name</th>\n",
       "      <th>Member Last Name</th>\n",
       "    </tr>\n",
       "  </thead>\n",
       "  <tbody>\n",
       "    <tr>\n",
       "      <th>0</th>\n",
       "      <td>LUISA ALVAREZ</td>\n",
       "      <td>7733898</td>\n",
       "      <td>0031G00000pFnQwQAK</td>\n",
       "      <td>a0S1G000006ag2kUAA</td>\n",
       "      <td>FL</td>\n",
       "      <td>E0238164</td>\n",
       "      <td>New Sale</td>\n",
       "      <td>New Sale</td>\n",
       "      <td>0121G000000bpwvQAA</td>\n",
       "      <td>a091G00000B5DUYQA3</td>\n",
       "      <td>Direct</td>\n",
       "      <td>Active</td>\n",
       "      <td>12/27/2022</td>\n",
       "      <td>Signature Term - 30 Yr</td>\n",
       "      <td>1</td>\n",
       "      <td>01/16/2023</td>\n",
       "      <td>01/16/2023</td>\n",
       "      <td>1902.48</td>\n",
       "      <td>Cepeda</td>\n",
       "      <td>Vicky</td>\n",
       "    </tr>\n",
       "    <tr>\n",
       "      <th>1</th>\n",
       "      <td>ANDRES FELIPE GONZALEZ</td>\n",
       "      <td>7733898</td>\n",
       "      <td>0031G00000pFnQwQAK</td>\n",
       "      <td>a0S1G000006ag2kUAA</td>\n",
       "      <td>FL</td>\n",
       "      <td>E0247216</td>\n",
       "      <td>New Sale</td>\n",
       "      <td>New Sale</td>\n",
       "      <td>0121G000000bpwvQAA</td>\n",
       "      <td>a091G00000B5DUYQA3</td>\n",
       "      <td>Direct</td>\n",
       "      <td>Pending</td>\n",
       "      <td>01/04/2023</td>\n",
       "      <td>Signature Term - 20 Yr</td>\n",
       "      <td>1</td>\n",
       "      <td>01/16/2023</td>\n",
       "      <td>01/16/2023</td>\n",
       "      <td>508.08</td>\n",
       "      <td>Ramirez</td>\n",
       "      <td>Sonia</td>\n",
       "    </tr>\n",
       "    <tr>\n",
       "      <th>2</th>\n",
       "      <td>ANDRES FELIPE GONZALEZ</td>\n",
       "      <td>7733898</td>\n",
       "      <td>0031G00000pFnQwQAK</td>\n",
       "      <td>a0S1G000006ag2kUAA</td>\n",
       "      <td>FL</td>\n",
       "      <td>E0247201</td>\n",
       "      <td>New Sale</td>\n",
       "      <td>New Sale</td>\n",
       "      <td>0121G000000bpwvQAA</td>\n",
       "      <td>a091G00000B5DUYQA3</td>\n",
       "      <td>Direct</td>\n",
       "      <td>Pending</td>\n",
       "      <td>01/06/2023</td>\n",
       "      <td>Signature Term - 20 Yr</td>\n",
       "      <td>1</td>\n",
       "      <td>01/16/2023</td>\n",
       "      <td>01/16/2023</td>\n",
       "      <td>648.00</td>\n",
       "      <td>Rojas</td>\n",
       "      <td>Juan</td>\n",
       "    </tr>\n",
       "    <tr>\n",
       "      <th>3</th>\n",
       "      <td>ANGELA P OROZCO</td>\n",
       "      <td>7733898</td>\n",
       "      <td>0031G00000pFnQwQAK</td>\n",
       "      <td>a0S1G000006ag2kUAA</td>\n",
       "      <td>FL</td>\n",
       "      <td>E0242129</td>\n",
       "      <td>New Sale</td>\n",
       "      <td>New Sale</td>\n",
       "      <td>0121G000000bpwvQAA</td>\n",
       "      <td>a091G00000B5DUYQA3</td>\n",
       "      <td>Direct</td>\n",
       "      <td>Active</td>\n",
       "      <td>12/22/2022</td>\n",
       "      <td>Signature Term - 20 Yr</td>\n",
       "      <td>1</td>\n",
       "      <td>01/16/2023</td>\n",
       "      <td>01/16/2023</td>\n",
       "      <td>269.52</td>\n",
       "      <td>Villegas</td>\n",
       "      <td>Carolina</td>\n",
       "    </tr>\n",
       "    <tr>\n",
       "      <th>4</th>\n",
       "      <td>DORILUZ PINA</td>\n",
       "      <td>7733898</td>\n",
       "      <td>0031G00000pFnQwQAK</td>\n",
       "      <td>a0S1G000006ag2kUAA</td>\n",
       "      <td>FL</td>\n",
       "      <td>E0247252</td>\n",
       "      <td>New Sale</td>\n",
       "      <td>New Sale</td>\n",
       "      <td>0121G000000bpwvQAA</td>\n",
       "      <td>a091G00000B5DUYQA3</td>\n",
       "      <td>Direct</td>\n",
       "      <td>Pending</td>\n",
       "      <td>01/11/2023</td>\n",
       "      <td>Signature Term - 20 Yr</td>\n",
       "      <td>1</td>\n",
       "      <td>01/16/2023</td>\n",
       "      <td>01/16/2023</td>\n",
       "      <td>1024.92</td>\n",
       "      <td>Mendoza</td>\n",
       "      <td>Santos</td>\n",
       "    </tr>\n",
       "    <tr>\n",
       "      <th>5</th>\n",
       "      <td>OLVANDA ALTAGRACIA RAMIREZ HERRERA</td>\n",
       "      <td>7733898</td>\n",
       "      <td>0031G00000pFnQwQAK</td>\n",
       "      <td>a0S1G000006ag2kUAA</td>\n",
       "      <td>FL</td>\n",
       "      <td>E0247277</td>\n",
       "      <td>New Sale</td>\n",
       "      <td>New Sale</td>\n",
       "      <td>0121G000000bpwvQAA</td>\n",
       "      <td>a091G00000B5DUYQA3</td>\n",
       "      <td>Direct</td>\n",
       "      <td>Pending</td>\n",
       "      <td>01/09/2023</td>\n",
       "      <td>Signature Term - 20 Yr</td>\n",
       "      <td>1</td>\n",
       "      <td>01/16/2023</td>\n",
       "      <td>01/16/2023</td>\n",
       "      <td>2553.12</td>\n",
       "      <td>Nunez</td>\n",
       "      <td>Gerardo</td>\n",
       "    </tr>\n",
       "    <tr>\n",
       "      <th>6</th>\n",
       "      <td>OLVANDA ALTAGRACIA RAMIREZ HERRERA</td>\n",
       "      <td>7733898</td>\n",
       "      <td>0031G00000pFnQwQAK</td>\n",
       "      <td>a0S1G000006ag2kUAA</td>\n",
       "      <td>FL</td>\n",
       "      <td>E0247238</td>\n",
       "      <td>New Sale</td>\n",
       "      <td>New Sale</td>\n",
       "      <td>0121G000000bpwvQAA</td>\n",
       "      <td>a091G00000B5DUYQA3</td>\n",
       "      <td>Direct</td>\n",
       "      <td>Pending</td>\n",
       "      <td>12/07/2022</td>\n",
       "      <td>Signature Term - 20 Yr</td>\n",
       "      <td>1</td>\n",
       "      <td>01/16/2023</td>\n",
       "      <td>01/16/2023</td>\n",
       "      <td>5804.04</td>\n",
       "      <td>Nunez</td>\n",
       "      <td>Gerardo</td>\n",
       "    </tr>\n",
       "  </tbody>\n",
       "</table>\n",
       "</div>"
      ],
      "text/plain": [
       "                            Agent AOR  NPN AOR             Contact  \\\n",
       "0                       LUISA ALVAREZ  7733898  0031G00000pFnQwQAK   \n",
       "1              ANDRES FELIPE GONZALEZ  7733898  0031G00000pFnQwQAK   \n",
       "2              ANDRES FELIPE GONZALEZ  7733898  0031G00000pFnQwQAK   \n",
       "3                     ANGELA P OROZCO  7733898  0031G00000pFnQwQAK   \n",
       "4                        DORILUZ PINA  7733898  0031G00000pFnQwQAK   \n",
       "5  OLVANDA ALTAGRACIA RAMIREZ HERRERA  7733898  0031G00000pFnQwQAK   \n",
       "6  OLVANDA ALTAGRACIA RAMIREZ HERRERA  7733898  0031G00000pFnQwQAK   \n",
       "\n",
       "              Carrier State Policy Number Policy Type Claro Type  \\\n",
       "0  a0S1G000006ag2kUAA    FL      E0238164    New Sale   New Sale   \n",
       "1  a0S1G000006ag2kUAA    FL      E0247216    New Sale   New Sale   \n",
       "2  a0S1G000006ag2kUAA    FL      E0247201    New Sale   New Sale   \n",
       "3  a0S1G000006ag2kUAA    FL      E0242129    New Sale   New Sale   \n",
       "4  a0S1G000006ag2kUAA    FL      E0247252    New Sale   New Sale   \n",
       "5  a0S1G000006ag2kUAA    FL      E0247277    New Sale   New Sale   \n",
       "6  a0S1G000006ag2kUAA    FL      E0247238    New Sale   New Sale   \n",
       "\n",
       "       Record Type Id Carrier State line of Business  Source   Status  \\\n",
       "0  0121G000000bpwvQAA             a091G00000B5DUYQA3  Direct   Active   \n",
       "1  0121G000000bpwvQAA             a091G00000B5DUYQA3  Direct  Pending   \n",
       "2  0121G000000bpwvQAA             a091G00000B5DUYQA3  Direct  Pending   \n",
       "3  0121G000000bpwvQAA             a091G00000B5DUYQA3  Direct   Active   \n",
       "4  0121G000000bpwvQAA             a091G00000B5DUYQA3  Direct  Pending   \n",
       "5  0121G000000bpwvQAA             a091G00000B5DUYQA3  Direct  Pending   \n",
       "6  0121G000000bpwvQAA             a091G00000B5DUYQA3  Direct  Pending   \n",
       "\n",
       "  Effective Date                    Plan  Members  \\\n",
       "0     12/27/2022  Signature Term - 30 Yr        1   \n",
       "1     01/04/2023  Signature Term - 20 Yr        1   \n",
       "2     01/06/2023  Signature Term - 20 Yr        1   \n",
       "3     12/22/2022  Signature Term - 20 Yr        1   \n",
       "4     01/11/2023  Signature Term - 20 Yr        1   \n",
       "5     01/09/2023  Signature Term - 20 Yr        1   \n",
       "6     12/07/2022  Signature Term - 20 Yr        1   \n",
       "\n",
       "  Last Status Modification Date Loading Date Final Premium Member First Name  \\\n",
       "0                    01/16/2023   01/16/2023       1902.48            Cepeda   \n",
       "1                    01/16/2023   01/16/2023        508.08           Ramirez   \n",
       "2                    01/16/2023   01/16/2023        648.00             Rojas   \n",
       "3                    01/16/2023   01/16/2023        269.52          Villegas   \n",
       "4                    01/16/2023   01/16/2023       1024.92           Mendoza   \n",
       "5                    01/16/2023   01/16/2023       2553.12             Nunez   \n",
       "6                    01/16/2023   01/16/2023       5804.04             Nunez   \n",
       "\n",
       "  Member Last Name  \n",
       "0            Vicky  \n",
       "1            Sonia  \n",
       "2             Juan  \n",
       "3         Carolina  \n",
       "4           Santos  \n",
       "5          Gerardo  \n",
       "6          Gerardo  "
      ]
     },
     "execution_count": 245,
     "metadata": {},
     "output_type": "execute_result"
    }
   ],
   "source": [
    "df_template"
   ]
  },
  {
   "cell_type": "markdown",
   "id": "b790a1ee-23f3-44e4-9684-d41e991de2de",
   "metadata": {},
   "source": [
    "#### Contact ID"
   ]
  },
  {
   "cell_type": "code",
   "execution_count": 222,
   "id": "ec3ccd40-b28e-44b5-90d6-3a36d149f976",
   "metadata": {
    "tags": []
   },
   "outputs": [],
   "source": [
    "# df_template['Contact ID'] = df_upload['AgentNumber'].apply(lambda x : extract_contact_id(x, df_contact))"
   ]
  },
  {
   "cell_type": "markdown",
   "id": "214a9917-980c-49b4-8a97-85d8429c29e8",
   "metadata": {},
   "source": [
    "#### Agent Name"
   ]
  },
  {
   "cell_type": "code",
   "execution_count": 223,
   "id": "53f11022-6cbc-45f5-b1df-2db63315ba43",
   "metadata": {},
   "outputs": [],
   "source": [
    "df_template['Agent Name'] = df_upload['Agent AOR']"
   ]
  },
  {
   "cell_type": "code",
   "execution_count": 224,
   "id": "cea733d3-1773-4414-96a3-6f6992cc758e",
   "metadata": {
    "tags": []
   },
   "outputs": [],
   "source": [
    "df_template.dropna(axis='columns', how='all').to_excel(f'/mnt/c/Users/cesar/Desktop/claro/test_life_{date}_.xlsx', index=False)"
   ]
  },
  {
   "cell_type": "markdown",
   "id": "cbba29b6-b2d1-483f-8e50-4bcc219baab8",
   "metadata": {},
   "source": [
    "#### Carrier State Line of Business"
   ]
  },
  {
   "cell_type": "code",
   "execution_count": 225,
   "id": "d4bbf829-40ff-4aa0-9c27-48d59cabbf18",
   "metadata": {},
   "outputs": [],
   "source": [
    "df_template = extract_cslb(df_template, query_cslb)"
   ]
  },
  {
   "cell_type": "markdown",
   "id": "63124544-5995-4490-8307-e062916e80a2",
   "metadata": {},
   "source": [
    "### Check faltante"
   ]
  },
  {
   "cell_type": "code",
   "execution_count": 234,
   "id": "1dcfbab6-9ce2-474b-84a0-342177f55490",
   "metadata": {},
   "outputs": [],
   "source": [
    "df_faltantes = df_template[df_template['Contact'].isna()]"
   ]
  },
  {
   "cell_type": "code",
   "execution_count": 235,
   "id": "64136a39-5b81-4e44-8752-c87dfde49421",
   "metadata": {},
   "outputs": [
    {
     "data": {
      "text/html": [
       "<div>\n",
       "<style scoped>\n",
       "    .dataframe tbody tr th:only-of-type {\n",
       "        vertical-align: middle;\n",
       "    }\n",
       "\n",
       "    .dataframe tbody tr th {\n",
       "        vertical-align: top;\n",
       "    }\n",
       "\n",
       "    .dataframe thead th {\n",
       "        text-align: right;\n",
       "    }\n",
       "</style>\n",
       "<table border=\"1\" class=\"dataframe\">\n",
       "  <thead>\n",
       "    <tr style=\"text-align: right;\">\n",
       "      <th></th>\n",
       "      <th>Agent AOR</th>\n",
       "      <th>NPN AOR</th>\n",
       "      <th>Contact</th>\n",
       "      <th>Carrier</th>\n",
       "      <th>State</th>\n",
       "      <th>Policy Number</th>\n",
       "      <th>Policy Type</th>\n",
       "      <th>Claro Type</th>\n",
       "      <th>Record Type Id</th>\n",
       "      <th>Carrier State line of Business</th>\n",
       "      <th>Source</th>\n",
       "      <th>Status</th>\n",
       "      <th>Effective Date</th>\n",
       "      <th>Plan</th>\n",
       "      <th>Members</th>\n",
       "      <th>Last Status Modification Date</th>\n",
       "      <th>Loading Date</th>\n",
       "      <th>Final Premium</th>\n",
       "      <th>Member First Name</th>\n",
       "      <th>Member Last Name</th>\n",
       "    </tr>\n",
       "  </thead>\n",
       "  <tbody>\n",
       "  </tbody>\n",
       "</table>\n",
       "</div>"
      ],
      "text/plain": [
       "Empty DataFrame\n",
       "Columns: [Agent AOR, NPN AOR, Contact, Carrier, State, Policy Number, Policy Type, Claro Type, Record Type Id, Carrier State line of Business, Source, Status, Effective Date, Plan, Members, Last Status Modification Date, Loading Date, Final Premium, Member First Name, Member Last Name]\n",
       "Index: []"
      ]
     },
     "execution_count": 235,
     "metadata": {},
     "output_type": "execute_result"
    }
   ],
   "source": [
    "df_faltantes"
   ]
  },
  {
   "cell_type": "markdown",
   "id": "86244de6-9a49-4478-b773-22ed91e15b35",
   "metadata": {},
   "source": [
    "## Interpolacion"
   ]
  },
  {
   "cell_type": "code",
   "execution_count": 236,
   "id": "7f31dc4b-8fa2-4d96-a468-f79df7382c5d",
   "metadata": {},
   "outputs": [],
   "source": [
    "#df_template = iterpolate(df_template, 'RAMIREZ SUQUINO DUNIA',  ('20544688','0031G00001YIab5QAD'))"
   ]
  },
  {
   "cell_type": "markdown",
   "id": "aab84e09-147e-4295-b144-f72adc087a90",
   "metadata": {},
   "source": [
    "## Load"
   ]
  },
  {
   "cell_type": "markdown",
   "id": "f9d99a15-d06b-4957-a93f-35ad051219e7",
   "metadata": {},
   "source": [
    "\n",
    "\n",
    "\n",
    "\n",
    "\n",
    "\n"
   ]
  },
  {
   "cell_type": "code",
   "execution_count": 226,
   "id": "83410712-0ece-4d36-8dde-8cfe9ce490de",
   "metadata": {},
   "outputs": [],
   "source": [
    "df_template = df_template[['Agent AOR','NPN AOR', 'Contact', 'Carrier', 'State','Policy Number', 'Policy Type', 'Claro Type','Record Type Id', 'Carrier State line of Business','Source', 'Status', 'Effective Date',\n",
    "            'Plan','Members', 'Last Status Modification Date', 'Loading Date', 'Final Premium','Member First Name', 'Member Last Name'\n",
    "            ]]"
   ]
  },
  {
   "cell_type": "code",
   "execution_count": 227,
   "id": "40b0af02-31da-4a53-bd44-1a49ec6754cb",
   "metadata": {},
   "outputs": [],
   "source": [
    "df_times = df_template.copy()\n",
    "df_times[['Last Status Modification Date', 'Loading Date']] = df_template[['Last Status Modification Date', 'Loading Date']].apply(lambda x : pd.to_datetime(x, format='%d-%m-%Y').dt.strftime('%m/%d/%Y'), axis='columns')\n",
    "df_template = df_times"
   ]
  },
  {
   "cell_type": "code",
   "execution_count": null,
   "id": "5e70157b-9eec-41c1-8d10-aee6c800e682",
   "metadata": {},
   "outputs": [],
   "source": []
  },
  {
   "cell_type": "code",
   "execution_count": 230,
   "id": "7dfa8890-611f-4a90-825e-148dae4f12a9",
   "metadata": {},
   "outputs": [],
   "source": [
    "df_template['Final Premium'] = df_template['Final Premium'].apply(lambda x : x.replace('$','').replace(',',''))"
   ]
  },
  {
   "cell_type": "code",
   "execution_count": 239,
   "id": "c2d7f02a-3a7c-4d71-9c22-3047c2fc0e5f",
   "metadata": {},
   "outputs": [
    {
     "data": {
      "text/html": [
       "<div>\n",
       "<style scoped>\n",
       "    .dataframe tbody tr th:only-of-type {\n",
       "        vertical-align: middle;\n",
       "    }\n",
       "\n",
       "    .dataframe tbody tr th {\n",
       "        vertical-align: top;\n",
       "    }\n",
       "\n",
       "    .dataframe thead th {\n",
       "        text-align: right;\n",
       "    }\n",
       "</style>\n",
       "<table border=\"1\" class=\"dataframe\">\n",
       "  <thead>\n",
       "    <tr style=\"text-align: right;\">\n",
       "      <th></th>\n",
       "      <th>Agent AOR</th>\n",
       "      <th>NPN AOR</th>\n",
       "      <th>Contact</th>\n",
       "      <th>Carrier</th>\n",
       "      <th>State</th>\n",
       "      <th>Policy Number</th>\n",
       "      <th>Policy Type</th>\n",
       "      <th>Claro Type</th>\n",
       "      <th>Record Type Id</th>\n",
       "      <th>Carrier State line of Business</th>\n",
       "      <th>Source</th>\n",
       "      <th>Status</th>\n",
       "      <th>Effective Date</th>\n",
       "      <th>Plan</th>\n",
       "      <th>Members</th>\n",
       "      <th>Last Status Modification Date</th>\n",
       "      <th>Loading Date</th>\n",
       "      <th>Final Premium</th>\n",
       "      <th>Member First Name</th>\n",
       "      <th>Member Last Name</th>\n",
       "    </tr>\n",
       "  </thead>\n",
       "  <tbody>\n",
       "    <tr>\n",
       "      <th>0</th>\n",
       "      <td>LUISA ALVAREZ</td>\n",
       "      <td>7733898</td>\n",
       "      <td>0031G00000pFnQwQAK</td>\n",
       "      <td>a0S1G000006ag2kUAA</td>\n",
       "      <td>FL</td>\n",
       "      <td>E0238164</td>\n",
       "      <td>New Sale</td>\n",
       "      <td>New Sale</td>\n",
       "      <td>0121G000000bpwvQAA</td>\n",
       "      <td>a091G00000B5DUYQA3</td>\n",
       "      <td>Direct</td>\n",
       "      <td>Active</td>\n",
       "      <td>12/27/2022</td>\n",
       "      <td>Signature Term - 30 Yr</td>\n",
       "      <td>1</td>\n",
       "      <td>01/16/2023</td>\n",
       "      <td>01/16/2023</td>\n",
       "      <td>1902.48</td>\n",
       "      <td>Cepeda</td>\n",
       "      <td>Vicky</td>\n",
       "    </tr>\n",
       "    <tr>\n",
       "      <th>1</th>\n",
       "      <td>ANDRES FELIPE GONZALEZ</td>\n",
       "      <td>7733898</td>\n",
       "      <td>0031G00000pFnQwQAK</td>\n",
       "      <td>a0S1G000006ag2kUAA</td>\n",
       "      <td>FL</td>\n",
       "      <td>E0247216</td>\n",
       "      <td>New Sale</td>\n",
       "      <td>New Sale</td>\n",
       "      <td>0121G000000bpwvQAA</td>\n",
       "      <td>a091G00000B5DUYQA3</td>\n",
       "      <td>Direct</td>\n",
       "      <td>Pending</td>\n",
       "      <td>01/04/2023</td>\n",
       "      <td>Signature Term - 20 Yr</td>\n",
       "      <td>1</td>\n",
       "      <td>01/16/2023</td>\n",
       "      <td>01/16/2023</td>\n",
       "      <td>508.08</td>\n",
       "      <td>Ramirez</td>\n",
       "      <td>Sonia</td>\n",
       "    </tr>\n",
       "    <tr>\n",
       "      <th>2</th>\n",
       "      <td>ANDRES FELIPE GONZALEZ</td>\n",
       "      <td>7733898</td>\n",
       "      <td>0031G00000pFnQwQAK</td>\n",
       "      <td>a0S1G000006ag2kUAA</td>\n",
       "      <td>FL</td>\n",
       "      <td>E0247201</td>\n",
       "      <td>New Sale</td>\n",
       "      <td>New Sale</td>\n",
       "      <td>0121G000000bpwvQAA</td>\n",
       "      <td>a091G00000B5DUYQA3</td>\n",
       "      <td>Direct</td>\n",
       "      <td>Pending</td>\n",
       "      <td>01/06/2023</td>\n",
       "      <td>Signature Term - 20 Yr</td>\n",
       "      <td>1</td>\n",
       "      <td>01/16/2023</td>\n",
       "      <td>01/16/2023</td>\n",
       "      <td>648.00</td>\n",
       "      <td>Rojas</td>\n",
       "      <td>Juan</td>\n",
       "    </tr>\n",
       "    <tr>\n",
       "      <th>3</th>\n",
       "      <td>ANGELA P OROZCO</td>\n",
       "      <td>7733898</td>\n",
       "      <td>0031G00000pFnQwQAK</td>\n",
       "      <td>a0S1G000006ag2kUAA</td>\n",
       "      <td>FL</td>\n",
       "      <td>E0242129</td>\n",
       "      <td>New Sale</td>\n",
       "      <td>New Sale</td>\n",
       "      <td>0121G000000bpwvQAA</td>\n",
       "      <td>a091G00000B5DUYQA3</td>\n",
       "      <td>Direct</td>\n",
       "      <td>Active</td>\n",
       "      <td>12/22/2022</td>\n",
       "      <td>Signature Term - 20 Yr</td>\n",
       "      <td>1</td>\n",
       "      <td>01/16/2023</td>\n",
       "      <td>01/16/2023</td>\n",
       "      <td>269.52</td>\n",
       "      <td>Villegas</td>\n",
       "      <td>Carolina</td>\n",
       "    </tr>\n",
       "    <tr>\n",
       "      <th>4</th>\n",
       "      <td>DORILUZ PINA</td>\n",
       "      <td>7733898</td>\n",
       "      <td>0031G00000pFnQwQAK</td>\n",
       "      <td>a0S1G000006ag2kUAA</td>\n",
       "      <td>FL</td>\n",
       "      <td>E0247252</td>\n",
       "      <td>New Sale</td>\n",
       "      <td>New Sale</td>\n",
       "      <td>0121G000000bpwvQAA</td>\n",
       "      <td>a091G00000B5DUYQA3</td>\n",
       "      <td>Direct</td>\n",
       "      <td>Pending</td>\n",
       "      <td>01/11/2023</td>\n",
       "      <td>Signature Term - 20 Yr</td>\n",
       "      <td>1</td>\n",
       "      <td>01/16/2023</td>\n",
       "      <td>01/16/2023</td>\n",
       "      <td>1024.92</td>\n",
       "      <td>Mendoza</td>\n",
       "      <td>Santos</td>\n",
       "    </tr>\n",
       "    <tr>\n",
       "      <th>5</th>\n",
       "      <td>OLVANDA ALTAGRACIA RAMIREZ HERRERA</td>\n",
       "      <td>7733898</td>\n",
       "      <td>0031G00000pFnQwQAK</td>\n",
       "      <td>a0S1G000006ag2kUAA</td>\n",
       "      <td>FL</td>\n",
       "      <td>E0247277</td>\n",
       "      <td>New Sale</td>\n",
       "      <td>New Sale</td>\n",
       "      <td>0121G000000bpwvQAA</td>\n",
       "      <td>a091G00000B5DUYQA3</td>\n",
       "      <td>Direct</td>\n",
       "      <td>Pending</td>\n",
       "      <td>01/09/2023</td>\n",
       "      <td>Signature Term - 20 Yr</td>\n",
       "      <td>1</td>\n",
       "      <td>01/16/2023</td>\n",
       "      <td>01/16/2023</td>\n",
       "      <td>2553.12</td>\n",
       "      <td>Nunez</td>\n",
       "      <td>Gerardo</td>\n",
       "    </tr>\n",
       "    <tr>\n",
       "      <th>6</th>\n",
       "      <td>OLVANDA ALTAGRACIA RAMIREZ HERRERA</td>\n",
       "      <td>7733898</td>\n",
       "      <td>0031G00000pFnQwQAK</td>\n",
       "      <td>a0S1G000006ag2kUAA</td>\n",
       "      <td>FL</td>\n",
       "      <td>E0247238</td>\n",
       "      <td>New Sale</td>\n",
       "      <td>New Sale</td>\n",
       "      <td>0121G000000bpwvQAA</td>\n",
       "      <td>a091G00000B5DUYQA3</td>\n",
       "      <td>Direct</td>\n",
       "      <td>Pending</td>\n",
       "      <td>12/07/2022</td>\n",
       "      <td>Signature Term - 20 Yr</td>\n",
       "      <td>1</td>\n",
       "      <td>01/16/2023</td>\n",
       "      <td>01/16/2023</td>\n",
       "      <td>5804.04</td>\n",
       "      <td>Nunez</td>\n",
       "      <td>Gerardo</td>\n",
       "    </tr>\n",
       "  </tbody>\n",
       "</table>\n",
       "</div>"
      ],
      "text/plain": [
       "                            Agent AOR  NPN AOR             Contact  \\\n",
       "0                       LUISA ALVAREZ  7733898  0031G00000pFnQwQAK   \n",
       "1              ANDRES FELIPE GONZALEZ  7733898  0031G00000pFnQwQAK   \n",
       "2              ANDRES FELIPE GONZALEZ  7733898  0031G00000pFnQwQAK   \n",
       "3                     ANGELA P OROZCO  7733898  0031G00000pFnQwQAK   \n",
       "4                        DORILUZ PINA  7733898  0031G00000pFnQwQAK   \n",
       "5  OLVANDA ALTAGRACIA RAMIREZ HERRERA  7733898  0031G00000pFnQwQAK   \n",
       "6  OLVANDA ALTAGRACIA RAMIREZ HERRERA  7733898  0031G00000pFnQwQAK   \n",
       "\n",
       "              Carrier State Policy Number Policy Type Claro Type  \\\n",
       "0  a0S1G000006ag2kUAA    FL      E0238164    New Sale   New Sale   \n",
       "1  a0S1G000006ag2kUAA    FL      E0247216    New Sale   New Sale   \n",
       "2  a0S1G000006ag2kUAA    FL      E0247201    New Sale   New Sale   \n",
       "3  a0S1G000006ag2kUAA    FL      E0242129    New Sale   New Sale   \n",
       "4  a0S1G000006ag2kUAA    FL      E0247252    New Sale   New Sale   \n",
       "5  a0S1G000006ag2kUAA    FL      E0247277    New Sale   New Sale   \n",
       "6  a0S1G000006ag2kUAA    FL      E0247238    New Sale   New Sale   \n",
       "\n",
       "       Record Type Id Carrier State line of Business  Source   Status  \\\n",
       "0  0121G000000bpwvQAA             a091G00000B5DUYQA3  Direct   Active   \n",
       "1  0121G000000bpwvQAA             a091G00000B5DUYQA3  Direct  Pending   \n",
       "2  0121G000000bpwvQAA             a091G00000B5DUYQA3  Direct  Pending   \n",
       "3  0121G000000bpwvQAA             a091G00000B5DUYQA3  Direct   Active   \n",
       "4  0121G000000bpwvQAA             a091G00000B5DUYQA3  Direct  Pending   \n",
       "5  0121G000000bpwvQAA             a091G00000B5DUYQA3  Direct  Pending   \n",
       "6  0121G000000bpwvQAA             a091G00000B5DUYQA3  Direct  Pending   \n",
       "\n",
       "  Effective Date                    Plan  Members  \\\n",
       "0     12/27/2022  Signature Term - 30 Yr        1   \n",
       "1     01/04/2023  Signature Term - 20 Yr        1   \n",
       "2     01/06/2023  Signature Term - 20 Yr        1   \n",
       "3     12/22/2022  Signature Term - 20 Yr        1   \n",
       "4     01/11/2023  Signature Term - 20 Yr        1   \n",
       "5     01/09/2023  Signature Term - 20 Yr        1   \n",
       "6     12/07/2022  Signature Term - 20 Yr        1   \n",
       "\n",
       "  Last Status Modification Date Loading Date Final Premium Member First Name  \\\n",
       "0                    01/16/2023   01/16/2023       1902.48            Cepeda   \n",
       "1                    01/16/2023   01/16/2023        508.08           Ramirez   \n",
       "2                    01/16/2023   01/16/2023        648.00             Rojas   \n",
       "3                    01/16/2023   01/16/2023        269.52          Villegas   \n",
       "4                    01/16/2023   01/16/2023       1024.92           Mendoza   \n",
       "5                    01/16/2023   01/16/2023       2553.12             Nunez   \n",
       "6                    01/16/2023   01/16/2023       5804.04             Nunez   \n",
       "\n",
       "  Member Last Name  \n",
       "0            Vicky  \n",
       "1            Sonia  \n",
       "2             Juan  \n",
       "3         Carolina  \n",
       "4           Santos  \n",
       "5          Gerardo  \n",
       "6          Gerardo  "
      ]
     },
     "execution_count": 239,
     "metadata": {},
     "output_type": "execute_result"
    }
   ],
   "source": [
    "df_template"
   ]
  },
  {
   "cell_type": "code",
   "execution_count": null,
   "id": "7e0d8f9f-ea5e-4408-993c-7dabb123ed8d",
   "metadata": {},
   "outputs": [],
   "source": []
  },
  {
   "cell_type": "code",
   "execution_count": 238,
   "id": "f941072f-8781-4c7e-beda-561652379a27",
   "metadata": {},
   "outputs": [],
   "source": [
    "df_template.to_csv(f'/mnt/c/Users/cesar/Desktop/claro/imports/life_america_national_{date}_.csv', index=False)"
   ]
  },
  {
   "cell_type": "code",
   "execution_count": null,
   "id": "1ff39571-c67b-4fbc-9895-e09b9c09f87c",
   "metadata": {},
   "outputs": [],
   "source": []
  },
  {
   "cell_type": "markdown",
   "id": "c10a89f6-afe9-4de1-ae39-04bf732b42bb",
   "metadata": {},
   "source": [
    "# Transamerica"
   ]
  },
  {
   "cell_type": "code",
   "execution_count": 129,
   "id": "8165a8b4-e78f-42df-96d5-0201d7a7fd19",
   "metadata": {},
   "outputs": [],
   "source": [
    "df_a = (pd.read_excel('//mnt/c/Users/cesar/Desktop/claro/life/transamerica/TransamericaBook1.xlsx')\n",
    "                     .dropna(axis='columns', how='all')\n",
    "                     .dropna( how='all'))"
   ]
  },
  {
   "cell_type": "code",
   "execution_count": 130,
   "id": "e5795935-8010-4d87-afb5-8c968e34c401",
   "metadata": {},
   "outputs": [
    {
     "data": {
      "text/html": [
       "<div>\n",
       "<style scoped>\n",
       "    .dataframe tbody tr th:only-of-type {\n",
       "        vertical-align: middle;\n",
       "    }\n",
       "\n",
       "    .dataframe tbody tr th {\n",
       "        vertical-align: top;\n",
       "    }\n",
       "\n",
       "    .dataframe thead th {\n",
       "        text-align: right;\n",
       "    }\n",
       "</style>\n",
       "<table border=\"1\" class=\"dataframe\">\n",
       "  <thead>\n",
       "    <tr style=\"text-align: right;\">\n",
       "      <th></th>\n",
       "      <th>ACTIVITY DATE</th>\n",
       "      <th>POLICY NUMBER</th>\n",
       "      <th>INSURED NAME</th>\n",
       "      <th>PRODUCTION CREDIT</th>\n",
       "      <th>WHOLE APP COUNT</th>\n",
       "      <th>PRODUCTION CREDIT.1</th>\n",
       "      <th>WHOLE APP COUNT.1</th>\n",
       "      <th>ANNUAL TARGET PREMIUM</th>\n",
       "      <th>PRODUCT LINE</th>\n",
       "      <th>PRODUCT TYPE</th>\n",
       "    </tr>\n",
       "  </thead>\n",
       "  <tbody>\n",
       "    <tr>\n",
       "      <th>0</th>\n",
       "      <td>12/23/2022</td>\n",
       "      <td>6601437831</td>\n",
       "      <td>LOUISDORT SHERLINE</td>\n",
       "      <td>0.0</td>\n",
       "      <td>0</td>\n",
       "      <td>811.0</td>\n",
       "      <td>1</td>\n",
       "      <td>811.0</td>\n",
       "      <td>Life</td>\n",
       "      <td>Equity Index Universal Life</td>\n",
       "    </tr>\n",
       "    <tr>\n",
       "      <th>1</th>\n",
       "      <td>09/27/2022</td>\n",
       "      <td>6601437831</td>\n",
       "      <td>LOUISDORT SHERLINE</td>\n",
       "      <td>811.0</td>\n",
       "      <td>1</td>\n",
       "      <td>0.0</td>\n",
       "      <td>0</td>\n",
       "      <td>811.0</td>\n",
       "      <td>Life</td>\n",
       "      <td>Equity Index Universal Life</td>\n",
       "    </tr>\n",
       "  </tbody>\n",
       "</table>\n",
       "</div>"
      ],
      "text/plain": [
       "  ACTIVITY DATE  POLICY NUMBER        INSURED NAME  PRODUCTION CREDIT  \\\n",
       "0    12/23/2022     6601437831  LOUISDORT SHERLINE                0.0   \n",
       "1    09/27/2022     6601437831  LOUISDORT SHERLINE              811.0   \n",
       "\n",
       "   WHOLE APP COUNT  PRODUCTION CREDIT.1  WHOLE APP COUNT.1  \\\n",
       "0                0                811.0                  1   \n",
       "1                1                  0.0                  0   \n",
       "\n",
       "   ANNUAL TARGET PREMIUM PRODUCT LINE                 PRODUCT TYPE  \n",
       "0                  811.0         Life  Equity Index Universal Life  \n",
       "1                  811.0         Life  Equity Index Universal Life  "
      ]
     },
     "execution_count": 130,
     "metadata": {},
     "output_type": "execute_result"
    }
   ],
   "source": [
    "df_a.head()"
   ]
  },
  {
   "cell_type": "markdown",
   "id": "86040f7e-b9b2-4f37-9a8c-62cc9b8b3456",
   "metadata": {},
   "source": [
    "## Homologación"
   ]
  },
  {
   "cell_type": "code",
   "execution_count": 131,
   "id": "d81f9238-8ae0-4b65-bc7d-34b21554ad97",
   "metadata": {},
   "outputs": [
    {
     "data": {
      "text/plain": [
       "Index(['ACTIVITY DATE', 'POLICY NUMBER', 'INSURED NAME', 'PRODUCTION CREDIT',\n",
       "       'WHOLE APP COUNT', 'PRODUCTION CREDIT.1', 'WHOLE APP COUNT.1',\n",
       "       'ANNUAL TARGET PREMIUM', 'PRODUCT LINE', 'PRODUCT TYPE'],\n",
       "      dtype='object')"
      ]
     },
     "execution_count": 131,
     "metadata": {},
     "output_type": "execute_result"
    }
   ],
   "source": [
    "df_a.columns"
   ]
  },
  {
   "cell_type": "code",
   "execution_count": 132,
   "id": "c5d571b1-c729-4690-abbf-c460eb21913a",
   "metadata": {},
   "outputs": [],
   "source": [
    "df_a = df_a.rename(\n",
    "    columns={\n",
    "        'POLICY NUMBER':'PolicyNumber',\n",
    "        'INSURED NAME':'Insured',\n",
    "        'Agent Name':'Agent AOR',\n",
    "        'Status':'Status',\n",
    "        'ACTIVITY DATE':'EffectiveDate',\n",
    "        'ANNUAL TARGET PREMIUM': 'FinalPremium'        \n",
    "        \n",
    "    }\n",
    ")"
   ]
  },
  {
   "cell_type": "markdown",
   "id": "7957b9ce-fb10-400a-ae77-d3e8f288bf01",
   "metadata": {},
   "source": [
    "### Extraer las polizas de National Life"
   ]
  },
  {
   "cell_type": "code",
   "execution_count": 119,
   "id": "cce76ceb-86e5-442d-a436-c14f0ad30e81",
   "metadata": {},
   "outputs": [],
   "source": [
    "df_b = extractCarrier(df_b, 'American National', 'Carrier')"
   ]
  },
  {
   "cell_type": "code",
   "execution_count": 120,
   "id": "189552d8-516f-4e49-bc10-91100b584bfe",
   "metadata": {},
   "outputs": [
    {
     "data": {
      "text/html": [
       "<div>\n",
       "<style scoped>\n",
       "    .dataframe tbody tr th:only-of-type {\n",
       "        vertical-align: middle;\n",
       "    }\n",
       "\n",
       "    .dataframe tbody tr th {\n",
       "        vertical-align: top;\n",
       "    }\n",
       "\n",
       "    .dataframe thead th {\n",
       "        text-align: right;\n",
       "    }\n",
       "</style>\n",
       "<table border=\"1\" class=\"dataframe\">\n",
       "  <thead>\n",
       "    <tr style=\"text-align: right;\">\n",
       "      <th></th>\n",
       "      <th>Book of Business: BOB Name</th>\n",
       "      <th>Account Executive Name</th>\n",
       "      <th>Carrier</th>\n",
       "      <th>NPN AOR</th>\n",
       "      <th>Agent AOR</th>\n",
       "      <th>Internal Agent</th>\n",
       "      <th>NPN Internal Agent</th>\n",
       "      <th>Contact</th>\n",
       "      <th>Policy Number</th>\n",
       "      <th>Source</th>\n",
       "      <th>...</th>\n",
       "      <th>Email</th>\n",
       "      <th>Metal Level</th>\n",
       "      <th>Zip Code</th>\n",
       "      <th>Book of Business: Last Modified Date</th>\n",
       "      <th>Note</th>\n",
       "      <th>Claro Type</th>\n",
       "      <th>Previous BOB ID</th>\n",
       "      <th>Carrier State line of Business</th>\n",
       "      <th>Book of Business: ID</th>\n",
       "      <th>Account Executive</th>\n",
       "    </tr>\n",
       "  </thead>\n",
       "  <tbody>\n",
       "    <tr>\n",
       "      <th>24550</th>\n",
       "      <td>BOB# 00024753</td>\n",
       "      <td>Luigi Fuentes</td>\n",
       "      <td>American National</td>\n",
       "      <td>8429926.0</td>\n",
       "      <td>INSURANCE XL INC</td>\n",
       "      <td>Adriana  Gonzalez</td>\n",
       "      <td>8429926.0</td>\n",
       "      <td>Adriana Gonzalez</td>\n",
       "      <td>UE095096</td>\n",
       "      <td>Direct</td>\n",
       "      <td>...</td>\n",
       "      <td>NaN</td>\n",
       "      <td>NaN</td>\n",
       "      <td>NaN</td>\n",
       "      <td>1/2/2023</td>\n",
       "      <td>NaN</td>\n",
       "      <td>Renewals</td>\n",
       "      <td>NaN</td>\n",
       "      <td>American National Florida</td>\n",
       "      <td>a1C1G000006ZFFH</td>\n",
       "      <td></td>\n",
       "    </tr>\n",
       "    <tr>\n",
       "      <th>24551</th>\n",
       "      <td>BOB# 00024754</td>\n",
       "      <td></td>\n",
       "      <td>American National</td>\n",
       "      <td>8429926.0</td>\n",
       "      <td>INSURANCE XL INC</td>\n",
       "      <td>Adriana  Gonzalez</td>\n",
       "      <td>8429926.0</td>\n",
       "      <td>Adriana Gonzalez</td>\n",
       "      <td>E0125027</td>\n",
       "      <td>Direct</td>\n",
       "      <td>...</td>\n",
       "      <td>NaN</td>\n",
       "      <td>NaN</td>\n",
       "      <td>NaN</td>\n",
       "      <td>1/2/2023</td>\n",
       "      <td>NaN</td>\n",
       "      <td>Renewals</td>\n",
       "      <td>NaN</td>\n",
       "      <td>American National Florida</td>\n",
       "      <td>a1C1G000006ZFFI</td>\n",
       "      <td></td>\n",
       "    </tr>\n",
       "    <tr>\n",
       "      <th>24552</th>\n",
       "      <td>BOB# 00024755</td>\n",
       "      <td>Luigi Fuentes</td>\n",
       "      <td>American National</td>\n",
       "      <td>8429926.0</td>\n",
       "      <td>INSURANCE XL INC</td>\n",
       "      <td>Adriana  Gonzalez</td>\n",
       "      <td>8429926.0</td>\n",
       "      <td>Adriana Gonzalez</td>\n",
       "      <td>UE095094</td>\n",
       "      <td>Direct</td>\n",
       "      <td>...</td>\n",
       "      <td>NaN</td>\n",
       "      <td>NaN</td>\n",
       "      <td>NaN</td>\n",
       "      <td>1/2/2023</td>\n",
       "      <td>NaN</td>\n",
       "      <td>Renewals</td>\n",
       "      <td>NaN</td>\n",
       "      <td>American National Florida</td>\n",
       "      <td>a1C1G000006ZFFJ</td>\n",
       "      <td></td>\n",
       "    </tr>\n",
       "  </tbody>\n",
       "</table>\n",
       "<p>3 rows × 54 columns</p>\n",
       "</div>"
      ],
      "text/plain": [
       "      Book of Business: BOB Name Account Executive Name            Carrier  \\\n",
       "24550              BOB# 00024753          Luigi Fuentes  American National   \n",
       "24551              BOB# 00024754                         American National   \n",
       "24552              BOB# 00024755          Luigi Fuentes  American National   \n",
       "\n",
       "         NPN AOR         Agent AOR     Internal Agent  NPN Internal Agent  \\\n",
       "24550  8429926.0  INSURANCE XL INC  Adriana  Gonzalez           8429926.0   \n",
       "24551  8429926.0  INSURANCE XL INC  Adriana  Gonzalez           8429926.0   \n",
       "24552  8429926.0  INSURANCE XL INC  Adriana  Gonzalez           8429926.0   \n",
       "\n",
       "                Contact Policy Number  Source  ...  Email Metal Level  \\\n",
       "24550  Adriana Gonzalez      UE095096  Direct  ...    NaN         NaN   \n",
       "24551  Adriana Gonzalez      E0125027  Direct  ...    NaN         NaN   \n",
       "24552  Adriana Gonzalez      UE095094  Direct  ...    NaN         NaN   \n",
       "\n",
       "      Zip Code Book of Business: Last Modified Date Note Claro Type  \\\n",
       "24550      NaN                             1/2/2023  NaN   Renewals   \n",
       "24551      NaN                             1/2/2023  NaN   Renewals   \n",
       "24552      NaN                             1/2/2023  NaN   Renewals   \n",
       "\n",
       "      Previous BOB ID Carrier State line of Business  Book of Business: ID  \\\n",
       "24550             NaN      American National Florida       a1C1G000006ZFFH   \n",
       "24551             NaN      American National Florida       a1C1G000006ZFFI   \n",
       "24552             NaN      American National Florida       a1C1G000006ZFFJ   \n",
       "\n",
       "      Account Executive  \n",
       "24550                    \n",
       "24551                    \n",
       "24552                    \n",
       "\n",
       "[3 rows x 54 columns]"
      ]
     },
     "execution_count": 120,
     "metadata": {},
     "output_type": "execute_result"
    }
   ],
   "source": [
    "df_b.head(3)"
   ]
  },
  {
   "cell_type": "markdown",
   "id": "9c7206fa-34dd-4cc3-bfa6-f96baae523aa",
   "metadata": {},
   "source": [
    "### Hacer join"
   ]
  },
  {
   "cell_type": "code",
   "execution_count": 121,
   "id": "3fdd4b2c-e205-4d53-b8a2-4a513ad0a500",
   "metadata": {},
   "outputs": [],
   "source": [
    "def leftJoinBOB(new_policies, bob_policies):\n",
    "    upload = list(set(new_policies) - set(bob_policies) )\n",
    "    return upload"
   ]
  },
  {
   "cell_type": "code",
   "execution_count": 122,
   "id": "50434eb9-478e-4f6a-aec9-cbf82227ca33",
   "metadata": {},
   "outputs": [],
   "source": [
    "upload = leftJoinBOB(df_a['PolicyNumber'].values, df_b['Policy Number'].values)"
   ]
  },
  {
   "cell_type": "code",
   "execution_count": 123,
   "id": "614afeea-1906-4a78-b064-636b8814d35c",
   "metadata": {},
   "outputs": [],
   "source": [
    "df_upload = df_a[df_a['PolicyNumber'].isin(upload)]"
   ]
  },
  {
   "cell_type": "code",
   "execution_count": 124,
   "id": "f1a5d1ac-7373-4634-9ffb-b85982bd81ce",
   "metadata": {},
   "outputs": [
    {
     "data": {
      "text/plain": [
       "(0, 15)"
      ]
     },
     "execution_count": 124,
     "metadata": {},
     "output_type": "execute_result"
    }
   ],
   "source": [
    "df_upload.shape"
   ]
  },
  {
   "cell_type": "code",
   "execution_count": 125,
   "id": "dd219410-ccbf-4f48-9cae-c8cc868584b5",
   "metadata": {},
   "outputs": [
    {
     "data": {
      "text/html": [
       "<div>\n",
       "<style scoped>\n",
       "    .dataframe tbody tr th:only-of-type {\n",
       "        vertical-align: middle;\n",
       "    }\n",
       "\n",
       "    .dataframe tbody tr th {\n",
       "        vertical-align: top;\n",
       "    }\n",
       "\n",
       "    .dataframe thead th {\n",
       "        text-align: right;\n",
       "    }\n",
       "</style>\n",
       "<table border=\"1\" class=\"dataframe\">\n",
       "  <thead>\n",
       "    <tr style=\"text-align: right;\">\n",
       "      <th></th>\n",
       "      <th>Agent AOR</th>\n",
       "      <th>Policy Type</th>\n",
       "      <th>PolicyNumber</th>\n",
       "      <th>Critical</th>\n",
       "      <th>EffectiveDate</th>\n",
       "      <th>Product</th>\n",
       "      <th>FinalPremium</th>\n",
       "      <th>Face Amount</th>\n",
       "      <th>State</th>\n",
       "      <th>Insured</th>\n",
       "      <th>Status</th>\n",
       "      <th>NIA</th>\n",
       "      <th>Requirement</th>\n",
       "      <th>Mailed</th>\n",
       "      <th>Allotment</th>\n",
       "    </tr>\n",
       "  </thead>\n",
       "  <tbody>\n",
       "  </tbody>\n",
       "</table>\n",
       "</div>"
      ],
      "text/plain": [
       "Empty DataFrame\n",
       "Columns: [Agent AOR, Policy Type, PolicyNumber, Critical, EffectiveDate, Product, FinalPremium, Face Amount, State, Insured, Status, NIA, Requirement, Mailed, Allotment]\n",
       "Index: []"
      ]
     },
     "execution_count": 125,
     "metadata": {},
     "output_type": "execute_result"
    }
   ],
   "source": [
    "df_upload"
   ]
  },
  {
   "cell_type": "markdown",
   "id": "06ca15cc-d440-4865-82f0-367a69169c97",
   "metadata": {},
   "source": [
    "### Upload into template"
   ]
  },
  {
   "cell_type": "code",
   "execution_count": 99,
   "id": "bdaf35f6-4164-4961-b855-3d80cf022bef",
   "metadata": {},
   "outputs": [],
   "source": [
    "df_upload.reset_index(drop=True, inplace=True)"
   ]
  },
  {
   "cell_type": "code",
   "execution_count": 100,
   "id": "e44bfc31-0168-42b0-a32d-77203d61bf96",
   "metadata": {},
   "outputs": [],
   "source": [
    "df_template = pd.read_csv('//mnt/c/Users/cesar/Desktop/claro/Format_Create_BOB.csv').head(0)"
   ]
  },
  {
   "cell_type": "code",
   "execution_count": 101,
   "id": "29950d34-dc49-4daa-97fe-5f494aa9be95",
   "metadata": {},
   "outputs": [
    {
     "data": {
      "text/html": [
       "<div>\n",
       "<style scoped>\n",
       "    .dataframe tbody tr th:only-of-type {\n",
       "        vertical-align: middle;\n",
       "    }\n",
       "\n",
       "    .dataframe tbody tr th {\n",
       "        vertical-align: top;\n",
       "    }\n",
       "\n",
       "    .dataframe thead th {\n",
       "        text-align: right;\n",
       "    }\n",
       "</style>\n",
       "<table border=\"1\" class=\"dataframe\">\n",
       "  <thead>\n",
       "    <tr style=\"text-align: right;\">\n",
       "      <th></th>\n",
       "      <th>Carrier___</th>\n",
       "      <th>LOB____</th>\n",
       "      <th>Carrier</th>\n",
       "      <th>Agent AOR</th>\n",
       "      <th>NPN AOR</th>\n",
       "      <th>Contact____</th>\n",
       "      <th>NPN_Internal____</th>\n",
       "      <th>Contact</th>\n",
       "      <th>Policy Number</th>\n",
       "      <th>Source</th>\n",
       "      <th>...</th>\n",
       "      <th>Subsidy</th>\n",
       "      <th>Annual Premium</th>\n",
       "      <th>Paid Thru Date</th>\n",
       "      <th>Days Past Due</th>\n",
       "      <th>Phone Number</th>\n",
       "      <th>Email</th>\n",
       "      <th>Metal Level</th>\n",
       "      <th>Zip Code</th>\n",
       "      <th>Claro Type</th>\n",
       "      <th>Carrier State line of Business</th>\n",
       "    </tr>\n",
       "  </thead>\n",
       "  <tbody>\n",
       "  </tbody>\n",
       "</table>\n",
       "<p>0 rows × 40 columns</p>\n",
       "</div>"
      ],
      "text/plain": [
       "Empty DataFrame\n",
       "Columns: [Carrier___, LOB____, Carrier, Agent AOR, NPN AOR, Contact____, NPN_Internal____, Contact, Policy Number, Source, Referrals_____, Referrals Id, Status, Effective Date, Transaction Date, Policy Term Date, Member First Name, Member Last Name, DOB, State, County, City, Members, Policy Type, Last Status Modification Date, Loading Date, Record Type Id, Plan, Election Period, Final Premium, Subsidy, Annual Premium, Paid Thru Date, Days Past Due, Phone Number, Email, Metal Level, Zip Code, Claro Type, Carrier State line of Business]\n",
       "Index: []\n",
       "\n",
       "[0 rows x 40 columns]"
      ]
     },
     "execution_count": 101,
     "metadata": {},
     "output_type": "execute_result"
    }
   ],
   "source": [
    "df_template"
   ]
  },
  {
   "cell_type": "code",
   "execution_count": 102,
   "id": "1e2c699c-8f4d-42e0-8a48-5e247ce24b3d",
   "metadata": {},
   "outputs": [
    {
     "data": {
      "text/html": [
       "<div>\n",
       "<style scoped>\n",
       "    .dataframe tbody tr th:only-of-type {\n",
       "        vertical-align: middle;\n",
       "    }\n",
       "\n",
       "    .dataframe tbody tr th {\n",
       "        vertical-align: top;\n",
       "    }\n",
       "\n",
       "    .dataframe thead th {\n",
       "        text-align: right;\n",
       "    }\n",
       "</style>\n",
       "<table border=\"1\" class=\"dataframe\">\n",
       "  <thead>\n",
       "    <tr style=\"text-align: right;\">\n",
       "      <th></th>\n",
       "      <th>Agent AOR</th>\n",
       "      <th>Policy Type</th>\n",
       "      <th>PolicyNumber</th>\n",
       "      <th>Critical</th>\n",
       "      <th>EffectiveDate</th>\n",
       "      <th>Product</th>\n",
       "      <th>FinalPremium</th>\n",
       "      <th>Face Amount</th>\n",
       "      <th>State</th>\n",
       "      <th>Insured</th>\n",
       "      <th>Status</th>\n",
       "      <th>NIA</th>\n",
       "      <th>Requirement</th>\n",
       "      <th>Mailed</th>\n",
       "      <th>Allotment</th>\n",
       "    </tr>\n",
       "  </thead>\n",
       "  <tbody>\n",
       "  </tbody>\n",
       "</table>\n",
       "</div>"
      ],
      "text/plain": [
       "Empty DataFrame\n",
       "Columns: [Agent AOR, Policy Type, PolicyNumber, Critical, EffectiveDate, Product, FinalPremium, Face Amount, State, Insured, Status, NIA, Requirement, Mailed, Allotment]\n",
       "Index: []"
      ]
     },
     "execution_count": 102,
     "metadata": {},
     "output_type": "execute_result"
    }
   ],
   "source": [
    "df_upload"
   ]
  },
  {
   "cell_type": "code",
   "execution_count": 103,
   "id": "6cd3968d-0350-496d-b6fa-ab6d3d71d09b",
   "metadata": {},
   "outputs": [],
   "source": [
    "df_template['Member First Name'] = df_upload['Insured'].apply(lambda x : split_names(x, first=False))"
   ]
  },
  {
   "cell_type": "code",
   "execution_count": 104,
   "id": "f4652a4b-1a2c-47e1-94bb-8c4a3b2c4971",
   "metadata": {},
   "outputs": [],
   "source": [
    "df_template['Member Last Name'] = df_upload['Insured'].apply(lambda x : split_names(x))"
   ]
  },
  {
   "cell_type": "code",
   "execution_count": 105,
   "id": "fea460e3-4c7a-40f9-a12a-fcc8454a446b",
   "metadata": {},
   "outputs": [],
   "source": [
    "df_template.reset_index(drop=True, inplace=True)"
   ]
  },
  {
   "cell_type": "code",
   "execution_count": 106,
   "id": "c6bbdd06-bfc7-45e1-9116-fd42c103e5fb",
   "metadata": {},
   "outputs": [],
   "source": [
    "df_template['Policy Number'] = df_upload['PolicyNumber']"
   ]
  },
  {
   "cell_type": "code",
   "execution_count": 107,
   "id": "70393161-f204-4ce0-b7ac-aa6a0d55ed45",
   "metadata": {},
   "outputs": [],
   "source": [
    "df_template['Final Premium'] = df_upload['FinalPremium']"
   ]
  },
  {
   "cell_type": "code",
   "execution_count": 108,
   "id": "900f75b9-1202-4cb1-a105-96a1aff27a34",
   "metadata": {},
   "outputs": [],
   "source": [
    "df_template['Plan'] = df_upload['Product']"
   ]
  },
  {
   "cell_type": "code",
   "execution_count": 109,
   "id": "d010a323-5815-4e3e-a195-c1f3e7854cdf",
   "metadata": {},
   "outputs": [],
   "source": [
    "df_template['Agent AOR'] = df_upload['Agent AOR']"
   ]
  },
  {
   "cell_type": "code",
   "execution_count": 110,
   "id": "a1fb904f-9533-4ab8-a6ef-a847a124e737",
   "metadata": {},
   "outputs": [],
   "source": [
    "df_template['Effective Date'] = df_upload['EffectiveDate']"
   ]
  },
  {
   "cell_type": "code",
   "execution_count": 111,
   "id": "c30ab4e7-75de-4c02-af52-1e6f11853b2b",
   "metadata": {},
   "outputs": [],
   "source": [
    "df_template['LOB____'] = 'Life'"
   ]
  },
  {
   "cell_type": "code",
   "execution_count": 112,
   "id": "4d89b460-1825-47e2-9230-498c983fa9c7",
   "metadata": {},
   "outputs": [],
   "source": [
    "#df_an = df_upload.copy()\n",
    "\n",
    "#df_an['AgentNumber'] = 'Q01P6'"
   ]
  },
  {
   "cell_type": "code",
   "execution_count": 113,
   "id": "dffeb15a-8f27-434b-b979-2f8c98847c82",
   "metadata": {},
   "outputs": [
    {
     "ename": "NameError",
     "evalue": "name 'df_an' is not defined",
     "output_type": "error",
     "traceback": [
      "\u001b[0;31m---------------------------------------------------------------------------\u001b[0m",
      "\u001b[0;31mNameError\u001b[0m                                 Traceback (most recent call last)",
      "\u001b[0;32m<ipython-input-113-f22ffa9df156>\u001b[0m in \u001b[0;36m<module>\u001b[0;34m\u001b[0m\n\u001b[0;32m----> 1\u001b[0;31m \u001b[0mdf_upload\u001b[0m \u001b[0;34m=\u001b[0m \u001b[0mdf_an\u001b[0m\u001b[0;34m\u001b[0m\u001b[0;34m\u001b[0m\u001b[0m\n\u001b[0m",
      "\u001b[0;31mNameError\u001b[0m: name 'df_an' is not defined"
     ]
    }
   ],
   "source": [
    "df_upload = df_an"
   ]
  },
  {
   "cell_type": "markdown",
   "id": "387e8c4d-e839-4fb0-a466-306e5007d3db",
   "metadata": {},
   "source": [
    "#### Source"
   ]
  },
  {
   "cell_type": "code",
   "execution_count": 210,
   "id": "f16dc9b7-951b-4c51-9bc7-a2a7911ce249",
   "metadata": {
    "tags": []
   },
   "outputs": [],
   "source": [
    "df_template = getSource(query_referals_agents, connection, df_template, df_upload)"
   ]
  },
  {
   "cell_type": "markdown",
   "id": "286a09e1-8a46-4c84-a1b3-142cbdcf7d94",
   "metadata": {},
   "source": [
    "#### Mermbers"
   ]
  },
  {
   "cell_type": "code",
   "execution_count": 211,
   "id": "e6b77b04-b9d6-4df5-840e-f0515b5350c8",
   "metadata": {},
   "outputs": [],
   "source": [
    "df_template['Members'] = 1"
   ]
  },
  {
   "cell_type": "markdown",
   "id": "d755f407-5d66-480e-bc0d-57fb0adf402f",
   "metadata": {},
   "source": [
    "#### Record Type ID"
   ]
  },
  {
   "cell_type": "code",
   "execution_count": 212,
   "id": "50355a3c-9977-4220-bfe5-9432c6a01519",
   "metadata": {
    "tags": []
   },
   "outputs": [],
   "source": [
    "# df_template['Record Type Id']"
   ]
  },
  {
   "cell_type": "markdown",
   "id": "ccebdc36-af05-43ce-9c93-c91fadd76176",
   "metadata": {},
   "source": [
    "#### State"
   ]
  },
  {
   "cell_type": "code",
   "execution_count": 213,
   "id": "afc6b68e-d472-4988-a384-2be6276ff7b0",
   "metadata": {},
   "outputs": [],
   "source": [
    "df_template['State'] = 'FL'"
   ]
  },
  {
   "cell_type": "markdown",
   "id": "7ce2b4d4-7431-4160-a653-974e5c2979fe",
   "metadata": {},
   "source": [
    "#### Record Type"
   ]
  },
  {
   "cell_type": "code",
   "execution_count": 214,
   "id": "bb5b23b4-3d2f-4073-a66f-e5cc0a77fd79",
   "metadata": {},
   "outputs": [],
   "source": [
    "df_template = recordType(df_upload, df_template)"
   ]
  },
  {
   "cell_type": "markdown",
   "id": "897b7e7d-16e0-4b72-a087-116ed4326b2b",
   "metadata": {},
   "source": [
    "#### Carrier"
   ]
  },
  {
   "cell_type": "code",
   "execution_count": 215,
   "id": "ec3098e2-1924-4f47-94a9-b8139380fc47",
   "metadata": {},
   "outputs": [],
   "source": [
    "query_carrier_id = \"\"\"\n",
    "    SELECT carrier_id  \n",
    "    FROM carrier c \n",
    "    WHERE carrier = '{carrier_name}' and state_c = '{carrier_state}'\n",
    "    ;\n",
    "\"\"\".format(carrier_name= df_b['Carrier'].unique()[0], carrier_state=df_template['State'].unique()[0])\n",
    "\n",
    "carrier_id = query_db(query_carrier_id)[0][0]\n",
    "\n",
    "df_template['Carrier'] =  carrier_id"
   ]
  },
  {
   "cell_type": "markdown",
   "id": "0bf2fc5e-3e2a-4014-b720-f07c2eec9627",
   "metadata": {},
   "source": [
    "#### Status"
   ]
  },
  {
   "cell_type": "code",
   "execution_count": 216,
   "id": "88dca584-3702-45e7-a128-adc4a2a0c65f",
   "metadata": {},
   "outputs": [],
   "source": [
    "df_template['Status'] = df_upload['Status'].apply(lambda x :replace_status(x) )"
   ]
  },
  {
   "cell_type": "markdown",
   "id": "13daf91f-41d3-4362-be3c-846270636650",
   "metadata": {},
   "source": [
    "#### Policy Type"
   ]
  },
  {
   "cell_type": "code",
   "execution_count": 217,
   "id": "82c9f031-5f08-4002-8909-3299d00ef5ec",
   "metadata": {},
   "outputs": [],
   "source": [
    "df_template['Policy Type'] = pd.to_datetime(df_upload['EffectiveDate']).agg(compare_years_policy)"
   ]
  },
  {
   "cell_type": "markdown",
   "id": "57d1c405-d484-47f8-a781-3d47c5454e07",
   "metadata": {},
   "source": [
    "#### Claro Type"
   ]
  },
  {
   "cell_type": "code",
   "execution_count": 218,
   "id": "b7cd45f3-afbc-4bda-af54-e68214aed894",
   "metadata": {},
   "outputs": [],
   "source": [
    "df_template['Claro Type'] = 'New Sale'"
   ]
  },
  {
   "cell_type": "markdown",
   "id": "26444db1-e0e2-4a66-ad94-45e83c18ed93",
   "metadata": {},
   "source": [
    "#### Last Status"
   ]
  },
  {
   "cell_type": "code",
   "execution_count": 219,
   "id": "9a144d05-c4e0-4bcf-9027-6aa2e26d91ad",
   "metadata": {},
   "outputs": [],
   "source": [
    "df_template['Last Status Modification Date'] = date"
   ]
  },
  {
   "cell_type": "markdown",
   "id": "ed2b92f1-fc72-449a-9c26-65f0fcea484e",
   "metadata": {},
   "source": [
    "#### Loading Date"
   ]
  },
  {
   "cell_type": "code",
   "execution_count": 220,
   "id": "72a20fb1-953d-4603-b87e-aff707d14e13",
   "metadata": {},
   "outputs": [],
   "source": [
    "df_template['Loading Date'] = date"
   ]
  },
  {
   "cell_type": "markdown",
   "id": "09e519a7-362f-45f5-92f3-6521f3c81e25",
   "metadata": {},
   "source": [
    "#### NPN AOR"
   ]
  },
  {
   "cell_type": "code",
   "execution_count": 244,
   "id": "0f0ddf25-db9a-409b-9c30-3d9cc28d4f16",
   "metadata": {},
   "outputs": [],
   "source": [
    "df_template, df_contact = npnAOR(query_agent_AOR, connection)"
   ]
  },
  {
   "cell_type": "code",
   "execution_count": 245,
   "id": "4d049665-a97c-4d9b-92c8-147120e56531",
   "metadata": {},
   "outputs": [
    {
     "data": {
      "text/html": [
       "<div>\n",
       "<style scoped>\n",
       "    .dataframe tbody tr th:only-of-type {\n",
       "        vertical-align: middle;\n",
       "    }\n",
       "\n",
       "    .dataframe tbody tr th {\n",
       "        vertical-align: top;\n",
       "    }\n",
       "\n",
       "    .dataframe thead th {\n",
       "        text-align: right;\n",
       "    }\n",
       "</style>\n",
       "<table border=\"1\" class=\"dataframe\">\n",
       "  <thead>\n",
       "    <tr style=\"text-align: right;\">\n",
       "      <th></th>\n",
       "      <th>Agent AOR</th>\n",
       "      <th>NPN AOR</th>\n",
       "      <th>Contact</th>\n",
       "      <th>Carrier</th>\n",
       "      <th>State</th>\n",
       "      <th>Policy Number</th>\n",
       "      <th>Policy Type</th>\n",
       "      <th>Claro Type</th>\n",
       "      <th>Record Type Id</th>\n",
       "      <th>Carrier State line of Business</th>\n",
       "      <th>Source</th>\n",
       "      <th>Status</th>\n",
       "      <th>Effective Date</th>\n",
       "      <th>Plan</th>\n",
       "      <th>Members</th>\n",
       "      <th>Last Status Modification Date</th>\n",
       "      <th>Loading Date</th>\n",
       "      <th>Final Premium</th>\n",
       "      <th>Member First Name</th>\n",
       "      <th>Member Last Name</th>\n",
       "    </tr>\n",
       "  </thead>\n",
       "  <tbody>\n",
       "    <tr>\n",
       "      <th>0</th>\n",
       "      <td>LUISA ALVAREZ</td>\n",
       "      <td>7733898</td>\n",
       "      <td>0031G00000pFnQwQAK</td>\n",
       "      <td>a0S1G000006ag2kUAA</td>\n",
       "      <td>FL</td>\n",
       "      <td>E0238164</td>\n",
       "      <td>New Sale</td>\n",
       "      <td>New Sale</td>\n",
       "      <td>0121G000000bpwvQAA</td>\n",
       "      <td>a091G00000B5DUYQA3</td>\n",
       "      <td>Direct</td>\n",
       "      <td>Active</td>\n",
       "      <td>12/27/2022</td>\n",
       "      <td>Signature Term - 30 Yr</td>\n",
       "      <td>1</td>\n",
       "      <td>01/16/2023</td>\n",
       "      <td>01/16/2023</td>\n",
       "      <td>1902.48</td>\n",
       "      <td>Cepeda</td>\n",
       "      <td>Vicky</td>\n",
       "    </tr>\n",
       "    <tr>\n",
       "      <th>1</th>\n",
       "      <td>ANDRES FELIPE GONZALEZ</td>\n",
       "      <td>7733898</td>\n",
       "      <td>0031G00000pFnQwQAK</td>\n",
       "      <td>a0S1G000006ag2kUAA</td>\n",
       "      <td>FL</td>\n",
       "      <td>E0247216</td>\n",
       "      <td>New Sale</td>\n",
       "      <td>New Sale</td>\n",
       "      <td>0121G000000bpwvQAA</td>\n",
       "      <td>a091G00000B5DUYQA3</td>\n",
       "      <td>Direct</td>\n",
       "      <td>Pending</td>\n",
       "      <td>01/04/2023</td>\n",
       "      <td>Signature Term - 20 Yr</td>\n",
       "      <td>1</td>\n",
       "      <td>01/16/2023</td>\n",
       "      <td>01/16/2023</td>\n",
       "      <td>508.08</td>\n",
       "      <td>Ramirez</td>\n",
       "      <td>Sonia</td>\n",
       "    </tr>\n",
       "    <tr>\n",
       "      <th>2</th>\n",
       "      <td>ANDRES FELIPE GONZALEZ</td>\n",
       "      <td>7733898</td>\n",
       "      <td>0031G00000pFnQwQAK</td>\n",
       "      <td>a0S1G000006ag2kUAA</td>\n",
       "      <td>FL</td>\n",
       "      <td>E0247201</td>\n",
       "      <td>New Sale</td>\n",
       "      <td>New Sale</td>\n",
       "      <td>0121G000000bpwvQAA</td>\n",
       "      <td>a091G00000B5DUYQA3</td>\n",
       "      <td>Direct</td>\n",
       "      <td>Pending</td>\n",
       "      <td>01/06/2023</td>\n",
       "      <td>Signature Term - 20 Yr</td>\n",
       "      <td>1</td>\n",
       "      <td>01/16/2023</td>\n",
       "      <td>01/16/2023</td>\n",
       "      <td>648.00</td>\n",
       "      <td>Rojas</td>\n",
       "      <td>Juan</td>\n",
       "    </tr>\n",
       "    <tr>\n",
       "      <th>3</th>\n",
       "      <td>ANGELA P OROZCO</td>\n",
       "      <td>7733898</td>\n",
       "      <td>0031G00000pFnQwQAK</td>\n",
       "      <td>a0S1G000006ag2kUAA</td>\n",
       "      <td>FL</td>\n",
       "      <td>E0242129</td>\n",
       "      <td>New Sale</td>\n",
       "      <td>New Sale</td>\n",
       "      <td>0121G000000bpwvQAA</td>\n",
       "      <td>a091G00000B5DUYQA3</td>\n",
       "      <td>Direct</td>\n",
       "      <td>Active</td>\n",
       "      <td>12/22/2022</td>\n",
       "      <td>Signature Term - 20 Yr</td>\n",
       "      <td>1</td>\n",
       "      <td>01/16/2023</td>\n",
       "      <td>01/16/2023</td>\n",
       "      <td>269.52</td>\n",
       "      <td>Villegas</td>\n",
       "      <td>Carolina</td>\n",
       "    </tr>\n",
       "    <tr>\n",
       "      <th>4</th>\n",
       "      <td>DORILUZ PINA</td>\n",
       "      <td>7733898</td>\n",
       "      <td>0031G00000pFnQwQAK</td>\n",
       "      <td>a0S1G000006ag2kUAA</td>\n",
       "      <td>FL</td>\n",
       "      <td>E0247252</td>\n",
       "      <td>New Sale</td>\n",
       "      <td>New Sale</td>\n",
       "      <td>0121G000000bpwvQAA</td>\n",
       "      <td>a091G00000B5DUYQA3</td>\n",
       "      <td>Direct</td>\n",
       "      <td>Pending</td>\n",
       "      <td>01/11/2023</td>\n",
       "      <td>Signature Term - 20 Yr</td>\n",
       "      <td>1</td>\n",
       "      <td>01/16/2023</td>\n",
       "      <td>01/16/2023</td>\n",
       "      <td>1024.92</td>\n",
       "      <td>Mendoza</td>\n",
       "      <td>Santos</td>\n",
       "    </tr>\n",
       "    <tr>\n",
       "      <th>5</th>\n",
       "      <td>OLVANDA ALTAGRACIA RAMIREZ HERRERA</td>\n",
       "      <td>7733898</td>\n",
       "      <td>0031G00000pFnQwQAK</td>\n",
       "      <td>a0S1G000006ag2kUAA</td>\n",
       "      <td>FL</td>\n",
       "      <td>E0247277</td>\n",
       "      <td>New Sale</td>\n",
       "      <td>New Sale</td>\n",
       "      <td>0121G000000bpwvQAA</td>\n",
       "      <td>a091G00000B5DUYQA3</td>\n",
       "      <td>Direct</td>\n",
       "      <td>Pending</td>\n",
       "      <td>01/09/2023</td>\n",
       "      <td>Signature Term - 20 Yr</td>\n",
       "      <td>1</td>\n",
       "      <td>01/16/2023</td>\n",
       "      <td>01/16/2023</td>\n",
       "      <td>2553.12</td>\n",
       "      <td>Nunez</td>\n",
       "      <td>Gerardo</td>\n",
       "    </tr>\n",
       "    <tr>\n",
       "      <th>6</th>\n",
       "      <td>OLVANDA ALTAGRACIA RAMIREZ HERRERA</td>\n",
       "      <td>7733898</td>\n",
       "      <td>0031G00000pFnQwQAK</td>\n",
       "      <td>a0S1G000006ag2kUAA</td>\n",
       "      <td>FL</td>\n",
       "      <td>E0247238</td>\n",
       "      <td>New Sale</td>\n",
       "      <td>New Sale</td>\n",
       "      <td>0121G000000bpwvQAA</td>\n",
       "      <td>a091G00000B5DUYQA3</td>\n",
       "      <td>Direct</td>\n",
       "      <td>Pending</td>\n",
       "      <td>12/07/2022</td>\n",
       "      <td>Signature Term - 20 Yr</td>\n",
       "      <td>1</td>\n",
       "      <td>01/16/2023</td>\n",
       "      <td>01/16/2023</td>\n",
       "      <td>5804.04</td>\n",
       "      <td>Nunez</td>\n",
       "      <td>Gerardo</td>\n",
       "    </tr>\n",
       "  </tbody>\n",
       "</table>\n",
       "</div>"
      ],
      "text/plain": [
       "                            Agent AOR  NPN AOR             Contact  \\\n",
       "0                       LUISA ALVAREZ  7733898  0031G00000pFnQwQAK   \n",
       "1              ANDRES FELIPE GONZALEZ  7733898  0031G00000pFnQwQAK   \n",
       "2              ANDRES FELIPE GONZALEZ  7733898  0031G00000pFnQwQAK   \n",
       "3                     ANGELA P OROZCO  7733898  0031G00000pFnQwQAK   \n",
       "4                        DORILUZ PINA  7733898  0031G00000pFnQwQAK   \n",
       "5  OLVANDA ALTAGRACIA RAMIREZ HERRERA  7733898  0031G00000pFnQwQAK   \n",
       "6  OLVANDA ALTAGRACIA RAMIREZ HERRERA  7733898  0031G00000pFnQwQAK   \n",
       "\n",
       "              Carrier State Policy Number Policy Type Claro Type  \\\n",
       "0  a0S1G000006ag2kUAA    FL      E0238164    New Sale   New Sale   \n",
       "1  a0S1G000006ag2kUAA    FL      E0247216    New Sale   New Sale   \n",
       "2  a0S1G000006ag2kUAA    FL      E0247201    New Sale   New Sale   \n",
       "3  a0S1G000006ag2kUAA    FL      E0242129    New Sale   New Sale   \n",
       "4  a0S1G000006ag2kUAA    FL      E0247252    New Sale   New Sale   \n",
       "5  a0S1G000006ag2kUAA    FL      E0247277    New Sale   New Sale   \n",
       "6  a0S1G000006ag2kUAA    FL      E0247238    New Sale   New Sale   \n",
       "\n",
       "       Record Type Id Carrier State line of Business  Source   Status  \\\n",
       "0  0121G000000bpwvQAA             a091G00000B5DUYQA3  Direct   Active   \n",
       "1  0121G000000bpwvQAA             a091G00000B5DUYQA3  Direct  Pending   \n",
       "2  0121G000000bpwvQAA             a091G00000B5DUYQA3  Direct  Pending   \n",
       "3  0121G000000bpwvQAA             a091G00000B5DUYQA3  Direct   Active   \n",
       "4  0121G000000bpwvQAA             a091G00000B5DUYQA3  Direct  Pending   \n",
       "5  0121G000000bpwvQAA             a091G00000B5DUYQA3  Direct  Pending   \n",
       "6  0121G000000bpwvQAA             a091G00000B5DUYQA3  Direct  Pending   \n",
       "\n",
       "  Effective Date                    Plan  Members  \\\n",
       "0     12/27/2022  Signature Term - 30 Yr        1   \n",
       "1     01/04/2023  Signature Term - 20 Yr        1   \n",
       "2     01/06/2023  Signature Term - 20 Yr        1   \n",
       "3     12/22/2022  Signature Term - 20 Yr        1   \n",
       "4     01/11/2023  Signature Term - 20 Yr        1   \n",
       "5     01/09/2023  Signature Term - 20 Yr        1   \n",
       "6     12/07/2022  Signature Term - 20 Yr        1   \n",
       "\n",
       "  Last Status Modification Date Loading Date Final Premium Member First Name  \\\n",
       "0                    01/16/2023   01/16/2023       1902.48            Cepeda   \n",
       "1                    01/16/2023   01/16/2023        508.08           Ramirez   \n",
       "2                    01/16/2023   01/16/2023        648.00             Rojas   \n",
       "3                    01/16/2023   01/16/2023        269.52          Villegas   \n",
       "4                    01/16/2023   01/16/2023       1024.92           Mendoza   \n",
       "5                    01/16/2023   01/16/2023       2553.12             Nunez   \n",
       "6                    01/16/2023   01/16/2023       5804.04             Nunez   \n",
       "\n",
       "  Member Last Name  \n",
       "0            Vicky  \n",
       "1            Sonia  \n",
       "2             Juan  \n",
       "3         Carolina  \n",
       "4           Santos  \n",
       "5          Gerardo  \n",
       "6          Gerardo  "
      ]
     },
     "execution_count": 245,
     "metadata": {},
     "output_type": "execute_result"
    }
   ],
   "source": [
    "df_template"
   ]
  },
  {
   "cell_type": "markdown",
   "id": "93aea8a2-ec82-4bc8-8e0b-0c63e309a2bb",
   "metadata": {},
   "source": [
    "#### Contact ID"
   ]
  },
  {
   "cell_type": "code",
   "execution_count": 222,
   "id": "79a7ab5c-1d0d-47a4-8338-abf8cb1f163e",
   "metadata": {
    "tags": []
   },
   "outputs": [],
   "source": [
    "# df_template['Contact ID'] = df_upload['AgentNumber'].apply(lambda x : extract_contact_id(x, df_contact))"
   ]
  },
  {
   "cell_type": "markdown",
   "id": "03a96e34-579c-4c50-b632-f1cadfc714d9",
   "metadata": {},
   "source": [
    "#### Agent Name"
   ]
  },
  {
   "cell_type": "code",
   "execution_count": 223,
   "id": "698600da-c147-4cc6-8586-b2f288df9f77",
   "metadata": {},
   "outputs": [],
   "source": [
    "df_template['Agent Name'] = df_upload['Agent AOR']"
   ]
  },
  {
   "cell_type": "code",
   "execution_count": 224,
   "id": "fc7f97cb-bb63-4ae9-ae60-3b81f4e5db98",
   "metadata": {
    "tags": []
   },
   "outputs": [],
   "source": [
    "df_template.dropna(axis='columns', how='all').to_excel(f'/mnt/c/Users/cesar/Desktop/claro/test_life_{date}_.xlsx', index=False)"
   ]
  },
  {
   "cell_type": "markdown",
   "id": "d8d7af1d-966d-4ab9-8fb4-b92c71d69930",
   "metadata": {},
   "source": [
    "#### Carrier State Line of Business"
   ]
  },
  {
   "cell_type": "code",
   "execution_count": 225,
   "id": "2535fbfa-bee8-4c51-8795-9bcca2b3c2b1",
   "metadata": {},
   "outputs": [],
   "source": [
    "df_template = extract_cslb(df_template, query_cslb)"
   ]
  },
  {
   "cell_type": "markdown",
   "id": "036f2cc1-83e8-43c6-bd4e-b391d060d845",
   "metadata": {},
   "source": [
    "### Check faltante"
   ]
  },
  {
   "cell_type": "code",
   "execution_count": 234,
   "id": "8010e559-bdf6-4a76-a786-b95e781b5445",
   "metadata": {},
   "outputs": [],
   "source": [
    "df_faltantes = df_template[df_template['Contact'].isna()]"
   ]
  },
  {
   "cell_type": "code",
   "execution_count": 235,
   "id": "621b990a-5123-40a6-8a1e-9f6146944eaf",
   "metadata": {},
   "outputs": [
    {
     "data": {
      "text/html": [
       "<div>\n",
       "<style scoped>\n",
       "    .dataframe tbody tr th:only-of-type {\n",
       "        vertical-align: middle;\n",
       "    }\n",
       "\n",
       "    .dataframe tbody tr th {\n",
       "        vertical-align: top;\n",
       "    }\n",
       "\n",
       "    .dataframe thead th {\n",
       "        text-align: right;\n",
       "    }\n",
       "</style>\n",
       "<table border=\"1\" class=\"dataframe\">\n",
       "  <thead>\n",
       "    <tr style=\"text-align: right;\">\n",
       "      <th></th>\n",
       "      <th>Agent AOR</th>\n",
       "      <th>NPN AOR</th>\n",
       "      <th>Contact</th>\n",
       "      <th>Carrier</th>\n",
       "      <th>State</th>\n",
       "      <th>Policy Number</th>\n",
       "      <th>Policy Type</th>\n",
       "      <th>Claro Type</th>\n",
       "      <th>Record Type Id</th>\n",
       "      <th>Carrier State line of Business</th>\n",
       "      <th>Source</th>\n",
       "      <th>Status</th>\n",
       "      <th>Effective Date</th>\n",
       "      <th>Plan</th>\n",
       "      <th>Members</th>\n",
       "      <th>Last Status Modification Date</th>\n",
       "      <th>Loading Date</th>\n",
       "      <th>Final Premium</th>\n",
       "      <th>Member First Name</th>\n",
       "      <th>Member Last Name</th>\n",
       "    </tr>\n",
       "  </thead>\n",
       "  <tbody>\n",
       "  </tbody>\n",
       "</table>\n",
       "</div>"
      ],
      "text/plain": [
       "Empty DataFrame\n",
       "Columns: [Agent AOR, NPN AOR, Contact, Carrier, State, Policy Number, Policy Type, Claro Type, Record Type Id, Carrier State line of Business, Source, Status, Effective Date, Plan, Members, Last Status Modification Date, Loading Date, Final Premium, Member First Name, Member Last Name]\n",
       "Index: []"
      ]
     },
     "execution_count": 235,
     "metadata": {},
     "output_type": "execute_result"
    }
   ],
   "source": [
    "df_faltantes"
   ]
  },
  {
   "cell_type": "markdown",
   "id": "9e41f548-5d4c-44c4-832b-40b0653b2434",
   "metadata": {},
   "source": [
    "## Interpolacion"
   ]
  },
  {
   "cell_type": "code",
   "execution_count": 236,
   "id": "f3c9016a-6b54-4b91-8438-c83ff5dfb437",
   "metadata": {},
   "outputs": [],
   "source": [
    "#df_template = iterpolate(df_template, 'RAMIREZ SUQUINO DUNIA',  ('20544688','0031G00001YIab5QAD'))"
   ]
  },
  {
   "cell_type": "markdown",
   "id": "584b2d21-4940-487b-91cc-4d5c512b5294",
   "metadata": {},
   "source": [
    "## Load"
   ]
  },
  {
   "cell_type": "markdown",
   "id": "458adf6a-ae36-44fa-98b7-f06f44750288",
   "metadata": {},
   "source": [
    "\n",
    "\n",
    "\n",
    "\n",
    "\n",
    "\n"
   ]
  },
  {
   "cell_type": "code",
   "execution_count": 226,
   "id": "be9f6bfd-edaa-4af5-875f-799dda238384",
   "metadata": {},
   "outputs": [],
   "source": [
    "df_template = df_template[['Agent AOR','NPN AOR', 'Contact', 'Carrier', 'State','Policy Number', 'Policy Type', 'Claro Type','Record Type Id', 'Carrier State line of Business','Source', 'Status', 'Effective Date',\n",
    "            'Plan','Members', 'Last Status Modification Date', 'Loading Date', 'Final Premium','Member First Name', 'Member Last Name'\n",
    "            ]]"
   ]
  },
  {
   "cell_type": "code",
   "execution_count": 227,
   "id": "6efa4c8e-7528-443f-92b8-f177488c3f9d",
   "metadata": {},
   "outputs": [],
   "source": [
    "df_times = df_template.copy()\n",
    "df_times[['Last Status Modification Date', 'Loading Date']] = df_template[['Last Status Modification Date', 'Loading Date']].apply(lambda x : pd.to_datetime(x, format='%d-%m-%Y').dt.strftime('%m/%d/%Y'), axis='columns')\n",
    "df_template = df_times"
   ]
  },
  {
   "cell_type": "code",
   "execution_count": null,
   "id": "beb707b8-5316-4f5f-99e0-a2f0bf3d0909",
   "metadata": {},
   "outputs": [],
   "source": []
  },
  {
   "cell_type": "code",
   "execution_count": 230,
   "id": "2319f562-14a3-4797-b556-6a4faa9405a5",
   "metadata": {},
   "outputs": [],
   "source": [
    "df_template['Final Premium'] = df_template['Final Premium'].apply(lambda x : x.replace('$','').replace(',',''))"
   ]
  },
  {
   "cell_type": "code",
   "execution_count": 239,
   "id": "5a7690c6-06fa-482e-a074-0ccbcd6771ee",
   "metadata": {},
   "outputs": [
    {
     "data": {
      "text/html": [
       "<div>\n",
       "<style scoped>\n",
       "    .dataframe tbody tr th:only-of-type {\n",
       "        vertical-align: middle;\n",
       "    }\n",
       "\n",
       "    .dataframe tbody tr th {\n",
       "        vertical-align: top;\n",
       "    }\n",
       "\n",
       "    .dataframe thead th {\n",
       "        text-align: right;\n",
       "    }\n",
       "</style>\n",
       "<table border=\"1\" class=\"dataframe\">\n",
       "  <thead>\n",
       "    <tr style=\"text-align: right;\">\n",
       "      <th></th>\n",
       "      <th>Agent AOR</th>\n",
       "      <th>NPN AOR</th>\n",
       "      <th>Contact</th>\n",
       "      <th>Carrier</th>\n",
       "      <th>State</th>\n",
       "      <th>Policy Number</th>\n",
       "      <th>Policy Type</th>\n",
       "      <th>Claro Type</th>\n",
       "      <th>Record Type Id</th>\n",
       "      <th>Carrier State line of Business</th>\n",
       "      <th>Source</th>\n",
       "      <th>Status</th>\n",
       "      <th>Effective Date</th>\n",
       "      <th>Plan</th>\n",
       "      <th>Members</th>\n",
       "      <th>Last Status Modification Date</th>\n",
       "      <th>Loading Date</th>\n",
       "      <th>Final Premium</th>\n",
       "      <th>Member First Name</th>\n",
       "      <th>Member Last Name</th>\n",
       "    </tr>\n",
       "  </thead>\n",
       "  <tbody>\n",
       "    <tr>\n",
       "      <th>0</th>\n",
       "      <td>LUISA ALVAREZ</td>\n",
       "      <td>7733898</td>\n",
       "      <td>0031G00000pFnQwQAK</td>\n",
       "      <td>a0S1G000006ag2kUAA</td>\n",
       "      <td>FL</td>\n",
       "      <td>E0238164</td>\n",
       "      <td>New Sale</td>\n",
       "      <td>New Sale</td>\n",
       "      <td>0121G000000bpwvQAA</td>\n",
       "      <td>a091G00000B5DUYQA3</td>\n",
       "      <td>Direct</td>\n",
       "      <td>Active</td>\n",
       "      <td>12/27/2022</td>\n",
       "      <td>Signature Term - 30 Yr</td>\n",
       "      <td>1</td>\n",
       "      <td>01/16/2023</td>\n",
       "      <td>01/16/2023</td>\n",
       "      <td>1902.48</td>\n",
       "      <td>Cepeda</td>\n",
       "      <td>Vicky</td>\n",
       "    </tr>\n",
       "    <tr>\n",
       "      <th>1</th>\n",
       "      <td>ANDRES FELIPE GONZALEZ</td>\n",
       "      <td>7733898</td>\n",
       "      <td>0031G00000pFnQwQAK</td>\n",
       "      <td>a0S1G000006ag2kUAA</td>\n",
       "      <td>FL</td>\n",
       "      <td>E0247216</td>\n",
       "      <td>New Sale</td>\n",
       "      <td>New Sale</td>\n",
       "      <td>0121G000000bpwvQAA</td>\n",
       "      <td>a091G00000B5DUYQA3</td>\n",
       "      <td>Direct</td>\n",
       "      <td>Pending</td>\n",
       "      <td>01/04/2023</td>\n",
       "      <td>Signature Term - 20 Yr</td>\n",
       "      <td>1</td>\n",
       "      <td>01/16/2023</td>\n",
       "      <td>01/16/2023</td>\n",
       "      <td>508.08</td>\n",
       "      <td>Ramirez</td>\n",
       "      <td>Sonia</td>\n",
       "    </tr>\n",
       "    <tr>\n",
       "      <th>2</th>\n",
       "      <td>ANDRES FELIPE GONZALEZ</td>\n",
       "      <td>7733898</td>\n",
       "      <td>0031G00000pFnQwQAK</td>\n",
       "      <td>a0S1G000006ag2kUAA</td>\n",
       "      <td>FL</td>\n",
       "      <td>E0247201</td>\n",
       "      <td>New Sale</td>\n",
       "      <td>New Sale</td>\n",
       "      <td>0121G000000bpwvQAA</td>\n",
       "      <td>a091G00000B5DUYQA3</td>\n",
       "      <td>Direct</td>\n",
       "      <td>Pending</td>\n",
       "      <td>01/06/2023</td>\n",
       "      <td>Signature Term - 20 Yr</td>\n",
       "      <td>1</td>\n",
       "      <td>01/16/2023</td>\n",
       "      <td>01/16/2023</td>\n",
       "      <td>648.00</td>\n",
       "      <td>Rojas</td>\n",
       "      <td>Juan</td>\n",
       "    </tr>\n",
       "    <tr>\n",
       "      <th>3</th>\n",
       "      <td>ANGELA P OROZCO</td>\n",
       "      <td>7733898</td>\n",
       "      <td>0031G00000pFnQwQAK</td>\n",
       "      <td>a0S1G000006ag2kUAA</td>\n",
       "      <td>FL</td>\n",
       "      <td>E0242129</td>\n",
       "      <td>New Sale</td>\n",
       "      <td>New Sale</td>\n",
       "      <td>0121G000000bpwvQAA</td>\n",
       "      <td>a091G00000B5DUYQA3</td>\n",
       "      <td>Direct</td>\n",
       "      <td>Active</td>\n",
       "      <td>12/22/2022</td>\n",
       "      <td>Signature Term - 20 Yr</td>\n",
       "      <td>1</td>\n",
       "      <td>01/16/2023</td>\n",
       "      <td>01/16/2023</td>\n",
       "      <td>269.52</td>\n",
       "      <td>Villegas</td>\n",
       "      <td>Carolina</td>\n",
       "    </tr>\n",
       "    <tr>\n",
       "      <th>4</th>\n",
       "      <td>DORILUZ PINA</td>\n",
       "      <td>7733898</td>\n",
       "      <td>0031G00000pFnQwQAK</td>\n",
       "      <td>a0S1G000006ag2kUAA</td>\n",
       "      <td>FL</td>\n",
       "      <td>E0247252</td>\n",
       "      <td>New Sale</td>\n",
       "      <td>New Sale</td>\n",
       "      <td>0121G000000bpwvQAA</td>\n",
       "      <td>a091G00000B5DUYQA3</td>\n",
       "      <td>Direct</td>\n",
       "      <td>Pending</td>\n",
       "      <td>01/11/2023</td>\n",
       "      <td>Signature Term - 20 Yr</td>\n",
       "      <td>1</td>\n",
       "      <td>01/16/2023</td>\n",
       "      <td>01/16/2023</td>\n",
       "      <td>1024.92</td>\n",
       "      <td>Mendoza</td>\n",
       "      <td>Santos</td>\n",
       "    </tr>\n",
       "    <tr>\n",
       "      <th>5</th>\n",
       "      <td>OLVANDA ALTAGRACIA RAMIREZ HERRERA</td>\n",
       "      <td>7733898</td>\n",
       "      <td>0031G00000pFnQwQAK</td>\n",
       "      <td>a0S1G000006ag2kUAA</td>\n",
       "      <td>FL</td>\n",
       "      <td>E0247277</td>\n",
       "      <td>New Sale</td>\n",
       "      <td>New Sale</td>\n",
       "      <td>0121G000000bpwvQAA</td>\n",
       "      <td>a091G00000B5DUYQA3</td>\n",
       "      <td>Direct</td>\n",
       "      <td>Pending</td>\n",
       "      <td>01/09/2023</td>\n",
       "      <td>Signature Term - 20 Yr</td>\n",
       "      <td>1</td>\n",
       "      <td>01/16/2023</td>\n",
       "      <td>01/16/2023</td>\n",
       "      <td>2553.12</td>\n",
       "      <td>Nunez</td>\n",
       "      <td>Gerardo</td>\n",
       "    </tr>\n",
       "    <tr>\n",
       "      <th>6</th>\n",
       "      <td>OLVANDA ALTAGRACIA RAMIREZ HERRERA</td>\n",
       "      <td>7733898</td>\n",
       "      <td>0031G00000pFnQwQAK</td>\n",
       "      <td>a0S1G000006ag2kUAA</td>\n",
       "      <td>FL</td>\n",
       "      <td>E0247238</td>\n",
       "      <td>New Sale</td>\n",
       "      <td>New Sale</td>\n",
       "      <td>0121G000000bpwvQAA</td>\n",
       "      <td>a091G00000B5DUYQA3</td>\n",
       "      <td>Direct</td>\n",
       "      <td>Pending</td>\n",
       "      <td>12/07/2022</td>\n",
       "      <td>Signature Term - 20 Yr</td>\n",
       "      <td>1</td>\n",
       "      <td>01/16/2023</td>\n",
       "      <td>01/16/2023</td>\n",
       "      <td>5804.04</td>\n",
       "      <td>Nunez</td>\n",
       "      <td>Gerardo</td>\n",
       "    </tr>\n",
       "  </tbody>\n",
       "</table>\n",
       "</div>"
      ],
      "text/plain": [
       "                            Agent AOR  NPN AOR             Contact  \\\n",
       "0                       LUISA ALVAREZ  7733898  0031G00000pFnQwQAK   \n",
       "1              ANDRES FELIPE GONZALEZ  7733898  0031G00000pFnQwQAK   \n",
       "2              ANDRES FELIPE GONZALEZ  7733898  0031G00000pFnQwQAK   \n",
       "3                     ANGELA P OROZCO  7733898  0031G00000pFnQwQAK   \n",
       "4                        DORILUZ PINA  7733898  0031G00000pFnQwQAK   \n",
       "5  OLVANDA ALTAGRACIA RAMIREZ HERRERA  7733898  0031G00000pFnQwQAK   \n",
       "6  OLVANDA ALTAGRACIA RAMIREZ HERRERA  7733898  0031G00000pFnQwQAK   \n",
       "\n",
       "              Carrier State Policy Number Policy Type Claro Type  \\\n",
       "0  a0S1G000006ag2kUAA    FL      E0238164    New Sale   New Sale   \n",
       "1  a0S1G000006ag2kUAA    FL      E0247216    New Sale   New Sale   \n",
       "2  a0S1G000006ag2kUAA    FL      E0247201    New Sale   New Sale   \n",
       "3  a0S1G000006ag2kUAA    FL      E0242129    New Sale   New Sale   \n",
       "4  a0S1G000006ag2kUAA    FL      E0247252    New Sale   New Sale   \n",
       "5  a0S1G000006ag2kUAA    FL      E0247277    New Sale   New Sale   \n",
       "6  a0S1G000006ag2kUAA    FL      E0247238    New Sale   New Sale   \n",
       "\n",
       "       Record Type Id Carrier State line of Business  Source   Status  \\\n",
       "0  0121G000000bpwvQAA             a091G00000B5DUYQA3  Direct   Active   \n",
       "1  0121G000000bpwvQAA             a091G00000B5DUYQA3  Direct  Pending   \n",
       "2  0121G000000bpwvQAA             a091G00000B5DUYQA3  Direct  Pending   \n",
       "3  0121G000000bpwvQAA             a091G00000B5DUYQA3  Direct   Active   \n",
       "4  0121G000000bpwvQAA             a091G00000B5DUYQA3  Direct  Pending   \n",
       "5  0121G000000bpwvQAA             a091G00000B5DUYQA3  Direct  Pending   \n",
       "6  0121G000000bpwvQAA             a091G00000B5DUYQA3  Direct  Pending   \n",
       "\n",
       "  Effective Date                    Plan  Members  \\\n",
       "0     12/27/2022  Signature Term - 30 Yr        1   \n",
       "1     01/04/2023  Signature Term - 20 Yr        1   \n",
       "2     01/06/2023  Signature Term - 20 Yr        1   \n",
       "3     12/22/2022  Signature Term - 20 Yr        1   \n",
       "4     01/11/2023  Signature Term - 20 Yr        1   \n",
       "5     01/09/2023  Signature Term - 20 Yr        1   \n",
       "6     12/07/2022  Signature Term - 20 Yr        1   \n",
       "\n",
       "  Last Status Modification Date Loading Date Final Premium Member First Name  \\\n",
       "0                    01/16/2023   01/16/2023       1902.48            Cepeda   \n",
       "1                    01/16/2023   01/16/2023        508.08           Ramirez   \n",
       "2                    01/16/2023   01/16/2023        648.00             Rojas   \n",
       "3                    01/16/2023   01/16/2023        269.52          Villegas   \n",
       "4                    01/16/2023   01/16/2023       1024.92           Mendoza   \n",
       "5                    01/16/2023   01/16/2023       2553.12             Nunez   \n",
       "6                    01/16/2023   01/16/2023       5804.04             Nunez   \n",
       "\n",
       "  Member Last Name  \n",
       "0            Vicky  \n",
       "1            Sonia  \n",
       "2             Juan  \n",
       "3         Carolina  \n",
       "4           Santos  \n",
       "5          Gerardo  \n",
       "6          Gerardo  "
      ]
     },
     "execution_count": 239,
     "metadata": {},
     "output_type": "execute_result"
    }
   ],
   "source": [
    "df_template"
   ]
  },
  {
   "cell_type": "code",
   "execution_count": null,
   "id": "55deca1b-61c9-4eab-a63e-14033954d717",
   "metadata": {},
   "outputs": [],
   "source": []
  },
  {
   "cell_type": "code",
   "execution_count": null,
   "id": "6cfcc1cf-a1f4-4f92-9917-d7f3e350a591",
   "metadata": {},
   "outputs": [],
   "source": []
  },
  {
   "cell_type": "markdown",
   "id": "02f19b3d-3f87-48ff-b700-5bd7db387d7c",
   "metadata": {},
   "source": [
    "# Close Connection DB"
   ]
  },
  {
   "cell_type": "code",
   "execution_count": null,
   "id": "fefc2e28-7b3c-4b7c-b903-6fe106ad99b6",
   "metadata": {},
   "outputs": [],
   "source": [
    "connection.close()"
   ]
  },
  {
   "cell_type": "code",
   "execution_count": null,
   "id": "d1e2a2e8-4d52-494c-99af-b661c15ee475",
   "metadata": {},
   "outputs": [],
   "source": []
  },
  {
   "cell_type": "markdown",
   "id": "d6aedc9c-c21b-4736-be34-d7515940d40a",
   "metadata": {},
   "source": [
    "# Test"
   ]
  },
  {
   "cell_type": "code",
   "execution_count": 18,
   "id": "d59e9188-2920-4ecb-9927-d1951598c41a",
   "metadata": {},
   "outputs": [],
   "source": [
    "df = pd.read_csv('//mnt/c/Users/cesar/Downloads/verificacion.csv', low_memory=False)"
   ]
  },
  {
   "cell_type": "code",
   "execution_count": 7,
   "id": "f15d9cd1-c0a9-40a1-a802-cd09b4718c51",
   "metadata": {},
   "outputs": [
    {
     "data": {
      "text/plain": [
       "Index(['Book of Business: BOB Name', 'Account Executive Name', 'Carrier',\n",
       "       'NPN AOR', 'Agent AOR', 'Internal Agent', 'NPN Internal Agent',\n",
       "       'Contact', 'Policy Number', 'Source', 'Referrals Id', 'Status',\n",
       "       'Effective Date', 'Policy Term Date', 'Member First Name',\n",
       "       'Member Last Name', 'DOB', 'State', 'Members', 'Policy Type',\n",
       "       'Automatic Renewal', 'Line of Business',\n",
       "       'Last Status Modification Date', 'Loading Date',\n",
       "       'Book of Business: Created Date', 'Book of Business: Record Type',\n",
       "       'Agency', 'Plan', 'Final Premium Currency', 'Final Premium',\n",
       "       'Subsidy Currency', 'Subsidy', 'Annual Premium Currency',\n",
       "       'Annual Premium', 'Renewal Type', 'AEP 2023', 'Renewal 2023',\n",
       "       'All 2023', 'Account Name', 'Paid Thru Date', 'Days Past Due', 'County',\n",
       "       'City', 'Phone Number', 'Email', 'Metal Level', 'Zip Code',\n",
       "       'Book of Business: Last Modified Date', 'Note', 'Claro Type',\n",
       "       'Previous BOB ID', 'Carrier State line of Business',\n",
       "       'Book of Business: ID', 'Account Executive'],\n",
       "      dtype='object')"
      ]
     },
     "execution_count": 7,
     "metadata": {},
     "output_type": "execute_result"
    }
   ],
   "source": [
    "df.columns"
   ]
  },
  {
   "cell_type": "code",
   "execution_count": 102,
   "id": "8ce3da7b-686e-40e8-8057-34f7eb4c17d3",
   "metadata": {},
   "outputs": [],
   "source": [
    "df['Effective Date'] = pd.to_datetime(df['Effective Date'], format='%m/%d/%Y')"
   ]
  },
  {
   "cell_type": "code",
   "execution_count": 112,
   "id": "9da3175d-c577-43c7-a1b3-aded8158e6ec",
   "metadata": {},
   "outputs": [],
   "source": [
    "a = df[df['Effective Date'] <= '1/1/2023']"
   ]
  },
  {
   "cell_type": "code",
   "execution_count": 124,
   "id": "e792c888-06bb-4455-b601-9fc37bb64e73",
   "metadata": {},
   "outputs": [],
   "source": [
    "a = a[a['Status'] == 'Active']"
   ]
  },
  {
   "cell_type": "code",
   "execution_count": 130,
   "id": "8407fd00-5f52-4f87-aed0-c56c4bfa2a29",
   "metadata": {},
   "outputs": [
    {
     "data": {
      "text/plain": [
       "(909, 55)"
      ]
     },
     "execution_count": 130,
     "metadata": {},
     "output_type": "execute_result"
    }
   ],
   "source": [
    "a[a['Line of Business'] == 'Life'].shape"
   ]
  },
  {
   "cell_type": "code",
   "execution_count": 100,
   "id": "32d60a39-ad07-49eb-9c5b-b936aa0b1a4b",
   "metadata": {
    "collapsed": true,
    "jupyter": {
     "outputs_hidden": true
    },
    "tags": []
   },
   "outputs": [
    {
     "data": {
      "text/html": [
       "<div>\n",
       "<style scoped>\n",
       "    .dataframe tbody tr th:only-of-type {\n",
       "        vertical-align: middle;\n",
       "    }\n",
       "\n",
       "    .dataframe tbody tr th {\n",
       "        vertical-align: top;\n",
       "    }\n",
       "\n",
       "    .dataframe thead th {\n",
       "        text-align: right;\n",
       "    }\n",
       "</style>\n",
       "<table border=\"1\" class=\"dataframe\">\n",
       "  <thead>\n",
       "    <tr style=\"text-align: right;\">\n",
       "      <th></th>\n",
       "      <th>Book of Business: BOB Name</th>\n",
       "      <th>Account Executive Name</th>\n",
       "      <th>Carrier</th>\n",
       "      <th>NPN AOR</th>\n",
       "      <th>Agent AOR</th>\n",
       "      <th>Internal Agent</th>\n",
       "      <th>NPN Internal Agent</th>\n",
       "      <th>Contact</th>\n",
       "      <th>Policy Number</th>\n",
       "      <th>Source</th>\n",
       "      <th>...</th>\n",
       "      <th>Metal Level</th>\n",
       "      <th>Zip Code</th>\n",
       "      <th>Book of Business: Last Modified Date</th>\n",
       "      <th>Note</th>\n",
       "      <th>Claro Type</th>\n",
       "      <th>Previous BOB ID</th>\n",
       "      <th>Carrier State line of Business</th>\n",
       "      <th>Book of Business: ID</th>\n",
       "      <th>Account Executive</th>\n",
       "      <th>policies</th>\n",
       "    </tr>\n",
       "  </thead>\n",
       "  <tbody>\n",
       "    <tr>\n",
       "      <th>531</th>\n",
       "      <td>BOB# 00000557</td>\n",
       "      <td></td>\n",
       "      <td>Oscar</td>\n",
       "      <td>9110006.0</td>\n",
       "      <td>Francisco Serrano</td>\n",
       "      <td>Francisco Emanuel Serrano</td>\n",
       "      <td>9110006.0</td>\n",
       "      <td>Francisco Emanuel Serrano</td>\n",
       "      <td>OSC05950837-01</td>\n",
       "      <td>Direct</td>\n",
       "      <td>...</td>\n",
       "      <td>Silver</td>\n",
       "      <td>NaN</td>\n",
       "      <td>1/2/2023</td>\n",
       "      <td>NaN</td>\n",
       "      <td>Renewals</td>\n",
       "      <td>NaN</td>\n",
       "      <td>Oscar Florida</td>\n",
       "      <td>a1C1G000007eM7h</td>\n",
       "      <td></td>\n",
       "      <td>1</td>\n",
       "    </tr>\n",
       "    <tr>\n",
       "      <th>533</th>\n",
       "      <td>BOB# 00000559</td>\n",
       "      <td></td>\n",
       "      <td>Oscar</td>\n",
       "      <td>19279907.0</td>\n",
       "      <td>NOMAR SALAS</td>\n",
       "      <td>Nomar  Salas</td>\n",
       "      <td>19279907.0</td>\n",
       "      <td>Nomar Salas</td>\n",
       "      <td>OSC04813929-01</td>\n",
       "      <td>Direct</td>\n",
       "      <td>...</td>\n",
       "      <td>Silver</td>\n",
       "      <td>NaN</td>\n",
       "      <td>1/18/2023</td>\n",
       "      <td>NaN</td>\n",
       "      <td>Renewals</td>\n",
       "      <td>NaN</td>\n",
       "      <td>Oscar Florida</td>\n",
       "      <td>a1C1G000007eM7j</td>\n",
       "      <td></td>\n",
       "      <td>1</td>\n",
       "    </tr>\n",
       "    <tr>\n",
       "      <th>583</th>\n",
       "      <td>BOB# 00000609</td>\n",
       "      <td></td>\n",
       "      <td>Oscar</td>\n",
       "      <td>18294087.0</td>\n",
       "      <td>WANDA IVETTE MATOS - ARROYO</td>\n",
       "      <td>Wanda Ivette Matos</td>\n",
       "      <td>18294087.0</td>\n",
       "      <td>Wanda Ivette Matos</td>\n",
       "      <td>OSC05819800-01</td>\n",
       "      <td>Direct</td>\n",
       "      <td>...</td>\n",
       "      <td>Silver</td>\n",
       "      <td>32825.0</td>\n",
       "      <td>1/11/2023</td>\n",
       "      <td>V-Actualización DtR 10-30</td>\n",
       "      <td>Renewals</td>\n",
       "      <td>NaN</td>\n",
       "      <td>Oscar Florida</td>\n",
       "      <td>a1C1G000007eM8X</td>\n",
       "      <td></td>\n",
       "      <td>1</td>\n",
       "    </tr>\n",
       "    <tr>\n",
       "      <th>615</th>\n",
       "      <td>BOB# 00000641</td>\n",
       "      <td></td>\n",
       "      <td>Oscar</td>\n",
       "      <td>16001347.0</td>\n",
       "      <td>Gamil Kharfan</td>\n",
       "      <td>Wanda Ivette Matos</td>\n",
       "      <td>18294087.0</td>\n",
       "      <td>Wanda Ivette Matos</td>\n",
       "      <td>OSC05821988-01</td>\n",
       "      <td>Referral</td>\n",
       "      <td>...</td>\n",
       "      <td>Silver</td>\n",
       "      <td>34769.0</td>\n",
       "      <td>1/23/2023</td>\n",
       "      <td>NaN</td>\n",
       "      <td>Renewals</td>\n",
       "      <td>BOB# 00007632</td>\n",
       "      <td>Oscar Florida</td>\n",
       "      <td>a1C1G000007eM93</td>\n",
       "      <td></td>\n",
       "      <td>1</td>\n",
       "    </tr>\n",
       "    <tr>\n",
       "      <th>621</th>\n",
       "      <td>BOB# 00000647</td>\n",
       "      <td></td>\n",
       "      <td>Oscar</td>\n",
       "      <td>9110006.0</td>\n",
       "      <td>Francisco Serrano</td>\n",
       "      <td>Francisco Emanuel Serrano</td>\n",
       "      <td>9110006.0</td>\n",
       "      <td>Francisco Emanuel Serrano</td>\n",
       "      <td>OSC05932363-01</td>\n",
       "      <td>Direct</td>\n",
       "      <td>...</td>\n",
       "      <td>Silver</td>\n",
       "      <td>NaN</td>\n",
       "      <td>1/11/2023</td>\n",
       "      <td>NaN</td>\n",
       "      <td>Renewals</td>\n",
       "      <td>NaN</td>\n",
       "      <td>Oscar Florida</td>\n",
       "      <td>a1C1G000007eM99</td>\n",
       "      <td></td>\n",
       "      <td>1</td>\n",
       "    </tr>\n",
       "    <tr>\n",
       "      <th>...</th>\n",
       "      <td>...</td>\n",
       "      <td>...</td>\n",
       "      <td>...</td>\n",
       "      <td>...</td>\n",
       "      <td>...</td>\n",
       "      <td>...</td>\n",
       "      <td>...</td>\n",
       "      <td>...</td>\n",
       "      <td>...</td>\n",
       "      <td>...</td>\n",
       "      <td>...</td>\n",
       "      <td>...</td>\n",
       "      <td>...</td>\n",
       "      <td>...</td>\n",
       "      <td>...</td>\n",
       "      <td>...</td>\n",
       "      <td>...</td>\n",
       "      <td>...</td>\n",
       "      <td>...</td>\n",
       "      <td>...</td>\n",
       "      <td>...</td>\n",
       "    </tr>\n",
       "    <tr>\n",
       "      <th>199689</th>\n",
       "      <td>BOB# 00223103</td>\n",
       "      <td></td>\n",
       "      <td>United Health Care</td>\n",
       "      <td>18796340.0</td>\n",
       "      <td>MEZA BARRETO, MARTHA</td>\n",
       "      <td>Martha  Meza Barreto</td>\n",
       "      <td>18796340.0</td>\n",
       "      <td>Martha Meza Barreto</td>\n",
       "      <td>12560631501</td>\n",
       "      <td>Direct</td>\n",
       "      <td>...</td>\n",
       "      <td>NaN</td>\n",
       "      <td>NaN</td>\n",
       "      <td>1/24/2023</td>\n",
       "      <td>NaN</td>\n",
       "      <td>New Sale</td>\n",
       "      <td>NaN</td>\n",
       "      <td>United Health Care Texas</td>\n",
       "      <td>a1C1G000009UJ06</td>\n",
       "      <td></td>\n",
       "      <td>1</td>\n",
       "    </tr>\n",
       "    <tr>\n",
       "      <th>199690</th>\n",
       "      <td>BOB# 00223104</td>\n",
       "      <td></td>\n",
       "      <td>United Health Care</td>\n",
       "      <td>18796340.0</td>\n",
       "      <td>MEZA BARRETO, MARTHA</td>\n",
       "      <td>Martha  Meza Barreto</td>\n",
       "      <td>18796340.0</td>\n",
       "      <td>Martha Meza Barreto</td>\n",
       "      <td>12560631502</td>\n",
       "      <td>Direct</td>\n",
       "      <td>...</td>\n",
       "      <td>NaN</td>\n",
       "      <td>NaN</td>\n",
       "      <td>1/24/2023</td>\n",
       "      <td>NaN</td>\n",
       "      <td>New Sale</td>\n",
       "      <td>NaN</td>\n",
       "      <td>United Health Care Texas</td>\n",
       "      <td>a1C1G000009UJ07</td>\n",
       "      <td></td>\n",
       "      <td>1</td>\n",
       "    </tr>\n",
       "    <tr>\n",
       "      <th>199736</th>\n",
       "      <td>BOB# 00223171</td>\n",
       "      <td></td>\n",
       "      <td>United Health Care</td>\n",
       "      <td>451611.0</td>\n",
       "      <td>ALPIZAR, ODALYS</td>\n",
       "      <td>Odalys  Alpizar</td>\n",
       "      <td>451611.0</td>\n",
       "      <td>Odalys Alpizar</td>\n",
       "      <td>12442940601</td>\n",
       "      <td>Direct</td>\n",
       "      <td>...</td>\n",
       "      <td>NaN</td>\n",
       "      <td>NaN</td>\n",
       "      <td>1/24/2023</td>\n",
       "      <td>NaN</td>\n",
       "      <td>New Sale</td>\n",
       "      <td>NaN</td>\n",
       "      <td>United Health Care Florida</td>\n",
       "      <td>a1C1G000009UJ1C</td>\n",
       "      <td></td>\n",
       "      <td>1</td>\n",
       "    </tr>\n",
       "    <tr>\n",
       "      <th>199737</th>\n",
       "      <td>BOB# 00223172</td>\n",
       "      <td></td>\n",
       "      <td>United Health Care</td>\n",
       "      <td>451611.0</td>\n",
       "      <td>ALPIZAR, ODALYS</td>\n",
       "      <td>Odalys  Alpizar</td>\n",
       "      <td>451611.0</td>\n",
       "      <td>Odalys Alpizar</td>\n",
       "      <td>12442940602</td>\n",
       "      <td>Direct</td>\n",
       "      <td>...</td>\n",
       "      <td>NaN</td>\n",
       "      <td>NaN</td>\n",
       "      <td>1/24/2023</td>\n",
       "      <td>NaN</td>\n",
       "      <td>New Sale</td>\n",
       "      <td>NaN</td>\n",
       "      <td>United Health Care Florida</td>\n",
       "      <td>a1C1G000009UJ1D</td>\n",
       "      <td></td>\n",
       "      <td>1</td>\n",
       "    </tr>\n",
       "    <tr>\n",
       "      <th>199770</th>\n",
       "      <td>BOB# 00223205</td>\n",
       "      <td></td>\n",
       "      <td>Molina</td>\n",
       "      <td>19445504.0</td>\n",
       "      <td>Yerly Gallardo Lozada</td>\n",
       "      <td>Yerly Gallardo Lozada</td>\n",
       "      <td>19445504.0</td>\n",
       "      <td>Yerly Gallardo Lozada</td>\n",
       "      <td>TXE222364000367</td>\n",
       "      <td>Direct</td>\n",
       "      <td>...</td>\n",
       "      <td>NaN</td>\n",
       "      <td>NaN</td>\n",
       "      <td>1/26/2023</td>\n",
       "      <td>NaN</td>\n",
       "      <td>New Sale</td>\n",
       "      <td>NaN</td>\n",
       "      <td>Molina Texas</td>\n",
       "      <td>a1C1G000009UJ1p</td>\n",
       "      <td></td>\n",
       "      <td>1</td>\n",
       "    </tr>\n",
       "  </tbody>\n",
       "</table>\n",
       "<p>76151 rows × 55 columns</p>\n",
       "</div>"
      ],
      "text/plain": [
       "       Book of Business: BOB Name Account Executive Name             Carrier  \\\n",
       "531                 BOB# 00000557                                      Oscar   \n",
       "533                 BOB# 00000559                                      Oscar   \n",
       "583                 BOB# 00000609                                      Oscar   \n",
       "615                 BOB# 00000641                                      Oscar   \n",
       "621                 BOB# 00000647                                      Oscar   \n",
       "...                           ...                    ...                 ...   \n",
       "199689              BOB# 00223103                         United Health Care   \n",
       "199690              BOB# 00223104                         United Health Care   \n",
       "199736              BOB# 00223171                         United Health Care   \n",
       "199737              BOB# 00223172                         United Health Care   \n",
       "199770              BOB# 00223205                                     Molina   \n",
       "\n",
       "           NPN AOR                    Agent AOR             Internal Agent  \\\n",
       "531      9110006.0            Francisco Serrano  Francisco Emanuel Serrano   \n",
       "533     19279907.0                  NOMAR SALAS               Nomar  Salas   \n",
       "583     18294087.0  WANDA IVETTE MATOS - ARROYO         Wanda Ivette Matos   \n",
       "615     16001347.0                Gamil Kharfan         Wanda Ivette Matos   \n",
       "621      9110006.0            Francisco Serrano  Francisco Emanuel Serrano   \n",
       "...            ...                          ...                        ...   \n",
       "199689  18796340.0         MEZA BARRETO, MARTHA       Martha  Meza Barreto   \n",
       "199690  18796340.0         MEZA BARRETO, MARTHA       Martha  Meza Barreto   \n",
       "199736    451611.0              ALPIZAR, ODALYS            Odalys  Alpizar   \n",
       "199737    451611.0              ALPIZAR, ODALYS            Odalys  Alpizar   \n",
       "199770  19445504.0        Yerly Gallardo Lozada      Yerly Gallardo Lozada   \n",
       "\n",
       "        NPN Internal Agent                    Contact    Policy Number  \\\n",
       "531              9110006.0  Francisco Emanuel Serrano   OSC05950837-01   \n",
       "533             19279907.0                Nomar Salas   OSC04813929-01   \n",
       "583             18294087.0         Wanda Ivette Matos   OSC05819800-01   \n",
       "615             18294087.0         Wanda Ivette Matos   OSC05821988-01   \n",
       "621              9110006.0  Francisco Emanuel Serrano   OSC05932363-01   \n",
       "...                    ...                        ...              ...   \n",
       "199689          18796340.0        Martha Meza Barreto      12560631501   \n",
       "199690          18796340.0        Martha Meza Barreto      12560631502   \n",
       "199736            451611.0             Odalys Alpizar      12442940601   \n",
       "199737            451611.0             Odalys Alpizar      12442940602   \n",
       "199770          19445504.0      Yerly Gallardo Lozada  TXE222364000367   \n",
       "\n",
       "          Source  ...  Metal Level Zip Code  \\\n",
       "531       Direct  ...       Silver      NaN   \n",
       "533       Direct  ...       Silver      NaN   \n",
       "583       Direct  ...       Silver  32825.0   \n",
       "615     Referral  ...       Silver  34769.0   \n",
       "621       Direct  ...       Silver      NaN   \n",
       "...          ...  ...          ...      ...   \n",
       "199689    Direct  ...          NaN      NaN   \n",
       "199690    Direct  ...          NaN      NaN   \n",
       "199736    Direct  ...          NaN      NaN   \n",
       "199737    Direct  ...          NaN      NaN   \n",
       "199770    Direct  ...          NaN      NaN   \n",
       "\n",
       "       Book of Business: Last Modified Date                       Note  \\\n",
       "531                                1/2/2023                        NaN   \n",
       "533                               1/18/2023                        NaN   \n",
       "583                               1/11/2023  V-Actualización DtR 10-30   \n",
       "615                               1/23/2023                        NaN   \n",
       "621                               1/11/2023                        NaN   \n",
       "...                                     ...                        ...   \n",
       "199689                            1/24/2023                        NaN   \n",
       "199690                            1/24/2023                        NaN   \n",
       "199736                            1/24/2023                        NaN   \n",
       "199737                            1/24/2023                        NaN   \n",
       "199770                            1/26/2023                        NaN   \n",
       "\n",
       "       Claro Type Previous BOB ID Carrier State line of Business  \\\n",
       "531      Renewals             NaN                  Oscar Florida   \n",
       "533      Renewals             NaN                  Oscar Florida   \n",
       "583      Renewals             NaN                  Oscar Florida   \n",
       "615      Renewals   BOB# 00007632                  Oscar Florida   \n",
       "621      Renewals             NaN                  Oscar Florida   \n",
       "...           ...             ...                            ...   \n",
       "199689   New Sale             NaN       United Health Care Texas   \n",
       "199690   New Sale             NaN       United Health Care Texas   \n",
       "199736   New Sale             NaN     United Health Care Florida   \n",
       "199737   New Sale             NaN     United Health Care Florida   \n",
       "199770   New Sale             NaN                   Molina Texas   \n",
       "\n",
       "       Book of Business: ID  Account Executive policies  \n",
       "531         a1C1G000007eM7h                           1  \n",
       "533         a1C1G000007eM7j                           1  \n",
       "583         a1C1G000007eM8X                           1  \n",
       "615         a1C1G000007eM93                           1  \n",
       "621         a1C1G000007eM99                           1  \n",
       "...                     ...                ...      ...  \n",
       "199689      a1C1G000009UJ06                           1  \n",
       "199690      a1C1G000009UJ07                           1  \n",
       "199736      a1C1G000009UJ1C                           1  \n",
       "199737      a1C1G000009UJ1D                           1  \n",
       "199770      a1C1G000009UJ1p                           1  \n",
       "\n",
       "[76151 rows x 55 columns]"
      ]
     },
     "execution_count": 100,
     "metadata": {},
     "output_type": "execute_result"
    }
   ],
   "source": [
    "df[df['Effective Date'] == '1/1/2023']"
   ]
  },
  {
   "cell_type": "code",
   "execution_count": 15,
   "id": "30d3a0c7-ae4f-445d-aa07-ef47029b99cd",
   "metadata": {},
   "outputs": [
    {
     "data": {
      "text/plain": [
       "(5, 54)"
      ]
     },
     "execution_count": 15,
     "metadata": {},
     "output_type": "execute_result"
    }
   ],
   "source": [
    "df[(df['Status'] == 'Approved')&(df['Line of Business'] == 'Life')].shape"
   ]
  },
  {
   "cell_type": "code",
   "execution_count": 52,
   "id": "2ccec7ad-242c-4f15-afab-29f7e5f1f75f",
   "metadata": {},
   "outputs": [
    {
     "data": {
      "text/plain": [
       "(4,)"
      ]
     },
     "execution_count": 52,
     "metadata": {},
     "output_type": "execute_result"
    }
   ],
   "source": [
    "df[(df['Carrier'] == 'Senior Life') & (df['State'] == 'Florida')]['Annual Premium'].shape"
   ]
  },
  {
   "cell_type": "code",
   "execution_count": 69,
   "id": "631f7352-6236-4fc5-8dc2-2ced976a3461",
   "metadata": {},
   "outputs": [
    {
     "data": {
      "text/plain": [
       "45643.04"
      ]
     },
     "execution_count": 69,
     "metadata": {},
     "output_type": "execute_result"
    }
   ],
   "source": [
    "round(df[(df['Carrier'] == 'National Life') & (df['State'] == 'Texas') &(df['Line of Business'] == 'Life')]['Annual Premium'].sum(), 2)"
   ]
  },
  {
   "cell_type": "code",
   "execution_count": 78,
   "id": "d620f2cc-3746-4be3-afc9-cfa97e6866d6",
   "metadata": {},
   "outputs": [
    {
     "data": {
      "text/plain": [
       "(1, 54)"
      ]
     },
     "execution_count": 78,
     "metadata": {},
     "output_type": "execute_result"
    }
   ],
   "source": [
    "df[(df['State'] == 'Tennessee') &(df['Line of Business'] == 'Life')].shape"
   ]
  },
  {
   "cell_type": "code",
   "execution_count": 84,
   "id": "6602e1c5-2888-4dc0-b897-44aa176b4a6c",
   "metadata": {},
   "outputs": [],
   "source": [
    "df['policies'] = 1"
   ]
  },
  {
   "cell_type": "code",
   "execution_count": 96,
   "id": "666fb164-b4ea-4f70-b4c6-f65c7b2bc11e",
   "metadata": {},
   "outputs": [
    {
     "data": {
      "text/html": [
       "<div>\n",
       "<style scoped>\n",
       "    .dataframe tbody tr th:only-of-type {\n",
       "        vertical-align: middle;\n",
       "    }\n",
       "\n",
       "    .dataframe tbody tr th {\n",
       "        vertical-align: top;\n",
       "    }\n",
       "\n",
       "    .dataframe thead th {\n",
       "        text-align: right;\n",
       "    }\n",
       "</style>\n",
       "<table border=\"1\" class=\"dataframe\">\n",
       "  <thead>\n",
       "    <tr style=\"text-align: right;\">\n",
       "      <th></th>\n",
       "      <th>policies</th>\n",
       "    </tr>\n",
       "    <tr>\n",
       "      <th>Agency</th>\n",
       "      <th></th>\n",
       "    </tr>\n",
       "  </thead>\n",
       "  <tbody>\n",
       "    <tr>\n",
       "      <th>Prestige Insurance Consultant</th>\n",
       "      <td>355</td>\n",
       "    </tr>\n",
       "    <tr>\n",
       "      <th>Elite Insurance Agents Corp</th>\n",
       "      <td>193</td>\n",
       "    </tr>\n",
       "    <tr>\n",
       "      <th>Universal Insurance agency 360 Corp</th>\n",
       "      <td>127</td>\n",
       "    </tr>\n",
       "    <tr>\n",
       "      <th>Advisors 4LIfe</th>\n",
       "      <td>101</td>\n",
       "    </tr>\n",
       "    <tr>\n",
       "      <th>Claro Insurance</th>\n",
       "      <td>100</td>\n",
       "    </tr>\n",
       "    <tr>\n",
       "      <th>Janeth Isea</th>\n",
       "      <td>49</td>\n",
       "    </tr>\n",
       "    <tr>\n",
       "      <th>Florida Global Insurance</th>\n",
       "      <td>42</td>\n",
       "    </tr>\n",
       "    <tr>\n",
       "      <th>Comfort Insurance</th>\n",
       "      <td>40</td>\n",
       "    </tr>\n",
       "    <tr>\n",
       "      <th>Solutions Advisor Insurance INC</th>\n",
       "      <td>32</td>\n",
       "    </tr>\n",
       "    <tr>\n",
       "      <th>2Easy Insurance</th>\n",
       "      <td>28</td>\n",
       "    </tr>\n",
       "    <tr>\n",
       "      <th>A&amp;G Salas Financial Services LLC</th>\n",
       "      <td>25</td>\n",
       "    </tr>\n",
       "    <tr>\n",
       "      <th>Dvarela Insurance</th>\n",
       "      <td>19</td>\n",
       "    </tr>\n",
       "    <tr>\n",
       "      <th>Horizonte Insurance (comfort)</th>\n",
       "      <td>18</td>\n",
       "    </tr>\n",
       "    <tr>\n",
       "      <th>Standard Health</th>\n",
       "      <td>17</td>\n",
       "    </tr>\n",
       "    <tr>\n",
       "      <th>S&amp;Y GROUP, LLC.</th>\n",
       "      <td>14</td>\n",
       "    </tr>\n",
       "    <tr>\n",
       "      <th>Marcano Group</th>\n",
       "      <td>14</td>\n",
       "    </tr>\n",
       "    <tr>\n",
       "      <th>Salto Angel's</th>\n",
       "      <td>12</td>\n",
       "    </tr>\n",
       "    <tr>\n",
       "      <th>Vive Seguro- Prestige</th>\n",
       "      <td>11</td>\n",
       "    </tr>\n",
       "    <tr>\n",
       "      <th>The Family Legacy Agency, Inc.</th>\n",
       "      <td>7</td>\n",
       "    </tr>\n",
       "    <tr>\n",
       "      <th>Reggs Multiservices LLC</th>\n",
       "      <td>5</td>\n",
       "    </tr>\n",
       "    <tr>\n",
       "      <th>La Vita Insurance</th>\n",
       "      <td>4</td>\n",
       "    </tr>\n",
       "    <tr>\n",
       "      <th>Latin Pro Insurance</th>\n",
       "      <td>4</td>\n",
       "    </tr>\n",
       "    <tr>\n",
       "      <th>Insurance Crp, Bortec</th>\n",
       "      <td>3</td>\n",
       "    </tr>\n",
       "    <tr>\n",
       "      <th>Triple Zero Accounting &amp; Financial Services (comfort)</th>\n",
       "      <td>2</td>\n",
       "    </tr>\n",
       "    <tr>\n",
       "      <th>Edxa Group Life and Health LLC</th>\n",
       "      <td>2</td>\n",
       "    </tr>\n",
       "    <tr>\n",
       "      <th>Red Insurance Solutions</th>\n",
       "      <td>1</td>\n",
       "    </tr>\n",
       "    <tr>\n",
       "      <th>Kleve US</th>\n",
       "      <td>1</td>\n",
       "    </tr>\n",
       "    <tr>\n",
       "      <th>Security Tax and Insurance Services</th>\n",
       "      <td>1</td>\n",
       "    </tr>\n",
       "    <tr>\n",
       "      <th>Seguros el Triunfo</th>\n",
       "      <td>1</td>\n",
       "    </tr>\n",
       "    <tr>\n",
       "      <th>HappaLife</th>\n",
       "      <td>1</td>\n",
       "    </tr>\n",
       "    <tr>\n",
       "      <th>Trebol Insurance, LLC</th>\n",
       "      <td>1</td>\n",
       "    </tr>\n",
       "  </tbody>\n",
       "</table>\n",
       "</div>"
      ],
      "text/plain": [
       "                                                    policies\n",
       "Agency                                                      \n",
       "Prestige Insurance Consultant                            355\n",
       "Elite Insurance Agents Corp                              193\n",
       "Universal Insurance agency 360 Corp                      127\n",
       "Advisors 4LIfe                                           101\n",
       "Claro Insurance                                          100\n",
       "Janeth Isea                                               49\n",
       "Florida Global Insurance                                  42\n",
       "Comfort Insurance                                         40\n",
       "Solutions Advisor Insurance INC                           32\n",
       "2Easy Insurance                                           28\n",
       "A&G Salas Financial Services LLC                          25\n",
       "Dvarela Insurance                                         19\n",
       "Horizonte Insurance (comfort)                             18\n",
       "Standard Health                                           17\n",
       "S&Y GROUP, LLC.                                           14\n",
       "Marcano Group                                             14\n",
       "Salto Angel's                                             12\n",
       "Vive Seguro- Prestige                                     11\n",
       "The Family Legacy Agency, Inc.                             7\n",
       "Reggs Multiservices LLC                                    5\n",
       "La Vita Insurance                                          4\n",
       "Latin Pro Insurance                                        4\n",
       "Insurance Crp, Bortec                                      3\n",
       "Triple Zero Accounting & Financial Services (co...         2\n",
       "Edxa Group Life and Health LLC                             2\n",
       "Red Insurance Solutions                                    1\n",
       "Kleve US                                                   1\n",
       "Security Tax and Insurance Services                        1\n",
       "Seguros el Triunfo                                         1\n",
       "HappaLife                                                  1\n",
       "Trebol Insurance, LLC                                      1"
      ]
     },
     "execution_count": 96,
     "metadata": {},
     "output_type": "execute_result"
    }
   ],
   "source": [
    "df[df['Line of Business'] == 'Life'].groupby('Agency').count()[['policies']].sort_values(by='policies', ascending=False).head(50)"
   ]
  }
 ],
 "metadata": {
  "kernelspec": {
   "display_name": "Python [conda env:ia]",
   "language": "python",
   "name": "conda-env-ia-py"
  },
  "language_info": {
   "codemirror_mode": {
    "name": "ipython",
    "version": 3
   },
   "file_extension": ".py",
   "mimetype": "text/x-python",
   "name": "python",
   "nbconvert_exporter": "python",
   "pygments_lexer": "ipython3",
   "version": "3.8.8"
  }
 },
 "nbformat": 4,
 "nbformat_minor": 5
}
